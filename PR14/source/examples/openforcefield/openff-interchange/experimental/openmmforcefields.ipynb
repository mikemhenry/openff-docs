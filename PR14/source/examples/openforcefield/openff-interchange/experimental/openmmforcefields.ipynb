{
 "cells": [
  {
   "cell_type": "markdown",
   "id": "48573107-c474-4581-86aa-99d472b02b7b",
   "metadata": {},
   "source": [
    "# Preparing a ligand with `openmmforcefields` and Interchange\n",
    "\n",
    "[`openmmforcefields`](https://github.com/openmm/openmmforcefields) is a Python package that provides OpenMM implementations of some small molecule force fields via small molecule template generators."
   ]
  },
  {
   "cell_type": "markdown",
   "id": "c52ad25b",
   "metadata": {},
   "source": [
    "## Validating the implementation of SMIRNOFF force fields\n",
    "\n",
    "`openmmforcefields` provides SMIRNOFF force fields via its infrastructure, internally calling the OpenFF Toolkit and using SMIRNOFF force fields provided by its `ForceField` class. Before doing novel things, let's validate that this implementation provides the same result as directly using OpenFF tools."
   ]
  },
  {
   "cell_type": "code",
   "execution_count": 1,
   "id": "99287eb8-2245-4f6a-b9e3-d664f52c73f0",
   "metadata": {
    "execution": {
     "iopub.execute_input": "2023-07-05T09:51:30.804155Z",
     "iopub.status.busy": "2023-07-05T09:51:30.803656Z",
     "iopub.status.idle": "2023-07-05T09:51:40.027761Z",
     "shell.execute_reply": "2023-07-05T09:51:40.026874Z"
    }
   },
   "outputs": [
    {
     "data": {
      "application/vnd.jupyter.widget-view+json": {
       "model_id": "787dd12e91094b3a92c09282eabd6ae0",
       "version_major": 2,
       "version_minor": 0
      },
      "text/plain": []
     },
     "metadata": {},
     "output_type": "display_data"
    }
   ],
   "source": [
    "from openff.toolkit import Molecule\n",
    "from openff.units import unit\n",
    "from openff.units.openmm import ensure_quantity\n",
    "from openmm.app import ForceField as OpenMMForceField\n",
    "from openmmforcefields.generators import SMIRNOFFTemplateGenerator\n",
    "\n",
    "molecule = Molecule.from_smiles(\"O=S(=O)(N)c1c(Cl)cc2c(c1)S(=O)(=O)NCN2\")\n",
    "molecule.generate_conformers(n_conformers=1)\n",
    "\n",
    "topology = molecule.to_topology()\n",
    "topology.box_vectors = unit.Quantity([4, 4, 4], unit.nanometer)\n",
    "\n",
    "smirnoff = SMIRNOFFTemplateGenerator(molecules=molecule)\n",
    "forcefield = OpenMMForceField()\n",
    "forcefield.registerTemplateGenerator(smirnoff.generator)\n",
    "\n",
    "system = forcefield.createSystem(\n",
    "    topology.to_openmm(),\n",
    "    nonbondedCutoff=ensure_quantity(0.9 * unit.nanometer, \"openmm\"),\n",
    "    switchDistance=ensure_quantity(0.8 * unit.nanometer, \"openmm\"),\n",
    ")"
   ]
  },
  {
   "cell_type": "markdown",
   "id": "c3c2140f",
   "metadata": {},
   "source": [
    "`openmmforcefields` has provided us an (OpenMM) force field with SMIRNOFF parameters included as a template generator. The end goal of this setup is to create an `openmm.System`, which we can get a single-point energy of."
   ]
  },
  {
   "cell_type": "code",
   "execution_count": 2,
   "id": "ed5fc47c",
   "metadata": {
    "execution": {
     "iopub.execute_input": "2023-07-05T09:51:40.033869Z",
     "iopub.status.busy": "2023-07-05T09:51:40.032314Z",
     "iopub.status.idle": "2023-07-05T09:51:40.380854Z",
     "shell.execute_reply": "2023-07-05T09:51:40.380044Z"
    }
   },
   "outputs": [
    {
     "data": {
      "text/plain": [
       "EnergyReport(energies={'Bond': <Quantity(34.5182169, 'kilojoule / mole')>, 'Angle': <Quantity(185.281577, 'kilojoule / mole')>, 'Torsion': <Quantity(39.0514253, 'kilojoule / mole')>, 'Electrostatics': <Quantity(-2026.02144, 'kilojoule / mole')>, 'vdW': <Quantity(0.0, 'kilojoule / mole')>})"
      ]
     },
     "execution_count": 2,
     "metadata": {},
     "output_type": "execute_result"
    }
   ],
   "source": [
    "from openff.units import unit\n",
    "from openff.units.openmm import ensure_quantity\n",
    "\n",
    "from openff.interchange.drivers.openmm import _get_openmm_energies, _process\n",
    "\n",
    "energy_openmmforcefields = _process(\n",
    "    _get_openmm_energies(\n",
    "        system,\n",
    "        box_vectors=None,\n",
    "        positions=ensure_quantity(molecule.conformers[0], \"openmm\"),\n",
    "        round_positions=None,\n",
    "        platform=\"Reference\",\n",
    "    ),\n",
    "    system=system,\n",
    "    combine_nonbonded_forces=False,\n",
    "    detailed=False,\n",
    ")\n",
    "\n",
    "energy_openmmforcefields"
   ]
  },
  {
   "cell_type": "markdown",
   "id": "a8e20911",
   "metadata": {},
   "source": [
    "We can compare this to an analogous series of operations that use OpenFF tools (the toolkit's `ForceField` class and Interchange) to create an `openmm.System` that one would hope has identical contents."
   ]
  },
  {
   "cell_type": "code",
   "execution_count": 3,
   "id": "119b5037",
   "metadata": {
    "execution": {
     "iopub.execute_input": "2023-07-05T09:51:40.386545Z",
     "iopub.status.busy": "2023-07-05T09:51:40.385047Z",
     "iopub.status.idle": "2023-07-05T09:51:41.114629Z",
     "shell.execute_reply": "2023-07-05T09:51:41.113804Z"
    }
   },
   "outputs": [
    {
     "data": {
      "text/plain": [
       "EnergyReport(energies={'Bond': <Quantity(34.5182169, 'kilojoule / mole')>, 'Angle': <Quantity(185.281577, 'kilojoule / mole')>, 'Torsion': <Quantity(39.0514253, 'kilojoule / mole')>, 'Nonbonded': <Quantity(-2026.02279, 'kilojoule / mole')>})"
      ]
     },
     "execution_count": 3,
     "metadata": {},
     "output_type": "execute_result"
    }
   ],
   "source": [
    "from openff.toolkit import ForceField\n",
    "\n",
    "from openff.interchange import Interchange\n",
    "from openff.interchange.drivers.openmm import get_openmm_energies\n",
    "\n",
    "sage = ForceField(\"openff_unconstrained-2.0.0.offxml\")\n",
    "interchange = Interchange.from_smirnoff(sage, [molecule])\n",
    "\n",
    "energy_openff = get_openmm_energies(interchange)\n",
    "\n",
    "energy_openff"
   ]
  },
  {
   "cell_type": "markdown",
   "id": "ca452189",
   "metadata": {},
   "source": [
    "Manually inspecting the energies shows zero or marginal differences between them. We can also programmically compare these `EnergyReport` objects with `.compare`, which raises an error if there are significant differences, or `.diff`, which reports differences whether or not they are significant.\n",
    "\n",
    "In this case, valence energies are exact to nearly machine precision. Non-bonded energies differ slightly due to approximations in how electrostatics are handled with PME."
   ]
  },
  {
   "cell_type": "code",
   "execution_count": 4,
   "id": "2da9cd1e",
   "metadata": {
    "execution": {
     "iopub.execute_input": "2023-07-05T09:51:41.120235Z",
     "iopub.status.busy": "2023-07-05T09:51:41.118895Z",
     "iopub.status.idle": "2023-07-05T09:51:41.128973Z",
     "shell.execute_reply": "2023-07-05T09:51:41.128248Z"
    }
   },
   "outputs": [
    {
     "data": {
      "text/plain": [
       "{'Bond': -4.973799150320701e-14 <Unit('kilojoule / mole')>,\n",
       " 'Angle': 1.1368683772161603e-13 <Unit('kilojoule / mole')>,\n",
       " 'Torsion': 0.0 <Unit('kilojoule / mole')>,\n",
       " 'Nonbonded': -0.001349857894865636 <Unit('kilojoule / mole')>}"
      ]
     },
     "execution_count": 4,
     "metadata": {},
     "output_type": "execute_result"
    }
   ],
   "source": [
    "energy_openff.compare(\n",
    "    energy_openmmforcefields,\n",
    "    {\"Nonbonded\": 0.002 * unit.kilojoule_per_mole},\n",
    ")\n",
    "\n",
    "energy_openff.diff(energy_openmmforcefields)"
   ]
  },
  {
   "cell_type": "markdown",
   "id": "227e8f34",
   "metadata": {},
   "source": [
    "## Comparing to GAFF parametrization\n",
    "\n",
    "`openmmforcefields` also provides a (partial) implementation of GAFF, using AM1-BCC in place of RESP to generate partial charges. The API for using `GAFFTemplateGenerator` is analogous to using `SMIRNOFFTemplateGenerator`."
   ]
  },
  {
   "cell_type": "code",
   "execution_count": 5,
   "id": "ea6189df",
   "metadata": {
    "execution": {
     "iopub.execute_input": "2023-07-05T09:51:41.134229Z",
     "iopub.status.busy": "2023-07-05T09:51:41.132960Z",
     "iopub.status.idle": "2023-07-05T09:51:50.506284Z",
     "shell.execute_reply": "2023-07-05T09:51:50.501803Z"
    }
   },
   "outputs": [
    {
     "name": "stderr",
     "output_type": "stream",
     "text": [
      "Warning: importing 'simtk.openmm' is deprecated.  Import 'openmm' instead.\n"
     ]
    }
   ],
   "source": [
    "from openmm.app import PME\n",
    "from openmmforcefields.generators import GAFFTemplateGenerator\n",
    "\n",
    "gaff = GAFFTemplateGenerator(molecules=molecule)\n",
    "forcefield_gaff = OpenMMForceField()\n",
    "forcefield_gaff.registerTemplateGenerator(gaff.generator)\n",
    "\n",
    "system_gaff = forcefield_gaff.createSystem(\n",
    "    topology=topology.to_openmm(),\n",
    "    nonbondedMethod=PME,\n",
    ")"
   ]
  },
  {
   "cell_type": "markdown",
   "id": "4495002b",
   "metadata": {},
   "source": [
    "From here, one could use `from_openmm` to import this `openmm.System` into an `Interchange` object, which then could be combined with other `Interchange` objects generated by different paths."
   ]
  },
  {
   "cell_type": "code",
   "execution_count": 6,
   "id": "22639ad4",
   "metadata": {
    "execution": {
     "iopub.execute_input": "2023-07-05T09:51:50.512848Z",
     "iopub.status.busy": "2023-07-05T09:51:50.511433Z",
     "iopub.status.idle": "2023-07-05T09:51:50.678621Z",
     "shell.execute_reply": "2023-07-05T09:51:50.677583Z"
    }
   },
   "outputs": [
    {
     "data": {
      "text/plain": [
       "Interchange with 5 collections, non-periodic topology with 25 atoms."
      ]
     },
     "execution_count": 6,
     "metadata": {},
     "output_type": "execute_result"
    }
   ],
   "source": [
    "from openff.interchange.interop.openmm import from_openmm\n",
    "\n",
    "from_openmm(\n",
    "    molecule.to_topology().to_openmm(),\n",
    "    system_gaff,\n",
    "    box_vectors=None,\n",
    "    positions=ensure_quantity(molecule.conformers[0], \"openmm\"),\n",
    ")"
   ]
  }
 ],
 "metadata": {
  "category": "parametrization_evaluation",
  "kernelspec": {
   "display_name": "Python 3 (ipykernel)",
   "language": "python",
   "name": "python3"
  },
  "language_info": {
   "codemirror_mode": {
    "name": "ipython",
    "version": 3
   },
   "file_extension": ".py",
   "mimetype": "text/x-python",
   "name": "python",
   "nbconvert_exporter": "python",
   "pygments_lexer": "ipython3",
   "version": "3.10.12"
  },
  "src_repo_tag": "v0.3.7",
  "vscode": {
   "interpreter": {
    "hash": "86c9b142c8dc60dd36d17e2a57efabbd2ed015b9d3db80dd77f3e0894d5aea85"
   }
  },
  "widgets": {
   "application/vnd.jupyter.widget-state+json": {
    "state": {
     "3469ef4c710c48c3870f940d55044301": {
      "model_module": "@jupyter-widgets/base",
      "model_module_version": "2.0.0",
      "model_name": "LayoutModel",
      "state": {
       "_model_module": "@jupyter-widgets/base",
       "_model_module_version": "2.0.0",
       "_model_name": "LayoutModel",
       "_view_count": null,
       "_view_module": "@jupyter-widgets/base",
       "_view_module_version": "2.0.0",
       "_view_name": "LayoutView",
       "align_content": null,
       "align_items": null,
       "align_self": null,
       "border_bottom": null,
       "border_left": null,
       "border_right": null,
       "border_top": null,
       "bottom": null,
       "display": null,
       "flex": null,
       "flex_flow": null,
       "grid_area": null,
       "grid_auto_columns": null,
       "grid_auto_flow": null,
       "grid_auto_rows": null,
       "grid_column": null,
       "grid_gap": null,
       "grid_row": null,
       "grid_template_areas": null,
       "grid_template_columns": null,
       "grid_template_rows": null,
       "height": null,
       "justify_content": null,
       "justify_items": null,
       "left": null,
       "margin": null,
       "max_height": null,
       "max_width": null,
       "min_height": null,
       "min_width": null,
       "object_fit": null,
       "object_position": null,
       "order": null,
       "overflow": null,
       "padding": null,
       "right": null,
       "top": null,
       "visibility": null,
       "width": null
      }
     },
     "787dd12e91094b3a92c09282eabd6ae0": {
      "model_module": "nglview-js-widgets",
      "model_module_version": "3.0.6",
      "model_name": "ColormakerRegistryModel",
      "state": {
       "_dom_classes": [],
       "_model_module": "nglview-js-widgets",
       "_model_module_version": "3.0.6",
       "_model_name": "ColormakerRegistryModel",
       "_msg_ar": [],
       "_msg_q": [],
       "_ready": false,
       "_view_count": null,
       "_view_module": "nglview-js-widgets",
       "_view_module_version": "3.0.6",
       "_view_name": "ColormakerRegistryView",
       "layout": "IPY_MODEL_3469ef4c710c48c3870f940d55044301",
       "tabbable": null,
       "tooltip": null
      }
     }
    },
    "version_major": 2,
    "version_minor": 0
   }
  }
 },
 "nbformat": 4,
 "nbformat_minor": 5
}
