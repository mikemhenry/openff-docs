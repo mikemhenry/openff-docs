{
 "cells": [
  {
   "cell_type": "markdown",
   "metadata": {},
   "source": [
    "# Visualizations in the OpenFF Toolkit"
   ]
  },
  {
   "cell_type": "markdown",
   "metadata": {},
   "source": [
    "Toolkit [`Molecule`] objects provide some facilities for visualization in the Jupyter Notebook. This can be very useful for inspecting molecules and topologies!\n",
    "\n",
    "We have implemented three backends:\n",
    "- rdkit\n",
    "- openeye\n",
    "- nglview (requires conformers)\n",
    "\n",
    "There are two ways to invoke the visualization:\n",
    "- implicitly, by _evaluating_ the object in a cell\n",
    "- explicitly, by calling [`Molecule.visualize()`]\n",
    "\n",
    "[`Molecule.visualize()`]: https://docs.openforcefield.org/projects/toolkit/en/stable/api/generated/openff.toolkit.topology.Molecule.html#openff.toolkit.topology.Molecule.visualize\n",
    "[`Molecule`]: https://docs.openforcefield.org/projects/toolkit/en/stable/api/generated/openff.toolkit.topology.Molecule.html"
   ]
  },
  {
   "cell_type": "markdown",
   "metadata": {},
   "source": [
    "<details><summary>Troubleshooting if NGLView doesn't work</summary>\n",
    "This notebook below demonstrates usage of <code>nglview</code> with <code>openforcefield</code>. This can be tricky to get working. You may need to run an additional command after creating the Conda environment.\n",
    "    \n",
    "To configure for use with Jupyter Notebooks:\n",
    "\n",
    "<pre>\n",
    "    jupyter-nbextension enable nglview --py --sys-prefix\n",
    "</pre>\n",
    "<br />\n",
    "\n",
    "To use with Jupyter Lab, configure with:\n",
    "\n",
    "<pre>\n",
    "    jupyter labextension install  nglview-js-widgets\n",
    "    jupyter-labextension install @jupyter-widgets/jupyterlab-manager\n",
    "</pre>\n",
    "<br />\n",
    "\n",
    "For NGLView ≥ 3.0.0, the above should not be necessary; however, it is not yet compatible with Jupyter Lab ≥ 4.0.0.\n",
    "</details>"
   ]
  },
  {
   "cell_type": "code",
   "execution_count": 1,
   "metadata": {
    "execution": {
     "iopub.execute_input": "2023-07-05T09:31:52.201218Z",
     "iopub.status.busy": "2023-07-05T09:31:52.200960Z",
     "iopub.status.idle": "2023-07-05T09:31:52.863938Z",
     "shell.execute_reply": "2023-07-05T09:31:52.863071Z"
    }
   },
   "outputs": [],
   "source": [
    "from openff.toolkit import Molecule"
   ]
  },
  {
   "cell_type": "markdown",
   "metadata": {},
   "source": [
    "## Implicit visualization\n",
    "\n",
    "_Implicit_ visualization will try to use `nglview` if there are conformers and fall back to `rdkit` and `openeye` (in that order) if they are not available."
   ]
  },
  {
   "cell_type": "code",
   "execution_count": 2,
   "metadata": {
    "execution": {
     "iopub.execute_input": "2023-07-05T09:31:52.870740Z",
     "iopub.status.busy": "2023-07-05T09:31:52.868668Z",
     "iopub.status.idle": "2023-07-05T09:31:52.977535Z",
     "shell.execute_reply": "2023-07-05T09:31:52.976773Z"
    }
   },
   "outputs": [
    {
     "data": {
      "application/vnd.jupyter.widget-view+json": {
       "model_id": "b7f80d746d04471db7134e25a287a16a",
       "version_major": 2,
       "version_minor": 0
      },
      "text/plain": []
     },
     "metadata": {},
     "output_type": "display_data"
    },
    {
     "data": {
      "image/svg+xml": [
       "<svg xmlns=\"http://www.w3.org/2000/svg\" xmlns:rdkit=\"http://www.rdkit.org/xml\" xmlns:xlink=\"http://www.w3.org/1999/xlink\" version=\"1.1\" baseProfile=\"full\" xml:space=\"preserve\" width=\"500px\" height=\"300px\" viewBox=\"0 0 500 300\">\n",
       "<!-- END OF HEADER -->\n",
       "<rect style=\"opacity:1.0;fill:#FFFFFF;stroke:none\" width=\"500.0\" height=\"300.0\" x=\"0.0\" y=\"0.0\"> </rect>\n",
       "<path class=\"bond-0 atom-0 atom-1\" d=\"M 110.8,209.0 L 166.2,177.3\" style=\"fill:none;fill-rule:evenodd;stroke:#000000;stroke-width:2.0px;stroke-linecap:butt;stroke-linejoin:miter;stroke-opacity:1\"/>\n",
       "<path class=\"bond-1 atom-1 atom-2\" d=\"M 166.2,177.3 L 221.1,209.2\" style=\"fill:none;fill-rule:evenodd;stroke:#000000;stroke-width:2.0px;stroke-linecap:butt;stroke-linejoin:miter;stroke-opacity:1\"/>\n",
       "<path class=\"bond-2 atom-2 atom-3\" d=\"M 221.1,209.2 L 276.2,177.5\" style=\"fill:none;fill-rule:evenodd;stroke:#000000;stroke-width:2.0px;stroke-linecap:butt;stroke-linejoin:miter;stroke-opacity:1\"/>\n",
       "<path class=\"bond-3 atom-3 atom-4\" d=\"M 276.2,177.5 L 276.6,153.9\" style=\"fill:none;fill-rule:evenodd;stroke:#000000;stroke-width:2.0px;stroke-linecap:butt;stroke-linejoin:miter;stroke-opacity:1\"/>\n",
       "<path class=\"bond-3 atom-3 atom-4\" d=\"M 276.6,153.9 L 276.9,130.3\" style=\"fill:none;fill-rule:evenodd;stroke:#FF0000;stroke-width:2.0px;stroke-linecap:butt;stroke-linejoin:miter;stroke-opacity:1\"/>\n",
       "<path class=\"bond-4 atom-4 atom-5\" d=\"M 291.7,105.9 L 312.4,94.3\" style=\"fill:none;fill-rule:evenodd;stroke:#FF0000;stroke-width:2.0px;stroke-linecap:butt;stroke-linejoin:miter;stroke-opacity:1\"/>\n",
       "<path class=\"bond-4 atom-4 atom-5\" d=\"M 312.4,94.3 L 333.2,82.8\" style=\"fill:none;fill-rule:evenodd;stroke:#000000;stroke-width:2.0px;stroke-linecap:butt;stroke-linejoin:miter;stroke-opacity:1\"/>\n",
       "<path class=\"bond-5 atom-5 atom-6\" d=\"M 333.2,82.8 L 389.3,115.4\" style=\"fill:none;fill-rule:evenodd;stroke:#000000;stroke-width:2.0px;stroke-linecap:butt;stroke-linejoin:miter;stroke-opacity:1\"/>\n",
       "<path class=\"bond-6 atom-0 atom-7\" d=\"M 110.8,209.0 L 88.1,169.2\" style=\"fill:none;fill-rule:evenodd;stroke:#000000;stroke-width:2.0px;stroke-linecap:butt;stroke-linejoin:miter;stroke-opacity:1\"/>\n",
       "<path class=\"bond-7 atom-0 atom-8\" d=\"M 110.8,209.0 L 59.7,208.7\" style=\"fill:none;fill-rule:evenodd;stroke:#000000;stroke-width:2.0px;stroke-linecap:butt;stroke-linejoin:miter;stroke-opacity:1\"/>\n",
       "<path class=\"bond-8 atom-0 atom-9\" d=\"M 110.8,209.0 L 110.5,257.1\" style=\"fill:none;fill-rule:evenodd;stroke:#000000;stroke-width:2.0px;stroke-linecap:butt;stroke-linejoin:miter;stroke-opacity:1\"/>\n",
       "<path class=\"bond-9 atom-1 atom-10\" d=\"M 166.2,177.3 L 189.2,137.8\" style=\"fill:none;fill-rule:evenodd;stroke:#000000;stroke-width:2.0px;stroke-linecap:butt;stroke-linejoin:miter;stroke-opacity:1\"/>\n",
       "<path class=\"bond-10 atom-1 atom-11\" d=\"M 166.2,177.3 L 143.5,137.6\" style=\"fill:none;fill-rule:evenodd;stroke:#000000;stroke-width:2.0px;stroke-linecap:butt;stroke-linejoin:miter;stroke-opacity:1\"/>\n",
       "<path class=\"bond-11 atom-2 atom-12\" d=\"M 221.1,209.2 L 198.1,248.8\" style=\"fill:none;fill-rule:evenodd;stroke:#000000;stroke-width:2.0px;stroke-linecap:butt;stroke-linejoin:miter;stroke-opacity:1\"/>\n",
       "<path class=\"bond-12 atom-2 atom-13\" d=\"M 221.1,209.2 L 244.0,248.9\" style=\"fill:none;fill-rule:evenodd;stroke:#000000;stroke-width:2.0px;stroke-linecap:butt;stroke-linejoin:miter;stroke-opacity:1\"/>\n",
       "<path class=\"bond-13 atom-3 atom-14\" d=\"M 276.2,177.5 L 299.1,217.1\" style=\"fill:none;fill-rule:evenodd;stroke:#000000;stroke-width:2.0px;stroke-linecap:butt;stroke-linejoin:miter;stroke-opacity:1\"/>\n",
       "<path class=\"bond-14 atom-3 atom-15\" d=\"M 276.2,177.5 L 326.0,177.7\" style=\"fill:none;fill-rule:evenodd;stroke:#000000;stroke-width:2.0px;stroke-linecap:butt;stroke-linejoin:miter;stroke-opacity:1\"/>\n",
       "<path class=\"bond-15 atom-5 atom-16\" d=\"M 333.2,82.8 L 310.5,42.9\" style=\"fill:none;fill-rule:evenodd;stroke:#000000;stroke-width:2.0px;stroke-linecap:butt;stroke-linejoin:miter;stroke-opacity:1\"/>\n",
       "<path class=\"bond-16 atom-5 atom-17\" d=\"M 333.2,82.8 L 356.2,43.3\" style=\"fill:none;fill-rule:evenodd;stroke:#000000;stroke-width:2.0px;stroke-linecap:butt;stroke-linejoin:miter;stroke-opacity:1\"/>\n",
       "<path class=\"bond-17 atom-6 atom-18\" d=\"M 389.3,115.4 L 412.2,75.8\" style=\"fill:none;fill-rule:evenodd;stroke:#000000;stroke-width:2.0px;stroke-linecap:butt;stroke-linejoin:miter;stroke-opacity:1\"/>\n",
       "<path class=\"bond-18 atom-6 atom-19\" d=\"M 389.3,115.4 L 440.3,115.3\" style=\"fill:none;fill-rule:evenodd;stroke:#000000;stroke-width:2.0px;stroke-linecap:butt;stroke-linejoin:miter;stroke-opacity:1\"/>\n",
       "<path class=\"bond-19 atom-6 atom-20\" d=\"M 389.3,115.4 L 389.6,164.0\" style=\"fill:none;fill-rule:evenodd;stroke:#000000;stroke-width:2.0px;stroke-linecap:butt;stroke-linejoin:miter;stroke-opacity:1\"/>\n",
       "<path class=\"atom-4\" d=\"M 264.7 114.1 Q 264.7 107.6, 267.9 103.9 Q 271.1 100.3, 277.1 100.3 Q 283.1 100.3, 286.3 103.9 Q 289.5 107.6, 289.5 114.1 Q 289.5 120.7, 286.3 124.4 Q 283.0 128.1, 277.1 128.1 Q 271.1 128.1, 267.9 124.4 Q 264.7 120.7, 264.7 114.1 M 277.1 125.1 Q 281.2 125.1, 283.5 122.3 Q 285.7 119.5, 285.7 114.1 Q 285.7 108.8, 283.5 106.1 Q 281.2 103.4, 277.1 103.4 Q 273.0 103.4, 270.7 106.0 Q 268.5 108.7, 268.5 114.1 Q 268.5 119.6, 270.7 122.3 Q 273.0 125.1, 277.1 125.1 \" fill=\"#FF0000\"/>\n",
       "<path class=\"atom-7\" d=\"M 68.5 140.0 L 72.2 140.0 L 72.2 151.5 L 86.1 151.5 L 86.1 140.0 L 89.8 140.0 L 89.8 167.1 L 86.1 167.1 L 86.1 154.6 L 72.2 154.6 L 72.2 167.1 L 68.5 167.1 L 68.5 140.0 \" fill=\"#000000\"/>\n",
       "<path class=\"atom-8\" d=\"M 36.4 195.1 L 40.0 195.1 L 40.0 206.6 L 53.9 206.6 L 53.9 195.1 L 57.6 195.1 L 57.6 222.2 L 53.9 222.2 L 53.9 209.6 L 40.0 209.6 L 40.0 222.2 L 36.4 222.2 L 36.4 195.1 \" fill=\"#000000\"/>\n",
       "<path class=\"atom-9\" d=\"M 99.8 259.2 L 103.5 259.2 L 103.5 270.8 L 117.4 270.8 L 117.4 259.2 L 121.1 259.2 L 121.1 286.4 L 117.4 286.4 L 117.4 273.8 L 103.5 273.8 L 103.5 286.4 L 99.8 286.4 L 99.8 259.2 \" fill=\"#000000\"/>\n",
       "<path class=\"atom-10\" d=\"M 187.7 108.6 L 191.4 108.6 L 191.4 120.2 L 205.3 120.2 L 205.3 108.6 L 208.9 108.6 L 208.9 135.7 L 205.3 135.7 L 205.3 123.2 L 191.4 123.2 L 191.4 135.7 L 187.7 135.7 L 187.7 108.6 \" fill=\"#000000\"/>\n",
       "<path class=\"atom-11\" d=\"M 124.0 108.3 L 127.6 108.3 L 127.6 119.9 L 141.5 119.9 L 141.5 108.3 L 145.2 108.3 L 145.2 135.4 L 141.5 135.4 L 141.5 122.9 L 127.6 122.9 L 127.6 135.4 L 124.0 135.4 L 124.0 108.3 \" fill=\"#000000\"/>\n",
       "<path class=\"atom-12\" d=\"M 178.5 250.9 L 182.1 250.9 L 182.1 262.4 L 196.0 262.4 L 196.0 250.9 L 199.7 250.9 L 199.7 278.0 L 196.0 278.0 L 196.0 265.5 L 182.1 265.5 L 182.1 278.0 L 178.5 278.0 L 178.5 250.9 \" fill=\"#000000\"/>\n",
       "<path class=\"atom-13\" d=\"M 242.4 251.0 L 246.0 251.0 L 246.0 262.5 L 259.9 262.5 L 259.9 251.0 L 263.6 251.0 L 263.6 278.1 L 259.9 278.1 L 259.9 265.6 L 246.0 265.6 L 246.0 278.1 L 242.4 278.1 L 242.4 251.0 \" fill=\"#000000\"/>\n",
       "<path class=\"atom-14\" d=\"M 297.6 219.2 L 301.2 219.2 L 301.2 230.7 L 315.1 230.7 L 315.1 219.2 L 318.8 219.2 L 318.8 246.3 L 315.1 246.3 L 315.1 233.8 L 301.2 233.8 L 301.2 246.3 L 297.6 246.3 L 297.6 219.2 \" fill=\"#000000\"/>\n",
       "<path class=\"atom-15\" d=\"M 328.1 164.2 L 331.8 164.2 L 331.8 175.7 L 345.6 175.7 L 345.6 164.2 L 349.3 164.2 L 349.3 191.3 L 345.6 191.3 L 345.6 178.7 L 331.8 178.7 L 331.8 191.3 L 328.1 191.3 L 328.1 164.2 \" fill=\"#000000\"/>\n",
       "<path class=\"atom-16\" d=\"M 291.0 13.6 L 294.7 13.6 L 294.7 25.2 L 308.6 25.2 L 308.6 13.6 L 312.3 13.6 L 312.3 40.8 L 308.6 40.8 L 308.6 28.2 L 294.7 28.2 L 294.7 40.8 L 291.0 40.8 L 291.0 13.6 \" fill=\"#000000\"/>\n",
       "<path class=\"atom-17\" d=\"M 354.7 14.0 L 358.3 14.0 L 358.3 25.6 L 372.2 25.6 L 372.2 14.0 L 375.9 14.0 L 375.9 41.1 L 372.2 41.1 L 372.2 28.6 L 358.3 28.6 L 358.3 41.1 L 354.7 41.1 L 354.7 14.0 \" fill=\"#000000\"/>\n",
       "<path class=\"atom-18\" d=\"M 410.6 46.6 L 414.3 46.6 L 414.3 58.1 L 428.2 58.1 L 428.2 46.6 L 431.8 46.6 L 431.8 73.7 L 428.2 73.7 L 428.2 61.2 L 414.3 61.2 L 414.3 73.7 L 410.6 73.7 L 410.6 46.6 \" fill=\"#000000\"/>\n",
       "<path class=\"atom-19\" d=\"M 442.4 101.7 L 446.1 101.7 L 446.1 113.2 L 460.0 113.2 L 460.0 101.7 L 463.6 101.7 L 463.6 128.8 L 460.0 128.8 L 460.0 116.3 L 446.1 116.3 L 446.1 128.8 L 442.4 128.8 L 442.4 101.7 \" fill=\"#000000\"/>\n",
       "<path class=\"atom-20\" d=\"M 379.1 166.1 L 382.8 166.1 L 382.8 177.6 L 396.7 177.6 L 396.7 166.1 L 400.3 166.1 L 400.3 193.2 L 396.7 193.2 L 396.7 180.7 L 382.8 180.7 L 382.8 193.2 L 379.1 193.2 L 379.1 166.1 \" fill=\"#000000\"/>\n",
       "</svg>"
      ],
      "text/plain": [
       "<IPython.core.display.SVG object>"
      ]
     },
     "metadata": {},
     "output_type": "display_data"
    }
   ],
   "source": [
    "m = Molecule.from_smiles(\"CCCCOCC\")\n",
    "m"
   ]
  },
  {
   "cell_type": "markdown",
   "metadata": {},
   "source": [
    "The regular `display()` call works on `Molecule` objects too."
   ]
  },
  {
   "cell_type": "code",
   "execution_count": 3,
   "metadata": {
    "execution": {
     "iopub.execute_input": "2023-07-05T09:31:52.983095Z",
     "iopub.status.busy": "2023-07-05T09:31:52.981780Z",
     "iopub.status.idle": "2023-07-05T09:31:52.995069Z",
     "shell.execute_reply": "2023-07-05T09:31:52.994296Z"
    }
   },
   "outputs": [
    {
     "data": {
      "image/svg+xml": [
       "<svg xmlns=\"http://www.w3.org/2000/svg\" xmlns:rdkit=\"http://www.rdkit.org/xml\" xmlns:xlink=\"http://www.w3.org/1999/xlink\" version=\"1.1\" baseProfile=\"full\" xml:space=\"preserve\" width=\"500px\" height=\"300px\" viewBox=\"0 0 500 300\">\n",
       "<!-- END OF HEADER -->\n",
       "<rect style=\"opacity:1.0;fill:#FFFFFF;stroke:none\" width=\"500.0\" height=\"300.0\" x=\"0.0\" y=\"0.0\"> </rect>\n",
       "<path class=\"bond-0 atom-0 atom-1\" d=\"M 110.8,209.0 L 166.2,177.3\" style=\"fill:none;fill-rule:evenodd;stroke:#000000;stroke-width:2.0px;stroke-linecap:butt;stroke-linejoin:miter;stroke-opacity:1\"/>\n",
       "<path class=\"bond-1 atom-1 atom-2\" d=\"M 166.2,177.3 L 221.1,209.2\" style=\"fill:none;fill-rule:evenodd;stroke:#000000;stroke-width:2.0px;stroke-linecap:butt;stroke-linejoin:miter;stroke-opacity:1\"/>\n",
       "<path class=\"bond-2 atom-2 atom-3\" d=\"M 221.1,209.2 L 276.2,177.5\" style=\"fill:none;fill-rule:evenodd;stroke:#000000;stroke-width:2.0px;stroke-linecap:butt;stroke-linejoin:miter;stroke-opacity:1\"/>\n",
       "<path class=\"bond-3 atom-3 atom-4\" d=\"M 276.2,177.5 L 276.6,153.9\" style=\"fill:none;fill-rule:evenodd;stroke:#000000;stroke-width:2.0px;stroke-linecap:butt;stroke-linejoin:miter;stroke-opacity:1\"/>\n",
       "<path class=\"bond-3 atom-3 atom-4\" d=\"M 276.6,153.9 L 276.9,130.3\" style=\"fill:none;fill-rule:evenodd;stroke:#FF0000;stroke-width:2.0px;stroke-linecap:butt;stroke-linejoin:miter;stroke-opacity:1\"/>\n",
       "<path class=\"bond-4 atom-4 atom-5\" d=\"M 291.7,105.9 L 312.4,94.3\" style=\"fill:none;fill-rule:evenodd;stroke:#FF0000;stroke-width:2.0px;stroke-linecap:butt;stroke-linejoin:miter;stroke-opacity:1\"/>\n",
       "<path class=\"bond-4 atom-4 atom-5\" d=\"M 312.4,94.3 L 333.2,82.8\" style=\"fill:none;fill-rule:evenodd;stroke:#000000;stroke-width:2.0px;stroke-linecap:butt;stroke-linejoin:miter;stroke-opacity:1\"/>\n",
       "<path class=\"bond-5 atom-5 atom-6\" d=\"M 333.2,82.8 L 389.3,115.4\" style=\"fill:none;fill-rule:evenodd;stroke:#000000;stroke-width:2.0px;stroke-linecap:butt;stroke-linejoin:miter;stroke-opacity:1\"/>\n",
       "<path class=\"bond-6 atom-0 atom-7\" d=\"M 110.8,209.0 L 88.1,169.2\" style=\"fill:none;fill-rule:evenodd;stroke:#000000;stroke-width:2.0px;stroke-linecap:butt;stroke-linejoin:miter;stroke-opacity:1\"/>\n",
       "<path class=\"bond-7 atom-0 atom-8\" d=\"M 110.8,209.0 L 59.7,208.7\" style=\"fill:none;fill-rule:evenodd;stroke:#000000;stroke-width:2.0px;stroke-linecap:butt;stroke-linejoin:miter;stroke-opacity:1\"/>\n",
       "<path class=\"bond-8 atom-0 atom-9\" d=\"M 110.8,209.0 L 110.5,257.1\" style=\"fill:none;fill-rule:evenodd;stroke:#000000;stroke-width:2.0px;stroke-linecap:butt;stroke-linejoin:miter;stroke-opacity:1\"/>\n",
       "<path class=\"bond-9 atom-1 atom-10\" d=\"M 166.2,177.3 L 189.2,137.8\" style=\"fill:none;fill-rule:evenodd;stroke:#000000;stroke-width:2.0px;stroke-linecap:butt;stroke-linejoin:miter;stroke-opacity:1\"/>\n",
       "<path class=\"bond-10 atom-1 atom-11\" d=\"M 166.2,177.3 L 143.5,137.6\" style=\"fill:none;fill-rule:evenodd;stroke:#000000;stroke-width:2.0px;stroke-linecap:butt;stroke-linejoin:miter;stroke-opacity:1\"/>\n",
       "<path class=\"bond-11 atom-2 atom-12\" d=\"M 221.1,209.2 L 198.1,248.8\" style=\"fill:none;fill-rule:evenodd;stroke:#000000;stroke-width:2.0px;stroke-linecap:butt;stroke-linejoin:miter;stroke-opacity:1\"/>\n",
       "<path class=\"bond-12 atom-2 atom-13\" d=\"M 221.1,209.2 L 244.0,248.9\" style=\"fill:none;fill-rule:evenodd;stroke:#000000;stroke-width:2.0px;stroke-linecap:butt;stroke-linejoin:miter;stroke-opacity:1\"/>\n",
       "<path class=\"bond-13 atom-3 atom-14\" d=\"M 276.2,177.5 L 299.1,217.1\" style=\"fill:none;fill-rule:evenodd;stroke:#000000;stroke-width:2.0px;stroke-linecap:butt;stroke-linejoin:miter;stroke-opacity:1\"/>\n",
       "<path class=\"bond-14 atom-3 atom-15\" d=\"M 276.2,177.5 L 326.0,177.7\" style=\"fill:none;fill-rule:evenodd;stroke:#000000;stroke-width:2.0px;stroke-linecap:butt;stroke-linejoin:miter;stroke-opacity:1\"/>\n",
       "<path class=\"bond-15 atom-5 atom-16\" d=\"M 333.2,82.8 L 310.5,42.9\" style=\"fill:none;fill-rule:evenodd;stroke:#000000;stroke-width:2.0px;stroke-linecap:butt;stroke-linejoin:miter;stroke-opacity:1\"/>\n",
       "<path class=\"bond-16 atom-5 atom-17\" d=\"M 333.2,82.8 L 356.2,43.3\" style=\"fill:none;fill-rule:evenodd;stroke:#000000;stroke-width:2.0px;stroke-linecap:butt;stroke-linejoin:miter;stroke-opacity:1\"/>\n",
       "<path class=\"bond-17 atom-6 atom-18\" d=\"M 389.3,115.4 L 412.2,75.8\" style=\"fill:none;fill-rule:evenodd;stroke:#000000;stroke-width:2.0px;stroke-linecap:butt;stroke-linejoin:miter;stroke-opacity:1\"/>\n",
       "<path class=\"bond-18 atom-6 atom-19\" d=\"M 389.3,115.4 L 440.3,115.3\" style=\"fill:none;fill-rule:evenodd;stroke:#000000;stroke-width:2.0px;stroke-linecap:butt;stroke-linejoin:miter;stroke-opacity:1\"/>\n",
       "<path class=\"bond-19 atom-6 atom-20\" d=\"M 389.3,115.4 L 389.6,164.0\" style=\"fill:none;fill-rule:evenodd;stroke:#000000;stroke-width:2.0px;stroke-linecap:butt;stroke-linejoin:miter;stroke-opacity:1\"/>\n",
       "<path class=\"atom-4\" d=\"M 264.7 114.1 Q 264.7 107.6, 267.9 103.9 Q 271.1 100.3, 277.1 100.3 Q 283.1 100.3, 286.3 103.9 Q 289.5 107.6, 289.5 114.1 Q 289.5 120.7, 286.3 124.4 Q 283.0 128.1, 277.1 128.1 Q 271.1 128.1, 267.9 124.4 Q 264.7 120.7, 264.7 114.1 M 277.1 125.1 Q 281.2 125.1, 283.5 122.3 Q 285.7 119.5, 285.7 114.1 Q 285.7 108.8, 283.5 106.1 Q 281.2 103.4, 277.1 103.4 Q 273.0 103.4, 270.7 106.0 Q 268.5 108.7, 268.5 114.1 Q 268.5 119.6, 270.7 122.3 Q 273.0 125.1, 277.1 125.1 \" fill=\"#FF0000\"/>\n",
       "<path class=\"atom-7\" d=\"M 68.5 140.0 L 72.2 140.0 L 72.2 151.5 L 86.1 151.5 L 86.1 140.0 L 89.8 140.0 L 89.8 167.1 L 86.1 167.1 L 86.1 154.6 L 72.2 154.6 L 72.2 167.1 L 68.5 167.1 L 68.5 140.0 \" fill=\"#000000\"/>\n",
       "<path class=\"atom-8\" d=\"M 36.4 195.1 L 40.0 195.1 L 40.0 206.6 L 53.9 206.6 L 53.9 195.1 L 57.6 195.1 L 57.6 222.2 L 53.9 222.2 L 53.9 209.6 L 40.0 209.6 L 40.0 222.2 L 36.4 222.2 L 36.4 195.1 \" fill=\"#000000\"/>\n",
       "<path class=\"atom-9\" d=\"M 99.8 259.2 L 103.5 259.2 L 103.5 270.8 L 117.4 270.8 L 117.4 259.2 L 121.1 259.2 L 121.1 286.4 L 117.4 286.4 L 117.4 273.8 L 103.5 273.8 L 103.5 286.4 L 99.8 286.4 L 99.8 259.2 \" fill=\"#000000\"/>\n",
       "<path class=\"atom-10\" d=\"M 187.7 108.6 L 191.4 108.6 L 191.4 120.2 L 205.3 120.2 L 205.3 108.6 L 208.9 108.6 L 208.9 135.7 L 205.3 135.7 L 205.3 123.2 L 191.4 123.2 L 191.4 135.7 L 187.7 135.7 L 187.7 108.6 \" fill=\"#000000\"/>\n",
       "<path class=\"atom-11\" d=\"M 124.0 108.3 L 127.6 108.3 L 127.6 119.9 L 141.5 119.9 L 141.5 108.3 L 145.2 108.3 L 145.2 135.4 L 141.5 135.4 L 141.5 122.9 L 127.6 122.9 L 127.6 135.4 L 124.0 135.4 L 124.0 108.3 \" fill=\"#000000\"/>\n",
       "<path class=\"atom-12\" d=\"M 178.5 250.9 L 182.1 250.9 L 182.1 262.4 L 196.0 262.4 L 196.0 250.9 L 199.7 250.9 L 199.7 278.0 L 196.0 278.0 L 196.0 265.5 L 182.1 265.5 L 182.1 278.0 L 178.5 278.0 L 178.5 250.9 \" fill=\"#000000\"/>\n",
       "<path class=\"atom-13\" d=\"M 242.4 251.0 L 246.0 251.0 L 246.0 262.5 L 259.9 262.5 L 259.9 251.0 L 263.6 251.0 L 263.6 278.1 L 259.9 278.1 L 259.9 265.6 L 246.0 265.6 L 246.0 278.1 L 242.4 278.1 L 242.4 251.0 \" fill=\"#000000\"/>\n",
       "<path class=\"atom-14\" d=\"M 297.6 219.2 L 301.2 219.2 L 301.2 230.7 L 315.1 230.7 L 315.1 219.2 L 318.8 219.2 L 318.8 246.3 L 315.1 246.3 L 315.1 233.8 L 301.2 233.8 L 301.2 246.3 L 297.6 246.3 L 297.6 219.2 \" fill=\"#000000\"/>\n",
       "<path class=\"atom-15\" d=\"M 328.1 164.2 L 331.8 164.2 L 331.8 175.7 L 345.6 175.7 L 345.6 164.2 L 349.3 164.2 L 349.3 191.3 L 345.6 191.3 L 345.6 178.7 L 331.8 178.7 L 331.8 191.3 L 328.1 191.3 L 328.1 164.2 \" fill=\"#000000\"/>\n",
       "<path class=\"atom-16\" d=\"M 291.0 13.6 L 294.7 13.6 L 294.7 25.2 L 308.6 25.2 L 308.6 13.6 L 312.3 13.6 L 312.3 40.8 L 308.6 40.8 L 308.6 28.2 L 294.7 28.2 L 294.7 40.8 L 291.0 40.8 L 291.0 13.6 \" fill=\"#000000\"/>\n",
       "<path class=\"atom-17\" d=\"M 354.7 14.0 L 358.3 14.0 L 358.3 25.6 L 372.2 25.6 L 372.2 14.0 L 375.9 14.0 L 375.9 41.1 L 372.2 41.1 L 372.2 28.6 L 358.3 28.6 L 358.3 41.1 L 354.7 41.1 L 354.7 14.0 \" fill=\"#000000\"/>\n",
       "<path class=\"atom-18\" d=\"M 410.6 46.6 L 414.3 46.6 L 414.3 58.1 L 428.2 58.1 L 428.2 46.6 L 431.8 46.6 L 431.8 73.7 L 428.2 73.7 L 428.2 61.2 L 414.3 61.2 L 414.3 73.7 L 410.6 73.7 L 410.6 46.6 \" fill=\"#000000\"/>\n",
       "<path class=\"atom-19\" d=\"M 442.4 101.7 L 446.1 101.7 L 446.1 113.2 L 460.0 113.2 L 460.0 101.7 L 463.6 101.7 L 463.6 128.8 L 460.0 128.8 L 460.0 116.3 L 446.1 116.3 L 446.1 128.8 L 442.4 128.8 L 442.4 101.7 \" fill=\"#000000\"/>\n",
       "<path class=\"atom-20\" d=\"M 379.1 166.1 L 382.8 166.1 L 382.8 177.6 L 396.7 177.6 L 396.7 166.1 L 400.3 166.1 L 400.3 193.2 L 396.7 193.2 L 396.7 180.7 L 382.8 180.7 L 382.8 193.2 L 379.1 193.2 L 379.1 166.1 \" fill=\"#000000\"/>\n",
       "</svg>"
      ],
      "text/plain": [
       "<IPython.core.display.SVG object>"
      ]
     },
     "metadata": {},
     "output_type": "display_data"
    }
   ],
   "source": [
    "display(m)  # noqa"
   ]
  },
  {
   "cell_type": "markdown",
   "metadata": {},
   "source": [
    "## Explicit visualization\n",
    "\n",
    "_Explicit_ visualization works as one would expect:"
   ]
  },
  {
   "cell_type": "code",
   "execution_count": 4,
   "metadata": {
    "execution": {
     "iopub.execute_input": "2023-07-05T09:31:53.000117Z",
     "iopub.status.busy": "2023-07-05T09:31:52.998847Z",
     "iopub.status.idle": "2023-07-05T09:31:53.011035Z",
     "shell.execute_reply": "2023-07-05T09:31:53.010251Z"
    }
   },
   "outputs": [
    {
     "data": {
      "image/svg+xml": [
       "<svg xmlns=\"http://www.w3.org/2000/svg\" xmlns:rdkit=\"http://www.rdkit.org/xml\" xmlns:xlink=\"http://www.w3.org/1999/xlink\" version=\"1.1\" baseProfile=\"full\" xml:space=\"preserve\" width=\"500px\" height=\"300px\" viewBox=\"0 0 500 300\">\n",
       "<!-- END OF HEADER -->\n",
       "<rect style=\"opacity:1.0;fill:#FFFFFF;stroke:none\" width=\"500.0\" height=\"300.0\" x=\"0.0\" y=\"0.0\"> </rect>\n",
       "<path class=\"bond-0 atom-0 atom-1\" d=\"M 110.8,209.0 L 166.2,177.3\" style=\"fill:none;fill-rule:evenodd;stroke:#000000;stroke-width:2.0px;stroke-linecap:butt;stroke-linejoin:miter;stroke-opacity:1\"/>\n",
       "<path class=\"bond-1 atom-1 atom-2\" d=\"M 166.2,177.3 L 221.1,209.2\" style=\"fill:none;fill-rule:evenodd;stroke:#000000;stroke-width:2.0px;stroke-linecap:butt;stroke-linejoin:miter;stroke-opacity:1\"/>\n",
       "<path class=\"bond-2 atom-2 atom-3\" d=\"M 221.1,209.2 L 276.2,177.5\" style=\"fill:none;fill-rule:evenodd;stroke:#000000;stroke-width:2.0px;stroke-linecap:butt;stroke-linejoin:miter;stroke-opacity:1\"/>\n",
       "<path class=\"bond-3 atom-3 atom-4\" d=\"M 276.2,177.5 L 276.6,153.9\" style=\"fill:none;fill-rule:evenodd;stroke:#000000;stroke-width:2.0px;stroke-linecap:butt;stroke-linejoin:miter;stroke-opacity:1\"/>\n",
       "<path class=\"bond-3 atom-3 atom-4\" d=\"M 276.6,153.9 L 276.9,130.3\" style=\"fill:none;fill-rule:evenodd;stroke:#FF0000;stroke-width:2.0px;stroke-linecap:butt;stroke-linejoin:miter;stroke-opacity:1\"/>\n",
       "<path class=\"bond-4 atom-4 atom-5\" d=\"M 291.7,105.9 L 312.4,94.3\" style=\"fill:none;fill-rule:evenodd;stroke:#FF0000;stroke-width:2.0px;stroke-linecap:butt;stroke-linejoin:miter;stroke-opacity:1\"/>\n",
       "<path class=\"bond-4 atom-4 atom-5\" d=\"M 312.4,94.3 L 333.2,82.8\" style=\"fill:none;fill-rule:evenodd;stroke:#000000;stroke-width:2.0px;stroke-linecap:butt;stroke-linejoin:miter;stroke-opacity:1\"/>\n",
       "<path class=\"bond-5 atom-5 atom-6\" d=\"M 333.2,82.8 L 389.3,115.4\" style=\"fill:none;fill-rule:evenodd;stroke:#000000;stroke-width:2.0px;stroke-linecap:butt;stroke-linejoin:miter;stroke-opacity:1\"/>\n",
       "<path class=\"bond-6 atom-0 atom-7\" d=\"M 110.8,209.0 L 88.1,169.2\" style=\"fill:none;fill-rule:evenodd;stroke:#000000;stroke-width:2.0px;stroke-linecap:butt;stroke-linejoin:miter;stroke-opacity:1\"/>\n",
       "<path class=\"bond-7 atom-0 atom-8\" d=\"M 110.8,209.0 L 59.7,208.7\" style=\"fill:none;fill-rule:evenodd;stroke:#000000;stroke-width:2.0px;stroke-linecap:butt;stroke-linejoin:miter;stroke-opacity:1\"/>\n",
       "<path class=\"bond-8 atom-0 atom-9\" d=\"M 110.8,209.0 L 110.5,257.1\" style=\"fill:none;fill-rule:evenodd;stroke:#000000;stroke-width:2.0px;stroke-linecap:butt;stroke-linejoin:miter;stroke-opacity:1\"/>\n",
       "<path class=\"bond-9 atom-1 atom-10\" d=\"M 166.2,177.3 L 189.2,137.8\" style=\"fill:none;fill-rule:evenodd;stroke:#000000;stroke-width:2.0px;stroke-linecap:butt;stroke-linejoin:miter;stroke-opacity:1\"/>\n",
       "<path class=\"bond-10 atom-1 atom-11\" d=\"M 166.2,177.3 L 143.5,137.6\" style=\"fill:none;fill-rule:evenodd;stroke:#000000;stroke-width:2.0px;stroke-linecap:butt;stroke-linejoin:miter;stroke-opacity:1\"/>\n",
       "<path class=\"bond-11 atom-2 atom-12\" d=\"M 221.1,209.2 L 198.1,248.8\" style=\"fill:none;fill-rule:evenodd;stroke:#000000;stroke-width:2.0px;stroke-linecap:butt;stroke-linejoin:miter;stroke-opacity:1\"/>\n",
       "<path class=\"bond-12 atom-2 atom-13\" d=\"M 221.1,209.2 L 244.0,248.9\" style=\"fill:none;fill-rule:evenodd;stroke:#000000;stroke-width:2.0px;stroke-linecap:butt;stroke-linejoin:miter;stroke-opacity:1\"/>\n",
       "<path class=\"bond-13 atom-3 atom-14\" d=\"M 276.2,177.5 L 299.1,217.1\" style=\"fill:none;fill-rule:evenodd;stroke:#000000;stroke-width:2.0px;stroke-linecap:butt;stroke-linejoin:miter;stroke-opacity:1\"/>\n",
       "<path class=\"bond-14 atom-3 atom-15\" d=\"M 276.2,177.5 L 326.0,177.7\" style=\"fill:none;fill-rule:evenodd;stroke:#000000;stroke-width:2.0px;stroke-linecap:butt;stroke-linejoin:miter;stroke-opacity:1\"/>\n",
       "<path class=\"bond-15 atom-5 atom-16\" d=\"M 333.2,82.8 L 310.5,42.9\" style=\"fill:none;fill-rule:evenodd;stroke:#000000;stroke-width:2.0px;stroke-linecap:butt;stroke-linejoin:miter;stroke-opacity:1\"/>\n",
       "<path class=\"bond-16 atom-5 atom-17\" d=\"M 333.2,82.8 L 356.2,43.3\" style=\"fill:none;fill-rule:evenodd;stroke:#000000;stroke-width:2.0px;stroke-linecap:butt;stroke-linejoin:miter;stroke-opacity:1\"/>\n",
       "<path class=\"bond-17 atom-6 atom-18\" d=\"M 389.3,115.4 L 412.2,75.8\" style=\"fill:none;fill-rule:evenodd;stroke:#000000;stroke-width:2.0px;stroke-linecap:butt;stroke-linejoin:miter;stroke-opacity:1\"/>\n",
       "<path class=\"bond-18 atom-6 atom-19\" d=\"M 389.3,115.4 L 440.3,115.3\" style=\"fill:none;fill-rule:evenodd;stroke:#000000;stroke-width:2.0px;stroke-linecap:butt;stroke-linejoin:miter;stroke-opacity:1\"/>\n",
       "<path class=\"bond-19 atom-6 atom-20\" d=\"M 389.3,115.4 L 389.6,164.0\" style=\"fill:none;fill-rule:evenodd;stroke:#000000;stroke-width:2.0px;stroke-linecap:butt;stroke-linejoin:miter;stroke-opacity:1\"/>\n",
       "<path class=\"atom-4\" d=\"M 264.7 114.1 Q 264.7 107.6, 267.9 103.9 Q 271.1 100.3, 277.1 100.3 Q 283.1 100.3, 286.3 103.9 Q 289.5 107.6, 289.5 114.1 Q 289.5 120.7, 286.3 124.4 Q 283.0 128.1, 277.1 128.1 Q 271.1 128.1, 267.9 124.4 Q 264.7 120.7, 264.7 114.1 M 277.1 125.1 Q 281.2 125.1, 283.5 122.3 Q 285.7 119.5, 285.7 114.1 Q 285.7 108.8, 283.5 106.1 Q 281.2 103.4, 277.1 103.4 Q 273.0 103.4, 270.7 106.0 Q 268.5 108.7, 268.5 114.1 Q 268.5 119.6, 270.7 122.3 Q 273.0 125.1, 277.1 125.1 \" fill=\"#FF0000\"/>\n",
       "<path class=\"atom-7\" d=\"M 68.5 140.0 L 72.2 140.0 L 72.2 151.5 L 86.1 151.5 L 86.1 140.0 L 89.8 140.0 L 89.8 167.1 L 86.1 167.1 L 86.1 154.6 L 72.2 154.6 L 72.2 167.1 L 68.5 167.1 L 68.5 140.0 \" fill=\"#000000\"/>\n",
       "<path class=\"atom-8\" d=\"M 36.4 195.1 L 40.0 195.1 L 40.0 206.6 L 53.9 206.6 L 53.9 195.1 L 57.6 195.1 L 57.6 222.2 L 53.9 222.2 L 53.9 209.6 L 40.0 209.6 L 40.0 222.2 L 36.4 222.2 L 36.4 195.1 \" fill=\"#000000\"/>\n",
       "<path class=\"atom-9\" d=\"M 99.8 259.2 L 103.5 259.2 L 103.5 270.8 L 117.4 270.8 L 117.4 259.2 L 121.1 259.2 L 121.1 286.4 L 117.4 286.4 L 117.4 273.8 L 103.5 273.8 L 103.5 286.4 L 99.8 286.4 L 99.8 259.2 \" fill=\"#000000\"/>\n",
       "<path class=\"atom-10\" d=\"M 187.7 108.6 L 191.4 108.6 L 191.4 120.2 L 205.3 120.2 L 205.3 108.6 L 208.9 108.6 L 208.9 135.7 L 205.3 135.7 L 205.3 123.2 L 191.4 123.2 L 191.4 135.7 L 187.7 135.7 L 187.7 108.6 \" fill=\"#000000\"/>\n",
       "<path class=\"atom-11\" d=\"M 124.0 108.3 L 127.6 108.3 L 127.6 119.9 L 141.5 119.9 L 141.5 108.3 L 145.2 108.3 L 145.2 135.4 L 141.5 135.4 L 141.5 122.9 L 127.6 122.9 L 127.6 135.4 L 124.0 135.4 L 124.0 108.3 \" fill=\"#000000\"/>\n",
       "<path class=\"atom-12\" d=\"M 178.5 250.9 L 182.1 250.9 L 182.1 262.4 L 196.0 262.4 L 196.0 250.9 L 199.7 250.9 L 199.7 278.0 L 196.0 278.0 L 196.0 265.5 L 182.1 265.5 L 182.1 278.0 L 178.5 278.0 L 178.5 250.9 \" fill=\"#000000\"/>\n",
       "<path class=\"atom-13\" d=\"M 242.4 251.0 L 246.0 251.0 L 246.0 262.5 L 259.9 262.5 L 259.9 251.0 L 263.6 251.0 L 263.6 278.1 L 259.9 278.1 L 259.9 265.6 L 246.0 265.6 L 246.0 278.1 L 242.4 278.1 L 242.4 251.0 \" fill=\"#000000\"/>\n",
       "<path class=\"atom-14\" d=\"M 297.6 219.2 L 301.2 219.2 L 301.2 230.7 L 315.1 230.7 L 315.1 219.2 L 318.8 219.2 L 318.8 246.3 L 315.1 246.3 L 315.1 233.8 L 301.2 233.8 L 301.2 246.3 L 297.6 246.3 L 297.6 219.2 \" fill=\"#000000\"/>\n",
       "<path class=\"atom-15\" d=\"M 328.1 164.2 L 331.8 164.2 L 331.8 175.7 L 345.6 175.7 L 345.6 164.2 L 349.3 164.2 L 349.3 191.3 L 345.6 191.3 L 345.6 178.7 L 331.8 178.7 L 331.8 191.3 L 328.1 191.3 L 328.1 164.2 \" fill=\"#000000\"/>\n",
       "<path class=\"atom-16\" d=\"M 291.0 13.6 L 294.7 13.6 L 294.7 25.2 L 308.6 25.2 L 308.6 13.6 L 312.3 13.6 L 312.3 40.8 L 308.6 40.8 L 308.6 28.2 L 294.7 28.2 L 294.7 40.8 L 291.0 40.8 L 291.0 13.6 \" fill=\"#000000\"/>\n",
       "<path class=\"atom-17\" d=\"M 354.7 14.0 L 358.3 14.0 L 358.3 25.6 L 372.2 25.6 L 372.2 14.0 L 375.9 14.0 L 375.9 41.1 L 372.2 41.1 L 372.2 28.6 L 358.3 28.6 L 358.3 41.1 L 354.7 41.1 L 354.7 14.0 \" fill=\"#000000\"/>\n",
       "<path class=\"atom-18\" d=\"M 410.6 46.6 L 414.3 46.6 L 414.3 58.1 L 428.2 58.1 L 428.2 46.6 L 431.8 46.6 L 431.8 73.7 L 428.2 73.7 L 428.2 61.2 L 414.3 61.2 L 414.3 73.7 L 410.6 73.7 L 410.6 46.6 \" fill=\"#000000\"/>\n",
       "<path class=\"atom-19\" d=\"M 442.4 101.7 L 446.1 101.7 L 446.1 113.2 L 460.0 113.2 L 460.0 101.7 L 463.6 101.7 L 463.6 128.8 L 460.0 128.8 L 460.0 116.3 L 446.1 116.3 L 446.1 128.8 L 442.4 128.8 L 442.4 101.7 \" fill=\"#000000\"/>\n",
       "<path class=\"atom-20\" d=\"M 379.1 166.1 L 382.8 166.1 L 382.8 177.6 L 396.7 177.6 L 396.7 166.1 L 400.3 166.1 L 400.3 193.2 L 396.7 193.2 L 396.7 180.7 L 382.8 180.7 L 382.8 193.2 L 379.1 193.2 L 379.1 166.1 \" fill=\"#000000\"/>\n",
       "</svg>"
      ],
      "text/plain": [
       "<IPython.core.display.SVG object>"
      ]
     },
     "execution_count": 4,
     "metadata": {},
     "output_type": "execute_result"
    }
   ],
   "source": [
    "m.visualize()"
   ]
  },
  {
   "cell_type": "markdown",
   "metadata": {},
   "source": [
    "This method can take a `backend` parameter, which defaults to `rdkit`:"
   ]
  },
  {
   "cell_type": "code",
   "execution_count": 5,
   "metadata": {
    "execution": {
     "iopub.execute_input": "2023-07-05T09:31:53.015788Z",
     "iopub.status.busy": "2023-07-05T09:31:53.014584Z",
     "iopub.status.idle": "2023-07-05T09:31:53.027908Z",
     "shell.execute_reply": "2023-07-05T09:31:53.027137Z"
    }
   },
   "outputs": [
    {
     "data": {
      "image/svg+xml": [
       "<svg xmlns=\"http://www.w3.org/2000/svg\" xmlns:rdkit=\"http://www.rdkit.org/xml\" xmlns:xlink=\"http://www.w3.org/1999/xlink\" version=\"1.1\" baseProfile=\"full\" xml:space=\"preserve\" width=\"500px\" height=\"300px\" viewBox=\"0 0 500 300\">\n",
       "<!-- END OF HEADER -->\n",
       "<rect style=\"opacity:1.0;fill:#FFFFFF;stroke:none\" width=\"500.0\" height=\"300.0\" x=\"0.0\" y=\"0.0\"> </rect>\n",
       "<path class=\"bond-0 atom-0 atom-1\" d=\"M 110.8,209.0 L 166.2,177.3\" style=\"fill:none;fill-rule:evenodd;stroke:#000000;stroke-width:2.0px;stroke-linecap:butt;stroke-linejoin:miter;stroke-opacity:1\"/>\n",
       "<path class=\"bond-1 atom-1 atom-2\" d=\"M 166.2,177.3 L 221.1,209.2\" style=\"fill:none;fill-rule:evenodd;stroke:#000000;stroke-width:2.0px;stroke-linecap:butt;stroke-linejoin:miter;stroke-opacity:1\"/>\n",
       "<path class=\"bond-2 atom-2 atom-3\" d=\"M 221.1,209.2 L 276.2,177.5\" style=\"fill:none;fill-rule:evenodd;stroke:#000000;stroke-width:2.0px;stroke-linecap:butt;stroke-linejoin:miter;stroke-opacity:1\"/>\n",
       "<path class=\"bond-3 atom-3 atom-4\" d=\"M 276.2,177.5 L 276.6,153.9\" style=\"fill:none;fill-rule:evenodd;stroke:#000000;stroke-width:2.0px;stroke-linecap:butt;stroke-linejoin:miter;stroke-opacity:1\"/>\n",
       "<path class=\"bond-3 atom-3 atom-4\" d=\"M 276.6,153.9 L 276.9,130.3\" style=\"fill:none;fill-rule:evenodd;stroke:#FF0000;stroke-width:2.0px;stroke-linecap:butt;stroke-linejoin:miter;stroke-opacity:1\"/>\n",
       "<path class=\"bond-4 atom-4 atom-5\" d=\"M 291.7,105.9 L 312.4,94.3\" style=\"fill:none;fill-rule:evenodd;stroke:#FF0000;stroke-width:2.0px;stroke-linecap:butt;stroke-linejoin:miter;stroke-opacity:1\"/>\n",
       "<path class=\"bond-4 atom-4 atom-5\" d=\"M 312.4,94.3 L 333.2,82.8\" style=\"fill:none;fill-rule:evenodd;stroke:#000000;stroke-width:2.0px;stroke-linecap:butt;stroke-linejoin:miter;stroke-opacity:1\"/>\n",
       "<path class=\"bond-5 atom-5 atom-6\" d=\"M 333.2,82.8 L 389.3,115.4\" style=\"fill:none;fill-rule:evenodd;stroke:#000000;stroke-width:2.0px;stroke-linecap:butt;stroke-linejoin:miter;stroke-opacity:1\"/>\n",
       "<path class=\"bond-6 atom-0 atom-7\" d=\"M 110.8,209.0 L 88.1,169.2\" style=\"fill:none;fill-rule:evenodd;stroke:#000000;stroke-width:2.0px;stroke-linecap:butt;stroke-linejoin:miter;stroke-opacity:1\"/>\n",
       "<path class=\"bond-7 atom-0 atom-8\" d=\"M 110.8,209.0 L 59.7,208.7\" style=\"fill:none;fill-rule:evenodd;stroke:#000000;stroke-width:2.0px;stroke-linecap:butt;stroke-linejoin:miter;stroke-opacity:1\"/>\n",
       "<path class=\"bond-8 atom-0 atom-9\" d=\"M 110.8,209.0 L 110.5,257.1\" style=\"fill:none;fill-rule:evenodd;stroke:#000000;stroke-width:2.0px;stroke-linecap:butt;stroke-linejoin:miter;stroke-opacity:1\"/>\n",
       "<path class=\"bond-9 atom-1 atom-10\" d=\"M 166.2,177.3 L 189.2,137.8\" style=\"fill:none;fill-rule:evenodd;stroke:#000000;stroke-width:2.0px;stroke-linecap:butt;stroke-linejoin:miter;stroke-opacity:1\"/>\n",
       "<path class=\"bond-10 atom-1 atom-11\" d=\"M 166.2,177.3 L 143.5,137.6\" style=\"fill:none;fill-rule:evenodd;stroke:#000000;stroke-width:2.0px;stroke-linecap:butt;stroke-linejoin:miter;stroke-opacity:1\"/>\n",
       "<path class=\"bond-11 atom-2 atom-12\" d=\"M 221.1,209.2 L 198.1,248.8\" style=\"fill:none;fill-rule:evenodd;stroke:#000000;stroke-width:2.0px;stroke-linecap:butt;stroke-linejoin:miter;stroke-opacity:1\"/>\n",
       "<path class=\"bond-12 atom-2 atom-13\" d=\"M 221.1,209.2 L 244.0,248.9\" style=\"fill:none;fill-rule:evenodd;stroke:#000000;stroke-width:2.0px;stroke-linecap:butt;stroke-linejoin:miter;stroke-opacity:1\"/>\n",
       "<path class=\"bond-13 atom-3 atom-14\" d=\"M 276.2,177.5 L 299.1,217.1\" style=\"fill:none;fill-rule:evenodd;stroke:#000000;stroke-width:2.0px;stroke-linecap:butt;stroke-linejoin:miter;stroke-opacity:1\"/>\n",
       "<path class=\"bond-14 atom-3 atom-15\" d=\"M 276.2,177.5 L 326.0,177.7\" style=\"fill:none;fill-rule:evenodd;stroke:#000000;stroke-width:2.0px;stroke-linecap:butt;stroke-linejoin:miter;stroke-opacity:1\"/>\n",
       "<path class=\"bond-15 atom-5 atom-16\" d=\"M 333.2,82.8 L 310.5,42.9\" style=\"fill:none;fill-rule:evenodd;stroke:#000000;stroke-width:2.0px;stroke-linecap:butt;stroke-linejoin:miter;stroke-opacity:1\"/>\n",
       "<path class=\"bond-16 atom-5 atom-17\" d=\"M 333.2,82.8 L 356.2,43.3\" style=\"fill:none;fill-rule:evenodd;stroke:#000000;stroke-width:2.0px;stroke-linecap:butt;stroke-linejoin:miter;stroke-opacity:1\"/>\n",
       "<path class=\"bond-17 atom-6 atom-18\" d=\"M 389.3,115.4 L 412.2,75.8\" style=\"fill:none;fill-rule:evenodd;stroke:#000000;stroke-width:2.0px;stroke-linecap:butt;stroke-linejoin:miter;stroke-opacity:1\"/>\n",
       "<path class=\"bond-18 atom-6 atom-19\" d=\"M 389.3,115.4 L 440.3,115.3\" style=\"fill:none;fill-rule:evenodd;stroke:#000000;stroke-width:2.0px;stroke-linecap:butt;stroke-linejoin:miter;stroke-opacity:1\"/>\n",
       "<path class=\"bond-19 atom-6 atom-20\" d=\"M 389.3,115.4 L 389.6,164.0\" style=\"fill:none;fill-rule:evenodd;stroke:#000000;stroke-width:2.0px;stroke-linecap:butt;stroke-linejoin:miter;stroke-opacity:1\"/>\n",
       "<path class=\"atom-4\" d=\"M 264.7 114.1 Q 264.7 107.6, 267.9 103.9 Q 271.1 100.3, 277.1 100.3 Q 283.1 100.3, 286.3 103.9 Q 289.5 107.6, 289.5 114.1 Q 289.5 120.7, 286.3 124.4 Q 283.0 128.1, 277.1 128.1 Q 271.1 128.1, 267.9 124.4 Q 264.7 120.7, 264.7 114.1 M 277.1 125.1 Q 281.2 125.1, 283.5 122.3 Q 285.7 119.5, 285.7 114.1 Q 285.7 108.8, 283.5 106.1 Q 281.2 103.4, 277.1 103.4 Q 273.0 103.4, 270.7 106.0 Q 268.5 108.7, 268.5 114.1 Q 268.5 119.6, 270.7 122.3 Q 273.0 125.1, 277.1 125.1 \" fill=\"#FF0000\"/>\n",
       "<path class=\"atom-7\" d=\"M 68.5 140.0 L 72.2 140.0 L 72.2 151.5 L 86.1 151.5 L 86.1 140.0 L 89.8 140.0 L 89.8 167.1 L 86.1 167.1 L 86.1 154.6 L 72.2 154.6 L 72.2 167.1 L 68.5 167.1 L 68.5 140.0 \" fill=\"#000000\"/>\n",
       "<path class=\"atom-8\" d=\"M 36.4 195.1 L 40.0 195.1 L 40.0 206.6 L 53.9 206.6 L 53.9 195.1 L 57.6 195.1 L 57.6 222.2 L 53.9 222.2 L 53.9 209.6 L 40.0 209.6 L 40.0 222.2 L 36.4 222.2 L 36.4 195.1 \" fill=\"#000000\"/>\n",
       "<path class=\"atom-9\" d=\"M 99.8 259.2 L 103.5 259.2 L 103.5 270.8 L 117.4 270.8 L 117.4 259.2 L 121.1 259.2 L 121.1 286.4 L 117.4 286.4 L 117.4 273.8 L 103.5 273.8 L 103.5 286.4 L 99.8 286.4 L 99.8 259.2 \" fill=\"#000000\"/>\n",
       "<path class=\"atom-10\" d=\"M 187.7 108.6 L 191.4 108.6 L 191.4 120.2 L 205.3 120.2 L 205.3 108.6 L 208.9 108.6 L 208.9 135.7 L 205.3 135.7 L 205.3 123.2 L 191.4 123.2 L 191.4 135.7 L 187.7 135.7 L 187.7 108.6 \" fill=\"#000000\"/>\n",
       "<path class=\"atom-11\" d=\"M 124.0 108.3 L 127.6 108.3 L 127.6 119.9 L 141.5 119.9 L 141.5 108.3 L 145.2 108.3 L 145.2 135.4 L 141.5 135.4 L 141.5 122.9 L 127.6 122.9 L 127.6 135.4 L 124.0 135.4 L 124.0 108.3 \" fill=\"#000000\"/>\n",
       "<path class=\"atom-12\" d=\"M 178.5 250.9 L 182.1 250.9 L 182.1 262.4 L 196.0 262.4 L 196.0 250.9 L 199.7 250.9 L 199.7 278.0 L 196.0 278.0 L 196.0 265.5 L 182.1 265.5 L 182.1 278.0 L 178.5 278.0 L 178.5 250.9 \" fill=\"#000000\"/>\n",
       "<path class=\"atom-13\" d=\"M 242.4 251.0 L 246.0 251.0 L 246.0 262.5 L 259.9 262.5 L 259.9 251.0 L 263.6 251.0 L 263.6 278.1 L 259.9 278.1 L 259.9 265.6 L 246.0 265.6 L 246.0 278.1 L 242.4 278.1 L 242.4 251.0 \" fill=\"#000000\"/>\n",
       "<path class=\"atom-14\" d=\"M 297.6 219.2 L 301.2 219.2 L 301.2 230.7 L 315.1 230.7 L 315.1 219.2 L 318.8 219.2 L 318.8 246.3 L 315.1 246.3 L 315.1 233.8 L 301.2 233.8 L 301.2 246.3 L 297.6 246.3 L 297.6 219.2 \" fill=\"#000000\"/>\n",
       "<path class=\"atom-15\" d=\"M 328.1 164.2 L 331.8 164.2 L 331.8 175.7 L 345.6 175.7 L 345.6 164.2 L 349.3 164.2 L 349.3 191.3 L 345.6 191.3 L 345.6 178.7 L 331.8 178.7 L 331.8 191.3 L 328.1 191.3 L 328.1 164.2 \" fill=\"#000000\"/>\n",
       "<path class=\"atom-16\" d=\"M 291.0 13.6 L 294.7 13.6 L 294.7 25.2 L 308.6 25.2 L 308.6 13.6 L 312.3 13.6 L 312.3 40.8 L 308.6 40.8 L 308.6 28.2 L 294.7 28.2 L 294.7 40.8 L 291.0 40.8 L 291.0 13.6 \" fill=\"#000000\"/>\n",
       "<path class=\"atom-17\" d=\"M 354.7 14.0 L 358.3 14.0 L 358.3 25.6 L 372.2 25.6 L 372.2 14.0 L 375.9 14.0 L 375.9 41.1 L 372.2 41.1 L 372.2 28.6 L 358.3 28.6 L 358.3 41.1 L 354.7 41.1 L 354.7 14.0 \" fill=\"#000000\"/>\n",
       "<path class=\"atom-18\" d=\"M 410.6 46.6 L 414.3 46.6 L 414.3 58.1 L 428.2 58.1 L 428.2 46.6 L 431.8 46.6 L 431.8 73.7 L 428.2 73.7 L 428.2 61.2 L 414.3 61.2 L 414.3 73.7 L 410.6 73.7 L 410.6 46.6 \" fill=\"#000000\"/>\n",
       "<path class=\"atom-19\" d=\"M 442.4 101.7 L 446.1 101.7 L 446.1 113.2 L 460.0 113.2 L 460.0 101.7 L 463.6 101.7 L 463.6 128.8 L 460.0 128.8 L 460.0 116.3 L 446.1 116.3 L 446.1 128.8 L 442.4 128.8 L 442.4 101.7 \" fill=\"#000000\"/>\n",
       "<path class=\"atom-20\" d=\"M 379.1 166.1 L 382.8 166.1 L 382.8 177.6 L 396.7 177.6 L 396.7 166.1 L 400.3 166.1 L 400.3 193.2 L 396.7 193.2 L 396.7 180.7 L 382.8 180.7 L 382.8 193.2 L 379.1 193.2 L 379.1 166.1 \" fill=\"#000000\"/>\n",
       "</svg>"
      ],
      "text/plain": [
       "<IPython.core.display.SVG object>"
      ]
     },
     "execution_count": 5,
     "metadata": {},
     "output_type": "execute_result"
    }
   ],
   "source": [
    "m.visualize(backend=\"rdkit\")"
   ]
  },
  {
   "cell_type": "markdown",
   "metadata": {},
   "source": [
    "`openeye` can also be used, if available:"
   ]
  },
  {
   "cell_type": "code",
   "execution_count": 6,
   "metadata": {
    "execution": {
     "iopub.execute_input": "2023-07-05T09:31:53.032785Z",
     "iopub.status.busy": "2023-07-05T09:31:53.031474Z",
     "iopub.status.idle": "2023-07-05T09:31:53.039020Z",
     "shell.execute_reply": "2023-07-05T09:31:53.038085Z"
    }
   },
   "outputs": [
    {
     "name": "stdout",
     "output_type": "stream",
     "text": [
      "Visualizing with `backend=\"openeye\"` requires the OpenEye Toolkits\n"
     ]
    }
   ],
   "source": [
    "try:\n",
    "    from openeye import oechem\n",
    "\n",
    "    assert oechem.OEChemIsLicensed()\n",
    "\n",
    "    m.visualize(backend=\"openeye\")\n",
    "except (ImportError, AssertionError):\n",
    "    print('Visualizing with `backend=\"openeye\"` requires the OpenEye Toolkits')"
   ]
  },
  {
   "cell_type": "markdown",
   "metadata": {},
   "source": [
    "`nglview`, if installed, can only be used if conformers have been generated:"
   ]
  },
  {
   "cell_type": "code",
   "execution_count": 7,
   "metadata": {
    "execution": {
     "iopub.execute_input": "2023-07-05T09:31:53.044134Z",
     "iopub.status.busy": "2023-07-05T09:31:53.042717Z",
     "iopub.status.idle": "2023-07-05T09:31:53.050458Z",
     "shell.execute_reply": "2023-07-05T09:31:53.049773Z"
    },
    "tags": [
     "nbval-skip"
    ]
   },
   "outputs": [
    {
     "name": "stdout",
     "output_type": "stream",
     "text": [
      "Visualizing with NGLview requires that the molecule has conformers.\n"
     ]
    }
   ],
   "source": [
    "try:\n",
    "    m.visualize(backend=\"nglview\")  # this will fail because we have no conformers yet\n",
    "except ValueError as excinfo:\n",
    "    # Catch the exception and print its message\n",
    "    print(str(excinfo))"
   ]
  },
  {
   "cell_type": "markdown",
   "metadata": {},
   "source": [
    "But, once you generate them, it works! You can zoom in/out, rotate and translate the molecule. You can even inspect the different conformers (if available) using the trajectory player:"
   ]
  },
  {
   "cell_type": "code",
   "execution_count": 8,
   "metadata": {
    "execution": {
     "iopub.execute_input": "2023-07-05T09:31:53.057500Z",
     "iopub.status.busy": "2023-07-05T09:31:53.055931Z",
     "iopub.status.idle": "2023-07-05T09:31:53.180778Z",
     "shell.execute_reply": "2023-07-05T09:31:53.179988Z"
    },
    "tags": [
     "nbval-skip"
    ]
   },
   "outputs": [
    {
     "data": {
      "application/vnd.jupyter.widget-view+json": {
       "model_id": "e844d61007364f259c482d6165079b3b",
       "version_major": 2,
       "version_minor": 0
      },
      "text/plain": [
       "NGLWidget()"
      ]
     },
     "metadata": {},
     "output_type": "display_data"
    }
   ],
   "source": [
    "m.generate_conformers()\n",
    "m.visualize(backend=\"nglview\")"
   ]
  },
  {
   "cell_type": "markdown",
   "metadata": {},
   "source": [
    "For example, a benzene ring will not have multiple conformers, so you won't see the trajectory player."
   ]
  },
  {
   "cell_type": "code",
   "execution_count": 9,
   "metadata": {
    "execution": {
     "iopub.execute_input": "2023-07-05T09:31:53.184341Z",
     "iopub.status.busy": "2023-07-05T09:31:53.184088Z",
     "iopub.status.idle": "2023-07-05T09:31:53.252038Z",
     "shell.execute_reply": "2023-07-05T09:31:53.251183Z"
    },
    "tags": [
     "nbval-skip"
    ]
   },
   "outputs": [
    {
     "data": {
      "application/vnd.jupyter.widget-view+json": {
       "model_id": "45d87844578b4b8bb05d7fc67d21efe5",
       "version_major": 2,
       "version_minor": 0
      },
      "text/plain": [
       "NGLWidget()"
      ]
     },
     "metadata": {},
     "output_type": "display_data"
    }
   ],
   "source": [
    "n = Molecule.from_smiles(\"c1ccccc1\")\n",
    "n.generate_conformers()\n",
    "n"
   ]
  },
  {
   "cell_type": "markdown",
   "metadata": {},
   "source": [
    "Notice that, once conformers are available, the implicit representation will use `nglview` to provide a 3D visualization."
   ]
  }
 ],
 "metadata": {
  "category": "tutorial",
  "kernelspec": {
   "display_name": "Python 3 (ipykernel)",
   "language": "python",
   "name": "python3"
  },
  "language_info": {
   "codemirror_mode": {
    "name": "ipython",
    "version": 3
   },
   "file_extension": ".py",
   "mimetype": "text/x-python",
   "name": "python",
   "nbconvert_exporter": "python",
   "pygments_lexer": "ipython3",
   "version": "3.10.12"
  },
  "src_repo_tag": "0.14.0",
  "widgets": {
   "application/vnd.jupyter.widget-state+json": {
    "state": {
     "09af8e7b079e4cfd9d001865a6e43977": {
      "model_module": "@jupyter-widgets/base",
      "model_module_version": "2.0.0",
      "model_name": "LayoutModel",
      "state": {
       "_model_module": "@jupyter-widgets/base",
       "_model_module_version": "2.0.0",
       "_model_name": "LayoutModel",
       "_view_count": null,
       "_view_module": "@jupyter-widgets/base",
       "_view_module_version": "2.0.0",
       "_view_name": "LayoutView",
       "align_content": null,
       "align_items": null,
       "align_self": null,
       "border_bottom": null,
       "border_left": null,
       "border_right": null,
       "border_top": null,
       "bottom": null,
       "display": null,
       "flex": null,
       "flex_flow": null,
       "grid_area": null,
       "grid_auto_columns": null,
       "grid_auto_flow": null,
       "grid_auto_rows": null,
       "grid_column": null,
       "grid_gap": null,
       "grid_row": null,
       "grid_template_areas": null,
       "grid_template_columns": null,
       "grid_template_rows": null,
       "height": null,
       "justify_content": null,
       "justify_items": null,
       "left": null,
       "margin": null,
       "max_height": null,
       "max_width": null,
       "min_height": null,
       "min_width": null,
       "object_fit": null,
       "object_position": null,
       "order": null,
       "overflow": null,
       "padding": null,
       "right": null,
       "top": null,
       "visibility": null,
       "width": null
      }
     },
     "104048b04d1a4eaa9a778356149cf9de": {
      "model_module": "@jupyter-widgets/base",
      "model_module_version": "2.0.0",
      "model_name": "LayoutModel",
      "state": {
       "_model_module": "@jupyter-widgets/base",
       "_model_module_version": "2.0.0",
       "_model_name": "LayoutModel",
       "_view_count": null,
       "_view_module": "@jupyter-widgets/base",
       "_view_module_version": "2.0.0",
       "_view_name": "LayoutView",
       "align_content": null,
       "align_items": null,
       "align_self": null,
       "border_bottom": null,
       "border_left": null,
       "border_right": null,
       "border_top": null,
       "bottom": null,
       "display": null,
       "flex": null,
       "flex_flow": null,
       "grid_area": null,
       "grid_auto_columns": null,
       "grid_auto_flow": null,
       "grid_auto_rows": null,
       "grid_column": null,
       "grid_gap": null,
       "grid_row": null,
       "grid_template_areas": null,
       "grid_template_columns": null,
       "grid_template_rows": null,
       "height": null,
       "justify_content": null,
       "justify_items": null,
       "left": null,
       "margin": null,
       "max_height": null,
       "max_width": null,
       "min_height": null,
       "min_width": null,
       "object_fit": null,
       "object_position": null,
       "order": null,
       "overflow": null,
       "padding": null,
       "right": null,
       "top": null,
       "visibility": null,
       "width": null
      }
     },
     "12451d6cc2864066a08652c45d660b22": {
      "model_module": "@jupyter-widgets/base",
      "model_module_version": "2.0.0",
      "model_name": "LayoutModel",
      "state": {
       "_model_module": "@jupyter-widgets/base",
       "_model_module_version": "2.0.0",
       "_model_name": "LayoutModel",
       "_view_count": null,
       "_view_module": "@jupyter-widgets/base",
       "_view_module_version": "2.0.0",
       "_view_name": "LayoutView",
       "align_content": null,
       "align_items": null,
       "align_self": null,
       "border_bottom": null,
       "border_left": null,
       "border_right": null,
       "border_top": null,
       "bottom": null,
       "display": null,
       "flex": null,
       "flex_flow": null,
       "grid_area": null,
       "grid_auto_columns": null,
       "grid_auto_flow": null,
       "grid_auto_rows": null,
       "grid_column": null,
       "grid_gap": null,
       "grid_row": null,
       "grid_template_areas": null,
       "grid_template_columns": null,
       "grid_template_rows": null,
       "height": null,
       "justify_content": null,
       "justify_items": null,
       "left": null,
       "margin": null,
       "max_height": null,
       "max_width": null,
       "min_height": null,
       "min_width": null,
       "object_fit": null,
       "object_position": null,
       "order": null,
       "overflow": null,
       "padding": null,
       "right": null,
       "top": null,
       "visibility": null,
       "width": null
      }
     },
     "145a43476412456997db6111581a0f08": {
      "model_module": "@jupyter-widgets/controls",
      "model_module_version": "2.0.0",
      "model_name": "PlayModel",
      "state": {
       "_dom_classes": [],
       "_model_module": "@jupyter-widgets/controls",
       "_model_module_version": "2.0.0",
       "_model_name": "PlayModel",
       "_view_count": null,
       "_view_module": "@jupyter-widgets/controls",
       "_view_module_version": "2.0.0",
       "_view_name": "PlayView",
       "description": "",
       "description_allow_html": false,
       "disabled": false,
       "interval": 100,
       "layout": "IPY_MODEL_68b6e158614d45babff856ae9e276a70",
       "max": 0,
       "min": 0,
       "playing": false,
       "repeat": false,
       "show_repeat": true,
       "step": 1,
       "style": "IPY_MODEL_3ed4d681e68c4169beb2b2784060ee6b",
       "tabbable": null,
       "tooltip": null,
       "value": 0
      }
     },
     "2394d745190d4e3abc3d4a2995fd4268": {
      "model_module": "@jupyter-widgets/controls",
      "model_module_version": "2.0.0",
      "model_name": "DescriptionStyleModel",
      "state": {
       "_model_module": "@jupyter-widgets/controls",
       "_model_module_version": "2.0.0",
       "_model_name": "DescriptionStyleModel",
       "_view_count": null,
       "_view_module": "@jupyter-widgets/base",
       "_view_module_version": "2.0.0",
       "_view_name": "StyleView",
       "description_width": ""
      }
     },
     "2f467e5fbcb94223b435df652ef198f3": {
      "model_module": "@jupyter-widgets/controls",
      "model_module_version": "2.0.0",
      "model_name": "HBoxModel",
      "state": {
       "_dom_classes": [],
       "_model_module": "@jupyter-widgets/controls",
       "_model_module_version": "2.0.0",
       "_model_name": "HBoxModel",
       "_view_count": null,
       "_view_module": "@jupyter-widgets/controls",
       "_view_module_version": "2.0.0",
       "_view_name": "HBoxView",
       "box_style": "",
       "children": [
        "IPY_MODEL_145a43476412456997db6111581a0f08",
        "IPY_MODEL_c0c88bc4249e4c35972ce95c0e6730a3"
       ],
       "layout": "IPY_MODEL_12451d6cc2864066a08652c45d660b22",
       "tabbable": null,
       "tooltip": null
      }
     },
     "3464f31f0afe432897e0089961805425": {
      "model_module": "@jupyter-widgets/controls",
      "model_module_version": "2.0.0",
      "model_name": "LinkModel",
      "state": {
       "_model_module": "@jupyter-widgets/controls",
       "_model_module_version": "2.0.0",
       "_model_name": "LinkModel",
       "_view_count": null,
       "_view_module": "@jupyter-widgets/controls",
       "_view_module_version": "2.0.0",
       "_view_name": null,
       "source": [
        "IPY_MODEL_145a43476412456997db6111581a0f08",
        "value"
       ],
       "target": [
        "IPY_MODEL_c0c88bc4249e4c35972ce95c0e6730a3",
        "value"
       ]
      }
     },
     "36e34be3a5424b4dace33640cbd20b1e": {
      "model_module": "@jupyter-widgets/base",
      "model_module_version": "2.0.0",
      "model_name": "LayoutModel",
      "state": {
       "_model_module": "@jupyter-widgets/base",
       "_model_module_version": "2.0.0",
       "_model_name": "LayoutModel",
       "_view_count": null,
       "_view_module": "@jupyter-widgets/base",
       "_view_module_version": "2.0.0",
       "_view_name": "LayoutView",
       "align_content": null,
       "align_items": null,
       "align_self": null,
       "border_bottom": null,
       "border_left": null,
       "border_right": null,
       "border_top": null,
       "bottom": null,
       "display": null,
       "flex": null,
       "flex_flow": null,
       "grid_area": null,
       "grid_auto_columns": null,
       "grid_auto_flow": null,
       "grid_auto_rows": null,
       "grid_column": null,
       "grid_gap": null,
       "grid_row": null,
       "grid_template_areas": null,
       "grid_template_columns": null,
       "grid_template_rows": null,
       "height": null,
       "justify_content": null,
       "justify_items": null,
       "left": null,
       "margin": null,
       "max_height": null,
       "max_width": null,
       "min_height": null,
       "min_width": null,
       "object_fit": null,
       "object_position": null,
       "order": null,
       "overflow": null,
       "padding": null,
       "right": null,
       "top": null,
       "visibility": null,
       "width": null
      }
     },
     "37c6ee1e09ff424892e4b68036da180c": {
      "model_module": "@jupyter-widgets/controls",
      "model_module_version": "2.0.0",
      "model_name": "LinkModel",
      "state": {
       "_model_module": "@jupyter-widgets/controls",
       "_model_module_version": "2.0.0",
       "_model_name": "LinkModel",
       "_view_count": null,
       "_view_module": "@jupyter-widgets/controls",
       "_view_module_version": "2.0.0",
       "_view_name": null,
       "source": [
        "IPY_MODEL_e9dad58507ad4ebb941dbb35632e41c0",
        "value"
       ],
       "target": [
        "IPY_MODEL_71292e16d3fd4c33a67ece250699c73d",
        "value"
       ]
      }
     },
     "3ed4d681e68c4169beb2b2784060ee6b": {
      "model_module": "@jupyter-widgets/controls",
      "model_module_version": "2.0.0",
      "model_name": "DescriptionStyleModel",
      "state": {
       "_model_module": "@jupyter-widgets/controls",
       "_model_module_version": "2.0.0",
       "_model_name": "DescriptionStyleModel",
       "_view_count": null,
       "_view_module": "@jupyter-widgets/base",
       "_view_module_version": "2.0.0",
       "_view_name": "StyleView",
       "description_width": ""
      }
     },
     "41eef9090cdd421d9589a1d98d7f2b51": {
      "model_module": "@jupyter-widgets/controls",
      "model_module_version": "2.0.0",
      "model_name": "SliderStyleModel",
      "state": {
       "_model_module": "@jupyter-widgets/controls",
       "_model_module_version": "2.0.0",
       "_model_name": "SliderStyleModel",
       "_view_count": null,
       "_view_module": "@jupyter-widgets/base",
       "_view_module_version": "2.0.0",
       "_view_name": "StyleView",
       "description_width": "",
       "handle_color": null
      }
     },
     "437053712cb740119698bc7565de149a": {
      "model_module": "@jupyter-widgets/base",
      "model_module_version": "2.0.0",
      "model_name": "LayoutModel",
      "state": {
       "_model_module": "@jupyter-widgets/base",
       "_model_module_version": "2.0.0",
       "_model_name": "LayoutModel",
       "_view_count": null,
       "_view_module": "@jupyter-widgets/base",
       "_view_module_version": "2.0.0",
       "_view_name": "LayoutView",
       "align_content": null,
       "align_items": null,
       "align_self": null,
       "border_bottom": null,
       "border_left": null,
       "border_right": null,
       "border_top": null,
       "bottom": null,
       "display": null,
       "flex": null,
       "flex_flow": null,
       "grid_area": null,
       "grid_auto_columns": null,
       "grid_auto_flow": null,
       "grid_auto_rows": null,
       "grid_column": null,
       "grid_gap": null,
       "grid_row": null,
       "grid_template_areas": null,
       "grid_template_columns": null,
       "grid_template_rows": null,
       "height": null,
       "justify_content": null,
       "justify_items": null,
       "left": null,
       "margin": null,
       "max_height": null,
       "max_width": null,
       "min_height": null,
       "min_width": null,
       "object_fit": null,
       "object_position": null,
       "order": null,
       "overflow": null,
       "padding": null,
       "right": null,
       "top": null,
       "visibility": null,
       "width": null
      }
     },
     "45d87844578b4b8bb05d7fc67d21efe5": {
      "model_module": "nglview-js-widgets",
      "model_module_version": "3.0.6",
      "model_name": "NGLModel",
      "state": {
       "_camera_orientation": [],
       "_camera_str": "orthographic",
       "_dom_classes": [],
       "_gui_theme": null,
       "_ibtn_fullscreen": "IPY_MODEL_a2d5522d185a4394873510d82affe535",
       "_igui": null,
       "_iplayer": "IPY_MODEL_2f467e5fbcb94223b435df652ef198f3",
       "_model_module": "nglview-js-widgets",
       "_model_module_version": "3.0.6",
       "_model_name": "NGLModel",
       "_ngl_color_dict": {},
       "_ngl_coordinate_resource": {},
       "_ngl_full_stage_parameters": {},
       "_ngl_msg_archive": [
        {
         "args": [
          {
           "binary": false,
           "data": "HETATM    1  C1  UNL     1      -1.198   0.652  -0.126  1.00  0.00           C  \nHETATM    2  C2  UNL     1      -1.174  -0.720   0.023  1.00  0.00           C  \nHETATM    3  C3  UNL     1       0.033  -1.361   0.148  1.00  0.00           C  \nHETATM    4  C4  UNL     1       1.213  -0.639   0.126  1.00  0.00           C  \nHETATM    5  C5  UNL     1       1.164   0.722  -0.024  1.00  0.00           C  \nHETATM    6  C6  UNL     1      -0.022   1.400  -0.152  1.00  0.00           C  \nHETATM    7  H1  UNL     1      -2.176   1.111  -0.221  1.00  0.00           H  \nHETATM    8  H2  UNL     1      -2.119  -1.274   0.039  1.00  0.00           H  \nHETATM    9  H3  UNL     1       0.050  -2.431   0.264  1.00  0.00           H  \nHETATM   10  H4  UNL     1       2.152  -1.167   0.226  1.00  0.00           H  \nHETATM   11  H5  UNL     1       2.129   1.240  -0.034  1.00  0.00           H  \nHETATM   12  H6  UNL     1      -0.052   2.468  -0.268  1.00  0.00           H  \nCONECT    1    2    2    6    7\nCONECT    2    3    8\nCONECT    3    4    4    9\nCONECT    4    5   10\nCONECT    5    6    6   11\nCONECT    6   12\n",
           "type": "blob"
          }
         ],
         "kwargs": {
          "defaultRepresentation": true,
          "ext": "pdb",
          "name": "<openff.toolkit.utils.viz._OFFTrajectoryNGLView object at 0x7fcbbbf8a410>"
         },
         "methodName": "loadFile",
         "reconstruc_color_scheme": false,
         "target": "Stage",
         "type": "call_method"
        }
       ],
       "_ngl_original_stage_parameters": {},
       "_ngl_repr_dict": {},
       "_ngl_serialize": false,
       "_ngl_version": "",
       "_ngl_view_id": [],
       "_player_dict": {},
       "_scene_position": {},
       "_scene_rotation": {},
       "_synced_model_ids": [],
       "_synced_repr_model_ids": [],
       "_view_count": null,
       "_view_height": "",
       "_view_module": "nglview-js-widgets",
       "_view_module_version": "3.0.6",
       "_view_name": "NGLView",
       "_view_width": "",
       "background": "white",
       "frame": 0,
       "gui_style": null,
       "layout": "IPY_MODEL_36e34be3a5424b4dace33640cbd20b1e",
       "max_frame": 0,
       "n_components": 0,
       "picked": {},
       "tabbable": null,
       "tooltip": null
      }
     },
     "4e25e33515f344508f02c6aa27430a97": {
      "model_module": "@jupyter-widgets/controls",
      "model_module_version": "2.0.0",
      "model_name": "ButtonStyleModel",
      "state": {
       "_model_module": "@jupyter-widgets/controls",
       "_model_module_version": "2.0.0",
       "_model_name": "ButtonStyleModel",
       "_view_count": null,
       "_view_module": "@jupyter-widgets/base",
       "_view_module_version": "2.0.0",
       "_view_name": "StyleView",
       "button_color": null,
       "font_family": null,
       "font_size": null,
       "font_style": null,
       "font_variant": null,
       "font_weight": null,
       "text_color": null,
       "text_decoration": null
      }
     },
     "504b2b2dec8c460185b7aa5f77c52971": {
      "model_module": "@jupyter-widgets/controls",
      "model_module_version": "2.0.0",
      "model_name": "LinkModel",
      "state": {
       "_model_module": "@jupyter-widgets/controls",
       "_model_module_version": "2.0.0",
       "_model_name": "LinkModel",
       "_view_count": null,
       "_view_module": "@jupyter-widgets/controls",
       "_view_module_version": "2.0.0",
       "_view_name": null,
       "source": [
        "IPY_MODEL_c0c88bc4249e4c35972ce95c0e6730a3",
        "max"
       ],
       "target": [
        "IPY_MODEL_45d87844578b4b8bb05d7fc67d21efe5",
        "max_frame"
       ]
      }
     },
     "68b6e158614d45babff856ae9e276a70": {
      "model_module": "@jupyter-widgets/base",
      "model_module_version": "2.0.0",
      "model_name": "LayoutModel",
      "state": {
       "_model_module": "@jupyter-widgets/base",
       "_model_module_version": "2.0.0",
       "_model_name": "LayoutModel",
       "_view_count": null,
       "_view_module": "@jupyter-widgets/base",
       "_view_module_version": "2.0.0",
       "_view_name": "LayoutView",
       "align_content": null,
       "align_items": null,
       "align_self": null,
       "border_bottom": null,
       "border_left": null,
       "border_right": null,
       "border_top": null,
       "bottom": null,
       "display": null,
       "flex": null,
       "flex_flow": null,
       "grid_area": null,
       "grid_auto_columns": null,
       "grid_auto_flow": null,
       "grid_auto_rows": null,
       "grid_column": null,
       "grid_gap": null,
       "grid_row": null,
       "grid_template_areas": null,
       "grid_template_columns": null,
       "grid_template_rows": null,
       "height": null,
       "justify_content": null,
       "justify_items": null,
       "left": null,
       "margin": null,
       "max_height": null,
       "max_width": null,
       "min_height": null,
       "min_width": null,
       "object_fit": null,
       "object_position": null,
       "order": null,
       "overflow": null,
       "padding": null,
       "right": null,
       "top": null,
       "visibility": null,
       "width": null
      }
     },
     "6e3d60baee9d45b8a368806c1e067ecf": {
      "model_module": "@jupyter-widgets/base",
      "model_module_version": "2.0.0",
      "model_name": "LayoutModel",
      "state": {
       "_model_module": "@jupyter-widgets/base",
       "_model_module_version": "2.0.0",
       "_model_name": "LayoutModel",
       "_view_count": null,
       "_view_module": "@jupyter-widgets/base",
       "_view_module_version": "2.0.0",
       "_view_name": "LayoutView",
       "align_content": null,
       "align_items": null,
       "align_self": null,
       "border_bottom": null,
       "border_left": null,
       "border_right": null,
       "border_top": null,
       "bottom": null,
       "display": null,
       "flex": null,
       "flex_flow": null,
       "grid_area": null,
       "grid_auto_columns": null,
       "grid_auto_flow": null,
       "grid_auto_rows": null,
       "grid_column": null,
       "grid_gap": null,
       "grid_row": null,
       "grid_template_areas": null,
       "grid_template_columns": null,
       "grid_template_rows": null,
       "height": null,
       "justify_content": null,
       "justify_items": null,
       "left": null,
       "margin": null,
       "max_height": null,
       "max_width": null,
       "min_height": null,
       "min_width": null,
       "object_fit": null,
       "object_position": null,
       "order": null,
       "overflow": null,
       "padding": null,
       "right": null,
       "top": null,
       "visibility": null,
       "width": null
      }
     },
     "70085288296f485f92ae669588be2790": {
      "buffers": [
       {
        "data": "",
        "encoding": "base64",
        "path": [
         "value"
        ]
       }
      ],
      "model_module": "@jupyter-widgets/controls",
      "model_module_version": "2.0.0",
      "model_name": "ImageModel",
      "state": {
       "_dom_classes": [],
       "_model_module": "@jupyter-widgets/controls",
       "_model_module_version": "2.0.0",
       "_model_name": "ImageModel",
       "_view_count": null,
       "_view_module": "@jupyter-widgets/controls",
       "_view_module_version": "2.0.0",
       "_view_name": "ImageView",
       "format": "png",
       "height": "",
       "layout": "IPY_MODEL_a10ba6e4816040698f66fe5ae9972676",
       "tabbable": null,
       "tooltip": null,
       "width": "900.0"
      }
     },
     "71292e16d3fd4c33a67ece250699c73d": {
      "model_module": "@jupyter-widgets/controls",
      "model_module_version": "2.0.0",
      "model_name": "IntSliderModel",
      "state": {
       "_dom_classes": [],
       "_model_module": "@jupyter-widgets/controls",
       "_model_module_version": "2.0.0",
       "_model_name": "IntSliderModel",
       "_view_count": null,
       "_view_module": "@jupyter-widgets/controls",
       "_view_module_version": "2.0.0",
       "_view_name": "IntSliderView",
       "behavior": "drag-tap",
       "continuous_update": true,
       "description": "",
       "description_allow_html": false,
       "disabled": false,
       "layout": "IPY_MODEL_437053712cb740119698bc7565de149a",
       "max": 0,
       "min": 0,
       "orientation": "horizontal",
       "readout": true,
       "readout_format": "d",
       "step": 1,
       "style": "IPY_MODEL_fbc8c0c345a14c0bb2f1c832149421ed",
       "tabbable": null,
       "tooltip": null,
       "value": 0
      }
     },
     "7227f88ef20a4e63981d5505727ac5a5": {
      "model_module": "@jupyter-widgets/controls",
      "model_module_version": "2.0.0",
      "model_name": "LinkModel",
      "state": {
       "_model_module": "@jupyter-widgets/controls",
       "_model_module_version": "2.0.0",
       "_model_name": "LinkModel",
       "_view_count": null,
       "_view_module": "@jupyter-widgets/controls",
       "_view_module_version": "2.0.0",
       "_view_name": null,
       "source": [
        "IPY_MODEL_e9dad58507ad4ebb941dbb35632e41c0",
        "max"
       ],
       "target": [
        "IPY_MODEL_e844d61007364f259c482d6165079b3b",
        "max_frame"
       ]
      }
     },
     "7aacebcb7cf5486c8050f4b1900c2a4e": {
      "model_module": "@jupyter-widgets/base",
      "model_module_version": "2.0.0",
      "model_name": "LayoutModel",
      "state": {
       "_model_module": "@jupyter-widgets/base",
       "_model_module_version": "2.0.0",
       "_model_name": "LayoutModel",
       "_view_count": null,
       "_view_module": "@jupyter-widgets/base",
       "_view_module_version": "2.0.0",
       "_view_name": "LayoutView",
       "align_content": null,
       "align_items": null,
       "align_self": null,
       "border_bottom": null,
       "border_left": null,
       "border_right": null,
       "border_top": null,
       "bottom": null,
       "display": null,
       "flex": null,
       "flex_flow": null,
       "grid_area": null,
       "grid_auto_columns": null,
       "grid_auto_flow": null,
       "grid_auto_rows": null,
       "grid_column": null,
       "grid_gap": null,
       "grid_row": null,
       "grid_template_areas": null,
       "grid_template_columns": null,
       "grid_template_rows": null,
       "height": null,
       "justify_content": null,
       "justify_items": null,
       "left": null,
       "margin": null,
       "max_height": null,
       "max_width": null,
       "min_height": null,
       "min_width": null,
       "object_fit": null,
       "object_position": null,
       "order": null,
       "overflow": null,
       "padding": null,
       "right": null,
       "top": null,
       "visibility": null,
       "width": "34px"
      }
     },
     "7c910003dfa4450c902522d46e0b2de0": {
      "model_module": "@jupyter-widgets/controls",
      "model_module_version": "2.0.0",
      "model_name": "LinkModel",
      "state": {
       "_model_module": "@jupyter-widgets/controls",
       "_model_module_version": "2.0.0",
       "_model_name": "LinkModel",
       "_view_count": null,
       "_view_module": "@jupyter-widgets/controls",
       "_view_module_version": "2.0.0",
       "_view_name": null,
       "source": [
        "IPY_MODEL_71292e16d3fd4c33a67ece250699c73d",
        "max"
       ],
       "target": [
        "IPY_MODEL_e844d61007364f259c482d6165079b3b",
        "max_frame"
       ]
      }
     },
     "7cf02df24dd24d838aa6d48fa9c7e106": {
      "model_module": "@jupyter-widgets/controls",
      "model_module_version": "2.0.0",
      "model_name": "ButtonModel",
      "state": {
       "_dom_classes": [],
       "_model_module": "@jupyter-widgets/controls",
       "_model_module_version": "2.0.0",
       "_model_name": "ButtonModel",
       "_view_count": null,
       "_view_module": "@jupyter-widgets/controls",
       "_view_module_version": "2.0.0",
       "_view_name": "ButtonView",
       "button_style": "",
       "description": "",
       "disabled": false,
       "icon": "compress",
       "layout": "IPY_MODEL_8709a973a28a45a9b0bc6a10be9c4c9e",
       "style": "IPY_MODEL_4e25e33515f344508f02c6aa27430a97",
       "tabbable": null,
       "tooltip": null
      }
     },
     "805979fdb9b34ac98237f2c8ff15015e": {
      "model_module": "@jupyter-widgets/controls",
      "model_module_version": "2.0.0",
      "model_name": "ButtonStyleModel",
      "state": {
       "_model_module": "@jupyter-widgets/controls",
       "_model_module_version": "2.0.0",
       "_model_name": "ButtonStyleModel",
       "_view_count": null,
       "_view_module": "@jupyter-widgets/base",
       "_view_module_version": "2.0.0",
       "_view_name": "StyleView",
       "button_color": null,
       "font_family": null,
       "font_size": null,
       "font_style": null,
       "font_variant": null,
       "font_weight": null,
       "text_color": null,
       "text_decoration": null
      }
     },
     "8709a973a28a45a9b0bc6a10be9c4c9e": {
      "model_module": "@jupyter-widgets/base",
      "model_module_version": "2.0.0",
      "model_name": "LayoutModel",
      "state": {
       "_model_module": "@jupyter-widgets/base",
       "_model_module_version": "2.0.0",
       "_model_name": "LayoutModel",
       "_view_count": null,
       "_view_module": "@jupyter-widgets/base",
       "_view_module_version": "2.0.0",
       "_view_name": "LayoutView",
       "align_content": null,
       "align_items": null,
       "align_self": null,
       "border_bottom": null,
       "border_left": null,
       "border_right": null,
       "border_top": null,
       "bottom": null,
       "display": null,
       "flex": null,
       "flex_flow": null,
       "grid_area": null,
       "grid_auto_columns": null,
       "grid_auto_flow": null,
       "grid_auto_rows": null,
       "grid_column": null,
       "grid_gap": null,
       "grid_row": null,
       "grid_template_areas": null,
       "grid_template_columns": null,
       "grid_template_rows": null,
       "height": null,
       "justify_content": null,
       "justify_items": null,
       "left": null,
       "margin": null,
       "max_height": null,
       "max_width": null,
       "min_height": null,
       "min_width": null,
       "object_fit": null,
       "object_position": null,
       "order": null,
       "overflow": null,
       "padding": null,
       "right": null,
       "top": null,
       "visibility": null,
       "width": "34px"
      }
     },
     "8accdbce0fcb4d45a5e014f66845ccc6": {
      "model_module": "@jupyter-widgets/base",
      "model_module_version": "2.0.0",
      "model_name": "LayoutModel",
      "state": {
       "_model_module": "@jupyter-widgets/base",
       "_model_module_version": "2.0.0",
       "_model_name": "LayoutModel",
       "_view_count": null,
       "_view_module": "@jupyter-widgets/base",
       "_view_module_version": "2.0.0",
       "_view_name": "LayoutView",
       "align_content": null,
       "align_items": null,
       "align_self": null,
       "border_bottom": null,
       "border_left": null,
       "border_right": null,
       "border_top": null,
       "bottom": null,
       "display": null,
       "flex": null,
       "flex_flow": null,
       "grid_area": null,
       "grid_auto_columns": null,
       "grid_auto_flow": null,
       "grid_auto_rows": null,
       "grid_column": null,
       "grid_gap": null,
       "grid_row": null,
       "grid_template_areas": null,
       "grid_template_columns": null,
       "grid_template_rows": null,
       "height": null,
       "justify_content": null,
       "justify_items": null,
       "left": null,
       "margin": null,
       "max_height": null,
       "max_width": null,
       "min_height": null,
       "min_width": null,
       "object_fit": null,
       "object_position": null,
       "order": null,
       "overflow": null,
       "padding": null,
       "right": null,
       "top": null,
       "visibility": null,
       "width": null
      }
     },
     "90c1cfb778584442a75269eac19e2d4c": {
      "model_module": "@jupyter-widgets/base",
      "model_module_version": "2.0.0",
      "model_name": "LayoutModel",
      "state": {
       "_model_module": "@jupyter-widgets/base",
       "_model_module_version": "2.0.0",
       "_model_name": "LayoutModel",
       "_view_count": null,
       "_view_module": "@jupyter-widgets/base",
       "_view_module_version": "2.0.0",
       "_view_name": "LayoutView",
       "align_content": null,
       "align_items": null,
       "align_self": null,
       "border_bottom": null,
       "border_left": null,
       "border_right": null,
       "border_top": null,
       "bottom": null,
       "display": null,
       "flex": null,
       "flex_flow": null,
       "grid_area": null,
       "grid_auto_columns": null,
       "grid_auto_flow": null,
       "grid_auto_rows": null,
       "grid_column": null,
       "grid_gap": null,
       "grid_row": null,
       "grid_template_areas": null,
       "grid_template_columns": null,
       "grid_template_rows": null,
       "height": null,
       "justify_content": null,
       "justify_items": null,
       "left": null,
       "margin": null,
       "max_height": null,
       "max_width": null,
       "min_height": null,
       "min_width": null,
       "object_fit": null,
       "object_position": null,
       "order": null,
       "overflow": null,
       "padding": null,
       "right": null,
       "top": null,
       "visibility": null,
       "width": null
      }
     },
     "9b329ef2c13c4bb69049e3deb76d1b68": {
      "model_module": "@jupyter-widgets/controls",
      "model_module_version": "2.0.0",
      "model_name": "LinkModel",
      "state": {
       "_model_module": "@jupyter-widgets/controls",
       "_model_module_version": "2.0.0",
       "_model_name": "LinkModel",
       "_view_count": null,
       "_view_module": "@jupyter-widgets/controls",
       "_view_module_version": "2.0.0",
       "_view_name": null,
       "source": [
        "IPY_MODEL_145a43476412456997db6111581a0f08",
        "max"
       ],
       "target": [
        "IPY_MODEL_45d87844578b4b8bb05d7fc67d21efe5",
        "max_frame"
       ]
      }
     },
     "a10ba6e4816040698f66fe5ae9972676": {
      "model_module": "@jupyter-widgets/base",
      "model_module_version": "2.0.0",
      "model_name": "LayoutModel",
      "state": {
       "_model_module": "@jupyter-widgets/base",
       "_model_module_version": "2.0.0",
       "_model_name": "LayoutModel",
       "_view_count": null,
       "_view_module": "@jupyter-widgets/base",
       "_view_module_version": "2.0.0",
       "_view_name": "LayoutView",
       "align_content": null,
       "align_items": null,
       "align_self": null,
       "border_bottom": null,
       "border_left": null,
       "border_right": null,
       "border_top": null,
       "bottom": null,
       "display": null,
       "flex": null,
       "flex_flow": null,
       "grid_area": null,
       "grid_auto_columns": null,
       "grid_auto_flow": null,
       "grid_auto_rows": null,
       "grid_column": null,
       "grid_gap": null,
       "grid_row": null,
       "grid_template_areas": null,
       "grid_template_columns": null,
       "grid_template_rows": null,
       "height": null,
       "justify_content": null,
       "justify_items": null,
       "left": null,
       "margin": null,
       "max_height": null,
       "max_width": null,
       "min_height": null,
       "min_width": null,
       "object_fit": null,
       "object_position": null,
       "order": null,
       "overflow": null,
       "padding": null,
       "right": null,
       "top": null,
       "visibility": null,
       "width": null
      }
     },
     "a2d5522d185a4394873510d82affe535": {
      "model_module": "@jupyter-widgets/controls",
      "model_module_version": "2.0.0",
      "model_name": "ButtonModel",
      "state": {
       "_dom_classes": [],
       "_model_module": "@jupyter-widgets/controls",
       "_model_module_version": "2.0.0",
       "_model_name": "ButtonModel",
       "_view_count": null,
       "_view_module": "@jupyter-widgets/controls",
       "_view_module_version": "2.0.0",
       "_view_name": "ButtonView",
       "button_style": "",
       "description": "",
       "disabled": false,
       "icon": "compress",
       "layout": "IPY_MODEL_7aacebcb7cf5486c8050f4b1900c2a4e",
       "style": "IPY_MODEL_805979fdb9b34ac98237f2c8ff15015e",
       "tabbable": null,
       "tooltip": null
      }
     },
     "ac8996216f824f8aa13aefea704ee045": {
      "model_module": "@jupyter-widgets/controls",
      "model_module_version": "2.0.0",
      "model_name": "LinkModel",
      "state": {
       "_model_module": "@jupyter-widgets/controls",
       "_model_module_version": "2.0.0",
       "_model_name": "LinkModel",
       "_view_count": null,
       "_view_module": "@jupyter-widgets/controls",
       "_view_module_version": "2.0.0",
       "_view_name": null,
       "source": [
        "IPY_MODEL_e9dad58507ad4ebb941dbb35632e41c0",
        "value"
       ],
       "target": [
        "IPY_MODEL_e844d61007364f259c482d6165079b3b",
        "frame"
       ]
      }
     },
     "b68237f67e49491eb85b217caf783881": {
      "model_module": "@jupyter-widgets/base",
      "model_module_version": "2.0.0",
      "model_name": "LayoutModel",
      "state": {
       "_model_module": "@jupyter-widgets/base",
       "_model_module_version": "2.0.0",
       "_model_name": "LayoutModel",
       "_view_count": null,
       "_view_module": "@jupyter-widgets/base",
       "_view_module_version": "2.0.0",
       "_view_name": "LayoutView",
       "align_content": null,
       "align_items": null,
       "align_self": null,
       "border_bottom": null,
       "border_left": null,
       "border_right": null,
       "border_top": null,
       "bottom": null,
       "display": null,
       "flex": null,
       "flex_flow": null,
       "grid_area": null,
       "grid_auto_columns": null,
       "grid_auto_flow": null,
       "grid_auto_rows": null,
       "grid_column": null,
       "grid_gap": null,
       "grid_row": null,
       "grid_template_areas": null,
       "grid_template_columns": null,
       "grid_template_rows": null,
       "height": null,
       "justify_content": null,
       "justify_items": null,
       "left": null,
       "margin": null,
       "max_height": null,
       "max_width": null,
       "min_height": null,
       "min_width": null,
       "object_fit": null,
       "object_position": null,
       "order": null,
       "overflow": null,
       "padding": null,
       "right": null,
       "top": null,
       "visibility": null,
       "width": null
      }
     },
     "b7f80d746d04471db7134e25a287a16a": {
      "model_module": "nglview-js-widgets",
      "model_module_version": "3.0.6",
      "model_name": "ColormakerRegistryModel",
      "state": {
       "_dom_classes": [],
       "_model_module": "nglview-js-widgets",
       "_model_module_version": "3.0.6",
       "_model_name": "ColormakerRegistryModel",
       "_msg_ar": [],
       "_msg_q": [],
       "_ready": false,
       "_view_count": null,
       "_view_module": "nglview-js-widgets",
       "_view_module_version": "3.0.6",
       "_view_name": "ColormakerRegistryView",
       "layout": "IPY_MODEL_90c1cfb778584442a75269eac19e2d4c",
       "tabbable": null,
       "tooltip": null
      }
     },
     "c0c88bc4249e4c35972ce95c0e6730a3": {
      "model_module": "@jupyter-widgets/controls",
      "model_module_version": "2.0.0",
      "model_name": "IntSliderModel",
      "state": {
       "_dom_classes": [],
       "_model_module": "@jupyter-widgets/controls",
       "_model_module_version": "2.0.0",
       "_model_name": "IntSliderModel",
       "_view_count": null,
       "_view_module": "@jupyter-widgets/controls",
       "_view_module_version": "2.0.0",
       "_view_name": "IntSliderView",
       "behavior": "drag-tap",
       "continuous_update": true,
       "description": "",
       "description_allow_html": false,
       "disabled": false,
       "layout": "IPY_MODEL_09af8e7b079e4cfd9d001865a6e43977",
       "max": 0,
       "min": 0,
       "orientation": "horizontal",
       "readout": true,
       "readout_format": "d",
       "step": 1,
       "style": "IPY_MODEL_41eef9090cdd421d9589a1d98d7f2b51",
       "tabbable": null,
       "tooltip": null,
       "value": 0
      }
     },
     "ccc3415ff1804bd8ad103f73d1d5666b": {
      "model_module": "@jupyter-widgets/controls",
      "model_module_version": "2.0.0",
      "model_name": "HBoxModel",
      "state": {
       "_dom_classes": [],
       "_model_module": "@jupyter-widgets/controls",
       "_model_module_version": "2.0.0",
       "_model_name": "HBoxModel",
       "_view_count": null,
       "_view_module": "@jupyter-widgets/controls",
       "_view_module_version": "2.0.0",
       "_view_name": "HBoxView",
       "box_style": "",
       "children": [
        "IPY_MODEL_e9dad58507ad4ebb941dbb35632e41c0",
        "IPY_MODEL_71292e16d3fd4c33a67ece250699c73d"
       ],
       "layout": "IPY_MODEL_8accdbce0fcb4d45a5e014f66845ccc6",
       "tabbable": null,
       "tooltip": null
      }
     },
     "e1f927bdfe094ea6adb4d16552c79a86": {
      "buffers": [
       {
        "data": "",
        "encoding": "base64",
        "path": [
         "value"
        ]
       }
      ],
      "model_module": "@jupyter-widgets/controls",
      "model_module_version": "2.0.0",
      "model_name": "ImageModel",
      "state": {
       "_dom_classes": [],
       "_model_module": "@jupyter-widgets/controls",
       "_model_module_version": "2.0.0",
       "_model_name": "ImageModel",
       "_view_count": null,
       "_view_module": "@jupyter-widgets/controls",
       "_view_module_version": "2.0.0",
       "_view_name": "ImageView",
       "format": "png",
       "height": "",
       "layout": "IPY_MODEL_6e3d60baee9d45b8a368806c1e067ecf",
       "tabbable": null,
       "tooltip": null,
       "width": "900.0"
      }
     },
     "e844d61007364f259c482d6165079b3b": {
      "model_module": "nglview-js-widgets",
      "model_module_version": "3.0.6",
      "model_name": "NGLModel",
      "state": {
       "_camera_orientation": [],
       "_camera_str": "orthographic",
       "_dom_classes": [],
       "_gui_theme": null,
       "_ibtn_fullscreen": "IPY_MODEL_7cf02df24dd24d838aa6d48fa9c7e106",
       "_igui": null,
       "_iplayer": "IPY_MODEL_ccc3415ff1804bd8ad103f73d1d5666b",
       "_model_module": "nglview-js-widgets",
       "_model_module_version": "3.0.6",
       "_model_name": "NGLModel",
       "_ngl_color_dict": {},
       "_ngl_coordinate_resource": {},
       "_ngl_full_stage_parameters": {},
       "_ngl_msg_archive": [
        {
         "args": [
          {
           "binary": false,
           "data": "HETATM    1  C1  UNL     1      -3.207   0.773  -0.164  1.00  0.00           C  \nHETATM    2  C2  UNL     1      -1.733   0.688   0.225  1.00  0.00           C  \nHETATM    3  C3  UNL     1      -1.294  -0.764   0.068  1.00  0.00           C  \nHETATM    4  C4  UNL     1       0.160  -0.895   0.442  1.00  0.00           C  \nHETATM    5  O1  UNL     1       0.986  -0.107  -0.357  1.00  0.00           O  \nHETATM    6  C5  UNL     1       2.299  -0.317   0.089  1.00  0.00           C  \nHETATM    7  C6  UNL     1       3.309   0.466  -0.677  1.00  0.00           C  \nHETATM    8  H1  UNL     1      -3.569  -0.198  -0.539  1.00  0.00           H  \nHETATM    9  H2  UNL     1      -3.365   1.570  -0.943  1.00  0.00           H  \nHETATM   10  H3  UNL     1      -3.828   1.072   0.725  1.00  0.00           H  \nHETATM   11  H4  UNL     1      -1.646   0.964   1.298  1.00  0.00           H  \nHETATM   12  H5  UNL     1      -1.161   1.367  -0.436  1.00  0.00           H  \nHETATM   13  H6  UNL     1      -1.869  -1.333   0.841  1.00  0.00           H  \nHETATM   14  H7  UNL     1      -1.503  -1.132  -0.938  1.00  0.00           H  \nHETATM   15  H8  UNL     1       0.307  -0.702   1.506  1.00  0.00           H  \nHETATM   16  H9  UNL     1       0.455  -1.956   0.231  1.00  0.00           H  \nHETATM   17  H10 UNL     1       2.476  -1.419  -0.033  1.00  0.00           H  \nHETATM   18  H11 UNL     1       2.322  -0.092   1.161  1.00  0.00           H  \nHETATM   19  H12 UNL     1       3.680   1.329  -0.056  1.00  0.00           H  \nHETATM   20  H13 UNL     1       4.223  -0.183  -0.810  1.00  0.00           H  \nHETATM   21  H14 UNL     1       2.957   0.868  -1.633  1.00  0.00           H  \nCONECT    1    2    8    9   10\nCONECT    2    3   11   12\nCONECT    3    4   13   14\nCONECT    4    5   15   16\nCONECT    5    6\nCONECT    6    7   17   18\nCONECT    7   19   20   21\n",
           "type": "blob"
          }
         ],
         "kwargs": {
          "defaultRepresentation": true,
          "ext": "pdb",
          "name": "<openff.toolkit.utils.viz._OFFTrajectoryNGLView object at 0x7fcbf61135e0>"
         },
         "methodName": "loadFile",
         "reconstruc_color_scheme": false,
         "target": "Stage",
         "type": "call_method"
        }
       ],
       "_ngl_original_stage_parameters": {},
       "_ngl_repr_dict": {},
       "_ngl_serialize": false,
       "_ngl_version": "",
       "_ngl_view_id": [],
       "_player_dict": {},
       "_scene_position": {},
       "_scene_rotation": {},
       "_synced_model_ids": [],
       "_synced_repr_model_ids": [],
       "_view_count": null,
       "_view_height": "",
       "_view_module": "nglview-js-widgets",
       "_view_module_version": "3.0.6",
       "_view_name": "NGLView",
       "_view_width": "",
       "background": "white",
       "frame": 0,
       "gui_style": null,
       "layout": "IPY_MODEL_b68237f67e49491eb85b217caf783881",
       "max_frame": 0,
       "n_components": 0,
       "picked": {},
       "tabbable": null,
       "tooltip": null
      }
     },
     "e9dad58507ad4ebb941dbb35632e41c0": {
      "model_module": "@jupyter-widgets/controls",
      "model_module_version": "2.0.0",
      "model_name": "PlayModel",
      "state": {
       "_dom_classes": [],
       "_model_module": "@jupyter-widgets/controls",
       "_model_module_version": "2.0.0",
       "_model_name": "PlayModel",
       "_view_count": null,
       "_view_module": "@jupyter-widgets/controls",
       "_view_module_version": "2.0.0",
       "_view_name": "PlayView",
       "description": "",
       "description_allow_html": false,
       "disabled": false,
       "interval": 100,
       "layout": "IPY_MODEL_104048b04d1a4eaa9a778356149cf9de",
       "max": 0,
       "min": 0,
       "playing": false,
       "repeat": false,
       "show_repeat": true,
       "step": 1,
       "style": "IPY_MODEL_2394d745190d4e3abc3d4a2995fd4268",
       "tabbable": null,
       "tooltip": null,
       "value": 0
      }
     },
     "fb1efe4df14e4ad097869f7ae353acbf": {
      "model_module": "@jupyter-widgets/controls",
      "model_module_version": "2.0.0",
      "model_name": "LinkModel",
      "state": {
       "_model_module": "@jupyter-widgets/controls",
       "_model_module_version": "2.0.0",
       "_model_name": "LinkModel",
       "_view_count": null,
       "_view_module": "@jupyter-widgets/controls",
       "_view_module_version": "2.0.0",
       "_view_name": null,
       "source": [
        "IPY_MODEL_145a43476412456997db6111581a0f08",
        "value"
       ],
       "target": [
        "IPY_MODEL_45d87844578b4b8bb05d7fc67d21efe5",
        "frame"
       ]
      }
     },
     "fbc8c0c345a14c0bb2f1c832149421ed": {
      "model_module": "@jupyter-widgets/controls",
      "model_module_version": "2.0.0",
      "model_name": "SliderStyleModel",
      "state": {
       "_model_module": "@jupyter-widgets/controls",
       "_model_module_version": "2.0.0",
       "_model_name": "SliderStyleModel",
       "_view_count": null,
       "_view_module": "@jupyter-widgets/base",
       "_view_module_version": "2.0.0",
       "_view_name": "StyleView",
       "description_width": "",
       "handle_color": null
      }
     }
    },
    "version_major": 2,
    "version_minor": 0
   }
  }
 },
 "nbformat": 4,
 "nbformat_minor": 4
}
