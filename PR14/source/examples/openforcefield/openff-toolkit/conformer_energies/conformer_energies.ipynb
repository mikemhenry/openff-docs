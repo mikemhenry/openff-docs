{
 "cells": [
  {
   "cell_type": "markdown",
   "metadata": {
    "tags": []
   },
   "source": [
    "# Compute conformer energies for a small molecule\n",
    "\n",
    "This notebook illustrates reading conformers of a molecule from an SDF file and computation of vacuum conformer energies using a SMIRNOFF force field.\n",
    "\n",
    "Note that absolute vacuum potential energies can be sensitive to small changes in partial charge, for example due to using OpenEye or AmberTools to generate AM1-BCC charges. However, in our experience, _relative_ conformer energies are fairly consistent between AM1-BCC implementations.\n",
    "\n",
    "Note also that the Open Force Field Toolkit produces deterministic charges that do not depend on the input conformation of parameterized molecules. See the [FAQ](https://open-forcefield-toolkit.readthedocs.io/en/stable/faq.html#the-partial-charges-generated-by-the-toolkit-don-t-seem-to-depend-on-the-molecule-s-conformation-is-this-a-bug) for more information."
   ]
  },
  {
   "cell_type": "code",
   "execution_count": 1,
   "metadata": {
    "execution": {
     "iopub.execute_input": "2023-07-05T09:25:21.727039Z",
     "iopub.status.busy": "2023-07-05T09:25:21.723991Z",
     "iopub.status.idle": "2023-07-05T09:25:23.655684Z",
     "shell.execute_reply": "2023-07-05T09:25:23.654828Z"
    },
    "tags": []
   },
   "outputs": [
    {
     "data": {
      "application/vnd.jupyter.widget-view+json": {
       "model_id": "703c85021a5f40a4b5b191fc4d2265fb",
       "version_major": 2,
       "version_minor": 0
      },
      "text/plain": []
     },
     "metadata": {},
     "output_type": "display_data"
    }
   ],
   "source": [
    "import openmm\n",
    "from openff.interchange import Interchange\n",
    "from openff.units.openmm import from_openmm\n",
    "from rdkit.Chem import rdMolAlign\n",
    "\n",
    "from openff.toolkit import ForceField, Molecule\n",
    "from openff.toolkit.utils import get_data_file_path"
   ]
  },
  {
   "cell_type": "markdown",
   "metadata": {},
   "source": [
    "First, load conformers from an SDF file. SDF files with multiple molecules are always interpreted as a list of molecules rather than as a single molecule with multiple conformers, so we also need to collapse them all into a single molecule."
   ]
  },
  {
   "cell_type": "code",
   "execution_count": 2,
   "metadata": {
    "execution": {
     "iopub.execute_input": "2023-07-05T09:25:23.680202Z",
     "iopub.status.busy": "2023-07-05T09:25:23.679416Z",
     "iopub.status.idle": "2023-07-05T09:25:23.902192Z",
     "shell.execute_reply": "2023-07-05T09:25:23.901389Z"
    }
   },
   "outputs": [
    {
     "name": "stdout",
     "output_type": "stream",
     "text": [
      "Loaded 10 conformers of 'N#CC[C@H](C1CCCC1)n1cc(-c2ncnc3[nH]ccc23)cn1' (ruxolitinib)\n"
     ]
    },
    {
     "data": {
      "application/vnd.jupyter.widget-view+json": {
       "model_id": "3337fb5d5dfe46e48546da61b083a4ff",
       "version_major": 2,
       "version_minor": 0
      },
      "text/plain": [
       "NGLWidget(max_frame=9)"
      ]
     },
     "metadata": {},
     "output_type": "display_data"
    }
   ],
   "source": [
    "loaded_molecules = Molecule.from_file(\n",
    "    get_data_file_path(\"molecules/ruxolitinib_conformers.sdf\"),\n",
    ")\n",
    "\n",
    "# Normalize to list\n",
    "try:\n",
    "    loaded_molecules = [*loaded_molecules]\n",
    "except TypeError:\n",
    "    loaded_molecules = [loaded_molecules]\n",
    "\n",
    "# from_file loads each entry in the SDF into its own molecule,\n",
    "# so collapse conformers into the same molecule\n",
    "molecule = loaded_molecules.pop(0)\n",
    "for next_molecule in loaded_molecules:\n",
    "    if next_molecule == molecule:\n",
    "        for conformer in next_molecule.conformers:\n",
    "            molecule.add_conformer(conformer)\n",
    "    else:\n",
    "        # We're assuming the SDF just has multiple conformers of the\n",
    "        # same molecule, so raise an error if that's not the case\n",
    "        raise ValueError(\"Multiple chemical species loaded\")\n",
    "\n",
    "# Make sure the molecule has a name\n",
    "if not molecule.name:\n",
    "    molecule.name = molecule.to_hill_formula()\n",
    "\n",
    "print(\n",
    "    f\"Loaded {molecule.n_conformers} conformers\"\n",
    "    + f\" of {molecule.to_smiles(explicit_hydrogens=False)!r}\"\n",
    "    + f\" ({molecule.name})\"\n",
    ")\n",
    "molecule"
   ]
  },
  {
   "cell_type": "markdown",
   "metadata": {},
   "source": [
    "Next, load the Sage force field. We'll use the version without constraints, as it's more appropriate for energy minimization - see the [FAQ](https://docs.openforcefield.org/projects/toolkit/en/stable/faq.html#what-does-unconstrained-mean-in-a-force-field-name) for more information about constraints."
   ]
  },
  {
   "cell_type": "code",
   "execution_count": 3,
   "metadata": {
    "execution": {
     "iopub.execute_input": "2023-07-05T09:25:23.906279Z",
     "iopub.status.busy": "2023-07-05T09:25:23.905692Z",
     "iopub.status.idle": "2023-07-05T09:25:24.489312Z",
     "shell.execute_reply": "2023-07-05T09:25:24.488435Z"
    },
    "tags": []
   },
   "outputs": [],
   "source": [
    "# Load the openff-2.1.0 force field appropriate for vacuum calculations (without constraints)\n",
    "forcefield = ForceField(\"openff_unconstrained-2.1.0.offxml\")"
   ]
  },
  {
   "cell_type": "markdown",
   "metadata": {},
   "source": [
    "We'll now apply the Sage force field to the molecule to produce an [`Interchange`], and then an OpenMM [`Simulation`] object. Interchange can produce inputs for a whole host of other MD engines though!\n",
    "\n",
    "[`Interchange`]: https://docs.openforcefield.org/projects/interchange/en/stable/_autosummary/openff.interchange.Interchange.html#openff.interchange.Interchange\n",
    "[`Simulation`]: http://docs.openmm.org/latest/api-python/generated/openmm.app.simulation.Simulation.html#openmm.app.simulation.Simulation"
   ]
  },
  {
   "cell_type": "code",
   "execution_count": 4,
   "metadata": {
    "execution": {
     "iopub.execute_input": "2023-07-05T09:25:24.495560Z",
     "iopub.status.busy": "2023-07-05T09:25:24.494180Z",
     "iopub.status.idle": "2023-07-05T09:27:40.529183Z",
     "shell.execute_reply": "2023-07-05T09:27:40.528243Z"
    },
    "tags": []
   },
   "outputs": [
    {
     "name": "stdout",
     "output_type": "stream",
     "text": [
      "Parametrizing ruxolitinib (may take a moment to calculate charges)...\n"
     ]
    },
    {
     "name": "stdout",
     "output_type": "stream",
     "text": [
      "Done.\n"
     ]
    }
   ],
   "source": [
    "print(f\"Parametrizing {molecule.name} (may take a moment to calculate charges)...\")\n",
    "interchange = Interchange.from_smirnoff(forcefield, [molecule])\n",
    "print(\"Done.\")\n",
    "\n",
    "integrator = openmm.VerletIntegrator(1 * openmm.unit.femtoseconds)\n",
    "simulation = interchange.to_openmm_simulation(integrator)"
   ]
  },
  {
   "cell_type": "markdown",
   "metadata": {},
   "source": [
    "Now we'll perform the actual minimizations, and store the outputs in a few lists and a second molecule:"
   ]
  },
  {
   "cell_type": "code",
   "execution_count": 5,
   "metadata": {
    "execution": {
     "iopub.execute_input": "2023-07-05T09:27:40.534307Z",
     "iopub.status.busy": "2023-07-05T09:27:40.532848Z",
     "iopub.status.idle": "2023-07-05T09:27:40.973334Z",
     "shell.execute_reply": "2023-07-05T09:27:40.972439Z"
    },
    "tags": []
   },
   "outputs": [],
   "source": [
    "# We'll store energies in two lists\n",
    "initial_energies = []\n",
    "minimized_energies = []\n",
    "\n",
    "# And minimized conformers in a second molecule\n",
    "minimized_molecule = Molecule(molecule)\n",
    "minimized_molecule.conformers.clear()\n",
    "\n",
    "for conformer in molecule.conformers:\n",
    "    # Tell the OpenMM Simulation the positions of this conformer\n",
    "    simulation.context.setPositions(conformer.to_openmm())\n",
    "\n",
    "    # Keep a record of the initial energy\n",
    "    initial_energies.append(\n",
    "        simulation.context.getState(getEnergy=True).getPotentialEnergy()\n",
    "    )\n",
    "\n",
    "    # Perform the minimization\n",
    "    simulation.minimizeEnergy()\n",
    "\n",
    "    # Record minimized energy and positions\n",
    "    min_state = simulation.context.getState(getEnergy=True, getPositions=True)\n",
    "\n",
    "    minimized_energies.append(min_state.getPotentialEnergy())\n",
    "    minimized_molecule.add_conformer(from_openmm(min_state.getPositions()))"
   ]
  },
  {
   "cell_type": "markdown",
   "metadata": {},
   "source": [
    "We can visualize the minimised `Molecule`:"
   ]
  },
  {
   "cell_type": "code",
   "execution_count": 6,
   "metadata": {
    "execution": {
     "iopub.execute_input": "2023-07-05T09:27:40.979363Z",
     "iopub.status.busy": "2023-07-05T09:27:40.978086Z",
     "iopub.status.idle": "2023-07-05T09:27:41.050564Z",
     "shell.execute_reply": "2023-07-05T09:27:41.049789Z"
    },
    "tags": []
   },
   "outputs": [
    {
     "data": {
      "application/vnd.jupyter.widget-view+json": {
       "model_id": "738779abd1074cc3a820b83f0398ddca",
       "version_major": 2,
       "version_minor": 0
      },
      "text/plain": [
       "NGLWidget(max_frame=9)"
      ]
     },
     "metadata": {},
     "output_type": "display_data"
    }
   ],
   "source": [
    "minimized_molecule"
   ]
  },
  {
   "cell_type": "markdown",
   "metadata": {},
   "source": [
    "And we can write the results of the minimisation out to files as a permanent record:"
   ]
  },
  {
   "cell_type": "code",
   "execution_count": 7,
   "metadata": {
    "execution": {
     "iopub.execute_input": "2023-07-05T09:27:41.060923Z",
     "iopub.status.busy": "2023-07-05T09:27:41.059078Z",
     "iopub.status.idle": "2023-07-05T09:27:41.148311Z",
     "shell.execute_reply": "2023-07-05T09:27:41.147466Z"
    },
    "tags": []
   },
   "outputs": [
    {
     "name": "stdout",
     "output_type": "stream",
     "text": [
      "ruxolitinib: 10 conformers\n",
      "Conformer         Initial PE        Minimized PE        RMSD\n",
      "    1 /    10 :   -36.905 kcal/mol  -69.363 kcal/mol    0.504 Å\n",
      "    2 /    10 :   -29.678 kcal/mol  -66.362 kcal/mol    0.520 Å\n",
      "    3 /    10 :     7.844 kcal/mol  -66.569 kcal/mol    0.905 Å\n",
      "    4 /    10 :   -27.968 kcal/mol  -67.879 kcal/mol    0.756 Å\n",
      "    5 /    10 :   -28.211 kcal/mol  -65.472 kcal/mol    0.848 Å\n",
      "    6 /    10 :   -30.415 kcal/mol  -68.296 kcal/mol    0.604 Å\n",
      "    7 /    10 :   -27.233 kcal/mol  -65.639 kcal/mol    0.767 Å\n",
      "    8 /    10 :   -37.769 kcal/mol  -68.169 kcal/mol    0.370 Å\n",
      "    9 /    10 :   -34.561 kcal/mol  -69.185 kcal/mol    0.826 Å\n",
      "   10 /    10 :   -30.336 kcal/mol  -69.052 kcal/mol    0.637 Å\n"
     ]
    }
   ],
   "source": [
    "# Get a shortcut to the number of conformers\n",
    "n_confs = molecule.n_conformers\n",
    "print(f\"{molecule.name}: {n_confs} conformers\")\n",
    "\n",
    "# Create a copy of the molecule so we can work on it\n",
    "working_mol = Molecule(molecule)\n",
    "\n",
    "# Print text header\n",
    "print(\"Conformer         Initial PE        Minimized PE        RMSD\")\n",
    "output = [\n",
    "    [\n",
    "        \"Conformer\",\n",
    "        \"Initial PE (kcal/mol)\",\n",
    "        \"Minimized PE (kcal/mol)\",\n",
    "        \"RMSD between initial and minimized conformer (Angstrom)\",\n",
    "    ]\n",
    "]\n",
    "\n",
    "for i, (init_energy, init_coords, min_energy, min_coords) in enumerate(\n",
    "    zip(\n",
    "        initial_energies,\n",
    "        molecule.conformers,\n",
    "        minimized_energies,\n",
    "        minimized_molecule.conformers,\n",
    "    )\n",
    "):\n",
    "    # Clear the conformers from the working molecule\n",
    "    working_mol.conformers.clear()\n",
    "\n",
    "    # Save the minimized conformer to file\n",
    "    working_mol.add_conformer(min_coords)\n",
    "    working_mol.to_file(\n",
    "        f\"{molecule.name}_conf{i+1}_minimized.sdf\",\n",
    "        file_format=\"sdf\",\n",
    "    )\n",
    "\n",
    "    # Calculate the RMSD between the initial and minimized conformer\n",
    "    working_mol.add_conformer(init_coords)\n",
    "    rdmol = working_mol.to_rdkit()\n",
    "    rmslist = []\n",
    "    rdMolAlign.AlignMolConformers(rdmol, RMSlist=rmslist)\n",
    "    minimization_rms = rmslist[0]\n",
    "\n",
    "    # Record the results\n",
    "    output.append(\n",
    "        [\n",
    "            i + 1,\n",
    "            init_energy.value_in_unit(openmm.unit.kilocalories_per_mole),\n",
    "            min_energy.value_in_unit(openmm.unit.kilocalories_per_mole),\n",
    "            minimization_rms,\n",
    "        ]\n",
    "    )\n",
    "    print(\n",
    "        f\"{{:5d}} / {n_confs:5d} :  {{:8.3f}} kcal/mol {{:8.3f}} kcal/mol {{:8.3f}} Å\".format(\n",
    "            *output[-1]\n",
    "        )\n",
    "    )\n",
    "\n",
    "# Write the results out to CSV\n",
    "with open(f\"{molecule.name}.csv\", \"w\") as of:\n",
    "    of.write(\", \".join(output.pop(0)) + \"\\n\")\n",
    "    for line in output:\n",
    "        of.write(\"{}, {:.3f}, {:.3f}, {:.3f}\".format(*line) + \"\\n\")"
   ]
  },
  {
   "cell_type": "code",
   "execution_count": null,
   "metadata": {},
   "outputs": [],
   "source": []
  }
 ],
 "metadata": {
  "category": "parametrization_evaluation",
  "kernelspec": {
   "display_name": "Python 3 (ipykernel)",
   "language": "python",
   "name": "python3"
  },
  "language_info": {
   "codemirror_mode": {
    "name": "ipython",
    "version": 3
   },
   "file_extension": ".py",
   "mimetype": "text/x-python",
   "name": "python",
   "nbconvert_exporter": "python",
   "pygments_lexer": "ipython3",
   "version": "3.10.12"
  },
  "src_repo_tag": "0.14.0",
  "widgets": {
   "application/vnd.jupyter.widget-state+json": {
    "state": {
     "0020ec15317d46ba881c8129d15be1a7": {
      "model_module": "@jupyter-widgets/base",
      "model_module_version": "2.0.0",
      "model_name": "LayoutModel",
      "state": {
       "_model_module": "@jupyter-widgets/base",
       "_model_module_version": "2.0.0",
       "_model_name": "LayoutModel",
       "_view_count": null,
       "_view_module": "@jupyter-widgets/base",
       "_view_module_version": "2.0.0",
       "_view_name": "LayoutView",
       "align_content": null,
       "align_items": null,
       "align_self": null,
       "border_bottom": null,
       "border_left": null,
       "border_right": null,
       "border_top": null,
       "bottom": null,
       "display": null,
       "flex": null,
       "flex_flow": null,
       "grid_area": null,
       "grid_auto_columns": null,
       "grid_auto_flow": null,
       "grid_auto_rows": null,
       "grid_column": null,
       "grid_gap": null,
       "grid_row": null,
       "grid_template_areas": null,
       "grid_template_columns": null,
       "grid_template_rows": null,
       "height": null,
       "justify_content": null,
       "justify_items": null,
       "left": null,
       "margin": null,
       "max_height": null,
       "max_width": null,
       "min_height": null,
       "min_width": null,
       "object_fit": null,
       "object_position": null,
       "order": null,
       "overflow": null,
       "padding": null,
       "right": null,
       "top": null,
       "visibility": null,
       "width": null
      }
     },
     "06e2cc589e76485cbbe8901372449880": {
      "model_module": "@jupyter-widgets/base",
      "model_module_version": "2.0.0",
      "model_name": "LayoutModel",
      "state": {
       "_model_module": "@jupyter-widgets/base",
       "_model_module_version": "2.0.0",
       "_model_name": "LayoutModel",
       "_view_count": null,
       "_view_module": "@jupyter-widgets/base",
       "_view_module_version": "2.0.0",
       "_view_name": "LayoutView",
       "align_content": null,
       "align_items": null,
       "align_self": null,
       "border_bottom": null,
       "border_left": null,
       "border_right": null,
       "border_top": null,
       "bottom": null,
       "display": null,
       "flex": null,
       "flex_flow": null,
       "grid_area": null,
       "grid_auto_columns": null,
       "grid_auto_flow": null,
       "grid_auto_rows": null,
       "grid_column": null,
       "grid_gap": null,
       "grid_row": null,
       "grid_template_areas": null,
       "grid_template_columns": null,
       "grid_template_rows": null,
       "height": null,
       "justify_content": null,
       "justify_items": null,
       "left": null,
       "margin": null,
       "max_height": null,
       "max_width": null,
       "min_height": null,
       "min_width": null,
       "object_fit": null,
       "object_position": null,
       "order": null,
       "overflow": null,
       "padding": null,
       "right": null,
       "top": null,
       "visibility": null,
       "width": null
      }
     },
     "086ad57768994a1a937552c00a9437df": {
      "model_module": "@jupyter-widgets/controls",
      "model_module_version": "2.0.0",
      "model_name": "LinkModel",
      "state": {
       "_model_module": "@jupyter-widgets/controls",
       "_model_module_version": "2.0.0",
       "_model_name": "LinkModel",
       "_view_count": null,
       "_view_module": "@jupyter-widgets/controls",
       "_view_module_version": "2.0.0",
       "_view_name": null,
       "source": [
        "IPY_MODEL_09fc78ce18464445be493dab3c6ec380",
        "value"
       ],
       "target": [
        "IPY_MODEL_bf61a149008846bf9b08a1bf4fb3aef9",
        "value"
       ]
      }
     },
     "09fc78ce18464445be493dab3c6ec380": {
      "model_module": "@jupyter-widgets/controls",
      "model_module_version": "2.0.0",
      "model_name": "PlayModel",
      "state": {
       "_dom_classes": [],
       "_model_module": "@jupyter-widgets/controls",
       "_model_module_version": "2.0.0",
       "_model_name": "PlayModel",
       "_view_count": null,
       "_view_module": "@jupyter-widgets/controls",
       "_view_module_version": "2.0.0",
       "_view_name": "PlayView",
       "description": "",
       "description_allow_html": false,
       "disabled": false,
       "interval": 100,
       "layout": "IPY_MODEL_285c5cc1c62f44b79da24287e908a6ec",
       "max": 9,
       "min": 0,
       "playing": false,
       "repeat": false,
       "show_repeat": true,
       "step": 1,
       "style": "IPY_MODEL_97296ed218fb48b78175881567cc1749",
       "tabbable": null,
       "tooltip": null,
       "value": 0
      }
     },
     "0f929083ecbd4b86bd45bc0612aa2156": {
      "model_module": "@jupyter-widgets/base",
      "model_module_version": "2.0.0",
      "model_name": "LayoutModel",
      "state": {
       "_model_module": "@jupyter-widgets/base",
       "_model_module_version": "2.0.0",
       "_model_name": "LayoutModel",
       "_view_count": null,
       "_view_module": "@jupyter-widgets/base",
       "_view_module_version": "2.0.0",
       "_view_name": "LayoutView",
       "align_content": null,
       "align_items": null,
       "align_self": null,
       "border_bottom": null,
       "border_left": null,
       "border_right": null,
       "border_top": null,
       "bottom": null,
       "display": null,
       "flex": null,
       "flex_flow": null,
       "grid_area": null,
       "grid_auto_columns": null,
       "grid_auto_flow": null,
       "grid_auto_rows": null,
       "grid_column": null,
       "grid_gap": null,
       "grid_row": null,
       "grid_template_areas": null,
       "grid_template_columns": null,
       "grid_template_rows": null,
       "height": null,
       "justify_content": null,
       "justify_items": null,
       "left": null,
       "margin": null,
       "max_height": null,
       "max_width": null,
       "min_height": null,
       "min_width": null,
       "object_fit": null,
       "object_position": null,
       "order": null,
       "overflow": null,
       "padding": null,
       "right": null,
       "top": null,
       "visibility": null,
       "width": null
      }
     },
     "168c8d21df3f4ddb80630b08e80b3aec": {
      "model_module": "@jupyter-widgets/controls",
      "model_module_version": "2.0.0",
      "model_name": "HBoxModel",
      "state": {
       "_dom_classes": [],
       "_model_module": "@jupyter-widgets/controls",
       "_model_module_version": "2.0.0",
       "_model_name": "HBoxModel",
       "_view_count": null,
       "_view_module": "@jupyter-widgets/controls",
       "_view_module_version": "2.0.0",
       "_view_name": "HBoxView",
       "box_style": "",
       "children": [
        "IPY_MODEL_a1885c0d877c4a44a18389e9f56b9027",
        "IPY_MODEL_adc9b4a2f5da4b929485136390bdc618"
       ],
       "layout": "IPY_MODEL_8d25c06954cd4f249c60568d884e2c81",
       "tabbable": null,
       "tooltip": null
      }
     },
     "2412aca3c7554b1caa4948466c9dd062": {
      "model_module": "@jupyter-widgets/controls",
      "model_module_version": "2.0.0",
      "model_name": "ButtonStyleModel",
      "state": {
       "_model_module": "@jupyter-widgets/controls",
       "_model_module_version": "2.0.0",
       "_model_name": "ButtonStyleModel",
       "_view_count": null,
       "_view_module": "@jupyter-widgets/base",
       "_view_module_version": "2.0.0",
       "_view_name": "StyleView",
       "button_color": null,
       "font_family": null,
       "font_size": null,
       "font_style": null,
       "font_variant": null,
       "font_weight": null,
       "text_color": null,
       "text_decoration": null
      }
     },
     "285c5cc1c62f44b79da24287e908a6ec": {
      "model_module": "@jupyter-widgets/base",
      "model_module_version": "2.0.0",
      "model_name": "LayoutModel",
      "state": {
       "_model_module": "@jupyter-widgets/base",
       "_model_module_version": "2.0.0",
       "_model_name": "LayoutModel",
       "_view_count": null,
       "_view_module": "@jupyter-widgets/base",
       "_view_module_version": "2.0.0",
       "_view_name": "LayoutView",
       "align_content": null,
       "align_items": null,
       "align_self": null,
       "border_bottom": null,
       "border_left": null,
       "border_right": null,
       "border_top": null,
       "bottom": null,
       "display": null,
       "flex": null,
       "flex_flow": null,
       "grid_area": null,
       "grid_auto_columns": null,
       "grid_auto_flow": null,
       "grid_auto_rows": null,
       "grid_column": null,
       "grid_gap": null,
       "grid_row": null,
       "grid_template_areas": null,
       "grid_template_columns": null,
       "grid_template_rows": null,
       "height": null,
       "justify_content": null,
       "justify_items": null,
       "left": null,
       "margin": null,
       "max_height": null,
       "max_width": null,
       "min_height": null,
       "min_width": null,
       "object_fit": null,
       "object_position": null,
       "order": null,
       "overflow": null,
       "padding": null,
       "right": null,
       "top": null,
       "visibility": null,
       "width": null
      }
     },
     "28e1432083a8451091ca71b1cb388757": {
      "model_module": "@jupyter-widgets/base",
      "model_module_version": "2.0.0",
      "model_name": "LayoutModel",
      "state": {
       "_model_module": "@jupyter-widgets/base",
       "_model_module_version": "2.0.0",
       "_model_name": "LayoutModel",
       "_view_count": null,
       "_view_module": "@jupyter-widgets/base",
       "_view_module_version": "2.0.0",
       "_view_name": "LayoutView",
       "align_content": null,
       "align_items": null,
       "align_self": null,
       "border_bottom": null,
       "border_left": null,
       "border_right": null,
       "border_top": null,
       "bottom": null,
       "display": null,
       "flex": null,
       "flex_flow": null,
       "grid_area": null,
       "grid_auto_columns": null,
       "grid_auto_flow": null,
       "grid_auto_rows": null,
       "grid_column": null,
       "grid_gap": null,
       "grid_row": null,
       "grid_template_areas": null,
       "grid_template_columns": null,
       "grid_template_rows": null,
       "height": null,
       "justify_content": null,
       "justify_items": null,
       "left": null,
       "margin": null,
       "max_height": null,
       "max_width": null,
       "min_height": null,
       "min_width": null,
       "object_fit": null,
       "object_position": null,
       "order": null,
       "overflow": null,
       "padding": null,
       "right": null,
       "top": null,
       "visibility": null,
       "width": null
      }
     },
     "29b854fa36ca4a029b3d34812842af93": {
      "model_module": "@jupyter-widgets/controls",
      "model_module_version": "2.0.0",
      "model_name": "LinkModel",
      "state": {
       "_model_module": "@jupyter-widgets/controls",
       "_model_module_version": "2.0.0",
       "_model_name": "LinkModel",
       "_view_count": null,
       "_view_module": "@jupyter-widgets/controls",
       "_view_module_version": "2.0.0",
       "_view_name": null,
       "source": [
        "IPY_MODEL_09fc78ce18464445be493dab3c6ec380",
        "max"
       ],
       "target": [
        "IPY_MODEL_738779abd1074cc3a820b83f0398ddca",
        "max_frame"
       ]
      }
     },
     "2c62c880c79241878fcbf66f54da0644": {
      "model_module": "@jupyter-widgets/controls",
      "model_module_version": "2.0.0",
      "model_name": "ButtonModel",
      "state": {
       "_dom_classes": [],
       "_model_module": "@jupyter-widgets/controls",
       "_model_module_version": "2.0.0",
       "_model_name": "ButtonModel",
       "_view_count": null,
       "_view_module": "@jupyter-widgets/controls",
       "_view_module_version": "2.0.0",
       "_view_name": "ButtonView",
       "button_style": "",
       "description": "",
       "disabled": false,
       "icon": "compress",
       "layout": "IPY_MODEL_b3b6db9b5e844eaaa1c6159cce0ca103",
       "style": "IPY_MODEL_efef5cd8fba24baeb486994fdbe01aed",
       "tabbable": null,
       "tooltip": null
      }
     },
     "3337fb5d5dfe46e48546da61b083a4ff": {
      "model_module": "nglview-js-widgets",
      "model_module_version": "3.0.6",
      "model_name": "NGLModel",
      "state": {
       "_camera_orientation": [],
       "_camera_str": "orthographic",
       "_dom_classes": [],
       "_gui_theme": null,
       "_ibtn_fullscreen": "IPY_MODEL_2c62c880c79241878fcbf66f54da0644",
       "_igui": null,
       "_iplayer": "IPY_MODEL_168c8d21df3f4ddb80630b08e80b3aec",
       "_model_module": "nglview-js-widgets",
       "_model_module_version": "3.0.6",
       "_model_name": "NGLModel",
       "_ngl_color_dict": {},
       "_ngl_coordinate_resource": {},
       "_ngl_full_stage_parameters": {},
       "_ngl_msg_archive": [
        {
         "args": [
          {
           "binary": false,
           "data": "COMPND    ruxolitinib\nMODEL        1\nHETATM    1  C1  UNL     1      -4.229   0.259   1.742  1.00  0.00           C  \nHETATM    2  C2  UNL     1      -4.975   0.277   0.401  1.00  0.00           C  \nHETATM    3  C3  UNL     1      -4.194  -0.800  -0.350  1.00  0.00           C  \nHETATM    4  C4  UNL     1      -2.777  -0.582   0.088  1.00  0.00           C  \nHETATM    5  C5  UNL     1      -2.785   0.385   1.234  1.00  0.00           C  \nHETATM    6  C6  UNL     1      -1.860  -0.161  -1.011  1.00  0.00           C  \nHETATM    7  C7  UNL     1      -2.263   1.127  -1.668  1.00  0.00           C  \nHETATM    8  C8  UNL     1      -1.288   1.440  -2.734  1.00  0.00           C  \nHETATM    9  N1  UNL     1      -0.536   1.672  -3.579  1.00  0.00           N  \nHETATM   10  N2  UNL     1      -0.523  -0.024  -0.436  1.00  0.00           N  \nHETATM   11  C9  UNL     1       0.522  -0.853  -0.559  1.00  0.00           C  \nHETATM   12  C10 UNL     1       1.614  -0.346   0.152  1.00  0.00           C  \nHETATM   13  C11 UNL     1       1.147   0.827   0.698  1.00  0.00           C  \nHETATM   14  N3  UNL     1      -0.129   0.982   0.325  1.00  0.00           N  \nHETATM   15  C12 UNL     1       2.951  -0.907   0.300  1.00  0.00           C  \nHETATM   16  C13 UNL     1       4.102  -0.147   0.178  1.00  0.00           C  \nHETATM   17  C14 UNL     1       4.294   1.195  -0.087  1.00  0.00           C  \nHETATM   18  C15 UNL     1       5.673   1.409  -0.094  1.00  0.00           C  \nHETATM   19  N4  UNL     1       6.310   0.251   0.156  1.00  0.00           N  \nHETATM   20  C16 UNL     1       5.362  -0.690   0.320  1.00  0.00           C  \nHETATM   21  N5  UNL     1       5.471  -2.004   0.587  1.00  0.00           N  \nHETATM   22  C17 UNL     1       4.351  -2.761   0.710  1.00  0.00           C  \nHETATM   23  N6  UNL     1       3.122  -2.214   0.568  1.00  0.00           N  \nHETATM   24  H1  UNL     1      -4.355  -0.708   2.231  1.00  0.00           H  \nHETATM   25  H2  UNL     1      -4.505   1.135   2.343  1.00  0.00           H  \nHETATM   26  H3  UNL     1      -6.032   0.027   0.517  1.00  0.00           H  \nHETATM   27  H4  UNL     1      -4.806   1.273  -0.034  1.00  0.00           H  \nHETATM   28  H5  UNL     1      -4.545  -1.765   0.067  1.00  0.00           H  \nHETATM   29  H6  UNL     1      -4.349  -0.744  -1.431  1.00  0.00           H  \nHETATM   30  H7  UNL     1      -2.348  -1.544   0.501  1.00  0.00           H  \nHETATM   31  H8  UNL     1      -2.662   1.439   0.952  1.00  0.00           H  \nHETATM   32  H9  UNL     1      -2.071   0.080   2.039  1.00  0.00           H  \nHETATM   33  H10 UNL     1      -1.816  -0.936  -1.791  1.00  0.00           H  \nHETATM   34  H11 UNL     1      -2.333   1.986  -0.981  1.00  0.00           H  \nHETATM   35  H12 UNL     1      -3.235   1.027  -2.166  1.00  0.00           H  \nHETATM   36  H13 UNL     1       0.563  -1.769  -1.105  1.00  0.00           H  \nHETATM   37  H14 UNL     1       1.683   1.520   1.320  1.00  0.00           H  \nHETATM   38  H15 UNL     1       3.500   1.889  -0.248  1.00  0.00           H  \nHETATM   39  H16 UNL     1       6.098   2.387  -0.280  1.00  0.00           H  \nHETATM   40  H17 UNL     1       7.350   0.179   0.198  1.00  0.00           H  \nHETATM   41  H18 UNL     1       4.501  -3.812   0.926  1.00  0.00           H  \nCONECT    1    2    5   24   25\nCONECT    2    3   26   27\nCONECT    3    4   28   29\nCONECT    4    5    6   30\nCONECT    5   31   32\nCONECT    6    7   10   33\nCONECT    7    8   34   35\nCONECT    8    9    9    9\nCONECT   10   11   14\nCONECT   11   12   12   36\nCONECT   12   13   15\nCONECT   13   14   14   37\nCONECT   15   16   16   23\nCONECT   16   17   20\nCONECT   17   18   18   38\nCONECT   18   19   39\nCONECT   19   20   40\nCONECT   20   21   21\nCONECT   21   22\nCONECT   22   23   23   41\nENDMDL\nMODEL        2\nHETATM    1  C1  UNL     1      -3.670   1.630  -0.794  1.00  0.00           C  \nHETATM    2  C2  UNL     1      -3.527   1.884   0.671  1.00  0.00           C  \nHETATM    3  C3  UNL     1      -2.852   0.667   1.275  1.00  0.00           C  \nHETATM    4  C4  UNL     1      -2.887  -0.307   0.150  1.00  0.00           C  \nHETATM    5  C5  UNL     1      -2.594   0.557  -1.028  1.00  0.00           C  \nHETATM    6  C6  UNL     1      -2.034  -1.506   0.294  1.00  0.00           C  \nHETATM    7  C7  UNL     1      -2.217  -2.364  -0.956  1.00  0.00           C  \nHETATM    8  C8  UNL     1      -1.383  -3.577  -0.860  1.00  0.00           C  \nHETATM    9  N1  UNL     1      -0.727  -4.516  -0.769  1.00  0.00           N  \nHETATM   10  N2  UNL     1      -0.644  -1.262   0.462  1.00  0.00           N  \nHETATM   11  C9  UNL     1       0.195  -0.810  -0.463  1.00  0.00           C  \nHETATM   12  C10 UNL     1       1.440  -0.730   0.153  1.00  0.00           C  \nHETATM   13  C11 UNL     1       1.290  -1.151   1.467  1.00  0.00           C  \nHETATM   14  N3  UNL     1       0.008  -1.460   1.596  1.00  0.00           N  \nHETATM   15  C12 UNL     1       2.683  -0.292  -0.444  1.00  0.00           C  \nHETATM   16  C13 UNL     1       3.487   0.581   0.245  1.00  0.00           C  \nHETATM   17  C14 UNL     1       3.385   1.197   1.485  1.00  0.00           C  \nHETATM   18  C15 UNL     1       4.528   1.972   1.616  1.00  0.00           C  \nHETATM   19  N4  UNL     1       5.277   1.829   0.512  1.00  0.00           N  \nHETATM   20  C16 UNL     1       4.676   0.996  -0.334  1.00  0.00           C  \nHETATM   21  N5  UNL     1       4.987   0.518  -1.556  1.00  0.00           N  \nHETATM   22  C17 UNL     1       4.209  -0.336  -2.241  1.00  0.00           C  \nHETATM   23  N6  UNL     1       3.057  -0.724  -1.654  1.00  0.00           N  \nHETATM   24  H1  UNL     1      -3.540   2.494  -1.437  1.00  0.00           H  \nHETATM   25  H2  UNL     1      -4.653   1.107  -0.943  1.00  0.00           H  \nHETATM   26  H3  UNL     1      -2.920   2.802   0.800  1.00  0.00           H  \nHETATM   27  H4  UNL     1      -4.509   2.076   1.175  1.00  0.00           H  \nHETATM   28  H5  UNL     1      -1.829   0.965   1.566  1.00  0.00           H  \nHETATM   29  H6  UNL     1      -3.446   0.341   2.167  1.00  0.00           H  \nHETATM   30  H7  UNL     1      -3.950  -0.658   0.046  1.00  0.00           H  \nHETATM   31  H8  UNL     1      -1.628   1.098  -0.942  1.00  0.00           H  \nHETATM   32  H9  UNL     1      -2.730   0.072  -2.007  1.00  0.00           H  \nHETATM   33  H10 UNL     1      -2.458  -2.121   1.130  1.00  0.00           H  \nHETATM   34  H11 UNL     1      -1.929  -1.798  -1.869  1.00  0.00           H  \nHETATM   35  H12 UNL     1      -3.264  -2.723  -1.029  1.00  0.00           H  \nHETATM   36  H13 UNL     1       0.041  -0.536  -1.496  1.00  0.00           H  \nHETATM   37  H14 UNL     1       2.034  -1.226   2.249  1.00  0.00           H  \nHETATM   38  H15 UNL     1       2.584   1.104   2.215  1.00  0.00           H  \nHETATM   39  H16 UNL     1       4.789   2.597   2.463  1.00  0.00           H  \nHETATM   40  H17 UNL     1       6.205   2.285   0.300  1.00  0.00           H  \nHETATM   41  H18 UNL     1       4.518  -0.678  -3.215  1.00  0.00           H  \nCONECT    1    2    5   24   25\nCONECT    2    3   26   27\nCONECT    3    4   28   29\nCONECT    4    5    6   30\nCONECT    5   31   32\nCONECT    6    7   10   33\nCONECT    7    8   34   35\nCONECT    8    9    9    9\nCONECT   10   11   14\nCONECT   11   12   12   36\nCONECT   12   13   15\nCONECT   13   14   14   37\nCONECT   15   16   16   23\nCONECT   16   17   20\nCONECT   17   18   18   38\nCONECT   18   19   39\nCONECT   19   20   40\nCONECT   20   21   21\nCONECT   21   22\nCONECT   22   23   23   41\nENDMDL\nMODEL        3\nHETATM    1  C1  UNL     1      -3.775   1.548   1.410  1.00  0.00           C  \nHETATM    2  C2  UNL     1      -4.266   1.341   0.006  1.00  0.00           C  \nHETATM    3  C3  UNL     1      -3.162   0.489  -0.644  1.00  0.00           C  \nHETATM    4  C4  UNL     1      -2.819  -0.394   0.495  1.00  0.00           C  \nHETATM    5  C5  UNL     1      -2.708   0.505   1.674  1.00  0.00           C  \nHETATM    6  C6  UNL     1      -1.833  -1.431   0.306  1.00  0.00           C  \nHETATM    7  C7  UNL     1      -2.342  -2.369  -0.803  1.00  0.00           C  \nHETATM    8  C8  UNL     1      -1.434  -3.452  -1.080  1.00  0.00           C  \nHETATM    9  N1  UNL     1      -0.727  -4.327  -1.305  1.00  0.00           N  \nHETATM   10  N2  UNL     1      -0.490  -1.107   0.010  1.00  0.00           N  \nHETATM   11  C9  UNL     1       0.189   0.046  -0.115  1.00  0.00           C  \nHETATM   12  C10 UNL     1       1.506  -0.221  -0.419  1.00  0.00           C  \nHETATM   13  C11 UNL     1       1.576  -1.595  -0.469  1.00  0.00           C  \nHETATM   14  N3  UNL     1       0.389  -2.108  -0.213  1.00  0.00           N  \nHETATM   15  C12 UNL     1       2.584   0.722  -0.647  1.00  0.00           C  \nHETATM   16  C13 UNL     1       3.827   0.529  -0.037  1.00  0.00           C  \nHETATM   17  C14 UNL     1       4.263  -0.470   0.813  1.00  0.00           C  \nHETATM   18  C15 UNL     1       5.568  -0.166   1.111  1.00  0.00           C  \nHETATM   19  N4  UNL     1       5.919   0.964   0.477  1.00  0.00           N  \nHETATM   20  C16 UNL     1       4.867   1.411  -0.235  1.00  0.00           C  \nHETATM   21  N5  UNL     1       4.645   2.467  -1.037  1.00  0.00           N  \nHETATM   22  C17 UNL     1       3.455   2.663  -1.628  1.00  0.00           C  \nHETATM   23  N6  UNL     1       2.433   1.809  -1.443  1.00  0.00           N  \nHETATM   24  H1  UNL     1      -3.398   2.582   1.509  1.00  0.00           H  \nHETATM   25  H2  UNL     1      -4.623   1.410   2.137  1.00  0.00           H  \nHETATM   26  H3  UNL     1      -4.405   2.287  -0.550  1.00  0.00           H  \nHETATM   27  H4  UNL     1      -5.203   0.747   0.038  1.00  0.00           H  \nHETATM   28  H5  UNL     1      -2.418   1.190  -0.999  1.00  0.00           H  \nHETATM   29  H6  UNL     1      -3.658  -0.092  -1.457  1.00  0.00           H  \nHETATM   30  H7  UNL     1      -3.800  -0.956   0.694  1.00  0.00           H  \nHETATM   31  H8  UNL     1      -1.765   0.987   1.870  1.00  0.00           H  \nHETATM   32  H9  UNL     1      -2.971  -0.052   2.623  1.00  0.00           H  \nHETATM   33  H10 UNL     1      -1.831  -2.094   1.224  1.00  0.00           H  \nHETATM   34  H11 UNL     1      -2.487  -1.784  -1.744  1.00  0.00           H  \nHETATM   35  H12 UNL     1      -3.332  -2.783  -0.538  1.00  0.00           H  \nHETATM   36  H13 UNL     1      -0.276   1.005   0.014  1.00  0.00           H  \nHETATM   37  H14 UNL     1       2.452  -2.227  -0.686  1.00  0.00           H  \nHETATM   38  H15 UNL     1       3.656  -1.304   1.148  1.00  0.00           H  \nHETATM   39  H16 UNL     1       6.198  -0.758   1.758  1.00  0.00           H  \nHETATM   40  H17 UNL     1       6.867   1.441   0.519  1.00  0.00           H  \nHETATM   41  H18 UNL     1       3.328   3.548  -2.278  1.00  0.00           H  \nCONECT    1    2    5   24   25\nCONECT    2    3   26   27\nCONECT    3    4   28   29\nCONECT    4    5    6   30\nCONECT    5   31   32\nCONECT    6    7   10   33\nCONECT    7    8   34   35\nCONECT    8    9    9    9\nCONECT   10   11   14\nCONECT   11   12   12   36\nCONECT   12   13   15\nCONECT   13   14   14   37\nCONECT   15   16   16   23\nCONECT   16   17   20\nCONECT   17   18   18   38\nCONECT   18   19   39\nCONECT   19   20   40\nCONECT   20   21   21\nCONECT   21   22\nCONECT   22   23   23   41\nENDMDL\nMODEL        4\nHETATM    1  C1  UNL     1      -4.525   1.052   0.797  1.00  0.00           C  \nHETATM    2  C2  UNL     1      -4.187   1.359  -0.663  1.00  0.00           C  \nHETATM    3  C3  UNL     1      -3.037   0.415  -1.034  1.00  0.00           C  \nHETATM    4  C4  UNL     1      -2.536   0.006   0.331  1.00  0.00           C  \nHETATM    5  C5  UNL     1      -3.827  -0.304   1.020  1.00  0.00           C  \nHETATM    6  C6  UNL     1      -1.491  -1.022   0.350  1.00  0.00           C  \nHETATM    7  C7  UNL     1      -1.799  -2.347  -0.241  1.00  0.00           C  \nHETATM    8  C8  UNL     1      -2.898  -3.060   0.375  1.00  0.00           C  \nHETATM    9  N1  UNL     1      -3.763  -3.649   0.871  1.00  0.00           N  \nHETATM   10  N2  UNL     1      -0.328  -0.473  -0.362  1.00  0.00           N  \nHETATM   11  C9  UNL     1       0.826  -0.063   0.187  1.00  0.00           C  \nHETATM   12  C10 UNL     1       1.655   0.382  -0.816  1.00  0.00           C  \nHETATM   13  C11 UNL     1       0.956   0.223  -1.991  1.00  0.00           C  \nHETATM   14  N3  UNL     1      -0.239  -0.298  -1.657  1.00  0.00           N  \nHETATM   15  C12 UNL     1       3.006   0.919  -0.708  1.00  0.00           C  \nHETATM   16  C13 UNL     1       3.984   0.340   0.083  1.00  0.00           C  \nHETATM   17  C14 UNL     1       3.959  -0.773   0.892  1.00  0.00           C  \nHETATM   18  C15 UNL     1       5.220  -0.885   1.444  1.00  0.00           C  \nHETATM   19  N4  UNL     1       6.005   0.102   1.010  1.00  0.00           N  \nHETATM   20  C16 UNL     1       5.254   0.855   0.176  1.00  0.00           C  \nHETATM   21  N5  UNL     1       5.538   1.969  -0.537  1.00  0.00           N  \nHETATM   22  C17 UNL     1       4.593   2.524  -1.298  1.00  0.00           C  \nHETATM   23  N6  UNL     1       3.333   2.027  -1.401  1.00  0.00           N  \nHETATM   24  H1  UNL     1      -3.974   1.780   1.417  1.00  0.00           H  \nHETATM   25  H2  UNL     1      -5.594   0.995   0.981  1.00  0.00           H  \nHETATM   26  H3  UNL     1      -3.794   2.391  -0.769  1.00  0.00           H  \nHETATM   27  H4  UNL     1      -5.083   1.167  -1.273  1.00  0.00           H  \nHETATM   28  H5  UNL     1      -2.288   0.919  -1.649  1.00  0.00           H  \nHETATM   29  H6  UNL     1      -3.523  -0.447  -1.556  1.00  0.00           H  \nHETATM   30  H7  UNL     1      -2.134   0.927   0.806  1.00  0.00           H  \nHETATM   31  H8  UNL     1      -3.756  -0.569   2.071  1.00  0.00           H  \nHETATM   32  H9  UNL     1      -4.464  -1.011   0.409  1.00  0.00           H  \nHETATM   33  H10 UNL     1      -1.190  -1.183   1.414  1.00  0.00           H  \nHETATM   34  H11 UNL     1      -1.903  -2.305  -1.347  1.00  0.00           H  \nHETATM   35  H12 UNL     1      -0.881  -2.989  -0.080  1.00  0.00           H  \nHETATM   36  H13 UNL     1       1.034  -0.090   1.236  1.00  0.00           H  \nHETATM   37  H14 UNL     1       1.334   0.481  -2.965  1.00  0.00           H  \nHETATM   38  H15 UNL     1       3.117  -1.407   1.044  1.00  0.00           H  \nHETATM   39  H16 UNL     1       5.546  -1.655   2.132  1.00  0.00           H  \nHETATM   40  H17 UNL     1       7.020   0.279   1.258  1.00  0.00           H  \nHETATM   41  H18 UNL     1       4.836   3.419  -1.865  1.00  0.00           H  \nCONECT    1    2    5   24   25\nCONECT    2    3   26   27\nCONECT    3    4   28   29\nCONECT    4    5    6   30\nCONECT    5   31   32\nCONECT    6    7   10   33\nCONECT    7    8   34   35\nCONECT    8    9    9    9\nCONECT   10   11   14\nCONECT   11   12   12   36\nCONECT   12   13   15\nCONECT   13   14   14   37\nCONECT   15   16   16   23\nCONECT   16   17   20\nCONECT   17   18   18   38\nCONECT   18   19   39\nCONECT   19   20   40\nCONECT   20   21   21\nCONECT   21   22\nCONECT   22   23   23   41\nENDMDL\nMODEL        5\nHETATM    1  C1  UNL     1      -5.101   0.368   0.690  1.00  0.00           C  \nHETATM    2  C2  UNL     1      -4.222   1.398   1.337  1.00  0.00           C  \nHETATM    3  C3  UNL     1      -2.939   1.375   0.547  1.00  0.00           C  \nHETATM    4  C4  UNL     1      -2.872   0.033  -0.147  1.00  0.00           C  \nHETATM    5  C5  UNL     1      -4.083  -0.728   0.346  1.00  0.00           C  \nHETATM    6  C6  UNL     1      -1.598  -0.696   0.203  1.00  0.00           C  \nHETATM    7  C7  UNL     1      -1.510  -2.042  -0.481  1.00  0.00           C  \nHETATM    8  C8  UNL     1      -1.542  -1.910  -1.935  1.00  0.00           C  \nHETATM    9  N1  UNL     1      -1.558  -1.810  -3.091  1.00  0.00           N  \nHETATM   10  N2  UNL     1      -0.433   0.091  -0.150  1.00  0.00           N  \nHETATM   11  C9  UNL     1       0.834  -0.338  -0.267  1.00  0.00           C  \nHETATM   12  C10 UNL     1       1.670   0.714  -0.623  1.00  0.00           C  \nHETATM   13  C11 UNL     1       0.808   1.808  -0.711  1.00  0.00           C  \nHETATM   14  N3  UNL     1      -0.411   1.382  -0.423  1.00  0.00           N  \nHETATM   15  C12 UNL     1       3.100   0.679  -0.848  1.00  0.00           C  \nHETATM   16  C13 UNL     1       3.947   0.022   0.004  1.00  0.00           C  \nHETATM   17  C14 UNL     1       3.760  -0.701   1.161  1.00  0.00           C  \nHETATM   18  C15 UNL     1       4.973  -1.156   1.628  1.00  0.00           C  \nHETATM   19  N4  UNL     1       5.899  -0.711   0.757  1.00  0.00           N  \nHETATM   20  C16 UNL     1       5.326  -0.008  -0.220  1.00  0.00           C  \nHETATM   21  N5  UNL     1       5.805   0.623  -1.292  1.00  0.00           N  \nHETATM   22  C17 UNL     1       4.956   1.269  -2.127  1.00  0.00           C  \nHETATM   23  N6  UNL     1       3.610   1.300  -1.911  1.00  0.00           N  \nHETATM   24  H1  UNL     1      -5.825  -0.070   1.415  1.00  0.00           H  \nHETATM   25  H2  UNL     1      -5.602   0.742  -0.226  1.00  0.00           H  \nHETATM   26  H3  UNL     1      -4.046   1.068   2.398  1.00  0.00           H  \nHETATM   27  H4  UNL     1      -4.723   2.379   1.339  1.00  0.00           H  \nHETATM   28  H5  UNL     1      -2.976   2.225  -0.159  1.00  0.00           H  \nHETATM   29  H6  UNL     1      -2.080   1.508   1.268  1.00  0.00           H  \nHETATM   30  H7  UNL     1      -2.994   0.204  -1.223  1.00  0.00           H  \nHETATM   31  H8  UNL     1      -4.546  -1.353  -0.435  1.00  0.00           H  \nHETATM   32  H9  UNL     1      -3.891  -1.260   1.294  1.00  0.00           H  \nHETATM   33  H10 UNL     1      -1.603  -0.877   1.296  1.00  0.00           H  \nHETATM   34  H11 UNL     1      -0.507  -2.461  -0.198  1.00  0.00           H  \nHETATM   35  H12 UNL     1      -2.252  -2.758  -0.119  1.00  0.00           H  \nHETATM   36  H13 UNL     1       1.202  -1.349  -0.116  1.00  0.00           H  \nHETATM   37  H14 UNL     1       1.166   2.796  -0.975  1.00  0.00           H  \nHETATM   38  H15 UNL     1       2.795  -0.870   1.612  1.00  0.00           H  \nHETATM   39  H16 UNL     1       5.160  -1.754   2.519  1.00  0.00           H  \nHETATM   40  H17 UNL     1       6.926  -0.901   0.851  1.00  0.00           H  \nHETATM   41  H18 UNL     1       5.376   1.771  -2.987  1.00  0.00           H  \nCONECT    1    2    5   24   25\nCONECT    2    3   26   27\nCONECT    3    4   28   29\nCONECT    4    5    6   30\nCONECT    5   31   32\nCONECT    6    7   10   33\nCONECT    7    8   34   35\nCONECT    8    9    9    9\nCONECT   10   11   14\nCONECT   11   12   12   36\nCONECT   12   13   15\nCONECT   13   14   14   37\nCONECT   15   16   16   23\nCONECT   16   17   20\nCONECT   17   18   18   38\nCONECT   18   19   39\nCONECT   19   20   40\nCONECT   20   21   21\nCONECT   21   22\nCONECT   22   23   23   41\nENDMDL\nMODEL        6\nHETATM    1  C1  UNL     1      -4.103  -1.996  -0.204  1.00  0.00           C  \nHETATM    2  C2  UNL     1      -4.956  -0.992   0.504  1.00  0.00           C  \nHETATM    3  C3  UNL     1      -4.185   0.305   0.557  1.00  0.00           C  \nHETATM    4  C4  UNL     1      -2.770  -0.145   0.290  1.00  0.00           C  \nHETATM    5  C5  UNL     1      -2.982  -1.150  -0.822  1.00  0.00           C  \nHETATM    6  C6  UNL     1      -1.868   0.979  -0.129  1.00  0.00           C  \nHETATM    7  C7  UNL     1      -1.768   2.061   0.908  1.00  0.00           C  \nHETATM    8  C8  UNL     1      -0.885   3.144   0.479  1.00  0.00           C  \nHETATM    9  N1  UNL     1      -0.178   3.992   0.152  1.00  0.00           N  \nHETATM   10  N2  UNL     1      -0.544   0.386  -0.360  1.00  0.00           N  \nHETATM   11  C9  UNL     1       0.504   0.538   0.438  1.00  0.00           C  \nHETATM   12  C10 UNL     1       1.565  -0.172  -0.117  1.00  0.00           C  \nHETATM   13  C11 UNL     1       1.101  -0.740  -1.262  1.00  0.00           C  \nHETATM   14  N3  UNL     1      -0.186  -0.372  -1.366  1.00  0.00           N  \nHETATM   15  C12 UNL     1       2.913  -0.286   0.426  1.00  0.00           C  \nHETATM   16  C13 UNL     1       3.971  -0.120  -0.440  1.00  0.00           C  \nHETATM   17  C14 UNL     1       4.106   0.148  -1.792  1.00  0.00           C  \nHETATM   18  C15 UNL     1       5.481   0.191  -2.034  1.00  0.00           C  \nHETATM   19  N4  UNL     1       6.108  -0.043  -0.869  1.00  0.00           N  \nHETATM   20  C16 UNL     1       5.241  -0.236   0.119  1.00  0.00           C  \nHETATM   21  N5  UNL     1       5.337  -0.498   1.441  1.00  0.00           N  \nHETATM   22  C17 UNL     1       4.288  -0.653   2.251  1.00  0.00           C  \nHETATM   23  N6  UNL     1       3.046  -0.545   1.733  1.00  0.00           N  \nHETATM   24  H1  UNL     1      -4.647  -2.567  -0.982  1.00  0.00           H  \nHETATM   25  H2  UNL     1      -3.619  -2.678   0.521  1.00  0.00           H  \nHETATM   26  H3  UNL     1      -5.908  -0.884  -0.081  1.00  0.00           H  \nHETATM   27  H4  UNL     1      -5.179  -1.364   1.545  1.00  0.00           H  \nHETATM   28  H5  UNL     1      -4.269   0.704   1.602  1.00  0.00           H  \nHETATM   29  H6  UNL     1      -4.504   1.037  -0.193  1.00  0.00           H  \nHETATM   30  H7  UNL     1      -2.384  -0.683   1.174  1.00  0.00           H  \nHETATM   31  H8  UNL     1      -2.085  -1.763  -1.015  1.00  0.00           H  \nHETATM   32  H9  UNL     1      -3.350  -0.609  -1.700  1.00  0.00           H  \nHETATM   33  H10 UNL     1      -2.271   1.433  -1.057  1.00  0.00           H  \nHETATM   34  H11 UNL     1      -1.325   1.630   1.853  1.00  0.00           H  \nHETATM   35  H12 UNL     1      -2.739   2.468   1.191  1.00  0.00           H  \nHETATM   36  H13 UNL     1       0.583   1.099   1.367  1.00  0.00           H  \nHETATM   37  H14 UNL     1       1.678  -1.359  -1.929  1.00  0.00           H  \nHETATM   38  H15 UNL     1       3.310   0.292  -2.497  1.00  0.00           H  \nHETATM   39  H16 UNL     1       5.916   0.383  -3.014  1.00  0.00           H  \nHETATM   40  H17 UNL     1       7.145  -0.069  -0.763  1.00  0.00           H  \nHETATM   41  H18 UNL     1       4.410  -0.863   3.308  1.00  0.00           H  \nCONECT    1    2    5   24   25\nCONECT    2    3   26   27\nCONECT    3    4   28   29\nCONECT    4    5    6   30\nCONECT    5   31   32\nCONECT    6    7   10   33\nCONECT    7    8   34   35\nCONECT    8    9    9    9\nCONECT   10   11   14\nCONECT   11   12   12   36\nCONECT   12   13   15\nCONECT   13   14   14   37\nCONECT   15   16   16   23\nCONECT   16   17   20\nCONECT   17   18   18   38\nCONECT   18   19   39\nCONECT   19   20   40\nCONECT   20   21   21\nCONECT   21   22\nCONECT   22   23   23   41\nENDMDL\nMODEL        7\nHETATM    1  C1  UNL     1      -4.134  -1.076  -1.207  1.00  0.00           C  \nHETATM    2  C2  UNL     1      -3.094  -1.988  -0.646  1.00  0.00           C  \nHETATM    3  C3  UNL     1      -2.154  -1.089   0.198  1.00  0.00           C  \nHETATM    4  C4  UNL     1      -2.341   0.225  -0.441  1.00  0.00           C  \nHETATM    5  C5  UNL     1      -3.872   0.272  -0.568  1.00  0.00           C  \nHETATM    6  C6  UNL     1      -1.840   1.444   0.185  1.00  0.00           C  \nHETATM    7  C7  UNL     1      -2.330   1.835   1.527  1.00  0.00           C  \nHETATM    8  C8  UNL     1      -2.061   0.901   2.591  1.00  0.00           C  \nHETATM    9  N1  UNL     1      -1.833   0.164   3.474  1.00  0.00           N  \nHETATM   10  N2  UNL     1      -0.384   1.546   0.182  1.00  0.00           N  \nHETATM   11  C9  UNL     1       0.531   0.772  -0.414  1.00  0.00           C  \nHETATM   12  C10 UNL     1       1.778   1.286  -0.114  1.00  0.00           C  \nHETATM   13  C11 UNL     1       1.546   2.387   0.679  1.00  0.00           C  \nHETATM   14  N3  UNL     1       0.240   2.505   0.830  1.00  0.00           N  \nHETATM   15  C12 UNL     1       3.087   0.834  -0.503  1.00  0.00           C  \nHETATM   16  C13 UNL     1       3.435  -0.497  -0.447  1.00  0.00           C  \nHETATM   17  C14 UNL     1       2.776  -1.643  -0.071  1.00  0.00           C  \nHETATM   18  C15 UNL     1       3.631  -2.713  -0.223  1.00  0.00           C  \nHETATM   19  N4  UNL     1       4.804  -2.248  -0.686  1.00  0.00           N  \nHETATM   20  C16 UNL     1       4.716  -0.915  -0.831  1.00  0.00           C  \nHETATM   21  N5  UNL     1       5.606  -0.012  -1.255  1.00  0.00           N  \nHETATM   22  C17 UNL     1       5.260   1.274  -1.306  1.00  0.00           C  \nHETATM   23  N6  UNL     1       4.027   1.686  -0.937  1.00  0.00           N  \nHETATM   24  H1  UNL     1      -5.172  -1.424  -1.022  1.00  0.00           H  \nHETATM   25  H2  UNL     1      -3.998  -0.986  -2.324  1.00  0.00           H  \nHETATM   26  H3  UNL     1      -2.524  -2.470  -1.458  1.00  0.00           H  \nHETATM   27  H4  UNL     1      -3.529  -2.777  -0.001  1.00  0.00           H  \nHETATM   28  H5  UNL     1      -2.499  -1.189   1.223  1.00  0.00           H  \nHETATM   29  H6  UNL     1      -1.166  -1.550   0.102  1.00  0.00           H  \nHETATM   30  H7  UNL     1      -1.982   0.178  -1.499  1.00  0.00           H  \nHETATM   31  H8  UNL     1      -4.327   0.232   0.445  1.00  0.00           H  \nHETATM   32  H9  UNL     1      -4.207   1.117  -1.171  1.00  0.00           H  \nHETATM   33  H10 UNL     1      -2.150   2.304  -0.505  1.00  0.00           H  \nHETATM   34  H11 UNL     1      -3.429   2.101   1.491  1.00  0.00           H  \nHETATM   35  H12 UNL     1      -1.860   2.844   1.748  1.00  0.00           H  \nHETATM   36  H13 UNL     1       0.374  -0.099  -1.024  1.00  0.00           H  \nHETATM   37  H14 UNL     1       2.287   3.037   1.102  1.00  0.00           H  \nHETATM   38  H15 UNL     1       1.750  -1.662   0.283  1.00  0.00           H  \nHETATM   39  H16 UNL     1       3.418  -3.753  -0.013  1.00  0.00           H  \nHETATM   40  H17 UNL     1       5.626  -2.841  -0.889  1.00  0.00           H  \nHETATM   41  H18 UNL     1       5.997   1.987  -1.652  1.00  0.00           H  \nCONECT    1    2    5   24   25\nCONECT    2    3   26   27\nCONECT    3    4   28   29\nCONECT    4    5    6   30\nCONECT    5   31   32\nCONECT    6    7   10   33\nCONECT    7    8   34   35\nCONECT    8    9    9    9\nCONECT   10   11   14\nCONECT   11   12   12   36\nCONECT   12   13   15\nCONECT   13   14   14   37\nCONECT   15   16   16   23\nCONECT   16   17   20\nCONECT   17   18   18   38\nCONECT   18   19   39\nCONECT   19   20   40\nCONECT   20   21   21\nCONECT   21   22\nCONECT   22   23   23   41\nENDMDL\nMODEL        8\nHETATM    1  C1  UNL     1      -3.999   0.639   1.550  1.00  0.00           C  \nHETATM    2  C2  UNL     1      -4.266  -0.846   1.669  1.00  0.00           C  \nHETATM    3  C3  UNL     1      -3.619  -1.457   0.425  1.00  0.00           C  \nHETATM    4  C4  UNL     1      -2.418  -0.560   0.291  1.00  0.00           C  \nHETATM    5  C5  UNL     1      -3.000   0.800   0.414  1.00  0.00           C  \nHETATM    6  C6  UNL     1      -1.611  -0.802  -0.932  1.00  0.00           C  \nHETATM    7  C7  UNL     1      -2.328  -0.619  -2.219  1.00  0.00           C  \nHETATM    8  C8  UNL     1      -1.381  -0.899  -3.311  1.00  0.00           C  \nHETATM    9  N1  UNL     1      -0.641  -1.101  -4.179  1.00  0.00           N  \nHETATM   10  N2  UNL     1      -0.457   0.108  -0.872  1.00  0.00           N  \nHETATM   11  C9  UNL     1       0.668  -0.059  -0.154  1.00  0.00           C  \nHETATM   12  C10 UNL     1       1.542   0.994  -0.335  1.00  0.00           C  \nHETATM   13  C11 UNL     1       0.873   1.830  -1.224  1.00  0.00           C  \nHETATM   14  N3  UNL     1      -0.311   1.256  -1.511  1.00  0.00           N  \nHETATM   15  C12 UNL     1       2.864   1.231   0.236  1.00  0.00           C  \nHETATM   16  C13 UNL     1       3.806   0.220   0.284  1.00  0.00           C  \nHETATM   17  C14 UNL     1       3.762  -1.088  -0.131  1.00  0.00           C  \nHETATM   18  C15 UNL     1       4.986  -1.657   0.158  1.00  0.00           C  \nHETATM   19  N4  UNL     1       5.765  -0.725   0.737  1.00  0.00           N  \nHETATM   20  C16 UNL     1       5.072   0.425   0.825  1.00  0.00           C  \nHETATM   21  N5  UNL     1       5.348   1.652   1.302  1.00  0.00           N  \nHETATM   22  C17 UNL     1       4.437   2.642   1.260  1.00  0.00           C  \nHETATM   23  N6  UNL     1       3.223   2.434   0.738  1.00  0.00           N  \nHETATM   24  H1  UNL     1      -4.957   1.168   1.314  1.00  0.00           H  \nHETATM   25  H2  UNL     1      -3.571   1.021   2.498  1.00  0.00           H  \nHETATM   26  H3  UNL     1      -3.729  -1.298   2.540  1.00  0.00           H  \nHETATM   27  H4  UNL     1      -5.338  -1.091   1.727  1.00  0.00           H  \nHETATM   28  H5  UNL     1      -3.344  -2.514   0.592  1.00  0.00           H  \nHETATM   29  H6  UNL     1      -4.338  -1.332  -0.410  1.00  0.00           H  \nHETATM   30  H7  UNL     1      -1.774  -0.746   1.174  1.00  0.00           H  \nHETATM   31  H8  UNL     1      -3.559   1.124  -0.489  1.00  0.00           H  \nHETATM   32  H9  UNL     1      -2.298   1.591   0.691  1.00  0.00           H  \nHETATM   33  H10 UNL     1      -1.212  -1.835  -0.888  1.00  0.00           H  \nHETATM   34  H11 UNL     1      -2.655   0.435  -2.363  1.00  0.00           H  \nHETATM   35  H12 UNL     1      -3.147  -1.340  -2.320  1.00  0.00           H  \nHETATM   36  H13 UNL     1       0.840  -0.906   0.471  1.00  0.00           H  \nHETATM   37  H14 UNL     1       1.257   2.768  -1.601  1.00  0.00           H  \nHETATM   38  H15 UNL     1       2.892  -1.531  -0.595  1.00  0.00           H  \nHETATM   39  H16 UNL     1       5.218  -2.700  -0.072  1.00  0.00           H  \nHETATM   40  H17 UNL     1       6.746  -0.879   1.060  1.00  0.00           H  \nHETATM   41  H18 UNL     1       4.656   3.648   1.649  1.00  0.00           H  \nCONECT    1    2    5   24   25\nCONECT    2    3   26   27\nCONECT    3    4   28   29\nCONECT    4    5    6   30\nCONECT    5   31   32\nCONECT    6    7   10   33\nCONECT    7    8   34   35\nCONECT    8    9    9    9\nCONECT   10   11   14\nCONECT   11   12   12   36\nCONECT   12   13   15\nCONECT   13   14   14   37\nCONECT   15   16   16   23\nCONECT   16   17   20\nCONECT   17   18   18   38\nCONECT   18   19   39\nCONECT   19   20   40\nCONECT   20   21   21\nCONECT   21   22\nCONECT   22   23   23   41\nENDMDL\nMODEL        9\nHETATM    1  C1  UNL     1      -4.256  -2.266  -0.771  1.00  0.00           C  \nHETATM    2  C2  UNL     1      -4.249  -1.266   0.376  1.00  0.00           C  \nHETATM    3  C3  UNL     1      -2.796  -0.949   0.525  1.00  0.00           C  \nHETATM    4  C4  UNL     1      -2.238  -1.061  -0.880  1.00  0.00           C  \nHETATM    5  C5  UNL     1      -3.326  -1.575  -1.759  1.00  0.00           C  \nHETATM    6  C6  UNL     1      -1.647   0.242  -1.306  1.00  0.00           C  \nHETATM    7  C7  UNL     1      -2.631   1.370  -1.315  1.00  0.00           C  \nHETATM    8  C8  UNL     1      -1.907   2.587  -1.754  1.00  0.00           C  \nHETATM    9  N1  UNL     1      -1.337   3.532  -2.102  1.00  0.00           N  \nHETATM   10  N2  UNL     1      -0.521   0.519  -0.409  1.00  0.00           N  \nHETATM   11  C9  UNL     1       0.622  -0.167  -0.444  1.00  0.00           C  \nHETATM   12  C10 UNL     1       1.467   0.341   0.523  1.00  0.00           C  \nHETATM   13  C11 UNL     1       0.779   1.361   1.137  1.00  0.00           C  \nHETATM   14  N3  UNL     1      -0.416   1.420   0.530  1.00  0.00           N  \nHETATM   15  C12 UNL     1       2.823  -0.122   0.825  1.00  0.00           C  \nHETATM   16  C13 UNL     1       3.869   0.750   1.021  1.00  0.00           C  \nHETATM   17  C14 UNL     1       3.949   2.144   0.996  1.00  0.00           C  \nHETATM   18  C15 UNL     1       5.280   2.434   1.270  1.00  0.00           C  \nHETATM   19  N4  UNL     1       5.938   1.280   1.445  1.00  0.00           N  \nHETATM   20  C16 UNL     1       5.115   0.231   1.302  1.00  0.00           C  \nHETATM   21  N5  UNL     1       5.321  -1.117   1.387  1.00  0.00           N  \nHETATM   22  C17 UNL     1       4.286  -1.941   1.192  1.00  0.00           C  \nHETATM   23  N6  UNL     1       3.083  -1.436   0.920  1.00  0.00           N  \nHETATM   24  H1  UNL     1      -5.256  -2.417  -1.188  1.00  0.00           H  \nHETATM   25  H2  UNL     1      -3.784  -3.196  -0.402  1.00  0.00           H  \nHETATM   26  H3  UNL     1      -4.851  -0.390   0.087  1.00  0.00           H  \nHETATM   27  H4  UNL     1      -4.667  -1.776   1.275  1.00  0.00           H  \nHETATM   28  H5  UNL     1      -2.613   0.050   0.940  1.00  0.00           H  \nHETATM   29  H6  UNL     1      -2.297  -1.726   1.155  1.00  0.00           H  \nHETATM   30  H7  UNL     1      -1.403  -1.819  -0.916  1.00  0.00           H  \nHETATM   31  H8  UNL     1      -2.960  -2.395  -2.442  1.00  0.00           H  \nHETATM   32  H9  UNL     1      -3.874  -0.829  -2.327  1.00  0.00           H  \nHETATM   33  H10 UNL     1      -1.262   0.125  -2.347  1.00  0.00           H  \nHETATM   34  H11 UNL     1      -3.124   1.543  -0.353  1.00  0.00           H  \nHETATM   35  H12 UNL     1      -3.397   1.138  -2.082  1.00  0.00           H  \nHETATM   36  H13 UNL     1       0.900  -1.003  -1.106  1.00  0.00           H  \nHETATM   37  H14 UNL     1       1.178   1.964   1.948  1.00  0.00           H  \nHETATM   38  H15 UNL     1       3.120   2.809   0.799  1.00  0.00           H  \nHETATM   39  H16 UNL     1       5.670   3.431   1.323  1.00  0.00           H  \nHETATM   40  H17 UNL     1       6.945   1.208   1.662  1.00  0.00           H  \nHETATM   41  H18 UNL     1       4.468  -3.026   1.264  1.00  0.00           H  \nCONECT    1    2    5   24   25\nCONECT    2    3   26   27\nCONECT    3    4   28   29\nCONECT    4    5    6   30\nCONECT    5   31   32\nCONECT    6    7   10   33\nCONECT    7    8   34   35\nCONECT    8    9    9    9\nCONECT   10   11   14\nCONECT   11   12   12   36\nCONECT   12   13   15\nCONECT   13   14   14   37\nCONECT   15   16   16   23\nCONECT   16   17   20\nCONECT   17   18   18   38\nCONECT   18   19   39\nCONECT   19   20   40\nCONECT   20   21   21\nCONECT   21   22\nCONECT   22   23   23   41\nENDMDL\nMODEL       10\nHETATM    1  C1  UNL     1      -3.869   1.593   0.482  1.00  0.00           C  \nHETATM    2  C2  UNL     1      -4.484   1.001  -0.764  1.00  0.00           C  \nHETATM    3  C3  UNL     1      -3.909  -0.416  -0.739  1.00  0.00           C  \nHETATM    4  C4  UNL     1      -2.492  -0.167  -0.365  1.00  0.00           C  \nHETATM    5  C5  UNL     1      -2.436   1.147   0.381  1.00  0.00           C  \nHETATM    6  C6  UNL     1      -1.797  -1.265   0.365  1.00  0.00           C  \nHETATM    7  C7  UNL     1      -1.735  -2.535  -0.420  1.00  0.00           C  \nHETATM    8  C8  UNL     1      -3.042  -3.050  -0.739  1.00  0.00           C  \nHETATM    9  N1  UNL     1      -4.095  -3.497  -0.996  1.00  0.00           N  \nHETATM   10  N2  UNL     1      -0.450  -0.805   0.656  1.00  0.00           N  \nHETATM   11  C9  UNL     1       0.315  -0.127  -0.205  1.00  0.00           C  \nHETATM   12  C10 UNL     1       1.507   0.123   0.441  1.00  0.00           C  \nHETATM   13  C11 UNL     1       1.424  -0.421   1.693  1.00  0.00           C  \nHETATM   14  N3  UNL     1       0.204  -0.980   1.781  1.00  0.00           N  \nHETATM   15  C12 UNL     1       2.640   0.835  -0.115  1.00  0.00           C  \nHETATM   16  C13 UNL     1       3.915   0.370   0.026  1.00  0.00           C  \nHETATM   17  C14 UNL     1       4.448  -0.748   0.645  1.00  0.00           C  \nHETATM   18  C15 UNL     1       5.807  -0.732   0.486  1.00  0.00           C  \nHETATM   19  N4  UNL     1       6.137   0.366  -0.216  1.00  0.00           N  \nHETATM   20  C16 UNL     1       5.015   1.048  -0.506  1.00  0.00           C  \nHETATM   21  N5  UNL     1       4.758   2.185  -1.166  1.00  0.00           N  \nHETATM   22  C17 UNL     1       3.497   2.654  -1.311  1.00  0.00           C  \nHETATM   23  N6  UNL     1       2.446   1.995  -0.796  1.00  0.00           N  \nHETATM   24  H1  UNL     1      -4.337   1.212   1.399  1.00  0.00           H  \nHETATM   25  H2  UNL     1      -3.981   2.691   0.449  1.00  0.00           H  \nHETATM   26  H3  UNL     1      -5.577   1.008  -0.755  1.00  0.00           H  \nHETATM   27  H4  UNL     1      -4.033   1.515  -1.642  1.00  0.00           H  \nHETATM   28  H5  UNL     1      -4.440  -0.957   0.045  1.00  0.00           H  \nHETATM   29  H6  UNL     1      -4.038  -0.841  -1.754  1.00  0.00           H  \nHETATM   30  H7  UNL     1      -1.914  -0.005  -1.316  1.00  0.00           H  \nHETATM   31  H8  UNL     1      -2.001   1.024   1.404  1.00  0.00           H  \nHETATM   32  H9  UNL     1      -1.887   1.927  -0.177  1.00  0.00           H  \nHETATM   33  H10 UNL     1      -2.340  -1.452   1.340  1.00  0.00           H  \nHETATM   34  H11 UNL     1      -1.173  -2.392  -1.377  1.00  0.00           H  \nHETATM   35  H12 UNL     1      -1.113  -3.288   0.148  1.00  0.00           H  \nHETATM   36  H13 UNL     1       0.114   0.195  -1.214  1.00  0.00           H  \nHETATM   37  H14 UNL     1       2.155  -0.433   2.498  1.00  0.00           H  \nHETATM   38  H15 UNL     1       3.845  -1.483   1.157  1.00  0.00           H  \nHETATM   39  H16 UNL     1       6.467  -1.512   0.886  1.00  0.00           H  \nHETATM   40  H17 UNL     1       7.098   0.644  -0.490  1.00  0.00           H  \nHETATM   41  H18 UNL     1       3.351   3.574  -1.853  1.00  0.00           H  \nCONECT    1    2    5   24   25\nCONECT    2    3   26   27\nCONECT    3    4   28   29\nCONECT    4    5    6   30\nCONECT    5   31   32\nCONECT    6    7   10   33\nCONECT    7    8   34   35\nCONECT    8    9    9    9\nCONECT   10   11   14\nCONECT   11   12   12   36\nCONECT   12   13   15\nCONECT   13   14   14   37\nCONECT   15   16   16   23\nCONECT   16   17   20\nCONECT   17   18   18   38\nCONECT   18   19   39\nCONECT   19   20   40\nCONECT   20   21   21\nCONECT   21   22\nCONECT   22   23   23   41\nENDMDL\n",
           "type": "blob"
          }
         ],
         "kwargs": {
          "defaultRepresentation": true,
          "ext": "pdb",
          "name": "<openff.toolkit.utils.viz._OFFTrajectoryNGLView object at 0x7f99849e9150>"
         },
         "methodName": "loadFile",
         "reconstruc_color_scheme": false,
         "target": "Stage",
         "type": "call_method"
        }
       ],
       "_ngl_original_stage_parameters": {},
       "_ngl_repr_dict": {},
       "_ngl_serialize": false,
       "_ngl_version": "",
       "_ngl_view_id": [],
       "_player_dict": {},
       "_scene_position": {},
       "_scene_rotation": {},
       "_synced_model_ids": [],
       "_synced_repr_model_ids": [],
       "_view_count": null,
       "_view_height": "",
       "_view_module": "nglview-js-widgets",
       "_view_module_version": "3.0.6",
       "_view_name": "NGLView",
       "_view_width": "",
       "background": "white",
       "frame": 0,
       "gui_style": null,
       "layout": "IPY_MODEL_28e1432083a8451091ca71b1cb388757",
       "max_frame": 9,
       "n_components": 0,
       "picked": {},
       "tabbable": null,
       "tooltip": null
      }
     },
     "3e6d23b44e3b4d3a97702308fc049993": {
      "model_module": "@jupyter-widgets/controls",
      "model_module_version": "2.0.0",
      "model_name": "HBoxModel",
      "state": {
       "_dom_classes": [],
       "_model_module": "@jupyter-widgets/controls",
       "_model_module_version": "2.0.0",
       "_model_name": "HBoxModel",
       "_view_count": null,
       "_view_module": "@jupyter-widgets/controls",
       "_view_module_version": "2.0.0",
       "_view_name": "HBoxView",
       "box_style": "",
       "children": [
        "IPY_MODEL_09fc78ce18464445be493dab3c6ec380",
        "IPY_MODEL_bf61a149008846bf9b08a1bf4fb3aef9"
       ],
       "layout": "IPY_MODEL_850b5fa4b6aa4cedaf4f873fd59cac7d",
       "tabbable": null,
       "tooltip": null
      }
     },
     "5d563253cc44443a9f69c6c37509cebb": {
      "model_module": "@jupyter-widgets/controls",
      "model_module_version": "2.0.0",
      "model_name": "LinkModel",
      "state": {
       "_model_module": "@jupyter-widgets/controls",
       "_model_module_version": "2.0.0",
       "_model_name": "LinkModel",
       "_view_count": null,
       "_view_module": "@jupyter-widgets/controls",
       "_view_module_version": "2.0.0",
       "_view_name": null,
       "source": [
        "IPY_MODEL_adc9b4a2f5da4b929485136390bdc618",
        "max"
       ],
       "target": [
        "IPY_MODEL_3337fb5d5dfe46e48546da61b083a4ff",
        "max_frame"
       ]
      }
     },
     "63ee061fc9b744d381476f2fc64a9076": {
      "model_module": "@jupyter-widgets/controls",
      "model_module_version": "2.0.0",
      "model_name": "LinkModel",
      "state": {
       "_model_module": "@jupyter-widgets/controls",
       "_model_module_version": "2.0.0",
       "_model_name": "LinkModel",
       "_view_count": null,
       "_view_module": "@jupyter-widgets/controls",
       "_view_module_version": "2.0.0",
       "_view_name": null,
       "source": [
        "IPY_MODEL_a1885c0d877c4a44a18389e9f56b9027",
        "max"
       ],
       "target": [
        "IPY_MODEL_3337fb5d5dfe46e48546da61b083a4ff",
        "max_frame"
       ]
      }
     },
     "703c85021a5f40a4b5b191fc4d2265fb": {
      "model_module": "nglview-js-widgets",
      "model_module_version": "3.0.6",
      "model_name": "ColormakerRegistryModel",
      "state": {
       "_dom_classes": [],
       "_model_module": "nglview-js-widgets",
       "_model_module_version": "3.0.6",
       "_model_name": "ColormakerRegistryModel",
       "_msg_ar": [],
       "_msg_q": [],
       "_ready": false,
       "_view_count": null,
       "_view_module": "nglview-js-widgets",
       "_view_module_version": "3.0.6",
       "_view_name": "ColormakerRegistryView",
       "layout": "IPY_MODEL_ff008ccf0c9c448db56444216fc5b627",
       "tabbable": null,
       "tooltip": null
      }
     },
     "729226e709054fb5815ebee3e8e53ba7": {
      "model_module": "@jupyter-widgets/controls",
      "model_module_version": "2.0.0",
      "model_name": "LinkModel",
      "state": {
       "_model_module": "@jupyter-widgets/controls",
       "_model_module_version": "2.0.0",
       "_model_name": "LinkModel",
       "_view_count": null,
       "_view_module": "@jupyter-widgets/controls",
       "_view_module_version": "2.0.0",
       "_view_name": null,
       "source": [
        "IPY_MODEL_a1885c0d877c4a44a18389e9f56b9027",
        "value"
       ],
       "target": [
        "IPY_MODEL_adc9b4a2f5da4b929485136390bdc618",
        "value"
       ]
      }
     },
     "738779abd1074cc3a820b83f0398ddca": {
      "model_module": "nglview-js-widgets",
      "model_module_version": "3.0.6",
      "model_name": "NGLModel",
      "state": {
       "_camera_orientation": [],
       "_camera_str": "orthographic",
       "_dom_classes": [],
       "_gui_theme": null,
       "_ibtn_fullscreen": "IPY_MODEL_cf725d331a4849bfa6facbfc56f3ae1e",
       "_igui": null,
       "_iplayer": "IPY_MODEL_3e6d23b44e3b4d3a97702308fc049993",
       "_model_module": "nglview-js-widgets",
       "_model_module_version": "3.0.6",
       "_model_name": "NGLModel",
       "_ngl_color_dict": {},
       "_ngl_coordinate_resource": {},
       "_ngl_full_stage_parameters": {},
       "_ngl_msg_archive": [
        {
         "args": [
          {
           "binary": false,
           "data": "COMPND    ruxolitinib\nMODEL        1\nHETATM    1  C1  UNL     1      -4.259   0.404   1.825  1.00  0.00           C  \nHETATM    2  C2  UNL     1      -5.050  -0.039   0.599  1.00  0.00           C  \nHETATM    3  C3  UNL     1      -4.099  -0.990  -0.132  1.00  0.00           C  \nHETATM    4  C4  UNL     1      -2.664  -0.519   0.219  1.00  0.00           C  \nHETATM    5  C5  UNL     1      -2.845   0.596   1.281  1.00  0.00           C  \nHETATM    6  C6  UNL     1      -1.827  -0.096  -1.032  1.00  0.00           C  \nHETATM    7  C7  UNL     1      -2.405   1.121  -1.812  1.00  0.00           C  \nHETATM    8  C8  UNL     1      -1.763   1.230  -3.164  1.00  0.00           C  \nHETATM    9  N1  UNL     1      -1.302   1.271  -4.224  1.00  0.00           N  \nHETATM   10  N2  UNL     1      -0.425   0.169  -0.629  1.00  0.00           N  \nHETATM   11  C9  UNL     1       0.577  -0.781  -0.683  1.00  0.00           C  \nHETATM   12  C10 UNL     1       1.692  -0.183  -0.149  1.00  0.00           C  \nHETATM   13  C11 UNL     1       1.270   1.159   0.243  1.00  0.00           C  \nHETATM   14  N3  UNL     1       0.002   1.359  -0.045  1.00  0.00           N  \nHETATM   15  C12 UNL     1       3.005  -0.824   0.023  1.00  0.00           C  \nHETATM   16  C13 UNL     1       4.183  -0.108   0.262  1.00  0.00           C  \nHETATM   17  C14 UNL     1       4.548   1.319   0.340  1.00  0.00           C  \nHETATM   18  C15 UNL     1       5.910   1.365   0.596  1.00  0.00           C  \nHETATM   19  N4  UNL     1       6.374   0.047   0.661  1.00  0.00           N  \nHETATM   20  C16 UNL     1       5.338  -0.830   0.450  1.00  0.00           C  \nHETATM   21  N5  UNL     1       5.360  -2.157   0.398  1.00  0.00           N  \nHETATM   22  C17 UNL     1       4.218  -2.815   0.138  1.00  0.00           C  \nHETATM   23  N6  UNL     1       3.055  -2.166  -0.050  1.00  0.00           N  \nHETATM   24  H1  UNL     1      -4.265  -0.386   2.578  1.00  0.00           H  \nHETATM   25  H2  UNL     1      -4.656   1.322   2.260  1.00  0.00           H  \nHETATM   26  H3  UNL     1      -5.986  -0.528   0.872  1.00  0.00           H  \nHETATM   27  H4  UNL     1      -5.268   0.826  -0.030  1.00  0.00           H  \nHETATM   28  H5  UNL     1      -4.244  -2.006   0.241  1.00  0.00           H  \nHETATM   29  H6  UNL     1      -4.294  -0.999  -1.205  1.00  0.00           H  \nHETATM   30  H7  UNL     1      -2.154  -1.357   0.698  1.00  0.00           H  \nHETATM   31  H8  UNL     1      -2.764   1.586   0.836  1.00  0.00           H  \nHETATM   32  H9  UNL     1      -2.099   0.518   2.074  1.00  0.00           H  \nHETATM   33  H10 UNL     1      -1.823  -0.948  -1.715  1.00  0.00           H  \nHETATM   34  H11 UNL     1      -2.234   2.049  -1.267  1.00  0.00           H  \nHETATM   35  H12 UNL     1      -3.479   1.016  -1.949  1.00  0.00           H  \nHETATM   36  H13 UNL     1       0.511  -1.793  -1.062  1.00  0.00           H  \nHETATM   37  H14 UNL     1       1.891   1.891   0.739  1.00  0.00           H  \nHETATM   38  H15 UNL     1       3.903   2.177   0.201  1.00  0.00           H  \nHETATM   39  H16 UNL     1       6.505   2.264   0.708  1.00  0.00           H  \nHETATM   40  H17 UNL     1       7.328  -0.271   0.825  1.00  0.00           H  \nHETATM   41  H18 UNL     1       4.234  -3.896   0.082  1.00  0.00           H  \nCONECT    1    2    5   24   25\nCONECT    2    3   26   27\nCONECT    3    4   28   29\nCONECT    4    5    6   30\nCONECT    5   31   32\nCONECT    6    7   10   33\nCONECT    7    8   34   35\nCONECT    8    9    9    9\nCONECT   10   11   14\nCONECT   11   12   12   36\nCONECT   12   13   15\nCONECT   13   14   14   37\nCONECT   15   16   16   23\nCONECT   16   17   20\nCONECT   17   18   18   38\nCONECT   18   19   39\nCONECT   19   20   40\nCONECT   20   21   21\nCONECT   21   22\nCONECT   22   23   23   41\nENDMDL\nMODEL        2\nHETATM    1  C1  UNL     1      -3.589   1.731  -0.944  1.00  0.00           C  \nHETATM    2  C2  UNL     1      -3.795   1.812   0.581  1.00  0.00           C  \nHETATM    3  C3  UNL     1      -3.016   0.633   1.171  1.00  0.00           C  \nHETATM    4  C4  UNL     1      -3.052  -0.421   0.057  1.00  0.00           C  \nHETATM    5  C5  UNL     1      -2.826   0.423  -1.209  1.00  0.00           C  \nHETATM    6  C6  UNL     1      -2.072  -1.621   0.273  1.00  0.00           C  \nHETATM    7  C7  UNL     1      -2.164  -2.622  -0.907  1.00  0.00           C  \nHETATM    8  C8  UNL     1      -1.420  -3.892  -0.610  1.00  0.00           C  \nHETATM    9  N1  UNL     1      -0.884  -4.898  -0.411  1.00  0.00           N  \nHETATM   10  N2  UNL     1      -0.670  -1.199   0.540  1.00  0.00           N  \nHETATM   11  C9  UNL     1       0.257  -0.831  -0.421  1.00  0.00           C  \nHETATM   12  C10 UNL     1       1.382  -0.442   0.264  1.00  0.00           C  \nHETATM   13  C11 UNL     1       1.062  -0.633   1.677  1.00  0.00           C  \nHETATM   14  N3  UNL     1      -0.168  -1.074   1.830  1.00  0.00           N  \nHETATM   15  C12 UNL     1       2.625   0.034  -0.368  1.00  0.00           C  \nHETATM   16  C13 UNL     1       3.683   0.625   0.336  1.00  0.00           C  \nHETATM   17  C14 UNL     1       3.943   0.995   1.742  1.00  0.00           C  \nHETATM   18  C15 UNL     1       5.202   1.575   1.772  1.00  0.00           C  \nHETATM   19  N4  UNL     1       5.701   1.575   0.466  1.00  0.00           N  \nHETATM   20  C16 UNL     1       4.786   1.011  -0.389  1.00  0.00           C  \nHETATM   21  N5  UNL     1       4.866   0.850  -1.703  1.00  0.00           N  \nHETATM   22  C17 UNL     1       3.831   0.294  -2.352  1.00  0.00           C  \nHETATM   23  N6  UNL     1       2.721  -0.102  -1.704  1.00  0.00           N  \nHETATM   24  H1  UNL     1      -3.019   2.587  -1.309  1.00  0.00           H  \nHETATM   25  H2  UNL     1      -4.557   1.718  -1.447  1.00  0.00           H  \nHETATM   26  H3  UNL     1      -3.443   2.761   0.986  1.00  0.00           H  \nHETATM   27  H4  UNL     1      -4.856   1.705   0.812  1.00  0.00           H  \nHETATM   28  H5  UNL     1      -1.991   0.945   1.377  1.00  0.00           H  \nHETATM   29  H6  UNL     1      -3.470   0.269   2.094  1.00  0.00           H  \nHETATM   30  H7  UNL     1      -4.068  -0.819   0.015  1.00  0.00           H  \nHETATM   31  H8  UNL     1      -1.769   0.651  -1.337  1.00  0.00           H  \nHETATM   32  H9  UNL     1      -3.195  -0.076  -2.106  1.00  0.00           H  \nHETATM   33  H10 UNL     1      -2.413  -2.148   1.167  1.00  0.00           H  \nHETATM   34  H11 UNL     1      -1.768  -2.180  -1.821  1.00  0.00           H  \nHETATM   35  H12 UNL     1      -3.207  -2.873  -1.094  1.00  0.00           H  \nHETATM   36  H13 UNL     1       0.140  -0.834  -1.496  1.00  0.00           H  \nHETATM   37  H14 UNL     1       1.733  -0.459   2.504  1.00  0.00           H  \nHETATM   38  H15 UNL     1       3.293   0.869   2.596  1.00  0.00           H  \nHETATM   39  H16 UNL     1       5.702   1.965   2.651  1.00  0.00           H  \nHETATM   40  H17 UNL     1       6.598   1.932   0.140  1.00  0.00           H  \nHETATM   41  H18 UNL     1       3.890   0.163  -3.425  1.00  0.00           H  \nCONECT    1    2    5   24   25\nCONECT    2    3   26   27\nCONECT    3    4   28   29\nCONECT    4    5    6   30\nCONECT    5   31   32\nCONECT    6    7   10   33\nCONECT    7    8   34   35\nCONECT    8    9    9    9\nCONECT   10   11   14\nCONECT   11   12   12   36\nCONECT   12   13   15\nCONECT   13   14   14   37\nCONECT   15   16   16   23\nCONECT   16   17   20\nCONECT   17   18   18   38\nCONECT   18   19   39\nCONECT   19   20   40\nCONECT   20   21   21\nCONECT   21   22\nCONECT   22   23   23   41\nENDMDL\nMODEL        3\nHETATM    1  C1  UNL     1      -3.755   1.288   1.807  1.00  0.00           C  \nHETATM    2  C2  UNL     1      -3.906   1.707   0.331  1.00  0.00           C  \nHETATM    3  C3  UNL     1      -3.077   0.706  -0.483  1.00  0.00           C  \nHETATM    4  C4  UNL     1      -3.053  -0.556   0.394  1.00  0.00           C  \nHETATM    5  C5  UNL     1      -2.886   0.023   1.806  1.00  0.00           C  \nHETATM    6  C6  UNL     1      -1.995  -1.644   0.014  1.00  0.00           C  \nHETATM    7  C7  UNL     1      -2.215  -2.140  -1.439  1.00  0.00           C  \nHETATM    8  C8  UNL     1      -1.355  -3.331  -1.751  1.00  0.00           C  \nHETATM    9  N1  UNL     1      -0.725  -4.258  -2.034  1.00  0.00           N  \nHETATM   10  N2  UNL     1      -0.589  -1.212   0.243  1.00  0.00           N  \nHETATM   11  C9  UNL     1       0.149  -0.395  -0.596  1.00  0.00           C  \nHETATM   12  C10 UNL     1       1.367  -0.229   0.013  1.00  0.00           C  \nHETATM   13  C11 UNL     1       1.286  -0.977   1.264  1.00  0.00           C  \nHETATM   14  N3  UNL     1       0.113  -1.559   1.392  1.00  0.00           N  \nHETATM   15  C12 UNL     1       2.472   0.586  -0.514  1.00  0.00           C  \nHETATM   16  C13 UNL     1       3.789   0.491  -0.050  1.00  0.00           C  \nHETATM   17  C14 UNL     1       4.503  -0.358   0.922  1.00  0.00           C  \nHETATM   18  C15 UNL     1       5.829   0.045   0.899  1.00  0.00           C  \nHETATM   19  N4  UNL     1       5.942   1.078  -0.037  1.00  0.00           N  \nHETATM   20  C16 UNL     1       4.720   1.334  -0.609  1.00  0.00           C  \nHETATM   21  N5  UNL     1       4.408   2.204  -1.562  1.00  0.00           N  \nHETATM   22  C17 UNL     1       3.141   2.254  -2.004  1.00  0.00           C  \nHETATM   23  N6  UNL     1       2.182   1.459  -1.495  1.00  0.00           N  \nHETATM   24  H1  UNL     1      -3.287   2.077   2.398  1.00  0.00           H  \nHETATM   25  H2  UNL     1      -4.737   1.070   2.230  1.00  0.00           H  \nHETATM   26  H3  UNL     1      -3.557   2.728   0.168  1.00  0.00           H  \nHETATM   27  H4  UNL     1      -4.955   1.646   0.040  1.00  0.00           H  \nHETATM   28  H5  UNL     1      -2.071   1.102  -0.618  1.00  0.00           H  \nHETATM   29  H6  UNL     1      -3.526   0.521  -1.460  1.00  0.00           H  \nHETATM   30  H7  UNL     1      -4.042  -1.016   0.341  1.00  0.00           H  \nHETATM   31  H8  UNL     1      -1.848   0.302   1.989  1.00  0.00           H  \nHETATM   32  H9  UNL     1      -3.202  -0.684   2.575  1.00  0.00           H  \nHETATM   33  H10 UNL     1      -2.170  -2.497   0.673  1.00  0.00           H  \nHETATM   34  H11 UNL     1      -1.999  -1.348  -2.154  1.00  0.00           H  \nHETATM   35  H12 UNL     1      -3.258  -2.424  -1.575  1.00  0.00           H  \nHETATM   36  H13 UNL     1      -0.153   0.039  -1.541  1.00  0.00           H  \nHETATM   37  H14 UNL     1       2.062  -1.030   2.012  1.00  0.00           H  \nHETATM   38  H15 UNL     1       4.099  -1.163   1.523  1.00  0.00           H  \nHETATM   39  H16 UNL     1       6.633  -0.379   1.490  1.00  0.00           H  \nHETATM   40  H17 UNL     1       6.783   1.588  -0.304  1.00  0.00           H  \nHETATM   41  H18 UNL     1       2.883   2.954  -2.789  1.00  0.00           H  \nCONECT    1    2    5   24   25\nCONECT    2    3   26   27\nCONECT    3    4   28   29\nCONECT    4    5    6   30\nCONECT    5   31   32\nCONECT    6    7   10   33\nCONECT    7    8   34   35\nCONECT    8    9    9    9\nCONECT   10   11   14\nCONECT   11   12   12   36\nCONECT   12   13   15\nCONECT   13   14   14   37\nCONECT   15   16   16   23\nCONECT   16   17   20\nCONECT   17   18   18   38\nCONECT   18   19   39\nCONECT   19   20   40\nCONECT   20   21   21\nCONECT   21   22\nCONECT   22   23   23   41\nENDMDL\nMODEL        4\nHETATM    1  C1  UNL     1      -4.380   0.966   1.153  1.00  0.00           C  \nHETATM    2  C2  UNL     1      -4.052   1.594  -0.209  1.00  0.00           C  \nHETATM    3  C3  UNL     1      -2.775   0.893  -0.709  1.00  0.00           C  \nHETATM    4  C4  UNL     1      -2.353  -0.071   0.422  1.00  0.00           C  \nHETATM    5  C5  UNL     1      -3.679  -0.390   1.127  1.00  0.00           C  \nHETATM    6  C6  UNL     1      -1.501  -1.310  -0.026  1.00  0.00           C  \nHETATM    7  C7  UNL     1      -2.225  -2.343  -0.940  1.00  0.00           C  \nHETATM    8  C8  UNL     1      -3.011  -3.339  -0.138  1.00  0.00           C  \nHETATM    9  N1  UNL     1      -3.596  -4.085   0.525  1.00  0.00           N  \nHETATM   10  N2  UNL     1      -0.281  -0.821  -0.711  1.00  0.00           N  \nHETATM   11  C9  UNL     1       0.868  -0.445  -0.042  1.00  0.00           C  \nHETATM   12  C10 UNL     1       1.719   0.041  -1.005  1.00  0.00           C  \nHETATM   13  C11 UNL     1       0.985  -0.050  -2.265  1.00  0.00           C  \nHETATM   14  N3  UNL     1      -0.210  -0.571  -2.079  1.00  0.00           N  \nHETATM   15  C12 UNL     1       3.075   0.600  -0.896  1.00  0.00           C  \nHETATM   16  C13 UNL     1       3.880   0.440   0.238  1.00  0.00           C  \nHETATM   17  C14 UNL     1       3.759  -0.275   1.524  1.00  0.00           C  \nHETATM   18  C15 UNL     1       4.938  -0.045   2.217  1.00  0.00           C  \nHETATM   19  N4  UNL     1       5.753   0.756   1.411  1.00  0.00           N  \nHETATM   20  C16 UNL     1       5.119   1.037   0.226  1.00  0.00           C  \nHETATM   21  N5  UNL     1       5.559   1.736  -0.813  1.00  0.00           N  \nHETATM   22  C17 UNL     1       4.771   1.856  -1.894  1.00  0.00           C  \nHETATM   23  N6  UNL     1       3.548   1.297  -1.942  1.00  0.00           N  \nHETATM   24  H1  UNL     1      -3.962   1.580   1.952  1.00  0.00           H  \nHETATM   25  H2  UNL     1      -5.456   0.866   1.308  1.00  0.00           H  \nHETATM   26  H3  UNL     1      -3.905   2.671  -0.113  1.00  0.00           H  \nHETATM   27  H4  UNL     1      -4.868   1.415  -0.912  1.00  0.00           H  \nHETATM   28  H5  UNL     1      -1.986   1.618  -0.914  1.00  0.00           H  \nHETATM   29  H6  UNL     1      -2.990   0.356  -1.632  1.00  0.00           H  \nHETATM   30  H7  UNL     1      -1.748   0.506   1.125  1.00  0.00           H  \nHETATM   31  H8  UNL     1      -3.526  -0.787   2.131  1.00  0.00           H  \nHETATM   32  H9  UNL     1      -4.280  -1.087   0.545  1.00  0.00           H  \nHETATM   33  H10 UNL     1      -1.174  -1.839   0.871  1.00  0.00           H  \nHETATM   34  H11 UNL     1      -2.874  -1.846  -1.657  1.00  0.00           H  \nHETATM   35  H12 UNL     1      -1.485  -2.897  -1.519  1.00  0.00           H  \nHETATM   36  H13 UNL     1       1.033  -0.493   1.024  1.00  0.00           H  \nHETATM   37  H14 UNL     1       1.371   0.266  -3.226  1.00  0.00           H  \nHETATM   38  H15 UNL     1       2.936  -0.886   1.869  1.00  0.00           H  \nHETATM   39  H16 UNL     1       5.185  -0.433   3.199  1.00  0.00           H  \nHETATM   40  H17 UNL     1       6.690   1.100   1.618  1.00  0.00           H  \nHETATM   41  H18 UNL     1       5.127   2.418  -2.748  1.00  0.00           H  \nCONECT    1    2    5   24   25\nCONECT    2    3   26   27\nCONECT    3    4   28   29\nCONECT    4    5    6   30\nCONECT    5   31   32\nCONECT    6    7   10   33\nCONECT    7    8   34   35\nCONECT    8    9    9    9\nCONECT   10   11   14\nCONECT   11   12   12   36\nCONECT   12   13   15\nCONECT   13   14   14   37\nCONECT   15   16   16   23\nCONECT   16   17   20\nCONECT   17   18   18   38\nCONECT   18   19   39\nCONECT   19   20   40\nCONECT   20   21   21\nCONECT   21   22\nCONECT   22   23   23   41\nENDMDL\nMODEL        5\nHETATM    1  C1  UNL     1      -4.928   0.578   1.010  1.00  0.00           C  \nHETATM    2  C2  UNL     1      -3.935   1.705   1.345  1.00  0.00           C  \nHETATM    3  C3  UNL     1      -2.544   1.183   0.957  1.00  0.00           C  \nHETATM    4  C4  UNL     1      -2.810   0.017  -0.006  1.00  0.00           C  \nHETATM    5  C5  UNL     1      -4.075  -0.620   0.583  1.00  0.00           C  \nHETATM    6  C6  UNL     1      -1.605  -0.967  -0.115  1.00  0.00           C  \nHETATM    7  C7  UNL     1      -1.917  -2.235  -0.960  1.00  0.00           C  \nHETATM    8  C8  UNL     1      -2.493  -1.938  -2.318  1.00  0.00           C  \nHETATM    9  N1  UNL     1      -2.987  -1.761  -3.349  1.00  0.00           N  \nHETATM   10  N2  UNL     1      -0.406  -0.274  -0.646  1.00  0.00           N  \nHETATM   11  C9  UNL     1       0.839  -0.329  -0.044  1.00  0.00           C  \nHETATM   12  C10 UNL     1       1.684   0.372  -0.871  1.00  0.00           C  \nHETATM   13  C11 UNL     1       0.852   0.845  -1.976  1.00  0.00           C  \nHETATM   14  N3  UNL     1      -0.394   0.446  -1.833  1.00  0.00           N  \nHETATM   15  C12 UNL     1       3.121   0.678  -0.763  1.00  0.00           C  \nHETATM   16  C13 UNL     1       3.976   0.053   0.156  1.00  0.00           C  \nHETATM   17  C14 UNL     1       3.842  -1.015   1.167  1.00  0.00           C  \nHETATM   18  C15 UNL     1       5.093  -1.172   1.744  1.00  0.00           C  \nHETATM   19  N4  UNL     1       5.962  -0.267   1.126  1.00  0.00           N  \nHETATM   20  C16 UNL     1       5.290   0.457   0.173  1.00  0.00           C  \nHETATM   21  N5  UNL     1       5.757   1.391  -0.646  1.00  0.00           N  \nHETATM   22  C17 UNL     1       4.918   1.957  -1.528  1.00  0.00           C  \nHETATM   23  N6  UNL     1       3.620   1.610  -1.591  1.00  0.00           N  \nHETATM   24  H1  UNL     1      -5.561   0.331   1.863  1.00  0.00           H  \nHETATM   25  H2  UNL     1      -5.564   0.889   0.180  1.00  0.00           H  \nHETATM   26  H3  UNL     1      -3.967   1.957   2.406  1.00  0.00           H  \nHETATM   27  H4  UNL     1      -4.180   2.598   0.767  1.00  0.00           H  \nHETATM   28  H5  UNL     1      -1.941   1.963   0.488  1.00  0.00           H  \nHETATM   29  H6  UNL     1      -2.026   0.825   1.848  1.00  0.00           H  \nHETATM   30  H7  UNL     1      -3.048   0.429  -0.990  1.00  0.00           H  \nHETATM   31  H8  UNL     1      -4.600  -1.240  -0.146  1.00  0.00           H  \nHETATM   32  H9  UNL     1      -3.823  -1.224   1.456  1.00  0.00           H  \nHETATM   33  H10 UNL     1      -1.368  -1.304   0.894  1.00  0.00           H  \nHETATM   34  H11 UNL     1      -1.006  -2.817  -1.089  1.00  0.00           H  \nHETATM   35  H12 UNL     1      -2.623  -2.866  -0.422  1.00  0.00           H  \nHETATM   36  H13 UNL     1       1.075  -0.803   0.896  1.00  0.00           H  \nHETATM   37  H14 UNL     1       1.210   1.439  -2.807  1.00  0.00           H  \nHETATM   38  H15 UNL     1       2.961  -1.591   1.412  1.00  0.00           H  \nHETATM   39  H16 UNL     1       5.351  -1.881   2.523  1.00  0.00           H  \nHETATM   40  H17 UNL     1       6.955  -0.129   1.310  1.00  0.00           H  \nHETATM   41  H18 UNL     1       5.294   2.715  -2.203  1.00  0.00           H  \nCONECT    1    2    5   24   25\nCONECT    2    3   26   27\nCONECT    3    4   28   29\nCONECT    4    5    6   30\nCONECT    5   31   32\nCONECT    6    7   10   33\nCONECT    7    8   34   35\nCONECT    8    9    9    9\nCONECT   10   11   14\nCONECT   11   12   12   36\nCONECT   12   13   15\nCONECT   13   14   14   37\nCONECT   15   16   16   23\nCONECT   16   17   20\nCONECT   17   18   18   38\nCONECT   18   19   39\nCONECT   19   20   40\nCONECT   20   21   21\nCONECT   21   22\nCONECT   22   23   23   41\nENDMDL\nMODEL        6\nHETATM    1  C1  UNL     1      -3.801  -2.198   0.024  1.00  0.00           C  \nHETATM    2  C2  UNL     1      -4.811  -1.277   0.729  1.00  0.00           C  \nHETATM    3  C3  UNL     1      -4.190   0.129   0.725  1.00  0.00           C  \nHETATM    4  C4  UNL     1      -2.697  -0.088   0.432  1.00  0.00           C  \nHETATM    5  C5  UNL     1      -2.719  -1.275  -0.539  1.00  0.00           C  \nHETATM    6  C6  UNL     1      -1.981   1.160  -0.165  1.00  0.00           C  \nHETATM    7  C7  UNL     1      -2.046   2.377   0.794  1.00  0.00           C  \nHETATM    8  C8  UNL     1      -1.430   3.599   0.175  1.00  0.00           C  \nHETATM    9  N1  UNL     1      -0.988   4.572  -0.268  1.00  0.00           N  \nHETATM   10  N2  UNL     1      -0.578   0.820  -0.504  1.00  0.00           N  \nHETATM   11  C9  UNL     1       0.402   0.498   0.418  1.00  0.00           C  \nHETATM   12  C10 UNL     1       1.529   0.215  -0.314  1.00  0.00           C  \nHETATM   13  C11 UNL     1       1.135   0.369  -1.713  1.00  0.00           C  \nHETATM   14  N3  UNL     1      -0.127   0.729  -1.814  1.00  0.00           N  \nHETATM   15  C12 UNL     1       2.824  -0.193   0.257  1.00  0.00           C  \nHETATM   16  C13 UNL     1       4.015  -0.249  -0.478  1.00  0.00           C  \nHETATM   17  C14 UNL     1       4.420   0.077  -1.860  1.00  0.00           C  \nHETATM   18  C15 UNL     1       5.775  -0.203  -1.951  1.00  0.00           C  \nHETATM   19  N4  UNL     1       6.198  -0.665  -0.701  1.00  0.00           N  \nHETATM   20  C16 UNL     1       5.144  -0.682   0.178  1.00  0.00           C  \nHETATM   21  N5  UNL     1       5.133  -1.025   1.460  1.00  0.00           N  \nHETATM   22  C17 UNL     1       3.982  -0.938   2.144  1.00  0.00           C  \nHETATM   23  N6  UNL     1       2.841  -0.529   1.560  1.00  0.00           N  \nHETATM   24  H1  UNL     1      -4.272  -2.786  -0.766  1.00  0.00           H  \nHETATM   25  H2  UNL     1      -3.358  -2.880   0.752  1.00  0.00           H  \nHETATM   26  H3  UNL     1      -5.768  -1.272   0.206  1.00  0.00           H  \nHETATM   27  H4  UNL     1      -4.975  -1.621   1.751  1.00  0.00           H  \nHETATM   28  H5  UNL     1      -4.349   0.633   1.679  1.00  0.00           H  \nHETATM   29  H6  UNL     1      -4.643   0.724  -0.071  1.00  0.00           H  \nHETATM   30  H7  UNL     1      -2.198  -0.399   1.353  1.00  0.00           H  \nHETATM   31  H8  UNL     1      -1.752  -1.777  -0.596  1.00  0.00           H  \nHETATM   32  H9  UNL     1      -3.002  -0.939  -1.539  1.00  0.00           H  \nHETATM   33  H10 UNL     1      -2.490   1.434  -1.092  1.00  0.00           H  \nHETATM   34  H11 UNL     1      -1.534   2.153   1.728  1.00  0.00           H  \nHETATM   35  H12 UNL     1      -3.082   2.608   1.035  1.00  0.00           H  \nHETATM   36  H13 UNL     1       0.316   0.464   1.496  1.00  0.00           H  \nHETATM   37  H14 UNL     1       1.768   0.186  -2.568  1.00  0.00           H  \nHETATM   38  H15 UNL     1       3.808   0.479  -2.656  1.00  0.00           H  \nHETATM   39  H16 UNL     1       6.393  -0.071  -2.832  1.00  0.00           H  \nHETATM   40  H17 UNL     1       7.138  -0.949  -0.427  1.00  0.00           H  \nHETATM   41  H18 UNL     1       3.971  -1.210   3.192  1.00  0.00           H  \nCONECT    1    2    5   24   25\nCONECT    2    3   26   27\nCONECT    3    4   28   29\nCONECT    4    5    6   30\nCONECT    5   31   32\nCONECT    6    7   10   33\nCONECT    7    8   34   35\nCONECT    8    9    9    9\nCONECT   10   11   14\nCONECT   11   12   12   36\nCONECT   12   13   15\nCONECT   13   14   14   37\nCONECT   15   16   16   23\nCONECT   16   17   20\nCONECT   17   18   18   38\nCONECT   18   19   39\nCONECT   19   20   40\nCONECT   20   21   21\nCONECT   21   22\nCONECT   22   23   23   41\nENDMDL\nMODEL        7\nHETATM    1  C1  UNL     1      -4.524  -0.909  -1.084  1.00  0.00           C  \nHETATM    2  C2  UNL     1      -3.289  -1.825  -1.087  1.00  0.00           C  \nHETATM    3  C3  UNL     1      -2.238  -1.095  -0.249  1.00  0.00           C  \nHETATM    4  C4  UNL     1      -2.525   0.388  -0.542  1.00  0.00           C  \nHETATM    5  C5  UNL     1      -4.061   0.437  -0.500  1.00  0.00           C  \nHETATM    6  C6  UNL     1      -1.836   1.478   0.357  1.00  0.00           C  \nHETATM    7  C7  UNL     1      -2.031   1.381   1.902  1.00  0.00           C  \nHETATM    8  C8  UNL     1      -1.295   0.253   2.566  1.00  0.00           C  \nHETATM    9  N1  UNL     1      -0.726  -0.643   3.025  1.00  0.00           N  \nHETATM   10  N2  UNL     1      -0.410   1.665  -0.012  1.00  0.00           N  \nHETATM   11  C9  UNL     1       0.587   0.708   0.091  1.00  0.00           C  \nHETATM   12  C10 UNL     1       1.733   1.308  -0.372  1.00  0.00           C  \nHETATM   13  C11 UNL     1       1.345   2.670  -0.729  1.00  0.00           C  \nHETATM   14  N3  UNL     1       0.063   2.872  -0.508  1.00  0.00           N  \nHETATM   15  C12 UNL     1       3.113   0.807  -0.498  1.00  0.00           C  \nHETATM   16  C13 UNL     1       3.475  -0.532  -0.291  1.00  0.00           C  \nHETATM   17  C14 UNL     1       2.765  -1.781   0.050  1.00  0.00           C  \nHETATM   18  C15 UNL     1       3.724  -2.781   0.103  1.00  0.00           C  \nHETATM   19  N4  UNL     1       4.959  -2.199  -0.193  1.00  0.00           N  \nHETATM   20  C16 UNL     1       4.805  -0.856  -0.430  1.00  0.00           C  \nHETATM   21  N5  UNL     1       5.726   0.043  -0.753  1.00  0.00           N  \nHETATM   22  C17 UNL     1       5.346   1.315  -0.953  1.00  0.00           C  \nHETATM   23  N6  UNL     1       4.063   1.697  -0.834  1.00  0.00           N  \nHETATM   24  H1  UNL     1      -5.321  -1.332  -0.470  1.00  0.00           H  \nHETATM   25  H2  UNL     1      -4.898  -0.781  -2.101  1.00  0.00           H  \nHETATM   26  H3  UNL     1      -2.925  -1.944  -2.109  1.00  0.00           H  \nHETATM   27  H4  UNL     1      -3.514  -2.811  -0.677  1.00  0.00           H  \nHETATM   28  H5  UNL     1      -2.404  -1.331   0.800  1.00  0.00           H  \nHETATM   29  H6  UNL     1      -1.230  -1.390  -0.541  1.00  0.00           H  \nHETATM   30  H7  UNL     1      -2.224   0.583  -1.575  1.00  0.00           H  \nHETATM   31  H8  UNL     1      -4.418   0.524   0.526  1.00  0.00           H  \nHETATM   32  H9  UNL     1      -4.451   1.276  -1.079  1.00  0.00           H  \nHETATM   33  H10 UNL     1      -2.323   2.412   0.072  1.00  0.00           H  \nHETATM   34  H11 UNL     1      -3.089   1.303   2.145  1.00  0.00           H  \nHETATM   35  H12 UNL     1      -1.683   2.313   2.349  1.00  0.00           H  \nHETATM   36  H13 UNL     1       0.477  -0.290   0.486  1.00  0.00           H  \nHETATM   37  H14 UNL     1       2.021   3.418  -1.123  1.00  0.00           H  \nHETATM   38  H15 UNL     1       1.708  -1.922   0.224  1.00  0.00           H  \nHETATM   39  H16 UNL     1       3.541  -3.825   0.330  1.00  0.00           H  \nHETATM   40  H17 UNL     1       5.869  -2.655  -0.241  1.00  0.00           H  \nHETATM   41  H18 UNL     1       6.093   2.053  -1.219  1.00  0.00           H  \nCONECT    1    2    5   24   25\nCONECT    2    3   26   27\nCONECT    3    4   28   29\nCONECT    4    5    6   30\nCONECT    5   31   32\nCONECT    6    7   10   33\nCONECT    7    8   34   35\nCONECT    8    9    9    9\nCONECT   10   11   14\nCONECT   11   12   12   36\nCONECT   12   13   15\nCONECT   13   14   14   37\nCONECT   15   16   16   23\nCONECT   16   17   20\nCONECT   17   18   18   38\nCONECT   18   19   39\nCONECT   19   20   40\nCONECT   20   21   21\nCONECT   21   22\nCONECT   22   23   23   41\nENDMDL\nMODEL        8\nHETATM    1  C1  UNL     1      -4.333   0.558   1.506  1.00  0.00           C  \nHETATM    2  C2  UNL     1      -4.466  -0.974   1.599  1.00  0.00           C  \nHETATM    3  C3  UNL     1      -3.527  -1.548   0.531  1.00  0.00           C  \nHETATM    4  C4  UNL     1      -2.457  -0.462   0.353  1.00  0.00           C  \nHETATM    5  C5  UNL     1      -3.281   0.834   0.423  1.00  0.00           C  \nHETATM    6  C6  UNL     1      -1.567  -0.637  -0.919  1.00  0.00           C  \nHETATM    7  C7  UNL     1      -2.307  -0.405  -2.266  1.00  0.00           C  \nHETATM    8  C8  UNL     1      -1.476  -0.910  -3.410  1.00  0.00           C  \nHETATM    9  N1  UNL     1      -0.848  -1.359  -4.272  1.00  0.00           N  \nHETATM   10  N2  UNL     1      -0.392   0.262  -0.821  1.00  0.00           N  \nHETATM   11  C9  UNL     1       0.845  -0.150  -0.360  1.00  0.00           C  \nHETATM   12  C10 UNL     1       1.623   0.983  -0.319  1.00  0.00           C  \nHETATM   13  C11 UNL     1       0.760   2.073  -0.767  1.00  0.00           C  \nHETATM   14  N3  UNL     1      -0.444   1.630  -1.065  1.00  0.00           N  \nHETATM   15  C12 UNL     1       3.014   1.175   0.118  1.00  0.00           C  \nHETATM   16  C13 UNL     1       3.919   0.117   0.268  1.00  0.00           C  \nHETATM   17  C14 UNL     1       3.890  -1.335   0.006  1.00  0.00           C  \nHETATM   18  C15 UNL     1       5.137  -1.824   0.367  1.00  0.00           C  \nHETATM   19  N4  UNL     1       5.903  -0.744   0.815  1.00  0.00           N  \nHETATM   20  C16 UNL     1       5.173   0.417   0.743  1.00  0.00           C  \nHETATM   21  N5  UNL     1       5.540   1.658   1.040  1.00  0.00           N  \nHETATM   22  C17 UNL     1       4.659   2.656   0.857  1.00  0.00           C  \nHETATM   23  N6  UNL     1       3.413   2.425   0.405  1.00  0.00           N  \nHETATM   24  H1  UNL     1      -5.285   1.025   1.249  1.00  0.00           H  \nHETATM   25  H2  UNL     1      -3.997   0.957   2.465  1.00  0.00           H  \nHETATM   26  H3  UNL     1      -4.150  -1.308   2.589  1.00  0.00           H  \nHETATM   27  H4  UNL     1      -5.494  -1.299   1.433  1.00  0.00           H  \nHETATM   28  H5  UNL     1      -3.093  -2.498   0.849  1.00  0.00           H  \nHETATM   29  H6  UNL     1      -4.084  -1.705  -0.392  1.00  0.00           H  \nHETATM   30  H7  UNL     1      -1.807  -0.493   1.231  1.00  0.00           H  \nHETATM   31  H8  UNL     1      -3.785   1.028  -0.524  1.00  0.00           H  \nHETATM   32  H9  UNL     1      -2.662   1.695   0.677  1.00  0.00           H  \nHETATM   33  H10 UNL     1      -1.204  -1.667  -0.917  1.00  0.00           H  \nHETATM   34  H11 UNL     1      -2.511   0.655  -2.415  1.00  0.00           H  \nHETATM   35  H12 UNL     1      -3.259  -0.929  -2.280  1.00  0.00           H  \nHETATM   36  H13 UNL     1       1.118  -1.150  -0.059  1.00  0.00           H  \nHETATM   37  H14 UNL     1       1.068   3.108  -0.845  1.00  0.00           H  \nHETATM   38  H15 UNL     1       3.082  -1.916  -0.415  1.00  0.00           H  \nHETATM   39  H16 UNL     1       5.460  -2.856   0.294  1.00  0.00           H  \nHETATM   40  H17 UNL     1       6.867  -0.756   1.145  1.00  0.00           H  \nHETATM   41  H18 UNL     1       4.957   3.672   1.084  1.00  0.00           H  \nCONECT    1    2    5   24   25\nCONECT    2    3   26   27\nCONECT    3    4   28   29\nCONECT    4    5    6   30\nCONECT    5   31   32\nCONECT    6    7   10   33\nCONECT    7    8   34   35\nCONECT    8    9    9    9\nCONECT   10   11   14\nCONECT   11   12   12   36\nCONECT   12   13   15\nCONECT   13   14   14   37\nCONECT   15   16   16   23\nCONECT   16   17   20\nCONECT   17   18   18   38\nCONECT   18   19   39\nCONECT   19   20   40\nCONECT   20   21   21\nCONECT   21   22\nCONECT   22   23   23   41\nENDMDL\nMODEL        9\nHETATM    1  C1  UNL     1      -4.650  -2.082  -0.512  1.00  0.00           C  \nHETATM    2  C2  UNL     1      -4.610  -0.868   0.409  1.00  0.00           C  \nHETATM    3  C3  UNL     1      -3.127  -0.733   0.755  1.00  0.00           C  \nHETATM    4  C4  UNL     1      -2.352  -1.202  -0.504  1.00  0.00           C  \nHETATM    5  C5  UNL     1      -3.405  -1.923  -1.388  1.00  0.00           C  \nHETATM    6  C6  UNL     1      -1.611  -0.061  -1.279  1.00  0.00           C  \nHETATM    7  C7  UNL     1      -2.499   1.179  -1.587  1.00  0.00           C  \nHETATM    8  C8  UNL     1      -1.829   2.071  -2.591  1.00  0.00           C  \nHETATM    9  N1  UNL     1      -1.333   2.725  -3.406  1.00  0.00           N  \nHETATM   10  N2  UNL     1      -0.394   0.344  -0.531  1.00  0.00           N  \nHETATM   11  C9  UNL     1       0.853  -0.209  -0.753  1.00  0.00           C  \nHETATM   12  C10 UNL     1       1.686   0.347   0.188  1.00  0.00           C  \nHETATM   13  C11 UNL     1       0.842   1.235   0.983  1.00  0.00           C  \nHETATM   14  N3  UNL     1      -0.400   1.224   0.548  1.00  0.00           N  \nHETATM   15  C12 UNL     1       3.115   0.031   0.350  1.00  0.00           C  \nHETATM   16  C13 UNL     1       3.998   0.807   1.111  1.00  0.00           C  \nHETATM   17  C14 UNL     1       3.906   2.074   1.863  1.00  0.00           C  \nHETATM   18  C15 UNL     1       5.167   2.311   2.390  1.00  0.00           C  \nHETATM   19  N4  UNL     1       6.000   1.263   1.986  1.00  0.00           N  \nHETATM   20  C16 UNL     1       5.299   0.373   1.212  1.00  0.00           C  \nHETATM   21  N5  UNL     1       5.728  -0.728   0.607  1.00  0.00           N  \nHETATM   22  C17 UNL     1       4.865  -1.436  -0.139  1.00  0.00           C  \nHETATM   23  N6  UNL     1       3.578  -1.069  -0.271  1.00  0.00           N  \nHETATM   24  H1  UNL     1      -5.565  -2.117  -1.105  1.00  0.00           H  \nHETATM   25  H2  UNL     1      -4.571  -2.995   0.080  1.00  0.00           H  \nHETATM   26  H3  UNL     1      -4.953   0.018  -0.127  1.00  0.00           H  \nHETATM   27  H4  UNL     1      -5.225  -1.010   1.299  1.00  0.00           H  \nHETATM   28  H5  UNL     1      -2.879   0.283   1.061  1.00  0.00           H  \nHETATM   29  H6  UNL     1      -2.889  -1.395   1.589  1.00  0.00           H  \nHETATM   30  H7  UNL     1      -1.610  -1.938  -0.188  1.00  0.00           H  \nHETATM   31  H8  UNL     1      -3.040  -2.894  -1.727  1.00  0.00           H  \nHETATM   32  H9  UNL     1      -3.652  -1.331  -2.269  1.00  0.00           H  \nHETATM   33  H10 UNL     1      -1.287  -0.478  -2.235  1.00  0.00           H  \nHETATM   34  H11 UNL     1      -2.693   1.749  -0.680  1.00  0.00           H  \nHETATM   35  H12 UNL     1      -3.461   0.873  -1.991  1.00  0.00           H  \nHETATM   36  H13 UNL     1       1.130  -0.937  -1.505  1.00  0.00           H  \nHETATM   37  H14 UNL     1       1.167   1.806   1.840  1.00  0.00           H  \nHETATM   38  H15 UNL     1       3.046   2.721   1.973  1.00  0.00           H  \nHETATM   39  H16 UNL     1       5.453   3.166   2.992  1.00  0.00           H  \nHETATM   40  H17 UNL     1       6.989   1.136   2.197  1.00  0.00           H  \nHETATM   41  H18 UNL     1       5.213  -2.329  -0.643  1.00  0.00           H  \nCONECT    1    2    5   24   25\nCONECT    2    3   26   27\nCONECT    3    4   28   29\nCONECT    4    5    6   30\nCONECT    5   31   32\nCONECT    6    7   10   33\nCONECT    7    8   34   35\nCONECT    8    9    9    9\nCONECT   10   11   14\nCONECT   11   12   12   36\nCONECT   12   13   15\nCONECT   13   14   14   37\nCONECT   15   16   16   23\nCONECT   16   17   20\nCONECT   17   18   18   38\nCONECT   18   19   39\nCONECT   19   20   40\nCONECT   20   21   21\nCONECT   21   22\nCONECT   22   23   23   41\nENDMDL\nMODEL       10\nHETATM    1  C1  UNL     1      -3.864   1.940   0.473  1.00  0.00           C  \nHETATM    2  C2  UNL     1      -4.779   1.110  -0.441  1.00  0.00           C  \nHETATM    3  C3  UNL     1      -4.154  -0.286  -0.502  1.00  0.00           C  \nHETATM    4  C4  UNL     1      -2.650  -0.036  -0.316  1.00  0.00           C  \nHETATM    5  C5  UNL     1      -2.632   1.068   0.755  1.00  0.00           C  \nHETATM    6  C6  UNL     1      -1.826  -1.294   0.118  1.00  0.00           C  \nHETATM    7  C7  UNL     1      -1.801  -2.429  -0.939  1.00  0.00           C  \nHETATM    8  C8  UNL     1      -3.074  -3.224  -0.954  1.00  0.00           C  \nHETATM    9  N1  UNL     1      -4.077  -3.798  -0.981  1.00  0.00           N  \nHETATM   10  N2  UNL     1      -0.424  -0.918   0.415  1.00  0.00           N  \nHETATM   11  C9  UNL     1       0.394  -0.177  -0.422  1.00  0.00           C  \nHETATM   12  C10 UNL     1       1.629  -0.158   0.177  1.00  0.00           C  \nHETATM   13  C11 UNL     1       1.474  -0.918   1.415  1.00  0.00           C  \nHETATM   14  N3  UNL     1       0.248  -1.380   1.539  1.00  0.00           N  \nHETATM   15  C12 UNL     1       2.816   0.534  -0.356  1.00  0.00           C  \nHETATM   16  C13 UNL     1       4.114   0.346   0.136  1.00  0.00           C  \nHETATM   17  C14 UNL     1       4.741  -0.506   1.166  1.00  0.00           C  \nHETATM   18  C15 UNL     1       6.096  -0.210   1.154  1.00  0.00           C  \nHETATM   19  N4  UNL     1       6.309   0.759   0.170  1.00  0.00           N  \nHETATM   20  C16 UNL     1       5.123   1.082  -0.441  1.00  0.00           C  \nHETATM   21  N5  UNL     1       4.902   1.930  -1.438  1.00  0.00           N  \nHETATM   22  C17 UNL     1       3.651   2.072  -1.903  1.00  0.00           C  \nHETATM   23  N6  UNL     1       2.620   1.384  -1.380  1.00  0.00           N  \nHETATM   24  H1  UNL     1      -4.370   2.197   1.405  1.00  0.00           H  \nHETATM   25  H2  UNL     1      -3.573   2.863  -0.031  1.00  0.00           H  \nHETATM   26  H3  UNL     1      -5.801   1.072  -0.062  1.00  0.00           H  \nHETATM   27  H4  UNL     1      -4.792   1.550  -1.440  1.00  0.00           H  \nHETATM   28  H5  UNL     1      -4.538  -0.898   0.317  1.00  0.00           H  \nHETATM   29  H6  UNL     1      -4.377  -0.773  -1.452  1.00  0.00           H  \nHETATM   30  H7  UNL     1      -2.251   0.370  -1.247  1.00  0.00           H  \nHETATM   31  H8  UNL     1      -2.720   0.625   1.749  1.00  0.00           H  \nHETATM   32  H9  UNL     1      -1.714   1.655   0.716  1.00  0.00           H  \nHETATM   33  H10 UNL     1      -2.257  -1.687   1.042  1.00  0.00           H  \nHETATM   34  H11 UNL     1      -1.612  -2.019  -1.930  1.00  0.00           H  \nHETATM   35  H12 UNL     1      -0.984  -3.114  -0.711  1.00  0.00           H  \nHETATM   36  H13 UNL     1       0.129   0.299  -1.358  1.00  0.00           H  \nHETATM   37  H14 UNL     1       2.244  -1.078   2.155  1.00  0.00           H  \nHETATM   38  H15 UNL     1       4.268  -1.242   1.802  1.00  0.00           H  \nHETATM   39  H16 UNL     1       6.851  -0.662   1.787  1.00  0.00           H  \nHETATM   40  H17 UNL     1       7.192   1.190  -0.101  1.00  0.00           H  \nHETATM   41  H18 UNL     1       3.468   2.760  -2.719  1.00  0.00           H  \nCONECT    1    2    5   24   25\nCONECT    2    3   26   27\nCONECT    3    4   28   29\nCONECT    4    5    6   30\nCONECT    5   31   32\nCONECT    6    7   10   33\nCONECT    7    8   34   35\nCONECT    8    9    9    9\nCONECT   10   11   14\nCONECT   11   12   12   36\nCONECT   12   13   15\nCONECT   13   14   14   37\nCONECT   15   16   16   23\nCONECT   16   17   20\nCONECT   17   18   18   38\nCONECT   18   19   39\nCONECT   19   20   40\nCONECT   20   21   21\nCONECT   21   22\nCONECT   22   23   23   41\nENDMDL\n",
           "type": "blob"
          }
         ],
         "kwargs": {
          "defaultRepresentation": true,
          "ext": "pdb",
          "name": "<openff.toolkit.utils.viz._OFFTrajectoryNGLView object at 0x7f99831f7fd0>"
         },
         "methodName": "loadFile",
         "reconstruc_color_scheme": false,
         "target": "Stage",
         "type": "call_method"
        }
       ],
       "_ngl_original_stage_parameters": {},
       "_ngl_repr_dict": {},
       "_ngl_serialize": false,
       "_ngl_version": "",
       "_ngl_view_id": [],
       "_player_dict": {},
       "_scene_position": {},
       "_scene_rotation": {},
       "_synced_model_ids": [],
       "_synced_repr_model_ids": [],
       "_view_count": null,
       "_view_height": "",
       "_view_module": "nglview-js-widgets",
       "_view_module_version": "3.0.6",
       "_view_name": "NGLView",
       "_view_width": "",
       "background": "white",
       "frame": 0,
       "gui_style": null,
       "layout": "IPY_MODEL_0f929083ecbd4b86bd45bc0612aa2156",
       "max_frame": 9,
       "n_components": 0,
       "picked": {},
       "tabbable": null,
       "tooltip": null
      }
     },
     "850b5fa4b6aa4cedaf4f873fd59cac7d": {
      "model_module": "@jupyter-widgets/base",
      "model_module_version": "2.0.0",
      "model_name": "LayoutModel",
      "state": {
       "_model_module": "@jupyter-widgets/base",
       "_model_module_version": "2.0.0",
       "_model_name": "LayoutModel",
       "_view_count": null,
       "_view_module": "@jupyter-widgets/base",
       "_view_module_version": "2.0.0",
       "_view_name": "LayoutView",
       "align_content": null,
       "align_items": null,
       "align_self": null,
       "border_bottom": null,
       "border_left": null,
       "border_right": null,
       "border_top": null,
       "bottom": null,
       "display": null,
       "flex": null,
       "flex_flow": null,
       "grid_area": null,
       "grid_auto_columns": null,
       "grid_auto_flow": null,
       "grid_auto_rows": null,
       "grid_column": null,
       "grid_gap": null,
       "grid_row": null,
       "grid_template_areas": null,
       "grid_template_columns": null,
       "grid_template_rows": null,
       "height": null,
       "justify_content": null,
       "justify_items": null,
       "left": null,
       "margin": null,
       "max_height": null,
       "max_width": null,
       "min_height": null,
       "min_width": null,
       "object_fit": null,
       "object_position": null,
       "order": null,
       "overflow": null,
       "padding": null,
       "right": null,
       "top": null,
       "visibility": null,
       "width": null
      }
     },
     "8d25c06954cd4f249c60568d884e2c81": {
      "model_module": "@jupyter-widgets/base",
      "model_module_version": "2.0.0",
      "model_name": "LayoutModel",
      "state": {
       "_model_module": "@jupyter-widgets/base",
       "_model_module_version": "2.0.0",
       "_model_name": "LayoutModel",
       "_view_count": null,
       "_view_module": "@jupyter-widgets/base",
       "_view_module_version": "2.0.0",
       "_view_name": "LayoutView",
       "align_content": null,
       "align_items": null,
       "align_self": null,
       "border_bottom": null,
       "border_left": null,
       "border_right": null,
       "border_top": null,
       "bottom": null,
       "display": null,
       "flex": null,
       "flex_flow": null,
       "grid_area": null,
       "grid_auto_columns": null,
       "grid_auto_flow": null,
       "grid_auto_rows": null,
       "grid_column": null,
       "grid_gap": null,
       "grid_row": null,
       "grid_template_areas": null,
       "grid_template_columns": null,
       "grid_template_rows": null,
       "height": null,
       "justify_content": null,
       "justify_items": null,
       "left": null,
       "margin": null,
       "max_height": null,
       "max_width": null,
       "min_height": null,
       "min_width": null,
       "object_fit": null,
       "object_position": null,
       "order": null,
       "overflow": null,
       "padding": null,
       "right": null,
       "top": null,
       "visibility": null,
       "width": null
      }
     },
     "97296ed218fb48b78175881567cc1749": {
      "model_module": "@jupyter-widgets/controls",
      "model_module_version": "2.0.0",
      "model_name": "DescriptionStyleModel",
      "state": {
       "_model_module": "@jupyter-widgets/controls",
       "_model_module_version": "2.0.0",
       "_model_name": "DescriptionStyleModel",
       "_view_count": null,
       "_view_module": "@jupyter-widgets/base",
       "_view_module_version": "2.0.0",
       "_view_name": "StyleView",
       "description_width": ""
      }
     },
     "a1885c0d877c4a44a18389e9f56b9027": {
      "model_module": "@jupyter-widgets/controls",
      "model_module_version": "2.0.0",
      "model_name": "PlayModel",
      "state": {
       "_dom_classes": [],
       "_model_module": "@jupyter-widgets/controls",
       "_model_module_version": "2.0.0",
       "_model_name": "PlayModel",
       "_view_count": null,
       "_view_module": "@jupyter-widgets/controls",
       "_view_module_version": "2.0.0",
       "_view_name": "PlayView",
       "description": "",
       "description_allow_html": false,
       "disabled": false,
       "interval": 100,
       "layout": "IPY_MODEL_c56bef3d480548f3b8bd0c2763daadfd",
       "max": 9,
       "min": 0,
       "playing": false,
       "repeat": false,
       "show_repeat": true,
       "step": 1,
       "style": "IPY_MODEL_b050f64f0bb84b34a70886459fde38f0",
       "tabbable": null,
       "tooltip": null,
       "value": 0
      }
     },
     "adc9b4a2f5da4b929485136390bdc618": {
      "model_module": "@jupyter-widgets/controls",
      "model_module_version": "2.0.0",
      "model_name": "IntSliderModel",
      "state": {
       "_dom_classes": [],
       "_model_module": "@jupyter-widgets/controls",
       "_model_module_version": "2.0.0",
       "_model_name": "IntSliderModel",
       "_view_count": null,
       "_view_module": "@jupyter-widgets/controls",
       "_view_module_version": "2.0.0",
       "_view_name": "IntSliderView",
       "behavior": "drag-tap",
       "continuous_update": true,
       "description": "",
       "description_allow_html": false,
       "disabled": false,
       "layout": "IPY_MODEL_d14e15e1498746a0b3560ed10d7e646d",
       "max": 9,
       "min": 0,
       "orientation": "horizontal",
       "readout": true,
       "readout_format": "d",
       "step": 1,
       "style": "IPY_MODEL_da0801f401de472d801d450b35039828",
       "tabbable": null,
       "tooltip": null,
       "value": 0
      }
     },
     "b050f64f0bb84b34a70886459fde38f0": {
      "model_module": "@jupyter-widgets/controls",
      "model_module_version": "2.0.0",
      "model_name": "DescriptionStyleModel",
      "state": {
       "_model_module": "@jupyter-widgets/controls",
       "_model_module_version": "2.0.0",
       "_model_name": "DescriptionStyleModel",
       "_view_count": null,
       "_view_module": "@jupyter-widgets/base",
       "_view_module_version": "2.0.0",
       "_view_name": "StyleView",
       "description_width": ""
      }
     },
     "b3b6db9b5e844eaaa1c6159cce0ca103": {
      "model_module": "@jupyter-widgets/base",
      "model_module_version": "2.0.0",
      "model_name": "LayoutModel",
      "state": {
       "_model_module": "@jupyter-widgets/base",
       "_model_module_version": "2.0.0",
       "_model_name": "LayoutModel",
       "_view_count": null,
       "_view_module": "@jupyter-widgets/base",
       "_view_module_version": "2.0.0",
       "_view_name": "LayoutView",
       "align_content": null,
       "align_items": null,
       "align_self": null,
       "border_bottom": null,
       "border_left": null,
       "border_right": null,
       "border_top": null,
       "bottom": null,
       "display": null,
       "flex": null,
       "flex_flow": null,
       "grid_area": null,
       "grid_auto_columns": null,
       "grid_auto_flow": null,
       "grid_auto_rows": null,
       "grid_column": null,
       "grid_gap": null,
       "grid_row": null,
       "grid_template_areas": null,
       "grid_template_columns": null,
       "grid_template_rows": null,
       "height": null,
       "justify_content": null,
       "justify_items": null,
       "left": null,
       "margin": null,
       "max_height": null,
       "max_width": null,
       "min_height": null,
       "min_width": null,
       "object_fit": null,
       "object_position": null,
       "order": null,
       "overflow": null,
       "padding": null,
       "right": null,
       "top": null,
       "visibility": null,
       "width": "34px"
      }
     },
     "b597fddd575045c293d5030c2b2102c6": {
      "model_module": "@jupyter-widgets/base",
      "model_module_version": "2.0.0",
      "model_name": "LayoutModel",
      "state": {
       "_model_module": "@jupyter-widgets/base",
       "_model_module_version": "2.0.0",
       "_model_name": "LayoutModel",
       "_view_count": null,
       "_view_module": "@jupyter-widgets/base",
       "_view_module_version": "2.0.0",
       "_view_name": "LayoutView",
       "align_content": null,
       "align_items": null,
       "align_self": null,
       "border_bottom": null,
       "border_left": null,
       "border_right": null,
       "border_top": null,
       "bottom": null,
       "display": null,
       "flex": null,
       "flex_flow": null,
       "grid_area": null,
       "grid_auto_columns": null,
       "grid_auto_flow": null,
       "grid_auto_rows": null,
       "grid_column": null,
       "grid_gap": null,
       "grid_row": null,
       "grid_template_areas": null,
       "grid_template_columns": null,
       "grid_template_rows": null,
       "height": null,
       "justify_content": null,
       "justify_items": null,
       "left": null,
       "margin": null,
       "max_height": null,
       "max_width": null,
       "min_height": null,
       "min_width": null,
       "object_fit": null,
       "object_position": null,
       "order": null,
       "overflow": null,
       "padding": null,
       "right": null,
       "top": null,
       "visibility": null,
       "width": "34px"
      }
     },
     "bf61a149008846bf9b08a1bf4fb3aef9": {
      "model_module": "@jupyter-widgets/controls",
      "model_module_version": "2.0.0",
      "model_name": "IntSliderModel",
      "state": {
       "_dom_classes": [],
       "_model_module": "@jupyter-widgets/controls",
       "_model_module_version": "2.0.0",
       "_model_name": "IntSliderModel",
       "_view_count": null,
       "_view_module": "@jupyter-widgets/controls",
       "_view_module_version": "2.0.0",
       "_view_name": "IntSliderView",
       "behavior": "drag-tap",
       "continuous_update": true,
       "description": "",
       "description_allow_html": false,
       "disabled": false,
       "layout": "IPY_MODEL_06e2cc589e76485cbbe8901372449880",
       "max": 9,
       "min": 0,
       "orientation": "horizontal",
       "readout": true,
       "readout_format": "d",
       "step": 1,
       "style": "IPY_MODEL_ed7dca631d784cbb8f98bc1943903e2d",
       "tabbable": null,
       "tooltip": null,
       "value": 0
      }
     },
     "c19d0893cc2f4fa89429190417ccb3ec": {
      "model_module": "@jupyter-widgets/base",
      "model_module_version": "2.0.0",
      "model_name": "LayoutModel",
      "state": {
       "_model_module": "@jupyter-widgets/base",
       "_model_module_version": "2.0.0",
       "_model_name": "LayoutModel",
       "_view_count": null,
       "_view_module": "@jupyter-widgets/base",
       "_view_module_version": "2.0.0",
       "_view_name": "LayoutView",
       "align_content": null,
       "align_items": null,
       "align_self": null,
       "border_bottom": null,
       "border_left": null,
       "border_right": null,
       "border_top": null,
       "bottom": null,
       "display": null,
       "flex": null,
       "flex_flow": null,
       "grid_area": null,
       "grid_auto_columns": null,
       "grid_auto_flow": null,
       "grid_auto_rows": null,
       "grid_column": null,
       "grid_gap": null,
       "grid_row": null,
       "grid_template_areas": null,
       "grid_template_columns": null,
       "grid_template_rows": null,
       "height": null,
       "justify_content": null,
       "justify_items": null,
       "left": null,
       "margin": null,
       "max_height": null,
       "max_width": null,
       "min_height": null,
       "min_width": null,
       "object_fit": null,
       "object_position": null,
       "order": null,
       "overflow": null,
       "padding": null,
       "right": null,
       "top": null,
       "visibility": null,
       "width": null
      }
     },
     "c56bef3d480548f3b8bd0c2763daadfd": {
      "model_module": "@jupyter-widgets/base",
      "model_module_version": "2.0.0",
      "model_name": "LayoutModel",
      "state": {
       "_model_module": "@jupyter-widgets/base",
       "_model_module_version": "2.0.0",
       "_model_name": "LayoutModel",
       "_view_count": null,
       "_view_module": "@jupyter-widgets/base",
       "_view_module_version": "2.0.0",
       "_view_name": "LayoutView",
       "align_content": null,
       "align_items": null,
       "align_self": null,
       "border_bottom": null,
       "border_left": null,
       "border_right": null,
       "border_top": null,
       "bottom": null,
       "display": null,
       "flex": null,
       "flex_flow": null,
       "grid_area": null,
       "grid_auto_columns": null,
       "grid_auto_flow": null,
       "grid_auto_rows": null,
       "grid_column": null,
       "grid_gap": null,
       "grid_row": null,
       "grid_template_areas": null,
       "grid_template_columns": null,
       "grid_template_rows": null,
       "height": null,
       "justify_content": null,
       "justify_items": null,
       "left": null,
       "margin": null,
       "max_height": null,
       "max_width": null,
       "min_height": null,
       "min_width": null,
       "object_fit": null,
       "object_position": null,
       "order": null,
       "overflow": null,
       "padding": null,
       "right": null,
       "top": null,
       "visibility": null,
       "width": null
      }
     },
     "cf725d331a4849bfa6facbfc56f3ae1e": {
      "model_module": "@jupyter-widgets/controls",
      "model_module_version": "2.0.0",
      "model_name": "ButtonModel",
      "state": {
       "_dom_classes": [],
       "_model_module": "@jupyter-widgets/controls",
       "_model_module_version": "2.0.0",
       "_model_name": "ButtonModel",
       "_view_count": null,
       "_view_module": "@jupyter-widgets/controls",
       "_view_module_version": "2.0.0",
       "_view_name": "ButtonView",
       "button_style": "",
       "description": "",
       "disabled": false,
       "icon": "compress",
       "layout": "IPY_MODEL_b597fddd575045c293d5030c2b2102c6",
       "style": "IPY_MODEL_2412aca3c7554b1caa4948466c9dd062",
       "tabbable": null,
       "tooltip": null
      }
     },
     "d14e15e1498746a0b3560ed10d7e646d": {
      "model_module": "@jupyter-widgets/base",
      "model_module_version": "2.0.0",
      "model_name": "LayoutModel",
      "state": {
       "_model_module": "@jupyter-widgets/base",
       "_model_module_version": "2.0.0",
       "_model_name": "LayoutModel",
       "_view_count": null,
       "_view_module": "@jupyter-widgets/base",
       "_view_module_version": "2.0.0",
       "_view_name": "LayoutView",
       "align_content": null,
       "align_items": null,
       "align_self": null,
       "border_bottom": null,
       "border_left": null,
       "border_right": null,
       "border_top": null,
       "bottom": null,
       "display": null,
       "flex": null,
       "flex_flow": null,
       "grid_area": null,
       "grid_auto_columns": null,
       "grid_auto_flow": null,
       "grid_auto_rows": null,
       "grid_column": null,
       "grid_gap": null,
       "grid_row": null,
       "grid_template_areas": null,
       "grid_template_columns": null,
       "grid_template_rows": null,
       "height": null,
       "justify_content": null,
       "justify_items": null,
       "left": null,
       "margin": null,
       "max_height": null,
       "max_width": null,
       "min_height": null,
       "min_width": null,
       "object_fit": null,
       "object_position": null,
       "order": null,
       "overflow": null,
       "padding": null,
       "right": null,
       "top": null,
       "visibility": null,
       "width": null
      }
     },
     "d67c14895869483789ad0516991f00e9": {
      "model_module": "@jupyter-widgets/controls",
      "model_module_version": "2.0.0",
      "model_name": "LinkModel",
      "state": {
       "_model_module": "@jupyter-widgets/controls",
       "_model_module_version": "2.0.0",
       "_model_name": "LinkModel",
       "_view_count": null,
       "_view_module": "@jupyter-widgets/controls",
       "_view_module_version": "2.0.0",
       "_view_name": null,
       "source": [
        "IPY_MODEL_bf61a149008846bf9b08a1bf4fb3aef9",
        "max"
       ],
       "target": [
        "IPY_MODEL_738779abd1074cc3a820b83f0398ddca",
        "max_frame"
       ]
      }
     },
     "da0801f401de472d801d450b35039828": {
      "model_module": "@jupyter-widgets/controls",
      "model_module_version": "2.0.0",
      "model_name": "SliderStyleModel",
      "state": {
       "_model_module": "@jupyter-widgets/controls",
       "_model_module_version": "2.0.0",
       "_model_name": "SliderStyleModel",
       "_view_count": null,
       "_view_module": "@jupyter-widgets/base",
       "_view_module_version": "2.0.0",
       "_view_name": "StyleView",
       "description_width": "",
       "handle_color": null
      }
     },
     "db9d42c8c441487fa317bcdfce7f5f6e": {
      "model_module": "@jupyter-widgets/controls",
      "model_module_version": "2.0.0",
      "model_name": "LinkModel",
      "state": {
       "_model_module": "@jupyter-widgets/controls",
       "_model_module_version": "2.0.0",
       "_model_name": "LinkModel",
       "_view_count": null,
       "_view_module": "@jupyter-widgets/controls",
       "_view_module_version": "2.0.0",
       "_view_name": null,
       "source": [
        "IPY_MODEL_a1885c0d877c4a44a18389e9f56b9027",
        "value"
       ],
       "target": [
        "IPY_MODEL_3337fb5d5dfe46e48546da61b083a4ff",
        "frame"
       ]
      }
     },
     "e74468c891404fe9bf5f608192a95663": {
      "model_module": "@jupyter-widgets/controls",
      "model_module_version": "2.0.0",
      "model_name": "LinkModel",
      "state": {
       "_model_module": "@jupyter-widgets/controls",
       "_model_module_version": "2.0.0",
       "_model_name": "LinkModel",
       "_view_count": null,
       "_view_module": "@jupyter-widgets/controls",
       "_view_module_version": "2.0.0",
       "_view_name": null,
       "source": [
        "IPY_MODEL_09fc78ce18464445be493dab3c6ec380",
        "value"
       ],
       "target": [
        "IPY_MODEL_738779abd1074cc3a820b83f0398ddca",
        "frame"
       ]
      }
     },
     "ed7dca631d784cbb8f98bc1943903e2d": {
      "model_module": "@jupyter-widgets/controls",
      "model_module_version": "2.0.0",
      "model_name": "SliderStyleModel",
      "state": {
       "_model_module": "@jupyter-widgets/controls",
       "_model_module_version": "2.0.0",
       "_model_name": "SliderStyleModel",
       "_view_count": null,
       "_view_module": "@jupyter-widgets/base",
       "_view_module_version": "2.0.0",
       "_view_name": "StyleView",
       "description_width": "",
       "handle_color": null
      }
     },
     "efef5cd8fba24baeb486994fdbe01aed": {
      "model_module": "@jupyter-widgets/controls",
      "model_module_version": "2.0.0",
      "model_name": "ButtonStyleModel",
      "state": {
       "_model_module": "@jupyter-widgets/controls",
       "_model_module_version": "2.0.0",
       "_model_name": "ButtonStyleModel",
       "_view_count": null,
       "_view_module": "@jupyter-widgets/base",
       "_view_module_version": "2.0.0",
       "_view_name": "StyleView",
       "button_color": null,
       "font_family": null,
       "font_size": null,
       "font_style": null,
       "font_variant": null,
       "font_weight": null,
       "text_color": null,
       "text_decoration": null
      }
     },
     "f7c637fd73c34028a0201129481d0eb4": {
      "buffers": [
       {
        "data": "",
        "encoding": "base64",
        "path": [
         "value"
        ]
       }
      ],
      "model_module": "@jupyter-widgets/controls",
      "model_module_version": "2.0.0",
      "model_name": "ImageModel",
      "state": {
       "_dom_classes": [],
       "_model_module": "@jupyter-widgets/controls",
       "_model_module_version": "2.0.0",
       "_model_name": "ImageModel",
       "_view_count": null,
       "_view_module": "@jupyter-widgets/controls",
       "_view_module_version": "2.0.0",
       "_view_name": "ImageView",
       "format": "png",
       "height": "",
       "layout": "IPY_MODEL_0020ec15317d46ba881c8129d15be1a7",
       "tabbable": null,
       "tooltip": null,
       "width": "900.0"
      }
     },
     "fcf89ca504f14cec8be0dd7fa4ed9ddc": {
      "buffers": [
       {
        "data": "",
        "encoding": "base64",
        "path": [
         "value"
        ]
       }
      ],
      "model_module": "@jupyter-widgets/controls",
      "model_module_version": "2.0.0",
      "model_name": "ImageModel",
      "state": {
       "_dom_classes": [],
       "_model_module": "@jupyter-widgets/controls",
       "_model_module_version": "2.0.0",
       "_model_name": "ImageModel",
       "_view_count": null,
       "_view_module": "@jupyter-widgets/controls",
       "_view_module_version": "2.0.0",
       "_view_name": "ImageView",
       "format": "png",
       "height": "",
       "layout": "IPY_MODEL_c19d0893cc2f4fa89429190417ccb3ec",
       "tabbable": null,
       "tooltip": null,
       "width": "900.0"
      }
     },
     "ff008ccf0c9c448db56444216fc5b627": {
      "model_module": "@jupyter-widgets/base",
      "model_module_version": "2.0.0",
      "model_name": "LayoutModel",
      "state": {
       "_model_module": "@jupyter-widgets/base",
       "_model_module_version": "2.0.0",
       "_model_name": "LayoutModel",
       "_view_count": null,
       "_view_module": "@jupyter-widgets/base",
       "_view_module_version": "2.0.0",
       "_view_name": "LayoutView",
       "align_content": null,
       "align_items": null,
       "align_self": null,
       "border_bottom": null,
       "border_left": null,
       "border_right": null,
       "border_top": null,
       "bottom": null,
       "display": null,
       "flex": null,
       "flex_flow": null,
       "grid_area": null,
       "grid_auto_columns": null,
       "grid_auto_flow": null,
       "grid_auto_rows": null,
       "grid_column": null,
       "grid_gap": null,
       "grid_row": null,
       "grid_template_areas": null,
       "grid_template_columns": null,
       "grid_template_rows": null,
       "height": null,
       "justify_content": null,
       "justify_items": null,
       "left": null,
       "margin": null,
       "max_height": null,
       "max_width": null,
       "min_height": null,
       "min_width": null,
       "object_fit": null,
       "object_position": null,
       "order": null,
       "overflow": null,
       "padding": null,
       "right": null,
       "top": null,
       "visibility": null,
       "width": null
      }
     }
    },
    "version_major": 2,
    "version_minor": 0
   }
  }
 },
 "nbformat": 4,
 "nbformat_minor": 4
}
