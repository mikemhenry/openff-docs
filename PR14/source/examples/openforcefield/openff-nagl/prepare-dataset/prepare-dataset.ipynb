{
 "cells": [
  {
   "cell_type": "markdown",
   "id": "ab93793c",
   "metadata": {
    "tags": []
   },
   "source": [
    "# Prepare a dataset for training\n",
    "\n",
    "<br />\n",
    "<details style=\"border: 1px solid #cfcfcf; border-radius: 2px; background: #f7f7f7;padding:2px;\">\n",
    "<summary><small>▼ Dependency installation instructions</small></summary>\n",
    "Install example dependencies into a new Conda environment using the provided environment.yaml:\n",
    "\n",
    "```shell\n",
    "mamba env create --file ../../devtools/conda-envs/examples_env.yaml --name openff-nagl-examples\n",
    "mamba activate openff-nagl-examples\n",
    "jupyter notebook prepare-dataset.ipynb\n",
    "```\n",
    "</details>\n",
    "\n",
    "Training a GCN requires a collection of examples that the GCN should reproduce and interpolate between. This notebook describes how to prepare such a dataset for predicting partial charges."
   ]
  },
  {
   "cell_type": "markdown",
   "id": "9488da95",
   "metadata": {},
   "source": [
    "## Imports"
   ]
  },
  {
   "cell_type": "code",
   "execution_count": 1,
   "id": "f5f27dae",
   "metadata": {
    "execution": {
     "iopub.execute_input": "2023-07-05T09:55:47.156404Z",
     "iopub.status.busy": "2023-07-05T09:55:47.152752Z",
     "iopub.status.idle": "2023-07-05T09:55:53.101867Z",
     "shell.execute_reply": "2023-07-05T09:55:53.098998Z"
    }
   },
   "outputs": [],
   "source": [
    "from pathlib import Path\n",
    "\n",
    "from tqdm import tqdm\n",
    "\n",
    "from openff.toolkit.topology import Molecule\n",
    "\n",
    "from openff.nagl.storage.record import MoleculeRecord\n",
    "from openff.nagl.storage import MoleculeStore"
   ]
  },
  {
   "cell_type": "markdown",
   "id": "84aca730",
   "metadata": {},
   "source": [
    "## Choosing our molecules"
   ]
  },
  {
   "cell_type": "markdown",
   "id": "45833757",
   "metadata": {},
   "source": [
    "The simplest way to specify the molecules in our dataset is with SMILES, though [anything you can load](https://docs.openforcefield.org/projects/toolkit/en/stable/users/molecule_cookbook.html) into an OpenFF [`Molecule`] is fair game. For instance, with the [`Molecule.from_file()`] method you could load partial charges from SDF files. But for this example, we'll have NAGL generate our charges, so we can just provide the SMILES themselves:\n",
    "\n",
    "[`Molecule`]: https://docs.openforcefield.org/projects/toolkit/en/stable/api/generated/openff.toolkit.topology.Molecule.html\n",
    "[`Molecule.from_file()`]: https://docs.openforcefield.org/projects/toolkit/en/stable/api/generated/openff.toolkit.topology.Molecule.html#openff.toolkit.topology.Molecule.from_file"
   ]
  },
  {
   "cell_type": "code",
   "execution_count": 2,
   "id": "aecc3e2d",
   "metadata": {
    "execution": {
     "iopub.execute_input": "2023-07-05T09:55:53.107631Z",
     "iopub.status.busy": "2023-07-05T09:55:53.106729Z",
     "iopub.status.idle": "2023-07-05T09:55:53.119396Z",
     "shell.execute_reply": "2023-07-05T09:55:53.118513Z"
    }
   },
   "outputs": [
    {
     "data": {
      "text/plain": [
       "['C',\n",
       " 'CC',\n",
       " 'CCC',\n",
       " 'CCCC',\n",
       " 'CC(C)C',\n",
       " 'CCCCC',\n",
       " 'CC(C)CC',\n",
       " 'CCCCCC',\n",
       " 'CC(C)CCC',\n",
       " 'CC(CC)CC']"
      ]
     },
     "execution_count": 2,
     "metadata": {},
     "output_type": "execute_result"
    }
   ],
   "source": [
    "alkanes_smiles = Path(\"alkanes.smi\").read_text().splitlines()\n",
    "alkanes_smiles"
   ]
  },
  {
   "cell_type": "markdown",
   "id": "62b074d8",
   "metadata": {},
   "source": [
    "## Generating charges"
   ]
  },
  {
   "cell_type": "markdown",
   "id": "e32cbc2a",
   "metadata": {},
   "source": [
    "NAGL can generate AM1-BCC and AM1-Mulliken charges automatically with the OpenFF Toolkit. If you'd like a dataset of other charges, load them into the [`Molecule.partial_charges`] attribute and use the [`MoleculeRecord.from_precomputed_openff()`] method.\n",
    "\n",
    "[`MoleculeRecord.from_precomputed_openff()`]: https://docs.openforcefield.org/projects/nagl/en/stable/api/generated/openff.nagl.storage.record.html#openff.nagl.storage.record.MoleculeRecord.from_precomputed_openff\n",
    "[`Molecule.partial_charges`]: https://docs.openforcefield.org/projects/toolkit/en/stable/api/generated/openff.toolkit.topology.Molecule.html#openff.toolkit.topology.Molecule.partial_charges"
   ]
  },
  {
   "cell_type": "code",
   "execution_count": 3,
   "id": "6c4b9242",
   "metadata": {
    "execution": {
     "iopub.execute_input": "2023-07-05T09:55:53.123718Z",
     "iopub.status.busy": "2023-07-05T09:55:53.123455Z",
     "iopub.status.idle": "2023-07-05T09:56:29.693033Z",
     "shell.execute_reply": "2023-07-05T09:56:29.692003Z"
    }
   },
   "outputs": [
    {
     "name": "stderr",
     "output_type": "stream",
     "text": [
      "\r",
      "Labeling molecules:   0%|          | 0/10 [00:00<?, ?it/s]"
     ]
    },
    {
     "name": "stderr",
     "output_type": "stream",
     "text": [
      "\r",
      "Labeling molecules:  10%|█         | 1/10 [00:00<00:05,  1.76it/s]"
     ]
    },
    {
     "name": "stderr",
     "output_type": "stream",
     "text": [
      "\r",
      "Labeling molecules:  20%|██        | 2/10 [00:01<00:03,  2.02it/s]"
     ]
    },
    {
     "name": "stderr",
     "output_type": "stream",
     "text": [
      "\r",
      "Labeling molecules:  30%|███       | 3/10 [00:02<00:06,  1.15it/s]"
     ]
    },
    {
     "name": "stderr",
     "output_type": "stream",
     "text": [
      "\r",
      "Labeling molecules:  40%|████      | 4/10 [00:04<00:08,  1.39s/it]"
     ]
    },
    {
     "name": "stderr",
     "output_type": "stream",
     "text": [
      "\r",
      "Labeling molecules:  50%|█████     | 5/10 [00:06<00:07,  1.56s/it]"
     ]
    },
    {
     "name": "stderr",
     "output_type": "stream",
     "text": [
      "\r",
      "Labeling molecules:  60%|██████    | 6/10 [00:10<00:09,  2.40s/it]"
     ]
    },
    {
     "name": "stderr",
     "output_type": "stream",
     "text": [
      "\r",
      "Labeling molecules:  70%|███████   | 7/10 [00:16<00:10,  3.48s/it]"
     ]
    },
    {
     "name": "stderr",
     "output_type": "stream",
     "text": [
      "\r",
      "Labeling molecules:  80%|████████  | 8/10 [00:22<00:08,  4.32s/it]"
     ]
    },
    {
     "name": "stderr",
     "output_type": "stream",
     "text": [
      "\r",
      "Labeling molecules:  90%|█████████ | 9/10 [00:29<00:05,  5.26s/it]"
     ]
    },
    {
     "name": "stderr",
     "output_type": "stream",
     "text": [
      "\r",
      "Labeling molecules: 100%|██████████| 10/10 [00:36<00:00,  5.79s/it]"
     ]
    },
    {
     "name": "stderr",
     "output_type": "stream",
     "text": [
      "\r",
      "Labeling molecules: 100%|██████████| 10/10 [00:36<00:00,  3.66s/it]"
     ]
    },
    {
     "name": "stderr",
     "output_type": "stream",
     "text": [
      "\n"
     ]
    }
   ],
   "source": [
    "records = [\n",
    "    MoleculeRecord.from_openff(\n",
    "        Molecule.from_smiles(smiles, allow_undefined_stereo=True),\n",
    "        partial_charge_methods=[\"am1bcc\", \"am1\"],\n",
    "        generate_conformers=True,\n",
    "        n_conformer_pool=500, # Start with 500 conformers...\n",
    "        n_conformers=10, # ... and prune all but 10 (ELF10)\n",
    "        rms_cutoff=0.05, # Conformers in the initial pool must be at least this different\n",
    "    ) \n",
    "    for smiles in tqdm(alkanes_smiles, desc=\"Labeling molecules\")\n",
    "]"
   ]
  },
  {
   "cell_type": "markdown",
   "id": "16e9f720",
   "metadata": {},
   "source": [
    "## Storing the dataset"
   ]
  },
  {
   "cell_type": "markdown",
   "id": "4aae2589",
   "metadata": {},
   "source": [
    "Finally, we'll save all the molecule records to a SQLite database file, which NAGL can use directly as a dataset via [`DGLMoleculeLightningDataModule`]:\n",
    "\n",
    "[`DGLMoleculeLightningDataModule`]: https://docs.openforcefield.org/projects/nagl/en/stable/api/generated/openff.nagl.nn.dataset.html#openff.nagl.nn.dataset.DGLMoleculeLightningDataModule"
   ]
  },
  {
   "cell_type": "code",
   "execution_count": 4,
   "id": "bd9347cd",
   "metadata": {
    "execution": {
     "iopub.execute_input": "2023-07-05T09:56:29.697628Z",
     "iopub.status.busy": "2023-07-05T09:56:29.697171Z",
     "iopub.status.idle": "2023-07-05T09:56:30.110398Z",
     "shell.execute_reply": "2023-07-05T09:56:30.109458Z"
    }
   },
   "outputs": [
    {
     "name": "stderr",
     "output_type": "stream",
     "text": [
      "\r",
      "grouping records to store by InChI key:   0%|          | 0/10 [00:00<?, ?it/s]"
     ]
    },
    {
     "name": "stderr",
     "output_type": "stream",
     "text": [
      "\r",
      "grouping records to store by InChI key:  90%|█████████ | 9/10 [00:00<00:00, 85.31it/s]"
     ]
    },
    {
     "name": "stderr",
     "output_type": "stream",
     "text": [
      "\r",
      "grouping records to store by InChI key: 100%|██████████| 10/10 [00:00<00:00, 86.52it/s]"
     ]
    },
    {
     "name": "stderr",
     "output_type": "stream",
     "text": [
      "\n"
     ]
    },
    {
     "name": "stderr",
     "output_type": "stream",
     "text": [
      "\r",
      "storing grouped records:   0%|          | 0/10 [00:00<?, ?it/s]"
     ]
    },
    {
     "name": "stderr",
     "output_type": "stream",
     "text": [
      "\r",
      "storing grouped records:  90%|█████████ | 9/10 [00:00<00:00, 81.18it/s]"
     ]
    },
    {
     "name": "stderr",
     "output_type": "stream",
     "text": [
      "\r",
      "storing grouped records: 100%|██████████| 10/10 [00:00<00:00, 80.55it/s]"
     ]
    },
    {
     "name": "stderr",
     "output_type": "stream",
     "text": [
      "\n"
     ]
    }
   ],
   "source": [
    "output_store_file = Path(\"alkanes.sqlite\")\n",
    "if output_store_file.exists():\n",
    "    output_store_file.unlink()\n",
    "\n",
    "store = MoleculeStore(output_store_file)\n",
    "store.store(records)"
   ]
  },
  {
   "cell_type": "code",
   "execution_count": null,
   "id": "9967c526",
   "metadata": {},
   "outputs": [],
   "source": []
  }
 ],
 "metadata": {
  "kernelspec": {
   "display_name": "Python 3 (ipykernel)",
   "language": "python",
   "name": "python3"
  },
  "language_info": {
   "codemirror_mode": {
    "name": "ipython",
    "version": 3
   },
   "file_extension": ".py",
   "mimetype": "text/x-python",
   "name": "python",
   "nbconvert_exporter": "python",
   "pygments_lexer": "ipython3",
   "version": "3.10.12"
  },
  "src_repo_tag": "v0.2.2"
 },
 "nbformat": 4,
 "nbformat_minor": 5
}
