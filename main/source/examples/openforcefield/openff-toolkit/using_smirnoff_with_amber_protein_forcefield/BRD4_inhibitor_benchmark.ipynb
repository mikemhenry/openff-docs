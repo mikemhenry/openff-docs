{
 "cells": [
  {
   "cell_type": "markdown",
   "metadata": {
    "tags": []
   },
   "source": [
    "## Mixing Sage and Amber force fields: BRD4 benchmark\n",
    "\n",
    "This example applies SMIRNOFF-format parameters to BRD4 inhibitors from the [living review on binding free energy benchmark systems](https://www.annualreviews.org/doi/abs/10.1146/annurev-biophys-070816-033654) by Mobley and Gilson. The BRD4 system comes from the [accompanying GitHub repository](https://github.com/MobleyLab/benchmarksets/tree/master/input_files/BRD4)."
   ]
  },
  {
   "cell_type": "code",
   "execution_count": 1,
   "metadata": {
    "execution": {
     "iopub.execute_input": "2023-07-07T00:17:32.325326Z",
     "iopub.status.busy": "2023-07-07T00:17:32.324136Z",
     "iopub.status.idle": "2023-07-07T00:17:32.568902Z",
     "shell.execute_reply": "2023-07-07T00:17:32.568319Z"
    }
   },
   "outputs": [],
   "source": [
    "# Retrieve protein and ligand files for BRD4 and a docked inhibitor from the benchmark systems GitHub repository\n",
    "# https://github.com/MobleyLab/benchmarksets\n",
    "import requests\n",
    "\n",
    "repo_url = (\n",
    "    \"https://raw.githubusercontent.com/MobleyLab/benchmarksets/master/input_files/\"\n",
    ")\n",
    "sources = {\n",
    "    \"receptor.pdb\": repo_url + \"BRD4/pdb/BRD4.pdb\",\n",
    "    \"ligand.pdb\": repo_url + \"BRD4/pdb/ligand-1.pdb\",\n",
    "    \"ligand.sdf\": repo_url + \"BRD4/sdf/ligand-1.sdf\",\n",
    "}\n",
    "for filename, url in sources.items():\n",
    "    r = requests.get(url)\n",
    "    open(filename, \"w\").write(r.text)"
   ]
  },
  {
   "cell_type": "code",
   "execution_count": 2,
   "metadata": {
    "execution": {
     "iopub.execute_input": "2023-07-07T00:17:32.572492Z",
     "iopub.status.busy": "2023-07-07T00:17:32.572043Z",
     "iopub.status.idle": "2023-07-07T00:17:33.052789Z",
     "shell.execute_reply": "2023-07-07T00:17:33.050569Z"
    }
   },
   "outputs": [],
   "source": [
    "from openff.toolkit import ForceField, Molecule"
   ]
  },
  {
   "cell_type": "markdown",
   "metadata": {},
   "source": [
    "Later we will use `Interchange.__add__`, which is an experimental feature. It needs to be turned on by setting the environment variable below, and by doing so we accept [some stability and accuracy risks](https://docs.openforcefield.org/projects/interchange/en/stable/using/experimental.html)."
   ]
  },
  {
   "cell_type": "code",
   "execution_count": 3,
   "metadata": {
    "execution": {
     "iopub.execute_input": "2023-07-07T00:17:33.056621Z",
     "iopub.status.busy": "2023-07-07T00:17:33.055929Z",
     "iopub.status.idle": "2023-07-07T00:17:33.068970Z",
     "shell.execute_reply": "2023-07-07T00:17:33.065603Z"
    }
   },
   "outputs": [
    {
     "name": "stdout",
     "output_type": "stream",
     "text": [
      "env: INTERCHANGE_EXPERIMENTAL=1\n"
     ]
    }
   ],
   "source": [
    "%env INTERCHANGE_EXPERIMENTAL=1"
   ]
  },
  {
   "cell_type": "code",
   "execution_count": 4,
   "metadata": {
    "execution": {
     "iopub.execute_input": "2023-07-07T00:17:33.101871Z",
     "iopub.status.busy": "2023-07-07T00:17:33.101485Z",
     "iopub.status.idle": "2023-07-07T00:18:32.776006Z",
     "shell.execute_reply": "2023-07-07T00:18:32.775392Z"
    },
    "tags": []
   },
   "outputs": [
    {
     "data": {
      "application/vnd.jupyter.widget-view+json": {
       "model_id": "4b7a3a1f4d4047efa00b177701068a64",
       "version_major": 2,
       "version_minor": 0
      },
      "text/plain": []
     },
     "metadata": {},
     "output_type": "display_data"
    },
    {
     "name": "stderr",
     "output_type": "stream",
     "text": [
      "/home/runner/micromamba/envs/openff-docs-examples/lib/python3.10/site-packages/openff/interchange/_experimental.py:35: UserWarning: Interchange object combination is experimental and likely to produce strange results. Any workflow using this method is not guaranteed to be suitable for production. Use with extreme caution and thoroughly validate results!\n",
      "  return func(*args, **kwargs)\n"
     ]
    }
   ],
   "source": [
    "ligand_molecule = Molecule(\"ligand.sdf\")\n",
    "sage = ForceField(\"openff-2.0.0.offxml\")\n",
    "\n",
    "ligand = sage.create_interchange(topology=ligand_molecule.to_topology())\n",
    "\n",
    "receptor_molecule = Molecule.from_polymer_pdb(\"receptor.pdb\")\n",
    "\n",
    "ff14sb = ForceField(\"ff14sb_off_impropers_0.0.3.offxml\")\n",
    "\n",
    "receptor = ff14sb.create_interchange(topology=receptor_molecule.to_topology())\n",
    "\n",
    "complex_system = receptor + ligand\n",
    "\n",
    "# TODO\n",
    "# complex.box = pdbfile box vectors ...\n",
    "# complex.positions = np.vstack([receptor.positions, ligand.positions])"
   ]
  },
  {
   "cell_type": "markdown",
   "metadata": {},
   "source": [
    "### Export to OpenMM"
   ]
  },
  {
   "cell_type": "code",
   "execution_count": 5,
   "metadata": {
    "execution": {
     "iopub.execute_input": "2023-07-07T00:18:32.780020Z",
     "iopub.status.busy": "2023-07-07T00:18:32.779373Z",
     "iopub.status.idle": "2023-07-07T00:18:35.547201Z",
     "shell.execute_reply": "2023-07-07T00:18:35.546645Z"
    }
   },
   "outputs": [
    {
     "data": {
      "text/plain": [
       "<openmm.openmm.System; proxy of <Swig Object of type 'OpenMM::System *' at 0x7f3f56c27d20> >"
      ]
     },
     "execution_count": 5,
     "metadata": {},
     "output_type": "execute_result"
    }
   ],
   "source": [
    "complex_system.to_openmm()"
   ]
  },
  {
   "cell_type": "markdown",
   "metadata": {
    "tags": []
   },
   "source": [
    "### Export to Amber"
   ]
  },
  {
   "cell_type": "code",
   "execution_count": 6,
   "metadata": {
    "execution": {
     "iopub.execute_input": "2023-07-07T00:18:35.550656Z",
     "iopub.status.busy": "2023-07-07T00:18:35.550197Z",
     "iopub.status.idle": "2023-07-07T00:18:35.554423Z",
     "shell.execute_reply": "2023-07-07T00:18:35.553930Z"
    }
   },
   "outputs": [],
   "source": [
    "# TODO: Fix inferring residue information with mixed topology\n",
    "if False:\n",
    "    complex_system.to_inpcrd(\"complex.inpcrd\")\n",
    "    complex_system.to_prmtop(\"complex.prmtop\")"
   ]
  },
  {
   "cell_type": "markdown",
   "metadata": {},
   "source": [
    "### Export to GROMACS"
   ]
  },
  {
   "cell_type": "code",
   "execution_count": 7,
   "metadata": {
    "execution": {
     "iopub.execute_input": "2023-07-07T00:18:35.558369Z",
     "iopub.status.busy": "2023-07-07T00:18:35.557133Z",
     "iopub.status.idle": "2023-07-07T00:19:17.037936Z",
     "shell.execute_reply": "2023-07-07T00:19:17.037282Z"
    }
   },
   "outputs": [
    {
     "name": "stderr",
     "output_type": "stream",
     "text": [
      "/home/runner/micromamba/envs/openff-docs-examples/lib/python3.10/site-packages/openff/interchange/interop/gromacs/export/_export.py:46: UserWarning: WARNING: System defined with no box vectors, which GROMACS does not offically support in versions 2020 or newer (see https://gitlab.com/gromacs/gromacs/-/issues/3526). Setting box vectors to a 5  nm cube.\n",
      "  self._write_gro(gro, decimal)\n"
     ]
    }
   ],
   "source": [
    "complex_system.to_gro(\"complex.gro\")\n",
    "complex_system.to_top(\"complex.top\")"
   ]
  }
 ],
 "metadata": {
  "category": "force_field_interop",
  "kernelspec": {
   "display_name": "Python 3 (ipykernel)",
   "language": "python",
   "name": "python3"
  },
  "language_info": {
   "codemirror_mode": {
    "name": "ipython",
    "version": 3
   },
   "file_extension": ".py",
   "mimetype": "text/x-python",
   "name": "python",
   "nbconvert_exporter": "python",
   "pygments_lexer": "ipython3",
   "version": "3.10.12"
  },
  "src_repo_tag": "0.14.0",
  "widgets": {
   "application/vnd.jupyter.widget-state+json": {
    "state": {
     "4b7a3a1f4d4047efa00b177701068a64": {
      "model_module": "nglview-js-widgets",
      "model_module_version": "3.0.6",
      "model_name": "ColormakerRegistryModel",
      "state": {
       "_dom_classes": [],
       "_model_module": "nglview-js-widgets",
       "_model_module_version": "3.0.6",
       "_model_name": "ColormakerRegistryModel",
       "_msg_ar": [],
       "_msg_q": [],
       "_ready": false,
       "_view_count": null,
       "_view_module": "nglview-js-widgets",
       "_view_module_version": "3.0.6",
       "_view_name": "ColormakerRegistryView",
       "layout": "IPY_MODEL_c3b1b95f28134715bdc5757d42187dc0",
       "tabbable": null,
       "tooltip": null
      }
     },
     "c3b1b95f28134715bdc5757d42187dc0": {
      "model_module": "@jupyter-widgets/base",
      "model_module_version": "2.0.0",
      "model_name": "LayoutModel",
      "state": {
       "_model_module": "@jupyter-widgets/base",
       "_model_module_version": "2.0.0",
       "_model_name": "LayoutModel",
       "_view_count": null,
       "_view_module": "@jupyter-widgets/base",
       "_view_module_version": "2.0.0",
       "_view_name": "LayoutView",
       "align_content": null,
       "align_items": null,
       "align_self": null,
       "border_bottom": null,
       "border_left": null,
       "border_right": null,
       "border_top": null,
       "bottom": null,
       "display": null,
       "flex": null,
       "flex_flow": null,
       "grid_area": null,
       "grid_auto_columns": null,
       "grid_auto_flow": null,
       "grid_auto_rows": null,
       "grid_column": null,
       "grid_gap": null,
       "grid_row": null,
       "grid_template_areas": null,
       "grid_template_columns": null,
       "grid_template_rows": null,
       "height": null,
       "justify_content": null,
       "justify_items": null,
       "left": null,
       "margin": null,
       "max_height": null,
       "max_width": null,
       "min_height": null,
       "min_width": null,
       "object_fit": null,
       "object_position": null,
       "order": null,
       "overflow": null,
       "padding": null,
       "right": null,
       "top": null,
       "visibility": null,
       "width": null
      }
     }
    },
    "version_major": 2,
    "version_minor": 0
   }
  }
 },
 "nbformat": 4,
 "nbformat_minor": 4
}
