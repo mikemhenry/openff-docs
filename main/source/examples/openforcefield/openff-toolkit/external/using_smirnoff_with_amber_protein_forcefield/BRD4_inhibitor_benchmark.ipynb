{
 "cells": [
  {
   "cell_type": "markdown",
   "metadata": {},
   "source": [
    "## Mixing Sage and Amber: BRD4 benchmark with ParmEd\n",
    "\n",
    "This example applies SMIRNOFF-format parameters to BRD4 inhibitors from the [living review on binding free energy benchmark systems](https://www.annualreviews.org/doi/abs/10.1146/annurev-biophys-070816-033654) by Mobley and Gilson. The BRD4 system comes from the [accompanying GitHub repository](https://github.com/MobleyLab/benchmarksets/tree/master/input_files/BRD4).\n",
    "\n",
    "This example uses [ParmEd](http://parmed.github.io) to combine a protein parameterized with Amber with a ligand parameterized with SMIRNOFF. This example is meant to illustrate how to apply parameters to a single ligand, but it's also easy to process many ligands."
   ]
  },
  {
   "cell_type": "code",
   "execution_count": 1,
   "metadata": {
    "execution": {
     "iopub.execute_input": "2023-07-07T00:23:36.759556Z",
     "iopub.status.busy": "2023-07-07T00:23:36.758555Z",
     "iopub.status.idle": "2023-07-07T00:23:36.967177Z",
     "shell.execute_reply": "2023-07-07T00:23:36.966589Z"
    }
   },
   "outputs": [],
   "source": [
    "# Retrieve protein and ligand files for BRD4 and a docked inhibitor from the benchmark systems GitHub repository\n",
    "# https://github.com/MobleyLab/benchmarksets\n",
    "import requests\n",
    "\n",
    "repo_url = (\n",
    "    \"https://raw.githubusercontent.com/MobleyLab/benchmarksets/master/input_files/\"\n",
    ")\n",
    "sources = {\n",
    "    \"receptor.pdb\": repo_url + \"BRD4/pdb/BRD4.pdb\",\n",
    "    \"ligand.pdb\": repo_url + \"BRD4/pdb/ligand-1.pdb\",\n",
    "    \"ligand.sdf\": repo_url + \"BRD4/sdf/ligand-1.sdf\",\n",
    "}\n",
    "for filename, url in sources.items():\n",
    "    r = requests.get(url)\n",
    "    open(filename, \"w\").write(r.text)"
   ]
  },
  {
   "cell_type": "markdown",
   "metadata": {},
   "source": [
    "### Parametrize a molecule with the SMIRNOFF-format \"Sage\" force field\n",
    "\n",
    "First, we parametrize the ligand with the Sage force field."
   ]
  },
  {
   "cell_type": "markdown",
   "metadata": {},
   "source": [
    "We use both a PDB file and an SDF file for the ligand."
   ]
  },
  {
   "cell_type": "code",
   "execution_count": 2,
   "metadata": {
    "execution": {
     "iopub.execute_input": "2023-07-07T00:23:36.971644Z",
     "iopub.status.busy": "2023-07-07T00:23:36.970583Z",
     "iopub.status.idle": "2023-07-07T00:24:13.379770Z",
     "shell.execute_reply": "2023-07-07T00:24:13.379144Z"
    }
   },
   "outputs": [
    {
     "data": {
      "application/vnd.jupyter.widget-view+json": {
       "model_id": "404ebdf4b1c4466ea9f6787c475dcbdb",
       "version_major": 2,
       "version_minor": 0
      },
      "text/plain": []
     },
     "metadata": {},
     "output_type": "display_data"
    }
   ],
   "source": [
    "# Create an OpenFF Molecule object from the ligand SDF fiel\n",
    "from openff.toolkit import ForceField, Molecule\n",
    "\n",
    "ligand_off_molecule = Molecule(\"ligand.sdf\")\n",
    "\n",
    "# Load the SMIRNOFF-format Sage force field\n",
    "force_field = ForceField(\"openff_unconstrained-2.0.0.offxml\")\n",
    "\n",
    "# Parametrize the ligand molecule by creating a Topology object from it\n",
    "ligand_system = force_field.create_openmm_system(ligand_off_molecule.to_topology())"
   ]
  },
  {
   "cell_type": "markdown",
   "metadata": {},
   "source": [
    "and we convert the OpenMM `System` to a ParmEd `Structure` that we'll be able to mix with the protein\n",
    "\n",
    "<div class=\"alert alert-block alert-warning\">\n",
    "  <b>Warning:</b> ParmEd's Structure model is inspired by AMBER. Some information in an OpenMM System are not directly translatable into a Structure. In particular, long-range interaction treatment method (e.g., PME, CutoffPeriodic) and parameters (e.g., cutoff and cutoff switching distance, PME error tolerance) are known to be lost during the conversion.\n",
    "</div>"
   ]
  },
  {
   "cell_type": "code",
   "execution_count": 3,
   "metadata": {
    "execution": {
     "iopub.execute_input": "2023-07-07T00:24:13.384209Z",
     "iopub.status.busy": "2023-07-07T00:24:13.382946Z",
     "iopub.status.idle": "2023-07-07T00:24:13.387467Z",
     "shell.execute_reply": "2023-07-07T00:24:13.386968Z"
    }
   },
   "outputs": [],
   "source": [
    "from openmm import XmlSerializer, app, unit\n",
    "from openmm.app import HBonds, NoCutoff, PDBFile"
   ]
  },
  {
   "cell_type": "code",
   "execution_count": 4,
   "metadata": {
    "execution": {
     "iopub.execute_input": "2023-07-07T00:24:13.391310Z",
     "iopub.status.busy": "2023-07-07T00:24:13.390298Z",
     "iopub.status.idle": "2023-07-07T00:24:13.518763Z",
     "shell.execute_reply": "2023-07-07T00:24:13.518141Z"
    }
   },
   "outputs": [
    {
     "name": "stderr",
     "output_type": "stream",
     "text": [
      "Warning: importing 'simtk.openmm' is deprecated.  Import 'openmm' instead.\n"
     ]
    }
   ],
   "source": [
    "# Read in the coordinates of the ligand from the PDB file\n",
    "ligand_pdbfile = PDBFile(\"ligand.pdb\")\n",
    "\n",
    "# Convert OpenMM System object containing ligand parameters into a ParmEd Structure.\n",
    "import parmed\n",
    "\n",
    "ligand_structure = parmed.openmm.load_topology(\n",
    "    ligand_pdbfile.topology, ligand_system, xyz=ligand_pdbfile.positions\n",
    ")"
   ]
  },
  {
   "cell_type": "markdown",
   "metadata": {},
   "source": [
    "### Create a ParmEd `Structure` of an AMBER-parametrized receptor\n",
    "\n",
    "We have to create a ParmEd `Structure` containing positions and parameters of the receptor (BRD4) that we will then combine with the positions and parameters in the ligand `Structure` we created above. \n",
    "\n",
    "First, we use OpenMM to assign Amber14 parameters using OpenMM, but you can also create a `Structure` [from Amber `prmtop` and `inpcrd` files](http://parmed.github.io/ParmEd/html/structure.html).\n",
    "\n",
    "<div class=\"alert alert-block alert-info\">\n",
    "    <b>Note:</b> If you already have AMBER (prmtop/inpcrd), GROMACS (top/gro), or any other file specifying the protein parameters supported by ParmEd, you can simply load the files directly into a Structure using ParmEd's functionalities. See https://parmed.github.io/ParmEd/html/readwrite.html .\n",
    "</div>"
   ]
  },
  {
   "cell_type": "code",
   "execution_count": 5,
   "metadata": {
    "execution": {
     "iopub.execute_input": "2023-07-07T00:24:13.523445Z",
     "iopub.status.busy": "2023-07-07T00:24:13.522204Z",
     "iopub.status.idle": "2023-07-07T00:24:14.448848Z",
     "shell.execute_reply": "2023-07-07T00:24:14.448193Z"
    }
   },
   "outputs": [],
   "source": [
    "receptor_pdbfile = PDBFile(\"receptor.pdb\")\n",
    "\n",
    "# Load the AMBER protein force field through OpenMM.\n",
    "omm_forcefield = app.ForceField(\"amber14-all.xml\")\n",
    "\n",
    "# Parameterize the protein.\n",
    "receptor_system = omm_forcefield.createSystem(receptor_pdbfile.topology)\n",
    "\n",
    "# Convert the protein System into a ParmEd Structure.\n",
    "receptor_structure = parmed.openmm.load_topology(\n",
    "    receptor_pdbfile.topology, receptor_system, xyz=receptor_pdbfile.positions\n",
    ")"
   ]
  },
  {
   "cell_type": "markdown",
   "metadata": {},
   "source": [
    "### Combine receptor and ligand structures\n",
    "\n",
    "We can then merge the receptor and ligand `Structure` objects into a single `Structure` containing both positions and parameters."
   ]
  },
  {
   "cell_type": "code",
   "execution_count": 6,
   "metadata": {
    "execution": {
     "iopub.execute_input": "2023-07-07T00:24:14.452659Z",
     "iopub.status.busy": "2023-07-07T00:24:14.452185Z",
     "iopub.status.idle": "2023-07-07T00:24:14.583019Z",
     "shell.execute_reply": "2023-07-07T00:24:14.582391Z"
    }
   },
   "outputs": [],
   "source": [
    "complex_structure = receptor_structure + ligand_structure"
   ]
  },
  {
   "cell_type": "markdown",
   "metadata": {},
   "source": [
    "### Export to OpenMM\n",
    "\n",
    "Once we have the `Structure` for the complex, containing both positions and parameters, we can chose to create an OpenMM `System` object that we can simulate using [OpenMM](http://openmm.org):"
   ]
  },
  {
   "cell_type": "code",
   "execution_count": 7,
   "metadata": {
    "execution": {
     "iopub.execute_input": "2023-07-07T00:24:14.586188Z",
     "iopub.status.busy": "2023-07-07T00:24:14.585732Z",
     "iopub.status.idle": "2023-07-07T00:24:14.796338Z",
     "shell.execute_reply": "2023-07-07T00:24:14.795667Z"
    }
   },
   "outputs": [],
   "source": [
    "# Convert the Structure to an OpenMM System in vacuum.\n",
    "complex_system = complex_structure.createSystem(\n",
    "    nonbondedMethod=NoCutoff,\n",
    "    nonbondedCutoff=9.0 * unit.angstrom,\n",
    "    constraints=HBonds,\n",
    "    removeCMMotion=False,\n",
    ")"
   ]
  },
  {
   "cell_type": "code",
   "execution_count": 8,
   "metadata": {
    "execution": {
     "iopub.execute_input": "2023-07-07T00:24:14.799585Z",
     "iopub.status.busy": "2023-07-07T00:24:14.799128Z",
     "iopub.status.idle": "2023-07-07T00:24:15.086536Z",
     "shell.execute_reply": "2023-07-07T00:24:15.085899Z"
    }
   },
   "outputs": [],
   "source": [
    "# Export the System to an OpenMM System XML and PDB file\n",
    "complex_structure.save(\"complex.pdb\", overwrite=True)\n",
    "\n",
    "with open(\"complex.xml\", \"w\") as f:\n",
    "    f.write(XmlSerializer.serialize(complex_system))"
   ]
  },
  {
   "cell_type": "markdown",
   "metadata": {},
   "source": [
    "### Export to Amber\n",
    "\n",
    "We can also export the `Structure` to Amber `prmtop` and `inpcrd` files using [ParmEd](http://parmed.github.io/ParmEd/html/amber.html):"
   ]
  },
  {
   "cell_type": "code",
   "execution_count": 9,
   "metadata": {
    "execution": {
     "iopub.execute_input": "2023-07-07T00:24:15.089729Z",
     "iopub.status.busy": "2023-07-07T00:24:15.089260Z",
     "iopub.status.idle": "2023-07-07T00:24:16.051041Z",
     "shell.execute_reply": "2023-07-07T00:24:16.050423Z"
    }
   },
   "outputs": [],
   "source": [
    "# Export the Structure to AMBER files\n",
    "complex_structure.save(\"complex.prmtop\", overwrite=True)\n",
    "complex_structure.save(\"complex.inpcrd\", overwrite=True)"
   ]
  },
  {
   "cell_type": "markdown",
   "metadata": {},
   "source": [
    "### Export to gromacs\n",
    "\n",
    "We can export the `Structure` to gromacs `gro` and `top` files using [ParmEd](http://parmed.github.io/ParmEd/html/gromacs.html):"
   ]
  },
  {
   "cell_type": "code",
   "execution_count": 10,
   "metadata": {
    "execution": {
     "iopub.execute_input": "2023-07-07T00:24:16.054914Z",
     "iopub.status.busy": "2023-07-07T00:24:16.053792Z",
     "iopub.status.idle": "2023-07-07T00:24:16.983956Z",
     "shell.execute_reply": "2023-07-07T00:24:16.983310Z"
    }
   },
   "outputs": [],
   "source": [
    "# Export the Structure to Gromacs files\n",
    "complex_structure.save(\"complex.gro\", overwrite=True)\n",
    "complex_structure.save(\"complex.top\", overwrite=True)"
   ]
  }
 ],
 "metadata": {
  "category": "force_field_interop",
  "kernelspec": {
   "display_name": "Python 3 (ipykernel)",
   "language": "python",
   "name": "python3"
  },
  "language_info": {
   "codemirror_mode": {
    "name": "ipython",
    "version": 3
   },
   "file_extension": ".py",
   "mimetype": "text/x-python",
   "name": "python",
   "nbconvert_exporter": "python",
   "pygments_lexer": "ipython3",
   "version": "3.10.12"
  },
  "src_repo_tag": "0.14.0",
  "widgets": {
   "application/vnd.jupyter.widget-state+json": {
    "state": {
     "404ebdf4b1c4466ea9f6787c475dcbdb": {
      "model_module": "nglview-js-widgets",
      "model_module_version": "3.0.6",
      "model_name": "ColormakerRegistryModel",
      "state": {
       "_dom_classes": [],
       "_model_module": "nglview-js-widgets",
       "_model_module_version": "3.0.6",
       "_model_name": "ColormakerRegistryModel",
       "_msg_ar": [],
       "_msg_q": [],
       "_ready": false,
       "_view_count": null,
       "_view_module": "nglview-js-widgets",
       "_view_module_version": "3.0.6",
       "_view_name": "ColormakerRegistryView",
       "layout": "IPY_MODEL_9b169be08df54d0882668abfb301c351",
       "tabbable": null,
       "tooltip": null
      }
     },
     "9b169be08df54d0882668abfb301c351": {
      "model_module": "@jupyter-widgets/base",
      "model_module_version": "2.0.0",
      "model_name": "LayoutModel",
      "state": {
       "_model_module": "@jupyter-widgets/base",
       "_model_module_version": "2.0.0",
       "_model_name": "LayoutModel",
       "_view_count": null,
       "_view_module": "@jupyter-widgets/base",
       "_view_module_version": "2.0.0",
       "_view_name": "LayoutView",
       "align_content": null,
       "align_items": null,
       "align_self": null,
       "border_bottom": null,
       "border_left": null,
       "border_right": null,
       "border_top": null,
       "bottom": null,
       "display": null,
       "flex": null,
       "flex_flow": null,
       "grid_area": null,
       "grid_auto_columns": null,
       "grid_auto_flow": null,
       "grid_auto_rows": null,
       "grid_column": null,
       "grid_gap": null,
       "grid_row": null,
       "grid_template_areas": null,
       "grid_template_columns": null,
       "grid_template_rows": null,
       "height": null,
       "justify_content": null,
       "justify_items": null,
       "left": null,
       "margin": null,
       "max_height": null,
       "max_width": null,
       "min_height": null,
       "min_width": null,
       "object_fit": null,
       "object_position": null,
       "order": null,
       "overflow": null,
       "padding": null,
       "right": null,
       "top": null,
       "visibility": null,
       "width": null
      }
     }
    },
    "version_major": 2,
    "version_minor": 0
   }
  }
 },
 "nbformat": 4,
 "nbformat_minor": 4
}
