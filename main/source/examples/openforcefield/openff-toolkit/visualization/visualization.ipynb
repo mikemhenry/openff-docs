{
 "cells": [
  {
   "cell_type": "markdown",
   "metadata": {},
   "source": [
    "# Visualizations in the OpenFF Toolkit"
   ]
  },
  {
   "cell_type": "markdown",
   "metadata": {},
   "source": [
    "Toolkit [`Molecule`] objects provide some facilities for visualization in the Jupyter Notebook. This can be very useful for inspecting molecules and topologies!\n",
    "\n",
    "We have implemented three backends:\n",
    "- rdkit\n",
    "- openeye\n",
    "- nglview (requires conformers)\n",
    "\n",
    "There are two ways to invoke the visualization:\n",
    "- implicitly, by _evaluating_ the object in a cell\n",
    "- explicitly, by calling [`Molecule.visualize()`]\n",
    "\n",
    "[`Molecule.visualize()`]: https://docs.openforcefield.org/projects/toolkit/en/stable/api/generated/openff.toolkit.topology.Molecule.html#openff.toolkit.topology.Molecule.visualize\n",
    "[`Molecule`]: https://docs.openforcefield.org/projects/toolkit/en/stable/api/generated/openff.toolkit.topology.Molecule.html"
   ]
  },
  {
   "cell_type": "markdown",
   "metadata": {},
   "source": [
    "<details><summary>Troubleshooting if NGLView doesn't work</summary>\n",
    "This notebook below demonstrates usage of <code>nglview</code> with <code>openforcefield</code>. This can be tricky to get working. You may need to run an additional command after creating the Conda environment.\n",
    "    \n",
    "To configure for use with Jupyter Notebooks:\n",
    "\n",
    "<pre>\n",
    "    jupyter-nbextension enable nglview --py --sys-prefix\n",
    "</pre>\n",
    "<br />\n",
    "\n",
    "To use with Jupyter Lab, configure with:\n",
    "\n",
    "<pre>\n",
    "    jupyter labextension install  nglview-js-widgets\n",
    "    jupyter-labextension install @jupyter-widgets/jupyterlab-manager\n",
    "</pre>\n",
    "<br />\n",
    "\n",
    "For NGLView ≥ 3.0.0, the above should not be necessary; however, it is not yet compatible with Jupyter Lab ≥ 4.0.0.\n",
    "</details>"
   ]
  },
  {
   "cell_type": "code",
   "execution_count": 1,
   "metadata": {
    "execution": {
     "iopub.execute_input": "2023-07-07T00:21:00.100947Z",
     "iopub.status.busy": "2023-07-07T00:21:00.100733Z",
     "iopub.status.idle": "2023-07-07T00:21:00.797516Z",
     "shell.execute_reply": "2023-07-07T00:21:00.796067Z"
    }
   },
   "outputs": [],
   "source": [
    "from openff.toolkit import Molecule"
   ]
  },
  {
   "cell_type": "markdown",
   "metadata": {},
   "source": [
    "## Implicit visualization\n",
    "\n",
    "_Implicit_ visualization will try to use `nglview` if there are conformers and fall back to `rdkit` and `openeye` (in that order) if they are not available."
   ]
  },
  {
   "cell_type": "code",
   "execution_count": 2,
   "metadata": {
    "execution": {
     "iopub.execute_input": "2023-07-07T00:21:00.801314Z",
     "iopub.status.busy": "2023-07-07T00:21:00.800781Z",
     "iopub.status.idle": "2023-07-07T00:21:00.957898Z",
     "shell.execute_reply": "2023-07-07T00:21:00.957318Z"
    }
   },
   "outputs": [
    {
     "data": {
      "application/vnd.jupyter.widget-view+json": {
       "model_id": "1f5b80de22b1433c9965d5567b133713",
       "version_major": 2,
       "version_minor": 0
      },
      "text/plain": []
     },
     "metadata": {},
     "output_type": "display_data"
    },
    {
     "data": {
      "image/svg+xml": [
       "<svg xmlns=\"http://www.w3.org/2000/svg\" xmlns:rdkit=\"http://www.rdkit.org/xml\" xmlns:xlink=\"http://www.w3.org/1999/xlink\" version=\"1.1\" baseProfile=\"full\" xml:space=\"preserve\" width=\"500px\" height=\"300px\" viewBox=\"0 0 500 300\">\n",
       "<!-- END OF HEADER -->\n",
       "<rect style=\"opacity:1.0;fill:#FFFFFF;stroke:none\" width=\"500.0\" height=\"300.0\" x=\"0.0\" y=\"0.0\"> </rect>\n",
       "<path class=\"bond-0 atom-0 atom-1\" d=\"M 110.8,209.0 L 166.2,177.3\" style=\"fill:none;fill-rule:evenodd;stroke:#000000;stroke-width:2.0px;stroke-linecap:butt;stroke-linejoin:miter;stroke-opacity:1\"/>\n",
       "<path class=\"bond-1 atom-1 atom-2\" d=\"M 166.2,177.3 L 221.1,209.2\" style=\"fill:none;fill-rule:evenodd;stroke:#000000;stroke-width:2.0px;stroke-linecap:butt;stroke-linejoin:miter;stroke-opacity:1\"/>\n",
       "<path class=\"bond-2 atom-2 atom-3\" d=\"M 221.1,209.2 L 276.2,177.5\" style=\"fill:none;fill-rule:evenodd;stroke:#000000;stroke-width:2.0px;stroke-linecap:butt;stroke-linejoin:miter;stroke-opacity:1\"/>\n",
       "<path class=\"bond-3 atom-3 atom-4\" d=\"M 276.2,177.5 L 276.6,153.9\" style=\"fill:none;fill-rule:evenodd;stroke:#000000;stroke-width:2.0px;stroke-linecap:butt;stroke-linejoin:miter;stroke-opacity:1\"/>\n",
       "<path class=\"bond-3 atom-3 atom-4\" d=\"M 276.6,153.9 L 276.9,130.3\" style=\"fill:none;fill-rule:evenodd;stroke:#FF0000;stroke-width:2.0px;stroke-linecap:butt;stroke-linejoin:miter;stroke-opacity:1\"/>\n",
       "<path class=\"bond-4 atom-4 atom-5\" d=\"M 291.7,105.9 L 312.4,94.3\" style=\"fill:none;fill-rule:evenodd;stroke:#FF0000;stroke-width:2.0px;stroke-linecap:butt;stroke-linejoin:miter;stroke-opacity:1\"/>\n",
       "<path class=\"bond-4 atom-4 atom-5\" d=\"M 312.4,94.3 L 333.2,82.8\" style=\"fill:none;fill-rule:evenodd;stroke:#000000;stroke-width:2.0px;stroke-linecap:butt;stroke-linejoin:miter;stroke-opacity:1\"/>\n",
       "<path class=\"bond-5 atom-5 atom-6\" d=\"M 333.2,82.8 L 389.3,115.4\" style=\"fill:none;fill-rule:evenodd;stroke:#000000;stroke-width:2.0px;stroke-linecap:butt;stroke-linejoin:miter;stroke-opacity:1\"/>\n",
       "<path class=\"bond-6 atom-0 atom-7\" d=\"M 110.8,209.0 L 88.1,169.2\" style=\"fill:none;fill-rule:evenodd;stroke:#000000;stroke-width:2.0px;stroke-linecap:butt;stroke-linejoin:miter;stroke-opacity:1\"/>\n",
       "<path class=\"bond-7 atom-0 atom-8\" d=\"M 110.8,209.0 L 59.7,208.7\" style=\"fill:none;fill-rule:evenodd;stroke:#000000;stroke-width:2.0px;stroke-linecap:butt;stroke-linejoin:miter;stroke-opacity:1\"/>\n",
       "<path class=\"bond-8 atom-0 atom-9\" d=\"M 110.8,209.0 L 110.5,257.1\" style=\"fill:none;fill-rule:evenodd;stroke:#000000;stroke-width:2.0px;stroke-linecap:butt;stroke-linejoin:miter;stroke-opacity:1\"/>\n",
       "<path class=\"bond-9 atom-1 atom-10\" d=\"M 166.2,177.3 L 189.2,137.8\" style=\"fill:none;fill-rule:evenodd;stroke:#000000;stroke-width:2.0px;stroke-linecap:butt;stroke-linejoin:miter;stroke-opacity:1\"/>\n",
       "<path class=\"bond-10 atom-1 atom-11\" d=\"M 166.2,177.3 L 143.5,137.6\" style=\"fill:none;fill-rule:evenodd;stroke:#000000;stroke-width:2.0px;stroke-linecap:butt;stroke-linejoin:miter;stroke-opacity:1\"/>\n",
       "<path class=\"bond-11 atom-2 atom-12\" d=\"M 221.1,209.2 L 198.1,248.8\" style=\"fill:none;fill-rule:evenodd;stroke:#000000;stroke-width:2.0px;stroke-linecap:butt;stroke-linejoin:miter;stroke-opacity:1\"/>\n",
       "<path class=\"bond-12 atom-2 atom-13\" d=\"M 221.1,209.2 L 244.0,248.9\" style=\"fill:none;fill-rule:evenodd;stroke:#000000;stroke-width:2.0px;stroke-linecap:butt;stroke-linejoin:miter;stroke-opacity:1\"/>\n",
       "<path class=\"bond-13 atom-3 atom-14\" d=\"M 276.2,177.5 L 299.1,217.1\" style=\"fill:none;fill-rule:evenodd;stroke:#000000;stroke-width:2.0px;stroke-linecap:butt;stroke-linejoin:miter;stroke-opacity:1\"/>\n",
       "<path class=\"bond-14 atom-3 atom-15\" d=\"M 276.2,177.5 L 326.0,177.7\" style=\"fill:none;fill-rule:evenodd;stroke:#000000;stroke-width:2.0px;stroke-linecap:butt;stroke-linejoin:miter;stroke-opacity:1\"/>\n",
       "<path class=\"bond-15 atom-5 atom-16\" d=\"M 333.2,82.8 L 310.5,42.9\" style=\"fill:none;fill-rule:evenodd;stroke:#000000;stroke-width:2.0px;stroke-linecap:butt;stroke-linejoin:miter;stroke-opacity:1\"/>\n",
       "<path class=\"bond-16 atom-5 atom-17\" d=\"M 333.2,82.8 L 356.2,43.3\" style=\"fill:none;fill-rule:evenodd;stroke:#000000;stroke-width:2.0px;stroke-linecap:butt;stroke-linejoin:miter;stroke-opacity:1\"/>\n",
       "<path class=\"bond-17 atom-6 atom-18\" d=\"M 389.3,115.4 L 412.2,75.8\" style=\"fill:none;fill-rule:evenodd;stroke:#000000;stroke-width:2.0px;stroke-linecap:butt;stroke-linejoin:miter;stroke-opacity:1\"/>\n",
       "<path class=\"bond-18 atom-6 atom-19\" d=\"M 389.3,115.4 L 440.3,115.3\" style=\"fill:none;fill-rule:evenodd;stroke:#000000;stroke-width:2.0px;stroke-linecap:butt;stroke-linejoin:miter;stroke-opacity:1\"/>\n",
       "<path class=\"bond-19 atom-6 atom-20\" d=\"M 389.3,115.4 L 389.6,164.0\" style=\"fill:none;fill-rule:evenodd;stroke:#000000;stroke-width:2.0px;stroke-linecap:butt;stroke-linejoin:miter;stroke-opacity:1\"/>\n",
       "<path class=\"atom-4\" d=\"M 264.7 114.1 Q 264.7 107.6, 267.9 103.9 Q 271.1 100.3, 277.1 100.3 Q 283.1 100.3, 286.3 103.9 Q 289.5 107.6, 289.5 114.1 Q 289.5 120.7, 286.3 124.4 Q 283.0 128.1, 277.1 128.1 Q 271.1 128.1, 267.9 124.4 Q 264.7 120.7, 264.7 114.1 M 277.1 125.1 Q 281.2 125.1, 283.5 122.3 Q 285.7 119.5, 285.7 114.1 Q 285.7 108.8, 283.5 106.1 Q 281.2 103.4, 277.1 103.4 Q 273.0 103.4, 270.7 106.0 Q 268.5 108.7, 268.5 114.1 Q 268.5 119.6, 270.7 122.3 Q 273.0 125.1, 277.1 125.1 \" fill=\"#FF0000\"/>\n",
       "<path class=\"atom-7\" d=\"M 68.5 140.0 L 72.2 140.0 L 72.2 151.5 L 86.1 151.5 L 86.1 140.0 L 89.8 140.0 L 89.8 167.1 L 86.1 167.1 L 86.1 154.6 L 72.2 154.6 L 72.2 167.1 L 68.5 167.1 L 68.5 140.0 \" fill=\"#000000\"/>\n",
       "<path class=\"atom-8\" d=\"M 36.4 195.1 L 40.0 195.1 L 40.0 206.6 L 53.9 206.6 L 53.9 195.1 L 57.6 195.1 L 57.6 222.2 L 53.9 222.2 L 53.9 209.6 L 40.0 209.6 L 40.0 222.2 L 36.4 222.2 L 36.4 195.1 \" fill=\"#000000\"/>\n",
       "<path class=\"atom-9\" d=\"M 99.8 259.2 L 103.5 259.2 L 103.5 270.8 L 117.4 270.8 L 117.4 259.2 L 121.1 259.2 L 121.1 286.4 L 117.4 286.4 L 117.4 273.8 L 103.5 273.8 L 103.5 286.4 L 99.8 286.4 L 99.8 259.2 \" fill=\"#000000\"/>\n",
       "<path class=\"atom-10\" d=\"M 187.7 108.6 L 191.4 108.6 L 191.4 120.2 L 205.3 120.2 L 205.3 108.6 L 208.9 108.6 L 208.9 135.7 L 205.3 135.7 L 205.3 123.2 L 191.4 123.2 L 191.4 135.7 L 187.7 135.7 L 187.7 108.6 \" fill=\"#000000\"/>\n",
       "<path class=\"atom-11\" d=\"M 124.0 108.3 L 127.6 108.3 L 127.6 119.9 L 141.5 119.9 L 141.5 108.3 L 145.2 108.3 L 145.2 135.4 L 141.5 135.4 L 141.5 122.9 L 127.6 122.9 L 127.6 135.4 L 124.0 135.4 L 124.0 108.3 \" fill=\"#000000\"/>\n",
       "<path class=\"atom-12\" d=\"M 178.5 250.9 L 182.1 250.9 L 182.1 262.4 L 196.0 262.4 L 196.0 250.9 L 199.7 250.9 L 199.7 278.0 L 196.0 278.0 L 196.0 265.5 L 182.1 265.5 L 182.1 278.0 L 178.5 278.0 L 178.5 250.9 \" fill=\"#000000\"/>\n",
       "<path class=\"atom-13\" d=\"M 242.4 251.0 L 246.0 251.0 L 246.0 262.5 L 259.9 262.5 L 259.9 251.0 L 263.6 251.0 L 263.6 278.1 L 259.9 278.1 L 259.9 265.6 L 246.0 265.6 L 246.0 278.1 L 242.4 278.1 L 242.4 251.0 \" fill=\"#000000\"/>\n",
       "<path class=\"atom-14\" d=\"M 297.6 219.2 L 301.2 219.2 L 301.2 230.7 L 315.1 230.7 L 315.1 219.2 L 318.8 219.2 L 318.8 246.3 L 315.1 246.3 L 315.1 233.8 L 301.2 233.8 L 301.2 246.3 L 297.6 246.3 L 297.6 219.2 \" fill=\"#000000\"/>\n",
       "<path class=\"atom-15\" d=\"M 328.1 164.2 L 331.8 164.2 L 331.8 175.7 L 345.6 175.7 L 345.6 164.2 L 349.3 164.2 L 349.3 191.3 L 345.6 191.3 L 345.6 178.7 L 331.8 178.7 L 331.8 191.3 L 328.1 191.3 L 328.1 164.2 \" fill=\"#000000\"/>\n",
       "<path class=\"atom-16\" d=\"M 291.0 13.6 L 294.7 13.6 L 294.7 25.2 L 308.6 25.2 L 308.6 13.6 L 312.3 13.6 L 312.3 40.8 L 308.6 40.8 L 308.6 28.2 L 294.7 28.2 L 294.7 40.8 L 291.0 40.8 L 291.0 13.6 \" fill=\"#000000\"/>\n",
       "<path class=\"atom-17\" d=\"M 354.7 14.0 L 358.3 14.0 L 358.3 25.6 L 372.2 25.6 L 372.2 14.0 L 375.9 14.0 L 375.9 41.1 L 372.2 41.1 L 372.2 28.6 L 358.3 28.6 L 358.3 41.1 L 354.7 41.1 L 354.7 14.0 \" fill=\"#000000\"/>\n",
       "<path class=\"atom-18\" d=\"M 410.6 46.6 L 414.3 46.6 L 414.3 58.1 L 428.2 58.1 L 428.2 46.6 L 431.8 46.6 L 431.8 73.7 L 428.2 73.7 L 428.2 61.2 L 414.3 61.2 L 414.3 73.7 L 410.6 73.7 L 410.6 46.6 \" fill=\"#000000\"/>\n",
       "<path class=\"atom-19\" d=\"M 442.4 101.7 L 446.1 101.7 L 446.1 113.2 L 460.0 113.2 L 460.0 101.7 L 463.6 101.7 L 463.6 128.8 L 460.0 128.8 L 460.0 116.3 L 446.1 116.3 L 446.1 128.8 L 442.4 128.8 L 442.4 101.7 \" fill=\"#000000\"/>\n",
       "<path class=\"atom-20\" d=\"M 379.1 166.1 L 382.8 166.1 L 382.8 177.6 L 396.7 177.6 L 396.7 166.1 L 400.3 166.1 L 400.3 193.2 L 396.7 193.2 L 396.7 180.7 L 382.8 180.7 L 382.8 193.2 L 379.1 193.2 L 379.1 166.1 \" fill=\"#000000\"/>\n",
       "</svg>"
      ],
      "text/plain": [
       "<IPython.core.display.SVG object>"
      ]
     },
     "metadata": {},
     "output_type": "display_data"
    }
   ],
   "source": [
    "m = Molecule.from_smiles(\"CCCCOCC\")\n",
    "m"
   ]
  },
  {
   "cell_type": "markdown",
   "metadata": {},
   "source": [
    "The regular `display()` call works on `Molecule` objects too."
   ]
  },
  {
   "cell_type": "code",
   "execution_count": 3,
   "metadata": {
    "execution": {
     "iopub.execute_input": "2023-07-07T00:21:00.962728Z",
     "iopub.status.busy": "2023-07-07T00:21:00.961244Z",
     "iopub.status.idle": "2023-07-07T00:21:00.977689Z",
     "shell.execute_reply": "2023-07-07T00:21:00.977138Z"
    }
   },
   "outputs": [
    {
     "data": {
      "image/svg+xml": [
       "<svg xmlns=\"http://www.w3.org/2000/svg\" xmlns:rdkit=\"http://www.rdkit.org/xml\" xmlns:xlink=\"http://www.w3.org/1999/xlink\" version=\"1.1\" baseProfile=\"full\" xml:space=\"preserve\" width=\"500px\" height=\"300px\" viewBox=\"0 0 500 300\">\n",
       "<!-- END OF HEADER -->\n",
       "<rect style=\"opacity:1.0;fill:#FFFFFF;stroke:none\" width=\"500.0\" height=\"300.0\" x=\"0.0\" y=\"0.0\"> </rect>\n",
       "<path class=\"bond-0 atom-0 atom-1\" d=\"M 110.8,209.0 L 166.2,177.3\" style=\"fill:none;fill-rule:evenodd;stroke:#000000;stroke-width:2.0px;stroke-linecap:butt;stroke-linejoin:miter;stroke-opacity:1\"/>\n",
       "<path class=\"bond-1 atom-1 atom-2\" d=\"M 166.2,177.3 L 221.1,209.2\" style=\"fill:none;fill-rule:evenodd;stroke:#000000;stroke-width:2.0px;stroke-linecap:butt;stroke-linejoin:miter;stroke-opacity:1\"/>\n",
       "<path class=\"bond-2 atom-2 atom-3\" d=\"M 221.1,209.2 L 276.2,177.5\" style=\"fill:none;fill-rule:evenodd;stroke:#000000;stroke-width:2.0px;stroke-linecap:butt;stroke-linejoin:miter;stroke-opacity:1\"/>\n",
       "<path class=\"bond-3 atom-3 atom-4\" d=\"M 276.2,177.5 L 276.6,153.9\" style=\"fill:none;fill-rule:evenodd;stroke:#000000;stroke-width:2.0px;stroke-linecap:butt;stroke-linejoin:miter;stroke-opacity:1\"/>\n",
       "<path class=\"bond-3 atom-3 atom-4\" d=\"M 276.6,153.9 L 276.9,130.3\" style=\"fill:none;fill-rule:evenodd;stroke:#FF0000;stroke-width:2.0px;stroke-linecap:butt;stroke-linejoin:miter;stroke-opacity:1\"/>\n",
       "<path class=\"bond-4 atom-4 atom-5\" d=\"M 291.7,105.9 L 312.4,94.3\" style=\"fill:none;fill-rule:evenodd;stroke:#FF0000;stroke-width:2.0px;stroke-linecap:butt;stroke-linejoin:miter;stroke-opacity:1\"/>\n",
       "<path class=\"bond-4 atom-4 atom-5\" d=\"M 312.4,94.3 L 333.2,82.8\" style=\"fill:none;fill-rule:evenodd;stroke:#000000;stroke-width:2.0px;stroke-linecap:butt;stroke-linejoin:miter;stroke-opacity:1\"/>\n",
       "<path class=\"bond-5 atom-5 atom-6\" d=\"M 333.2,82.8 L 389.3,115.4\" style=\"fill:none;fill-rule:evenodd;stroke:#000000;stroke-width:2.0px;stroke-linecap:butt;stroke-linejoin:miter;stroke-opacity:1\"/>\n",
       "<path class=\"bond-6 atom-0 atom-7\" d=\"M 110.8,209.0 L 88.1,169.2\" style=\"fill:none;fill-rule:evenodd;stroke:#000000;stroke-width:2.0px;stroke-linecap:butt;stroke-linejoin:miter;stroke-opacity:1\"/>\n",
       "<path class=\"bond-7 atom-0 atom-8\" d=\"M 110.8,209.0 L 59.7,208.7\" style=\"fill:none;fill-rule:evenodd;stroke:#000000;stroke-width:2.0px;stroke-linecap:butt;stroke-linejoin:miter;stroke-opacity:1\"/>\n",
       "<path class=\"bond-8 atom-0 atom-9\" d=\"M 110.8,209.0 L 110.5,257.1\" style=\"fill:none;fill-rule:evenodd;stroke:#000000;stroke-width:2.0px;stroke-linecap:butt;stroke-linejoin:miter;stroke-opacity:1\"/>\n",
       "<path class=\"bond-9 atom-1 atom-10\" d=\"M 166.2,177.3 L 189.2,137.8\" style=\"fill:none;fill-rule:evenodd;stroke:#000000;stroke-width:2.0px;stroke-linecap:butt;stroke-linejoin:miter;stroke-opacity:1\"/>\n",
       "<path class=\"bond-10 atom-1 atom-11\" d=\"M 166.2,177.3 L 143.5,137.6\" style=\"fill:none;fill-rule:evenodd;stroke:#000000;stroke-width:2.0px;stroke-linecap:butt;stroke-linejoin:miter;stroke-opacity:1\"/>\n",
       "<path class=\"bond-11 atom-2 atom-12\" d=\"M 221.1,209.2 L 198.1,248.8\" style=\"fill:none;fill-rule:evenodd;stroke:#000000;stroke-width:2.0px;stroke-linecap:butt;stroke-linejoin:miter;stroke-opacity:1\"/>\n",
       "<path class=\"bond-12 atom-2 atom-13\" d=\"M 221.1,209.2 L 244.0,248.9\" style=\"fill:none;fill-rule:evenodd;stroke:#000000;stroke-width:2.0px;stroke-linecap:butt;stroke-linejoin:miter;stroke-opacity:1\"/>\n",
       "<path class=\"bond-13 atom-3 atom-14\" d=\"M 276.2,177.5 L 299.1,217.1\" style=\"fill:none;fill-rule:evenodd;stroke:#000000;stroke-width:2.0px;stroke-linecap:butt;stroke-linejoin:miter;stroke-opacity:1\"/>\n",
       "<path class=\"bond-14 atom-3 atom-15\" d=\"M 276.2,177.5 L 326.0,177.7\" style=\"fill:none;fill-rule:evenodd;stroke:#000000;stroke-width:2.0px;stroke-linecap:butt;stroke-linejoin:miter;stroke-opacity:1\"/>\n",
       "<path class=\"bond-15 atom-5 atom-16\" d=\"M 333.2,82.8 L 310.5,42.9\" style=\"fill:none;fill-rule:evenodd;stroke:#000000;stroke-width:2.0px;stroke-linecap:butt;stroke-linejoin:miter;stroke-opacity:1\"/>\n",
       "<path class=\"bond-16 atom-5 atom-17\" d=\"M 333.2,82.8 L 356.2,43.3\" style=\"fill:none;fill-rule:evenodd;stroke:#000000;stroke-width:2.0px;stroke-linecap:butt;stroke-linejoin:miter;stroke-opacity:1\"/>\n",
       "<path class=\"bond-17 atom-6 atom-18\" d=\"M 389.3,115.4 L 412.2,75.8\" style=\"fill:none;fill-rule:evenodd;stroke:#000000;stroke-width:2.0px;stroke-linecap:butt;stroke-linejoin:miter;stroke-opacity:1\"/>\n",
       "<path class=\"bond-18 atom-6 atom-19\" d=\"M 389.3,115.4 L 440.3,115.3\" style=\"fill:none;fill-rule:evenodd;stroke:#000000;stroke-width:2.0px;stroke-linecap:butt;stroke-linejoin:miter;stroke-opacity:1\"/>\n",
       "<path class=\"bond-19 atom-6 atom-20\" d=\"M 389.3,115.4 L 389.6,164.0\" style=\"fill:none;fill-rule:evenodd;stroke:#000000;stroke-width:2.0px;stroke-linecap:butt;stroke-linejoin:miter;stroke-opacity:1\"/>\n",
       "<path class=\"atom-4\" d=\"M 264.7 114.1 Q 264.7 107.6, 267.9 103.9 Q 271.1 100.3, 277.1 100.3 Q 283.1 100.3, 286.3 103.9 Q 289.5 107.6, 289.5 114.1 Q 289.5 120.7, 286.3 124.4 Q 283.0 128.1, 277.1 128.1 Q 271.1 128.1, 267.9 124.4 Q 264.7 120.7, 264.7 114.1 M 277.1 125.1 Q 281.2 125.1, 283.5 122.3 Q 285.7 119.5, 285.7 114.1 Q 285.7 108.8, 283.5 106.1 Q 281.2 103.4, 277.1 103.4 Q 273.0 103.4, 270.7 106.0 Q 268.5 108.7, 268.5 114.1 Q 268.5 119.6, 270.7 122.3 Q 273.0 125.1, 277.1 125.1 \" fill=\"#FF0000\"/>\n",
       "<path class=\"atom-7\" d=\"M 68.5 140.0 L 72.2 140.0 L 72.2 151.5 L 86.1 151.5 L 86.1 140.0 L 89.8 140.0 L 89.8 167.1 L 86.1 167.1 L 86.1 154.6 L 72.2 154.6 L 72.2 167.1 L 68.5 167.1 L 68.5 140.0 \" fill=\"#000000\"/>\n",
       "<path class=\"atom-8\" d=\"M 36.4 195.1 L 40.0 195.1 L 40.0 206.6 L 53.9 206.6 L 53.9 195.1 L 57.6 195.1 L 57.6 222.2 L 53.9 222.2 L 53.9 209.6 L 40.0 209.6 L 40.0 222.2 L 36.4 222.2 L 36.4 195.1 \" fill=\"#000000\"/>\n",
       "<path class=\"atom-9\" d=\"M 99.8 259.2 L 103.5 259.2 L 103.5 270.8 L 117.4 270.8 L 117.4 259.2 L 121.1 259.2 L 121.1 286.4 L 117.4 286.4 L 117.4 273.8 L 103.5 273.8 L 103.5 286.4 L 99.8 286.4 L 99.8 259.2 \" fill=\"#000000\"/>\n",
       "<path class=\"atom-10\" d=\"M 187.7 108.6 L 191.4 108.6 L 191.4 120.2 L 205.3 120.2 L 205.3 108.6 L 208.9 108.6 L 208.9 135.7 L 205.3 135.7 L 205.3 123.2 L 191.4 123.2 L 191.4 135.7 L 187.7 135.7 L 187.7 108.6 \" fill=\"#000000\"/>\n",
       "<path class=\"atom-11\" d=\"M 124.0 108.3 L 127.6 108.3 L 127.6 119.9 L 141.5 119.9 L 141.5 108.3 L 145.2 108.3 L 145.2 135.4 L 141.5 135.4 L 141.5 122.9 L 127.6 122.9 L 127.6 135.4 L 124.0 135.4 L 124.0 108.3 \" fill=\"#000000\"/>\n",
       "<path class=\"atom-12\" d=\"M 178.5 250.9 L 182.1 250.9 L 182.1 262.4 L 196.0 262.4 L 196.0 250.9 L 199.7 250.9 L 199.7 278.0 L 196.0 278.0 L 196.0 265.5 L 182.1 265.5 L 182.1 278.0 L 178.5 278.0 L 178.5 250.9 \" fill=\"#000000\"/>\n",
       "<path class=\"atom-13\" d=\"M 242.4 251.0 L 246.0 251.0 L 246.0 262.5 L 259.9 262.5 L 259.9 251.0 L 263.6 251.0 L 263.6 278.1 L 259.9 278.1 L 259.9 265.6 L 246.0 265.6 L 246.0 278.1 L 242.4 278.1 L 242.4 251.0 \" fill=\"#000000\"/>\n",
       "<path class=\"atom-14\" d=\"M 297.6 219.2 L 301.2 219.2 L 301.2 230.7 L 315.1 230.7 L 315.1 219.2 L 318.8 219.2 L 318.8 246.3 L 315.1 246.3 L 315.1 233.8 L 301.2 233.8 L 301.2 246.3 L 297.6 246.3 L 297.6 219.2 \" fill=\"#000000\"/>\n",
       "<path class=\"atom-15\" d=\"M 328.1 164.2 L 331.8 164.2 L 331.8 175.7 L 345.6 175.7 L 345.6 164.2 L 349.3 164.2 L 349.3 191.3 L 345.6 191.3 L 345.6 178.7 L 331.8 178.7 L 331.8 191.3 L 328.1 191.3 L 328.1 164.2 \" fill=\"#000000\"/>\n",
       "<path class=\"atom-16\" d=\"M 291.0 13.6 L 294.7 13.6 L 294.7 25.2 L 308.6 25.2 L 308.6 13.6 L 312.3 13.6 L 312.3 40.8 L 308.6 40.8 L 308.6 28.2 L 294.7 28.2 L 294.7 40.8 L 291.0 40.8 L 291.0 13.6 \" fill=\"#000000\"/>\n",
       "<path class=\"atom-17\" d=\"M 354.7 14.0 L 358.3 14.0 L 358.3 25.6 L 372.2 25.6 L 372.2 14.0 L 375.9 14.0 L 375.9 41.1 L 372.2 41.1 L 372.2 28.6 L 358.3 28.6 L 358.3 41.1 L 354.7 41.1 L 354.7 14.0 \" fill=\"#000000\"/>\n",
       "<path class=\"atom-18\" d=\"M 410.6 46.6 L 414.3 46.6 L 414.3 58.1 L 428.2 58.1 L 428.2 46.6 L 431.8 46.6 L 431.8 73.7 L 428.2 73.7 L 428.2 61.2 L 414.3 61.2 L 414.3 73.7 L 410.6 73.7 L 410.6 46.6 \" fill=\"#000000\"/>\n",
       "<path class=\"atom-19\" d=\"M 442.4 101.7 L 446.1 101.7 L 446.1 113.2 L 460.0 113.2 L 460.0 101.7 L 463.6 101.7 L 463.6 128.8 L 460.0 128.8 L 460.0 116.3 L 446.1 116.3 L 446.1 128.8 L 442.4 128.8 L 442.4 101.7 \" fill=\"#000000\"/>\n",
       "<path class=\"atom-20\" d=\"M 379.1 166.1 L 382.8 166.1 L 382.8 177.6 L 396.7 177.6 L 396.7 166.1 L 400.3 166.1 L 400.3 193.2 L 396.7 193.2 L 396.7 180.7 L 382.8 180.7 L 382.8 193.2 L 379.1 193.2 L 379.1 166.1 \" fill=\"#000000\"/>\n",
       "</svg>"
      ],
      "text/plain": [
       "<IPython.core.display.SVG object>"
      ]
     },
     "metadata": {},
     "output_type": "display_data"
    }
   ],
   "source": [
    "display(m)  # noqa"
   ]
  },
  {
   "cell_type": "markdown",
   "metadata": {},
   "source": [
    "## Explicit visualization\n",
    "\n",
    "_Explicit_ visualization works as one would expect:"
   ]
  },
  {
   "cell_type": "code",
   "execution_count": 4,
   "metadata": {
    "execution": {
     "iopub.execute_input": "2023-07-07T00:21:00.982335Z",
     "iopub.status.busy": "2023-07-07T00:21:00.980864Z",
     "iopub.status.idle": "2023-07-07T00:21:00.991799Z",
     "shell.execute_reply": "2023-07-07T00:21:00.991315Z"
    }
   },
   "outputs": [
    {
     "data": {
      "image/svg+xml": [
       "<svg xmlns=\"http://www.w3.org/2000/svg\" xmlns:rdkit=\"http://www.rdkit.org/xml\" xmlns:xlink=\"http://www.w3.org/1999/xlink\" version=\"1.1\" baseProfile=\"full\" xml:space=\"preserve\" width=\"500px\" height=\"300px\" viewBox=\"0 0 500 300\">\n",
       "<!-- END OF HEADER -->\n",
       "<rect style=\"opacity:1.0;fill:#FFFFFF;stroke:none\" width=\"500.0\" height=\"300.0\" x=\"0.0\" y=\"0.0\"> </rect>\n",
       "<path class=\"bond-0 atom-0 atom-1\" d=\"M 110.8,209.0 L 166.2,177.3\" style=\"fill:none;fill-rule:evenodd;stroke:#000000;stroke-width:2.0px;stroke-linecap:butt;stroke-linejoin:miter;stroke-opacity:1\"/>\n",
       "<path class=\"bond-1 atom-1 atom-2\" d=\"M 166.2,177.3 L 221.1,209.2\" style=\"fill:none;fill-rule:evenodd;stroke:#000000;stroke-width:2.0px;stroke-linecap:butt;stroke-linejoin:miter;stroke-opacity:1\"/>\n",
       "<path class=\"bond-2 atom-2 atom-3\" d=\"M 221.1,209.2 L 276.2,177.5\" style=\"fill:none;fill-rule:evenodd;stroke:#000000;stroke-width:2.0px;stroke-linecap:butt;stroke-linejoin:miter;stroke-opacity:1\"/>\n",
       "<path class=\"bond-3 atom-3 atom-4\" d=\"M 276.2,177.5 L 276.6,153.9\" style=\"fill:none;fill-rule:evenodd;stroke:#000000;stroke-width:2.0px;stroke-linecap:butt;stroke-linejoin:miter;stroke-opacity:1\"/>\n",
       "<path class=\"bond-3 atom-3 atom-4\" d=\"M 276.6,153.9 L 276.9,130.3\" style=\"fill:none;fill-rule:evenodd;stroke:#FF0000;stroke-width:2.0px;stroke-linecap:butt;stroke-linejoin:miter;stroke-opacity:1\"/>\n",
       "<path class=\"bond-4 atom-4 atom-5\" d=\"M 291.7,105.9 L 312.4,94.3\" style=\"fill:none;fill-rule:evenodd;stroke:#FF0000;stroke-width:2.0px;stroke-linecap:butt;stroke-linejoin:miter;stroke-opacity:1\"/>\n",
       "<path class=\"bond-4 atom-4 atom-5\" d=\"M 312.4,94.3 L 333.2,82.8\" style=\"fill:none;fill-rule:evenodd;stroke:#000000;stroke-width:2.0px;stroke-linecap:butt;stroke-linejoin:miter;stroke-opacity:1\"/>\n",
       "<path class=\"bond-5 atom-5 atom-6\" d=\"M 333.2,82.8 L 389.3,115.4\" style=\"fill:none;fill-rule:evenodd;stroke:#000000;stroke-width:2.0px;stroke-linecap:butt;stroke-linejoin:miter;stroke-opacity:1\"/>\n",
       "<path class=\"bond-6 atom-0 atom-7\" d=\"M 110.8,209.0 L 88.1,169.2\" style=\"fill:none;fill-rule:evenodd;stroke:#000000;stroke-width:2.0px;stroke-linecap:butt;stroke-linejoin:miter;stroke-opacity:1\"/>\n",
       "<path class=\"bond-7 atom-0 atom-8\" d=\"M 110.8,209.0 L 59.7,208.7\" style=\"fill:none;fill-rule:evenodd;stroke:#000000;stroke-width:2.0px;stroke-linecap:butt;stroke-linejoin:miter;stroke-opacity:1\"/>\n",
       "<path class=\"bond-8 atom-0 atom-9\" d=\"M 110.8,209.0 L 110.5,257.1\" style=\"fill:none;fill-rule:evenodd;stroke:#000000;stroke-width:2.0px;stroke-linecap:butt;stroke-linejoin:miter;stroke-opacity:1\"/>\n",
       "<path class=\"bond-9 atom-1 atom-10\" d=\"M 166.2,177.3 L 189.2,137.8\" style=\"fill:none;fill-rule:evenodd;stroke:#000000;stroke-width:2.0px;stroke-linecap:butt;stroke-linejoin:miter;stroke-opacity:1\"/>\n",
       "<path class=\"bond-10 atom-1 atom-11\" d=\"M 166.2,177.3 L 143.5,137.6\" style=\"fill:none;fill-rule:evenodd;stroke:#000000;stroke-width:2.0px;stroke-linecap:butt;stroke-linejoin:miter;stroke-opacity:1\"/>\n",
       "<path class=\"bond-11 atom-2 atom-12\" d=\"M 221.1,209.2 L 198.1,248.8\" style=\"fill:none;fill-rule:evenodd;stroke:#000000;stroke-width:2.0px;stroke-linecap:butt;stroke-linejoin:miter;stroke-opacity:1\"/>\n",
       "<path class=\"bond-12 atom-2 atom-13\" d=\"M 221.1,209.2 L 244.0,248.9\" style=\"fill:none;fill-rule:evenodd;stroke:#000000;stroke-width:2.0px;stroke-linecap:butt;stroke-linejoin:miter;stroke-opacity:1\"/>\n",
       "<path class=\"bond-13 atom-3 atom-14\" d=\"M 276.2,177.5 L 299.1,217.1\" style=\"fill:none;fill-rule:evenodd;stroke:#000000;stroke-width:2.0px;stroke-linecap:butt;stroke-linejoin:miter;stroke-opacity:1\"/>\n",
       "<path class=\"bond-14 atom-3 atom-15\" d=\"M 276.2,177.5 L 326.0,177.7\" style=\"fill:none;fill-rule:evenodd;stroke:#000000;stroke-width:2.0px;stroke-linecap:butt;stroke-linejoin:miter;stroke-opacity:1\"/>\n",
       "<path class=\"bond-15 atom-5 atom-16\" d=\"M 333.2,82.8 L 310.5,42.9\" style=\"fill:none;fill-rule:evenodd;stroke:#000000;stroke-width:2.0px;stroke-linecap:butt;stroke-linejoin:miter;stroke-opacity:1\"/>\n",
       "<path class=\"bond-16 atom-5 atom-17\" d=\"M 333.2,82.8 L 356.2,43.3\" style=\"fill:none;fill-rule:evenodd;stroke:#000000;stroke-width:2.0px;stroke-linecap:butt;stroke-linejoin:miter;stroke-opacity:1\"/>\n",
       "<path class=\"bond-17 atom-6 atom-18\" d=\"M 389.3,115.4 L 412.2,75.8\" style=\"fill:none;fill-rule:evenodd;stroke:#000000;stroke-width:2.0px;stroke-linecap:butt;stroke-linejoin:miter;stroke-opacity:1\"/>\n",
       "<path class=\"bond-18 atom-6 atom-19\" d=\"M 389.3,115.4 L 440.3,115.3\" style=\"fill:none;fill-rule:evenodd;stroke:#000000;stroke-width:2.0px;stroke-linecap:butt;stroke-linejoin:miter;stroke-opacity:1\"/>\n",
       "<path class=\"bond-19 atom-6 atom-20\" d=\"M 389.3,115.4 L 389.6,164.0\" style=\"fill:none;fill-rule:evenodd;stroke:#000000;stroke-width:2.0px;stroke-linecap:butt;stroke-linejoin:miter;stroke-opacity:1\"/>\n",
       "<path class=\"atom-4\" d=\"M 264.7 114.1 Q 264.7 107.6, 267.9 103.9 Q 271.1 100.3, 277.1 100.3 Q 283.1 100.3, 286.3 103.9 Q 289.5 107.6, 289.5 114.1 Q 289.5 120.7, 286.3 124.4 Q 283.0 128.1, 277.1 128.1 Q 271.1 128.1, 267.9 124.4 Q 264.7 120.7, 264.7 114.1 M 277.1 125.1 Q 281.2 125.1, 283.5 122.3 Q 285.7 119.5, 285.7 114.1 Q 285.7 108.8, 283.5 106.1 Q 281.2 103.4, 277.1 103.4 Q 273.0 103.4, 270.7 106.0 Q 268.5 108.7, 268.5 114.1 Q 268.5 119.6, 270.7 122.3 Q 273.0 125.1, 277.1 125.1 \" fill=\"#FF0000\"/>\n",
       "<path class=\"atom-7\" d=\"M 68.5 140.0 L 72.2 140.0 L 72.2 151.5 L 86.1 151.5 L 86.1 140.0 L 89.8 140.0 L 89.8 167.1 L 86.1 167.1 L 86.1 154.6 L 72.2 154.6 L 72.2 167.1 L 68.5 167.1 L 68.5 140.0 \" fill=\"#000000\"/>\n",
       "<path class=\"atom-8\" d=\"M 36.4 195.1 L 40.0 195.1 L 40.0 206.6 L 53.9 206.6 L 53.9 195.1 L 57.6 195.1 L 57.6 222.2 L 53.9 222.2 L 53.9 209.6 L 40.0 209.6 L 40.0 222.2 L 36.4 222.2 L 36.4 195.1 \" fill=\"#000000\"/>\n",
       "<path class=\"atom-9\" d=\"M 99.8 259.2 L 103.5 259.2 L 103.5 270.8 L 117.4 270.8 L 117.4 259.2 L 121.1 259.2 L 121.1 286.4 L 117.4 286.4 L 117.4 273.8 L 103.5 273.8 L 103.5 286.4 L 99.8 286.4 L 99.8 259.2 \" fill=\"#000000\"/>\n",
       "<path class=\"atom-10\" d=\"M 187.7 108.6 L 191.4 108.6 L 191.4 120.2 L 205.3 120.2 L 205.3 108.6 L 208.9 108.6 L 208.9 135.7 L 205.3 135.7 L 205.3 123.2 L 191.4 123.2 L 191.4 135.7 L 187.7 135.7 L 187.7 108.6 \" fill=\"#000000\"/>\n",
       "<path class=\"atom-11\" d=\"M 124.0 108.3 L 127.6 108.3 L 127.6 119.9 L 141.5 119.9 L 141.5 108.3 L 145.2 108.3 L 145.2 135.4 L 141.5 135.4 L 141.5 122.9 L 127.6 122.9 L 127.6 135.4 L 124.0 135.4 L 124.0 108.3 \" fill=\"#000000\"/>\n",
       "<path class=\"atom-12\" d=\"M 178.5 250.9 L 182.1 250.9 L 182.1 262.4 L 196.0 262.4 L 196.0 250.9 L 199.7 250.9 L 199.7 278.0 L 196.0 278.0 L 196.0 265.5 L 182.1 265.5 L 182.1 278.0 L 178.5 278.0 L 178.5 250.9 \" fill=\"#000000\"/>\n",
       "<path class=\"atom-13\" d=\"M 242.4 251.0 L 246.0 251.0 L 246.0 262.5 L 259.9 262.5 L 259.9 251.0 L 263.6 251.0 L 263.6 278.1 L 259.9 278.1 L 259.9 265.6 L 246.0 265.6 L 246.0 278.1 L 242.4 278.1 L 242.4 251.0 \" fill=\"#000000\"/>\n",
       "<path class=\"atom-14\" d=\"M 297.6 219.2 L 301.2 219.2 L 301.2 230.7 L 315.1 230.7 L 315.1 219.2 L 318.8 219.2 L 318.8 246.3 L 315.1 246.3 L 315.1 233.8 L 301.2 233.8 L 301.2 246.3 L 297.6 246.3 L 297.6 219.2 \" fill=\"#000000\"/>\n",
       "<path class=\"atom-15\" d=\"M 328.1 164.2 L 331.8 164.2 L 331.8 175.7 L 345.6 175.7 L 345.6 164.2 L 349.3 164.2 L 349.3 191.3 L 345.6 191.3 L 345.6 178.7 L 331.8 178.7 L 331.8 191.3 L 328.1 191.3 L 328.1 164.2 \" fill=\"#000000\"/>\n",
       "<path class=\"atom-16\" d=\"M 291.0 13.6 L 294.7 13.6 L 294.7 25.2 L 308.6 25.2 L 308.6 13.6 L 312.3 13.6 L 312.3 40.8 L 308.6 40.8 L 308.6 28.2 L 294.7 28.2 L 294.7 40.8 L 291.0 40.8 L 291.0 13.6 \" fill=\"#000000\"/>\n",
       "<path class=\"atom-17\" d=\"M 354.7 14.0 L 358.3 14.0 L 358.3 25.6 L 372.2 25.6 L 372.2 14.0 L 375.9 14.0 L 375.9 41.1 L 372.2 41.1 L 372.2 28.6 L 358.3 28.6 L 358.3 41.1 L 354.7 41.1 L 354.7 14.0 \" fill=\"#000000\"/>\n",
       "<path class=\"atom-18\" d=\"M 410.6 46.6 L 414.3 46.6 L 414.3 58.1 L 428.2 58.1 L 428.2 46.6 L 431.8 46.6 L 431.8 73.7 L 428.2 73.7 L 428.2 61.2 L 414.3 61.2 L 414.3 73.7 L 410.6 73.7 L 410.6 46.6 \" fill=\"#000000\"/>\n",
       "<path class=\"atom-19\" d=\"M 442.4 101.7 L 446.1 101.7 L 446.1 113.2 L 460.0 113.2 L 460.0 101.7 L 463.6 101.7 L 463.6 128.8 L 460.0 128.8 L 460.0 116.3 L 446.1 116.3 L 446.1 128.8 L 442.4 128.8 L 442.4 101.7 \" fill=\"#000000\"/>\n",
       "<path class=\"atom-20\" d=\"M 379.1 166.1 L 382.8 166.1 L 382.8 177.6 L 396.7 177.6 L 396.7 166.1 L 400.3 166.1 L 400.3 193.2 L 396.7 193.2 L 396.7 180.7 L 382.8 180.7 L 382.8 193.2 L 379.1 193.2 L 379.1 166.1 \" fill=\"#000000\"/>\n",
       "</svg>"
      ],
      "text/plain": [
       "<IPython.core.display.SVG object>"
      ]
     },
     "execution_count": 4,
     "metadata": {},
     "output_type": "execute_result"
    }
   ],
   "source": [
    "m.visualize()"
   ]
  },
  {
   "cell_type": "markdown",
   "metadata": {},
   "source": [
    "This method can take a `backend` parameter, which defaults to `rdkit`:"
   ]
  },
  {
   "cell_type": "code",
   "execution_count": 5,
   "metadata": {
    "execution": {
     "iopub.execute_input": "2023-07-07T00:21:00.995561Z",
     "iopub.status.busy": "2023-07-07T00:21:00.994583Z",
     "iopub.status.idle": "2023-07-07T00:21:01.005478Z",
     "shell.execute_reply": "2023-07-07T00:21:01.004960Z"
    }
   },
   "outputs": [
    {
     "data": {
      "image/svg+xml": [
       "<svg xmlns=\"http://www.w3.org/2000/svg\" xmlns:rdkit=\"http://www.rdkit.org/xml\" xmlns:xlink=\"http://www.w3.org/1999/xlink\" version=\"1.1\" baseProfile=\"full\" xml:space=\"preserve\" width=\"500px\" height=\"300px\" viewBox=\"0 0 500 300\">\n",
       "<!-- END OF HEADER -->\n",
       "<rect style=\"opacity:1.0;fill:#FFFFFF;stroke:none\" width=\"500.0\" height=\"300.0\" x=\"0.0\" y=\"0.0\"> </rect>\n",
       "<path class=\"bond-0 atom-0 atom-1\" d=\"M 110.8,209.0 L 166.2,177.3\" style=\"fill:none;fill-rule:evenodd;stroke:#000000;stroke-width:2.0px;stroke-linecap:butt;stroke-linejoin:miter;stroke-opacity:1\"/>\n",
       "<path class=\"bond-1 atom-1 atom-2\" d=\"M 166.2,177.3 L 221.1,209.2\" style=\"fill:none;fill-rule:evenodd;stroke:#000000;stroke-width:2.0px;stroke-linecap:butt;stroke-linejoin:miter;stroke-opacity:1\"/>\n",
       "<path class=\"bond-2 atom-2 atom-3\" d=\"M 221.1,209.2 L 276.2,177.5\" style=\"fill:none;fill-rule:evenodd;stroke:#000000;stroke-width:2.0px;stroke-linecap:butt;stroke-linejoin:miter;stroke-opacity:1\"/>\n",
       "<path class=\"bond-3 atom-3 atom-4\" d=\"M 276.2,177.5 L 276.6,153.9\" style=\"fill:none;fill-rule:evenodd;stroke:#000000;stroke-width:2.0px;stroke-linecap:butt;stroke-linejoin:miter;stroke-opacity:1\"/>\n",
       "<path class=\"bond-3 atom-3 atom-4\" d=\"M 276.6,153.9 L 276.9,130.3\" style=\"fill:none;fill-rule:evenodd;stroke:#FF0000;stroke-width:2.0px;stroke-linecap:butt;stroke-linejoin:miter;stroke-opacity:1\"/>\n",
       "<path class=\"bond-4 atom-4 atom-5\" d=\"M 291.7,105.9 L 312.4,94.3\" style=\"fill:none;fill-rule:evenodd;stroke:#FF0000;stroke-width:2.0px;stroke-linecap:butt;stroke-linejoin:miter;stroke-opacity:1\"/>\n",
       "<path class=\"bond-4 atom-4 atom-5\" d=\"M 312.4,94.3 L 333.2,82.8\" style=\"fill:none;fill-rule:evenodd;stroke:#000000;stroke-width:2.0px;stroke-linecap:butt;stroke-linejoin:miter;stroke-opacity:1\"/>\n",
       "<path class=\"bond-5 atom-5 atom-6\" d=\"M 333.2,82.8 L 389.3,115.4\" style=\"fill:none;fill-rule:evenodd;stroke:#000000;stroke-width:2.0px;stroke-linecap:butt;stroke-linejoin:miter;stroke-opacity:1\"/>\n",
       "<path class=\"bond-6 atom-0 atom-7\" d=\"M 110.8,209.0 L 88.1,169.2\" style=\"fill:none;fill-rule:evenodd;stroke:#000000;stroke-width:2.0px;stroke-linecap:butt;stroke-linejoin:miter;stroke-opacity:1\"/>\n",
       "<path class=\"bond-7 atom-0 atom-8\" d=\"M 110.8,209.0 L 59.7,208.7\" style=\"fill:none;fill-rule:evenodd;stroke:#000000;stroke-width:2.0px;stroke-linecap:butt;stroke-linejoin:miter;stroke-opacity:1\"/>\n",
       "<path class=\"bond-8 atom-0 atom-9\" d=\"M 110.8,209.0 L 110.5,257.1\" style=\"fill:none;fill-rule:evenodd;stroke:#000000;stroke-width:2.0px;stroke-linecap:butt;stroke-linejoin:miter;stroke-opacity:1\"/>\n",
       "<path class=\"bond-9 atom-1 atom-10\" d=\"M 166.2,177.3 L 189.2,137.8\" style=\"fill:none;fill-rule:evenodd;stroke:#000000;stroke-width:2.0px;stroke-linecap:butt;stroke-linejoin:miter;stroke-opacity:1\"/>\n",
       "<path class=\"bond-10 atom-1 atom-11\" d=\"M 166.2,177.3 L 143.5,137.6\" style=\"fill:none;fill-rule:evenodd;stroke:#000000;stroke-width:2.0px;stroke-linecap:butt;stroke-linejoin:miter;stroke-opacity:1\"/>\n",
       "<path class=\"bond-11 atom-2 atom-12\" d=\"M 221.1,209.2 L 198.1,248.8\" style=\"fill:none;fill-rule:evenodd;stroke:#000000;stroke-width:2.0px;stroke-linecap:butt;stroke-linejoin:miter;stroke-opacity:1\"/>\n",
       "<path class=\"bond-12 atom-2 atom-13\" d=\"M 221.1,209.2 L 244.0,248.9\" style=\"fill:none;fill-rule:evenodd;stroke:#000000;stroke-width:2.0px;stroke-linecap:butt;stroke-linejoin:miter;stroke-opacity:1\"/>\n",
       "<path class=\"bond-13 atom-3 atom-14\" d=\"M 276.2,177.5 L 299.1,217.1\" style=\"fill:none;fill-rule:evenodd;stroke:#000000;stroke-width:2.0px;stroke-linecap:butt;stroke-linejoin:miter;stroke-opacity:1\"/>\n",
       "<path class=\"bond-14 atom-3 atom-15\" d=\"M 276.2,177.5 L 326.0,177.7\" style=\"fill:none;fill-rule:evenodd;stroke:#000000;stroke-width:2.0px;stroke-linecap:butt;stroke-linejoin:miter;stroke-opacity:1\"/>\n",
       "<path class=\"bond-15 atom-5 atom-16\" d=\"M 333.2,82.8 L 310.5,42.9\" style=\"fill:none;fill-rule:evenodd;stroke:#000000;stroke-width:2.0px;stroke-linecap:butt;stroke-linejoin:miter;stroke-opacity:1\"/>\n",
       "<path class=\"bond-16 atom-5 atom-17\" d=\"M 333.2,82.8 L 356.2,43.3\" style=\"fill:none;fill-rule:evenodd;stroke:#000000;stroke-width:2.0px;stroke-linecap:butt;stroke-linejoin:miter;stroke-opacity:1\"/>\n",
       "<path class=\"bond-17 atom-6 atom-18\" d=\"M 389.3,115.4 L 412.2,75.8\" style=\"fill:none;fill-rule:evenodd;stroke:#000000;stroke-width:2.0px;stroke-linecap:butt;stroke-linejoin:miter;stroke-opacity:1\"/>\n",
       "<path class=\"bond-18 atom-6 atom-19\" d=\"M 389.3,115.4 L 440.3,115.3\" style=\"fill:none;fill-rule:evenodd;stroke:#000000;stroke-width:2.0px;stroke-linecap:butt;stroke-linejoin:miter;stroke-opacity:1\"/>\n",
       "<path class=\"bond-19 atom-6 atom-20\" d=\"M 389.3,115.4 L 389.6,164.0\" style=\"fill:none;fill-rule:evenodd;stroke:#000000;stroke-width:2.0px;stroke-linecap:butt;stroke-linejoin:miter;stroke-opacity:1\"/>\n",
       "<path class=\"atom-4\" d=\"M 264.7 114.1 Q 264.7 107.6, 267.9 103.9 Q 271.1 100.3, 277.1 100.3 Q 283.1 100.3, 286.3 103.9 Q 289.5 107.6, 289.5 114.1 Q 289.5 120.7, 286.3 124.4 Q 283.0 128.1, 277.1 128.1 Q 271.1 128.1, 267.9 124.4 Q 264.7 120.7, 264.7 114.1 M 277.1 125.1 Q 281.2 125.1, 283.5 122.3 Q 285.7 119.5, 285.7 114.1 Q 285.7 108.8, 283.5 106.1 Q 281.2 103.4, 277.1 103.4 Q 273.0 103.4, 270.7 106.0 Q 268.5 108.7, 268.5 114.1 Q 268.5 119.6, 270.7 122.3 Q 273.0 125.1, 277.1 125.1 \" fill=\"#FF0000\"/>\n",
       "<path class=\"atom-7\" d=\"M 68.5 140.0 L 72.2 140.0 L 72.2 151.5 L 86.1 151.5 L 86.1 140.0 L 89.8 140.0 L 89.8 167.1 L 86.1 167.1 L 86.1 154.6 L 72.2 154.6 L 72.2 167.1 L 68.5 167.1 L 68.5 140.0 \" fill=\"#000000\"/>\n",
       "<path class=\"atom-8\" d=\"M 36.4 195.1 L 40.0 195.1 L 40.0 206.6 L 53.9 206.6 L 53.9 195.1 L 57.6 195.1 L 57.6 222.2 L 53.9 222.2 L 53.9 209.6 L 40.0 209.6 L 40.0 222.2 L 36.4 222.2 L 36.4 195.1 \" fill=\"#000000\"/>\n",
       "<path class=\"atom-9\" d=\"M 99.8 259.2 L 103.5 259.2 L 103.5 270.8 L 117.4 270.8 L 117.4 259.2 L 121.1 259.2 L 121.1 286.4 L 117.4 286.4 L 117.4 273.8 L 103.5 273.8 L 103.5 286.4 L 99.8 286.4 L 99.8 259.2 \" fill=\"#000000\"/>\n",
       "<path class=\"atom-10\" d=\"M 187.7 108.6 L 191.4 108.6 L 191.4 120.2 L 205.3 120.2 L 205.3 108.6 L 208.9 108.6 L 208.9 135.7 L 205.3 135.7 L 205.3 123.2 L 191.4 123.2 L 191.4 135.7 L 187.7 135.7 L 187.7 108.6 \" fill=\"#000000\"/>\n",
       "<path class=\"atom-11\" d=\"M 124.0 108.3 L 127.6 108.3 L 127.6 119.9 L 141.5 119.9 L 141.5 108.3 L 145.2 108.3 L 145.2 135.4 L 141.5 135.4 L 141.5 122.9 L 127.6 122.9 L 127.6 135.4 L 124.0 135.4 L 124.0 108.3 \" fill=\"#000000\"/>\n",
       "<path class=\"atom-12\" d=\"M 178.5 250.9 L 182.1 250.9 L 182.1 262.4 L 196.0 262.4 L 196.0 250.9 L 199.7 250.9 L 199.7 278.0 L 196.0 278.0 L 196.0 265.5 L 182.1 265.5 L 182.1 278.0 L 178.5 278.0 L 178.5 250.9 \" fill=\"#000000\"/>\n",
       "<path class=\"atom-13\" d=\"M 242.4 251.0 L 246.0 251.0 L 246.0 262.5 L 259.9 262.5 L 259.9 251.0 L 263.6 251.0 L 263.6 278.1 L 259.9 278.1 L 259.9 265.6 L 246.0 265.6 L 246.0 278.1 L 242.4 278.1 L 242.4 251.0 \" fill=\"#000000\"/>\n",
       "<path class=\"atom-14\" d=\"M 297.6 219.2 L 301.2 219.2 L 301.2 230.7 L 315.1 230.7 L 315.1 219.2 L 318.8 219.2 L 318.8 246.3 L 315.1 246.3 L 315.1 233.8 L 301.2 233.8 L 301.2 246.3 L 297.6 246.3 L 297.6 219.2 \" fill=\"#000000\"/>\n",
       "<path class=\"atom-15\" d=\"M 328.1 164.2 L 331.8 164.2 L 331.8 175.7 L 345.6 175.7 L 345.6 164.2 L 349.3 164.2 L 349.3 191.3 L 345.6 191.3 L 345.6 178.7 L 331.8 178.7 L 331.8 191.3 L 328.1 191.3 L 328.1 164.2 \" fill=\"#000000\"/>\n",
       "<path class=\"atom-16\" d=\"M 291.0 13.6 L 294.7 13.6 L 294.7 25.2 L 308.6 25.2 L 308.6 13.6 L 312.3 13.6 L 312.3 40.8 L 308.6 40.8 L 308.6 28.2 L 294.7 28.2 L 294.7 40.8 L 291.0 40.8 L 291.0 13.6 \" fill=\"#000000\"/>\n",
       "<path class=\"atom-17\" d=\"M 354.7 14.0 L 358.3 14.0 L 358.3 25.6 L 372.2 25.6 L 372.2 14.0 L 375.9 14.0 L 375.9 41.1 L 372.2 41.1 L 372.2 28.6 L 358.3 28.6 L 358.3 41.1 L 354.7 41.1 L 354.7 14.0 \" fill=\"#000000\"/>\n",
       "<path class=\"atom-18\" d=\"M 410.6 46.6 L 414.3 46.6 L 414.3 58.1 L 428.2 58.1 L 428.2 46.6 L 431.8 46.6 L 431.8 73.7 L 428.2 73.7 L 428.2 61.2 L 414.3 61.2 L 414.3 73.7 L 410.6 73.7 L 410.6 46.6 \" fill=\"#000000\"/>\n",
       "<path class=\"atom-19\" d=\"M 442.4 101.7 L 446.1 101.7 L 446.1 113.2 L 460.0 113.2 L 460.0 101.7 L 463.6 101.7 L 463.6 128.8 L 460.0 128.8 L 460.0 116.3 L 446.1 116.3 L 446.1 128.8 L 442.4 128.8 L 442.4 101.7 \" fill=\"#000000\"/>\n",
       "<path class=\"atom-20\" d=\"M 379.1 166.1 L 382.8 166.1 L 382.8 177.6 L 396.7 177.6 L 396.7 166.1 L 400.3 166.1 L 400.3 193.2 L 396.7 193.2 L 396.7 180.7 L 382.8 180.7 L 382.8 193.2 L 379.1 193.2 L 379.1 166.1 \" fill=\"#000000\"/>\n",
       "</svg>"
      ],
      "text/plain": [
       "<IPython.core.display.SVG object>"
      ]
     },
     "execution_count": 5,
     "metadata": {},
     "output_type": "execute_result"
    }
   ],
   "source": [
    "m.visualize(backend=\"rdkit\")"
   ]
  },
  {
   "cell_type": "markdown",
   "metadata": {},
   "source": [
    "`openeye` can also be used, if available:"
   ]
  },
  {
   "cell_type": "code",
   "execution_count": 6,
   "metadata": {
    "execution": {
     "iopub.execute_input": "2023-07-07T00:21:01.009158Z",
     "iopub.status.busy": "2023-07-07T00:21:01.008187Z",
     "iopub.status.idle": "2023-07-07T00:21:01.014578Z",
     "shell.execute_reply": "2023-07-07T00:21:01.014072Z"
    }
   },
   "outputs": [
    {
     "name": "stdout",
     "output_type": "stream",
     "text": [
      "Visualizing with `backend=\"openeye\"` requires the OpenEye Toolkits\n"
     ]
    }
   ],
   "source": [
    "try:\n",
    "    from openeye import oechem\n",
    "\n",
    "    assert oechem.OEChemIsLicensed()\n",
    "\n",
    "    m.visualize(backend=\"openeye\")\n",
    "except (ImportError, AssertionError):\n",
    "    print('Visualizing with `backend=\"openeye\"` requires the OpenEye Toolkits')"
   ]
  },
  {
   "cell_type": "markdown",
   "metadata": {},
   "source": [
    "`nglview`, if installed, can only be used if conformers have been generated:"
   ]
  },
  {
   "cell_type": "code",
   "execution_count": 7,
   "metadata": {
    "execution": {
     "iopub.execute_input": "2023-07-07T00:21:01.017141Z",
     "iopub.status.busy": "2023-07-07T00:21:01.016772Z",
     "iopub.status.idle": "2023-07-07T00:21:01.020751Z",
     "shell.execute_reply": "2023-07-07T00:21:01.020281Z"
    },
    "tags": [
     "nbval-skip"
    ]
   },
   "outputs": [
    {
     "name": "stdout",
     "output_type": "stream",
     "text": [
      "Visualizing with NGLview requires that the molecule has conformers.\n"
     ]
    }
   ],
   "source": [
    "try:\n",
    "    m.visualize(backend=\"nglview\")  # this will fail because we have no conformers yet\n",
    "except ValueError as excinfo:\n",
    "    # Catch the exception and print its message\n",
    "    print(str(excinfo))"
   ]
  },
  {
   "cell_type": "markdown",
   "metadata": {},
   "source": [
    "But, once you generate them, it works! You can zoom in/out, rotate and translate the molecule. You can even inspect the different conformers (if available) using the trajectory player:"
   ]
  },
  {
   "cell_type": "code",
   "execution_count": 8,
   "metadata": {
    "execution": {
     "iopub.execute_input": "2023-07-07T00:21:01.023214Z",
     "iopub.status.busy": "2023-07-07T00:21:01.022848Z",
     "iopub.status.idle": "2023-07-07T00:21:01.138928Z",
     "shell.execute_reply": "2023-07-07T00:21:01.138362Z"
    },
    "tags": [
     "nbval-skip"
    ]
   },
   "outputs": [
    {
     "data": {
      "application/vnd.jupyter.widget-view+json": {
       "model_id": "10c7d74f6c2b4132b6fb7b1f0ad875fd",
       "version_major": 2,
       "version_minor": 0
      },
      "text/plain": [
       "NGLWidget()"
      ]
     },
     "metadata": {},
     "output_type": "display_data"
    }
   ],
   "source": [
    "m.generate_conformers()\n",
    "m.visualize(backend=\"nglview\")"
   ]
  },
  {
   "cell_type": "markdown",
   "metadata": {},
   "source": [
    "For example, a benzene ring will not have multiple conformers, so you won't see the trajectory player."
   ]
  },
  {
   "cell_type": "code",
   "execution_count": 9,
   "metadata": {
    "execution": {
     "iopub.execute_input": "2023-07-07T00:21:01.141961Z",
     "iopub.status.busy": "2023-07-07T00:21:01.141562Z",
     "iopub.status.idle": "2023-07-07T00:21:01.193697Z",
     "shell.execute_reply": "2023-07-07T00:21:01.193126Z"
    },
    "tags": [
     "nbval-skip"
    ]
   },
   "outputs": [
    {
     "data": {
      "application/vnd.jupyter.widget-view+json": {
       "model_id": "a4f01e72dbec4d08af2cd2cd6660d739",
       "version_major": 2,
       "version_minor": 0
      },
      "text/plain": [
       "NGLWidget()"
      ]
     },
     "metadata": {},
     "output_type": "display_data"
    }
   ],
   "source": [
    "n = Molecule.from_smiles(\"c1ccccc1\")\n",
    "n.generate_conformers()\n",
    "n"
   ]
  },
  {
   "cell_type": "markdown",
   "metadata": {},
   "source": [
    "Notice that, once conformers are available, the implicit representation will use `nglview` to provide a 3D visualization."
   ]
  }
 ],
 "metadata": {
  "category": "tutorial",
  "kernelspec": {
   "display_name": "Python 3 (ipykernel)",
   "language": "python",
   "name": "python3"
  },
  "language_info": {
   "codemirror_mode": {
    "name": "ipython",
    "version": 3
   },
   "file_extension": ".py",
   "mimetype": "text/x-python",
   "name": "python",
   "nbconvert_exporter": "python",
   "pygments_lexer": "ipython3",
   "version": "3.10.12"
  },
  "src_repo_tag": "0.14.0",
  "widgets": {
   "application/vnd.jupyter.widget-state+json": {
    "state": {
     "0155c0655787488a8910831d8191992c": {
      "model_module": "@jupyter-widgets/base",
      "model_module_version": "2.0.0",
      "model_name": "LayoutModel",
      "state": {
       "_model_module": "@jupyter-widgets/base",
       "_model_module_version": "2.0.0",
       "_model_name": "LayoutModel",
       "_view_count": null,
       "_view_module": "@jupyter-widgets/base",
       "_view_module_version": "2.0.0",
       "_view_name": "LayoutView",
       "align_content": null,
       "align_items": null,
       "align_self": null,
       "border_bottom": null,
       "border_left": null,
       "border_right": null,
       "border_top": null,
       "bottom": null,
       "display": null,
       "flex": null,
       "flex_flow": null,
       "grid_area": null,
       "grid_auto_columns": null,
       "grid_auto_flow": null,
       "grid_auto_rows": null,
       "grid_column": null,
       "grid_gap": null,
       "grid_row": null,
       "grid_template_areas": null,
       "grid_template_columns": null,
       "grid_template_rows": null,
       "height": null,
       "justify_content": null,
       "justify_items": null,
       "left": null,
       "margin": null,
       "max_height": null,
       "max_width": null,
       "min_height": null,
       "min_width": null,
       "object_fit": null,
       "object_position": null,
       "order": null,
       "overflow": null,
       "padding": null,
       "right": null,
       "top": null,
       "visibility": null,
       "width": null
      }
     },
     "0df980105d1c497092be14448deefc89": {
      "model_module": "@jupyter-widgets/controls",
      "model_module_version": "2.0.0",
      "model_name": "SliderStyleModel",
      "state": {
       "_model_module": "@jupyter-widgets/controls",
       "_model_module_version": "2.0.0",
       "_model_name": "SliderStyleModel",
       "_view_count": null,
       "_view_module": "@jupyter-widgets/base",
       "_view_module_version": "2.0.0",
       "_view_name": "StyleView",
       "description_width": "",
       "handle_color": null
      }
     },
     "0f30d92cf0074301b6803027bae39892": {
      "model_module": "@jupyter-widgets/controls",
      "model_module_version": "2.0.0",
      "model_name": "IntSliderModel",
      "state": {
       "_dom_classes": [],
       "_model_module": "@jupyter-widgets/controls",
       "_model_module_version": "2.0.0",
       "_model_name": "IntSliderModel",
       "_view_count": null,
       "_view_module": "@jupyter-widgets/controls",
       "_view_module_version": "2.0.0",
       "_view_name": "IntSliderView",
       "behavior": "drag-tap",
       "continuous_update": true,
       "description": "",
       "description_allow_html": false,
       "disabled": false,
       "layout": "IPY_MODEL_98825195cedb49fcb58380809768d4d1",
       "max": 0,
       "min": 0,
       "orientation": "horizontal",
       "readout": true,
       "readout_format": "d",
       "step": 1,
       "style": "IPY_MODEL_0df980105d1c497092be14448deefc89",
       "tabbable": null,
       "tooltip": null,
       "value": 0
      }
     },
     "10c7d74f6c2b4132b6fb7b1f0ad875fd": {
      "model_module": "nglview-js-widgets",
      "model_module_version": "3.0.6",
      "model_name": "NGLModel",
      "state": {
       "_camera_orientation": [],
       "_camera_str": "orthographic",
       "_dom_classes": [],
       "_gui_theme": null,
       "_ibtn_fullscreen": "IPY_MODEL_37b3868310d64ecdacce372977cca6de",
       "_igui": null,
       "_iplayer": "IPY_MODEL_d356e1afcfa44103837b7f7e3cdbf6c5",
       "_model_module": "nglview-js-widgets",
       "_model_module_version": "3.0.6",
       "_model_name": "NGLModel",
       "_ngl_color_dict": {},
       "_ngl_coordinate_resource": {},
       "_ngl_full_stage_parameters": {},
       "_ngl_msg_archive": [
        {
         "args": [
          {
           "binary": false,
           "data": "HETATM    1  C1  UNL     1      -3.207   0.773  -0.164  1.00  0.00           C  \nHETATM    2  C2  UNL     1      -1.733   0.688   0.225  1.00  0.00           C  \nHETATM    3  C3  UNL     1      -1.294  -0.764   0.068  1.00  0.00           C  \nHETATM    4  C4  UNL     1       0.160  -0.895   0.442  1.00  0.00           C  \nHETATM    5  O1  UNL     1       0.986  -0.107  -0.357  1.00  0.00           O  \nHETATM    6  C5  UNL     1       2.299  -0.317   0.089  1.00  0.00           C  \nHETATM    7  C6  UNL     1       3.309   0.466  -0.677  1.00  0.00           C  \nHETATM    8  H1  UNL     1      -3.569  -0.198  -0.539  1.00  0.00           H  \nHETATM    9  H2  UNL     1      -3.365   1.570  -0.943  1.00  0.00           H  \nHETATM   10  H3  UNL     1      -3.828   1.072   0.725  1.00  0.00           H  \nHETATM   11  H4  UNL     1      -1.646   0.964   1.298  1.00  0.00           H  \nHETATM   12  H5  UNL     1      -1.161   1.367  -0.436  1.00  0.00           H  \nHETATM   13  H6  UNL     1      -1.869  -1.333   0.841  1.00  0.00           H  \nHETATM   14  H7  UNL     1      -1.503  -1.132  -0.938  1.00  0.00           H  \nHETATM   15  H8  UNL     1       0.307  -0.702   1.506  1.00  0.00           H  \nHETATM   16  H9  UNL     1       0.455  -1.956   0.231  1.00  0.00           H  \nHETATM   17  H10 UNL     1       2.476  -1.419  -0.033  1.00  0.00           H  \nHETATM   18  H11 UNL     1       2.322  -0.092   1.161  1.00  0.00           H  \nHETATM   19  H12 UNL     1       3.680   1.329  -0.056  1.00  0.00           H  \nHETATM   20  H13 UNL     1       4.223  -0.183  -0.810  1.00  0.00           H  \nHETATM   21  H14 UNL     1       2.957   0.868  -1.633  1.00  0.00           H  \nCONECT    1    2    8    9   10\nCONECT    2    3   11   12\nCONECT    3    4   13   14\nCONECT    4    5   15   16\nCONECT    5    6\nCONECT    6    7   17   18\nCONECT    7   19   20   21\n",
           "type": "blob"
          }
         ],
         "kwargs": {
          "defaultRepresentation": true,
          "ext": "pdb",
          "name": "<openff.toolkit.utils.viz._OFFTrajectoryNGLView object at 0x7f10e852f730>"
         },
         "methodName": "loadFile",
         "reconstruc_color_scheme": false,
         "target": "Stage",
         "type": "call_method"
        }
       ],
       "_ngl_original_stage_parameters": {},
       "_ngl_repr_dict": {},
       "_ngl_serialize": false,
       "_ngl_version": "",
       "_ngl_view_id": [],
       "_player_dict": {},
       "_scene_position": {},
       "_scene_rotation": {},
       "_synced_model_ids": [],
       "_synced_repr_model_ids": [],
       "_view_count": null,
       "_view_height": "",
       "_view_module": "nglview-js-widgets",
       "_view_module_version": "3.0.6",
       "_view_name": "NGLView",
       "_view_width": "",
       "background": "white",
       "frame": 0,
       "gui_style": null,
       "layout": "IPY_MODEL_ca89f0d931c44c3f95cd683df56e3ddc",
       "max_frame": 0,
       "n_components": 0,
       "picked": {},
       "tabbable": null,
       "tooltip": null
      }
     },
     "16ded7049cb54a08a980ce3bba4987d2": {
      "model_module": "@jupyter-widgets/base",
      "model_module_version": "2.0.0",
      "model_name": "LayoutModel",
      "state": {
       "_model_module": "@jupyter-widgets/base",
       "_model_module_version": "2.0.0",
       "_model_name": "LayoutModel",
       "_view_count": null,
       "_view_module": "@jupyter-widgets/base",
       "_view_module_version": "2.0.0",
       "_view_name": "LayoutView",
       "align_content": null,
       "align_items": null,
       "align_self": null,
       "border_bottom": null,
       "border_left": null,
       "border_right": null,
       "border_top": null,
       "bottom": null,
       "display": null,
       "flex": null,
       "flex_flow": null,
       "grid_area": null,
       "grid_auto_columns": null,
       "grid_auto_flow": null,
       "grid_auto_rows": null,
       "grid_column": null,
       "grid_gap": null,
       "grid_row": null,
       "grid_template_areas": null,
       "grid_template_columns": null,
       "grid_template_rows": null,
       "height": null,
       "justify_content": null,
       "justify_items": null,
       "left": null,
       "margin": null,
       "max_height": null,
       "max_width": null,
       "min_height": null,
       "min_width": null,
       "object_fit": null,
       "object_position": null,
       "order": null,
       "overflow": null,
       "padding": null,
       "right": null,
       "top": null,
       "visibility": null,
       "width": null
      }
     },
     "1f5b80de22b1433c9965d5567b133713": {
      "model_module": "nglview-js-widgets",
      "model_module_version": "3.0.6",
      "model_name": "ColormakerRegistryModel",
      "state": {
       "_dom_classes": [],
       "_model_module": "nglview-js-widgets",
       "_model_module_version": "3.0.6",
       "_model_name": "ColormakerRegistryModel",
       "_msg_ar": [],
       "_msg_q": [],
       "_ready": false,
       "_view_count": null,
       "_view_module": "nglview-js-widgets",
       "_view_module_version": "3.0.6",
       "_view_name": "ColormakerRegistryView",
       "layout": "IPY_MODEL_f9aca4adbf1549e48adee7ed4c6f6fcf",
       "tabbable": null,
       "tooltip": null
      }
     },
     "3112050e82d34c34981b34ba3ede17bd": {
      "model_module": "@jupyter-widgets/base",
      "model_module_version": "2.0.0",
      "model_name": "LayoutModel",
      "state": {
       "_model_module": "@jupyter-widgets/base",
       "_model_module_version": "2.0.0",
       "_model_name": "LayoutModel",
       "_view_count": null,
       "_view_module": "@jupyter-widgets/base",
       "_view_module_version": "2.0.0",
       "_view_name": "LayoutView",
       "align_content": null,
       "align_items": null,
       "align_self": null,
       "border_bottom": null,
       "border_left": null,
       "border_right": null,
       "border_top": null,
       "bottom": null,
       "display": null,
       "flex": null,
       "flex_flow": null,
       "grid_area": null,
       "grid_auto_columns": null,
       "grid_auto_flow": null,
       "grid_auto_rows": null,
       "grid_column": null,
       "grid_gap": null,
       "grid_row": null,
       "grid_template_areas": null,
       "grid_template_columns": null,
       "grid_template_rows": null,
       "height": null,
       "justify_content": null,
       "justify_items": null,
       "left": null,
       "margin": null,
       "max_height": null,
       "max_width": null,
       "min_height": null,
       "min_width": null,
       "object_fit": null,
       "object_position": null,
       "order": null,
       "overflow": null,
       "padding": null,
       "right": null,
       "top": null,
       "visibility": null,
       "width": null
      }
     },
     "366c9d82e9cf421eb1d18022e2c524f9": {
      "model_module": "@jupyter-widgets/base",
      "model_module_version": "2.0.0",
      "model_name": "LayoutModel",
      "state": {
       "_model_module": "@jupyter-widgets/base",
       "_model_module_version": "2.0.0",
       "_model_name": "LayoutModel",
       "_view_count": null,
       "_view_module": "@jupyter-widgets/base",
       "_view_module_version": "2.0.0",
       "_view_name": "LayoutView",
       "align_content": null,
       "align_items": null,
       "align_self": null,
       "border_bottom": null,
       "border_left": null,
       "border_right": null,
       "border_top": null,
       "bottom": null,
       "display": null,
       "flex": null,
       "flex_flow": null,
       "grid_area": null,
       "grid_auto_columns": null,
       "grid_auto_flow": null,
       "grid_auto_rows": null,
       "grid_column": null,
       "grid_gap": null,
       "grid_row": null,
       "grid_template_areas": null,
       "grid_template_columns": null,
       "grid_template_rows": null,
       "height": null,
       "justify_content": null,
       "justify_items": null,
       "left": null,
       "margin": null,
       "max_height": null,
       "max_width": null,
       "min_height": null,
       "min_width": null,
       "object_fit": null,
       "object_position": null,
       "order": null,
       "overflow": null,
       "padding": null,
       "right": null,
       "top": null,
       "visibility": null,
       "width": null
      }
     },
     "37b3868310d64ecdacce372977cca6de": {
      "model_module": "@jupyter-widgets/controls",
      "model_module_version": "2.0.0",
      "model_name": "ButtonModel",
      "state": {
       "_dom_classes": [],
       "_model_module": "@jupyter-widgets/controls",
       "_model_module_version": "2.0.0",
       "_model_name": "ButtonModel",
       "_view_count": null,
       "_view_module": "@jupyter-widgets/controls",
       "_view_module_version": "2.0.0",
       "_view_name": "ButtonView",
       "button_style": "",
       "description": "",
       "disabled": false,
       "icon": "compress",
       "layout": "IPY_MODEL_9612d44d04ac423d92bf209f4212cd68",
       "style": "IPY_MODEL_a311eb58823441f086a00af39a3e502b",
       "tabbable": null,
       "tooltip": null
      }
     },
     "4049384c0cca425a979c57e35f72ea44": {
      "model_module": "@jupyter-widgets/base",
      "model_module_version": "2.0.0",
      "model_name": "LayoutModel",
      "state": {
       "_model_module": "@jupyter-widgets/base",
       "_model_module_version": "2.0.0",
       "_model_name": "LayoutModel",
       "_view_count": null,
       "_view_module": "@jupyter-widgets/base",
       "_view_module_version": "2.0.0",
       "_view_name": "LayoutView",
       "align_content": null,
       "align_items": null,
       "align_self": null,
       "border_bottom": null,
       "border_left": null,
       "border_right": null,
       "border_top": null,
       "bottom": null,
       "display": null,
       "flex": null,
       "flex_flow": null,
       "grid_area": null,
       "grid_auto_columns": null,
       "grid_auto_flow": null,
       "grid_auto_rows": null,
       "grid_column": null,
       "grid_gap": null,
       "grid_row": null,
       "grid_template_areas": null,
       "grid_template_columns": null,
       "grid_template_rows": null,
       "height": null,
       "justify_content": null,
       "justify_items": null,
       "left": null,
       "margin": null,
       "max_height": null,
       "max_width": null,
       "min_height": null,
       "min_width": null,
       "object_fit": null,
       "object_position": null,
       "order": null,
       "overflow": null,
       "padding": null,
       "right": null,
       "top": null,
       "visibility": null,
       "width": null
      }
     },
     "4687829f4a8340f18263e1311d38839e": {
      "model_module": "@jupyter-widgets/controls",
      "model_module_version": "2.0.0",
      "model_name": "LinkModel",
      "state": {
       "_model_module": "@jupyter-widgets/controls",
       "_model_module_version": "2.0.0",
       "_model_name": "LinkModel",
       "_view_count": null,
       "_view_module": "@jupyter-widgets/controls",
       "_view_module_version": "2.0.0",
       "_view_name": null,
       "source": [
        "IPY_MODEL_eaa314ae0d9b4a28a6ecd649a754243b",
        "value"
       ],
       "target": [
        "IPY_MODEL_0f30d92cf0074301b6803027bae39892",
        "value"
       ]
      }
     },
     "494792b87aeb4e8984df11169fd3d925": {
      "model_module": "@jupyter-widgets/controls",
      "model_module_version": "2.0.0",
      "model_name": "IntSliderModel",
      "state": {
       "_dom_classes": [],
       "_model_module": "@jupyter-widgets/controls",
       "_model_module_version": "2.0.0",
       "_model_name": "IntSliderModel",
       "_view_count": null,
       "_view_module": "@jupyter-widgets/controls",
       "_view_module_version": "2.0.0",
       "_view_name": "IntSliderView",
       "behavior": "drag-tap",
       "continuous_update": true,
       "description": "",
       "description_allow_html": false,
       "disabled": false,
       "layout": "IPY_MODEL_c0996f1a6bfa4d6e96bb81088225bfb2",
       "max": 0,
       "min": 0,
       "orientation": "horizontal",
       "readout": true,
       "readout_format": "d",
       "step": 1,
       "style": "IPY_MODEL_f74e0d92df8f4349898194ad1ca56f0e",
       "tabbable": null,
       "tooltip": null,
       "value": 0
      }
     },
     "501ebebb58224386915a7cff2941c97b": {
      "model_module": "@jupyter-widgets/controls",
      "model_module_version": "2.0.0",
      "model_name": "LinkModel",
      "state": {
       "_model_module": "@jupyter-widgets/controls",
       "_model_module_version": "2.0.0",
       "_model_name": "LinkModel",
       "_view_count": null,
       "_view_module": "@jupyter-widgets/controls",
       "_view_module_version": "2.0.0",
       "_view_name": null,
       "source": [
        "IPY_MODEL_e2470b3f582446d590a241172bc3efb4",
        "value"
       ],
       "target": [
        "IPY_MODEL_a4f01e72dbec4d08af2cd2cd6660d739",
        "frame"
       ]
      }
     },
     "51c8606ceff745e1bdef7f674026ae51": {
      "model_module": "@jupyter-widgets/controls",
      "model_module_version": "2.0.0",
      "model_name": "LinkModel",
      "state": {
       "_model_module": "@jupyter-widgets/controls",
       "_model_module_version": "2.0.0",
       "_model_name": "LinkModel",
       "_view_count": null,
       "_view_module": "@jupyter-widgets/controls",
       "_view_module_version": "2.0.0",
       "_view_name": null,
       "source": [
        "IPY_MODEL_494792b87aeb4e8984df11169fd3d925",
        "max"
       ],
       "target": [
        "IPY_MODEL_a4f01e72dbec4d08af2cd2cd6660d739",
        "max_frame"
       ]
      }
     },
     "57d94a47151446409946307dc0b98522": {
      "buffers": [
       {
        "data": "",
        "encoding": "base64",
        "path": [
         "value"
        ]
       }
      ],
      "model_module": "@jupyter-widgets/controls",
      "model_module_version": "2.0.0",
      "model_name": "ImageModel",
      "state": {
       "_dom_classes": [],
       "_model_module": "@jupyter-widgets/controls",
       "_model_module_version": "2.0.0",
       "_model_name": "ImageModel",
       "_view_count": null,
       "_view_module": "@jupyter-widgets/controls",
       "_view_module_version": "2.0.0",
       "_view_name": "ImageView",
       "format": "png",
       "height": "",
       "layout": "IPY_MODEL_c906b9ce15ff409f9c891994e80561c6",
       "tabbable": null,
       "tooltip": null,
       "width": "900.0"
      }
     },
     "5eebe43bde834a07975753d01f8bcc32": {
      "model_module": "@jupyter-widgets/controls",
      "model_module_version": "2.0.0",
      "model_name": "HBoxModel",
      "state": {
       "_dom_classes": [],
       "_model_module": "@jupyter-widgets/controls",
       "_model_module_version": "2.0.0",
       "_model_name": "HBoxModel",
       "_view_count": null,
       "_view_module": "@jupyter-widgets/controls",
       "_view_module_version": "2.0.0",
       "_view_name": "HBoxView",
       "box_style": "",
       "children": [
        "IPY_MODEL_e2470b3f582446d590a241172bc3efb4",
        "IPY_MODEL_494792b87aeb4e8984df11169fd3d925"
       ],
       "layout": "IPY_MODEL_3112050e82d34c34981b34ba3ede17bd",
       "tabbable": null,
       "tooltip": null
      }
     },
     "6adcc623c5024f27b104048632808788": {
      "model_module": "@jupyter-widgets/controls",
      "model_module_version": "2.0.0",
      "model_name": "DescriptionStyleModel",
      "state": {
       "_model_module": "@jupyter-widgets/controls",
       "_model_module_version": "2.0.0",
       "_model_name": "DescriptionStyleModel",
       "_view_count": null,
       "_view_module": "@jupyter-widgets/base",
       "_view_module_version": "2.0.0",
       "_view_name": "StyleView",
       "description_width": ""
      }
     },
     "9612d44d04ac423d92bf209f4212cd68": {
      "model_module": "@jupyter-widgets/base",
      "model_module_version": "2.0.0",
      "model_name": "LayoutModel",
      "state": {
       "_model_module": "@jupyter-widgets/base",
       "_model_module_version": "2.0.0",
       "_model_name": "LayoutModel",
       "_view_count": null,
       "_view_module": "@jupyter-widgets/base",
       "_view_module_version": "2.0.0",
       "_view_name": "LayoutView",
       "align_content": null,
       "align_items": null,
       "align_self": null,
       "border_bottom": null,
       "border_left": null,
       "border_right": null,
       "border_top": null,
       "bottom": null,
       "display": null,
       "flex": null,
       "flex_flow": null,
       "grid_area": null,
       "grid_auto_columns": null,
       "grid_auto_flow": null,
       "grid_auto_rows": null,
       "grid_column": null,
       "grid_gap": null,
       "grid_row": null,
       "grid_template_areas": null,
       "grid_template_columns": null,
       "grid_template_rows": null,
       "height": null,
       "justify_content": null,
       "justify_items": null,
       "left": null,
       "margin": null,
       "max_height": null,
       "max_width": null,
       "min_height": null,
       "min_width": null,
       "object_fit": null,
       "object_position": null,
       "order": null,
       "overflow": null,
       "padding": null,
       "right": null,
       "top": null,
       "visibility": null,
       "width": "34px"
      }
     },
     "98825195cedb49fcb58380809768d4d1": {
      "model_module": "@jupyter-widgets/base",
      "model_module_version": "2.0.0",
      "model_name": "LayoutModel",
      "state": {
       "_model_module": "@jupyter-widgets/base",
       "_model_module_version": "2.0.0",
       "_model_name": "LayoutModel",
       "_view_count": null,
       "_view_module": "@jupyter-widgets/base",
       "_view_module_version": "2.0.0",
       "_view_name": "LayoutView",
       "align_content": null,
       "align_items": null,
       "align_self": null,
       "border_bottom": null,
       "border_left": null,
       "border_right": null,
       "border_top": null,
       "bottom": null,
       "display": null,
       "flex": null,
       "flex_flow": null,
       "grid_area": null,
       "grid_auto_columns": null,
       "grid_auto_flow": null,
       "grid_auto_rows": null,
       "grid_column": null,
       "grid_gap": null,
       "grid_row": null,
       "grid_template_areas": null,
       "grid_template_columns": null,
       "grid_template_rows": null,
       "height": null,
       "justify_content": null,
       "justify_items": null,
       "left": null,
       "margin": null,
       "max_height": null,
       "max_width": null,
       "min_height": null,
       "min_width": null,
       "object_fit": null,
       "object_position": null,
       "order": null,
       "overflow": null,
       "padding": null,
       "right": null,
       "top": null,
       "visibility": null,
       "width": null
      }
     },
     "9c0c165745e942e08c87e7a5630286bc": {
      "model_module": "@jupyter-widgets/controls",
      "model_module_version": "2.0.0",
      "model_name": "LinkModel",
      "state": {
       "_model_module": "@jupyter-widgets/controls",
       "_model_module_version": "2.0.0",
       "_model_name": "LinkModel",
       "_view_count": null,
       "_view_module": "@jupyter-widgets/controls",
       "_view_module_version": "2.0.0",
       "_view_name": null,
       "source": [
        "IPY_MODEL_e2470b3f582446d590a241172bc3efb4",
        "value"
       ],
       "target": [
        "IPY_MODEL_494792b87aeb4e8984df11169fd3d925",
        "value"
       ]
      }
     },
     "a311eb58823441f086a00af39a3e502b": {
      "model_module": "@jupyter-widgets/controls",
      "model_module_version": "2.0.0",
      "model_name": "ButtonStyleModel",
      "state": {
       "_model_module": "@jupyter-widgets/controls",
       "_model_module_version": "2.0.0",
       "_model_name": "ButtonStyleModel",
       "_view_count": null,
       "_view_module": "@jupyter-widgets/base",
       "_view_module_version": "2.0.0",
       "_view_name": "StyleView",
       "button_color": null,
       "font_family": null,
       "font_size": null,
       "font_style": null,
       "font_variant": null,
       "font_weight": null,
       "text_color": null,
       "text_decoration": null
      }
     },
     "a4f01e72dbec4d08af2cd2cd6660d739": {
      "model_module": "nglview-js-widgets",
      "model_module_version": "3.0.6",
      "model_name": "NGLModel",
      "state": {
       "_camera_orientation": [],
       "_camera_str": "orthographic",
       "_dom_classes": [],
       "_gui_theme": null,
       "_ibtn_fullscreen": "IPY_MODEL_e1c401bc2e16426e985238a8c9212a9d",
       "_igui": null,
       "_iplayer": "IPY_MODEL_5eebe43bde834a07975753d01f8bcc32",
       "_model_module": "nglview-js-widgets",
       "_model_module_version": "3.0.6",
       "_model_name": "NGLModel",
       "_ngl_color_dict": {},
       "_ngl_coordinate_resource": {},
       "_ngl_full_stage_parameters": {},
       "_ngl_msg_archive": [
        {
         "args": [
          {
           "binary": false,
           "data": "HETATM    1  C1  UNL     1      -1.198   0.652  -0.126  1.00  0.00           C  \nHETATM    2  C2  UNL     1      -1.174  -0.720   0.023  1.00  0.00           C  \nHETATM    3  C3  UNL     1       0.033  -1.361   0.148  1.00  0.00           C  \nHETATM    4  C4  UNL     1       1.213  -0.639   0.126  1.00  0.00           C  \nHETATM    5  C5  UNL     1       1.164   0.722  -0.024  1.00  0.00           C  \nHETATM    6  C6  UNL     1      -0.022   1.400  -0.152  1.00  0.00           C  \nHETATM    7  H1  UNL     1      -2.176   1.111  -0.221  1.00  0.00           H  \nHETATM    8  H2  UNL     1      -2.119  -1.274   0.039  1.00  0.00           H  \nHETATM    9  H3  UNL     1       0.050  -2.431   0.264  1.00  0.00           H  \nHETATM   10  H4  UNL     1       2.152  -1.167   0.226  1.00  0.00           H  \nHETATM   11  H5  UNL     1       2.129   1.240  -0.034  1.00  0.00           H  \nHETATM   12  H6  UNL     1      -0.052   2.468  -0.268  1.00  0.00           H  \nCONECT    1    2    2    6    7\nCONECT    2    3    8\nCONECT    3    4    4    9\nCONECT    4    5   10\nCONECT    5    6    6   11\nCONECT    6   12\n",
           "type": "blob"
          }
         ],
         "kwargs": {
          "defaultRepresentation": true,
          "ext": "pdb",
          "name": "<openff.toolkit.utils.viz._OFFTrajectoryNGLView object at 0x7f10ae45cb50>"
         },
         "methodName": "loadFile",
         "reconstruc_color_scheme": false,
         "target": "Stage",
         "type": "call_method"
        }
       ],
       "_ngl_original_stage_parameters": {},
       "_ngl_repr_dict": {},
       "_ngl_serialize": false,
       "_ngl_version": "",
       "_ngl_view_id": [],
       "_player_dict": {},
       "_scene_position": {},
       "_scene_rotation": {},
       "_synced_model_ids": [],
       "_synced_repr_model_ids": [],
       "_view_count": null,
       "_view_height": "",
       "_view_module": "nglview-js-widgets",
       "_view_module_version": "3.0.6",
       "_view_name": "NGLView",
       "_view_width": "",
       "background": "white",
       "frame": 0,
       "gui_style": null,
       "layout": "IPY_MODEL_dbae7ebce15a46f490093c9eac640cfa",
       "max_frame": 0,
       "n_components": 0,
       "picked": {},
       "tabbable": null,
       "tooltip": null
      }
     },
     "ad2d3e588cf248139e4ef4528ad7f24d": {
      "model_module": "@jupyter-widgets/controls",
      "model_module_version": "2.0.0",
      "model_name": "DescriptionStyleModel",
      "state": {
       "_model_module": "@jupyter-widgets/controls",
       "_model_module_version": "2.0.0",
       "_model_name": "DescriptionStyleModel",
       "_view_count": null,
       "_view_module": "@jupyter-widgets/base",
       "_view_module_version": "2.0.0",
       "_view_name": "StyleView",
       "description_width": ""
      }
     },
     "ba2b308589b94b2f815392d08978b188": {
      "buffers": [
       {
        "data": "",
        "encoding": "base64",
        "path": [
         "value"
        ]
       }
      ],
      "model_module": "@jupyter-widgets/controls",
      "model_module_version": "2.0.0",
      "model_name": "ImageModel",
      "state": {
       "_dom_classes": [],
       "_model_module": "@jupyter-widgets/controls",
       "_model_module_version": "2.0.0",
       "_model_name": "ImageModel",
       "_view_count": null,
       "_view_module": "@jupyter-widgets/controls",
       "_view_module_version": "2.0.0",
       "_view_name": "ImageView",
       "format": "png",
       "height": "",
       "layout": "IPY_MODEL_16ded7049cb54a08a980ce3bba4987d2",
       "tabbable": null,
       "tooltip": null,
       "width": "900.0"
      }
     },
     "bb7ff4afe83d4d139b7eec29021f76e3": {
      "model_module": "@jupyter-widgets/controls",
      "model_module_version": "2.0.0",
      "model_name": "LinkModel",
      "state": {
       "_model_module": "@jupyter-widgets/controls",
       "_model_module_version": "2.0.0",
       "_model_name": "LinkModel",
       "_view_count": null,
       "_view_module": "@jupyter-widgets/controls",
       "_view_module_version": "2.0.0",
       "_view_name": null,
       "source": [
        "IPY_MODEL_e2470b3f582446d590a241172bc3efb4",
        "max"
       ],
       "target": [
        "IPY_MODEL_a4f01e72dbec4d08af2cd2cd6660d739",
        "max_frame"
       ]
      }
     },
     "be6930ef4c33450f83fc0edef3c79c33": {
      "model_module": "@jupyter-widgets/controls",
      "model_module_version": "2.0.0",
      "model_name": "LinkModel",
      "state": {
       "_model_module": "@jupyter-widgets/controls",
       "_model_module_version": "2.0.0",
       "_model_name": "LinkModel",
       "_view_count": null,
       "_view_module": "@jupyter-widgets/controls",
       "_view_module_version": "2.0.0",
       "_view_name": null,
       "source": [
        "IPY_MODEL_0f30d92cf0074301b6803027bae39892",
        "max"
       ],
       "target": [
        "IPY_MODEL_10c7d74f6c2b4132b6fb7b1f0ad875fd",
        "max_frame"
       ]
      }
     },
     "c0996f1a6bfa4d6e96bb81088225bfb2": {
      "model_module": "@jupyter-widgets/base",
      "model_module_version": "2.0.0",
      "model_name": "LayoutModel",
      "state": {
       "_model_module": "@jupyter-widgets/base",
       "_model_module_version": "2.0.0",
       "_model_name": "LayoutModel",
       "_view_count": null,
       "_view_module": "@jupyter-widgets/base",
       "_view_module_version": "2.0.0",
       "_view_name": "LayoutView",
       "align_content": null,
       "align_items": null,
       "align_self": null,
       "border_bottom": null,
       "border_left": null,
       "border_right": null,
       "border_top": null,
       "bottom": null,
       "display": null,
       "flex": null,
       "flex_flow": null,
       "grid_area": null,
       "grid_auto_columns": null,
       "grid_auto_flow": null,
       "grid_auto_rows": null,
       "grid_column": null,
       "grid_gap": null,
       "grid_row": null,
       "grid_template_areas": null,
       "grid_template_columns": null,
       "grid_template_rows": null,
       "height": null,
       "justify_content": null,
       "justify_items": null,
       "left": null,
       "margin": null,
       "max_height": null,
       "max_width": null,
       "min_height": null,
       "min_width": null,
       "object_fit": null,
       "object_position": null,
       "order": null,
       "overflow": null,
       "padding": null,
       "right": null,
       "top": null,
       "visibility": null,
       "width": null
      }
     },
     "c859c47b74d74b3b835e09fb2f2681cc": {
      "model_module": "@jupyter-widgets/base",
      "model_module_version": "2.0.0",
      "model_name": "LayoutModel",
      "state": {
       "_model_module": "@jupyter-widgets/base",
       "_model_module_version": "2.0.0",
       "_model_name": "LayoutModel",
       "_view_count": null,
       "_view_module": "@jupyter-widgets/base",
       "_view_module_version": "2.0.0",
       "_view_name": "LayoutView",
       "align_content": null,
       "align_items": null,
       "align_self": null,
       "border_bottom": null,
       "border_left": null,
       "border_right": null,
       "border_top": null,
       "bottom": null,
       "display": null,
       "flex": null,
       "flex_flow": null,
       "grid_area": null,
       "grid_auto_columns": null,
       "grid_auto_flow": null,
       "grid_auto_rows": null,
       "grid_column": null,
       "grid_gap": null,
       "grid_row": null,
       "grid_template_areas": null,
       "grid_template_columns": null,
       "grid_template_rows": null,
       "height": null,
       "justify_content": null,
       "justify_items": null,
       "left": null,
       "margin": null,
       "max_height": null,
       "max_width": null,
       "min_height": null,
       "min_width": null,
       "object_fit": null,
       "object_position": null,
       "order": null,
       "overflow": null,
       "padding": null,
       "right": null,
       "top": null,
       "visibility": null,
       "width": "34px"
      }
     },
     "c906b9ce15ff409f9c891994e80561c6": {
      "model_module": "@jupyter-widgets/base",
      "model_module_version": "2.0.0",
      "model_name": "LayoutModel",
      "state": {
       "_model_module": "@jupyter-widgets/base",
       "_model_module_version": "2.0.0",
       "_model_name": "LayoutModel",
       "_view_count": null,
       "_view_module": "@jupyter-widgets/base",
       "_view_module_version": "2.0.0",
       "_view_name": "LayoutView",
       "align_content": null,
       "align_items": null,
       "align_self": null,
       "border_bottom": null,
       "border_left": null,
       "border_right": null,
       "border_top": null,
       "bottom": null,
       "display": null,
       "flex": null,
       "flex_flow": null,
       "grid_area": null,
       "grid_auto_columns": null,
       "grid_auto_flow": null,
       "grid_auto_rows": null,
       "grid_column": null,
       "grid_gap": null,
       "grid_row": null,
       "grid_template_areas": null,
       "grid_template_columns": null,
       "grid_template_rows": null,
       "height": null,
       "justify_content": null,
       "justify_items": null,
       "left": null,
       "margin": null,
       "max_height": null,
       "max_width": null,
       "min_height": null,
       "min_width": null,
       "object_fit": null,
       "object_position": null,
       "order": null,
       "overflow": null,
       "padding": null,
       "right": null,
       "top": null,
       "visibility": null,
       "width": null
      }
     },
     "ca89f0d931c44c3f95cd683df56e3ddc": {
      "model_module": "@jupyter-widgets/base",
      "model_module_version": "2.0.0",
      "model_name": "LayoutModel",
      "state": {
       "_model_module": "@jupyter-widgets/base",
       "_model_module_version": "2.0.0",
       "_model_name": "LayoutModel",
       "_view_count": null,
       "_view_module": "@jupyter-widgets/base",
       "_view_module_version": "2.0.0",
       "_view_name": "LayoutView",
       "align_content": null,
       "align_items": null,
       "align_self": null,
       "border_bottom": null,
       "border_left": null,
       "border_right": null,
       "border_top": null,
       "bottom": null,
       "display": null,
       "flex": null,
       "flex_flow": null,
       "grid_area": null,
       "grid_auto_columns": null,
       "grid_auto_flow": null,
       "grid_auto_rows": null,
       "grid_column": null,
       "grid_gap": null,
       "grid_row": null,
       "grid_template_areas": null,
       "grid_template_columns": null,
       "grid_template_rows": null,
       "height": null,
       "justify_content": null,
       "justify_items": null,
       "left": null,
       "margin": null,
       "max_height": null,
       "max_width": null,
       "min_height": null,
       "min_width": null,
       "object_fit": null,
       "object_position": null,
       "order": null,
       "overflow": null,
       "padding": null,
       "right": null,
       "top": null,
       "visibility": null,
       "width": null
      }
     },
     "ce24a48122964a44aeef97cdc7487d1e": {
      "model_module": "@jupyter-widgets/controls",
      "model_module_version": "2.0.0",
      "model_name": "LinkModel",
      "state": {
       "_model_module": "@jupyter-widgets/controls",
       "_model_module_version": "2.0.0",
       "_model_name": "LinkModel",
       "_view_count": null,
       "_view_module": "@jupyter-widgets/controls",
       "_view_module_version": "2.0.0",
       "_view_name": null,
       "source": [
        "IPY_MODEL_eaa314ae0d9b4a28a6ecd649a754243b",
        "max"
       ],
       "target": [
        "IPY_MODEL_10c7d74f6c2b4132b6fb7b1f0ad875fd",
        "max_frame"
       ]
      }
     },
     "d356e1afcfa44103837b7f7e3cdbf6c5": {
      "model_module": "@jupyter-widgets/controls",
      "model_module_version": "2.0.0",
      "model_name": "HBoxModel",
      "state": {
       "_dom_classes": [],
       "_model_module": "@jupyter-widgets/controls",
       "_model_module_version": "2.0.0",
       "_model_name": "HBoxModel",
       "_view_count": null,
       "_view_module": "@jupyter-widgets/controls",
       "_view_module_version": "2.0.0",
       "_view_name": "HBoxView",
       "box_style": "",
       "children": [
        "IPY_MODEL_eaa314ae0d9b4a28a6ecd649a754243b",
        "IPY_MODEL_0f30d92cf0074301b6803027bae39892"
       ],
       "layout": "IPY_MODEL_0155c0655787488a8910831d8191992c",
       "tabbable": null,
       "tooltip": null
      }
     },
     "dbae7ebce15a46f490093c9eac640cfa": {
      "model_module": "@jupyter-widgets/base",
      "model_module_version": "2.0.0",
      "model_name": "LayoutModel",
      "state": {
       "_model_module": "@jupyter-widgets/base",
       "_model_module_version": "2.0.0",
       "_model_name": "LayoutModel",
       "_view_count": null,
       "_view_module": "@jupyter-widgets/base",
       "_view_module_version": "2.0.0",
       "_view_name": "LayoutView",
       "align_content": null,
       "align_items": null,
       "align_self": null,
       "border_bottom": null,
       "border_left": null,
       "border_right": null,
       "border_top": null,
       "bottom": null,
       "display": null,
       "flex": null,
       "flex_flow": null,
       "grid_area": null,
       "grid_auto_columns": null,
       "grid_auto_flow": null,
       "grid_auto_rows": null,
       "grid_column": null,
       "grid_gap": null,
       "grid_row": null,
       "grid_template_areas": null,
       "grid_template_columns": null,
       "grid_template_rows": null,
       "height": null,
       "justify_content": null,
       "justify_items": null,
       "left": null,
       "margin": null,
       "max_height": null,
       "max_width": null,
       "min_height": null,
       "min_width": null,
       "object_fit": null,
       "object_position": null,
       "order": null,
       "overflow": null,
       "padding": null,
       "right": null,
       "top": null,
       "visibility": null,
       "width": null
      }
     },
     "e1c401bc2e16426e985238a8c9212a9d": {
      "model_module": "@jupyter-widgets/controls",
      "model_module_version": "2.0.0",
      "model_name": "ButtonModel",
      "state": {
       "_dom_classes": [],
       "_model_module": "@jupyter-widgets/controls",
       "_model_module_version": "2.0.0",
       "_model_name": "ButtonModel",
       "_view_count": null,
       "_view_module": "@jupyter-widgets/controls",
       "_view_module_version": "2.0.0",
       "_view_name": "ButtonView",
       "button_style": "",
       "description": "",
       "disabled": false,
       "icon": "compress",
       "layout": "IPY_MODEL_c859c47b74d74b3b835e09fb2f2681cc",
       "style": "IPY_MODEL_f72440f4f25b4c649af24ae9e91ff4c2",
       "tabbable": null,
       "tooltip": null
      }
     },
     "e2470b3f582446d590a241172bc3efb4": {
      "model_module": "@jupyter-widgets/controls",
      "model_module_version": "2.0.0",
      "model_name": "PlayModel",
      "state": {
       "_dom_classes": [],
       "_model_module": "@jupyter-widgets/controls",
       "_model_module_version": "2.0.0",
       "_model_name": "PlayModel",
       "_view_count": null,
       "_view_module": "@jupyter-widgets/controls",
       "_view_module_version": "2.0.0",
       "_view_name": "PlayView",
       "description": "",
       "description_allow_html": false,
       "disabled": false,
       "interval": 100,
       "layout": "IPY_MODEL_4049384c0cca425a979c57e35f72ea44",
       "max": 0,
       "min": 0,
       "playing": false,
       "repeat": false,
       "show_repeat": true,
       "step": 1,
       "style": "IPY_MODEL_6adcc623c5024f27b104048632808788",
       "tabbable": null,
       "tooltip": null,
       "value": 0
      }
     },
     "e3132606ecb94867969bd3ac42f40a8a": {
      "model_module": "@jupyter-widgets/controls",
      "model_module_version": "2.0.0",
      "model_name": "LinkModel",
      "state": {
       "_model_module": "@jupyter-widgets/controls",
       "_model_module_version": "2.0.0",
       "_model_name": "LinkModel",
       "_view_count": null,
       "_view_module": "@jupyter-widgets/controls",
       "_view_module_version": "2.0.0",
       "_view_name": null,
       "source": [
        "IPY_MODEL_eaa314ae0d9b4a28a6ecd649a754243b",
        "value"
       ],
       "target": [
        "IPY_MODEL_10c7d74f6c2b4132b6fb7b1f0ad875fd",
        "frame"
       ]
      }
     },
     "eaa314ae0d9b4a28a6ecd649a754243b": {
      "model_module": "@jupyter-widgets/controls",
      "model_module_version": "2.0.0",
      "model_name": "PlayModel",
      "state": {
       "_dom_classes": [],
       "_model_module": "@jupyter-widgets/controls",
       "_model_module_version": "2.0.0",
       "_model_name": "PlayModel",
       "_view_count": null,
       "_view_module": "@jupyter-widgets/controls",
       "_view_module_version": "2.0.0",
       "_view_name": "PlayView",
       "description": "",
       "description_allow_html": false,
       "disabled": false,
       "interval": 100,
       "layout": "IPY_MODEL_366c9d82e9cf421eb1d18022e2c524f9",
       "max": 0,
       "min": 0,
       "playing": false,
       "repeat": false,
       "show_repeat": true,
       "step": 1,
       "style": "IPY_MODEL_ad2d3e588cf248139e4ef4528ad7f24d",
       "tabbable": null,
       "tooltip": null,
       "value": 0
      }
     },
     "f72440f4f25b4c649af24ae9e91ff4c2": {
      "model_module": "@jupyter-widgets/controls",
      "model_module_version": "2.0.0",
      "model_name": "ButtonStyleModel",
      "state": {
       "_model_module": "@jupyter-widgets/controls",
       "_model_module_version": "2.0.0",
       "_model_name": "ButtonStyleModel",
       "_view_count": null,
       "_view_module": "@jupyter-widgets/base",
       "_view_module_version": "2.0.0",
       "_view_name": "StyleView",
       "button_color": null,
       "font_family": null,
       "font_size": null,
       "font_style": null,
       "font_variant": null,
       "font_weight": null,
       "text_color": null,
       "text_decoration": null
      }
     },
     "f74e0d92df8f4349898194ad1ca56f0e": {
      "model_module": "@jupyter-widgets/controls",
      "model_module_version": "2.0.0",
      "model_name": "SliderStyleModel",
      "state": {
       "_model_module": "@jupyter-widgets/controls",
       "_model_module_version": "2.0.0",
       "_model_name": "SliderStyleModel",
       "_view_count": null,
       "_view_module": "@jupyter-widgets/base",
       "_view_module_version": "2.0.0",
       "_view_name": "StyleView",
       "description_width": "",
       "handle_color": null
      }
     },
     "f9aca4adbf1549e48adee7ed4c6f6fcf": {
      "model_module": "@jupyter-widgets/base",
      "model_module_version": "2.0.0",
      "model_name": "LayoutModel",
      "state": {
       "_model_module": "@jupyter-widgets/base",
       "_model_module_version": "2.0.0",
       "_model_name": "LayoutModel",
       "_view_count": null,
       "_view_module": "@jupyter-widgets/base",
       "_view_module_version": "2.0.0",
       "_view_name": "LayoutView",
       "align_content": null,
       "align_items": null,
       "align_self": null,
       "border_bottom": null,
       "border_left": null,
       "border_right": null,
       "border_top": null,
       "bottom": null,
       "display": null,
       "flex": null,
       "flex_flow": null,
       "grid_area": null,
       "grid_auto_columns": null,
       "grid_auto_flow": null,
       "grid_auto_rows": null,
       "grid_column": null,
       "grid_gap": null,
       "grid_row": null,
       "grid_template_areas": null,
       "grid_template_columns": null,
       "grid_template_rows": null,
       "height": null,
       "justify_content": null,
       "justify_items": null,
       "left": null,
       "margin": null,
       "max_height": null,
       "max_width": null,
       "min_height": null,
       "min_width": null,
       "object_fit": null,
       "object_position": null,
       "order": null,
       "overflow": null,
       "padding": null,
       "right": null,
       "top": null,
       "visibility": null,
       "width": null
      }
     }
    },
    "version_major": 2,
    "version_minor": 0
   }
  }
 },
 "nbformat": 4,
 "nbformat_minor": 4
}
