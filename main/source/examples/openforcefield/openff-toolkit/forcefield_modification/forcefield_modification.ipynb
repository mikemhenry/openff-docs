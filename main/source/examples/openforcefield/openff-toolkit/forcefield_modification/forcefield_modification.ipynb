{
 "cells": [
  {
   "cell_type": "markdown",
   "metadata": {},
   "source": [
    "# Modifying a SMIRNOFF force field\n",
    "\n",
    "In this example, we'll parameterize a ligand automatically, and then play with its parameters to demonstrate the Toolkit's ability to facilitate force field optimization. For each modification, we'll calculate the energy for the original conformation, and then minimize the energy and visualize the result."
   ]
  },
  {
   "cell_type": "code",
   "execution_count": 1,
   "metadata": {
    "execution": {
     "iopub.execute_input": "2023-07-07T00:21:02.697067Z",
     "iopub.status.busy": "2023-07-07T00:21:02.696860Z",
     "iopub.status.idle": "2023-07-07T00:21:03.482162Z",
     "shell.execute_reply": "2023-07-07T00:21:03.481434Z"
    }
   },
   "outputs": [],
   "source": [
    "from copy import deepcopy\n",
    "\n",
    "from openff.units import unit\n",
    "from openff.units.openmm import from_openmm, to_openmm\n",
    "from openmm import LangevinIntegrator, app\n",
    "from openmm import unit as openmm_unit\n",
    "\n",
    "import openff.toolkit.typing.engines.smirnoff.parameters as offtk_parameters\n",
    "from openff.toolkit import ForceField, Molecule"
   ]
  },
  {
   "cell_type": "markdown",
   "metadata": {},
   "source": [
    "We're going to do a lot of changing a parameter and then visualising what happened, so let's define a convenience function to do just that"
   ]
  },
  {
   "cell_type": "code",
   "execution_count": 2,
   "metadata": {
    "execution": {
     "iopub.execute_input": "2023-07-07T00:21:03.485745Z",
     "iopub.status.busy": "2023-07-07T00:21:03.485230Z",
     "iopub.status.idle": "2023-07-07T00:21:03.493194Z",
     "shell.execute_reply": "2023-07-07T00:21:03.492582Z"
    }
   },
   "outputs": [],
   "source": [
    "def minimize_and_visualize(molecule, forcefield):\n",
    "    # Sort out our input data\n",
    "    mol_topology = molecule.to_topology()\n",
    "    mol_system = forcefield.create_openmm_system(\n",
    "        mol_topology,\n",
    "        charge_from_molecules=[molecule],\n",
    "    )\n",
    "\n",
    "    # Set up the minimization and point calculation\n",
    "    integrator = LangevinIntegrator(\n",
    "        300 * openmm_unit.kelvin,\n",
    "        1 / openmm_unit.picosecond,\n",
    "        0.002 * openmm_unit.picoseconds,\n",
    "    )\n",
    "    simulation = app.Simulation(mol_topology.to_openmm(), mol_system, integrator)\n",
    "    simulation.context.setPositions(to_openmm(molecule.conformers[0]))\n",
    "\n",
    "    # Get the initial energy\n",
    "    initial_potential = simulation.context.getState(getEnergy=True).getPotentialEnergy()\n",
    "\n",
    "    # Energy minimize\n",
    "    simulation.minimizeEnergy()\n",
    "    minimized_state = simulation.context.getState(getPositions=True, getEnergy=True)\n",
    "    minimized_potential = minimized_state.getPotentialEnergy()\n",
    "    minimized_coords = from_openmm(minimized_state.getPositions(asNumpy=True))\n",
    "\n",
    "    # Visualize\n",
    "    vis_mol = deepcopy(molecule)\n",
    "    vis_mol.conformers[0] = minimized_coords\n",
    "    view = vis_mol.visualize(backend=\"nglview\")\n",
    "    print(\n",
    "        f\"Initial energy is {initial_potential.format('%0.1F')};\",\n",
    "        f\"Minimized energy is {minimized_potential.format('%0.1F')}\",\n",
    "    )\n",
    "    return view"
   ]
  },
  {
   "cell_type": "markdown",
   "metadata": {},
   "source": [
    "## Getting to know you — the molecule\n",
    "\n",
    "This \"ligand\" is a modified version of the molecule we introduced in the Toolkit Showcase. It's just been altered for a slightly more exciting example here. This also lets us demonstrate constructing a `Molecule` from a SMILES string!"
   ]
  },
  {
   "cell_type": "code",
   "execution_count": 3,
   "metadata": {
    "execution": {
     "iopub.execute_input": "2023-07-07T00:21:03.496049Z",
     "iopub.status.busy": "2023-07-07T00:21:03.495781Z",
     "iopub.status.idle": "2023-07-07T00:21:04.249225Z",
     "shell.execute_reply": "2023-07-07T00:21:04.248498Z"
    },
    "tags": []
   },
   "outputs": [],
   "source": [
    "ligand_smiles = \"CC(C)(C)c1c(O)c(O)c2c(c1O)[C@H]1OCCC[C@H]1[C@H](c1cc(O)c(O)c(F)c1)N2\"\n",
    "ligand = Molecule.from_smiles(ligand_smiles)\n",
    "ligand.generate_conformers(n_conformers=1)\n",
    "force_field = ForceField(\"openff-2.0.0.offxml\")"
   ]
  },
  {
   "cell_type": "markdown",
   "metadata": {},
   "source": [
    "Computing charges is expensive, and we're going to be changing the force field a lot, so we can save time by computing them just once and caching them.\n",
    "\n",
    "\n",
    "<div class=\"alert alert-info\" style=\"max-width: 700px; margin-left: auto; margin-right: auto;\">\n",
    "    ℹ️ Note that when we call <code>create_openmm_system</code> above we pass\n",
    "    in the charges with the <code>charge_from_molecules</code> argument!\n",
    "</div>"
   ]
  },
  {
   "cell_type": "code",
   "execution_count": 4,
   "metadata": {
    "execution": {
     "iopub.execute_input": "2023-07-07T00:21:04.252591Z",
     "iopub.status.busy": "2023-07-07T00:21:04.252247Z",
     "iopub.status.idle": "2023-07-07T00:22:39.486134Z",
     "shell.execute_reply": "2023-07-07T00:22:39.485434Z"
    }
   },
   "outputs": [
    {
     "data": {
      "application/vnd.jupyter.widget-view+json": {
       "model_id": "9e4a4e0b409f4ca6928cb12f93ad72fb",
       "version_major": 2,
       "version_minor": 0
      },
      "text/plain": []
     },
     "metadata": {},
     "output_type": "display_data"
    }
   ],
   "source": [
    "ligand.partial_charges = force_field.get_partial_charges(ligand)"
   ]
  },
  {
   "cell_type": "markdown",
   "metadata": {},
   "source": [
    "### The ligand, visualised\n",
    "\n",
    "Let's take a close look at the ligand and decide what we want to modify. We'll label the atoms with their indexes so we can identify them later"
   ]
  },
  {
   "cell_type": "code",
   "execution_count": 5,
   "metadata": {
    "execution": {
     "iopub.execute_input": "2023-07-07T00:22:39.489922Z",
     "iopub.status.busy": "2023-07-07T00:22:39.489148Z",
     "iopub.status.idle": "2023-07-07T00:22:39.916561Z",
     "shell.execute_reply": "2023-07-07T00:22:39.916018Z"
    }
   },
   "outputs": [
    {
     "name": "stdout",
     "output_type": "stream",
     "text": [
      "Initial energy is 450.3 kJ/mol; Minimized energy is 136.2 kJ/mol\n"
     ]
    },
    {
     "data": {
      "application/vnd.jupyter.widget-view+json": {
       "model_id": "fa5df015a66740e2a173e05976aa2831",
       "version_major": 2,
       "version_minor": 0
      },
      "text/plain": [
       "NGLWidget()"
      ]
     },
     "metadata": {},
     "output_type": "display_data"
    }
   ],
   "source": [
    "view = minimize_and_visualize(ligand, force_field)\n",
    "view.add_label(label_type=\"atomindex\", color=\"black\", attachment=\"middle-center\")\n",
    "view"
   ]
  },
  {
   "cell_type": "markdown",
   "metadata": {},
   "source": [
    "## Getting to know all about you — Investigating assigned parameters\n",
    "\n",
    "Let's start with something simple — lengthening the bond to the fluorine. We can use `ForceField.label_molecules` to identify the appropriate parameters:"
   ]
  },
  {
   "cell_type": "code",
   "execution_count": 6,
   "metadata": {
    "execution": {
     "iopub.execute_input": "2023-07-07T00:22:39.919222Z",
     "iopub.status.busy": "2023-07-07T00:22:39.919003Z",
     "iopub.status.idle": "2023-07-07T00:22:40.065979Z",
     "shell.execute_reply": "2023-07-07T00:22:40.065221Z"
    }
   },
   "outputs": [
    {
     "data": {
      "text/plain": [
       "[{'Constraints': <openff.toolkit.topology.topology.ValenceDict at 0x7fe6e230bfd0>,\n",
       "  'Bonds': <openff.toolkit.topology.topology.ValenceDict at 0x7fe6e22b9480>,\n",
       "  'Angles': <openff.toolkit.topology.topology.ValenceDict at 0x7fe6e22a46a0>,\n",
       "  'ProperTorsions': <openff.toolkit.topology.topology.ValenceDict at 0x7fe6edd23df0>,\n",
       "  'ImproperTorsions': <openff.toolkit.topology.topology.ImproperDict at 0x7fe6e22afe80>,\n",
       "  'vdW': <openff.toolkit.topology.topology.ValenceDict at 0x7fe6e22f4eb0>,\n",
       "  'Electrostatics': <openff.toolkit.topology.topology.ValenceDict at 0x7fe6e22f6200>,\n",
       "  'LibraryCharges': {},\n",
       "  'ToolkitAM1BCC': <openff.toolkit.topology.topology.ValenceDict at 0x7fe6e22f43d0>}]"
      ]
     },
     "execution_count": 6,
     "metadata": {},
     "output_type": "execute_result"
    }
   ],
   "source": [
    "ff_applied_parameters = force_field.label_molecules(ligand.to_topology())\n",
    "ff_applied_parameters"
   ]
  },
  {
   "cell_type": "markdown",
   "metadata": {},
   "source": [
    "`label_molecules()` returns a list of the molecules that can be parameterized from the arguments. It returns them as dictionaries that give us access to the `ForceField` parameters that are used for the molecule. Since we're only passing in a single molecule, `ff_applied_parameters` is a list of one element. We can see the bonds that are used for the ligand by converting the appropriate `ValenceDict` to a regular dictionary:"
   ]
  },
  {
   "cell_type": "code",
   "execution_count": 7,
   "metadata": {
    "execution": {
     "iopub.execute_input": "2023-07-07T00:22:40.070040Z",
     "iopub.status.busy": "2023-07-07T00:22:40.069092Z",
     "iopub.status.idle": "2023-07-07T00:22:40.099728Z",
     "shell.execute_reply": "2023-07-07T00:22:40.099041Z"
    }
   },
   "outputs": [
    {
     "data": {
      "text/plain": [
       "{(0,\n",
       "  1): <BondType with smirks: [#6X4:1]-[#6X4:2]  id: b1  length: 1.52190126495 angstrom  k: 529.2429715351 kilocalorie / angstrom ** 2 / mole  >,\n",
       " (0,\n",
       "  30): <BondType with smirks: [#6X4:1]-[#1:2]  id: b84  length: 1.093899492634 angstrom  k: 740.0934137725 kilocalorie / angstrom ** 2 / mole  >,\n",
       " (0,\n",
       "  31): <BondType with smirks: [#6X4:1]-[#1:2]  id: b84  length: 1.093899492634 angstrom  k: 740.0934137725 kilocalorie / angstrom ** 2 / mole  >,\n",
       " (0,\n",
       "  32): <BondType with smirks: [#6X4:1]-[#1:2]  id: b84  length: 1.093899492634 angstrom  k: 740.0934137725 kilocalorie / angstrom ** 2 / mole  >,\n",
       " (1,\n",
       "  2): <BondType with smirks: [#6X4:1]-[#6X4:2]  id: b1  length: 1.52190126495 angstrom  k: 529.2429715351 kilocalorie / angstrom ** 2 / mole  >,\n",
       " (1,\n",
       "  3): <BondType with smirks: [#6X4:1]-[#6X4:2]  id: b1  length: 1.52190126495 angstrom  k: 529.2429715351 kilocalorie / angstrom ** 2 / mole  >,\n",
       " (1,\n",
       "  4): <BondType with smirks: [#6X4:1]-[#6X3:2]  id: b2  length: 1.498646816465 angstrom  k: 579.4762652679 kilocalorie / angstrom ** 2 / mole  >,\n",
       " (2,\n",
       "  33): <BondType with smirks: [#6X4:1]-[#1:2]  id: b84  length: 1.093899492634 angstrom  k: 740.0934137725 kilocalorie / angstrom ** 2 / mole  >,\n",
       " (2,\n",
       "  34): <BondType with smirks: [#6X4:1]-[#1:2]  id: b84  length: 1.093899492634 angstrom  k: 740.0934137725 kilocalorie / angstrom ** 2 / mole  >,\n",
       " (2,\n",
       "  35): <BondType with smirks: [#6X4:1]-[#1:2]  id: b84  length: 1.093899492634 angstrom  k: 740.0934137725 kilocalorie / angstrom ** 2 / mole  >,\n",
       " (3,\n",
       "  36): <BondType with smirks: [#6X4:1]-[#1:2]  id: b84  length: 1.093899492634 angstrom  k: 740.0934137725 kilocalorie / angstrom ** 2 / mole  >,\n",
       " (3,\n",
       "  37): <BondType with smirks: [#6X4:1]-[#1:2]  id: b84  length: 1.093899492634 angstrom  k: 740.0934137725 kilocalorie / angstrom ** 2 / mole  >,\n",
       " (3,\n",
       "  38): <BondType with smirks: [#6X4:1]-[#1:2]  id: b84  length: 1.093899492634 angstrom  k: 740.0934137725 kilocalorie / angstrom ** 2 / mole  >,\n",
       " (4,\n",
       "  5): <BondType with smirks: [#6X3:1]:[#6X3:2]  id: b5  length: 1.387193227181 angstrom  k: 721.5704889544 kilocalorie / angstrom ** 2 / mole  >,\n",
       " (4,\n",
       "  11): <BondType with smirks: [#6X3:1]:[#6X3:2]  id: b5  length: 1.387193227181 angstrom  k: 721.5704889544 kilocalorie / angstrom ** 2 / mole  >,\n",
       " (5,\n",
       "  6): <BondType with smirks: [#6X3:1]-[#8X2H1:2]  id: b18  length: 1.369745182308 angstrom  k: 771.5209191174 kilocalorie / angstrom ** 2 / mole  >,\n",
       " (5,\n",
       "  7): <BondType with smirks: [#6X3:1]:[#6X3:2]  id: b5  length: 1.387193227181 angstrom  k: 721.5704889544 kilocalorie / angstrom ** 2 / mole  >,\n",
       " (6,\n",
       "  39): <BondType with smirks: [#8:1]-[#1:2]  id: b88  length: 0.9716763312559 angstrom  k: 1087.053566377 kilocalorie / angstrom ** 2 / mole  >,\n",
       " (7,\n",
       "  8): <BondType with smirks: [#6X3:1]-[#8X2H1:2]  id: b18  length: 1.369745182308 angstrom  k: 771.5209191174 kilocalorie / angstrom ** 2 / mole  >,\n",
       " (7,\n",
       "  9): <BondType with smirks: [#6X3:1]:[#6X3:2]  id: b5  length: 1.387193227181 angstrom  k: 721.5704889544 kilocalorie / angstrom ** 2 / mole  >,\n",
       " (8,\n",
       "  40): <BondType with smirks: [#8:1]-[#1:2]  id: b88  length: 0.9716763312559 angstrom  k: 1087.053566377 kilocalorie / angstrom ** 2 / mole  >,\n",
       " (9,\n",
       "  10): <BondType with smirks: [#6X3:1]:[#6X3:2]  id: b5  length: 1.387193227181 angstrom  k: 721.5704889544 kilocalorie / angstrom ** 2 / mole  >,\n",
       " (9,\n",
       "  29): <BondType with smirks: [#6X3:1]-[#7X3:2]  id: b8  length: 1.390160554689 angstrom  k: 780.0710937701 kilocalorie / angstrom ** 2 / mole  >,\n",
       " (10,\n",
       "  11): <BondType with smirks: [#6X3:1]:[#6X3:2]  id: b5  length: 1.387193227181 angstrom  k: 721.5704889544 kilocalorie / angstrom ** 2 / mole  >,\n",
       " (10,\n",
       "  13): <BondType with smirks: [#6X4:1]-[#6X3:2]  id: b2  length: 1.498646816465 angstrom  k: 579.4762652679 kilocalorie / angstrom ** 2 / mole  >,\n",
       " (11,\n",
       "  12): <BondType with smirks: [#6X3:1]-[#8X2H1:2]  id: b18  length: 1.369745182308 angstrom  k: 771.5209191174 kilocalorie / angstrom ** 2 / mole  >,\n",
       " (12,\n",
       "  41): <BondType with smirks: [#8:1]-[#1:2]  id: b88  length: 0.9716763312559 angstrom  k: 1087.053566377 kilocalorie / angstrom ** 2 / mole  >,\n",
       " (13,\n",
       "  14): <BondType with smirks: [#6X4:1]-[#8X2H0:2]  id: b16  length: 1.425895053732 angstrom  k: 733.4817683494 kilocalorie / angstrom ** 2 / mole  >,\n",
       " (13,\n",
       "  18): <BondType with smirks: [#6X4:1]-[#6X4:2]  id: b1  length: 1.52190126495 angstrom  k: 529.2429715351 kilocalorie / angstrom ** 2 / mole  >,\n",
       " (13,\n",
       "  42): <BondType with smirks: [#6X4:1]-[#1:2]  id: b84  length: 1.093899492634 angstrom  k: 740.0934137725 kilocalorie / angstrom ** 2 / mole  >,\n",
       " (14,\n",
       "  15): <BondType with smirks: [#6X4:1]-[#8X2H0:2]  id: b16  length: 1.425895053732 angstrom  k: 733.4817683494 kilocalorie / angstrom ** 2 / mole  >,\n",
       " (15,\n",
       "  16): <BondType with smirks: [#6X4:1]-[#6X4:2]  id: b1  length: 1.52190126495 angstrom  k: 529.2429715351 kilocalorie / angstrom ** 2 / mole  >,\n",
       " (15,\n",
       "  43): <BondType with smirks: [#6X4:1]-[#1:2]  id: b84  length: 1.093899492634 angstrom  k: 740.0934137725 kilocalorie / angstrom ** 2 / mole  >,\n",
       " (15,\n",
       "  44): <BondType with smirks: [#6X4:1]-[#1:2]  id: b84  length: 1.093899492634 angstrom  k: 740.0934137725 kilocalorie / angstrom ** 2 / mole  >,\n",
       " (16,\n",
       "  17): <BondType with smirks: [#6X4:1]-[#6X4:2]  id: b1  length: 1.52190126495 angstrom  k: 529.2429715351 kilocalorie / angstrom ** 2 / mole  >,\n",
       " (16,\n",
       "  45): <BondType with smirks: [#6X4:1]-[#1:2]  id: b84  length: 1.093899492634 angstrom  k: 740.0934137725 kilocalorie / angstrom ** 2 / mole  >,\n",
       " (16,\n",
       "  46): <BondType with smirks: [#6X4:1]-[#1:2]  id: b84  length: 1.093899492634 angstrom  k: 740.0934137725 kilocalorie / angstrom ** 2 / mole  >,\n",
       " (17,\n",
       "  18): <BondType with smirks: [#6X4:1]-[#6X4:2]  id: b1  length: 1.52190126495 angstrom  k: 529.2429715351 kilocalorie / angstrom ** 2 / mole  >,\n",
       " (17,\n",
       "  47): <BondType with smirks: [#6X4:1]-[#1:2]  id: b84  length: 1.093899492634 angstrom  k: 740.0934137725 kilocalorie / angstrom ** 2 / mole  >,\n",
       " (17,\n",
       "  48): <BondType with smirks: [#6X4:1]-[#1:2]  id: b84  length: 1.093899492634 angstrom  k: 740.0934137725 kilocalorie / angstrom ** 2 / mole  >,\n",
       " (18,\n",
       "  19): <BondType with smirks: [#6X4:1]-[#6X4:2]  id: b1  length: 1.52190126495 angstrom  k: 529.2429715351 kilocalorie / angstrom ** 2 / mole  >,\n",
       " (18,\n",
       "  49): <BondType with smirks: [#6X4:1]-[#1:2]  id: b84  length: 1.093899492634 angstrom  k: 740.0934137725 kilocalorie / angstrom ** 2 / mole  >,\n",
       " (19,\n",
       "  20): <BondType with smirks: [#6X4:1]-[#6X3:2]  id: b2  length: 1.498646816465 angstrom  k: 579.4762652679 kilocalorie / angstrom ** 2 / mole  >,\n",
       " (19,\n",
       "  29): <BondType with smirks: [#6:1]-[#7:2]  id: b7  length: 1.464762957261 angstrom  k: 732.6809445917 kilocalorie / angstrom ** 2 / mole  >,\n",
       " (19,\n",
       "  50): <BondType with smirks: [#6X4:1]-[#1:2]  id: b84  length: 1.093899492634 angstrom  k: 740.0934137725 kilocalorie / angstrom ** 2 / mole  >,\n",
       " (20,\n",
       "  21): <BondType with smirks: [#6X3:1]:[#6X3:2]  id: b5  length: 1.387193227181 angstrom  k: 721.5704889544 kilocalorie / angstrom ** 2 / mole  >,\n",
       " (20,\n",
       "  28): <BondType with smirks: [#6X3:1]:[#6X3:2]  id: b5  length: 1.387193227181 angstrom  k: 721.5704889544 kilocalorie / angstrom ** 2 / mole  >,\n",
       " (21,\n",
       "  22): <BondType with smirks: [#6X3:1]:[#6X3:2]  id: b5  length: 1.387193227181 angstrom  k: 721.5704889544 kilocalorie / angstrom ** 2 / mole  >,\n",
       " (21,\n",
       "  51): <BondType with smirks: [#6X3:1]-[#1:2]  id: b85  length: 1.085358495916 angstrom  k: 794.5091579238 kilocalorie / angstrom ** 2 / mole  >,\n",
       " (22,\n",
       "  23): <BondType with smirks: [#6X3:1]-[#8X2H1:2]  id: b18  length: 1.369745182308 angstrom  k: 771.5209191174 kilocalorie / angstrom ** 2 / mole  >,\n",
       " (22,\n",
       "  24): <BondType with smirks: [#6X3:1]:[#6X3:2]  id: b5  length: 1.387193227181 angstrom  k: 721.5704889544 kilocalorie / angstrom ** 2 / mole  >,\n",
       " (23,\n",
       "  52): <BondType with smirks: [#8:1]-[#1:2]  id: b88  length: 0.9716763312559 angstrom  k: 1087.053566377 kilocalorie / angstrom ** 2 / mole  >,\n",
       " (24,\n",
       "  25): <BondType with smirks: [#6X3:1]-[#8X2H1:2]  id: b18  length: 1.369745182308 angstrom  k: 771.5209191174 kilocalorie / angstrom ** 2 / mole  >,\n",
       " (24,\n",
       "  26): <BondType with smirks: [#6X3:1]:[#6X3:2]  id: b5  length: 1.387193227181 angstrom  k: 721.5704889544 kilocalorie / angstrom ** 2 / mole  >,\n",
       " (25,\n",
       "  53): <BondType with smirks: [#8:1]-[#1:2]  id: b88  length: 0.9716763312559 angstrom  k: 1087.053566377 kilocalorie / angstrom ** 2 / mole  >,\n",
       " (26,\n",
       "  27): <BondType with smirks: [#6:1]-[#9:2]  id: b68  length: 1.352926211207 angstrom  k: 808.7710029616 kilocalorie / angstrom ** 2 / mole  >,\n",
       " (26,\n",
       "  28): <BondType with smirks: [#6X3:1]:[#6X3:2]  id: b5  length: 1.387193227181 angstrom  k: 721.5704889544 kilocalorie / angstrom ** 2 / mole  >,\n",
       " (28,\n",
       "  54): <BondType with smirks: [#6X3:1]-[#1:2]  id: b85  length: 1.085358495916 angstrom  k: 794.5091579238 kilocalorie / angstrom ** 2 / mole  >,\n",
       " (29,\n",
       "  55): <BondType with smirks: [#7:1]-[#1:2]  id: b87  length: 1.019481865027 angstrom  k: 1010.288992386 kilocalorie / angstrom ** 2 / mole  >}"
      ]
     },
     "execution_count": 7,
     "metadata": {},
     "output_type": "execute_result"
    }
   ],
   "source": [
    "dict(ff_applied_parameters[0][\"Bonds\"])"
   ]
  },
  {
   "cell_type": "markdown",
   "metadata": {},
   "source": [
    "Take a look at the first entry as an example. The dictionary is keyed by the atomic indices of the particles in the molecule that the parameter applies to, and the values are special types that specify the parameters from the force field. We'll look in more detail at one of these parameters in a second."
   ]
  },
  {
   "cell_type": "markdown",
   "metadata": {},
   "source": [
    "## A little goes a long way — Changing parameters"
   ]
  },
  {
   "cell_type": "markdown",
   "metadata": {},
   "source": [
    "We already decided we wanted to adjust the torsion parameter to the hydroxyl group, so let's do that. We know parameters are indexed by the atoms they've been applied to, so we can look at our labelled widget above and pull out exactly the parameter we care about:"
   ]
  },
  {
   "cell_type": "code",
   "execution_count": 8,
   "metadata": {
    "execution": {
     "iopub.execute_input": "2023-07-07T00:22:40.102824Z",
     "iopub.status.busy": "2023-07-07T00:22:40.102487Z",
     "iopub.status.idle": "2023-07-07T00:22:40.110723Z",
     "shell.execute_reply": "2023-07-07T00:22:40.109998Z"
    }
   },
   "outputs": [
    {
     "name": "stdout",
     "output_type": "stream",
     "text": [
      "The fluorine-carbon bond is between atoms (27, 26)\n"
     ]
    },
    {
     "data": {
      "text/plain": [
       "<BondType with smirks: [#6:1]-[#9:2]  id: b68  length: 1.352926211207 angstrom  k: 808.7710029616 kilocalorie / angstrom ** 2 / mole  >"
      ]
     },
     "execution_count": 8,
     "metadata": {},
     "output_type": "execute_result"
    }
   ],
   "source": [
    "fluorine = [atom for atom in ligand.atoms if atom.symbol == \"F\"][0]\n",
    "carbon = [neighbor_atom for neighbor_atom in fluorine.bonded_atoms][0]\n",
    "fluorine_carbon_bond_indices = (\n",
    "    fluorine.molecule_atom_index,\n",
    "    carbon.molecule_atom_index,\n",
    ")\n",
    "print(\"The fluorine-carbon bond is between atoms\", fluorine_carbon_bond_indices)\n",
    "\n",
    "ff_applied_parameters[0][\"Bonds\"][fluorine_carbon_bond_indices]"
   ]
  },
  {
   "cell_type": "markdown",
   "metadata": {},
   "source": [
    "<div class=\"alert alert-success\" style=\"max-width: 700px; margin-left: auto; margin-right: auto;\">\n",
    "    📗 We have to get the indices of these atoms out programmatically because our SMILES code doesn't specify atom indices, and so you might have different indices to us. Take a look at the widget above and try manually specifying atom indices to get the parameters of a bond! \n",
    "</div>"
   ]
  },
  {
   "cell_type": "markdown",
   "metadata": {},
   "source": [
    "Let's dig into this type a bit more. It has a few attributes in its textual representation. The first of these is maybe the most important: the `smirks` attribute, which tells the Toolkit which atoms this parameter applies to. SMIRKS is a chemical pattern matching format; think of it as the result of a [regular expression](https://en.wikipedia.org/wiki/Regular_expression) having a baby with a [SMILES string](https://en.wikipedia.org/wiki/Simplified_molecular-input_line-entry_system). This one is very simple: it is just a Carbon atom (`[#6:1]`, atomic number 6) singly bonded (`-`) to a Fluorine atom (`[#9:2]`, atomic number 9). The numbers after the colons just label the atoms — this is a bond, so it has two atoms labelled. This is helpful for when we want to match against atoms that aren't a part of the parameter; we just don't label the additional atoms. We'll use this trick later.\n",
    "\n",
    "The other important attributes provide the actual parameterization, and so are different for different kinds of parameters. For proper torsions, this is the periodicity of the sinewave that describes the torsion, as well as its phase and amplitude (or force constant, $k$). These parameter values are similar to the equivalent description in most other force field formats.\n",
    "\n",
    "\n",
    "<div class=\"alert alert-info\" style=\"max-width: 700px; margin-left: auto; margin-right: auto;\">\n",
    "    <p> ℹ️ The SMIRKS specification is available online:</p>\n",
    "    <p style=\"margin-left:3em;\">\n",
    "        <a href=https://www.daylight.com/dayhtml/doc/theory/theory.smirks.html>\n",
    "            https://www.daylight.com/dayhtml/doc/theory/theory.smirks.html\n",
    "        </a>\n",
    "    </p>\n",
    "    <p style=\"margin-left:1.5em;\">\n",
    "        It is closely related to the SMARTS molecular pattern matching language, \n",
    "        whose specification is probably more useful for working with the Toolkit\n",
    "        and is also available online:\n",
    "    </p>\n",
    "    <p style=\"margin-left:3em;\">\n",
    "        <a href = https://www.daylight.com/dayhtml/doc/theory/theory.smarts.html>\n",
    "            https://www.daylight.com/dayhtml/doc/theory/theory.smarts.html\n",
    "        </a>\n",
    "    </p>\n",
    "</div>\n",
    "\n",
    "\n",
    "### Modifying a parameter\n",
    "\n",
    "Unfortunately we can't just modify this parameter and see the results reflected in the parameterization. We need to get the appropriate parameter from the force field and modify it there."
   ]
  },
  {
   "cell_type": "code",
   "execution_count": 9,
   "metadata": {
    "execution": {
     "iopub.execute_input": "2023-07-07T00:22:40.113318Z",
     "iopub.status.busy": "2023-07-07T00:22:40.113039Z",
     "iopub.status.idle": "2023-07-07T00:22:40.116589Z",
     "shell.execute_reply": "2023-07-07T00:22:40.115952Z"
    }
   },
   "outputs": [],
   "source": [
    "fluorine_bond = force_field[\"Bonds\"].parameters[\"[#6:1]-[#9:2]\"]\n",
    "fluorine_bond.length = 10 * unit.angstrom"
   ]
  },
  {
   "cell_type": "markdown",
   "metadata": {},
   "source": [
    "Here, we've selected the proper torsion with the SMIRKS code we found earlier, and changed its force constant by an order of magnitude in the opposite direction! Let's see what we've wrought:"
   ]
  },
  {
   "cell_type": "code",
   "execution_count": 10,
   "metadata": {
    "execution": {
     "iopub.execute_input": "2023-07-07T00:22:40.119268Z",
     "iopub.status.busy": "2023-07-07T00:22:40.118940Z",
     "iopub.status.idle": "2023-07-07T00:22:40.616658Z",
     "shell.execute_reply": "2023-07-07T00:22:40.615965Z"
    }
   },
   "outputs": [
    {
     "name": "stdout",
     "output_type": "stream",
     "text": [
      "Initial energy is 126881.3 kJ/mol; Minimized energy is 151.9 kJ/mol\n"
     ]
    },
    {
     "data": {
      "application/vnd.jupyter.widget-view+json": {
       "model_id": "d99bae9fce4143a79af5fcdd23416601",
       "version_major": 2,
       "version_minor": 0
      },
      "text/plain": [
       "NGLWidget()"
      ]
     },
     "metadata": {},
     "output_type": "display_data"
    }
   ],
   "source": [
    "minimize_and_visualize(ligand, force_field)"
   ]
  },
  {
   "cell_type": "markdown",
   "metadata": {},
   "source": [
    "Turns out Pinocchio was a real molecule all along!\n",
    "\n",
    "### Parameters affecting multiple atom groups\n",
    "\n",
    "Ok, that was fun, but it's only one parameter; we could easily have made this change in the OpenMM `System` or a GROMACS ITP file or whatever. What's the toolkit really giving us here?\n",
    "\n",
    "Let's mess with all the H-X-H angles. And let's not get into SMIRKS this time, lets let the toolkit do the thinking:"
   ]
  },
  {
   "cell_type": "code",
   "execution_count": 11,
   "metadata": {
    "execution": {
     "iopub.execute_input": "2023-07-07T00:22:40.620066Z",
     "iopub.status.busy": "2023-07-07T00:22:40.619766Z",
     "iopub.status.idle": "2023-07-07T00:22:40.763014Z",
     "shell.execute_reply": "2023-07-07T00:22:40.762318Z"
    }
   },
   "outputs": [
    {
     "name": "stdout",
     "output_type": "stream",
     "text": [
      "(30, 0, 31) <AngleType with smirks: [#1:1]-[#6X4:2]-[#1:3]  angle: 115.6030999533 degree  k: 97.55298529519 kilocalorie / mole / radian ** 2  id: a2  >\n",
      "(30, 0, 32) <AngleType with smirks: [#1:1]-[#6X4:2]-[#1:3]  angle: 115.6030999533 degree  k: 97.55298529519 kilocalorie / mole / radian ** 2  id: a2  >\n",
      "(31, 0, 32) <AngleType with smirks: [#1:1]-[#6X4:2]-[#1:3]  angle: 115.6030999533 degree  k: 97.55298529519 kilocalorie / mole / radian ** 2  id: a2  >\n",
      "(33, 2, 34) <AngleType with smirks: [#1:1]-[#6X4:2]-[#1:3]  angle: 115.6030999533 degree  k: 97.55298529519 kilocalorie / mole / radian ** 2  id: a2  >\n",
      "(33, 2, 35) <AngleType with smirks: [#1:1]-[#6X4:2]-[#1:3]  angle: 115.6030999533 degree  k: 97.55298529519 kilocalorie / mole / radian ** 2  id: a2  >\n",
      "(34, 2, 35) <AngleType with smirks: [#1:1]-[#6X4:2]-[#1:3]  angle: 115.6030999533 degree  k: 97.55298529519 kilocalorie / mole / radian ** 2  id: a2  >\n",
      "(36, 3, 37) <AngleType with smirks: [#1:1]-[#6X4:2]-[#1:3]  angle: 115.6030999533 degree  k: 97.55298529519 kilocalorie / mole / radian ** 2  id: a2  >\n",
      "(36, 3, 38) <AngleType with smirks: [#1:1]-[#6X4:2]-[#1:3]  angle: 115.6030999533 degree  k: 97.55298529519 kilocalorie / mole / radian ** 2  id: a2  >\n",
      "(37, 3, 38) <AngleType with smirks: [#1:1]-[#6X4:2]-[#1:3]  angle: 115.6030999533 degree  k: 97.55298529519 kilocalorie / mole / radian ** 2  id: a2  >\n",
      "(43, 15, 44) <AngleType with smirks: [#1:1]-[#6X4:2]-[#1:3]  angle: 115.6030999533 degree  k: 97.55298529519 kilocalorie / mole / radian ** 2  id: a2  >\n",
      "(45, 16, 46) <AngleType with smirks: [#1:1]-[#6X4:2]-[#1:3]  angle: 115.6030999533 degree  k: 97.55298529519 kilocalorie / mole / radian ** 2  id: a2  >\n",
      "(47, 17, 48) <AngleType with smirks: [#1:1]-[#6X4:2]-[#1:3]  angle: 115.6030999533 degree  k: 97.55298529519 kilocalorie / mole / radian ** 2  id: a2  >\n"
     ]
    }
   ],
   "source": [
    "ff_applied_parameters = force_field.label_molecules(ligand.to_topology())\n",
    "for atoms, parameter in ff_applied_parameters[0][\"Angles\"].items():\n",
    "    ele_1 = ligand.atoms[atoms[0]].symbol\n",
    "    ele_2 = ligand.atoms[atoms[1]].symbol\n",
    "    ele_3 = ligand.atoms[atoms[2]].symbol\n",
    "    if ele_1 == \"H\" and ele_3 == \"H\":\n",
    "        print(atoms, parameter)"
   ]
  },
  {
   "cell_type": "markdown",
   "metadata": {},
   "source": [
    "Wow, there's just one `smirks` parameter describing all of the H-X-H angles!\n",
    "\n",
    "<div class=\"alert alert-info\" style=\"max-width: 700px; margin-left: auto; margin-right: auto;\">\n",
    "    ℹ️ It's worth mentioning here that a force field might include multiple parameters with SMIRKS that match a particular group of atoms. When this happens, only the last parameter specified is applied. This allows force field authors to define general parameters first, and then override them with more specific parameters.\n",
    "</div>\n",
    "\n",
    "<div class=\"alert alert-success\" style=\"max-width: 700px; margin-left: auto; margin-right: auto;\">\n",
    "    📗 Convince yourself that this SMIRKS code matches all of the H-X-H angles in our molecule. What H-X-H angles would it not match?\n",
    "</div>\n"
   ]
  },
  {
   "cell_type": "code",
   "execution_count": 12,
   "metadata": {
    "execution": {
     "iopub.execute_input": "2023-07-07T00:22:40.766021Z",
     "iopub.status.busy": "2023-07-07T00:22:40.765694Z",
     "iopub.status.idle": "2023-07-07T00:22:41.338839Z",
     "shell.execute_reply": "2023-07-07T00:22:41.338302Z"
    }
   },
   "outputs": [
    {
     "name": "stdout",
     "output_type": "stream",
     "text": [
      "Initial energy is 129384.6 kJ/mol; Minimized energy is 145.0 kJ/mol\n"
     ]
    },
    {
     "data": {
      "application/vnd.jupyter.widget-view+json": {
       "model_id": "44152cc6d892450d959e63634857ef12",
       "version_major": 2,
       "version_minor": 0
      },
      "text/plain": [
       "NGLWidget()"
      ]
     },
     "metadata": {},
     "output_type": "display_data"
    }
   ],
   "source": [
    "hxh_angle = force_field[\"Angles\"].parameters[\"[#1:1]-[#6X4:2]-[#1:3]\"]\n",
    "hxh_angle.angle = 50 * unit.degree\n",
    "\n",
    "minimize_and_visualize(ligand, force_field)"
   ]
  },
  {
   "cell_type": "markdown",
   "metadata": {},
   "source": [
    "That is not how a methyl group is supposed to look. Guess we did it right!"
   ]
  },
  {
   "cell_type": "markdown",
   "metadata": {},
   "source": [
    "## Introducing a new parameter\n",
    "\n",
    "Now let's get really crazy. I've always thought heteroatoms in rings looked a bit too comfortable, haven't you?\n",
    "\n",
    "Since we have two cyclic heteroatoms in our molecule with very different chemistries, there'll probably be two seperate parameters we need to modify. We can just pass the SMIRKS that come up for C-X-C angles to code that modifies the parameters directly, no need to manually copy it over. "
   ]
  },
  {
   "cell_type": "code",
   "execution_count": 13,
   "metadata": {
    "execution": {
     "iopub.execute_input": "2023-07-07T00:22:41.341953Z",
     "iopub.status.busy": "2023-07-07T00:22:41.341594Z",
     "iopub.status.idle": "2023-07-07T00:22:42.255945Z",
     "shell.execute_reply": "2023-07-07T00:22:42.255264Z"
    }
   },
   "outputs": [
    {
     "name": "stdout",
     "output_type": "stream",
     "text": [
      "(9, 29, 19) <AngleType with smirks: [*:1]~[#7X3$(*~[#6X3,#6X2,#7X2+0]):2]~[*:3]  angle: 117.3465570514 degree  k: 110.8436430155 kilocalorie / mole / radian ** 2  id: a20  >\n",
      "(13, 14, 15) <AngleType with smirks: [*:1]-[#8:2]-[*:3]  angle: 110.3538806181 degree  k: 130.181232192 kilocalorie / mole / radian ** 2  id: a28  >\n"
     ]
    },
    {
     "name": "stdout",
     "output_type": "stream",
     "text": [
      "Initial energy is 131195.5 kJ/mol; Minimized energy is 410.7 kJ/mol\n"
     ]
    },
    {
     "data": {
      "application/vnd.jupyter.widget-view+json": {
       "model_id": "922fb0a6445d48d4912df75c4b7cfe74",
       "version_major": 2,
       "version_minor": 0
      },
      "text/plain": [
       "NGLWidget()"
      ]
     },
     "metadata": {},
     "output_type": "display_data"
    }
   ],
   "source": [
    "ff_applied_parameters = force_field.label_molecules(ligand.to_topology())\n",
    "for atoms, parameter in ff_applied_parameters[0][\"Angles\"].items():\n",
    "    ele_1 = ligand.atoms[atoms[0]].symbol\n",
    "    ele_2 = ligand.atoms[atoms[1]].symbol\n",
    "    ele_3 = ligand.atoms[atoms[2]].symbol\n",
    "    if (ele_2 not in [\"C\", \"H\"]) and ele_1 == \"C\" and ele_3 == \"C\":\n",
    "        print(atoms, parameter)\n",
    "\n",
    "        smirks = parameter.smirks\n",
    "        heteroatom_angle = force_field[\"Angles\"].parameters[smirks]\n",
    "        # dihedral angles are undefined when linear, so let's not set to 180\n",
    "        heteroatom_angle.angle = 179 * unit.degree\n",
    "\n",
    "        # We'll need this later\n",
    "        if ele_2 == \"N\":\n",
    "            cyclic_nitrogen_smirks = smirks\n",
    "\n",
    "minimize_and_visualize(ligand, force_field)"
   ]
  },
  {
   "cell_type": "markdown",
   "metadata": {},
   "source": [
    "Oops! We didn't mean to make all the hydroxyl groups linear! One of our parameters must be applied to Oxygen both when its in a ring and in a hydroxyl group. Sure enough, the second SMIRKS code printed above (`[*:1]-[#8:2]-[*:3]`) matches any X-O-X angle! We'll have to define a new, more specific SMIRKS entry so we only capture the appropriate oxygen."
   ]
  },
  {
   "cell_type": "markdown",
   "metadata": {},
   "source": [
    "### The SMIRKS for our new parameter\n",
    "\n",
    "Our modified force field is getting a bit messy, so let's start again. We still want the nitrogen angle from before, so lets save that too"
   ]
  },
  {
   "cell_type": "code",
   "execution_count": 14,
   "metadata": {
    "execution": {
     "iopub.execute_input": "2023-07-07T00:22:42.267859Z",
     "iopub.status.busy": "2023-07-07T00:22:42.267524Z",
     "iopub.status.idle": "2023-07-07T00:22:42.810704Z",
     "shell.execute_reply": "2023-07-07T00:22:42.809981Z"
    }
   },
   "outputs": [],
   "source": [
    "force_field = ForceField(\"openff-2.0.0.offxml\")\n",
    "cyclic_nitrogen_angle = force_field[\"Angles\"].parameters[cyclic_nitrogen_smirks]\n",
    "cyclic_nitrogen_angle.angle = 179 * unit.degree"
   ]
  },
  {
   "cell_type": "markdown",
   "metadata": {},
   "source": [
    "Now we need to define a new SMIRKS entry, specific to oxygens in a ring. We can be as specific as we like, as our new parameter will be at the end of the force field and so will override any conflicting parameters. Let's define our smirks to match any singly-bonded C-O-C angle in a six-membered pyran ring.\n",
    "\n",
    "First, we'll write down the SMILES for a pyran:\n",
    "\n",
    "`C1CCOCC1`\n",
    "\n",
    "The first carbon has a digit following it, `C1`, which allows us to close the ring later. Then we have two more carbons, `CC`, an oxygen, `O`, and the final two carbons, `CC`. Finally, we close the ring by repeating the same digit from before, `1`. Lets check that this produces the chemical we expect before we move on:"
   ]
  },
  {
   "cell_type": "code",
   "execution_count": 15,
   "metadata": {
    "execution": {
     "iopub.execute_input": "2023-07-07T00:22:42.814102Z",
     "iopub.status.busy": "2023-07-07T00:22:42.813570Z",
     "iopub.status.idle": "2023-07-07T00:22:42.834997Z",
     "shell.execute_reply": "2023-07-07T00:22:42.834345Z"
    }
   },
   "outputs": [
    {
     "data": {
      "image/svg+xml": [
       "<svg xmlns=\"http://www.w3.org/2000/svg\" xmlns:rdkit=\"http://www.rdkit.org/xml\" xmlns:xlink=\"http://www.w3.org/1999/xlink\" version=\"1.1\" baseProfile=\"full\" xml:space=\"preserve\" width=\"500px\" height=\"300px\" viewBox=\"0 0 500 300\">\n",
       "<!-- END OF HEADER -->\n",
       "<rect style=\"opacity:1.0;fill:#FFFFFF;stroke:none\" width=\"500.0\" height=\"300.0\" x=\"0.0\" y=\"0.0\"> </rect>\n",
       "<path class=\"bond-0 atom-0 atom-1\" d=\"M 309.7,183.3 L 309.9,114.1\" style=\"fill:none;fill-rule:evenodd;stroke:#000000;stroke-width:2.0px;stroke-linecap:butt;stroke-linejoin:miter;stroke-opacity:1\"/>\n",
       "<path class=\"bond-1 atom-1 atom-2\" d=\"M 309.9,114.1 L 249.9,79.6\" style=\"fill:none;fill-rule:evenodd;stroke:#000000;stroke-width:2.0px;stroke-linecap:butt;stroke-linejoin:miter;stroke-opacity:1\"/>\n",
       "<path class=\"bond-2 atom-2 atom-3\" d=\"M 249.9,79.6 L 227.6,92.4\" style=\"fill:none;fill-rule:evenodd;stroke:#000000;stroke-width:2.0px;stroke-linecap:butt;stroke-linejoin:miter;stroke-opacity:1\"/>\n",
       "<path class=\"bond-2 atom-2 atom-3\" d=\"M 227.6,92.4 L 205.2,105.2\" style=\"fill:none;fill-rule:evenodd;stroke:#FF0000;stroke-width:2.0px;stroke-linecap:butt;stroke-linejoin:miter;stroke-opacity:1\"/>\n",
       "<path class=\"bond-3 atom-3 atom-4\" d=\"M 190.0,130.9 L 190.0,156.9\" style=\"fill:none;fill-rule:evenodd;stroke:#FF0000;stroke-width:2.0px;stroke-linecap:butt;stroke-linejoin:miter;stroke-opacity:1\"/>\n",
       "<path class=\"bond-3 atom-3 atom-4\" d=\"M 190.0,156.9 L 189.9,182.8\" style=\"fill:none;fill-rule:evenodd;stroke:#000000;stroke-width:2.0px;stroke-linecap:butt;stroke-linejoin:miter;stroke-opacity:1\"/>\n",
       "<path class=\"bond-4 atom-4 atom-5\" d=\"M 189.9,182.8 L 249.7,217.7\" style=\"fill:none;fill-rule:evenodd;stroke:#000000;stroke-width:2.0px;stroke-linecap:butt;stroke-linejoin:miter;stroke-opacity:1\"/>\n",
       "<path class=\"bond-5 atom-5 atom-0\" d=\"M 249.7,217.7 L 309.7,183.3\" style=\"fill:none;fill-rule:evenodd;stroke:#000000;stroke-width:2.0px;stroke-linecap:butt;stroke-linejoin:miter;stroke-opacity:1\"/>\n",
       "<path class=\"bond-6 atom-0 atom-6\" d=\"M 309.7,183.3 L 364.4,177.2\" style=\"fill:none;fill-rule:evenodd;stroke:#000000;stroke-width:2.0px;stroke-linecap:butt;stroke-linejoin:miter;stroke-opacity:1\"/>\n",
       "<path class=\"bond-7 atom-0 atom-7\" d=\"M 309.7,183.3 L 328.6,231.3\" style=\"fill:none;fill-rule:evenodd;stroke:#000000;stroke-width:2.0px;stroke-linecap:butt;stroke-linejoin:miter;stroke-opacity:1\"/>\n",
       "<path class=\"bond-8 atom-1 atom-8\" d=\"M 309.9,114.1 L 328.1,65.7\" style=\"fill:none;fill-rule:evenodd;stroke:#000000;stroke-width:2.0px;stroke-linecap:butt;stroke-linejoin:miter;stroke-opacity:1\"/>\n",
       "<path class=\"bond-9 atom-1 atom-9\" d=\"M 309.9,114.1 L 364.5,119.1\" style=\"fill:none;fill-rule:evenodd;stroke:#000000;stroke-width:2.0px;stroke-linecap:butt;stroke-linejoin:miter;stroke-opacity:1\"/>\n",
       "<path class=\"bond-10 atom-2 atom-10\" d=\"M 249.9,79.6 L 216.7,43.0\" style=\"fill:none;fill-rule:evenodd;stroke:#000000;stroke-width:2.0px;stroke-linecap:butt;stroke-linejoin:miter;stroke-opacity:1\"/>\n",
       "<path class=\"bond-11 atom-2 atom-11\" d=\"M 249.9,79.6 L 269.2,51.7\" style=\"fill:none;fill-rule:evenodd;stroke:#000000;stroke-width:2.0px;stroke-linecap:butt;stroke-linejoin:miter;stroke-opacity:1\"/>\n",
       "<path class=\"bond-12 atom-4 atom-12\" d=\"M 189.9,182.8 L 173.9,217.2\" style=\"fill:none;fill-rule:evenodd;stroke:#000000;stroke-width:2.0px;stroke-linecap:butt;stroke-linejoin:miter;stroke-opacity:1\"/>\n",
       "<path class=\"bond-13 atom-4 atom-13\" d=\"M 189.9,182.8 L 135.5,171.4\" style=\"fill:none;fill-rule:evenodd;stroke:#000000;stroke-width:2.0px;stroke-linecap:butt;stroke-linejoin:miter;stroke-opacity:1\"/>\n",
       "<path class=\"bond-14 atom-5 atom-14\" d=\"M 249.7,217.7 L 270.3,246.7\" style=\"fill:none;fill-rule:evenodd;stroke:#000000;stroke-width:2.0px;stroke-linecap:butt;stroke-linejoin:miter;stroke-opacity:1\"/>\n",
       "<path class=\"bond-15 atom-5 atom-15\" d=\"M 249.7,217.7 L 219.6,255.3\" style=\"fill:none;fill-rule:evenodd;stroke:#000000;stroke-width:2.0px;stroke-linecap:butt;stroke-linejoin:miter;stroke-opacity:1\"/>\n",
       "<path class=\"atom-3\" d=\"M 177.0 114.0 Q 177.0 107.2, 180.4 103.4 Q 183.8 99.6, 190.0 99.6 Q 196.3 99.6, 199.7 103.4 Q 203.0 107.2, 203.0 114.0 Q 203.0 120.9, 199.6 124.8 Q 196.2 128.7, 190.0 128.7 Q 183.8 128.7, 180.4 124.8 Q 177.0 120.9, 177.0 114.0 M 190.0 125.5 Q 194.4 125.5, 196.7 122.6 Q 199.0 119.7, 199.0 114.0 Q 199.0 108.4, 196.7 105.6 Q 194.4 102.8, 190.0 102.8 Q 185.7 102.8, 183.4 105.6 Q 181.0 108.4, 181.0 114.0 Q 181.0 119.7, 183.4 122.6 Q 185.7 125.5, 190.0 125.5 \" fill=\"#FF0000\"/>\n",
       "<path class=\"atom-6\" d=\"M 366.6 161.6 L 370.5 161.6 L 370.5 173.6 L 385.0 173.6 L 385.0 161.6 L 388.8 161.6 L 388.8 189.9 L 385.0 189.9 L 385.0 176.8 L 370.5 176.8 L 370.5 189.9 L 366.6 189.9 L 366.6 161.6 \" fill=\"#000000\"/>\n",
       "<path class=\"atom-7\" d=\"M 324.0 233.5 L 327.8 233.5 L 327.8 245.5 L 342.3 245.5 L 342.3 233.5 L 346.2 233.5 L 346.2 261.8 L 342.3 261.8 L 342.3 248.7 L 327.8 248.7 L 327.8 261.8 L 324.0 261.8 L 324.0 233.5 \" fill=\"#000000\"/>\n",
       "<path class=\"atom-8\" d=\"M 323.1 35.2 L 327.0 35.2 L 327.0 47.3 L 341.5 47.3 L 341.5 35.2 L 345.3 35.2 L 345.3 63.5 L 341.5 63.5 L 341.5 50.5 L 327.0 50.5 L 327.0 63.5 L 323.1 63.5 L 323.1 35.2 \" fill=\"#000000\"/>\n",
       "<path class=\"atom-9\" d=\"M 366.7 106.2 L 370.5 106.2 L 370.5 118.2 L 385.0 118.2 L 385.0 106.2 L 388.8 106.2 L 388.8 134.5 L 385.0 134.5 L 385.0 121.4 L 370.5 121.4 L 370.5 134.5 L 366.7 134.5 L 366.7 106.2 \" fill=\"#000000\"/>\n",
       "<path class=\"atom-10\" d=\"M 192.3 14.2 L 196.2 14.2 L 196.2 26.2 L 210.6 26.2 L 210.6 14.2 L 214.5 14.2 L 214.5 42.5 L 210.6 42.5 L 210.6 29.4 L 196.2 29.4 L 196.2 42.5 L 192.3 42.5 L 192.3 14.2 \" fill=\"#000000\"/>\n",
       "<path class=\"atom-11\" d=\"M 269.3 21.2 L 273.2 21.2 L 273.2 33.2 L 287.7 33.2 L 287.7 21.2 L 291.5 21.2 L 291.5 49.5 L 287.7 49.5 L 287.7 36.4 L 273.2 36.4 L 273.2 49.5 L 269.3 49.5 L 269.3 21.2 \" fill=\"#000000\"/>\n",
       "<path class=\"atom-12\" d=\"M 155.1 219.4 L 159.0 219.4 L 159.0 231.5 L 173.4 231.5 L 173.4 219.4 L 177.3 219.4 L 177.3 247.7 L 173.4 247.7 L 173.4 234.7 L 159.0 234.7 L 159.0 247.7 L 155.1 247.7 L 155.1 219.4 \" fill=\"#000000\"/>\n",
       "<path class=\"atom-13\" d=\"M 111.2 154.4 L 115.0 154.4 L 115.0 166.5 L 129.5 166.5 L 129.5 154.4 L 133.3 154.4 L 133.3 182.7 L 129.5 182.7 L 129.5 169.7 L 115.0 169.7 L 115.0 182.7 L 111.2 182.7 L 111.2 154.4 \" fill=\"#000000\"/>\n",
       "<path class=\"atom-14\" d=\"M 270.9 248.9 L 274.7 248.9 L 274.7 261.0 L 289.2 261.0 L 289.2 248.9 L 293.0 248.9 L 293.0 277.3 L 289.2 277.3 L 289.2 264.2 L 274.7 264.2 L 274.7 277.3 L 270.9 277.3 L 270.9 248.9 \" fill=\"#000000\"/>\n",
       "<path class=\"atom-15\" d=\"M 195.4 257.5 L 199.3 257.5 L 199.3 269.6 L 213.8 269.6 L 213.8 257.5 L 217.6 257.5 L 217.6 285.8 L 213.8 285.8 L 213.8 272.8 L 199.3 272.8 L 199.3 285.8 L 195.4 285.8 L 195.4 257.5 \" fill=\"#000000\"/>\n",
       "</svg>"
      ],
      "text/plain": [
       "<IPython.core.display.SVG object>"
      ]
     },
     "execution_count": 15,
     "metadata": {},
     "output_type": "execute_result"
    }
   ],
   "source": [
    "Molecule.from_smiles(\"C1CCOCC1\").visualize()"
   ]
  },
  {
   "cell_type": "markdown",
   "metadata": {},
   "source": [
    "Perfect. We can ignore the hydrogens, as we haven't specified any bond orders - our smirks will match the saturated structure or any of its derivatives that maintain the ring. Now all we have to do is label the atoms we want to extract the bond from! This way, all the atoms must be present for the SMIRKS to match, but only these three atoms define the angle for the parameter. This lets us be more specific than we could be if we could only describe the atoms in the angle itself. We do that the same way we did before, put them in square brackets and append a colon and a number:"
   ]
  },
  {
   "cell_type": "code",
   "execution_count": 16,
   "metadata": {
    "execution": {
     "iopub.execute_input": "2023-07-07T00:22:42.837978Z",
     "iopub.status.busy": "2023-07-07T00:22:42.837608Z",
     "iopub.status.idle": "2023-07-07T00:22:42.841814Z",
     "shell.execute_reply": "2023-07-07T00:22:42.841186Z"
    }
   },
   "outputs": [],
   "source": [
    "cyclic_oxygen_smirks = \"C1C[C:1]-[O:2]-[C:3]C1\""
   ]
  },
  {
   "cell_type": "markdown",
   "metadata": {},
   "source": [
    "\n",
    "<div class=\"alert alert-success\" style=\"max-width: 700px; margin-left: auto; margin-right: auto;\">\n",
    "    📗 Try replacing this SMIRKS code with one of your own. Hint: For this force field and ligand, there's a much simpler code that will uniquely specify the C-O-C bond!\n",
    "</div>\n"
   ]
  },
  {
   "cell_type": "markdown",
   "metadata": {},
   "source": [
    "### Defining and registering the new parameter\n",
    "\n",
    "Now, all that's left is to define the angle parameter, add it to the force field, and see what we've wrought!"
   ]
  },
  {
   "cell_type": "code",
   "execution_count": 17,
   "metadata": {
    "execution": {
     "iopub.execute_input": "2023-07-07T00:22:42.844620Z",
     "iopub.status.busy": "2023-07-07T00:22:42.844310Z",
     "iopub.status.idle": "2023-07-07T00:22:43.335406Z",
     "shell.execute_reply": "2023-07-07T00:22:43.334827Z"
    },
    "scrolled": true
   },
   "outputs": [
    {
     "name": "stdout",
     "output_type": "stream",
     "text": [
      "Initial energy is 1031.4 kJ/mol; Minimized energy is 333.6 kJ/mol\n"
     ]
    },
    {
     "data": {
      "application/vnd.jupyter.widget-view+json": {
       "model_id": "61c0a11b662446348e31920ee394e0cd",
       "version_major": 2,
       "version_minor": 0
      },
      "text/plain": [
       "NGLWidget()"
      ]
     },
     "metadata": {},
     "output_type": "display_data"
    }
   ],
   "source": [
    "# Define the new angle parameter\n",
    "angle_parameter = offtk_parameters.AngleHandler.AngleType(\n",
    "    smirks=cyclic_oxygen_smirks,\n",
    "    angle=179 * unit.degree,\n",
    "    k=134.5019777341 * unit.kilocalorie / (unit.mole * unit.radians**2),\n",
    ")\n",
    "\n",
    "# Add the parameter to the force field\n",
    "angles_handler = force_field[\"Angles\"]\n",
    "angles_handler.add_parameter(parameter=angle_parameter)\n",
    "\n",
    "# Visualize the newly parameterized molecule\n",
    "minimize_and_visualize(ligand, force_field)"
   ]
  },
  {
   "cell_type": "markdown",
   "metadata": {},
   "source": [
    "Perfect! The two cyclic heteroatoms are nearly linear while the hydroxyl group retains its characteristic angle."
   ]
  },
  {
   "cell_type": "markdown",
   "metadata": {},
   "source": [
    "### Bonus: Adding a cosmetic attribute to the new parameter\n",
    "\n",
    "In some cases, you might want to tag a particular attribute with extra data. This might be useful, for example, in communicating to a fitting tool which parameters should be fitted, or simply to add extra metadata.. The toolkit allows for _cosmetic attributes_, which can be stored to individual parameters, will be included out when the `ForceField` object is written to disk, but will not otherwise affect the parameterization machinery. The API point for this is [`ParameterType.add_cosmetic_attribute`](https://docs.openforcefield.org/projects/toolkit/en/stable/api/generated/openff.toolkit.typing.engines.smirnoff.parameters.ParameterType.html#openff.toolkit.typing.engines.smirnoff.parameters.ParameterType.add_cosmetic_attribute).\n",
    "\n",
    "Let's use this to tag our modified and new parameters with a note about why we introduced it."
   ]
  },
  {
   "cell_type": "code",
   "execution_count": 18,
   "metadata": {
    "execution": {
     "iopub.execute_input": "2023-07-07T00:22:43.339416Z",
     "iopub.status.busy": "2023-07-07T00:22:43.338235Z",
     "iopub.status.idle": "2023-07-07T00:22:43.343124Z",
     "shell.execute_reply": "2023-07-07T00:22:43.342596Z"
    }
   },
   "outputs": [],
   "source": [
    "angles_handler.parameters[cyclic_nitrogen_smirks].add_cosmetic_attribute(\n",
    "    attr_name=\"note\",\n",
    "    attr_value=\"funky pseudo-linear cyclic nitrogen\",\n",
    ")\n",
    "\n",
    "angles_handler.parameters[cyclic_oxygen_smirks].add_cosmetic_attribute(\n",
    "    attr_name=\"note\",\n",
    "    attr_value=\"funky pseudo-linear cyclic oxygen\",\n",
    ")"
   ]
  },
  {
   "cell_type": "markdown",
   "metadata": {},
   "source": [
    "We we look at these parameter now, they include this attribute tacked on at the end:"
   ]
  },
  {
   "cell_type": "code",
   "execution_count": 19,
   "metadata": {
    "execution": {
     "iopub.execute_input": "2023-07-07T00:22:43.346941Z",
     "iopub.status.busy": "2023-07-07T00:22:43.345792Z",
     "iopub.status.idle": "2023-07-07T00:22:43.366285Z",
     "shell.execute_reply": "2023-07-07T00:22:43.365558Z"
    }
   },
   "outputs": [
    {
     "data": {
      "text/plain": [
       "<AngleType with smirks: [*:1]~[#7X3$(*~[#6X3,#6X2,#7X2+0]):2]~[*:3]  angle: 179 degree  k: 110.8436430155 kilocalorie / mole / radian ** 2  id: a20  note: funky pseudo-linear cyclic nitrogen  >"
      ]
     },
     "execution_count": 19,
     "metadata": {},
     "output_type": "execute_result"
    }
   ],
   "source": [
    "angles_handler.parameters[cyclic_nitrogen_smirks]"
   ]
  },
  {
   "cell_type": "code",
   "execution_count": 20,
   "metadata": {
    "execution": {
     "iopub.execute_input": "2023-07-07T00:22:43.369622Z",
     "iopub.status.busy": "2023-07-07T00:22:43.369113Z",
     "iopub.status.idle": "2023-07-07T00:22:43.381556Z",
     "shell.execute_reply": "2023-07-07T00:22:43.380919Z"
    }
   },
   "outputs": [
    {
     "data": {
      "text/plain": [
       "<AngleType with smirks: C1C[C:1]-[O:2]-[C:3]C1  angle: 179 degree  k: 134.5019777341 kilocalorie / mole / radian ** 2  note: funky pseudo-linear cyclic oxygen  >"
      ]
     },
     "execution_count": 20,
     "metadata": {},
     "output_type": "execute_result"
    }
   ],
   "source": [
    "angles_handler.parameters[cyclic_oxygen_smirks]"
   ]
  },
  {
   "cell_type": "markdown",
   "metadata": {},
   "source": [
    "Cometic attributes are included by default when [writing to disk](https://docs.openforcefield.org/projects/toolkit/en/stable/api/generated/openff.toolkit.typing.engines.smirnoff.ForceField.html#openff.toolkit.typing.engines.smirnoff.ForceField.to_file). (This can be turned off by flipping the argument `discard_cosmetic_attributes` to `True`.) Let's write out our modified force field and search through the file for the note we added."
   ]
  },
  {
   "cell_type": "code",
   "execution_count": 21,
   "metadata": {
    "execution": {
     "iopub.execute_input": "2023-07-07T00:22:43.384427Z",
     "iopub.status.busy": "2023-07-07T00:22:43.384091Z",
     "iopub.status.idle": "2023-07-07T00:22:43.474598Z",
     "shell.execute_reply": "2023-07-07T00:22:43.473870Z"
    }
   },
   "outputs": [],
   "source": [
    "force_field.to_file(\"modified.offxml\")"
   ]
  },
  {
   "cell_type": "code",
   "execution_count": 22,
   "metadata": {
    "execution": {
     "iopub.execute_input": "2023-07-07T00:22:43.479010Z",
     "iopub.status.busy": "2023-07-07T00:22:43.477723Z",
     "iopub.status.idle": "2023-07-07T00:22:43.647504Z",
     "shell.execute_reply": "2023-07-07T00:22:43.645001Z"
    }
   },
   "outputs": [
    {
     "name": "stdout",
     "output_type": "stream",
     "text": [
      "        <Angle smirks=\"[*:1]~[#7X3$(*~[#6X3,#6X2,#7X2+0]):2]~[*:3]\" angle=\"179 * degree ** 1\" k=\"110.8436430155 * mole ** -1 * radian ** -2 * kilocalorie ** 1\" id=\"a20\" note=\"funky pseudo-linear cyclic nitrogen\"></Angle>\r\n",
      "        <Angle smirks=\"C1C[C:1]-[O:2]-[C:3]C1\" angle=\"179 * degree ** 1\" k=\"134.5019777341 * kilocalorie ** 1 * mole ** -1 * radian ** -2\" note=\"funky pseudo-linear cyclic oxygen\"></Angle>\r\n"
     ]
    }
   ],
   "source": [
    "!grep funky modified.offxml"
   ]
  },
  {
   "cell_type": "code",
   "execution_count": null,
   "metadata": {},
   "outputs": [],
   "source": []
  }
 ],
 "metadata": {
  "category": "force_field_dev",
  "kernelspec": {
   "display_name": "Python 3 (ipykernel)",
   "language": "python",
   "name": "python3"
  },
  "language_info": {
   "codemirror_mode": {
    "name": "ipython",
    "version": 3
   },
   "file_extension": ".py",
   "mimetype": "text/x-python",
   "name": "python",
   "nbconvert_exporter": "python",
   "pygments_lexer": "ipython3",
   "version": "3.10.12"
  },
  "src_repo_tag": "0.14.0",
  "widgets": {
   "application/vnd.jupyter.widget-state+json": {
    "state": {
     "0161f0b83e33493bb9b304efe5e89a15": {
      "model_module": "@jupyter-widgets/controls",
      "model_module_version": "2.0.0",
      "model_name": "ButtonModel",
      "state": {
       "_dom_classes": [],
       "_model_module": "@jupyter-widgets/controls",
       "_model_module_version": "2.0.0",
       "_model_name": "ButtonModel",
       "_view_count": null,
       "_view_module": "@jupyter-widgets/controls",
       "_view_module_version": "2.0.0",
       "_view_name": "ButtonView",
       "button_style": "",
       "description": "",
       "disabled": false,
       "icon": "compress",
       "layout": "IPY_MODEL_79e3ba84fd27460f847ab0e851ade1be",
       "style": "IPY_MODEL_b2d406ca940e442a872908737b48d506",
       "tabbable": null,
       "tooltip": null
      }
     },
     "02bb5d7e27ad4574ac446b70a1674f55": {
      "model_module": "@jupyter-widgets/controls",
      "model_module_version": "2.0.0",
      "model_name": "IntSliderModel",
      "state": {
       "_dom_classes": [],
       "_model_module": "@jupyter-widgets/controls",
       "_model_module_version": "2.0.0",
       "_model_name": "IntSliderModel",
       "_view_count": null,
       "_view_module": "@jupyter-widgets/controls",
       "_view_module_version": "2.0.0",
       "_view_name": "IntSliderView",
       "behavior": "drag-tap",
       "continuous_update": true,
       "description": "",
       "description_allow_html": false,
       "disabled": false,
       "layout": "IPY_MODEL_4778cd3789104187b66f106f6e95970b",
       "max": 0,
       "min": 0,
       "orientation": "horizontal",
       "readout": true,
       "readout_format": "d",
       "step": 1,
       "style": "IPY_MODEL_09f739dc99114444ab304cf8f19a1ca0",
       "tabbable": null,
       "tooltip": null,
       "value": 0
      }
     },
     "04a185b25b4d4d728e063ea93393b7f2": {
      "model_module": "@jupyter-widgets/controls",
      "model_module_version": "2.0.0",
      "model_name": "DescriptionStyleModel",
      "state": {
       "_model_module": "@jupyter-widgets/controls",
       "_model_module_version": "2.0.0",
       "_model_name": "DescriptionStyleModel",
       "_view_count": null,
       "_view_module": "@jupyter-widgets/base",
       "_view_module_version": "2.0.0",
       "_view_name": "StyleView",
       "description_width": ""
      }
     },
     "0574d8553c994592bf9387e5ca42116b": {
      "buffers": [
       {
        "data": "",
        "encoding": "base64",
        "path": [
         "value"
        ]
       }
      ],
      "model_module": "@jupyter-widgets/controls",
      "model_module_version": "2.0.0",
      "model_name": "ImageModel",
      "state": {
       "_dom_classes": [],
       "_model_module": "@jupyter-widgets/controls",
       "_model_module_version": "2.0.0",
       "_model_name": "ImageModel",
       "_view_count": null,
       "_view_module": "@jupyter-widgets/controls",
       "_view_module_version": "2.0.0",
       "_view_name": "ImageView",
       "format": "png",
       "height": "",
       "layout": "IPY_MODEL_e1a9dc50e16148348dbd40860dd7d387",
       "tabbable": null,
       "tooltip": null,
       "width": "900.0"
      }
     },
     "0883ab5758de401f89c09555115cda2c": {
      "model_module": "@jupyter-widgets/base",
      "model_module_version": "2.0.0",
      "model_name": "LayoutModel",
      "state": {
       "_model_module": "@jupyter-widgets/base",
       "_model_module_version": "2.0.0",
       "_model_name": "LayoutModel",
       "_view_count": null,
       "_view_module": "@jupyter-widgets/base",
       "_view_module_version": "2.0.0",
       "_view_name": "LayoutView",
       "align_content": null,
       "align_items": null,
       "align_self": null,
       "border_bottom": null,
       "border_left": null,
       "border_right": null,
       "border_top": null,
       "bottom": null,
       "display": null,
       "flex": null,
       "flex_flow": null,
       "grid_area": null,
       "grid_auto_columns": null,
       "grid_auto_flow": null,
       "grid_auto_rows": null,
       "grid_column": null,
       "grid_gap": null,
       "grid_row": null,
       "grid_template_areas": null,
       "grid_template_columns": null,
       "grid_template_rows": null,
       "height": null,
       "justify_content": null,
       "justify_items": null,
       "left": null,
       "margin": null,
       "max_height": null,
       "max_width": null,
       "min_height": null,
       "min_width": null,
       "object_fit": null,
       "object_position": null,
       "order": null,
       "overflow": null,
       "padding": null,
       "right": null,
       "top": null,
       "visibility": null,
       "width": null
      }
     },
     "09f739dc99114444ab304cf8f19a1ca0": {
      "model_module": "@jupyter-widgets/controls",
      "model_module_version": "2.0.0",
      "model_name": "SliderStyleModel",
      "state": {
       "_model_module": "@jupyter-widgets/controls",
       "_model_module_version": "2.0.0",
       "_model_name": "SliderStyleModel",
       "_view_count": null,
       "_view_module": "@jupyter-widgets/base",
       "_view_module_version": "2.0.0",
       "_view_name": "StyleView",
       "description_width": "",
       "handle_color": null
      }
     },
     "1b806c8095e546ed8c1cd740fb368b3f": {
      "model_module": "@jupyter-widgets/base",
      "model_module_version": "2.0.0",
      "model_name": "LayoutModel",
      "state": {
       "_model_module": "@jupyter-widgets/base",
       "_model_module_version": "2.0.0",
       "_model_name": "LayoutModel",
       "_view_count": null,
       "_view_module": "@jupyter-widgets/base",
       "_view_module_version": "2.0.0",
       "_view_name": "LayoutView",
       "align_content": null,
       "align_items": null,
       "align_self": null,
       "border_bottom": null,
       "border_left": null,
       "border_right": null,
       "border_top": null,
       "bottom": null,
       "display": null,
       "flex": null,
       "flex_flow": null,
       "grid_area": null,
       "grid_auto_columns": null,
       "grid_auto_flow": null,
       "grid_auto_rows": null,
       "grid_column": null,
       "grid_gap": null,
       "grid_row": null,
       "grid_template_areas": null,
       "grid_template_columns": null,
       "grid_template_rows": null,
       "height": null,
       "justify_content": null,
       "justify_items": null,
       "left": null,
       "margin": null,
       "max_height": null,
       "max_width": null,
       "min_height": null,
       "min_width": null,
       "object_fit": null,
       "object_position": null,
       "order": null,
       "overflow": null,
       "padding": null,
       "right": null,
       "top": null,
       "visibility": null,
       "width": null
      }
     },
     "1fa6852a96d84549a3debab47ae53f68": {
      "buffers": [
       {
        "data": "",
        "encoding": "base64",
        "path": [
         "value"
        ]
       }
      ],
      "model_module": "@jupyter-widgets/controls",
      "model_module_version": "2.0.0",
      "model_name": "ImageModel",
      "state": {
       "_dom_classes": [],
       "_model_module": "@jupyter-widgets/controls",
       "_model_module_version": "2.0.0",
       "_model_name": "ImageModel",
       "_view_count": null,
       "_view_module": "@jupyter-widgets/controls",
       "_view_module_version": "2.0.0",
       "_view_name": "ImageView",
       "format": "png",
       "height": "",
       "layout": "IPY_MODEL_5e3705e8cfb344ae8012492d8d30685c",
       "tabbable": null,
       "tooltip": null,
       "width": "900.0"
      }
     },
     "217020f162d745cfa2da12cd9539cfc9": {
      "model_module": "@jupyter-widgets/controls",
      "model_module_version": "2.0.0",
      "model_name": "LinkModel",
      "state": {
       "_model_module": "@jupyter-widgets/controls",
       "_model_module_version": "2.0.0",
       "_model_name": "LinkModel",
       "_view_count": null,
       "_view_module": "@jupyter-widgets/controls",
       "_view_module_version": "2.0.0",
       "_view_name": null,
       "source": [
        "IPY_MODEL_22b32a1c337f44e0b524ac949fb9e379",
        "value"
       ],
       "target": [
        "IPY_MODEL_44152cc6d892450d959e63634857ef12",
        "frame"
       ]
      }
     },
     "21707df684f349a2bbe41515ad78951c": {
      "model_module": "@jupyter-widgets/controls",
      "model_module_version": "2.0.0",
      "model_name": "DescriptionStyleModel",
      "state": {
       "_model_module": "@jupyter-widgets/controls",
       "_model_module_version": "2.0.0",
       "_model_name": "DescriptionStyleModel",
       "_view_count": null,
       "_view_module": "@jupyter-widgets/base",
       "_view_module_version": "2.0.0",
       "_view_name": "StyleView",
       "description_width": ""
      }
     },
     "220be6fcfe3d49dea96c416b45b2fec6": {
      "model_module": "@jupyter-widgets/base",
      "model_module_version": "2.0.0",
      "model_name": "LayoutModel",
      "state": {
       "_model_module": "@jupyter-widgets/base",
       "_model_module_version": "2.0.0",
       "_model_name": "LayoutModel",
       "_view_count": null,
       "_view_module": "@jupyter-widgets/base",
       "_view_module_version": "2.0.0",
       "_view_name": "LayoutView",
       "align_content": null,
       "align_items": null,
       "align_self": null,
       "border_bottom": null,
       "border_left": null,
       "border_right": null,
       "border_top": null,
       "bottom": null,
       "display": null,
       "flex": null,
       "flex_flow": null,
       "grid_area": null,
       "grid_auto_columns": null,
       "grid_auto_flow": null,
       "grid_auto_rows": null,
       "grid_column": null,
       "grid_gap": null,
       "grid_row": null,
       "grid_template_areas": null,
       "grid_template_columns": null,
       "grid_template_rows": null,
       "height": null,
       "justify_content": null,
       "justify_items": null,
       "left": null,
       "margin": null,
       "max_height": null,
       "max_width": null,
       "min_height": null,
       "min_width": null,
       "object_fit": null,
       "object_position": null,
       "order": null,
       "overflow": null,
       "padding": null,
       "right": null,
       "top": null,
       "visibility": null,
       "width": "34px"
      }
     },
     "22b32a1c337f44e0b524ac949fb9e379": {
      "model_module": "@jupyter-widgets/controls",
      "model_module_version": "2.0.0",
      "model_name": "PlayModel",
      "state": {
       "_dom_classes": [],
       "_model_module": "@jupyter-widgets/controls",
       "_model_module_version": "2.0.0",
       "_model_name": "PlayModel",
       "_view_count": null,
       "_view_module": "@jupyter-widgets/controls",
       "_view_module_version": "2.0.0",
       "_view_name": "PlayView",
       "description": "",
       "description_allow_html": false,
       "disabled": false,
       "interval": 100,
       "layout": "IPY_MODEL_2960f81fe59245a4be7bdf967538ab08",
       "max": 0,
       "min": 0,
       "playing": false,
       "repeat": false,
       "show_repeat": true,
       "step": 1,
       "style": "IPY_MODEL_a4b2c94e52974fed85713c846d589435",
       "tabbable": null,
       "tooltip": null,
       "value": 0
      }
     },
     "22c2cb6c729443aa8d0156ab617b1d82": {
      "model_module": "@jupyter-widgets/base",
      "model_module_version": "2.0.0",
      "model_name": "LayoutModel",
      "state": {
       "_model_module": "@jupyter-widgets/base",
       "_model_module_version": "2.0.0",
       "_model_name": "LayoutModel",
       "_view_count": null,
       "_view_module": "@jupyter-widgets/base",
       "_view_module_version": "2.0.0",
       "_view_name": "LayoutView",
       "align_content": null,
       "align_items": null,
       "align_self": null,
       "border_bottom": null,
       "border_left": null,
       "border_right": null,
       "border_top": null,
       "bottom": null,
       "display": null,
       "flex": null,
       "flex_flow": null,
       "grid_area": null,
       "grid_auto_columns": null,
       "grid_auto_flow": null,
       "grid_auto_rows": null,
       "grid_column": null,
       "grid_gap": null,
       "grid_row": null,
       "grid_template_areas": null,
       "grid_template_columns": null,
       "grid_template_rows": null,
       "height": null,
       "justify_content": null,
       "justify_items": null,
       "left": null,
       "margin": null,
       "max_height": null,
       "max_width": null,
       "min_height": null,
       "min_width": null,
       "object_fit": null,
       "object_position": null,
       "order": null,
       "overflow": null,
       "padding": null,
       "right": null,
       "top": null,
       "visibility": null,
       "width": null
      }
     },
     "22fd5aa6fac64fc8bf116f129d1d8df2": {
      "model_module": "@jupyter-widgets/base",
      "model_module_version": "2.0.0",
      "model_name": "LayoutModel",
      "state": {
       "_model_module": "@jupyter-widgets/base",
       "_model_module_version": "2.0.0",
       "_model_name": "LayoutModel",
       "_view_count": null,
       "_view_module": "@jupyter-widgets/base",
       "_view_module_version": "2.0.0",
       "_view_name": "LayoutView",
       "align_content": null,
       "align_items": null,
       "align_self": null,
       "border_bottom": null,
       "border_left": null,
       "border_right": null,
       "border_top": null,
       "bottom": null,
       "display": null,
       "flex": null,
       "flex_flow": null,
       "grid_area": null,
       "grid_auto_columns": null,
       "grid_auto_flow": null,
       "grid_auto_rows": null,
       "grid_column": null,
       "grid_gap": null,
       "grid_row": null,
       "grid_template_areas": null,
       "grid_template_columns": null,
       "grid_template_rows": null,
       "height": null,
       "justify_content": null,
       "justify_items": null,
       "left": null,
       "margin": null,
       "max_height": null,
       "max_width": null,
       "min_height": null,
       "min_width": null,
       "object_fit": null,
       "object_position": null,
       "order": null,
       "overflow": null,
       "padding": null,
       "right": null,
       "top": null,
       "visibility": null,
       "width": "34px"
      }
     },
     "25c970694ad142fda6c7d23492759ee2": {
      "model_module": "@jupyter-widgets/base",
      "model_module_version": "2.0.0",
      "model_name": "LayoutModel",
      "state": {
       "_model_module": "@jupyter-widgets/base",
       "_model_module_version": "2.0.0",
       "_model_name": "LayoutModel",
       "_view_count": null,
       "_view_module": "@jupyter-widgets/base",
       "_view_module_version": "2.0.0",
       "_view_name": "LayoutView",
       "align_content": null,
       "align_items": null,
       "align_self": null,
       "border_bottom": null,
       "border_left": null,
       "border_right": null,
       "border_top": null,
       "bottom": null,
       "display": null,
       "flex": null,
       "flex_flow": null,
       "grid_area": null,
       "grid_auto_columns": null,
       "grid_auto_flow": null,
       "grid_auto_rows": null,
       "grid_column": null,
       "grid_gap": null,
       "grid_row": null,
       "grid_template_areas": null,
       "grid_template_columns": null,
       "grid_template_rows": null,
       "height": null,
       "justify_content": null,
       "justify_items": null,
       "left": null,
       "margin": null,
       "max_height": null,
       "max_width": null,
       "min_height": null,
       "min_width": null,
       "object_fit": null,
       "object_position": null,
       "order": null,
       "overflow": null,
       "padding": null,
       "right": null,
       "top": null,
       "visibility": null,
       "width": null
      }
     },
     "27a4838777014886830f937aa667a435": {
      "model_module": "@jupyter-widgets/base",
      "model_module_version": "2.0.0",
      "model_name": "LayoutModel",
      "state": {
       "_model_module": "@jupyter-widgets/base",
       "_model_module_version": "2.0.0",
       "_model_name": "LayoutModel",
       "_view_count": null,
       "_view_module": "@jupyter-widgets/base",
       "_view_module_version": "2.0.0",
       "_view_name": "LayoutView",
       "align_content": null,
       "align_items": null,
       "align_self": null,
       "border_bottom": null,
       "border_left": null,
       "border_right": null,
       "border_top": null,
       "bottom": null,
       "display": null,
       "flex": null,
       "flex_flow": null,
       "grid_area": null,
       "grid_auto_columns": null,
       "grid_auto_flow": null,
       "grid_auto_rows": null,
       "grid_column": null,
       "grid_gap": null,
       "grid_row": null,
       "grid_template_areas": null,
       "grid_template_columns": null,
       "grid_template_rows": null,
       "height": null,
       "justify_content": null,
       "justify_items": null,
       "left": null,
       "margin": null,
       "max_height": null,
       "max_width": null,
       "min_height": null,
       "min_width": null,
       "object_fit": null,
       "object_position": null,
       "order": null,
       "overflow": null,
       "padding": null,
       "right": null,
       "top": null,
       "visibility": null,
       "width": null
      }
     },
     "2960f81fe59245a4be7bdf967538ab08": {
      "model_module": "@jupyter-widgets/base",
      "model_module_version": "2.0.0",
      "model_name": "LayoutModel",
      "state": {
       "_model_module": "@jupyter-widgets/base",
       "_model_module_version": "2.0.0",
       "_model_name": "LayoutModel",
       "_view_count": null,
       "_view_module": "@jupyter-widgets/base",
       "_view_module_version": "2.0.0",
       "_view_name": "LayoutView",
       "align_content": null,
       "align_items": null,
       "align_self": null,
       "border_bottom": null,
       "border_left": null,
       "border_right": null,
       "border_top": null,
       "bottom": null,
       "display": null,
       "flex": null,
       "flex_flow": null,
       "grid_area": null,
       "grid_auto_columns": null,
       "grid_auto_flow": null,
       "grid_auto_rows": null,
       "grid_column": null,
       "grid_gap": null,
       "grid_row": null,
       "grid_template_areas": null,
       "grid_template_columns": null,
       "grid_template_rows": null,
       "height": null,
       "justify_content": null,
       "justify_items": null,
       "left": null,
       "margin": null,
       "max_height": null,
       "max_width": null,
       "min_height": null,
       "min_width": null,
       "object_fit": null,
       "object_position": null,
       "order": null,
       "overflow": null,
       "padding": null,
       "right": null,
       "top": null,
       "visibility": null,
       "width": null
      }
     },
     "2964b9cd3b5b4c0aa3832f115d30c456": {
      "model_module": "@jupyter-widgets/controls",
      "model_module_version": "2.0.0",
      "model_name": "SliderStyleModel",
      "state": {
       "_model_module": "@jupyter-widgets/controls",
       "_model_module_version": "2.0.0",
       "_model_name": "SliderStyleModel",
       "_view_count": null,
       "_view_module": "@jupyter-widgets/base",
       "_view_module_version": "2.0.0",
       "_view_name": "StyleView",
       "description_width": "",
       "handle_color": null
      }
     },
     "2c8c68f59cb4448ba7d66cd1c70efc28": {
      "model_module": "@jupyter-widgets/controls",
      "model_module_version": "2.0.0",
      "model_name": "LinkModel",
      "state": {
       "_model_module": "@jupyter-widgets/controls",
       "_model_module_version": "2.0.0",
       "_model_name": "LinkModel",
       "_view_count": null,
       "_view_module": "@jupyter-widgets/controls",
       "_view_module_version": "2.0.0",
       "_view_name": null,
       "source": [
        "IPY_MODEL_8165de6a1e0e4e1eb0c43a4cf04853b3",
        "value"
       ],
       "target": [
        "IPY_MODEL_61c0a11b662446348e31920ee394e0cd",
        "frame"
       ]
      }
     },
     "2e3a2529e57241b98216cc5639bef4dd": {
      "buffers": [
       {
        "data": "",
        "encoding": "base64",
        "path": [
         "value"
        ]
       }
      ],
      "model_module": "@jupyter-widgets/controls",
      "model_module_version": "2.0.0",
      "model_name": "ImageModel",
      "state": {
       "_dom_classes": [],
       "_model_module": "@jupyter-widgets/controls",
       "_model_module_version": "2.0.0",
       "_model_name": "ImageModel",
       "_view_count": null,
       "_view_module": "@jupyter-widgets/controls",
       "_view_module_version": "2.0.0",
       "_view_name": "ImageView",
       "format": "png",
       "height": "",
       "layout": "IPY_MODEL_0883ab5758de401f89c09555115cda2c",
       "tabbable": null,
       "tooltip": null,
       "width": "900.0"
      }
     },
     "31152bca0fcc41f88124868e98b048ff": {
      "model_module": "@jupyter-widgets/base",
      "model_module_version": "2.0.0",
      "model_name": "LayoutModel",
      "state": {
       "_model_module": "@jupyter-widgets/base",
       "_model_module_version": "2.0.0",
       "_model_name": "LayoutModel",
       "_view_count": null,
       "_view_module": "@jupyter-widgets/base",
       "_view_module_version": "2.0.0",
       "_view_name": "LayoutView",
       "align_content": null,
       "align_items": null,
       "align_self": null,
       "border_bottom": null,
       "border_left": null,
       "border_right": null,
       "border_top": null,
       "bottom": null,
       "display": null,
       "flex": null,
       "flex_flow": null,
       "grid_area": null,
       "grid_auto_columns": null,
       "grid_auto_flow": null,
       "grid_auto_rows": null,
       "grid_column": null,
       "grid_gap": null,
       "grid_row": null,
       "grid_template_areas": null,
       "grid_template_columns": null,
       "grid_template_rows": null,
       "height": null,
       "justify_content": null,
       "justify_items": null,
       "left": null,
       "margin": null,
       "max_height": null,
       "max_width": null,
       "min_height": null,
       "min_width": null,
       "object_fit": null,
       "object_position": null,
       "order": null,
       "overflow": null,
       "padding": null,
       "right": null,
       "top": null,
       "visibility": null,
       "width": null
      }
     },
     "366894ae18da4f64b121d3b9021953a4": {
      "model_module": "@jupyter-widgets/controls",
      "model_module_version": "2.0.0",
      "model_name": "LinkModel",
      "state": {
       "_model_module": "@jupyter-widgets/controls",
       "_model_module_version": "2.0.0",
       "_model_name": "LinkModel",
       "_view_count": null,
       "_view_module": "@jupyter-widgets/controls",
       "_view_module_version": "2.0.0",
       "_view_name": null,
       "source": [
        "IPY_MODEL_22b32a1c337f44e0b524ac949fb9e379",
        "max"
       ],
       "target": [
        "IPY_MODEL_44152cc6d892450d959e63634857ef12",
        "max_frame"
       ]
      }
     },
     "3a8925b2e3a74882a970d67bf64d0c1a": {
      "model_module": "@jupyter-widgets/controls",
      "model_module_version": "2.0.0",
      "model_name": "LinkModel",
      "state": {
       "_model_module": "@jupyter-widgets/controls",
       "_model_module_version": "2.0.0",
       "_model_name": "LinkModel",
       "_view_count": null,
       "_view_module": "@jupyter-widgets/controls",
       "_view_module_version": "2.0.0",
       "_view_name": null,
       "source": [
        "IPY_MODEL_9bc54e817f2a406fbc96f4606e226892",
        "max"
       ],
       "target": [
        "IPY_MODEL_fa5df015a66740e2a173e05976aa2831",
        "max_frame"
       ]
      }
     },
     "3cb95dfdc0f34558bf184cbefccad290": {
      "model_module": "@jupyter-widgets/base",
      "model_module_version": "2.0.0",
      "model_name": "LayoutModel",
      "state": {
       "_model_module": "@jupyter-widgets/base",
       "_model_module_version": "2.0.0",
       "_model_name": "LayoutModel",
       "_view_count": null,
       "_view_module": "@jupyter-widgets/base",
       "_view_module_version": "2.0.0",
       "_view_name": "LayoutView",
       "align_content": null,
       "align_items": null,
       "align_self": null,
       "border_bottom": null,
       "border_left": null,
       "border_right": null,
       "border_top": null,
       "bottom": null,
       "display": null,
       "flex": null,
       "flex_flow": null,
       "grid_area": null,
       "grid_auto_columns": null,
       "grid_auto_flow": null,
       "grid_auto_rows": null,
       "grid_column": null,
       "grid_gap": null,
       "grid_row": null,
       "grid_template_areas": null,
       "grid_template_columns": null,
       "grid_template_rows": null,
       "height": null,
       "justify_content": null,
       "justify_items": null,
       "left": null,
       "margin": null,
       "max_height": null,
       "max_width": null,
       "min_height": null,
       "min_width": null,
       "object_fit": null,
       "object_position": null,
       "order": null,
       "overflow": null,
       "padding": null,
       "right": null,
       "top": null,
       "visibility": null,
       "width": null
      }
     },
     "3d59bd4ddada47199448fdccf14b6c41": {
      "model_module": "@jupyter-widgets/controls",
      "model_module_version": "2.0.0",
      "model_name": "LinkModel",
      "state": {
       "_model_module": "@jupyter-widgets/controls",
       "_model_module_version": "2.0.0",
       "_model_name": "LinkModel",
       "_view_count": null,
       "_view_module": "@jupyter-widgets/controls",
       "_view_module_version": "2.0.0",
       "_view_name": null,
       "source": [
        "IPY_MODEL_bd68b83b20d44434bc625939ce8b341f",
        "max"
       ],
       "target": [
        "IPY_MODEL_44152cc6d892450d959e63634857ef12",
        "max_frame"
       ]
      }
     },
     "407e5d11656040e5a1fa8a1bf568d4b4": {
      "model_module": "@jupyter-widgets/base",
      "model_module_version": "2.0.0",
      "model_name": "LayoutModel",
      "state": {
       "_model_module": "@jupyter-widgets/base",
       "_model_module_version": "2.0.0",
       "_model_name": "LayoutModel",
       "_view_count": null,
       "_view_module": "@jupyter-widgets/base",
       "_view_module_version": "2.0.0",
       "_view_name": "LayoutView",
       "align_content": null,
       "align_items": null,
       "align_self": null,
       "border_bottom": null,
       "border_left": null,
       "border_right": null,
       "border_top": null,
       "bottom": null,
       "display": null,
       "flex": null,
       "flex_flow": null,
       "grid_area": null,
       "grid_auto_columns": null,
       "grid_auto_flow": null,
       "grid_auto_rows": null,
       "grid_column": null,
       "grid_gap": null,
       "grid_row": null,
       "grid_template_areas": null,
       "grid_template_columns": null,
       "grid_template_rows": null,
       "height": null,
       "justify_content": null,
       "justify_items": null,
       "left": null,
       "margin": null,
       "max_height": null,
       "max_width": null,
       "min_height": null,
       "min_width": null,
       "object_fit": null,
       "object_position": null,
       "order": null,
       "overflow": null,
       "padding": null,
       "right": null,
       "top": null,
       "visibility": null,
       "width": null
      }
     },
     "43787a5011a042af9d68f30ca218ef01": {
      "model_module": "@jupyter-widgets/controls",
      "model_module_version": "2.0.0",
      "model_name": "ButtonStyleModel",
      "state": {
       "_model_module": "@jupyter-widgets/controls",
       "_model_module_version": "2.0.0",
       "_model_name": "ButtonStyleModel",
       "_view_count": null,
       "_view_module": "@jupyter-widgets/base",
       "_view_module_version": "2.0.0",
       "_view_name": "StyleView",
       "button_color": null,
       "font_family": null,
       "font_size": null,
       "font_style": null,
       "font_variant": null,
       "font_weight": null,
       "text_color": null,
       "text_decoration": null
      }
     },
     "43b1a83cb2e341c49d0f0684499577a4": {
      "model_module": "@jupyter-widgets/controls",
      "model_module_version": "2.0.0",
      "model_name": "DescriptionStyleModel",
      "state": {
       "_model_module": "@jupyter-widgets/controls",
       "_model_module_version": "2.0.0",
       "_model_name": "DescriptionStyleModel",
       "_view_count": null,
       "_view_module": "@jupyter-widgets/base",
       "_view_module_version": "2.0.0",
       "_view_name": "StyleView",
       "description_width": ""
      }
     },
     "44152cc6d892450d959e63634857ef12": {
      "model_module": "nglview-js-widgets",
      "model_module_version": "3.0.6",
      "model_name": "NGLModel",
      "state": {
       "_camera_orientation": [],
       "_camera_str": "orthographic",
       "_dom_classes": [],
       "_gui_theme": null,
       "_ibtn_fullscreen": "IPY_MODEL_f8ab9cf78e9d4cdbb1083dadcba606cb",
       "_igui": null,
       "_iplayer": "IPY_MODEL_8deb98df50de4519b42f2aee449a9665",
       "_model_module": "nglview-js-widgets",
       "_model_module_version": "3.0.6",
       "_model_name": "NGLModel",
       "_ngl_color_dict": {},
       "_ngl_coordinate_resource": {},
       "_ngl_full_stage_parameters": {},
       "_ngl_msg_archive": [
        {
         "args": [
          {
           "binary": false,
           "data": "HETATM    1  C1  UNL     1       5.411   1.999   0.072  1.00  0.00           C  \nHETATM    2  C2  UNL     1       4.694   0.645  -0.049  1.00  0.00           C  \nHETATM    3  C3  UNL     1       5.269  -0.345   0.976  1.00  0.00           C  \nHETATM    4  C4  UNL     1       5.014   0.187  -1.481  1.00  0.00           C  \nHETATM    5  C5  UNL     1       3.169   0.722   0.164  1.00  0.00           C  \nHETATM    6  C6  UNL     1       2.544   1.763   0.893  1.00  0.00           C  \nHETATM    7  O1  UNL     1       3.189   2.787   1.516  1.00  0.00           O  \nHETATM    8  C7  UNL     1       1.164   1.790   1.098  1.00  0.00           C  \nHETATM    9  O2  UNL     1       0.606   2.781   1.883  1.00  0.00           O  \nHETATM   10  C8  UNL     1       0.360   0.790   0.555  1.00  0.00           C  \nHETATM   11  C9  UNL     1       0.931  -0.262  -0.163  1.00  0.00           C  \nHETATM   12  C10 UNL     1       2.325  -0.321  -0.293  1.00  0.00           C  \nHETATM   13  O3  UNL     1       2.817  -1.485  -0.812  1.00  0.00           O  \nHETATM   14  C11 UNL     1       0.063  -1.335  -0.789  1.00  0.00           C  \nHETATM   15  O4  UNL     1       0.227  -2.523   0.006  1.00  0.00           O  \nHETATM   16  C12 UNL     1      -0.469  -3.657  -0.520  1.00  0.00           C  \nHETATM   17  C13 UNL     1      -1.918  -3.454  -0.929  1.00  0.00           C  \nHETATM   18  C14 UNL     1      -2.309  -2.047  -1.357  1.00  0.00           C  \nHETATM   19  C15 UNL     1      -1.408  -0.881  -0.917  1.00  0.00           C  \nHETATM   20  C16 UNL     1      -1.870  -0.282   0.418  1.00  0.00           C  \nHETATM   21  C17 UNL     1      -3.299   0.225   0.361  1.00  0.00           C  \nHETATM   22  C18 UNL     1      -4.269  -0.303   1.227  1.00  0.00           C  \nHETATM   23  C19 UNL     1      -5.588   0.158   1.199  1.00  0.00           C  \nHETATM   24  O5  UNL     1      -6.503  -0.384   2.064  1.00  0.00           O  \nHETATM   25  C20 UNL     1      -5.958   1.169   0.293  1.00  0.00           C  \nHETATM   26  O6  UNL     1      -7.248   1.644   0.245  1.00  0.00           O  \nHETATM   27  C21 UNL     1      -4.998   1.703  -0.573  1.00  0.00           C  \nHETATM   28  F1  UNL     1      -7.540   8.915  -7.017  1.00  0.00           F  \nHETATM   29  C22 UNL     1      -3.682   1.235  -0.537  1.00  0.00           C  \nHETATM   30  N1  UNL     1      -1.016   0.862   0.754  1.00  0.00           N  \nHETATM   31  H1  UNL     1       6.217   2.209   0.782  1.00  0.00           H  \nHETATM   32  H2  UNL     1       6.411   2.215  -0.316  1.00  0.00           H  \nHETATM   33  H3  UNL     1       6.468   1.773   0.244  1.00  0.00           H  \nHETATM   34  H4  UNL     1       5.635  -0.064   1.968  1.00  0.00           H  \nHETATM   35  H5  UNL     1       4.920   0.009   1.950  1.00  0.00           H  \nHETATM   36  H6  UNL     1       4.731  -0.692   1.863  1.00  0.00           H  \nHETATM   37  H7  UNL     1       6.009   0.204  -1.935  1.00  0.00           H  \nHETATM   38  H8  UNL     1       5.989  -0.307  -1.436  1.00  0.00           H  \nHETATM   39  H9  UNL     1       5.492  -0.765  -1.729  1.00  0.00           H  \nHETATM   40  H10 UNL     1       2.478   3.302   1.933  1.00  0.00           H  \nHETATM   41  H11 UNL     1      -0.235   2.449   2.240  1.00  0.00           H  \nHETATM   42  H12 UNL     1       2.155  -2.170  -0.619  1.00  0.00           H  \nHETATM   43  H13 UNL     1       0.426  -1.533  -1.802  1.00  0.00           H  \nHETATM   44  H14 UNL     1      -0.171  -4.648  -0.166  1.00  0.00           H  \nHETATM   45  H15 UNL     1       0.111  -4.429  -1.033  1.00  0.00           H  \nHETATM   46  H16 UNL     1      -2.681  -4.092  -0.474  1.00  0.00           H  \nHETATM   47  H17 UNL     1      -2.458  -4.300  -1.363  1.00  0.00           H  \nHETATM   48  H18 UNL     1      -2.842  -1.942  -2.307  1.00  0.00           H  \nHETATM   49  H19 UNL     1      -3.367  -1.845  -1.547  1.00  0.00           H  \nHETATM   50  H20 UNL     1      -1.451  -0.105  -1.687  1.00  0.00           H  \nHETATM   51  H21 UNL     1      -1.778  -1.042   1.199  1.00  0.00           H  \nHETATM   52  H22 UNL     1      -3.987  -1.081   1.930  1.00  0.00           H  \nHETATM   53  H23 UNL     1      -6.077  -1.024   2.658  1.00  0.00           H  \nHETATM   54  H24 UNL     1      -7.335   2.342  -0.425  1.00  0.00           H  \nHETATM   55  H25 UNL     1      -2.957   1.667  -1.220  1.00  0.00           H  \nHETATM   56  H26 UNL     1      -1.425   1.784   0.608  1.00  0.00           H  \nCONECT    1    2   31   32   33\nCONECT    2    3    4    5\nCONECT    3   34   35   36\nCONECT    4   37   38   39\nCONECT    5    6    6   12\nCONECT    6    7    8\nCONECT    7   40\nCONECT    8    9   10   10\nCONECT    9   41\nCONECT   10   11   30\nCONECT   11   12   12   14\nCONECT   12   13\nCONECT   13   42\nCONECT   14   15   19   43\nCONECT   15   16\nCONECT   16   17   44   45\nCONECT   17   18   46   47\nCONECT   18   19   48   49\nCONECT   19   20   50\nCONECT   20   21   30   51\nCONECT   21   22   22   29\nCONECT   22   23   52\nCONECT   23   24   25   25\nCONECT   24   53\nCONECT   25   26   27\nCONECT   26   54\nCONECT   27   28   29   29\nCONECT   29   55\nCONECT   30   56\n",
           "type": "blob"
          }
         ],
         "kwargs": {
          "defaultRepresentation": true,
          "ext": "pdb",
          "name": "<openff.toolkit.utils.viz._OFFTrajectoryNGLView object at 0x7fe6e2485f60>"
         },
         "methodName": "loadFile",
         "reconstruc_color_scheme": false,
         "target": "Stage",
         "type": "call_method"
        }
       ],
       "_ngl_original_stage_parameters": {},
       "_ngl_repr_dict": {},
       "_ngl_serialize": false,
       "_ngl_version": "",
       "_ngl_view_id": [],
       "_player_dict": {},
       "_scene_position": {},
       "_scene_rotation": {},
       "_synced_model_ids": [],
       "_synced_repr_model_ids": [],
       "_view_count": null,
       "_view_height": "",
       "_view_module": "nglview-js-widgets",
       "_view_module_version": "3.0.6",
       "_view_name": "NGLView",
       "_view_width": "",
       "background": "white",
       "frame": 0,
       "gui_style": null,
       "layout": "IPY_MODEL_d805751fa74540209c229ed06b6f2576",
       "max_frame": 0,
       "n_components": 0,
       "picked": {},
       "tabbable": null,
       "tooltip": null
      }
     },
     "457be370ef674000bed29239286dba89": {
      "model_module": "@jupyter-widgets/controls",
      "model_module_version": "2.0.0",
      "model_name": "PlayModel",
      "state": {
       "_dom_classes": [],
       "_model_module": "@jupyter-widgets/controls",
       "_model_module_version": "2.0.0",
       "_model_name": "PlayModel",
       "_view_count": null,
       "_view_module": "@jupyter-widgets/controls",
       "_view_module_version": "2.0.0",
       "_view_name": "PlayView",
       "description": "",
       "description_allow_html": false,
       "disabled": false,
       "interval": 100,
       "layout": "IPY_MODEL_6cce2aab2bf2463ba995a9034c9e7aee",
       "max": 0,
       "min": 0,
       "playing": false,
       "repeat": false,
       "show_repeat": true,
       "step": 1,
       "style": "IPY_MODEL_ec5f701d44634aadabef9f1f12f5fd4d",
       "tabbable": null,
       "tooltip": null,
       "value": 0
      }
     },
     "4748f5ed5b04464ba9d293a38533d164": {
      "model_module": "@jupyter-widgets/base",
      "model_module_version": "2.0.0",
      "model_name": "LayoutModel",
      "state": {
       "_model_module": "@jupyter-widgets/base",
       "_model_module_version": "2.0.0",
       "_model_name": "LayoutModel",
       "_view_count": null,
       "_view_module": "@jupyter-widgets/base",
       "_view_module_version": "2.0.0",
       "_view_name": "LayoutView",
       "align_content": null,
       "align_items": null,
       "align_self": null,
       "border_bottom": null,
       "border_left": null,
       "border_right": null,
       "border_top": null,
       "bottom": null,
       "display": null,
       "flex": null,
       "flex_flow": null,
       "grid_area": null,
       "grid_auto_columns": null,
       "grid_auto_flow": null,
       "grid_auto_rows": null,
       "grid_column": null,
       "grid_gap": null,
       "grid_row": null,
       "grid_template_areas": null,
       "grid_template_columns": null,
       "grid_template_rows": null,
       "height": null,
       "justify_content": null,
       "justify_items": null,
       "left": null,
       "margin": null,
       "max_height": null,
       "max_width": null,
       "min_height": null,
       "min_width": null,
       "object_fit": null,
       "object_position": null,
       "order": null,
       "overflow": null,
       "padding": null,
       "right": null,
       "top": null,
       "visibility": null,
       "width": null
      }
     },
     "4778cd3789104187b66f106f6e95970b": {
      "model_module": "@jupyter-widgets/base",
      "model_module_version": "2.0.0",
      "model_name": "LayoutModel",
      "state": {
       "_model_module": "@jupyter-widgets/base",
       "_model_module_version": "2.0.0",
       "_model_name": "LayoutModel",
       "_view_count": null,
       "_view_module": "@jupyter-widgets/base",
       "_view_module_version": "2.0.0",
       "_view_name": "LayoutView",
       "align_content": null,
       "align_items": null,
       "align_self": null,
       "border_bottom": null,
       "border_left": null,
       "border_right": null,
       "border_top": null,
       "bottom": null,
       "display": null,
       "flex": null,
       "flex_flow": null,
       "grid_area": null,
       "grid_auto_columns": null,
       "grid_auto_flow": null,
       "grid_auto_rows": null,
       "grid_column": null,
       "grid_gap": null,
       "grid_row": null,
       "grid_template_areas": null,
       "grid_template_columns": null,
       "grid_template_rows": null,
       "height": null,
       "justify_content": null,
       "justify_items": null,
       "left": null,
       "margin": null,
       "max_height": null,
       "max_width": null,
       "min_height": null,
       "min_width": null,
       "object_fit": null,
       "object_position": null,
       "order": null,
       "overflow": null,
       "padding": null,
       "right": null,
       "top": null,
       "visibility": null,
       "width": null
      }
     },
     "483b340b964644e085bfca861a46a192": {
      "model_module": "@jupyter-widgets/base",
      "model_module_version": "2.0.0",
      "model_name": "LayoutModel",
      "state": {
       "_model_module": "@jupyter-widgets/base",
       "_model_module_version": "2.0.0",
       "_model_name": "LayoutModel",
       "_view_count": null,
       "_view_module": "@jupyter-widgets/base",
       "_view_module_version": "2.0.0",
       "_view_name": "LayoutView",
       "align_content": null,
       "align_items": null,
       "align_self": null,
       "border_bottom": null,
       "border_left": null,
       "border_right": null,
       "border_top": null,
       "bottom": null,
       "display": null,
       "flex": null,
       "flex_flow": null,
       "grid_area": null,
       "grid_auto_columns": null,
       "grid_auto_flow": null,
       "grid_auto_rows": null,
       "grid_column": null,
       "grid_gap": null,
       "grid_row": null,
       "grid_template_areas": null,
       "grid_template_columns": null,
       "grid_template_rows": null,
       "height": null,
       "justify_content": null,
       "justify_items": null,
       "left": null,
       "margin": null,
       "max_height": null,
       "max_width": null,
       "min_height": null,
       "min_width": null,
       "object_fit": null,
       "object_position": null,
       "order": null,
       "overflow": null,
       "padding": null,
       "right": null,
       "top": null,
       "visibility": null,
       "width": null
      }
     },
     "4d88113a1a6541b494a0d844580502ab": {
      "model_module": "@jupyter-widgets/controls",
      "model_module_version": "2.0.0",
      "model_name": "LinkModel",
      "state": {
       "_model_module": "@jupyter-widgets/controls",
       "_model_module_version": "2.0.0",
       "_model_name": "LinkModel",
       "_view_count": null,
       "_view_module": "@jupyter-widgets/controls",
       "_view_module_version": "2.0.0",
       "_view_name": null,
       "source": [
        "IPY_MODEL_51f0eceb28064e6cbb518ba4173c61fd",
        "max"
       ],
       "target": [
        "IPY_MODEL_61c0a11b662446348e31920ee394e0cd",
        "max_frame"
       ]
      }
     },
     "4e01dee0b5d947a7aeb26aeed96feae2": {
      "model_module": "@jupyter-widgets/base",
      "model_module_version": "2.0.0",
      "model_name": "LayoutModel",
      "state": {
       "_model_module": "@jupyter-widgets/base",
       "_model_module_version": "2.0.0",
       "_model_name": "LayoutModel",
       "_view_count": null,
       "_view_module": "@jupyter-widgets/base",
       "_view_module_version": "2.0.0",
       "_view_name": "LayoutView",
       "align_content": null,
       "align_items": null,
       "align_self": null,
       "border_bottom": null,
       "border_left": null,
       "border_right": null,
       "border_top": null,
       "bottom": null,
       "display": null,
       "flex": null,
       "flex_flow": null,
       "grid_area": null,
       "grid_auto_columns": null,
       "grid_auto_flow": null,
       "grid_auto_rows": null,
       "grid_column": null,
       "grid_gap": null,
       "grid_row": null,
       "grid_template_areas": null,
       "grid_template_columns": null,
       "grid_template_rows": null,
       "height": null,
       "justify_content": null,
       "justify_items": null,
       "left": null,
       "margin": null,
       "max_height": null,
       "max_width": null,
       "min_height": null,
       "min_width": null,
       "object_fit": null,
       "object_position": null,
       "order": null,
       "overflow": null,
       "padding": null,
       "right": null,
       "top": null,
       "visibility": null,
       "width": null
      }
     },
     "516f7123a9dc4907bc6429ecceecb5c6": {
      "model_module": "@jupyter-widgets/controls",
      "model_module_version": "2.0.0",
      "model_name": "LinkModel",
      "state": {
       "_model_module": "@jupyter-widgets/controls",
       "_model_module_version": "2.0.0",
       "_model_name": "LinkModel",
       "_view_count": null,
       "_view_module": "@jupyter-widgets/controls",
       "_view_module_version": "2.0.0",
       "_view_name": null,
       "source": [
        "IPY_MODEL_8023900cbcac4c0d94847bac64322d56",
        "value"
       ],
       "target": [
        "IPY_MODEL_02bb5d7e27ad4574ac446b70a1674f55",
        "value"
       ]
      }
     },
     "51f0eceb28064e6cbb518ba4173c61fd": {
      "model_module": "@jupyter-widgets/controls",
      "model_module_version": "2.0.0",
      "model_name": "IntSliderModel",
      "state": {
       "_dom_classes": [],
       "_model_module": "@jupyter-widgets/controls",
       "_model_module_version": "2.0.0",
       "_model_name": "IntSliderModel",
       "_view_count": null,
       "_view_module": "@jupyter-widgets/controls",
       "_view_module_version": "2.0.0",
       "_view_name": "IntSliderView",
       "behavior": "drag-tap",
       "continuous_update": true,
       "description": "",
       "description_allow_html": false,
       "disabled": false,
       "layout": "IPY_MODEL_6ab37c661b494b64894b7978135c9e8d",
       "max": 0,
       "min": 0,
       "orientation": "horizontal",
       "readout": true,
       "readout_format": "d",
       "step": 1,
       "style": "IPY_MODEL_60ef49e110a64b2ab1ba5fa815d56cf5",
       "tabbable": null,
       "tooltip": null,
       "value": 0
      }
     },
     "5cd1086272924ab185c336e4c54d68a9": {
      "model_module": "@jupyter-widgets/controls",
      "model_module_version": "2.0.0",
      "model_name": "HBoxModel",
      "state": {
       "_dom_classes": [],
       "_model_module": "@jupyter-widgets/controls",
       "_model_module_version": "2.0.0",
       "_model_name": "HBoxModel",
       "_view_count": null,
       "_view_module": "@jupyter-widgets/controls",
       "_view_module_version": "2.0.0",
       "_view_name": "HBoxView",
       "box_style": "",
       "children": [
        "IPY_MODEL_8023900cbcac4c0d94847bac64322d56",
        "IPY_MODEL_02bb5d7e27ad4574ac446b70a1674f55"
       ],
       "layout": "IPY_MODEL_ee1b762449ee4685a6d2e136470e4f7f",
       "tabbable": null,
       "tooltip": null
      }
     },
     "5e3705e8cfb344ae8012492d8d30685c": {
      "model_module": "@jupyter-widgets/base",
      "model_module_version": "2.0.0",
      "model_name": "LayoutModel",
      "state": {
       "_model_module": "@jupyter-widgets/base",
       "_model_module_version": "2.0.0",
       "_model_name": "LayoutModel",
       "_view_count": null,
       "_view_module": "@jupyter-widgets/base",
       "_view_module_version": "2.0.0",
       "_view_name": "LayoutView",
       "align_content": null,
       "align_items": null,
       "align_self": null,
       "border_bottom": null,
       "border_left": null,
       "border_right": null,
       "border_top": null,
       "bottom": null,
       "display": null,
       "flex": null,
       "flex_flow": null,
       "grid_area": null,
       "grid_auto_columns": null,
       "grid_auto_flow": null,
       "grid_auto_rows": null,
       "grid_column": null,
       "grid_gap": null,
       "grid_row": null,
       "grid_template_areas": null,
       "grid_template_columns": null,
       "grid_template_rows": null,
       "height": null,
       "justify_content": null,
       "justify_items": null,
       "left": null,
       "margin": null,
       "max_height": null,
       "max_width": null,
       "min_height": null,
       "min_width": null,
       "object_fit": null,
       "object_position": null,
       "order": null,
       "overflow": null,
       "padding": null,
       "right": null,
       "top": null,
       "visibility": null,
       "width": null
      }
     },
     "60ef49e110a64b2ab1ba5fa815d56cf5": {
      "model_module": "@jupyter-widgets/controls",
      "model_module_version": "2.0.0",
      "model_name": "SliderStyleModel",
      "state": {
       "_model_module": "@jupyter-widgets/controls",
       "_model_module_version": "2.0.0",
       "_model_name": "SliderStyleModel",
       "_view_count": null,
       "_view_module": "@jupyter-widgets/base",
       "_view_module_version": "2.0.0",
       "_view_name": "StyleView",
       "description_width": "",
       "handle_color": null
      }
     },
     "61c0a11b662446348e31920ee394e0cd": {
      "model_module": "nglview-js-widgets",
      "model_module_version": "3.0.6",
      "model_name": "NGLModel",
      "state": {
       "_camera_orientation": [],
       "_camera_str": "orthographic",
       "_dom_classes": [],
       "_gui_theme": null,
       "_ibtn_fullscreen": "IPY_MODEL_0161f0b83e33493bb9b304efe5e89a15",
       "_igui": null,
       "_iplayer": "IPY_MODEL_694c7fcfc5d8440890dd47aa08bb2ed6",
       "_model_module": "nglview-js-widgets",
       "_model_module_version": "3.0.6",
       "_model_name": "NGLModel",
       "_ngl_color_dict": {},
       "_ngl_coordinate_resource": {},
       "_ngl_full_stage_parameters": {},
       "_ngl_msg_archive": [
        {
         "args": [
          {
           "binary": false,
           "data": "HETATM    1  C1  UNL     1       5.045   2.156  -0.646  1.00  0.00           C  \nHETATM    2  C2  UNL     1       4.657   0.801  -0.014  1.00  0.00           C  \nHETATM    3  C3  UNL     1       5.348   0.630   1.356  1.00  0.00           C  \nHETATM    4  C4  UNL     1       5.299  -0.265  -0.929  1.00  0.00           C  \nHETATM    5  C5  UNL     1       3.111   0.717   0.155  1.00  0.00           C  \nHETATM    6  C6  UNL     1       2.435   1.665   0.977  1.00  0.00           C  \nHETATM    7  O1  UNL     1       3.037   2.679   1.658  1.00  0.00           O  \nHETATM    8  C7  UNL     1       1.056   1.624   1.201  1.00  0.00           C  \nHETATM    9  O2  UNL     1       0.464   2.506   2.086  1.00  0.00           O  \nHETATM   10  C8  UNL     1       0.321   0.654   0.541  1.00  0.00           C  \nHETATM   11  C9  UNL     1       0.893  -0.278  -0.302  1.00  0.00           C  \nHETATM   12  C10 UNL     1       2.285  -0.277  -0.454  1.00  0.00           C  \nHETATM   13  O3  UNL     1       2.741  -1.333  -1.186  1.00  0.00           O  \nHETATM   14  C11 UNL     1      -0.001  -1.277  -1.056  1.00  0.00           C  \nHETATM   15  O4  UNL     1       0.171  -2.574  -0.558  1.00  0.00           O  \nHETATM   16  C12 UNL     1      -0.159  -3.882  -0.184  1.00  0.00           C  \nHETATM   17  C13 UNL     1      -1.688  -3.684  -0.050  1.00  0.00           C  \nHETATM   18  C14 UNL     1      -2.280  -2.598  -1.027  1.00  0.00           C  \nHETATM   19  C15 UNL     1      -1.589  -1.177  -0.940  1.00  0.00           C  \nHETATM   20  C16 UNL     1      -2.122  -0.421   0.316  1.00  0.00           C  \nHETATM   21  C17 UNL     1      -3.374   0.386   0.043  1.00  0.00           C  \nHETATM   22  C18 UNL     1      -4.601  -0.005   0.601  1.00  0.00           C  \nHETATM   23  C19 UNL     1      -5.767   0.731   0.366  1.00  0.00           C  \nHETATM   24  O5  UNL     1      -6.944   0.316   0.932  1.00  0.00           O  \nHETATM   25  C20 UNL     1      -5.716   1.882  -0.441  1.00  0.00           C  \nHETATM   26  O6  UNL     1      -6.841   2.631  -0.690  1.00  0.00           O  \nHETATM   27  C21 UNL     1      -4.496   2.279  -1.006  1.00  0.00           C  \nHETATM   28  F1  UNL     1      -4.434   3.384  -1.787  1.00  0.00           F  \nHETATM   29  C22 UNL     1      -3.339   1.535  -0.765  1.00  0.00           C  \nHETATM   30  N1  UNL     1      -1.015   0.438   0.638  1.00  0.00           N  \nHETATM   31  H1  UNL     1       4.821   2.996   0.018  1.00  0.00           H  \nHETATM   32  H2  UNL     1       4.500   2.304  -1.583  1.00  0.00           H  \nHETATM   33  H3  UNL     1       6.117   2.191  -0.861  1.00  0.00           H  \nHETATM   34  H4  UNL     1       6.434   0.568   1.237  1.00  0.00           H  \nHETATM   35  H5  UNL     1       5.143   1.470   2.025  1.00  0.00           H  \nHETATM   36  H6  UNL     1       5.002  -0.288   1.840  1.00  0.00           H  \nHETATM   37  H7  UNL     1       6.378  -0.108  -1.016  1.00  0.00           H  \nHETATM   38  H8  UNL     1       5.147  -1.269  -0.523  1.00  0.00           H  \nHETATM   39  H9  UNL     1       4.877  -0.216  -1.938  1.00  0.00           H  \nHETATM   40  H10 UNL     1       2.307   3.135   2.109  1.00  0.00           H  \nHETATM   41  H11 UNL     1      -0.259   2.063   2.561  1.00  0.00           H  \nHETATM   42  H12 UNL     1       2.042  -2.007  -1.160  1.00  0.00           H  \nHETATM   43  H13 UNL     1       0.265  -1.248  -2.116  1.00  0.00           H  \nHETATM   44  H14 UNL     1       0.309  -4.186   0.757  1.00  0.00           H  \nHETATM   45  H15 UNL     1       0.094  -4.596  -0.973  1.00  0.00           H  \nHETATM   46  H16 UNL     1      -1.905  -3.383   0.979  1.00  0.00           H  \nHETATM   47  H17 UNL     1      -2.189  -4.642  -0.221  1.00  0.00           H  \nHETATM   48  H18 UNL     1      -2.166  -2.967  -2.050  1.00  0.00           H  \nHETATM   49  H19 UNL     1      -3.353  -2.494  -0.841  1.00  0.00           H  \nHETATM   50  H20 UNL     1      -1.907  -0.601  -1.814  1.00  0.00           H  \nHETATM   51  H21 UNL     1      -2.288  -1.116   1.144  1.00  0.00           H  \nHETATM   52  H22 UNL     1      -4.645  -0.893   1.224  1.00  0.00           H  \nHETATM   53  H23 UNL     1      -6.808  -0.488   1.460  1.00  0.00           H  \nHETATM   54  H24 UNL     1      -6.607   3.381  -1.262  1.00  0.00           H  \nHETATM   55  H25 UNL     1      -2.406   1.857  -1.217  1.00  0.00           H  \nHETATM   56  H26 UNL     1      -1.415   1.306   0.992  1.00  0.00           H  \nCONECT    1    2   31   32   33\nCONECT    2    3    4    5\nCONECT    3   34   35   36\nCONECT    4   37   38   39\nCONECT    5    6    6   12\nCONECT    6    7    8\nCONECT    7   40\nCONECT    8    9   10   10\nCONECT    9   41\nCONECT   10   11   30\nCONECT   11   12   12   14\nCONECT   12   13\nCONECT   13   42\nCONECT   14   15   19   43\nCONECT   15   16\nCONECT   16   17   44   45\nCONECT   17   18   46   47\nCONECT   18   19   48   49\nCONECT   19   20   50\nCONECT   20   21   30   51\nCONECT   21   22   22   29\nCONECT   22   23   52\nCONECT   23   24   25   25\nCONECT   24   53\nCONECT   25   26   27\nCONECT   26   54\nCONECT   27   28   29   29\nCONECT   29   55\nCONECT   30   56\n",
           "type": "blob"
          }
         ],
         "kwargs": {
          "defaultRepresentation": true,
          "ext": "pdb",
          "name": "<openff.toolkit.utils.viz._OFFTrajectoryNGLView object at 0x7fe6dbf0f5e0>"
         },
         "methodName": "loadFile",
         "reconstruc_color_scheme": false,
         "target": "Stage",
         "type": "call_method"
        }
       ],
       "_ngl_original_stage_parameters": {},
       "_ngl_repr_dict": {},
       "_ngl_serialize": false,
       "_ngl_version": "",
       "_ngl_view_id": [],
       "_player_dict": {},
       "_scene_position": {},
       "_scene_rotation": {},
       "_synced_model_ids": [],
       "_synced_repr_model_ids": [],
       "_view_count": null,
       "_view_height": "",
       "_view_module": "nglview-js-widgets",
       "_view_module_version": "3.0.6",
       "_view_name": "NGLView",
       "_view_width": "",
       "background": "white",
       "frame": 0,
       "gui_style": null,
       "layout": "IPY_MODEL_1b806c8095e546ed8c1cd740fb368b3f",
       "max_frame": 0,
       "n_components": 0,
       "picked": {},
       "tabbable": null,
       "tooltip": null
      }
     },
     "694c7fcfc5d8440890dd47aa08bb2ed6": {
      "model_module": "@jupyter-widgets/controls",
      "model_module_version": "2.0.0",
      "model_name": "HBoxModel",
      "state": {
       "_dom_classes": [],
       "_model_module": "@jupyter-widgets/controls",
       "_model_module_version": "2.0.0",
       "_model_name": "HBoxModel",
       "_view_count": null,
       "_view_module": "@jupyter-widgets/controls",
       "_view_module_version": "2.0.0",
       "_view_name": "HBoxView",
       "box_style": "",
       "children": [
        "IPY_MODEL_8165de6a1e0e4e1eb0c43a4cf04853b3",
        "IPY_MODEL_51f0eceb28064e6cbb518ba4173c61fd"
       ],
       "layout": "IPY_MODEL_7a345fab59fc4d5e9928f289a7d791f4",
       "tabbable": null,
       "tooltip": null
      }
     },
     "6a3b6e704fe248a5a0ee11ac91035ed0": {
      "model_module": "@jupyter-widgets/controls",
      "model_module_version": "2.0.0",
      "model_name": "IntSliderModel",
      "state": {
       "_dom_classes": [],
       "_model_module": "@jupyter-widgets/controls",
       "_model_module_version": "2.0.0",
       "_model_name": "IntSliderModel",
       "_view_count": null,
       "_view_module": "@jupyter-widgets/controls",
       "_view_module_version": "2.0.0",
       "_view_name": "IntSliderView",
       "behavior": "drag-tap",
       "continuous_update": true,
       "description": "",
       "description_allow_html": false,
       "disabled": false,
       "layout": "IPY_MODEL_3cb95dfdc0f34558bf184cbefccad290",
       "max": 0,
       "min": 0,
       "orientation": "horizontal",
       "readout": true,
       "readout_format": "d",
       "step": 1,
       "style": "IPY_MODEL_92b1b13475044018b2e9e8a9f3b1fd3b",
       "tabbable": null,
       "tooltip": null,
       "value": 0
      }
     },
     "6ab37c661b494b64894b7978135c9e8d": {
      "model_module": "@jupyter-widgets/base",
      "model_module_version": "2.0.0",
      "model_name": "LayoutModel",
      "state": {
       "_model_module": "@jupyter-widgets/base",
       "_model_module_version": "2.0.0",
       "_model_name": "LayoutModel",
       "_view_count": null,
       "_view_module": "@jupyter-widgets/base",
       "_view_module_version": "2.0.0",
       "_view_name": "LayoutView",
       "align_content": null,
       "align_items": null,
       "align_self": null,
       "border_bottom": null,
       "border_left": null,
       "border_right": null,
       "border_top": null,
       "bottom": null,
       "display": null,
       "flex": null,
       "flex_flow": null,
       "grid_area": null,
       "grid_auto_columns": null,
       "grid_auto_flow": null,
       "grid_auto_rows": null,
       "grid_column": null,
       "grid_gap": null,
       "grid_row": null,
       "grid_template_areas": null,
       "grid_template_columns": null,
       "grid_template_rows": null,
       "height": null,
       "justify_content": null,
       "justify_items": null,
       "left": null,
       "margin": null,
       "max_height": null,
       "max_width": null,
       "min_height": null,
       "min_width": null,
       "object_fit": null,
       "object_position": null,
       "order": null,
       "overflow": null,
       "padding": null,
       "right": null,
       "top": null,
       "visibility": null,
       "width": null
      }
     },
     "6cce2aab2bf2463ba995a9034c9e7aee": {
      "model_module": "@jupyter-widgets/base",
      "model_module_version": "2.0.0",
      "model_name": "LayoutModel",
      "state": {
       "_model_module": "@jupyter-widgets/base",
       "_model_module_version": "2.0.0",
       "_model_name": "LayoutModel",
       "_view_count": null,
       "_view_module": "@jupyter-widgets/base",
       "_view_module_version": "2.0.0",
       "_view_name": "LayoutView",
       "align_content": null,
       "align_items": null,
       "align_self": null,
       "border_bottom": null,
       "border_left": null,
       "border_right": null,
       "border_top": null,
       "bottom": null,
       "display": null,
       "flex": null,
       "flex_flow": null,
       "grid_area": null,
       "grid_auto_columns": null,
       "grid_auto_flow": null,
       "grid_auto_rows": null,
       "grid_column": null,
       "grid_gap": null,
       "grid_row": null,
       "grid_template_areas": null,
       "grid_template_columns": null,
       "grid_template_rows": null,
       "height": null,
       "justify_content": null,
       "justify_items": null,
       "left": null,
       "margin": null,
       "max_height": null,
       "max_width": null,
       "min_height": null,
       "min_width": null,
       "object_fit": null,
       "object_position": null,
       "order": null,
       "overflow": null,
       "padding": null,
       "right": null,
       "top": null,
       "visibility": null,
       "width": null
      }
     },
     "7441b22960a942ddac9141288f23386e": {
      "model_module": "@jupyter-widgets/base",
      "model_module_version": "2.0.0",
      "model_name": "LayoutModel",
      "state": {
       "_model_module": "@jupyter-widgets/base",
       "_model_module_version": "2.0.0",
       "_model_name": "LayoutModel",
       "_view_count": null,
       "_view_module": "@jupyter-widgets/base",
       "_view_module_version": "2.0.0",
       "_view_name": "LayoutView",
       "align_content": null,
       "align_items": null,
       "align_self": null,
       "border_bottom": null,
       "border_left": null,
       "border_right": null,
       "border_top": null,
       "bottom": null,
       "display": null,
       "flex": null,
       "flex_flow": null,
       "grid_area": null,
       "grid_auto_columns": null,
       "grid_auto_flow": null,
       "grid_auto_rows": null,
       "grid_column": null,
       "grid_gap": null,
       "grid_row": null,
       "grid_template_areas": null,
       "grid_template_columns": null,
       "grid_template_rows": null,
       "height": null,
       "justify_content": null,
       "justify_items": null,
       "left": null,
       "margin": null,
       "max_height": null,
       "max_width": null,
       "min_height": null,
       "min_width": null,
       "object_fit": null,
       "object_position": null,
       "order": null,
       "overflow": null,
       "padding": null,
       "right": null,
       "top": null,
       "visibility": null,
       "width": null
      }
     },
     "752433382c824a2a962b2665be4dacf6": {
      "model_module": "@jupyter-widgets/controls",
      "model_module_version": "2.0.0",
      "model_name": "ButtonStyleModel",
      "state": {
       "_model_module": "@jupyter-widgets/controls",
       "_model_module_version": "2.0.0",
       "_model_name": "ButtonStyleModel",
       "_view_count": null,
       "_view_module": "@jupyter-widgets/base",
       "_view_module_version": "2.0.0",
       "_view_name": "StyleView",
       "button_color": null,
       "font_family": null,
       "font_size": null,
       "font_style": null,
       "font_variant": null,
       "font_weight": null,
       "text_color": null,
       "text_decoration": null
      }
     },
     "79e3ba84fd27460f847ab0e851ade1be": {
      "model_module": "@jupyter-widgets/base",
      "model_module_version": "2.0.0",
      "model_name": "LayoutModel",
      "state": {
       "_model_module": "@jupyter-widgets/base",
       "_model_module_version": "2.0.0",
       "_model_name": "LayoutModel",
       "_view_count": null,
       "_view_module": "@jupyter-widgets/base",
       "_view_module_version": "2.0.0",
       "_view_name": "LayoutView",
       "align_content": null,
       "align_items": null,
       "align_self": null,
       "border_bottom": null,
       "border_left": null,
       "border_right": null,
       "border_top": null,
       "bottom": null,
       "display": null,
       "flex": null,
       "flex_flow": null,
       "grid_area": null,
       "grid_auto_columns": null,
       "grid_auto_flow": null,
       "grid_auto_rows": null,
       "grid_column": null,
       "grid_gap": null,
       "grid_row": null,
       "grid_template_areas": null,
       "grid_template_columns": null,
       "grid_template_rows": null,
       "height": null,
       "justify_content": null,
       "justify_items": null,
       "left": null,
       "margin": null,
       "max_height": null,
       "max_width": null,
       "min_height": null,
       "min_width": null,
       "object_fit": null,
       "object_position": null,
       "order": null,
       "overflow": null,
       "padding": null,
       "right": null,
       "top": null,
       "visibility": null,
       "width": "34px"
      }
     },
     "7a345fab59fc4d5e9928f289a7d791f4": {
      "model_module": "@jupyter-widgets/base",
      "model_module_version": "2.0.0",
      "model_name": "LayoutModel",
      "state": {
       "_model_module": "@jupyter-widgets/base",
       "_model_module_version": "2.0.0",
       "_model_name": "LayoutModel",
       "_view_count": null,
       "_view_module": "@jupyter-widgets/base",
       "_view_module_version": "2.0.0",
       "_view_name": "LayoutView",
       "align_content": null,
       "align_items": null,
       "align_self": null,
       "border_bottom": null,
       "border_left": null,
       "border_right": null,
       "border_top": null,
       "bottom": null,
       "display": null,
       "flex": null,
       "flex_flow": null,
       "grid_area": null,
       "grid_auto_columns": null,
       "grid_auto_flow": null,
       "grid_auto_rows": null,
       "grid_column": null,
       "grid_gap": null,
       "grid_row": null,
       "grid_template_areas": null,
       "grid_template_columns": null,
       "grid_template_rows": null,
       "height": null,
       "justify_content": null,
       "justify_items": null,
       "left": null,
       "margin": null,
       "max_height": null,
       "max_width": null,
       "min_height": null,
       "min_width": null,
       "object_fit": null,
       "object_position": null,
       "order": null,
       "overflow": null,
       "padding": null,
       "right": null,
       "top": null,
       "visibility": null,
       "width": null
      }
     },
     "8023900cbcac4c0d94847bac64322d56": {
      "model_module": "@jupyter-widgets/controls",
      "model_module_version": "2.0.0",
      "model_name": "PlayModel",
      "state": {
       "_dom_classes": [],
       "_model_module": "@jupyter-widgets/controls",
       "_model_module_version": "2.0.0",
       "_model_name": "PlayModel",
       "_view_count": null,
       "_view_module": "@jupyter-widgets/controls",
       "_view_module_version": "2.0.0",
       "_view_name": "PlayView",
       "description": "",
       "description_allow_html": false,
       "disabled": false,
       "interval": 100,
       "layout": "IPY_MODEL_e2397019a72f4b4ebba82d6d1e73b8ec",
       "max": 0,
       "min": 0,
       "playing": false,
       "repeat": false,
       "show_repeat": true,
       "step": 1,
       "style": "IPY_MODEL_04a185b25b4d4d728e063ea93393b7f2",
       "tabbable": null,
       "tooltip": null,
       "value": 0
      }
     },
     "8165de6a1e0e4e1eb0c43a4cf04853b3": {
      "model_module": "@jupyter-widgets/controls",
      "model_module_version": "2.0.0",
      "model_name": "PlayModel",
      "state": {
       "_dom_classes": [],
       "_model_module": "@jupyter-widgets/controls",
       "_model_module_version": "2.0.0",
       "_model_name": "PlayModel",
       "_view_count": null,
       "_view_module": "@jupyter-widgets/controls",
       "_view_module_version": "2.0.0",
       "_view_name": "PlayView",
       "description": "",
       "description_allow_html": false,
       "disabled": false,
       "interval": 100,
       "layout": "IPY_MODEL_4748f5ed5b04464ba9d293a38533d164",
       "max": 0,
       "min": 0,
       "playing": false,
       "repeat": false,
       "show_repeat": true,
       "step": 1,
       "style": "IPY_MODEL_43b1a83cb2e341c49d0f0684499577a4",
       "tabbable": null,
       "tooltip": null,
       "value": 0
      }
     },
     "8626be21fec643118fdeddbcab3b1366": {
      "model_module": "@jupyter-widgets/controls",
      "model_module_version": "2.0.0",
      "model_name": "HBoxModel",
      "state": {
       "_dom_classes": [],
       "_model_module": "@jupyter-widgets/controls",
       "_model_module_version": "2.0.0",
       "_model_name": "HBoxModel",
       "_view_count": null,
       "_view_module": "@jupyter-widgets/controls",
       "_view_module_version": "2.0.0",
       "_view_name": "HBoxView",
       "box_style": "",
       "children": [
        "IPY_MODEL_ac948632f65e4d5f904b2a79d90377fd",
        "IPY_MODEL_6a3b6e704fe248a5a0ee11ac91035ed0"
       ],
       "layout": "IPY_MODEL_f488f02c70b0443ab3c81f869331643f",
       "tabbable": null,
       "tooltip": null
      }
     },
     "88bf42e4039240538af125085a74735c": {
      "model_module": "@jupyter-widgets/controls",
      "model_module_version": "2.0.0",
      "model_name": "LinkModel",
      "state": {
       "_model_module": "@jupyter-widgets/controls",
       "_model_module_version": "2.0.0",
       "_model_name": "LinkModel",
       "_view_count": null,
       "_view_module": "@jupyter-widgets/controls",
       "_view_module_version": "2.0.0",
       "_view_name": null,
       "source": [
        "IPY_MODEL_8023900cbcac4c0d94847bac64322d56",
        "value"
       ],
       "target": [
        "IPY_MODEL_922fb0a6445d48d4912df75c4b7cfe74",
        "frame"
       ]
      }
     },
     "8deb98df50de4519b42f2aee449a9665": {
      "model_module": "@jupyter-widgets/controls",
      "model_module_version": "2.0.0",
      "model_name": "HBoxModel",
      "state": {
       "_dom_classes": [],
       "_model_module": "@jupyter-widgets/controls",
       "_model_module_version": "2.0.0",
       "_model_name": "HBoxModel",
       "_view_count": null,
       "_view_module": "@jupyter-widgets/controls",
       "_view_module_version": "2.0.0",
       "_view_name": "HBoxView",
       "box_style": "",
       "children": [
        "IPY_MODEL_22b32a1c337f44e0b524ac949fb9e379",
        "IPY_MODEL_bd68b83b20d44434bc625939ce8b341f"
       ],
       "layout": "IPY_MODEL_4e01dee0b5d947a7aeb26aeed96feae2",
       "tabbable": null,
       "tooltip": null
      }
     },
     "922fb0a6445d48d4912df75c4b7cfe74": {
      "model_module": "nglview-js-widgets",
      "model_module_version": "3.0.6",
      "model_name": "NGLModel",
      "state": {
       "_camera_orientation": [],
       "_camera_str": "orthographic",
       "_dom_classes": [],
       "_gui_theme": null,
       "_ibtn_fullscreen": "IPY_MODEL_c056043301634089b3772368b07cd02e",
       "_igui": null,
       "_iplayer": "IPY_MODEL_5cd1086272924ab185c336e4c54d68a9",
       "_model_module": "nglview-js-widgets",
       "_model_module_version": "3.0.6",
       "_model_name": "NGLModel",
       "_ngl_color_dict": {},
       "_ngl_coordinate_resource": {},
       "_ngl_full_stage_parameters": {},
       "_ngl_msg_archive": [
        {
         "args": [
          {
           "binary": false,
           "data": "HETATM    1  C1  UNL     1       5.215   2.229   0.411  1.00  0.00           C  \nHETATM    2  C2  UNL     1       4.476   1.044  -0.234  1.00  0.00           C  \nHETATM    3  C3  UNL     1       5.233  -0.229   0.187  1.00  0.00           C  \nHETATM    4  C4  UNL     1       4.573   1.258  -1.753  1.00  0.00           C  \nHETATM    5  C5  UNL     1       2.980   0.892   0.129  1.00  0.00           C  \nHETATM    6  C6  UNL     1       2.280   1.762   1.020  1.00  0.00           C  \nHETATM    7  O1  UNL     1       2.868   2.831   1.645  1.00  0.00           O  \nHETATM    8  C7  UNL     1       0.919   1.563   1.312  1.00  0.00           C  \nHETATM    9  O2  UNL     1       0.222   2.393   2.172  1.00  0.00           O  \nHETATM   10  C8  UNL     1       0.277   0.495   0.707  1.00  0.00           C  \nHETATM   11  C9  UNL     1       0.889  -0.381  -0.167  1.00  0.00           C  \nHETATM   12  C10 UNL     1       2.244  -0.183  -0.450  1.00  0.00           C  \nHETATM   13  O3  UNL     1       2.835  -1.076  -1.306  1.00  0.00           O  \nHETATM   14  C11 UNL     1       0.067  -1.525  -0.787  1.00  0.00           C  \nHETATM   15  O4  UNL     1       0.223  -2.739  -0.101  1.00  0.00           O  \nHETATM   16  C12 UNL     1      -0.178  -3.973   0.412  1.00  0.00           C  \nHETATM   17  C13 UNL     1      -1.659  -4.054   0.050  1.00  0.00           C  \nHETATM   18  C14 UNL     1      -2.228  -2.859  -0.787  1.00  0.00           C  \nHETATM   19  C15 UNL     1      -1.533  -1.442  -0.724  1.00  0.00           C  \nHETATM   20  C16 UNL     1      -2.103  -0.722   0.536  1.00  0.00           C  \nHETATM   21  C17 UNL     1      -3.376   0.045   0.242  1.00  0.00           C  \nHETATM   22  C18 UNL     1      -4.614  -0.438   0.690  1.00  0.00           C  \nHETATM   23  C19 UNL     1      -5.797   0.255   0.422  1.00  0.00           C  \nHETATM   24  O5  UNL     1      -6.983  -0.258   0.882  1.00  0.00           O  \nHETATM   25  C20 UNL     1      -5.757   1.455  -0.309  1.00  0.00           C  \nHETATM   26  O6  UNL     1      -6.905   2.158  -0.588  1.00  0.00           O  \nHETATM   27  C21 UNL     1      -4.527   1.946  -0.762  1.00  0.00           C  \nHETATM   28  F1  UNL     1      -4.164  10.471  -5.977  1.00  0.00           F  \nHETATM   29  C22 UNL     1      -3.350   1.244  -0.488  1.00  0.00           C  \nHETATM   30  N1  UNL     1      -1.024   0.162   0.878  1.00  0.00           N  \nHETATM   31  H1  UNL     1       6.227   2.180   0.823  1.00  0.00           H  \nHETATM   32  H2  UNL     1       6.012   2.802  -0.070  1.00  0.00           H  \nHETATM   33  H3  UNL     1       6.259   2.143   0.098  1.00  0.00           H  \nHETATM   34  H4  UNL     1       5.698  -0.377   1.166  1.00  0.00           H  \nHETATM   35  H5  UNL     1       4.981  -0.380   1.241  1.00  0.00           H  \nHETATM   36  H6  UNL     1       4.830  -0.988   0.864  1.00  0.00           H  \nHETATM   37  H7  UNL     1       5.468   1.599  -2.282  1.00  0.00           H  \nHETATM   38  H8  UNL     1       5.575   0.931  -2.045  1.00  0.00           H  \nHETATM   39  H9  UNL     1       5.071   0.569  -2.441  1.00  0.00           H  \nHETATM   40  H10 UNL     1       3.264   3.593   2.098  1.00  0.00           H  \nHETATM   41  H11 UNL     1      -0.240   2.994   2.780  1.00  0.00           H  \nHETATM   42  H12 UNL     1       3.232  -1.720  -1.914  1.00  0.00           H  \nHETATM   43  H13 UNL     1       0.369  -1.651  -1.830  1.00  0.00           H  \nHETATM   44  H14 UNL     1       0.235  -4.395   1.332  1.00  0.00           H  \nHETATM   45  H15 UNL     1       0.480  -4.845   0.468  1.00  0.00           H  \nHETATM   46  H16 UNL     1      -2.332  -4.588   0.727  1.00  0.00           H  \nHETATM   47  H17 UNL     1      -2.115  -5.041  -0.064  1.00  0.00           H  \nHETATM   48  H18 UNL     1      -2.740  -3.113  -1.719  1.00  0.00           H  \nHETATM   49  H19 UNL     1      -3.298  -2.877  -1.011  1.00  0.00           H  \nHETATM   50  H20 UNL     1      -1.834  -0.866  -1.604  1.00  0.00           H  \nHETATM   51  H21 UNL     1      -2.259  -1.437   1.350  1.00  0.00           H  \nHETATM   52  H22 UNL     1      -4.667  -1.364   1.254  1.00  0.00           H  \nHETATM   53  H23 UNL     1      -7.833  -0.605   1.198  1.00  0.00           H  \nHETATM   54  H24 UNL     1      -7.725   2.643  -0.777  1.00  0.00           H  \nHETATM   55  H25 UNL     1      -2.404   1.636  -0.849  1.00  0.00           H  \nHETATM   56  H26 UNL     1      -1.373   0.846   1.549  1.00  0.00           H  \nCONECT    1    2   31   32   33\nCONECT    2    3    4    5\nCONECT    3   34   35   36\nCONECT    4   37   38   39\nCONECT    5    6    6   12\nCONECT    6    7    8\nCONECT    7   40\nCONECT    8    9   10   10\nCONECT    9   41\nCONECT   10   11   30\nCONECT   11   12   12   14\nCONECT   12   13\nCONECT   13   42\nCONECT   14   15   19   43\nCONECT   15   16\nCONECT   16   17   44   45\nCONECT   17   18   46   47\nCONECT   18   19   48   49\nCONECT   19   20   50\nCONECT   20   21   30   51\nCONECT   21   22   22   29\nCONECT   22   23   52\nCONECT   23   24   25   25\nCONECT   24   53\nCONECT   25   26   27\nCONECT   26   54\nCONECT   27   28   29   29\nCONECT   29   55\nCONECT   30   56\n",
           "type": "blob"
          }
         ],
         "kwargs": {
          "defaultRepresentation": true,
          "ext": "pdb",
          "name": "<openff.toolkit.utils.viz._OFFTrajectoryNGLView object at 0x7fe6e016a440>"
         },
         "methodName": "loadFile",
         "reconstruc_color_scheme": false,
         "target": "Stage",
         "type": "call_method"
        }
       ],
       "_ngl_original_stage_parameters": {},
       "_ngl_repr_dict": {},
       "_ngl_serialize": false,
       "_ngl_version": "",
       "_ngl_view_id": [],
       "_player_dict": {},
       "_scene_position": {},
       "_scene_rotation": {},
       "_synced_model_ids": [],
       "_synced_repr_model_ids": [],
       "_view_count": null,
       "_view_height": "",
       "_view_module": "nglview-js-widgets",
       "_view_module_version": "3.0.6",
       "_view_name": "NGLView",
       "_view_width": "",
       "background": "white",
       "frame": 0,
       "gui_style": null,
       "layout": "IPY_MODEL_22c2cb6c729443aa8d0156ab617b1d82",
       "max_frame": 0,
       "n_components": 0,
       "picked": {},
       "tabbable": null,
       "tooltip": null
      }
     },
     "92b1b13475044018b2e9e8a9f3b1fd3b": {
      "model_module": "@jupyter-widgets/controls",
      "model_module_version": "2.0.0",
      "model_name": "SliderStyleModel",
      "state": {
       "_model_module": "@jupyter-widgets/controls",
       "_model_module_version": "2.0.0",
       "_model_name": "SliderStyleModel",
       "_view_count": null,
       "_view_module": "@jupyter-widgets/base",
       "_view_module_version": "2.0.0",
       "_view_name": "StyleView",
       "description_width": "",
       "handle_color": null
      }
     },
     "94541091347a4fb6837cfd6635eb1c6d": {
      "buffers": [
       {
        "data": "",
        "encoding": "base64",
        "path": [
         "value"
        ]
       }
      ],
      "model_module": "@jupyter-widgets/controls",
      "model_module_version": "2.0.0",
      "model_name": "ImageModel",
      "state": {
       "_dom_classes": [],
       "_model_module": "@jupyter-widgets/controls",
       "_model_module_version": "2.0.0",
       "_model_name": "ImageModel",
       "_view_count": null,
       "_view_module": "@jupyter-widgets/controls",
       "_view_module_version": "2.0.0",
       "_view_name": "ImageView",
       "format": "png",
       "height": "",
       "layout": "IPY_MODEL_483b340b964644e085bfca861a46a192",
       "tabbable": null,
       "tooltip": null,
       "width": "900.0"
      }
     },
     "95681aef6392424aad2747423f499821": {
      "model_module": "@jupyter-widgets/base",
      "model_module_version": "2.0.0",
      "model_name": "LayoutModel",
      "state": {
       "_model_module": "@jupyter-widgets/base",
       "_model_module_version": "2.0.0",
       "_model_name": "LayoutModel",
       "_view_count": null,
       "_view_module": "@jupyter-widgets/base",
       "_view_module_version": "2.0.0",
       "_view_name": "LayoutView",
       "align_content": null,
       "align_items": null,
       "align_self": null,
       "border_bottom": null,
       "border_left": null,
       "border_right": null,
       "border_top": null,
       "bottom": null,
       "display": null,
       "flex": null,
       "flex_flow": null,
       "grid_area": null,
       "grid_auto_columns": null,
       "grid_auto_flow": null,
       "grid_auto_rows": null,
       "grid_column": null,
       "grid_gap": null,
       "grid_row": null,
       "grid_template_areas": null,
       "grid_template_columns": null,
       "grid_template_rows": null,
       "height": null,
       "justify_content": null,
       "justify_items": null,
       "left": null,
       "margin": null,
       "max_height": null,
       "max_width": null,
       "min_height": null,
       "min_width": null,
       "object_fit": null,
       "object_position": null,
       "order": null,
       "overflow": null,
       "padding": null,
       "right": null,
       "top": null,
       "visibility": null,
       "width": null
      }
     },
     "987b2b4a0f4d4d908bf7bc0aea47941b": {
      "model_module": "@jupyter-widgets/controls",
      "model_module_version": "2.0.0",
      "model_name": "LinkModel",
      "state": {
       "_model_module": "@jupyter-widgets/controls",
       "_model_module_version": "2.0.0",
       "_model_name": "LinkModel",
       "_view_count": null,
       "_view_module": "@jupyter-widgets/controls",
       "_view_module_version": "2.0.0",
       "_view_name": null,
       "source": [
        "IPY_MODEL_457be370ef674000bed29239286dba89",
        "value"
       ],
       "target": [
        "IPY_MODEL_9bc54e817f2a406fbc96f4606e226892",
        "value"
       ]
      }
     },
     "9a286fe73dba48c8a9ef1d6205e5ada8": {
      "model_module": "@jupyter-widgets/controls",
      "model_module_version": "2.0.0",
      "model_name": "LinkModel",
      "state": {
       "_model_module": "@jupyter-widgets/controls",
       "_model_module_version": "2.0.0",
       "_model_name": "LinkModel",
       "_view_count": null,
       "_view_module": "@jupyter-widgets/controls",
       "_view_module_version": "2.0.0",
       "_view_name": null,
       "source": [
        "IPY_MODEL_02bb5d7e27ad4574ac446b70a1674f55",
        "max"
       ],
       "target": [
        "IPY_MODEL_922fb0a6445d48d4912df75c4b7cfe74",
        "max_frame"
       ]
      }
     },
     "9bc54e817f2a406fbc96f4606e226892": {
      "model_module": "@jupyter-widgets/controls",
      "model_module_version": "2.0.0",
      "model_name": "IntSliderModel",
      "state": {
       "_dom_classes": [],
       "_model_module": "@jupyter-widgets/controls",
       "_model_module_version": "2.0.0",
       "_model_name": "IntSliderModel",
       "_view_count": null,
       "_view_module": "@jupyter-widgets/controls",
       "_view_module_version": "2.0.0",
       "_view_name": "IntSliderView",
       "behavior": "drag-tap",
       "continuous_update": true,
       "description": "",
       "description_allow_html": false,
       "disabled": false,
       "layout": "IPY_MODEL_407e5d11656040e5a1fa8a1bf568d4b4",
       "max": 0,
       "min": 0,
       "orientation": "horizontal",
       "readout": true,
       "readout_format": "d",
       "step": 1,
       "style": "IPY_MODEL_2964b9cd3b5b4c0aa3832f115d30c456",
       "tabbable": null,
       "tooltip": null,
       "value": 0
      }
     },
     "9cbfa985448d4b0482414d48bd585c4d": {
      "model_module": "@jupyter-widgets/base",
      "model_module_version": "2.0.0",
      "model_name": "LayoutModel",
      "state": {
       "_model_module": "@jupyter-widgets/base",
       "_model_module_version": "2.0.0",
       "_model_name": "LayoutModel",
       "_view_count": null,
       "_view_module": "@jupyter-widgets/base",
       "_view_module_version": "2.0.0",
       "_view_name": "LayoutView",
       "align_content": null,
       "align_items": null,
       "align_self": null,
       "border_bottom": null,
       "border_left": null,
       "border_right": null,
       "border_top": null,
       "bottom": null,
       "display": null,
       "flex": null,
       "flex_flow": null,
       "grid_area": null,
       "grid_auto_columns": null,
       "grid_auto_flow": null,
       "grid_auto_rows": null,
       "grid_column": null,
       "grid_gap": null,
       "grid_row": null,
       "grid_template_areas": null,
       "grid_template_columns": null,
       "grid_template_rows": null,
       "height": null,
       "justify_content": null,
       "justify_items": null,
       "left": null,
       "margin": null,
       "max_height": null,
       "max_width": null,
       "min_height": null,
       "min_width": null,
       "object_fit": null,
       "object_position": null,
       "order": null,
       "overflow": null,
       "padding": null,
       "right": null,
       "top": null,
       "visibility": null,
       "width": "34px"
      }
     },
     "9d8cc783fbb0446e83d0a2a7e4aa86e4": {
      "model_module": "@jupyter-widgets/controls",
      "model_module_version": "2.0.0",
      "model_name": "HBoxModel",
      "state": {
       "_dom_classes": [],
       "_model_module": "@jupyter-widgets/controls",
       "_model_module_version": "2.0.0",
       "_model_name": "HBoxModel",
       "_view_count": null,
       "_view_module": "@jupyter-widgets/controls",
       "_view_module_version": "2.0.0",
       "_view_name": "HBoxView",
       "box_style": "",
       "children": [
        "IPY_MODEL_457be370ef674000bed29239286dba89",
        "IPY_MODEL_9bc54e817f2a406fbc96f4606e226892"
       ],
       "layout": "IPY_MODEL_7441b22960a942ddac9141288f23386e",
       "tabbable": null,
       "tooltip": null
      }
     },
     "9e4a4e0b409f4ca6928cb12f93ad72fb": {
      "model_module": "nglview-js-widgets",
      "model_module_version": "3.0.6",
      "model_name": "ColormakerRegistryModel",
      "state": {
       "_dom_classes": [],
       "_model_module": "nglview-js-widgets",
       "_model_module_version": "3.0.6",
       "_model_name": "ColormakerRegistryModel",
       "_msg_ar": [],
       "_msg_q": [],
       "_ready": false,
       "_view_count": null,
       "_view_module": "nglview-js-widgets",
       "_view_module_version": "3.0.6",
       "_view_name": "ColormakerRegistryView",
       "layout": "IPY_MODEL_31152bca0fcc41f88124868e98b048ff",
       "tabbable": null,
       "tooltip": null
      }
     },
     "a0a9954b37004434a4d5504f3a5c61e6": {
      "model_module": "@jupyter-widgets/controls",
      "model_module_version": "2.0.0",
      "model_name": "LinkModel",
      "state": {
       "_model_module": "@jupyter-widgets/controls",
       "_model_module_version": "2.0.0",
       "_model_name": "LinkModel",
       "_view_count": null,
       "_view_module": "@jupyter-widgets/controls",
       "_view_module_version": "2.0.0",
       "_view_name": null,
       "source": [
        "IPY_MODEL_22b32a1c337f44e0b524ac949fb9e379",
        "value"
       ],
       "target": [
        "IPY_MODEL_bd68b83b20d44434bc625939ce8b341f",
        "value"
       ]
      }
     },
     "a4b2c94e52974fed85713c846d589435": {
      "model_module": "@jupyter-widgets/controls",
      "model_module_version": "2.0.0",
      "model_name": "DescriptionStyleModel",
      "state": {
       "_model_module": "@jupyter-widgets/controls",
       "_model_module_version": "2.0.0",
       "_model_name": "DescriptionStyleModel",
       "_view_count": null,
       "_view_module": "@jupyter-widgets/base",
       "_view_module_version": "2.0.0",
       "_view_name": "StyleView",
       "description_width": ""
      }
     },
     "ac948632f65e4d5f904b2a79d90377fd": {
      "model_module": "@jupyter-widgets/controls",
      "model_module_version": "2.0.0",
      "model_name": "PlayModel",
      "state": {
       "_dom_classes": [],
       "_model_module": "@jupyter-widgets/controls",
       "_model_module_version": "2.0.0",
       "_model_name": "PlayModel",
       "_view_count": null,
       "_view_module": "@jupyter-widgets/controls",
       "_view_module_version": "2.0.0",
       "_view_name": "PlayView",
       "description": "",
       "description_allow_html": false,
       "disabled": false,
       "interval": 100,
       "layout": "IPY_MODEL_95681aef6392424aad2747423f499821",
       "max": 0,
       "min": 0,
       "playing": false,
       "repeat": false,
       "show_repeat": true,
       "step": 1,
       "style": "IPY_MODEL_21707df684f349a2bbe41515ad78951c",
       "tabbable": null,
       "tooltip": null,
       "value": 0
      }
     },
     "acb8ddc42dc14020b43959742c39bd08": {
      "model_module": "@jupyter-widgets/controls",
      "model_module_version": "2.0.0",
      "model_name": "LinkModel",
      "state": {
       "_model_module": "@jupyter-widgets/controls",
       "_model_module_version": "2.0.0",
       "_model_name": "LinkModel",
       "_view_count": null,
       "_view_module": "@jupyter-widgets/controls",
       "_view_module_version": "2.0.0",
       "_view_name": null,
       "source": [
        "IPY_MODEL_ac948632f65e4d5f904b2a79d90377fd",
        "max"
       ],
       "target": [
        "IPY_MODEL_d99bae9fce4143a79af5fcdd23416601",
        "max_frame"
       ]
      }
     },
     "b2d406ca940e442a872908737b48d506": {
      "model_module": "@jupyter-widgets/controls",
      "model_module_version": "2.0.0",
      "model_name": "ButtonStyleModel",
      "state": {
       "_model_module": "@jupyter-widgets/controls",
       "_model_module_version": "2.0.0",
       "_model_name": "ButtonStyleModel",
       "_view_count": null,
       "_view_module": "@jupyter-widgets/base",
       "_view_module_version": "2.0.0",
       "_view_name": "StyleView",
       "button_color": null,
       "font_family": null,
       "font_size": null,
       "font_style": null,
       "font_variant": null,
       "font_weight": null,
       "text_color": null,
       "text_decoration": null
      }
     },
     "b5451394edb44df2a8ac31494ebef410": {
      "model_module": "@jupyter-widgets/controls",
      "model_module_version": "2.0.0",
      "model_name": "ButtonModel",
      "state": {
       "_dom_classes": [],
       "_model_module": "@jupyter-widgets/controls",
       "_model_module_version": "2.0.0",
       "_model_name": "ButtonModel",
       "_view_count": null,
       "_view_module": "@jupyter-widgets/controls",
       "_view_module_version": "2.0.0",
       "_view_name": "ButtonView",
       "button_style": "",
       "description": "",
       "disabled": false,
       "icon": "compress",
       "layout": "IPY_MODEL_22fd5aa6fac64fc8bf116f129d1d8df2",
       "style": "IPY_MODEL_e8bf0ba3f4ea4a8eb1a22a943d82f343",
       "tabbable": null,
       "tooltip": null
      }
     },
     "b804d40647974e3c8cee013f9b455eb8": {
      "buffers": [
       {
        "data": "",
        "encoding": "base64",
        "path": [
         "value"
        ]
       }
      ],
      "model_module": "@jupyter-widgets/controls",
      "model_module_version": "2.0.0",
      "model_name": "ImageModel",
      "state": {
       "_dom_classes": [],
       "_model_module": "@jupyter-widgets/controls",
       "_model_module_version": "2.0.0",
       "_model_name": "ImageModel",
       "_view_count": null,
       "_view_module": "@jupyter-widgets/controls",
       "_view_module_version": "2.0.0",
       "_view_name": "ImageView",
       "format": "png",
       "height": "",
       "layout": "IPY_MODEL_25c970694ad142fda6c7d23492759ee2",
       "tabbable": null,
       "tooltip": null,
       "width": "900.0"
      }
     },
     "b9fe965cb3b748a49a395a16176c2b28": {
      "model_module": "@jupyter-widgets/controls",
      "model_module_version": "2.0.0",
      "model_name": "LinkModel",
      "state": {
       "_model_module": "@jupyter-widgets/controls",
       "_model_module_version": "2.0.0",
       "_model_name": "LinkModel",
       "_view_count": null,
       "_view_module": "@jupyter-widgets/controls",
       "_view_module_version": "2.0.0",
       "_view_name": null,
       "source": [
        "IPY_MODEL_457be370ef674000bed29239286dba89",
        "value"
       ],
       "target": [
        "IPY_MODEL_fa5df015a66740e2a173e05976aa2831",
        "frame"
       ]
      }
     },
     "bd68b83b20d44434bc625939ce8b341f": {
      "model_module": "@jupyter-widgets/controls",
      "model_module_version": "2.0.0",
      "model_name": "IntSliderModel",
      "state": {
       "_dom_classes": [],
       "_model_module": "@jupyter-widgets/controls",
       "_model_module_version": "2.0.0",
       "_model_name": "IntSliderModel",
       "_view_count": null,
       "_view_module": "@jupyter-widgets/controls",
       "_view_module_version": "2.0.0",
       "_view_name": "IntSliderView",
       "behavior": "drag-tap",
       "continuous_update": true,
       "description": "",
       "description_allow_html": false,
       "disabled": false,
       "layout": "IPY_MODEL_27a4838777014886830f937aa667a435",
       "max": 0,
       "min": 0,
       "orientation": "horizontal",
       "readout": true,
       "readout_format": "d",
       "step": 1,
       "style": "IPY_MODEL_e081fe1b8eba4040ae26dd244e3573ab",
       "tabbable": null,
       "tooltip": null,
       "value": 0
      }
     },
     "c056043301634089b3772368b07cd02e": {
      "model_module": "@jupyter-widgets/controls",
      "model_module_version": "2.0.0",
      "model_name": "ButtonModel",
      "state": {
       "_dom_classes": [],
       "_model_module": "@jupyter-widgets/controls",
       "_model_module_version": "2.0.0",
       "_model_name": "ButtonModel",
       "_view_count": null,
       "_view_module": "@jupyter-widgets/controls",
       "_view_module_version": "2.0.0",
       "_view_name": "ButtonView",
       "button_style": "",
       "description": "",
       "disabled": false,
       "icon": "compress",
       "layout": "IPY_MODEL_220be6fcfe3d49dea96c416b45b2fec6",
       "style": "IPY_MODEL_43787a5011a042af9d68f30ca218ef01",
       "tabbable": null,
       "tooltip": null
      }
     },
     "c5cf9c4bc3444ea1b137531a4bb12d49": {
      "model_module": "@jupyter-widgets/controls",
      "model_module_version": "2.0.0",
      "model_name": "LinkModel",
      "state": {
       "_model_module": "@jupyter-widgets/controls",
       "_model_module_version": "2.0.0",
       "_model_name": "LinkModel",
       "_view_count": null,
       "_view_module": "@jupyter-widgets/controls",
       "_view_module_version": "2.0.0",
       "_view_name": null,
       "source": [
        "IPY_MODEL_ac948632f65e4d5f904b2a79d90377fd",
        "value"
       ],
       "target": [
        "IPY_MODEL_d99bae9fce4143a79af5fcdd23416601",
        "frame"
       ]
      }
     },
     "c8f17ae344b64fe5955aa4950e39a4bb": {
      "model_module": "@jupyter-widgets/controls",
      "model_module_version": "2.0.0",
      "model_name": "LinkModel",
      "state": {
       "_model_module": "@jupyter-widgets/controls",
       "_model_module_version": "2.0.0",
       "_model_name": "LinkModel",
       "_view_count": null,
       "_view_module": "@jupyter-widgets/controls",
       "_view_module_version": "2.0.0",
       "_view_name": null,
       "source": [
        "IPY_MODEL_6a3b6e704fe248a5a0ee11ac91035ed0",
        "max"
       ],
       "target": [
        "IPY_MODEL_d99bae9fce4143a79af5fcdd23416601",
        "max_frame"
       ]
      }
     },
     "cc93d2dc779d4149bdf0bbdaef74fe82": {
      "model_module": "@jupyter-widgets/controls",
      "model_module_version": "2.0.0",
      "model_name": "LinkModel",
      "state": {
       "_model_module": "@jupyter-widgets/controls",
       "_model_module_version": "2.0.0",
       "_model_name": "LinkModel",
       "_view_count": null,
       "_view_module": "@jupyter-widgets/controls",
       "_view_module_version": "2.0.0",
       "_view_name": null,
       "source": [
        "IPY_MODEL_457be370ef674000bed29239286dba89",
        "max"
       ],
       "target": [
        "IPY_MODEL_fa5df015a66740e2a173e05976aa2831",
        "max_frame"
       ]
      }
     },
     "d7f8ab1cab904482920ad0931d6e739d": {
      "model_module": "@jupyter-widgets/base",
      "model_module_version": "2.0.0",
      "model_name": "LayoutModel",
      "state": {
       "_model_module": "@jupyter-widgets/base",
       "_model_module_version": "2.0.0",
       "_model_name": "LayoutModel",
       "_view_count": null,
       "_view_module": "@jupyter-widgets/base",
       "_view_module_version": "2.0.0",
       "_view_name": "LayoutView",
       "align_content": null,
       "align_items": null,
       "align_self": null,
       "border_bottom": null,
       "border_left": null,
       "border_right": null,
       "border_top": null,
       "bottom": null,
       "display": null,
       "flex": null,
       "flex_flow": null,
       "grid_area": null,
       "grid_auto_columns": null,
       "grid_auto_flow": null,
       "grid_auto_rows": null,
       "grid_column": null,
       "grid_gap": null,
       "grid_row": null,
       "grid_template_areas": null,
       "grid_template_columns": null,
       "grid_template_rows": null,
       "height": null,
       "justify_content": null,
       "justify_items": null,
       "left": null,
       "margin": null,
       "max_height": null,
       "max_width": null,
       "min_height": null,
       "min_width": null,
       "object_fit": null,
       "object_position": null,
       "order": null,
       "overflow": null,
       "padding": null,
       "right": null,
       "top": null,
       "visibility": null,
       "width": null
      }
     },
     "d805751fa74540209c229ed06b6f2576": {
      "model_module": "@jupyter-widgets/base",
      "model_module_version": "2.0.0",
      "model_name": "LayoutModel",
      "state": {
       "_model_module": "@jupyter-widgets/base",
       "_model_module_version": "2.0.0",
       "_model_name": "LayoutModel",
       "_view_count": null,
       "_view_module": "@jupyter-widgets/base",
       "_view_module_version": "2.0.0",
       "_view_name": "LayoutView",
       "align_content": null,
       "align_items": null,
       "align_self": null,
       "border_bottom": null,
       "border_left": null,
       "border_right": null,
       "border_top": null,
       "bottom": null,
       "display": null,
       "flex": null,
       "flex_flow": null,
       "grid_area": null,
       "grid_auto_columns": null,
       "grid_auto_flow": null,
       "grid_auto_rows": null,
       "grid_column": null,
       "grid_gap": null,
       "grid_row": null,
       "grid_template_areas": null,
       "grid_template_columns": null,
       "grid_template_rows": null,
       "height": null,
       "justify_content": null,
       "justify_items": null,
       "left": null,
       "margin": null,
       "max_height": null,
       "max_width": null,
       "min_height": null,
       "min_width": null,
       "object_fit": null,
       "object_position": null,
       "order": null,
       "overflow": null,
       "padding": null,
       "right": null,
       "top": null,
       "visibility": null,
       "width": null
      }
     },
     "d99bae9fce4143a79af5fcdd23416601": {
      "model_module": "nglview-js-widgets",
      "model_module_version": "3.0.6",
      "model_name": "NGLModel",
      "state": {
       "_camera_orientation": [],
       "_camera_str": "orthographic",
       "_dom_classes": [],
       "_gui_theme": null,
       "_ibtn_fullscreen": "IPY_MODEL_fe54a1462f844776a38fa414d309cc00",
       "_igui": null,
       "_iplayer": "IPY_MODEL_8626be21fec643118fdeddbcab3b1366",
       "_model_module": "nglview-js-widgets",
       "_model_module_version": "3.0.6",
       "_model_name": "NGLModel",
       "_ngl_color_dict": {},
       "_ngl_coordinate_resource": {},
       "_ngl_full_stage_parameters": {},
       "_ngl_msg_archive": [
        {
         "args": [
          {
           "binary": false,
           "data": "HETATM    1  C1  UNL     1       5.351   1.818  -0.161  1.00  0.00           C  \nHETATM    2  C2  UNL     1       4.785   0.434   0.233  1.00  0.00           C  \nHETATM    3  C3  UNL     1       5.331   0.002   1.609  1.00  0.00           C  \nHETATM    4  C4  UNL     1       5.410  -0.549  -0.783  1.00  0.00           C  \nHETATM    5  C5  UNL     1       3.227   0.485   0.279  1.00  0.00           C  \nHETATM    6  C6  UNL     1       2.579   1.405   1.142  1.00  0.00           C  \nHETATM    7  O1  UNL     1       3.208   2.271   1.983  1.00  0.00           O  \nHETATM    8  C7  UNL     1       1.193   1.501   1.231  1.00  0.00           C  \nHETATM    9  O2  UNL     1       0.617   2.382   2.125  1.00  0.00           O  \nHETATM   10  C8  UNL     1       0.389   0.689   0.442  1.00  0.00           C  \nHETATM   11  C9  UNL     1       0.955  -0.245  -0.422  1.00  0.00           C  \nHETATM   12  C10 UNL     1       2.361  -0.353  -0.485  1.00  0.00           C  \nHETATM   13  O3  UNL     1       2.807  -1.334  -1.318  1.00  0.00           O  \nHETATM   14  C11 UNL     1       0.074  -1.083  -1.341  1.00  0.00           C  \nHETATM   15  O4  UNL     1       0.424  -2.479  -1.214  1.00  0.00           O  \nHETATM   16  C12 UNL     1      -0.329  -3.203  -0.235  1.00  0.00           C  \nHETATM   17  C13 UNL     1      -1.802  -3.291  -0.661  1.00  0.00           C  \nHETATM   18  C14 UNL     1      -2.224  -2.113  -1.558  1.00  0.00           C  \nHETATM   19  C15 UNL     1      -1.453  -0.821  -1.218  1.00  0.00           C  \nHETATM   20  C16 UNL     1      -1.856  -0.271   0.166  1.00  0.00           C  \nHETATM   21  C17 UNL     1      -3.289   0.229   0.193  1.00  0.00           C  \nHETATM   22  C18 UNL     1      -4.222  -0.357   1.063  1.00  0.00           C  \nHETATM   23  C19 UNL     1      -5.548   0.087   1.105  1.00  0.00           C  \nHETATM   24  O5  UNL     1      -6.426  -0.514   1.969  1.00  0.00           O  \nHETATM   25  C20 UNL     1      -5.962   1.139   0.268  1.00  0.00           C  \nHETATM   26  O6  UNL     1      -7.259   1.595   0.289  1.00  0.00           O  \nHETATM   27  C21 UNL     1      -5.038   1.732  -0.600  1.00  0.00           C  \nHETATM   28  F1  UNL     1      -7.888   9.225  -6.578  1.00  0.00           F  \nHETATM   29  C22 UNL     1      -3.716   1.282  -0.634  1.00  0.00           C  \nHETATM   30  N1  UNL     1      -0.987   0.847   0.527  1.00  0.00           N  \nHETATM   31  H1  UNL     1       5.197   2.564   0.624  1.00  0.00           H  \nHETATM   32  H2  UNL     1       4.870   2.175  -1.076  1.00  0.00           H  \nHETATM   33  H3  UNL     1       6.429   1.762  -0.339  1.00  0.00           H  \nHETATM   34  H4  UNL     1       6.419  -0.105   1.577  1.00  0.00           H  \nHETATM   35  H5  UNL     1       5.097   0.734   2.388  1.00  0.00           H  \nHETATM   36  H6  UNL     1       4.899  -0.959   1.901  1.00  0.00           H  \nHETATM   37  H7  UNL     1       6.502  -0.483  -0.770  1.00  0.00           H  \nHETATM   38  H8  UNL     1       5.146  -1.582  -0.539  1.00  0.00           H  \nHETATM   39  H9  UNL     1       5.076  -0.321  -1.799  1.00  0.00           H  \nHETATM   40  H10 UNL     1       2.483   2.741   2.428  1.00  0.00           H  \nHETATM   41  H11 UNL     1      -0.312   2.125   2.245  1.00  0.00           H  \nHETATM   42  H12 UNL     1       2.063  -1.943  -1.455  1.00  0.00           H  \nHETATM   43  H13 UNL     1       0.338  -0.798  -2.364  1.00  0.00           H  \nHETATM   44  H14 UNL     1      -0.241  -2.708   0.737  1.00  0.00           H  \nHETATM   45  H15 UNL     1       0.081  -4.211  -0.121  1.00  0.00           H  \nHETATM   46  H16 UNL     1      -2.428  -3.322   0.235  1.00  0.00           H  \nHETATM   47  H17 UNL     1      -1.967  -4.223  -1.208  1.00  0.00           H  \nHETATM   48  H18 UNL     1      -2.008  -2.374  -2.598  1.00  0.00           H  \nHETATM   49  H19 UNL     1      -3.304  -1.957  -1.484  1.00  0.00           H  \nHETATM   50  H20 UNL     1      -1.706  -0.063  -1.966  1.00  0.00           H  \nHETATM   51  H21 UNL     1      -1.736  -1.051   0.923  1.00  0.00           H  \nHETATM   52  H22 UNL     1      -3.910  -1.168   1.713  1.00  0.00           H  \nHETATM   53  H23 UNL     1      -5.977  -1.190   2.504  1.00  0.00           H  \nHETATM   54  H24 UNL     1      -7.382   2.319  -0.347  1.00  0.00           H  \nHETATM   55  H25 UNL     1      -3.025   1.761  -1.320  1.00  0.00           H  \nHETATM   56  H26 UNL     1      -1.331   1.780   0.303  1.00  0.00           H  \nCONECT    1    2   31   32   33\nCONECT    2    3    4    5\nCONECT    3   34   35   36\nCONECT    4   37   38   39\nCONECT    5    6    6   12\nCONECT    6    7    8\nCONECT    7   40\nCONECT    8    9   10   10\nCONECT    9   41\nCONECT   10   11   30\nCONECT   11   12   12   14\nCONECT   12   13\nCONECT   13   42\nCONECT   14   15   19   43\nCONECT   15   16\nCONECT   16   17   44   45\nCONECT   17   18   46   47\nCONECT   18   19   48   49\nCONECT   19   20   50\nCONECT   20   21   30   51\nCONECT   21   22   22   29\nCONECT   22   23   52\nCONECT   23   24   25   25\nCONECT   24   53\nCONECT   25   26   27\nCONECT   26   54\nCONECT   27   28   29   29\nCONECT   29   55\nCONECT   30   56\n",
           "type": "blob"
          }
         ],
         "kwargs": {
          "defaultRepresentation": true,
          "ext": "pdb",
          "name": "<openff.toolkit.utils.viz._OFFTrajectoryNGLView object at 0x7fe6e2315900>"
         },
         "methodName": "loadFile",
         "reconstruc_color_scheme": false,
         "target": "Stage",
         "type": "call_method"
        }
       ],
       "_ngl_original_stage_parameters": {},
       "_ngl_repr_dict": {},
       "_ngl_serialize": false,
       "_ngl_version": "",
       "_ngl_view_id": [],
       "_player_dict": {},
       "_scene_position": {},
       "_scene_rotation": {},
       "_synced_model_ids": [],
       "_synced_repr_model_ids": [],
       "_view_count": null,
       "_view_height": "",
       "_view_module": "nglview-js-widgets",
       "_view_module_version": "3.0.6",
       "_view_name": "NGLView",
       "_view_width": "",
       "background": "white",
       "frame": 0,
       "gui_style": null,
       "layout": "IPY_MODEL_ff7b3c263243444290239d25a53d7ff0",
       "max_frame": 0,
       "n_components": 0,
       "picked": {},
       "tabbable": null,
       "tooltip": null
      }
     },
     "dc0ab9f1af224a7e8612fbd6a7869344": {
      "model_module": "@jupyter-widgets/controls",
      "model_module_version": "2.0.0",
      "model_name": "LinkModel",
      "state": {
       "_model_module": "@jupyter-widgets/controls",
       "_model_module_version": "2.0.0",
       "_model_name": "LinkModel",
       "_view_count": null,
       "_view_module": "@jupyter-widgets/controls",
       "_view_module_version": "2.0.0",
       "_view_name": null,
       "source": [
        "IPY_MODEL_ac948632f65e4d5f904b2a79d90377fd",
        "value"
       ],
       "target": [
        "IPY_MODEL_6a3b6e704fe248a5a0ee11ac91035ed0",
        "value"
       ]
      }
     },
     "e081fe1b8eba4040ae26dd244e3573ab": {
      "model_module": "@jupyter-widgets/controls",
      "model_module_version": "2.0.0",
      "model_name": "SliderStyleModel",
      "state": {
       "_model_module": "@jupyter-widgets/controls",
       "_model_module_version": "2.0.0",
       "_model_name": "SliderStyleModel",
       "_view_count": null,
       "_view_module": "@jupyter-widgets/base",
       "_view_module_version": "2.0.0",
       "_view_name": "StyleView",
       "description_width": "",
       "handle_color": null
      }
     },
     "e19706790f0c4163890d7dac4532010a": {
      "model_module": "@jupyter-widgets/controls",
      "model_module_version": "2.0.0",
      "model_name": "LinkModel",
      "state": {
       "_model_module": "@jupyter-widgets/controls",
       "_model_module_version": "2.0.0",
       "_model_name": "LinkModel",
       "_view_count": null,
       "_view_module": "@jupyter-widgets/controls",
       "_view_module_version": "2.0.0",
       "_view_name": null,
       "source": [
        "IPY_MODEL_8023900cbcac4c0d94847bac64322d56",
        "max"
       ],
       "target": [
        "IPY_MODEL_922fb0a6445d48d4912df75c4b7cfe74",
        "max_frame"
       ]
      }
     },
     "e1a9dc50e16148348dbd40860dd7d387": {
      "model_module": "@jupyter-widgets/base",
      "model_module_version": "2.0.0",
      "model_name": "LayoutModel",
      "state": {
       "_model_module": "@jupyter-widgets/base",
       "_model_module_version": "2.0.0",
       "_model_name": "LayoutModel",
       "_view_count": null,
       "_view_module": "@jupyter-widgets/base",
       "_view_module_version": "2.0.0",
       "_view_name": "LayoutView",
       "align_content": null,
       "align_items": null,
       "align_self": null,
       "border_bottom": null,
       "border_left": null,
       "border_right": null,
       "border_top": null,
       "bottom": null,
       "display": null,
       "flex": null,
       "flex_flow": null,
       "grid_area": null,
       "grid_auto_columns": null,
       "grid_auto_flow": null,
       "grid_auto_rows": null,
       "grid_column": null,
       "grid_gap": null,
       "grid_row": null,
       "grid_template_areas": null,
       "grid_template_columns": null,
       "grid_template_rows": null,
       "height": null,
       "justify_content": null,
       "justify_items": null,
       "left": null,
       "margin": null,
       "max_height": null,
       "max_width": null,
       "min_height": null,
       "min_width": null,
       "object_fit": null,
       "object_position": null,
       "order": null,
       "overflow": null,
       "padding": null,
       "right": null,
       "top": null,
       "visibility": null,
       "width": null
      }
     },
     "e2397019a72f4b4ebba82d6d1e73b8ec": {
      "model_module": "@jupyter-widgets/base",
      "model_module_version": "2.0.0",
      "model_name": "LayoutModel",
      "state": {
       "_model_module": "@jupyter-widgets/base",
       "_model_module_version": "2.0.0",
       "_model_name": "LayoutModel",
       "_view_count": null,
       "_view_module": "@jupyter-widgets/base",
       "_view_module_version": "2.0.0",
       "_view_name": "LayoutView",
       "align_content": null,
       "align_items": null,
       "align_self": null,
       "border_bottom": null,
       "border_left": null,
       "border_right": null,
       "border_top": null,
       "bottom": null,
       "display": null,
       "flex": null,
       "flex_flow": null,
       "grid_area": null,
       "grid_auto_columns": null,
       "grid_auto_flow": null,
       "grid_auto_rows": null,
       "grid_column": null,
       "grid_gap": null,
       "grid_row": null,
       "grid_template_areas": null,
       "grid_template_columns": null,
       "grid_template_rows": null,
       "height": null,
       "justify_content": null,
       "justify_items": null,
       "left": null,
       "margin": null,
       "max_height": null,
       "max_width": null,
       "min_height": null,
       "min_width": null,
       "object_fit": null,
       "object_position": null,
       "order": null,
       "overflow": null,
       "padding": null,
       "right": null,
       "top": null,
       "visibility": null,
       "width": null
      }
     },
     "e8bf0ba3f4ea4a8eb1a22a943d82f343": {
      "model_module": "@jupyter-widgets/controls",
      "model_module_version": "2.0.0",
      "model_name": "ButtonStyleModel",
      "state": {
       "_model_module": "@jupyter-widgets/controls",
       "_model_module_version": "2.0.0",
       "_model_name": "ButtonStyleModel",
       "_view_count": null,
       "_view_module": "@jupyter-widgets/base",
       "_view_module_version": "2.0.0",
       "_view_name": "StyleView",
       "button_color": null,
       "font_family": null,
       "font_size": null,
       "font_style": null,
       "font_variant": null,
       "font_weight": null,
       "text_color": null,
       "text_decoration": null
      }
     },
     "ea5f7d0d419f473fb52cb52884e3ae03": {
      "model_module": "@jupyter-widgets/controls",
      "model_module_version": "2.0.0",
      "model_name": "ButtonStyleModel",
      "state": {
       "_model_module": "@jupyter-widgets/controls",
       "_model_module_version": "2.0.0",
       "_model_name": "ButtonStyleModel",
       "_view_count": null,
       "_view_module": "@jupyter-widgets/base",
       "_view_module_version": "2.0.0",
       "_view_name": "StyleView",
       "button_color": null,
       "font_family": null,
       "font_size": null,
       "font_style": null,
       "font_variant": null,
       "font_weight": null,
       "text_color": null,
       "text_decoration": null
      }
     },
     "ec5f701d44634aadabef9f1f12f5fd4d": {
      "model_module": "@jupyter-widgets/controls",
      "model_module_version": "2.0.0",
      "model_name": "DescriptionStyleModel",
      "state": {
       "_model_module": "@jupyter-widgets/controls",
       "_model_module_version": "2.0.0",
       "_model_name": "DescriptionStyleModel",
       "_view_count": null,
       "_view_module": "@jupyter-widgets/base",
       "_view_module_version": "2.0.0",
       "_view_name": "StyleView",
       "description_width": ""
      }
     },
     "ee1b762449ee4685a6d2e136470e4f7f": {
      "model_module": "@jupyter-widgets/base",
      "model_module_version": "2.0.0",
      "model_name": "LayoutModel",
      "state": {
       "_model_module": "@jupyter-widgets/base",
       "_model_module_version": "2.0.0",
       "_model_name": "LayoutModel",
       "_view_count": null,
       "_view_module": "@jupyter-widgets/base",
       "_view_module_version": "2.0.0",
       "_view_name": "LayoutView",
       "align_content": null,
       "align_items": null,
       "align_self": null,
       "border_bottom": null,
       "border_left": null,
       "border_right": null,
       "border_top": null,
       "bottom": null,
       "display": null,
       "flex": null,
       "flex_flow": null,
       "grid_area": null,
       "grid_auto_columns": null,
       "grid_auto_flow": null,
       "grid_auto_rows": null,
       "grid_column": null,
       "grid_gap": null,
       "grid_row": null,
       "grid_template_areas": null,
       "grid_template_columns": null,
       "grid_template_rows": null,
       "height": null,
       "justify_content": null,
       "justify_items": null,
       "left": null,
       "margin": null,
       "max_height": null,
       "max_width": null,
       "min_height": null,
       "min_width": null,
       "object_fit": null,
       "object_position": null,
       "order": null,
       "overflow": null,
       "padding": null,
       "right": null,
       "top": null,
       "visibility": null,
       "width": null
      }
     },
     "ee8d56f14d7c44f1ababdfd0132c58cf": {
      "model_module": "@jupyter-widgets/base",
      "model_module_version": "2.0.0",
      "model_name": "LayoutModel",
      "state": {
       "_model_module": "@jupyter-widgets/base",
       "_model_module_version": "2.0.0",
       "_model_name": "LayoutModel",
       "_view_count": null,
       "_view_module": "@jupyter-widgets/base",
       "_view_module_version": "2.0.0",
       "_view_name": "LayoutView",
       "align_content": null,
       "align_items": null,
       "align_self": null,
       "border_bottom": null,
       "border_left": null,
       "border_right": null,
       "border_top": null,
       "bottom": null,
       "display": null,
       "flex": null,
       "flex_flow": null,
       "grid_area": null,
       "grid_auto_columns": null,
       "grid_auto_flow": null,
       "grid_auto_rows": null,
       "grid_column": null,
       "grid_gap": null,
       "grid_row": null,
       "grid_template_areas": null,
       "grid_template_columns": null,
       "grid_template_rows": null,
       "height": null,
       "justify_content": null,
       "justify_items": null,
       "left": null,
       "margin": null,
       "max_height": null,
       "max_width": null,
       "min_height": null,
       "min_width": null,
       "object_fit": null,
       "object_position": null,
       "order": null,
       "overflow": null,
       "padding": null,
       "right": null,
       "top": null,
       "visibility": null,
       "width": "34px"
      }
     },
     "eebc2cfbdd8643fbab4372fec89f6eef": {
      "model_module": "@jupyter-widgets/controls",
      "model_module_version": "2.0.0",
      "model_name": "LinkModel",
      "state": {
       "_model_module": "@jupyter-widgets/controls",
       "_model_module_version": "2.0.0",
       "_model_name": "LinkModel",
       "_view_count": null,
       "_view_module": "@jupyter-widgets/controls",
       "_view_module_version": "2.0.0",
       "_view_name": null,
       "source": [
        "IPY_MODEL_8165de6a1e0e4e1eb0c43a4cf04853b3",
        "value"
       ],
       "target": [
        "IPY_MODEL_51f0eceb28064e6cbb518ba4173c61fd",
        "value"
       ]
      }
     },
     "f488f02c70b0443ab3c81f869331643f": {
      "model_module": "@jupyter-widgets/base",
      "model_module_version": "2.0.0",
      "model_name": "LayoutModel",
      "state": {
       "_model_module": "@jupyter-widgets/base",
       "_model_module_version": "2.0.0",
       "_model_name": "LayoutModel",
       "_view_count": null,
       "_view_module": "@jupyter-widgets/base",
       "_view_module_version": "2.0.0",
       "_view_name": "LayoutView",
       "align_content": null,
       "align_items": null,
       "align_self": null,
       "border_bottom": null,
       "border_left": null,
       "border_right": null,
       "border_top": null,
       "bottom": null,
       "display": null,
       "flex": null,
       "flex_flow": null,
       "grid_area": null,
       "grid_auto_columns": null,
       "grid_auto_flow": null,
       "grid_auto_rows": null,
       "grid_column": null,
       "grid_gap": null,
       "grid_row": null,
       "grid_template_areas": null,
       "grid_template_columns": null,
       "grid_template_rows": null,
       "height": null,
       "justify_content": null,
       "justify_items": null,
       "left": null,
       "margin": null,
       "max_height": null,
       "max_width": null,
       "min_height": null,
       "min_width": null,
       "object_fit": null,
       "object_position": null,
       "order": null,
       "overflow": null,
       "padding": null,
       "right": null,
       "top": null,
       "visibility": null,
       "width": null
      }
     },
     "f50b5af56d0f4c8bbe3dc60bf9e2d745": {
      "model_module": "@jupyter-widgets/controls",
      "model_module_version": "2.0.0",
      "model_name": "LinkModel",
      "state": {
       "_model_module": "@jupyter-widgets/controls",
       "_model_module_version": "2.0.0",
       "_model_name": "LinkModel",
       "_view_count": null,
       "_view_module": "@jupyter-widgets/controls",
       "_view_module_version": "2.0.0",
       "_view_name": null,
       "source": [
        "IPY_MODEL_8165de6a1e0e4e1eb0c43a4cf04853b3",
        "max"
       ],
       "target": [
        "IPY_MODEL_61c0a11b662446348e31920ee394e0cd",
        "max_frame"
       ]
      }
     },
     "f8ab9cf78e9d4cdbb1083dadcba606cb": {
      "model_module": "@jupyter-widgets/controls",
      "model_module_version": "2.0.0",
      "model_name": "ButtonModel",
      "state": {
       "_dom_classes": [],
       "_model_module": "@jupyter-widgets/controls",
       "_model_module_version": "2.0.0",
       "_model_name": "ButtonModel",
       "_view_count": null,
       "_view_module": "@jupyter-widgets/controls",
       "_view_module_version": "2.0.0",
       "_view_name": "ButtonView",
       "button_style": "",
       "description": "",
       "disabled": false,
       "icon": "compress",
       "layout": "IPY_MODEL_9cbfa985448d4b0482414d48bd585c4d",
       "style": "IPY_MODEL_ea5f7d0d419f473fb52cb52884e3ae03",
       "tabbable": null,
       "tooltip": null
      }
     },
     "fa5df015a66740e2a173e05976aa2831": {
      "model_module": "nglview-js-widgets",
      "model_module_version": "3.0.6",
      "model_name": "NGLModel",
      "state": {
       "_camera_orientation": [],
       "_camera_str": "orthographic",
       "_dom_classes": [],
       "_gui_theme": null,
       "_ibtn_fullscreen": "IPY_MODEL_b5451394edb44df2a8ac31494ebef410",
       "_igui": null,
       "_iplayer": "IPY_MODEL_9d8cc783fbb0446e83d0a2a7e4aa86e4",
       "_model_module": "nglview-js-widgets",
       "_model_module_version": "3.0.6",
       "_model_name": "NGLModel",
       "_ngl_color_dict": {},
       "_ngl_coordinate_resource": {},
       "_ngl_full_stage_parameters": {},
       "_ngl_msg_archive": [
        {
         "args": [
          {
           "binary": false,
           "data": "HETATM    1  C1  UNL     1       5.330   1.847  -0.330  1.00  0.00           C  \nHETATM    2  C2  UNL     1       4.734   0.523   0.200  1.00  0.00           C  \nHETATM    3  C3  UNL     1       5.236   0.245   1.633  1.00  0.00           C  \nHETATM    4  C4  UNL     1       5.375  -0.577  -0.677  1.00  0.00           C  \nHETATM    5  C5  UNL     1       3.177   0.597   0.190  1.00  0.00           C  \nHETATM    6  C6  UNL     1       2.516   1.607   0.935  1.00  0.00           C  \nHETATM    7  O1  UNL     1       3.131   2.545   1.707  1.00  0.00           O  \nHETATM    8  C7  UNL     1       1.130   1.731   0.965  1.00  0.00           C  \nHETATM    9  O2  UNL     1       0.539   2.706   1.744  1.00  0.00           O  \nHETATM   10  C8  UNL     1       0.339   0.854   0.236  1.00  0.00           C  \nHETATM   11  C9  UNL     1       0.916  -0.171  -0.511  1.00  0.00           C  \nHETATM   12  C10 UNL     1       2.322  -0.300  -0.519  1.00  0.00           C  \nHETATM   13  O3  UNL     1       2.779  -1.360  -1.244  1.00  0.00           O  \nHETATM   14  C11 UNL     1       0.047  -1.089  -1.365  1.00  0.00           C  \nHETATM   15  O4  UNL     1       0.389  -2.468  -1.104  1.00  0.00           O  \nHETATM   16  C12 UNL     1      -0.369  -3.087  -0.057  1.00  0.00           C  \nHETATM   17  C13 UNL     1      -1.842  -3.209  -0.473  1.00  0.00           C  \nHETATM   18  C14 UNL     1      -2.250  -2.137  -1.500  1.00  0.00           C  \nHETATM   19  C15 UNL     1      -1.482  -0.816  -1.291  1.00  0.00           C  \nHETATM   20  C16 UNL     1      -1.900  -0.122   0.022  1.00  0.00           C  \nHETATM   21  C17 UNL     1      -3.334   0.374  -0.008  1.00  0.00           C  \nHETATM   22  C18 UNL     1      -4.256  -0.081   0.948  1.00  0.00           C  \nHETATM   23  C19 UNL     1      -5.580   0.368   0.946  1.00  0.00           C  \nHETATM   24  O5  UNL     1      -6.446  -0.101   1.900  1.00  0.00           O  \nHETATM   25  C20 UNL     1      -6.004   1.292  -0.026  1.00  0.00           C  \nHETATM   26  O6  UNL     1      -7.298   1.755  -0.056  1.00  0.00           O  \nHETATM   27  C21 UNL     1      -5.092   1.756  -0.983  1.00  0.00           C  \nHETATM   28  F1  UNL     1      -5.485   2.647  -1.925  1.00  0.00           F  \nHETATM   29  C22 UNL     1      -3.772   1.301  -0.970  1.00  0.00           C  \nHETATM   30  N1  UNL     1      -1.037   1.032   0.262  1.00  0.00           N  \nHETATM   31  H1  UNL     1       5.150   2.681   0.354  1.00  0.00           H  \nHETATM   32  H2  UNL     1       4.891   2.096  -1.300  1.00  0.00           H  \nHETATM   33  H3  UNL     1       6.414   1.765  -0.454  1.00  0.00           H  \nHETATM   34  H4  UNL     1       6.319   0.093   1.641  1.00  0.00           H  \nHETATM   35  H5  UNL     1       5.018   1.077   2.309  1.00  0.00           H  \nHETATM   36  H6  UNL     1       4.758  -0.655   2.031  1.00  0.00           H  \nHETATM   37  H7  UNL     1       6.467  -0.526  -0.631  1.00  0.00           H  \nHETATM   38  H8  UNL     1       5.081  -1.572  -0.331  1.00  0.00           H  \nHETATM   39  H9  UNL     1       5.083  -0.457  -1.724  1.00  0.00           H  \nHETATM   40  H10 UNL     1       2.399   3.066   2.076  1.00  0.00           H  \nHETATM   41  H11 UNL     1      -0.404   2.487   1.832  1.00  0.00           H  \nHETATM   42  H12 UNL     1       2.027  -1.967  -1.350  1.00  0.00           H  \nHETATM   43  H13 UNL     1       0.329  -0.899  -2.405  1.00  0.00           H  \nHETATM   44  H14 UNL     1      -0.279  -2.496   0.860  1.00  0.00           H  \nHETATM   45  H15 UNL     1       0.036  -4.080   0.158  1.00  0.00           H  \nHETATM   46  H16 UNL     1      -2.469  -3.130   0.420  1.00  0.00           H  \nHETATM   47  H17 UNL     1      -2.017  -4.197  -0.908  1.00  0.00           H  \nHETATM   48  H18 UNL     1      -2.020  -2.511  -2.502  1.00  0.00           H  \nHETATM   49  H19 UNL     1      -3.331  -1.974  -1.459  1.00  0.00           H  \nHETATM   50  H20 UNL     1      -1.725  -0.144  -2.118  1.00  0.00           H  \nHETATM   51  H21 UNL     1      -1.781  -0.815   0.860  1.00  0.00           H  \nHETATM   52  H22 UNL     1      -3.935  -0.792   1.703  1.00  0.00           H  \nHETATM   53  H23 UNL     1      -5.985  -0.685   2.525  1.00  0.00           H  \nHETATM   54  H24 UNL     1      -7.398   2.382  -0.792  1.00  0.00           H  \nHETATM   55  H25 UNL     1      -3.091   1.681  -1.725  1.00  0.00           H  \nHETATM   56  H26 UNL     1      -1.366   1.923  -0.110  1.00  0.00           H  \nCONECT    1    2   31   32   33\nCONECT    2    3    4    5\nCONECT    3   34   35   36\nCONECT    4   37   38   39\nCONECT    5    6    6   12\nCONECT    6    7    8\nCONECT    7   40\nCONECT    8    9   10   10\nCONECT    9   41\nCONECT   10   11   30\nCONECT   11   12   12   14\nCONECT   12   13\nCONECT   13   42\nCONECT   14   15   19   43\nCONECT   15   16\nCONECT   16   17   44   45\nCONECT   17   18   46   47\nCONECT   18   19   48   49\nCONECT   19   20   50\nCONECT   20   21   30   51\nCONECT   21   22   22   29\nCONECT   22   23   52\nCONECT   23   24   25   25\nCONECT   24   53\nCONECT   25   26   27\nCONECT   26   54\nCONECT   27   28   29   29\nCONECT   29   55\nCONECT   30   56\n",
           "type": "blob"
          }
         ],
         "kwargs": {
          "defaultRepresentation": true,
          "ext": "pdb",
          "name": "<openff.toolkit.utils.viz._OFFTrajectoryNGLView object at 0x7fe6e2316500>"
         },
         "methodName": "loadFile",
         "reconstruc_color_scheme": false,
         "target": "Stage",
         "type": "call_method"
        },
        {
         "args": [
          "label"
         ],
         "component_index": 0,
         "kwargs": {
          "attachment": "middle-center",
          "color": "black",
          "labelType": "atomindex",
          "sele": "all"
         },
         "methodName": "addRepresentation",
         "reconstruc_color_scheme": false,
         "target": "compList",
         "type": "call_method"
        }
       ],
       "_ngl_original_stage_parameters": {},
       "_ngl_repr_dict": {},
       "_ngl_serialize": false,
       "_ngl_version": "",
       "_ngl_view_id": [],
       "_player_dict": {},
       "_scene_position": {},
       "_scene_rotation": {},
       "_synced_model_ids": [],
       "_synced_repr_model_ids": [],
       "_view_count": null,
       "_view_height": "",
       "_view_module": "nglview-js-widgets",
       "_view_module_version": "3.0.6",
       "_view_name": "NGLView",
       "_view_width": "",
       "background": "white",
       "frame": 0,
       "gui_style": null,
       "layout": "IPY_MODEL_d7f8ab1cab904482920ad0931d6e739d",
       "max_frame": 0,
       "n_components": 0,
       "picked": {},
       "tabbable": null,
       "tooltip": null
      }
     },
     "fe54a1462f844776a38fa414d309cc00": {
      "model_module": "@jupyter-widgets/controls",
      "model_module_version": "2.0.0",
      "model_name": "ButtonModel",
      "state": {
       "_dom_classes": [],
       "_model_module": "@jupyter-widgets/controls",
       "_model_module_version": "2.0.0",
       "_model_name": "ButtonModel",
       "_view_count": null,
       "_view_module": "@jupyter-widgets/controls",
       "_view_module_version": "2.0.0",
       "_view_name": "ButtonView",
       "button_style": "",
       "description": "",
       "disabled": false,
       "icon": "compress",
       "layout": "IPY_MODEL_ee8d56f14d7c44f1ababdfd0132c58cf",
       "style": "IPY_MODEL_752433382c824a2a962b2665be4dacf6",
       "tabbable": null,
       "tooltip": null
      }
     },
     "ff7b3c263243444290239d25a53d7ff0": {
      "model_module": "@jupyter-widgets/base",
      "model_module_version": "2.0.0",
      "model_name": "LayoutModel",
      "state": {
       "_model_module": "@jupyter-widgets/base",
       "_model_module_version": "2.0.0",
       "_model_name": "LayoutModel",
       "_view_count": null,
       "_view_module": "@jupyter-widgets/base",
       "_view_module_version": "2.0.0",
       "_view_name": "LayoutView",
       "align_content": null,
       "align_items": null,
       "align_self": null,
       "border_bottom": null,
       "border_left": null,
       "border_right": null,
       "border_top": null,
       "bottom": null,
       "display": null,
       "flex": null,
       "flex_flow": null,
       "grid_area": null,
       "grid_auto_columns": null,
       "grid_auto_flow": null,
       "grid_auto_rows": null,
       "grid_column": null,
       "grid_gap": null,
       "grid_row": null,
       "grid_template_areas": null,
       "grid_template_columns": null,
       "grid_template_rows": null,
       "height": null,
       "justify_content": null,
       "justify_items": null,
       "left": null,
       "margin": null,
       "max_height": null,
       "max_width": null,
       "min_height": null,
       "min_width": null,
       "object_fit": null,
       "object_position": null,
       "order": null,
       "overflow": null,
       "padding": null,
       "right": null,
       "top": null,
       "visibility": null,
       "width": null
      }
     }
    },
    "version_major": 2,
    "version_minor": 0
   }
  }
 },
 "nbformat": 4,
 "nbformat_minor": 4
}
