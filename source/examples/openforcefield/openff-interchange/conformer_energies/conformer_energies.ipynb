{
 "cells": [
  {
   "cell_type": "markdown",
   "metadata": {},
   "source": [
    "# Compute conformer energies for a small molecule with Interchange"
   ]
  },
  {
   "cell_type": "markdown",
   "metadata": {},
   "source": [
    "This example generates conformers for a small molecule and then evaluates their energies in OpenMM and GROMACS. "
   ]
  },
  {
   "cell_type": "code",
   "execution_count": 1,
   "metadata": {
    "execution": {
     "iopub.execute_input": "2023-08-24T00:32:05.790076Z",
     "iopub.status.busy": "2023-08-24T00:32:05.789860Z",
     "iopub.status.idle": "2023-08-24T00:32:07.375983Z",
     "shell.execute_reply": "2023-08-24T00:32:07.373554Z"
    },
    "tags": []
   },
   "outputs": [
    {
     "data": {
      "application/vnd.jupyter.widget-view+json": {
       "model_id": "ce6c821dbb2c4c9eb1b72f5c74841404",
       "version_major": 2,
       "version_minor": 0
      },
      "text/plain": []
     },
     "metadata": {},
     "output_type": "display_data"
    }
   ],
   "source": [
    "import pandas as pd\n",
    "from openff.toolkit.topology import Molecule, Topology\n",
    "from openff.toolkit.typing.engines.smirnoff import ForceField\n",
    "from openff.units import unit\n",
    "\n",
    "from openff.interchange import Interchange\n",
    "from openff.interchange.drivers import get_gromacs_energies, get_openmm_energies"
   ]
  },
  {
   "cell_type": "markdown",
   "metadata": {},
   "source": [
    "Choose the molecule we want by specifying a SMILES:"
   ]
  },
  {
   "cell_type": "code",
   "execution_count": 2,
   "metadata": {
    "execution": {
     "iopub.execute_input": "2023-08-24T00:32:07.379555Z",
     "iopub.status.busy": "2023-08-24T00:32:07.378746Z",
     "iopub.status.idle": "2023-08-24T00:32:07.383310Z",
     "shell.execute_reply": "2023-08-24T00:32:07.382807Z"
    },
    "tags": []
   },
   "outputs": [],
   "source": [
    "SMILES = \"c1n(CCO)c(C(F)(F)(F))cc1CNCCl\""
   ]
  },
  {
   "cell_type": "markdown",
   "metadata": {},
   "source": [
    "Generate conformers with the OpenFF Toolkit. Note that these conformers are not energy-minimized with any force field, QM method, or other tool; their purpose is to generate diverse starting points for further study."
   ]
  },
  {
   "cell_type": "code",
   "execution_count": 3,
   "metadata": {
    "execution": {
     "iopub.execute_input": "2023-08-24T00:32:07.387197Z",
     "iopub.status.busy": "2023-08-24T00:32:07.386202Z",
     "iopub.status.idle": "2023-08-24T00:32:07.569254Z",
     "shell.execute_reply": "2023-08-24T00:32:07.568585Z"
    },
    "tags": []
   },
   "outputs": [],
   "source": [
    "molecule = Molecule.from_smiles(SMILES)\n",
    "molecule.generate_conformers(n_conformers=20, rms_cutoff=0.1 * unit.angstrom),\n",
    "topology = molecule.to_topology()"
   ]
  },
  {
   "cell_type": "markdown",
   "metadata": {},
   "source": [
    "Load the Sage 2.1.0 force field:"
   ]
  },
  {
   "cell_type": "code",
   "execution_count": 4,
   "metadata": {
    "execution": {
     "iopub.execute_input": "2023-08-24T00:32:07.573946Z",
     "iopub.status.busy": "2023-08-24T00:32:07.572766Z",
     "iopub.status.idle": "2023-08-24T00:32:08.002421Z",
     "shell.execute_reply": "2023-08-24T00:32:08.001154Z"
    },
    "tags": []
   },
   "outputs": [],
   "source": [
    "sage = ForceField(\"openff-2.0.0.offxml\")"
   ]
  },
  {
   "cell_type": "markdown",
   "metadata": {},
   "source": [
    "Apply the force field to the topology to generate an Interchange. This step might be slow as it needs to compute partial charges:"
   ]
  },
  {
   "cell_type": "code",
   "execution_count": 5,
   "metadata": {
    "execution": {
     "iopub.execute_input": "2023-08-24T00:32:08.006969Z",
     "iopub.status.busy": "2023-08-24T00:32:08.005913Z",
     "iopub.status.idle": "2023-08-24T00:32:34.099211Z",
     "shell.execute_reply": "2023-08-24T00:32:34.098563Z"
    },
    "tags": []
   },
   "outputs": [],
   "source": [
    "interchange = Interchange.from_smirnoff(force_field=sage, topology=topology)"
   ]
  },
  {
   "cell_type": "markdown",
   "metadata": {},
   "source": [
    "Modern versions of GROMACS do not support open boundary conditions, so we'll choose a huge box to mimic the gas phase for the single-point energy calculation:"
   ]
  },
  {
   "cell_type": "code",
   "execution_count": 6,
   "metadata": {
    "execution": {
     "iopub.execute_input": "2023-08-24T00:32:34.103938Z",
     "iopub.status.busy": "2023-08-24T00:32:34.102878Z",
     "iopub.status.idle": "2023-08-24T00:32:34.107749Z",
     "shell.execute_reply": "2023-08-24T00:32:34.107236Z"
    },
    "tags": []
   },
   "outputs": [],
   "source": [
    "interchange.box = unit.Quantity([4, 4, 4], unit.nanometer)"
   ]
  },
  {
   "cell_type": "markdown",
   "metadata": {},
   "source": [
    "Now we go over each conformer, set the Interchange's positions, perform the point energy calculation and record the results in a dataframe:"
   ]
  },
  {
   "cell_type": "code",
   "execution_count": 7,
   "metadata": {
    "execution": {
     "iopub.execute_input": "2023-08-24T00:32:34.111686Z",
     "iopub.status.busy": "2023-08-24T00:32:34.110670Z",
     "iopub.status.idle": "2023-08-24T00:32:38.953678Z",
     "shell.execute_reply": "2023-08-24T00:32:38.953016Z"
    },
    "tags": []
   },
   "outputs": [],
   "source": [
    "summary = pd.DataFrame()\n",
    "\n",
    "kj_mol = unit.kilojoule / unit.mol\n",
    "\n",
    "for idx, conformer in enumerate(molecule.conformers):\n",
    "    interchange.positions = conformer\n",
    "\n",
    "    openmm_energies = get_openmm_energies(interchange).total_energy.m_as(kj_mol)\n",
    "    gromacs_energies = get_gromacs_energies(interchange).total_energy.m_as(kj_mol)\n",
    "\n",
    "    summary = pd.concat(\n",
    "        [\n",
    "            summary,\n",
    "            pd.DataFrame.from_dict(\n",
    "                {\n",
    "                    \"Conformer No.\": [idx],\n",
    "                    \"Interchange -> OpenMM (kJ/mol)\": [round(openmm_energies, 3)],\n",
    "                    \"Interchange -> GROMACS\": [round(gromacs_energies, 3)],\n",
    "                }\n",
    "            ),\n",
    "        ]\n",
    "    )"
   ]
  },
  {
   "cell_type": "markdown",
   "metadata": {},
   "source": [
    "Finally, we can look at the results as stored in the dataframe:"
   ]
  },
  {
   "cell_type": "code",
   "execution_count": 8,
   "metadata": {
    "execution": {
     "iopub.execute_input": "2023-08-24T00:32:38.958245Z",
     "iopub.status.busy": "2023-08-24T00:32:38.957166Z",
     "iopub.status.idle": "2023-08-24T00:32:40.882762Z",
     "shell.execute_reply": "2023-08-24T00:32:40.882009Z"
    },
    "tags": []
   },
   "outputs": [
    {
     "data": {
      "text/html": [
       "<style type=\"text/css\">\n",
       "</style>\n",
       "<table id=\"T_39016\">\n",
       "  <thead>\n",
       "    <tr>\n",
       "      <th id=\"T_39016_level0_col0\" class=\"col_heading level0 col0\" >Conformer No.</th>\n",
       "      <th id=\"T_39016_level0_col1\" class=\"col_heading level0 col1\" >Interchange -> OpenMM (kJ/mol)</th>\n",
       "      <th id=\"T_39016_level0_col2\" class=\"col_heading level0 col2\" >Interchange -> GROMACS</th>\n",
       "    </tr>\n",
       "  </thead>\n",
       "  <tbody>\n",
       "    <tr>\n",
       "      <td id=\"T_39016_row0_col0\" class=\"data row0 col0\" >0</td>\n",
       "      <td id=\"T_39016_row0_col1\" class=\"data row0 col1\" >295.554000</td>\n",
       "      <td id=\"T_39016_row0_col2\" class=\"data row0 col2\" >295.516000</td>\n",
       "    </tr>\n",
       "    <tr>\n",
       "      <td id=\"T_39016_row1_col0\" class=\"data row1 col0\" >1</td>\n",
       "      <td id=\"T_39016_row1_col1\" class=\"data row1 col1\" >353.824000</td>\n",
       "      <td id=\"T_39016_row1_col2\" class=\"data row1 col2\" >353.775000</td>\n",
       "    </tr>\n",
       "    <tr>\n",
       "      <td id=\"T_39016_row2_col0\" class=\"data row2 col0\" >2</td>\n",
       "      <td id=\"T_39016_row2_col1\" class=\"data row2 col1\" >291.270000</td>\n",
       "      <td id=\"T_39016_row2_col2\" class=\"data row2 col2\" >291.208000</td>\n",
       "    </tr>\n",
       "    <tr>\n",
       "      <td id=\"T_39016_row3_col0\" class=\"data row3 col0\" >3</td>\n",
       "      <td id=\"T_39016_row3_col1\" class=\"data row3 col1\" >346.323000</td>\n",
       "      <td id=\"T_39016_row3_col2\" class=\"data row3 col2\" >346.268000</td>\n",
       "    </tr>\n",
       "    <tr>\n",
       "      <td id=\"T_39016_row4_col0\" class=\"data row4 col0\" >4</td>\n",
       "      <td id=\"T_39016_row4_col1\" class=\"data row4 col1\" >298.830000</td>\n",
       "      <td id=\"T_39016_row4_col2\" class=\"data row4 col2\" >298.783000</td>\n",
       "    </tr>\n",
       "    <tr>\n",
       "      <td id=\"T_39016_row5_col0\" class=\"data row5 col0\" >5</td>\n",
       "      <td id=\"T_39016_row5_col1\" class=\"data row5 col1\" >313.993000</td>\n",
       "      <td id=\"T_39016_row5_col2\" class=\"data row5 col2\" >313.938000</td>\n",
       "    </tr>\n",
       "    <tr>\n",
       "      <td id=\"T_39016_row6_col0\" class=\"data row6 col0\" >6</td>\n",
       "      <td id=\"T_39016_row6_col1\" class=\"data row6 col1\" >413.678000</td>\n",
       "      <td id=\"T_39016_row6_col2\" class=\"data row6 col2\" >413.611000</td>\n",
       "    </tr>\n",
       "    <tr>\n",
       "      <td id=\"T_39016_row7_col0\" class=\"data row7 col0\" >7</td>\n",
       "      <td id=\"T_39016_row7_col1\" class=\"data row7 col1\" >286.413000</td>\n",
       "      <td id=\"T_39016_row7_col2\" class=\"data row7 col2\" >286.387000</td>\n",
       "    </tr>\n",
       "    <tr>\n",
       "      <td id=\"T_39016_row8_col0\" class=\"data row8 col0\" >8</td>\n",
       "      <td id=\"T_39016_row8_col1\" class=\"data row8 col1\" >391.320000</td>\n",
       "      <td id=\"T_39016_row8_col2\" class=\"data row8 col2\" >391.257000</td>\n",
       "    </tr>\n",
       "    <tr>\n",
       "      <td id=\"T_39016_row9_col0\" class=\"data row9 col0\" >9</td>\n",
       "      <td id=\"T_39016_row9_col1\" class=\"data row9 col1\" >353.257000</td>\n",
       "      <td id=\"T_39016_row9_col2\" class=\"data row9 col2\" >353.254000</td>\n",
       "    </tr>\n",
       "    <tr>\n",
       "      <td id=\"T_39016_row10_col0\" class=\"data row10 col0\" >10</td>\n",
       "      <td id=\"T_39016_row10_col1\" class=\"data row10 col1\" >340.867000</td>\n",
       "      <td id=\"T_39016_row10_col2\" class=\"data row10 col2\" >340.783000</td>\n",
       "    </tr>\n",
       "    <tr>\n",
       "      <td id=\"T_39016_row11_col0\" class=\"data row11 col0\" >11</td>\n",
       "      <td id=\"T_39016_row11_col1\" class=\"data row11 col1\" >387.785000</td>\n",
       "      <td id=\"T_39016_row11_col2\" class=\"data row11 col2\" >387.695000</td>\n",
       "    </tr>\n",
       "    <tr>\n",
       "      <td id=\"T_39016_row12_col0\" class=\"data row12 col0\" >12</td>\n",
       "      <td id=\"T_39016_row12_col1\" class=\"data row12 col1\" >311.338000</td>\n",
       "      <td id=\"T_39016_row12_col2\" class=\"data row12 col2\" >311.306000</td>\n",
       "    </tr>\n",
       "    <tr>\n",
       "      <td id=\"T_39016_row13_col0\" class=\"data row13 col0\" >13</td>\n",
       "      <td id=\"T_39016_row13_col1\" class=\"data row13 col1\" >332.746000</td>\n",
       "      <td id=\"T_39016_row13_col2\" class=\"data row13 col2\" >332.684000</td>\n",
       "    </tr>\n",
       "    <tr>\n",
       "      <td id=\"T_39016_row14_col0\" class=\"data row14 col0\" >14</td>\n",
       "      <td id=\"T_39016_row14_col1\" class=\"data row14 col1\" >334.692000</td>\n",
       "      <td id=\"T_39016_row14_col2\" class=\"data row14 col2\" >334.597000</td>\n",
       "    </tr>\n",
       "    <tr>\n",
       "      <td id=\"T_39016_row15_col0\" class=\"data row15 col0\" >15</td>\n",
       "      <td id=\"T_39016_row15_col1\" class=\"data row15 col1\" >409.744000</td>\n",
       "      <td id=\"T_39016_row15_col2\" class=\"data row15 col2\" >409.675000</td>\n",
       "    </tr>\n",
       "    <tr>\n",
       "      <td id=\"T_39016_row16_col0\" class=\"data row16 col0\" >16</td>\n",
       "      <td id=\"T_39016_row16_col1\" class=\"data row16 col1\" >394.676000</td>\n",
       "      <td id=\"T_39016_row16_col2\" class=\"data row16 col2\" >394.620000</td>\n",
       "    </tr>\n",
       "    <tr>\n",
       "      <td id=\"T_39016_row17_col0\" class=\"data row17 col0\" >17</td>\n",
       "      <td id=\"T_39016_row17_col1\" class=\"data row17 col1\" >427.032000</td>\n",
       "      <td id=\"T_39016_row17_col2\" class=\"data row17 col2\" >426.973000</td>\n",
       "    </tr>\n",
       "    <tr>\n",
       "      <td id=\"T_39016_row18_col0\" class=\"data row18 col0\" >18</td>\n",
       "      <td id=\"T_39016_row18_col1\" class=\"data row18 col1\" >339.771000</td>\n",
       "      <td id=\"T_39016_row18_col2\" class=\"data row18 col2\" >339.658000</td>\n",
       "    </tr>\n",
       "    <tr>\n",
       "      <td id=\"T_39016_row19_col0\" class=\"data row19 col0\" >19</td>\n",
       "      <td id=\"T_39016_row19_col1\" class=\"data row19 col1\" >359.076000</td>\n",
       "      <td id=\"T_39016_row19_col2\" class=\"data row19 col2\" >358.989000</td>\n",
       "    </tr>\n",
       "  </tbody>\n",
       "</table>\n"
      ],
      "text/plain": [
       "<pandas.io.formats.style.Styler at 0x7f2c2af21a50>"
      ]
     },
     "execution_count": 8,
     "metadata": {},
     "output_type": "execute_result"
    }
   ],
   "source": [
    "summary.style.hide(axis=\"index\")"
   ]
  },
  {
   "cell_type": "code",
   "execution_count": null,
   "metadata": {},
   "outputs": [],
   "source": []
  }
 ],
 "metadata": {
  "category": "parametrization_evaluation",
  "cookbook_cache_branch": "_cookbook_data_main",
  "kernelspec": {
   "display_name": "Python 3 (ipykernel)",
   "language": "python",
   "name": "python3"
  },
  "language_info": {
   "codemirror_mode": {
    "name": "ipython",
    "version": 3
   },
   "file_extension": ".py",
   "mimetype": "text/x-python",
   "name": "python",
   "nbconvert_exporter": "python",
   "pygments_lexer": "ipython3",
   "version": "3.10.12"
  },
  "src_repo_tag": "v0.3.13",
  "vscode": {
   "interpreter": {
    "hash": "86c9b142c8dc60dd36d17e2a57efabbd2ed015b9d3db80dd77f3e0894d5aea85"
   }
  },
  "widgets": {
   "application/vnd.jupyter.widget-state+json": {
    "state": {
     "ce6c821dbb2c4c9eb1b72f5c74841404": {
      "model_module": "nglview-js-widgets",
      "model_module_version": "3.0.6",
      "model_name": "ColormakerRegistryModel",
      "state": {
       "_dom_classes": [],
       "_model_module": "nglview-js-widgets",
       "_model_module_version": "3.0.6",
       "_model_name": "ColormakerRegistryModel",
       "_msg_ar": [],
       "_msg_q": [],
       "_ready": false,
       "_view_count": null,
       "_view_module": "nglview-js-widgets",
       "_view_module_version": "3.0.6",
       "_view_name": "ColormakerRegistryView",
       "layout": "IPY_MODEL_e68aa9191dea420ea87e78f6f005644d",
       "tabbable": null,
       "tooltip": null
      }
     },
     "e68aa9191dea420ea87e78f6f005644d": {
      "model_module": "@jupyter-widgets/base",
      "model_module_version": "2.0.0",
      "model_name": "LayoutModel",
      "state": {
       "_model_module": "@jupyter-widgets/base",
       "_model_module_version": "2.0.0",
       "_model_name": "LayoutModel",
       "_view_count": null,
       "_view_module": "@jupyter-widgets/base",
       "_view_module_version": "2.0.0",
       "_view_name": "LayoutView",
       "align_content": null,
       "align_items": null,
       "align_self": null,
       "border_bottom": null,
       "border_left": null,
       "border_right": null,
       "border_top": null,
       "bottom": null,
       "display": null,
       "flex": null,
       "flex_flow": null,
       "grid_area": null,
       "grid_auto_columns": null,
       "grid_auto_flow": null,
       "grid_auto_rows": null,
       "grid_column": null,
       "grid_gap": null,
       "grid_row": null,
       "grid_template_areas": null,
       "grid_template_columns": null,
       "grid_template_rows": null,
       "height": null,
       "justify_content": null,
       "justify_items": null,
       "left": null,
       "margin": null,
       "max_height": null,
       "max_width": null,
       "min_height": null,
       "min_width": null,
       "object_fit": null,
       "object_position": null,
       "order": null,
       "overflow": null,
       "padding": null,
       "right": null,
       "top": null,
       "visibility": null,
       "width": null
      }
     }
    },
    "version_major": 2,
    "version_minor": 0
   }
  }
 },
 "nbformat": 4,
 "nbformat_minor": 4
}
