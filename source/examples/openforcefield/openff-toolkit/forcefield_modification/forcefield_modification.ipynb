{
 "cells": [
  {
   "cell_type": "markdown",
   "metadata": {},
   "source": [
    "# Modifying a SMIRNOFF force field\n",
    "\n",
    "In this example, we'll parameterize a ligand automatically, and then play with its parameters to demonstrate the Toolkit's ability to facilitate force field optimization. For each modification, we'll calculate the energy for the original conformation, and then minimize the energy and visualize the result."
   ]
  },
  {
   "cell_type": "code",
   "execution_count": 1,
   "metadata": {
    "execution": {
     "iopub.execute_input": "2023-08-24T00:19:45.936164Z",
     "iopub.status.busy": "2023-08-24T00:19:45.935950Z",
     "iopub.status.idle": "2023-08-24T00:19:46.716509Z",
     "shell.execute_reply": "2023-08-24T00:19:46.715897Z"
    }
   },
   "outputs": [],
   "source": [
    "from copy import deepcopy\n",
    "\n",
    "from openff.units import unit\n",
    "from openff.units.openmm import from_openmm, to_openmm\n",
    "from openmm import LangevinIntegrator, app\n",
    "from openmm import unit as openmm_unit\n",
    "\n",
    "import openff.toolkit.typing.engines.smirnoff.parameters as offtk_parameters\n",
    "from openff.toolkit import ForceField, Molecule"
   ]
  },
  {
   "cell_type": "markdown",
   "metadata": {},
   "source": [
    "We're going to do a lot of changing a parameter and then visualising what happened, so let's define a convenience function to do just that"
   ]
  },
  {
   "cell_type": "code",
   "execution_count": 2,
   "metadata": {
    "execution": {
     "iopub.execute_input": "2023-08-24T00:19:46.721142Z",
     "iopub.status.busy": "2023-08-24T00:19:46.719724Z",
     "iopub.status.idle": "2023-08-24T00:19:46.727013Z",
     "shell.execute_reply": "2023-08-24T00:19:46.726473Z"
    }
   },
   "outputs": [],
   "source": [
    "def minimize_and_visualize(molecule, forcefield):\n",
    "    # Sort out our input data\n",
    "    mol_topology = molecule.to_topology()\n",
    "    mol_system = forcefield.create_openmm_system(\n",
    "        mol_topology,\n",
    "        charge_from_molecules=[molecule],\n",
    "    )\n",
    "\n",
    "    # Set up the minimization and point calculation\n",
    "    integrator = LangevinIntegrator(\n",
    "        300 * openmm_unit.kelvin,\n",
    "        1 / openmm_unit.picosecond,\n",
    "        0.002 * openmm_unit.picoseconds,\n",
    "    )\n",
    "    simulation = app.Simulation(mol_topology.to_openmm(), mol_system, integrator)\n",
    "    simulation.context.setPositions(to_openmm(molecule.conformers[0]))\n",
    "\n",
    "    # Get the initial energy\n",
    "    initial_potential = simulation.context.getState(getEnergy=True).getPotentialEnergy()\n",
    "\n",
    "    # Energy minimize\n",
    "    simulation.minimizeEnergy()\n",
    "    minimized_state = simulation.context.getState(getPositions=True, getEnergy=True)\n",
    "    minimized_potential = minimized_state.getPotentialEnergy()\n",
    "    minimized_coords = from_openmm(minimized_state.getPositions(asNumpy=True))\n",
    "\n",
    "    # Visualize\n",
    "    vis_mol = deepcopy(molecule)\n",
    "    vis_mol.conformers[0] = minimized_coords\n",
    "    view = vis_mol.visualize(backend=\"nglview\")\n",
    "    print(\n",
    "        f\"Initial energy is {initial_potential.format('%0.1F')};\",\n",
    "        f\"Minimized energy is {minimized_potential.format('%0.1F')}\",\n",
    "    )\n",
    "    return view"
   ]
  },
  {
   "cell_type": "markdown",
   "metadata": {},
   "source": [
    "## Getting to know you — the molecule\n",
    "\n",
    "This \"ligand\" is a modified version of the molecule we introduced in the Toolkit Showcase. It's just been altered for a slightly more exciting example here. This also lets us demonstrate constructing a `Molecule` from a SMILES string!"
   ]
  },
  {
   "cell_type": "code",
   "execution_count": 3,
   "metadata": {
    "execution": {
     "iopub.execute_input": "2023-08-24T00:19:46.729965Z",
     "iopub.status.busy": "2023-08-24T00:19:46.729759Z",
     "iopub.status.idle": "2023-08-24T00:19:47.470208Z",
     "shell.execute_reply": "2023-08-24T00:19:47.469482Z"
    },
    "tags": []
   },
   "outputs": [],
   "source": [
    "ligand_smiles = \"CC(C)(C)c1c(O)c(O)c2c(c1O)[C@H]1OCCC[C@H]1[C@H](c1cc(O)c(O)c(F)c1)N2\"\n",
    "ligand = Molecule.from_smiles(ligand_smiles)\n",
    "ligand.generate_conformers(n_conformers=1)\n",
    "force_field = ForceField(\"openff-2.0.0.offxml\")"
   ]
  },
  {
   "cell_type": "markdown",
   "metadata": {},
   "source": [
    "Computing charges is expensive, and we're going to be changing the force field a lot, so we can save time by computing them just once and caching them.\n",
    "\n",
    "\n",
    "<div class=\"alert alert-info\" style=\"max-width: 700px; margin-left: auto; margin-right: auto;\">\n",
    "    ℹ️ Note that when we call <code>create_openmm_system</code> above we pass\n",
    "    in the charges with the <code>charge_from_molecules</code> argument!\n",
    "</div>"
   ]
  },
  {
   "cell_type": "code",
   "execution_count": 4,
   "metadata": {
    "execution": {
     "iopub.execute_input": "2023-08-24T00:19:47.473547Z",
     "iopub.status.busy": "2023-08-24T00:19:47.473193Z",
     "iopub.status.idle": "2023-08-24T00:21:18.267212Z",
     "shell.execute_reply": "2023-08-24T00:21:18.266494Z"
    }
   },
   "outputs": [
    {
     "data": {
      "application/vnd.jupyter.widget-view+json": {
       "model_id": "232c71494e694b5eb9eb90b944a48460",
       "version_major": 2,
       "version_minor": 0
      },
      "text/plain": []
     },
     "metadata": {},
     "output_type": "display_data"
    }
   ],
   "source": [
    "ligand.partial_charges = force_field.get_partial_charges(ligand)"
   ]
  },
  {
   "cell_type": "markdown",
   "metadata": {},
   "source": [
    "### The ligand, visualised\n",
    "\n",
    "Let's take a close look at the ligand and decide what we want to modify. We'll label the atoms with their indexes so we can identify them later"
   ]
  },
  {
   "cell_type": "code",
   "execution_count": 5,
   "metadata": {
    "execution": {
     "iopub.execute_input": "2023-08-24T00:21:18.270817Z",
     "iopub.status.busy": "2023-08-24T00:21:18.270425Z",
     "iopub.status.idle": "2023-08-24T00:21:18.945898Z",
     "shell.execute_reply": "2023-08-24T00:21:18.945239Z"
    }
   },
   "outputs": [
    {
     "name": "stdout",
     "output_type": "stream",
     "text": [
      "Initial energy is 450.3 kJ/mol; Minimized energy is 136.2 kJ/mol\n"
     ]
    },
    {
     "data": {
      "application/vnd.jupyter.widget-view+json": {
       "model_id": "5bf0545d445d46a7bd43139622210a51",
       "version_major": 2,
       "version_minor": 0
      },
      "text/plain": [
       "NGLWidget()"
      ]
     },
     "metadata": {},
     "output_type": "display_data"
    }
   ],
   "source": [
    "view = minimize_and_visualize(ligand, force_field)\n",
    "view.add_label(label_type=\"atomindex\", color=\"black\", attachment=\"middle-center\")\n",
    "view"
   ]
  },
  {
   "cell_type": "markdown",
   "metadata": {},
   "source": [
    "## Getting to know all about you — Investigating assigned parameters\n",
    "\n",
    "Let's start with something simple — lengthening the bond to the fluorine. We can use `ForceField.label_molecules` to identify the appropriate parameters:"
   ]
  },
  {
   "cell_type": "code",
   "execution_count": 6,
   "metadata": {
    "execution": {
     "iopub.execute_input": "2023-08-24T00:21:18.949555Z",
     "iopub.status.busy": "2023-08-24T00:21:18.949328Z",
     "iopub.status.idle": "2023-08-24T00:21:19.078601Z",
     "shell.execute_reply": "2023-08-24T00:21:19.077944Z"
    }
   },
   "outputs": [
    {
     "data": {
      "text/plain": [
       "[{'Constraints': <openff.toolkit.topology.topology.ValenceDict at 0x7fab2ce19600>,\n",
       "  'Bonds': <openff.toolkit.topology.topology.ValenceDict at 0x7fab2cf24f70>,\n",
       "  'Angles': <openff.toolkit.topology.topology.ValenceDict at 0x7fab2cf49e10>,\n",
       "  'ProperTorsions': <openff.toolkit.topology.topology.ValenceDict at 0x7fab2d104b50>,\n",
       "  'ImproperTorsions': <openff.toolkit.topology.topology.ImproperDict at 0x7fab2d0f9870>,\n",
       "  'vdW': <openff.toolkit.topology.topology.ValenceDict at 0x7fab2d0cb370>,\n",
       "  'Electrostatics': <openff.toolkit.topology.topology.ValenceDict at 0x7fab2d0cb3d0>,\n",
       "  'LibraryCharges': {},\n",
       "  'ToolkitAM1BCC': <openff.toolkit.topology.topology.ValenceDict at 0x7fab2d0cb2e0>}]"
      ]
     },
     "execution_count": 6,
     "metadata": {},
     "output_type": "execute_result"
    }
   ],
   "source": [
    "ff_applied_parameters = force_field.label_molecules(ligand.to_topology())\n",
    "ff_applied_parameters"
   ]
  },
  {
   "cell_type": "markdown",
   "metadata": {},
   "source": [
    "`label_molecules()` returns a list of the molecules that can be parameterized from the arguments. It returns them as dictionaries that give us access to the `ForceField` parameters that are used for the molecule. Since we're only passing in a single molecule, `ff_applied_parameters` is a list of one element. We can see the bonds that are used for the ligand by converting the appropriate `ValenceDict` to a regular dictionary:"
   ]
  },
  {
   "cell_type": "code",
   "execution_count": 7,
   "metadata": {
    "execution": {
     "iopub.execute_input": "2023-08-24T00:21:19.081691Z",
     "iopub.status.busy": "2023-08-24T00:21:19.081465Z",
     "iopub.status.idle": "2023-08-24T00:21:19.126679Z",
     "shell.execute_reply": "2023-08-24T00:21:19.126006Z"
    }
   },
   "outputs": [
    {
     "data": {
      "text/plain": [
       "{(0,\n",
       "  1): <BondType with smirks: [#6X4:1]-[#6X4:2]  id: b1  length: 1.52190126495 angstrom  k: 529.2429715351 kilocalorie / angstrom ** 2 / mole  >,\n",
       " (0,\n",
       "  30): <BondType with smirks: [#6X4:1]-[#1:2]  id: b84  length: 1.093899492634 angstrom  k: 740.0934137725 kilocalorie / angstrom ** 2 / mole  >,\n",
       " (0,\n",
       "  31): <BondType with smirks: [#6X4:1]-[#1:2]  id: b84  length: 1.093899492634 angstrom  k: 740.0934137725 kilocalorie / angstrom ** 2 / mole  >,\n",
       " (0,\n",
       "  32): <BondType with smirks: [#6X4:1]-[#1:2]  id: b84  length: 1.093899492634 angstrom  k: 740.0934137725 kilocalorie / angstrom ** 2 / mole  >,\n",
       " (1,\n",
       "  2): <BondType with smirks: [#6X4:1]-[#6X4:2]  id: b1  length: 1.52190126495 angstrom  k: 529.2429715351 kilocalorie / angstrom ** 2 / mole  >,\n",
       " (1,\n",
       "  3): <BondType with smirks: [#6X4:1]-[#6X4:2]  id: b1  length: 1.52190126495 angstrom  k: 529.2429715351 kilocalorie / angstrom ** 2 / mole  >,\n",
       " (1,\n",
       "  4): <BondType with smirks: [#6X4:1]-[#6X3:2]  id: b2  length: 1.498646816465 angstrom  k: 579.4762652679 kilocalorie / angstrom ** 2 / mole  >,\n",
       " (2,\n",
       "  33): <BondType with smirks: [#6X4:1]-[#1:2]  id: b84  length: 1.093899492634 angstrom  k: 740.0934137725 kilocalorie / angstrom ** 2 / mole  >,\n",
       " (2,\n",
       "  34): <BondType with smirks: [#6X4:1]-[#1:2]  id: b84  length: 1.093899492634 angstrom  k: 740.0934137725 kilocalorie / angstrom ** 2 / mole  >,\n",
       " (2,\n",
       "  35): <BondType with smirks: [#6X4:1]-[#1:2]  id: b84  length: 1.093899492634 angstrom  k: 740.0934137725 kilocalorie / angstrom ** 2 / mole  >,\n",
       " (3,\n",
       "  36): <BondType with smirks: [#6X4:1]-[#1:2]  id: b84  length: 1.093899492634 angstrom  k: 740.0934137725 kilocalorie / angstrom ** 2 / mole  >,\n",
       " (3,\n",
       "  37): <BondType with smirks: [#6X4:1]-[#1:2]  id: b84  length: 1.093899492634 angstrom  k: 740.0934137725 kilocalorie / angstrom ** 2 / mole  >,\n",
       " (3,\n",
       "  38): <BondType with smirks: [#6X4:1]-[#1:2]  id: b84  length: 1.093899492634 angstrom  k: 740.0934137725 kilocalorie / angstrom ** 2 / mole  >,\n",
       " (4,\n",
       "  5): <BondType with smirks: [#6X3:1]:[#6X3:2]  id: b5  length: 1.387193227181 angstrom  k: 721.5704889544 kilocalorie / angstrom ** 2 / mole  >,\n",
       " (4,\n",
       "  11): <BondType with smirks: [#6X3:1]:[#6X3:2]  id: b5  length: 1.387193227181 angstrom  k: 721.5704889544 kilocalorie / angstrom ** 2 / mole  >,\n",
       " (5,\n",
       "  6): <BondType with smirks: [#6X3:1]-[#8X2H1:2]  id: b18  length: 1.369745182308 angstrom  k: 771.5209191174 kilocalorie / angstrom ** 2 / mole  >,\n",
       " (5,\n",
       "  7): <BondType with smirks: [#6X3:1]:[#6X3:2]  id: b5  length: 1.387193227181 angstrom  k: 721.5704889544 kilocalorie / angstrom ** 2 / mole  >,\n",
       " (6,\n",
       "  39): <BondType with smirks: [#8:1]-[#1:2]  id: b88  length: 0.9716763312559 angstrom  k: 1087.053566377 kilocalorie / angstrom ** 2 / mole  >,\n",
       " (7,\n",
       "  8): <BondType with smirks: [#6X3:1]-[#8X2H1:2]  id: b18  length: 1.369745182308 angstrom  k: 771.5209191174 kilocalorie / angstrom ** 2 / mole  >,\n",
       " (7,\n",
       "  9): <BondType with smirks: [#6X3:1]:[#6X3:2]  id: b5  length: 1.387193227181 angstrom  k: 721.5704889544 kilocalorie / angstrom ** 2 / mole  >,\n",
       " (8,\n",
       "  40): <BondType with smirks: [#8:1]-[#1:2]  id: b88  length: 0.9716763312559 angstrom  k: 1087.053566377 kilocalorie / angstrom ** 2 / mole  >,\n",
       " (9,\n",
       "  10): <BondType with smirks: [#6X3:1]:[#6X3:2]  id: b5  length: 1.387193227181 angstrom  k: 721.5704889544 kilocalorie / angstrom ** 2 / mole  >,\n",
       " (9,\n",
       "  29): <BondType with smirks: [#6X3:1]-[#7X3:2]  id: b8  length: 1.390160554689 angstrom  k: 780.0710937701 kilocalorie / angstrom ** 2 / mole  >,\n",
       " (10,\n",
       "  11): <BondType with smirks: [#6X3:1]:[#6X3:2]  id: b5  length: 1.387193227181 angstrom  k: 721.5704889544 kilocalorie / angstrom ** 2 / mole  >,\n",
       " (10,\n",
       "  13): <BondType with smirks: [#6X4:1]-[#6X3:2]  id: b2  length: 1.498646816465 angstrom  k: 579.4762652679 kilocalorie / angstrom ** 2 / mole  >,\n",
       " (11,\n",
       "  12): <BondType with smirks: [#6X3:1]-[#8X2H1:2]  id: b18  length: 1.369745182308 angstrom  k: 771.5209191174 kilocalorie / angstrom ** 2 / mole  >,\n",
       " (12,\n",
       "  41): <BondType with smirks: [#8:1]-[#1:2]  id: b88  length: 0.9716763312559 angstrom  k: 1087.053566377 kilocalorie / angstrom ** 2 / mole  >,\n",
       " (13,\n",
       "  14): <BondType with smirks: [#6X4:1]-[#8X2H0:2]  id: b16  length: 1.425895053732 angstrom  k: 733.4817683494 kilocalorie / angstrom ** 2 / mole  >,\n",
       " (13,\n",
       "  18): <BondType with smirks: [#6X4:1]-[#6X4:2]  id: b1  length: 1.52190126495 angstrom  k: 529.2429715351 kilocalorie / angstrom ** 2 / mole  >,\n",
       " (13,\n",
       "  42): <BondType with smirks: [#6X4:1]-[#1:2]  id: b84  length: 1.093899492634 angstrom  k: 740.0934137725 kilocalorie / angstrom ** 2 / mole  >,\n",
       " (14,\n",
       "  15): <BondType with smirks: [#6X4:1]-[#8X2H0:2]  id: b16  length: 1.425895053732 angstrom  k: 733.4817683494 kilocalorie / angstrom ** 2 / mole  >,\n",
       " (15,\n",
       "  16): <BondType with smirks: [#6X4:1]-[#6X4:2]  id: b1  length: 1.52190126495 angstrom  k: 529.2429715351 kilocalorie / angstrom ** 2 / mole  >,\n",
       " (15,\n",
       "  43): <BondType with smirks: [#6X4:1]-[#1:2]  id: b84  length: 1.093899492634 angstrom  k: 740.0934137725 kilocalorie / angstrom ** 2 / mole  >,\n",
       " (15,\n",
       "  44): <BondType with smirks: [#6X4:1]-[#1:2]  id: b84  length: 1.093899492634 angstrom  k: 740.0934137725 kilocalorie / angstrom ** 2 / mole  >,\n",
       " (16,\n",
       "  17): <BondType with smirks: [#6X4:1]-[#6X4:2]  id: b1  length: 1.52190126495 angstrom  k: 529.2429715351 kilocalorie / angstrom ** 2 / mole  >,\n",
       " (16,\n",
       "  45): <BondType with smirks: [#6X4:1]-[#1:2]  id: b84  length: 1.093899492634 angstrom  k: 740.0934137725 kilocalorie / angstrom ** 2 / mole  >,\n",
       " (16,\n",
       "  46): <BondType with smirks: [#6X4:1]-[#1:2]  id: b84  length: 1.093899492634 angstrom  k: 740.0934137725 kilocalorie / angstrom ** 2 / mole  >,\n",
       " (17,\n",
       "  18): <BondType with smirks: [#6X4:1]-[#6X4:2]  id: b1  length: 1.52190126495 angstrom  k: 529.2429715351 kilocalorie / angstrom ** 2 / mole  >,\n",
       " (17,\n",
       "  47): <BondType with smirks: [#6X4:1]-[#1:2]  id: b84  length: 1.093899492634 angstrom  k: 740.0934137725 kilocalorie / angstrom ** 2 / mole  >,\n",
       " (17,\n",
       "  48): <BondType with smirks: [#6X4:1]-[#1:2]  id: b84  length: 1.093899492634 angstrom  k: 740.0934137725 kilocalorie / angstrom ** 2 / mole  >,\n",
       " (18,\n",
       "  19): <BondType with smirks: [#6X4:1]-[#6X4:2]  id: b1  length: 1.52190126495 angstrom  k: 529.2429715351 kilocalorie / angstrom ** 2 / mole  >,\n",
       " (18,\n",
       "  49): <BondType with smirks: [#6X4:1]-[#1:2]  id: b84  length: 1.093899492634 angstrom  k: 740.0934137725 kilocalorie / angstrom ** 2 / mole  >,\n",
       " (19,\n",
       "  20): <BondType with smirks: [#6X4:1]-[#6X3:2]  id: b2  length: 1.498646816465 angstrom  k: 579.4762652679 kilocalorie / angstrom ** 2 / mole  >,\n",
       " (19,\n",
       "  29): <BondType with smirks: [#6:1]-[#7:2]  id: b7  length: 1.464762957261 angstrom  k: 732.6809445917 kilocalorie / angstrom ** 2 / mole  >,\n",
       " (19,\n",
       "  50): <BondType with smirks: [#6X4:1]-[#1:2]  id: b84  length: 1.093899492634 angstrom  k: 740.0934137725 kilocalorie / angstrom ** 2 / mole  >,\n",
       " (20,\n",
       "  21): <BondType with smirks: [#6X3:1]:[#6X3:2]  id: b5  length: 1.387193227181 angstrom  k: 721.5704889544 kilocalorie / angstrom ** 2 / mole  >,\n",
       " (20,\n",
       "  28): <BondType with smirks: [#6X3:1]:[#6X3:2]  id: b5  length: 1.387193227181 angstrom  k: 721.5704889544 kilocalorie / angstrom ** 2 / mole  >,\n",
       " (21,\n",
       "  22): <BondType with smirks: [#6X3:1]:[#6X3:2]  id: b5  length: 1.387193227181 angstrom  k: 721.5704889544 kilocalorie / angstrom ** 2 / mole  >,\n",
       " (21,\n",
       "  51): <BondType with smirks: [#6X3:1]-[#1:2]  id: b85  length: 1.085358495916 angstrom  k: 794.5091579238 kilocalorie / angstrom ** 2 / mole  >,\n",
       " (22,\n",
       "  23): <BondType with smirks: [#6X3:1]-[#8X2H1:2]  id: b18  length: 1.369745182308 angstrom  k: 771.5209191174 kilocalorie / angstrom ** 2 / mole  >,\n",
       " (22,\n",
       "  24): <BondType with smirks: [#6X3:1]:[#6X3:2]  id: b5  length: 1.387193227181 angstrom  k: 721.5704889544 kilocalorie / angstrom ** 2 / mole  >,\n",
       " (23,\n",
       "  52): <BondType with smirks: [#8:1]-[#1:2]  id: b88  length: 0.9716763312559 angstrom  k: 1087.053566377 kilocalorie / angstrom ** 2 / mole  >,\n",
       " (24,\n",
       "  25): <BondType with smirks: [#6X3:1]-[#8X2H1:2]  id: b18  length: 1.369745182308 angstrom  k: 771.5209191174 kilocalorie / angstrom ** 2 / mole  >,\n",
       " (24,\n",
       "  26): <BondType with smirks: [#6X3:1]:[#6X3:2]  id: b5  length: 1.387193227181 angstrom  k: 721.5704889544 kilocalorie / angstrom ** 2 / mole  >,\n",
       " (25,\n",
       "  53): <BondType with smirks: [#8:1]-[#1:2]  id: b88  length: 0.9716763312559 angstrom  k: 1087.053566377 kilocalorie / angstrom ** 2 / mole  >,\n",
       " (26,\n",
       "  27): <BondType with smirks: [#6:1]-[#9:2]  id: b68  length: 1.352926211207 angstrom  k: 808.7710029616 kilocalorie / angstrom ** 2 / mole  >,\n",
       " (26,\n",
       "  28): <BondType with smirks: [#6X3:1]:[#6X3:2]  id: b5  length: 1.387193227181 angstrom  k: 721.5704889544 kilocalorie / angstrom ** 2 / mole  >,\n",
       " (28,\n",
       "  54): <BondType with smirks: [#6X3:1]-[#1:2]  id: b85  length: 1.085358495916 angstrom  k: 794.5091579238 kilocalorie / angstrom ** 2 / mole  >,\n",
       " (29,\n",
       "  55): <BondType with smirks: [#7:1]-[#1:2]  id: b87  length: 1.019481865027 angstrom  k: 1010.288992386 kilocalorie / angstrom ** 2 / mole  >}"
      ]
     },
     "execution_count": 7,
     "metadata": {},
     "output_type": "execute_result"
    }
   ],
   "source": [
    "dict(ff_applied_parameters[0][\"Bonds\"])"
   ]
  },
  {
   "cell_type": "markdown",
   "metadata": {},
   "source": [
    "Take a look at the first entry as an example. The dictionary is keyed by the atomic indices of the particles in the molecule that the parameter applies to, and the values are special types that specify the parameters from the force field. We'll look in more detail at one of these parameters in a second."
   ]
  },
  {
   "cell_type": "markdown",
   "metadata": {},
   "source": [
    "## A little goes a long way — Changing parameters"
   ]
  },
  {
   "cell_type": "markdown",
   "metadata": {},
   "source": [
    "We already decided we wanted to adjust the torsion parameter to the hydroxyl group, so let's do that. We know parameters are indexed by the atoms they've been applied to, so we can look at our labelled widget above and pull out exactly the parameter we care about:"
   ]
  },
  {
   "cell_type": "code",
   "execution_count": 8,
   "metadata": {
    "execution": {
     "iopub.execute_input": "2023-08-24T00:21:19.129735Z",
     "iopub.status.busy": "2023-08-24T00:21:19.129515Z",
     "iopub.status.idle": "2023-08-24T00:21:19.137466Z",
     "shell.execute_reply": "2023-08-24T00:21:19.136738Z"
    }
   },
   "outputs": [
    {
     "name": "stdout",
     "output_type": "stream",
     "text": [
      "The fluorine-carbon bond is between atoms (27, 26)\n"
     ]
    },
    {
     "data": {
      "text/plain": [
       "<BondType with smirks: [#6:1]-[#9:2]  id: b68  length: 1.352926211207 angstrom  k: 808.7710029616 kilocalorie / angstrom ** 2 / mole  >"
      ]
     },
     "execution_count": 8,
     "metadata": {},
     "output_type": "execute_result"
    }
   ],
   "source": [
    "fluorine = [atom for atom in ligand.atoms if atom.symbol == \"F\"][0]\n",
    "carbon = [neighbor_atom for neighbor_atom in fluorine.bonded_atoms][0]\n",
    "fluorine_carbon_bond_indices = (\n",
    "    fluorine.molecule_atom_index,\n",
    "    carbon.molecule_atom_index,\n",
    ")\n",
    "print(\"The fluorine-carbon bond is between atoms\", fluorine_carbon_bond_indices)\n",
    "\n",
    "ff_applied_parameters[0][\"Bonds\"][fluorine_carbon_bond_indices]"
   ]
  },
  {
   "cell_type": "markdown",
   "metadata": {},
   "source": [
    "<div class=\"alert alert-success\" style=\"max-width: 700px; margin-left: auto; margin-right: auto;\">\n",
    "    📗 We have to get the indices of these atoms out programmatically because our SMILES code doesn't specify atom indices, and so you might have different indices to us. Take a look at the widget above and try manually specifying atom indices to get the parameters of a bond! \n",
    "</div>"
   ]
  },
  {
   "cell_type": "markdown",
   "metadata": {},
   "source": [
    "Let's dig into this type a bit more. It has a few attributes in its textual representation. The first of these is maybe the most important: the `smirks` attribute, which tells the Toolkit which atoms this parameter applies to. SMIRKS is a chemical pattern matching format; think of it as the result of a [regular expression](https://en.wikipedia.org/wiki/Regular_expression) having a baby with a [SMILES string](https://en.wikipedia.org/wiki/Simplified_molecular-input_line-entry_system). This one is very simple: it is just a Carbon atom (`[#6:1]`, atomic number 6) singly bonded (`-`) to a Fluorine atom (`[#9:2]`, atomic number 9). The numbers after the colons just label the atoms — this is a bond, so it has two atoms labelled. This is helpful for when we want to match against atoms that aren't a part of the parameter; we just don't label the additional atoms. We'll use this trick later.\n",
    "\n",
    "The other important attributes provide the actual parameterization, and so are different for different kinds of parameters. For proper torsions, this is the periodicity of the sinewave that describes the torsion, as well as its phase and amplitude (or force constant, $k$). These parameter values are similar to the equivalent description in most other force field formats.\n",
    "\n",
    "\n",
    "<div class=\"alert alert-info\" style=\"max-width: 700px; margin-left: auto; margin-right: auto;\">\n",
    "    <p> ℹ️ The SMIRKS specification is available online:</p>\n",
    "    <p style=\"margin-left:3em;\">\n",
    "        <a href=https://www.daylight.com/dayhtml/doc/theory/theory.smirks.html>\n",
    "            https://www.daylight.com/dayhtml/doc/theory/theory.smirks.html\n",
    "        </a>\n",
    "    </p>\n",
    "    <p style=\"margin-left:1.5em;\">\n",
    "        It is closely related to the SMARTS molecular pattern matching language, \n",
    "        whose specification is probably more useful for working with the Toolkit\n",
    "        and is also available online:\n",
    "    </p>\n",
    "    <p style=\"margin-left:3em;\">\n",
    "        <a href = https://www.daylight.com/dayhtml/doc/theory/theory.smarts.html>\n",
    "            https://www.daylight.com/dayhtml/doc/theory/theory.smarts.html\n",
    "        </a>\n",
    "    </p>\n",
    "</div>\n",
    "\n",
    "\n",
    "### Modifying a parameter\n",
    "\n",
    "Unfortunately we can't just modify this parameter and see the results reflected in the parameterization. We need to get the appropriate parameter from the force field and modify it there."
   ]
  },
  {
   "cell_type": "code",
   "execution_count": 9,
   "metadata": {
    "execution": {
     "iopub.execute_input": "2023-08-24T00:21:19.140119Z",
     "iopub.status.busy": "2023-08-24T00:21:19.139912Z",
     "iopub.status.idle": "2023-08-24T00:21:19.143393Z",
     "shell.execute_reply": "2023-08-24T00:21:19.142750Z"
    }
   },
   "outputs": [],
   "source": [
    "fluorine_bond = force_field[\"Bonds\"].parameters[\"[#6:1]-[#9:2]\"]\n",
    "fluorine_bond.length = 10 * unit.angstrom"
   ]
  },
  {
   "cell_type": "markdown",
   "metadata": {},
   "source": [
    "Here, we've selected the proper torsion with the SMIRKS code we found earlier, and changed its force constant by an order of magnitude in the opposite direction! Let's see what we've wrought:"
   ]
  },
  {
   "cell_type": "code",
   "execution_count": 10,
   "metadata": {
    "execution": {
     "iopub.execute_input": "2023-08-24T00:21:19.145872Z",
     "iopub.status.busy": "2023-08-24T00:21:19.145668Z",
     "iopub.status.idle": "2023-08-24T00:21:19.587473Z",
     "shell.execute_reply": "2023-08-24T00:21:19.586795Z"
    }
   },
   "outputs": [
    {
     "name": "stdout",
     "output_type": "stream",
     "text": [
      "Initial energy is 126881.3 kJ/mol; Minimized energy is 151.9 kJ/mol\n"
     ]
    },
    {
     "data": {
      "application/vnd.jupyter.widget-view+json": {
       "model_id": "ea59a29635bc408cb8e8814e7c8a8f67",
       "version_major": 2,
       "version_minor": 0
      },
      "text/plain": [
       "NGLWidget()"
      ]
     },
     "metadata": {},
     "output_type": "display_data"
    }
   ],
   "source": [
    "minimize_and_visualize(ligand, force_field)"
   ]
  },
  {
   "cell_type": "markdown",
   "metadata": {},
   "source": [
    "Turns out Pinocchio was a real molecule all along!\n",
    "\n",
    "### Parameters affecting multiple atom groups\n",
    "\n",
    "Ok, that was fun, but it's only one parameter; we could easily have made this change in the OpenMM `System` or a GROMACS ITP file or whatever. What's the toolkit really giving us here?\n",
    "\n",
    "Let's mess with all the H-X-H angles. And let's not get into SMIRKS this time, lets let the toolkit do the thinking:"
   ]
  },
  {
   "cell_type": "code",
   "execution_count": 11,
   "metadata": {
    "execution": {
     "iopub.execute_input": "2023-08-24T00:21:19.590301Z",
     "iopub.status.busy": "2023-08-24T00:21:19.590072Z",
     "iopub.status.idle": "2023-08-24T00:21:19.696411Z",
     "shell.execute_reply": "2023-08-24T00:21:19.695743Z"
    }
   },
   "outputs": [
    {
     "name": "stdout",
     "output_type": "stream",
     "text": [
      "(30, 0, 31) <AngleType with smirks: [#1:1]-[#6X4:2]-[#1:3]  angle: 115.6030999533 degree  k: 97.55298529519 kilocalorie / mole / radian ** 2  id: a2  >\n",
      "(30, 0, 32) <AngleType with smirks: [#1:1]-[#6X4:2]-[#1:3]  angle: 115.6030999533 degree  k: 97.55298529519 kilocalorie / mole / radian ** 2  id: a2  >\n",
      "(31, 0, 32) <AngleType with smirks: [#1:1]-[#6X4:2]-[#1:3]  angle: 115.6030999533 degree  k: 97.55298529519 kilocalorie / mole / radian ** 2  id: a2  >\n",
      "(33, 2, 34) <AngleType with smirks: [#1:1]-[#6X4:2]-[#1:3]  angle: 115.6030999533 degree  k: 97.55298529519 kilocalorie / mole / radian ** 2  id: a2  >\n",
      "(33, 2, 35) <AngleType with smirks: [#1:1]-[#6X4:2]-[#1:3]  angle: 115.6030999533 degree  k: 97.55298529519 kilocalorie / mole / radian ** 2  id: a2  >\n",
      "(34, 2, 35) <AngleType with smirks: [#1:1]-[#6X4:2]-[#1:3]  angle: 115.6030999533 degree  k: 97.55298529519 kilocalorie / mole / radian ** 2  id: a2  >\n",
      "(36, 3, 37) <AngleType with smirks: [#1:1]-[#6X4:2]-[#1:3]  angle: 115.6030999533 degree  k: 97.55298529519 kilocalorie / mole / radian ** 2  id: a2  >\n",
      "(36, 3, 38) <AngleType with smirks: [#1:1]-[#6X4:2]-[#1:3]  angle: 115.6030999533 degree  k: 97.55298529519 kilocalorie / mole / radian ** 2  id: a2  >\n",
      "(37, 3, 38) <AngleType with smirks: [#1:1]-[#6X4:2]-[#1:3]  angle: 115.6030999533 degree  k: 97.55298529519 kilocalorie / mole / radian ** 2  id: a2  >\n",
      "(43, 15, 44) <AngleType with smirks: [#1:1]-[#6X4:2]-[#1:3]  angle: 115.6030999533 degree  k: 97.55298529519 kilocalorie / mole / radian ** 2  id: a2  >\n",
      "(45, 16, 46) <AngleType with smirks: [#1:1]-[#6X4:2]-[#1:3]  angle: 115.6030999533 degree  k: 97.55298529519 kilocalorie / mole / radian ** 2  id: a2  >\n",
      "(47, 17, 48) <AngleType with smirks: [#1:1]-[#6X4:2]-[#1:3]  angle: 115.6030999533 degree  k: 97.55298529519 kilocalorie / mole / radian ** 2  id: a2  >\n"
     ]
    }
   ],
   "source": [
    "ff_applied_parameters = force_field.label_molecules(ligand.to_topology())\n",
    "for atoms, parameter in ff_applied_parameters[0][\"Angles\"].items():\n",
    "    ele_1 = ligand.atoms[atoms[0]].symbol\n",
    "    ele_2 = ligand.atoms[atoms[1]].symbol\n",
    "    ele_3 = ligand.atoms[atoms[2]].symbol\n",
    "    if ele_1 == \"H\" and ele_3 == \"H\":\n",
    "        print(atoms, parameter)"
   ]
  },
  {
   "cell_type": "markdown",
   "metadata": {},
   "source": [
    "Wow, there's just one `smirks` parameter describing all of the H-X-H angles!\n",
    "\n",
    "<div class=\"alert alert-info\" style=\"max-width: 700px; margin-left: auto; margin-right: auto;\">\n",
    "    ℹ️ It's worth mentioning here that a force field might include multiple parameters with SMIRKS that match a particular group of atoms. When this happens, only the last parameter specified is applied. This allows force field authors to define general parameters first, and then override them with more specific parameters.\n",
    "</div>\n",
    "\n",
    "<div class=\"alert alert-success\" style=\"max-width: 700px; margin-left: auto; margin-right: auto;\">\n",
    "    📗 Convince yourself that this SMIRKS code matches all of the H-X-H angles in our molecule. What H-X-H angles would it not match?\n",
    "</div>\n"
   ]
  },
  {
   "cell_type": "code",
   "execution_count": 12,
   "metadata": {
    "execution": {
     "iopub.execute_input": "2023-08-24T00:21:19.700026Z",
     "iopub.status.busy": "2023-08-24T00:21:19.699794Z",
     "iopub.status.idle": "2023-08-24T00:21:20.230196Z",
     "shell.execute_reply": "2023-08-24T00:21:20.229573Z"
    }
   },
   "outputs": [
    {
     "name": "stdout",
     "output_type": "stream",
     "text": [
      "Initial energy is 129384.6 kJ/mol; Minimized energy is 145.0 kJ/mol\n"
     ]
    },
    {
     "data": {
      "application/vnd.jupyter.widget-view+json": {
       "model_id": "1c123e72d1e24c7988c32edef409871e",
       "version_major": 2,
       "version_minor": 0
      },
      "text/plain": [
       "NGLWidget()"
      ]
     },
     "metadata": {},
     "output_type": "display_data"
    }
   ],
   "source": [
    "hxh_angle = force_field[\"Angles\"].parameters[\"[#1:1]-[#6X4:2]-[#1:3]\"]\n",
    "hxh_angle.angle = 50 * unit.degree\n",
    "\n",
    "minimize_and_visualize(ligand, force_field)"
   ]
  },
  {
   "cell_type": "markdown",
   "metadata": {},
   "source": [
    "That is not how a methyl group is supposed to look. Guess we did it right!"
   ]
  },
  {
   "cell_type": "markdown",
   "metadata": {},
   "source": [
    "## Introducing a new parameter\n",
    "\n",
    "Now let's get really crazy. I've always thought heteroatoms in rings looked a bit too comfortable, haven't you?\n",
    "\n",
    "Since we have two cyclic heteroatoms in our molecule with very different chemistries, there'll probably be two seperate parameters we need to modify. We can just pass the SMIRKS that come up for C-X-C angles to code that modifies the parameters directly, no need to manually copy it over. "
   ]
  },
  {
   "cell_type": "code",
   "execution_count": 13,
   "metadata": {
    "execution": {
     "iopub.execute_input": "2023-08-24T00:21:20.233681Z",
     "iopub.status.busy": "2023-08-24T00:21:20.233449Z",
     "iopub.status.idle": "2023-08-24T00:21:20.971921Z",
     "shell.execute_reply": "2023-08-24T00:21:20.971284Z"
    }
   },
   "outputs": [
    {
     "name": "stdout",
     "output_type": "stream",
     "text": [
      "(9, 29, 19) <AngleType with smirks: [*:1]~[#7X3$(*~[#6X3,#6X2,#7X2+0]):2]~[*:3]  angle: 117.3465570514 degree  k: 110.8436430155 kilocalorie / mole / radian ** 2  id: a20  >\n",
      "(13, 14, 15) <AngleType with smirks: [*:1]-[#8:2]-[*:3]  angle: 110.3538806181 degree  k: 130.181232192 kilocalorie / mole / radian ** 2  id: a28  >\n"
     ]
    },
    {
     "name": "stdout",
     "output_type": "stream",
     "text": [
      "Initial energy is 131195.5 kJ/mol; Minimized energy is 410.7 kJ/mol\n"
     ]
    },
    {
     "data": {
      "application/vnd.jupyter.widget-view+json": {
       "model_id": "615f974fb35c47b688ab32a330f702a3",
       "version_major": 2,
       "version_minor": 0
      },
      "text/plain": [
       "NGLWidget()"
      ]
     },
     "metadata": {},
     "output_type": "display_data"
    }
   ],
   "source": [
    "ff_applied_parameters = force_field.label_molecules(ligand.to_topology())\n",
    "for atoms, parameter in ff_applied_parameters[0][\"Angles\"].items():\n",
    "    ele_1 = ligand.atoms[atoms[0]].symbol\n",
    "    ele_2 = ligand.atoms[atoms[1]].symbol\n",
    "    ele_3 = ligand.atoms[atoms[2]].symbol\n",
    "    if (ele_2 not in [\"C\", \"H\"]) and ele_1 == \"C\" and ele_3 == \"C\":\n",
    "        print(atoms, parameter)\n",
    "\n",
    "        smirks = parameter.smirks\n",
    "        heteroatom_angle = force_field[\"Angles\"].parameters[smirks]\n",
    "        # dihedral angles are undefined when linear, so let's not set to 180\n",
    "        heteroatom_angle.angle = 179 * unit.degree\n",
    "\n",
    "        # We'll need this later\n",
    "        if ele_2 == \"N\":\n",
    "            cyclic_nitrogen_smirks = smirks\n",
    "\n",
    "minimize_and_visualize(ligand, force_field)"
   ]
  },
  {
   "cell_type": "markdown",
   "metadata": {},
   "source": [
    "Oops! We didn't mean to make all the hydroxyl groups linear! One of our parameters must be applied to Oxygen both when its in a ring and in a hydroxyl group. Sure enough, the second SMIRKS code printed above (`[*:1]-[#8:2]-[*:3]`) matches any X-O-X angle! We'll have to define a new, more specific SMIRKS entry so we only capture the appropriate oxygen."
   ]
  },
  {
   "cell_type": "markdown",
   "metadata": {},
   "source": [
    "### The SMIRKS for our new parameter\n",
    "\n",
    "Our modified force field is getting a bit messy, so let's start again. We still want the nitrogen angle from before, so lets save that too"
   ]
  },
  {
   "cell_type": "code",
   "execution_count": 14,
   "metadata": {
    "execution": {
     "iopub.execute_input": "2023-08-24T00:21:20.975644Z",
     "iopub.status.busy": "2023-08-24T00:21:20.975407Z",
     "iopub.status.idle": "2023-08-24T00:21:21.321684Z",
     "shell.execute_reply": "2023-08-24T00:21:21.320926Z"
    }
   },
   "outputs": [],
   "source": [
    "force_field = ForceField(\"openff-2.0.0.offxml\")\n",
    "cyclic_nitrogen_angle = force_field[\"Angles\"].parameters[cyclic_nitrogen_smirks]\n",
    "cyclic_nitrogen_angle.angle = 179 * unit.degree"
   ]
  },
  {
   "cell_type": "markdown",
   "metadata": {},
   "source": [
    "Now we need to define a new SMIRKS entry, specific to oxygens in a ring. We can be as specific as we like, as our new parameter will be at the end of the force field and so will override any conflicting parameters. Let's define our smirks to match any singly-bonded C-O-C angle in a six-membered pyran ring.\n",
    "\n",
    "First, we'll write down the SMILES for a pyran:\n",
    "\n",
    "`C1CCOCC1`\n",
    "\n",
    "The first carbon has a digit following it, `C1`, which allows us to close the ring later. Then we have two more carbons, `CC`, an oxygen, `O`, and the final two carbons, `CC`. Finally, we close the ring by repeating the same digit from before, `1`. Lets check that this produces the chemical we expect before we move on:"
   ]
  },
  {
   "cell_type": "code",
   "execution_count": 15,
   "metadata": {
    "execution": {
     "iopub.execute_input": "2023-08-24T00:21:21.325516Z",
     "iopub.status.busy": "2023-08-24T00:21:21.325269Z",
     "iopub.status.idle": "2023-08-24T00:21:21.343468Z",
     "shell.execute_reply": "2023-08-24T00:21:21.342837Z"
    }
   },
   "outputs": [
    {
     "data": {
      "image/svg+xml": [
       "<svg xmlns=\"http://www.w3.org/2000/svg\" xmlns:rdkit=\"http://www.rdkit.org/xml\" xmlns:xlink=\"http://www.w3.org/1999/xlink\" version=\"1.1\" baseProfile=\"full\" xml:space=\"preserve\" width=\"500px\" height=\"300px\" viewBox=\"0 0 500 300\">\n",
       "<!-- END OF HEADER -->\n",
       "<rect style=\"opacity:1.0;fill:#FFFFFF;stroke:none\" width=\"500.0\" height=\"300.0\" x=\"0.0\" y=\"0.0\"> </rect>\n",
       "<path class=\"bond-0 atom-0 atom-1\" d=\"M 309.7,183.3 L 309.9,114.1\" style=\"fill:none;fill-rule:evenodd;stroke:#000000;stroke-width:2.0px;stroke-linecap:butt;stroke-linejoin:miter;stroke-opacity:1\"/>\n",
       "<path class=\"bond-1 atom-1 atom-2\" d=\"M 309.9,114.1 L 249.9,79.6\" style=\"fill:none;fill-rule:evenodd;stroke:#000000;stroke-width:2.0px;stroke-linecap:butt;stroke-linejoin:miter;stroke-opacity:1\"/>\n",
       "<path class=\"bond-2 atom-2 atom-3\" d=\"M 249.9,79.6 L 227.6,92.4\" style=\"fill:none;fill-rule:evenodd;stroke:#000000;stroke-width:2.0px;stroke-linecap:butt;stroke-linejoin:miter;stroke-opacity:1\"/>\n",
       "<path class=\"bond-2 atom-2 atom-3\" d=\"M 227.6,92.4 L 205.2,105.2\" style=\"fill:none;fill-rule:evenodd;stroke:#FF0000;stroke-width:2.0px;stroke-linecap:butt;stroke-linejoin:miter;stroke-opacity:1\"/>\n",
       "<path class=\"bond-3 atom-3 atom-4\" d=\"M 190.0,130.9 L 190.0,156.9\" style=\"fill:none;fill-rule:evenodd;stroke:#FF0000;stroke-width:2.0px;stroke-linecap:butt;stroke-linejoin:miter;stroke-opacity:1\"/>\n",
       "<path class=\"bond-3 atom-3 atom-4\" d=\"M 190.0,156.9 L 189.9,182.8\" style=\"fill:none;fill-rule:evenodd;stroke:#000000;stroke-width:2.0px;stroke-linecap:butt;stroke-linejoin:miter;stroke-opacity:1\"/>\n",
       "<path class=\"bond-4 atom-4 atom-5\" d=\"M 189.9,182.8 L 249.7,217.7\" style=\"fill:none;fill-rule:evenodd;stroke:#000000;stroke-width:2.0px;stroke-linecap:butt;stroke-linejoin:miter;stroke-opacity:1\"/>\n",
       "<path class=\"bond-5 atom-5 atom-0\" d=\"M 249.7,217.7 L 309.7,183.3\" style=\"fill:none;fill-rule:evenodd;stroke:#000000;stroke-width:2.0px;stroke-linecap:butt;stroke-linejoin:miter;stroke-opacity:1\"/>\n",
       "<path class=\"bond-6 atom-0 atom-6\" d=\"M 309.7,183.3 L 364.4,177.2\" style=\"fill:none;fill-rule:evenodd;stroke:#000000;stroke-width:2.0px;stroke-linecap:butt;stroke-linejoin:miter;stroke-opacity:1\"/>\n",
       "<path class=\"bond-7 atom-0 atom-7\" d=\"M 309.7,183.3 L 328.6,231.3\" style=\"fill:none;fill-rule:evenodd;stroke:#000000;stroke-width:2.0px;stroke-linecap:butt;stroke-linejoin:miter;stroke-opacity:1\"/>\n",
       "<path class=\"bond-8 atom-1 atom-8\" d=\"M 309.9,114.1 L 328.1,65.7\" style=\"fill:none;fill-rule:evenodd;stroke:#000000;stroke-width:2.0px;stroke-linecap:butt;stroke-linejoin:miter;stroke-opacity:1\"/>\n",
       "<path class=\"bond-9 atom-1 atom-9\" d=\"M 309.9,114.1 L 364.5,119.1\" style=\"fill:none;fill-rule:evenodd;stroke:#000000;stroke-width:2.0px;stroke-linecap:butt;stroke-linejoin:miter;stroke-opacity:1\"/>\n",
       "<path class=\"bond-10 atom-2 atom-10\" d=\"M 249.9,79.6 L 216.7,43.0\" style=\"fill:none;fill-rule:evenodd;stroke:#000000;stroke-width:2.0px;stroke-linecap:butt;stroke-linejoin:miter;stroke-opacity:1\"/>\n",
       "<path class=\"bond-11 atom-2 atom-11\" d=\"M 249.9,79.6 L 269.2,51.7\" style=\"fill:none;fill-rule:evenodd;stroke:#000000;stroke-width:2.0px;stroke-linecap:butt;stroke-linejoin:miter;stroke-opacity:1\"/>\n",
       "<path class=\"bond-12 atom-4 atom-12\" d=\"M 189.9,182.8 L 173.9,217.2\" style=\"fill:none;fill-rule:evenodd;stroke:#000000;stroke-width:2.0px;stroke-linecap:butt;stroke-linejoin:miter;stroke-opacity:1\"/>\n",
       "<path class=\"bond-13 atom-4 atom-13\" d=\"M 189.9,182.8 L 135.5,171.4\" style=\"fill:none;fill-rule:evenodd;stroke:#000000;stroke-width:2.0px;stroke-linecap:butt;stroke-linejoin:miter;stroke-opacity:1\"/>\n",
       "<path class=\"bond-14 atom-5 atom-14\" d=\"M 249.7,217.7 L 270.3,246.7\" style=\"fill:none;fill-rule:evenodd;stroke:#000000;stroke-width:2.0px;stroke-linecap:butt;stroke-linejoin:miter;stroke-opacity:1\"/>\n",
       "<path class=\"bond-15 atom-5 atom-15\" d=\"M 249.7,217.7 L 219.6,255.3\" style=\"fill:none;fill-rule:evenodd;stroke:#000000;stroke-width:2.0px;stroke-linecap:butt;stroke-linejoin:miter;stroke-opacity:1\"/>\n",
       "<path class=\"atom-3\" d=\"M 177.0 114.0 Q 177.0 107.2, 180.4 103.4 Q 183.8 99.6, 190.0 99.6 Q 196.3 99.6, 199.7 103.4 Q 203.0 107.2, 203.0 114.0 Q 203.0 120.9, 199.6 124.8 Q 196.2 128.7, 190.0 128.7 Q 183.8 128.7, 180.4 124.8 Q 177.0 120.9, 177.0 114.0 M 190.0 125.5 Q 194.4 125.5, 196.7 122.6 Q 199.0 119.7, 199.0 114.0 Q 199.0 108.4, 196.7 105.6 Q 194.4 102.8, 190.0 102.8 Q 185.7 102.8, 183.4 105.6 Q 181.0 108.4, 181.0 114.0 Q 181.0 119.7, 183.4 122.6 Q 185.7 125.5, 190.0 125.5 \" fill=\"#FF0000\"/>\n",
       "<path class=\"atom-6\" d=\"M 366.6 161.6 L 370.5 161.6 L 370.5 173.6 L 385.0 173.6 L 385.0 161.6 L 388.8 161.6 L 388.8 189.9 L 385.0 189.9 L 385.0 176.8 L 370.5 176.8 L 370.5 189.9 L 366.6 189.9 L 366.6 161.6 \" fill=\"#000000\"/>\n",
       "<path class=\"atom-7\" d=\"M 324.0 233.5 L 327.8 233.5 L 327.8 245.5 L 342.3 245.5 L 342.3 233.5 L 346.2 233.5 L 346.2 261.8 L 342.3 261.8 L 342.3 248.7 L 327.8 248.7 L 327.8 261.8 L 324.0 261.8 L 324.0 233.5 \" fill=\"#000000\"/>\n",
       "<path class=\"atom-8\" d=\"M 323.1 35.2 L 327.0 35.2 L 327.0 47.3 L 341.5 47.3 L 341.5 35.2 L 345.3 35.2 L 345.3 63.5 L 341.5 63.5 L 341.5 50.5 L 327.0 50.5 L 327.0 63.5 L 323.1 63.5 L 323.1 35.2 \" fill=\"#000000\"/>\n",
       "<path class=\"atom-9\" d=\"M 366.7 106.2 L 370.5 106.2 L 370.5 118.2 L 385.0 118.2 L 385.0 106.2 L 388.8 106.2 L 388.8 134.5 L 385.0 134.5 L 385.0 121.4 L 370.5 121.4 L 370.5 134.5 L 366.7 134.5 L 366.7 106.2 \" fill=\"#000000\"/>\n",
       "<path class=\"atom-10\" d=\"M 192.3 14.2 L 196.2 14.2 L 196.2 26.2 L 210.6 26.2 L 210.6 14.2 L 214.5 14.2 L 214.5 42.5 L 210.6 42.5 L 210.6 29.4 L 196.2 29.4 L 196.2 42.5 L 192.3 42.5 L 192.3 14.2 \" fill=\"#000000\"/>\n",
       "<path class=\"atom-11\" d=\"M 269.3 21.2 L 273.2 21.2 L 273.2 33.2 L 287.7 33.2 L 287.7 21.2 L 291.5 21.2 L 291.5 49.5 L 287.7 49.5 L 287.7 36.4 L 273.2 36.4 L 273.2 49.5 L 269.3 49.5 L 269.3 21.2 \" fill=\"#000000\"/>\n",
       "<path class=\"atom-12\" d=\"M 155.1 219.4 L 159.0 219.4 L 159.0 231.5 L 173.4 231.5 L 173.4 219.4 L 177.3 219.4 L 177.3 247.7 L 173.4 247.7 L 173.4 234.7 L 159.0 234.7 L 159.0 247.7 L 155.1 247.7 L 155.1 219.4 \" fill=\"#000000\"/>\n",
       "<path class=\"atom-13\" d=\"M 111.2 154.4 L 115.0 154.4 L 115.0 166.5 L 129.5 166.5 L 129.5 154.4 L 133.3 154.4 L 133.3 182.7 L 129.5 182.7 L 129.5 169.7 L 115.0 169.7 L 115.0 182.7 L 111.2 182.7 L 111.2 154.4 \" fill=\"#000000\"/>\n",
       "<path class=\"atom-14\" d=\"M 270.9 248.9 L 274.7 248.9 L 274.7 261.0 L 289.2 261.0 L 289.2 248.9 L 293.0 248.9 L 293.0 277.3 L 289.2 277.3 L 289.2 264.2 L 274.7 264.2 L 274.7 277.3 L 270.9 277.3 L 270.9 248.9 \" fill=\"#000000\"/>\n",
       "<path class=\"atom-15\" d=\"M 195.4 257.5 L 199.3 257.5 L 199.3 269.6 L 213.8 269.6 L 213.8 257.5 L 217.6 257.5 L 217.6 285.8 L 213.8 285.8 L 213.8 272.8 L 199.3 272.8 L 199.3 285.8 L 195.4 285.8 L 195.4 257.5 \" fill=\"#000000\"/>\n",
       "</svg>"
      ],
      "text/plain": [
       "<IPython.core.display.SVG object>"
      ]
     },
     "execution_count": 15,
     "metadata": {},
     "output_type": "execute_result"
    }
   ],
   "source": [
    "Molecule.from_smiles(\"C1CCOCC1\").visualize()"
   ]
  },
  {
   "cell_type": "markdown",
   "metadata": {},
   "source": [
    "Perfect. We can ignore the hydrogens, as we haven't specified any bond orders - our smirks will match the saturated structure or any of its derivatives that maintain the ring. Now all we have to do is label the atoms we want to extract the bond from! This way, all the atoms must be present for the SMIRKS to match, but only these three atoms define the angle for the parameter. This lets us be more specific than we could be if we could only describe the atoms in the angle itself. We do that the same way we did before, put them in square brackets and append a colon and a number:"
   ]
  },
  {
   "cell_type": "code",
   "execution_count": 16,
   "metadata": {
    "execution": {
     "iopub.execute_input": "2023-08-24T00:21:21.346650Z",
     "iopub.status.busy": "2023-08-24T00:21:21.346430Z",
     "iopub.status.idle": "2023-08-24T00:21:21.350174Z",
     "shell.execute_reply": "2023-08-24T00:21:21.349559Z"
    }
   },
   "outputs": [],
   "source": [
    "cyclic_oxygen_smirks = \"C1C[C:1]-[O:2]-[C:3]C1\""
   ]
  },
  {
   "cell_type": "markdown",
   "metadata": {},
   "source": [
    "\n",
    "<div class=\"alert alert-success\" style=\"max-width: 700px; margin-left: auto; margin-right: auto;\">\n",
    "    📗 Try replacing this SMIRKS code with one of your own. Hint: For this force field and ligand, there's a much simpler code that will uniquely specify the C-O-C bond!\n",
    "</div>\n"
   ]
  },
  {
   "cell_type": "markdown",
   "metadata": {},
   "source": [
    "### Defining and registering the new parameter\n",
    "\n",
    "Now, all that's left is to define the angle parameter, add it to the force field, and see what we've wrought!"
   ]
  },
  {
   "cell_type": "code",
   "execution_count": 17,
   "metadata": {
    "execution": {
     "iopub.execute_input": "2023-08-24T00:21:21.353374Z",
     "iopub.status.busy": "2023-08-24T00:21:21.353163Z",
     "iopub.status.idle": "2023-08-24T00:21:21.777648Z",
     "shell.execute_reply": "2023-08-24T00:21:21.776992Z"
    },
    "scrolled": true
   },
   "outputs": [
    {
     "name": "stdout",
     "output_type": "stream",
     "text": [
      "Initial energy is 1031.4 kJ/mol; Minimized energy is 333.6 kJ/mol\n"
     ]
    },
    {
     "data": {
      "application/vnd.jupyter.widget-view+json": {
       "model_id": "aef589a041994ce1a68eb1afeeea2def",
       "version_major": 2,
       "version_minor": 0
      },
      "text/plain": [
       "NGLWidget()"
      ]
     },
     "metadata": {},
     "output_type": "display_data"
    }
   ],
   "source": [
    "# Define the new angle parameter\n",
    "angle_parameter = offtk_parameters.AngleHandler.AngleType(\n",
    "    smirks=cyclic_oxygen_smirks,\n",
    "    angle=179 * unit.degree,\n",
    "    k=134.5019777341 * unit.kilocalorie / (unit.mole * unit.radians**2),\n",
    ")\n",
    "\n",
    "# Add the parameter to the force field\n",
    "angles_handler = force_field[\"Angles\"]\n",
    "angles_handler.add_parameter(parameter=angle_parameter)\n",
    "\n",
    "# Visualize the newly parameterized molecule\n",
    "minimize_and_visualize(ligand, force_field)"
   ]
  },
  {
   "cell_type": "markdown",
   "metadata": {},
   "source": [
    "Perfect! The two cyclic heteroatoms are nearly linear while the hydroxyl group retains its characteristic angle."
   ]
  },
  {
   "cell_type": "markdown",
   "metadata": {},
   "source": [
    "### Bonus: Adding a cosmetic attribute to the new parameter\n",
    "\n",
    "In some cases, you might want to tag a particular attribute with extra data. This might be useful, for example, in communicating to a fitting tool which parameters should be fitted, or simply to add extra metadata.. The toolkit allows for _cosmetic attributes_, which can be stored to individual parameters, will be included out when the `ForceField` object is written to disk, but will not otherwise affect the parameterization machinery. The API point for this is [`ParameterType.add_cosmetic_attribute`](https://docs.openforcefield.org/projects/toolkit/en/stable/api/generated/openff.toolkit.typing.engines.smirnoff.parameters.ParameterType.html#openff.toolkit.typing.engines.smirnoff.parameters.ParameterType.add_cosmetic_attribute).\n",
    "\n",
    "Let's use this to tag our modified and new parameters with a note about why we introduced it."
   ]
  },
  {
   "cell_type": "code",
   "execution_count": 18,
   "metadata": {
    "execution": {
     "iopub.execute_input": "2023-08-24T00:21:21.780834Z",
     "iopub.status.busy": "2023-08-24T00:21:21.780571Z",
     "iopub.status.idle": "2023-08-24T00:21:21.784912Z",
     "shell.execute_reply": "2023-08-24T00:21:21.784296Z"
    }
   },
   "outputs": [],
   "source": [
    "angles_handler.parameters[cyclic_nitrogen_smirks].add_cosmetic_attribute(\n",
    "    attr_name=\"note\",\n",
    "    attr_value=\"funky pseudo-linear cyclic nitrogen\",\n",
    ")\n",
    "\n",
    "angles_handler.parameters[cyclic_oxygen_smirks].add_cosmetic_attribute(\n",
    "    attr_name=\"note\",\n",
    "    attr_value=\"funky pseudo-linear cyclic oxygen\",\n",
    ")"
   ]
  },
  {
   "cell_type": "markdown",
   "metadata": {},
   "source": [
    "We we look at these parameter now, they include this attribute tacked on at the end:"
   ]
  },
  {
   "cell_type": "code",
   "execution_count": 19,
   "metadata": {
    "execution": {
     "iopub.execute_input": "2023-08-24T00:21:21.787780Z",
     "iopub.status.busy": "2023-08-24T00:21:21.787570Z",
     "iopub.status.idle": "2023-08-24T00:21:21.794020Z",
     "shell.execute_reply": "2023-08-24T00:21:21.793340Z"
    }
   },
   "outputs": [
    {
     "data": {
      "text/plain": [
       "<AngleType with smirks: [*:1]~[#7X3$(*~[#6X3,#6X2,#7X2+0]):2]~[*:3]  angle: 179 degree  k: 110.8436430155 kilocalorie / mole / radian ** 2  id: a20  note: funky pseudo-linear cyclic nitrogen  >"
      ]
     },
     "execution_count": 19,
     "metadata": {},
     "output_type": "execute_result"
    }
   ],
   "source": [
    "angles_handler.parameters[cyclic_nitrogen_smirks]"
   ]
  },
  {
   "cell_type": "code",
   "execution_count": 20,
   "metadata": {
    "execution": {
     "iopub.execute_input": "2023-08-24T00:21:21.796975Z",
     "iopub.status.busy": "2023-08-24T00:21:21.796764Z",
     "iopub.status.idle": "2023-08-24T00:21:21.802920Z",
     "shell.execute_reply": "2023-08-24T00:21:21.802344Z"
    }
   },
   "outputs": [
    {
     "data": {
      "text/plain": [
       "<AngleType with smirks: C1C[C:1]-[O:2]-[C:3]C1  angle: 179 degree  k: 134.5019777341 kilocalorie / mole / radian ** 2  note: funky pseudo-linear cyclic oxygen  >"
      ]
     },
     "execution_count": 20,
     "metadata": {},
     "output_type": "execute_result"
    }
   ],
   "source": [
    "angles_handler.parameters[cyclic_oxygen_smirks]"
   ]
  },
  {
   "cell_type": "markdown",
   "metadata": {},
   "source": [
    "Cometic attributes are included by default when [writing to disk](https://docs.openforcefield.org/projects/toolkit/en/stable/api/generated/openff.toolkit.typing.engines.smirnoff.ForceField.html#openff.toolkit.typing.engines.smirnoff.ForceField.to_file). (This can be turned off by flipping the argument `discard_cosmetic_attributes` to `True`.) Let's write out our modified force field and search through the file for the note we added."
   ]
  },
  {
   "cell_type": "code",
   "execution_count": 21,
   "metadata": {
    "execution": {
     "iopub.execute_input": "2023-08-24T00:21:21.805888Z",
     "iopub.status.busy": "2023-08-24T00:21:21.805677Z",
     "iopub.status.idle": "2023-08-24T00:21:21.874281Z",
     "shell.execute_reply": "2023-08-24T00:21:21.873617Z"
    }
   },
   "outputs": [],
   "source": [
    "force_field.to_file(\"modified.offxml\")"
   ]
  },
  {
   "cell_type": "code",
   "execution_count": 22,
   "metadata": {
    "execution": {
     "iopub.execute_input": "2023-08-24T00:21:21.877764Z",
     "iopub.status.busy": "2023-08-24T00:21:21.877532Z",
     "iopub.status.idle": "2023-08-24T00:21:22.034179Z",
     "shell.execute_reply": "2023-08-24T00:21:22.033436Z"
    }
   },
   "outputs": [
    {
     "name": "stdout",
     "output_type": "stream",
     "text": [
      "        <Angle smirks=\"[*:1]~[#7X3$(*~[#6X3,#6X2,#7X2+0]):2]~[*:3]\" angle=\"179 * degree ** 1\" k=\"110.8436430155 * mole ** -1 * radian ** -2 * kilocalorie ** 1\" id=\"a20\" note=\"funky pseudo-linear cyclic nitrogen\"></Angle>\r\n",
      "        <Angle smirks=\"C1C[C:1]-[O:2]-[C:3]C1\" angle=\"179 * degree ** 1\" k=\"134.5019777341 * kilocalorie ** 1 * mole ** -1 * radian ** -2\" note=\"funky pseudo-linear cyclic oxygen\"></Angle>\r\n"
     ]
    }
   ],
   "source": [
    "!grep funky modified.offxml"
   ]
  },
  {
   "cell_type": "code",
   "execution_count": null,
   "metadata": {},
   "outputs": [],
   "source": []
  }
 ],
 "metadata": {
  "category": "force_field_dev",
  "cookbook_cache_branch": "_cookbook_data_main",
  "kernelspec": {
   "display_name": "Python 3 (ipykernel)",
   "language": "python",
   "name": "python3"
  },
  "language_info": {
   "codemirror_mode": {
    "name": "ipython",
    "version": 3
   },
   "file_extension": ".py",
   "mimetype": "text/x-python",
   "name": "python",
   "nbconvert_exporter": "python",
   "pygments_lexer": "ipython3",
   "version": "3.10.12"
  },
  "src_repo_tag": "0.14.3",
  "widgets": {
   "application/vnd.jupyter.widget-state+json": {
    "state": {
     "01898c39f4354470a5787cd140331c3b": {
      "model_module": "@jupyter-widgets/controls",
      "model_module_version": "2.0.0",
      "model_name": "DescriptionStyleModel",
      "state": {
       "_model_module": "@jupyter-widgets/controls",
       "_model_module_version": "2.0.0",
       "_model_name": "DescriptionStyleModel",
       "_view_count": null,
       "_view_module": "@jupyter-widgets/base",
       "_view_module_version": "2.0.0",
       "_view_name": "StyleView",
       "description_width": ""
      }
     },
     "02b76d7a36f846e2b4ed1c8f0fdaf103": {
      "model_module": "@jupyter-widgets/controls",
      "model_module_version": "2.0.0",
      "model_name": "PlayModel",
      "state": {
       "_dom_classes": [],
       "_model_module": "@jupyter-widgets/controls",
       "_model_module_version": "2.0.0",
       "_model_name": "PlayModel",
       "_view_count": null,
       "_view_module": "@jupyter-widgets/controls",
       "_view_module_version": "2.0.0",
       "_view_name": "PlayView",
       "description": "",
       "description_allow_html": false,
       "disabled": false,
       "interval": 100,
       "layout": "IPY_MODEL_d79c68d6ce4c41968af2b6e2c23e3667",
       "max": 0,
       "min": 0,
       "playing": false,
       "repeat": false,
       "show_repeat": true,
       "step": 1,
       "style": "IPY_MODEL_c911250390ea4b5cb4edc6aa51a0acab",
       "tabbable": null,
       "tooltip": null,
       "value": 0
      }
     },
     "03965197cd4944d592bdadc8a3b5e540": {
      "model_module": "@jupyter-widgets/controls",
      "model_module_version": "2.0.0",
      "model_name": "LinkModel",
      "state": {
       "_model_module": "@jupyter-widgets/controls",
       "_model_module_version": "2.0.0",
       "_model_name": "LinkModel",
       "_view_count": null,
       "_view_module": "@jupyter-widgets/controls",
       "_view_module_version": "2.0.0",
       "_view_name": null,
       "source": [
        "IPY_MODEL_02b76d7a36f846e2b4ed1c8f0fdaf103",
        "max"
       ],
       "target": [
        "IPY_MODEL_615f974fb35c47b688ab32a330f702a3",
        "max_frame"
       ]
      }
     },
     "07fd41d19d3f4f4da7b456f3cfd37936": {
      "model_module": "@jupyter-widgets/controls",
      "model_module_version": "2.0.0",
      "model_name": "LinkModel",
      "state": {
       "_model_module": "@jupyter-widgets/controls",
       "_model_module_version": "2.0.0",
       "_model_name": "LinkModel",
       "_view_count": null,
       "_view_module": "@jupyter-widgets/controls",
       "_view_module_version": "2.0.0",
       "_view_name": null,
       "source": [
        "IPY_MODEL_ab8988f7a6ec408a9e54eb79cf3eb43e",
        "max"
       ],
       "target": [
        "IPY_MODEL_1c123e72d1e24c7988c32edef409871e",
        "max_frame"
       ]
      }
     },
     "0f83527017674fedb632d1b3e86d9f33": {
      "model_module": "@jupyter-widgets/base",
      "model_module_version": "2.0.0",
      "model_name": "LayoutModel",
      "state": {
       "_model_module": "@jupyter-widgets/base",
       "_model_module_version": "2.0.0",
       "_model_name": "LayoutModel",
       "_view_count": null,
       "_view_module": "@jupyter-widgets/base",
       "_view_module_version": "2.0.0",
       "_view_name": "LayoutView",
       "align_content": null,
       "align_items": null,
       "align_self": null,
       "border_bottom": null,
       "border_left": null,
       "border_right": null,
       "border_top": null,
       "bottom": null,
       "display": null,
       "flex": null,
       "flex_flow": null,
       "grid_area": null,
       "grid_auto_columns": null,
       "grid_auto_flow": null,
       "grid_auto_rows": null,
       "grid_column": null,
       "grid_gap": null,
       "grid_row": null,
       "grid_template_areas": null,
       "grid_template_columns": null,
       "grid_template_rows": null,
       "height": null,
       "justify_content": null,
       "justify_items": null,
       "left": null,
       "margin": null,
       "max_height": null,
       "max_width": null,
       "min_height": null,
       "min_width": null,
       "object_fit": null,
       "object_position": null,
       "order": null,
       "overflow": null,
       "padding": null,
       "right": null,
       "top": null,
       "visibility": null,
       "width": null
      }
     },
     "1054c7a34de84d2cbc3f1870399843ec": {
      "model_module": "@jupyter-widgets/base",
      "model_module_version": "2.0.0",
      "model_name": "LayoutModel",
      "state": {
       "_model_module": "@jupyter-widgets/base",
       "_model_module_version": "2.0.0",
       "_model_name": "LayoutModel",
       "_view_count": null,
       "_view_module": "@jupyter-widgets/base",
       "_view_module_version": "2.0.0",
       "_view_name": "LayoutView",
       "align_content": null,
       "align_items": null,
       "align_self": null,
       "border_bottom": null,
       "border_left": null,
       "border_right": null,
       "border_top": null,
       "bottom": null,
       "display": null,
       "flex": null,
       "flex_flow": null,
       "grid_area": null,
       "grid_auto_columns": null,
       "grid_auto_flow": null,
       "grid_auto_rows": null,
       "grid_column": null,
       "grid_gap": null,
       "grid_row": null,
       "grid_template_areas": null,
       "grid_template_columns": null,
       "grid_template_rows": null,
       "height": null,
       "justify_content": null,
       "justify_items": null,
       "left": null,
       "margin": null,
       "max_height": null,
       "max_width": null,
       "min_height": null,
       "min_width": null,
       "object_fit": null,
       "object_position": null,
       "order": null,
       "overflow": null,
       "padding": null,
       "right": null,
       "top": null,
       "visibility": null,
       "width": null
      }
     },
     "165ae6d3fa114b41b9f9bf5d2b4693a1": {
      "model_module": "@jupyter-widgets/controls",
      "model_module_version": "2.0.0",
      "model_name": "LinkModel",
      "state": {
       "_model_module": "@jupyter-widgets/controls",
       "_model_module_version": "2.0.0",
       "_model_name": "LinkModel",
       "_view_count": null,
       "_view_module": "@jupyter-widgets/controls",
       "_view_module_version": "2.0.0",
       "_view_name": null,
       "source": [
        "IPY_MODEL_fe75e3eef03143118cbf77bbac4623bb",
        "max"
       ],
       "target": [
        "IPY_MODEL_aef589a041994ce1a68eb1afeeea2def",
        "max_frame"
       ]
      }
     },
     "1787f01c3b554394a37d4c961a91f3c1": {
      "buffers": [
       {
        "data": "",
        "encoding": "base64",
        "path": [
         "value"
        ]
       }
      ],
      "model_module": "@jupyter-widgets/controls",
      "model_module_version": "2.0.0",
      "model_name": "ImageModel",
      "state": {
       "_dom_classes": [],
       "_model_module": "@jupyter-widgets/controls",
       "_model_module_version": "2.0.0",
       "_model_name": "ImageModel",
       "_view_count": null,
       "_view_module": "@jupyter-widgets/controls",
       "_view_module_version": "2.0.0",
       "_view_name": "ImageView",
       "format": "png",
       "height": "",
       "layout": "IPY_MODEL_c70af25d0fe04286af5acb3ac9a2eca4",
       "tabbable": null,
       "tooltip": null,
       "width": "900.0"
      }
     },
     "18dac9caac1d42149522e3d24bf94ab5": {
      "model_module": "@jupyter-widgets/controls",
      "model_module_version": "2.0.0",
      "model_name": "LinkModel",
      "state": {
       "_model_module": "@jupyter-widgets/controls",
       "_model_module_version": "2.0.0",
       "_model_name": "LinkModel",
       "_view_count": null,
       "_view_module": "@jupyter-widgets/controls",
       "_view_module_version": "2.0.0",
       "_view_name": null,
       "source": [
        "IPY_MODEL_02b76d7a36f846e2b4ed1c8f0fdaf103",
        "value"
       ],
       "target": [
        "IPY_MODEL_615f974fb35c47b688ab32a330f702a3",
        "frame"
       ]
      }
     },
     "1905db114c6b4e489daff20aba1f4ad1": {
      "model_module": "@jupyter-widgets/controls",
      "model_module_version": "2.0.0",
      "model_name": "LinkModel",
      "state": {
       "_model_module": "@jupyter-widgets/controls",
       "_model_module_version": "2.0.0",
       "_model_name": "LinkModel",
       "_view_count": null,
       "_view_module": "@jupyter-widgets/controls",
       "_view_module_version": "2.0.0",
       "_view_name": null,
       "source": [
        "IPY_MODEL_435d0fc545e34048a44f4f6804901649",
        "value"
       ],
       "target": [
        "IPY_MODEL_ea59a29635bc408cb8e8814e7c8a8f67",
        "frame"
       ]
      }
     },
     "19caa587825e4f2b806eecc8d88fabdc": {
      "model_module": "@jupyter-widgets/controls",
      "model_module_version": "2.0.0",
      "model_name": "ButtonModel",
      "state": {
       "_dom_classes": [],
       "_model_module": "@jupyter-widgets/controls",
       "_model_module_version": "2.0.0",
       "_model_name": "ButtonModel",
       "_view_count": null,
       "_view_module": "@jupyter-widgets/controls",
       "_view_module_version": "2.0.0",
       "_view_name": "ButtonView",
       "button_style": "",
       "description": "",
       "disabled": false,
       "icon": "compress",
       "layout": "IPY_MODEL_3e72f55cdce64e18a2cd11a60f9f4ecb",
       "style": "IPY_MODEL_df28811636ae4696be80952711f0cf60",
       "tabbable": null,
       "tooltip": null
      }
     },
     "1c123e72d1e24c7988c32edef409871e": {
      "model_module": "nglview-js-widgets",
      "model_module_version": "3.0.6",
      "model_name": "NGLModel",
      "state": {
       "_camera_orientation": [],
       "_camera_str": "orthographic",
       "_dom_classes": [],
       "_gui_theme": null,
       "_ibtn_fullscreen": "IPY_MODEL_734f58072c9b4a4593f7432a819632d9",
       "_igui": null,
       "_iplayer": "IPY_MODEL_c1e8601695b54b0ba3ed7f9f13a34a15",
       "_model_module": "nglview-js-widgets",
       "_model_module_version": "3.0.6",
       "_model_name": "NGLModel",
       "_ngl_color_dict": {},
       "_ngl_coordinate_resource": {},
       "_ngl_full_stage_parameters": {},
       "_ngl_msg_archive": [
        {
         "args": [
          {
           "binary": false,
           "data": "HETATM    1  C1  UNL     1       5.397   2.010   0.033  1.00  0.00           C  \nHETATM    2  C2  UNL     1       4.694   0.645  -0.051  1.00  0.00           C  \nHETATM    3  C3  UNL     1       5.280  -0.315   0.996  1.00  0.00           C  \nHETATM    4  C4  UNL     1       5.018   0.159  -1.473  1.00  0.00           C  \nHETATM    5  C5  UNL     1       3.169   0.715   0.165  1.00  0.00           C  \nHETATM    6  C6  UNL     1       2.545   1.753   0.899  1.00  0.00           C  \nHETATM    7  O1  UNL     1       3.193   2.775   1.524  1.00  0.00           O  \nHETATM    8  C7  UNL     1       1.165   1.781   1.106  1.00  0.00           C  \nHETATM    9  O2  UNL     1       0.609   2.769   1.895  1.00  0.00           O  \nHETATM   10  C8  UNL     1       0.360   0.783   0.561  1.00  0.00           C  \nHETATM   11  C9  UNL     1       0.930  -0.268  -0.160  1.00  0.00           C  \nHETATM   12  C10 UNL     1       2.324  -0.327  -0.292  1.00  0.00           C  \nHETATM   13  O3  UNL     1       2.813  -1.491  -0.814  1.00  0.00           O  \nHETATM   14  C11 UNL     1       0.060  -1.338  -0.789  1.00  0.00           C  \nHETATM   15  O4  UNL     1       0.228  -2.529   0.001  1.00  0.00           O  \nHETATM   16  C12 UNL     1      -0.465  -3.662  -0.531  1.00  0.00           C  \nHETATM   17  C13 UNL     1      -1.916  -3.460  -0.934  1.00  0.00           C  \nHETATM   18  C14 UNL     1      -2.314  -2.052  -1.350  1.00  0.00           C  \nHETATM   19  C15 UNL     1      -1.411  -0.886  -0.913  1.00  0.00           C  \nHETATM   20  C16 UNL     1      -1.873  -0.285   0.423  1.00  0.00           C  \nHETATM   21  C17 UNL     1      -3.300   0.226   0.365  1.00  0.00           C  \nHETATM   22  C18 UNL     1      -4.273  -0.301   1.227  1.00  0.00           C  \nHETATM   23  C19 UNL     1      -5.592   0.162   1.196  1.00  0.00           C  \nHETATM   24  O5  UNL     1      -6.511  -0.379   2.057  1.00  0.00           O  \nHETATM   25  C20 UNL     1      -5.958   1.173   0.288  1.00  0.00           C  \nHETATM   26  O6  UNL     1      -7.248   1.648   0.237  1.00  0.00           O  \nHETATM   27  C21 UNL     1      -4.995   1.708  -0.574  1.00  0.00           C  \nHETATM   28  F1  UNL     1      -7.512   8.941  -7.003  1.00  0.00           F  \nHETATM   29  C22 UNL     1      -3.679   1.238  -0.535  1.00  0.00           C  \nHETATM   30  N1  UNL     1      -1.015   0.857   0.759  1.00  0.00           N  \nHETATM   31  H1  UNL     1       6.203   2.246   0.734  1.00  0.00           H  \nHETATM   32  H2  UNL     1       6.393   2.226  -0.364  1.00  0.00           H  \nHETATM   33  H3  UNL     1       6.456   1.798   0.207  1.00  0.00           H  \nHETATM   34  H4  UNL     1       5.656  -0.005   1.975  1.00  0.00           H  \nHETATM   35  H5  UNL     1       4.940   0.067   1.963  1.00  0.00           H  \nHETATM   36  H6  UNL     1       4.752  -0.636   1.898  1.00  0.00           H  \nHETATM   37  H7  UNL     1       6.017   0.149  -1.918  1.00  0.00           H  \nHETATM   38  H8  UNL     1       5.982  -0.355  -1.412  1.00  0.00           H  \nHETATM   39  H9  UNL     1       5.477  -0.808  -1.702  1.00  0.00           H  \nHETATM   40  H10 UNL     1       2.483   3.290   1.942  1.00  0.00           H  \nHETATM   41  H11 UNL     1      -0.232   2.437   2.250  1.00  0.00           H  \nHETATM   42  H12 UNL     1       2.149  -2.175  -0.625  1.00  0.00           H  \nHETATM   43  H13 UNL     1       0.421  -1.532  -1.803  1.00  0.00           H  \nHETATM   44  H14 UNL     1      -0.162  -4.655  -0.189  1.00  0.00           H  \nHETATM   45  H15 UNL     1       0.116  -4.426  -1.056  1.00  0.00           H  \nHETATM   46  H16 UNL     1      -2.675  -4.106  -0.483  1.00  0.00           H  \nHETATM   47  H17 UNL     1      -2.455  -4.305  -1.373  1.00  0.00           H  \nHETATM   48  H18 UNL     1      -2.857  -1.942  -2.293  1.00  0.00           H  \nHETATM   49  H19 UNL     1      -3.375  -1.851  -1.528  1.00  0.00           H  \nHETATM   50  H20 UNL     1      -1.457  -0.110  -1.682  1.00  0.00           H  \nHETATM   51  H21 UNL     1      -1.783  -1.045   1.204  1.00  0.00           H  \nHETATM   52  H22 UNL     1      -3.994  -1.079   1.931  1.00  0.00           H  \nHETATM   53  H23 UNL     1      -6.087  -1.020   2.652  1.00  0.00           H  \nHETATM   54  H24 UNL     1      -7.332   2.348  -0.431  1.00  0.00           H  \nHETATM   55  H25 UNL     1      -2.952   1.669  -1.215  1.00  0.00           H  \nHETATM   56  H26 UNL     1      -1.422   1.780   0.612  1.00  0.00           H  \nCONECT    1    2   31   32   33\nCONECT    2    3    4    5\nCONECT    3   34   35   36\nCONECT    4   37   38   39\nCONECT    5    6    6   12\nCONECT    6    7    8\nCONECT    7   40\nCONECT    8    9   10   10\nCONECT    9   41\nCONECT   10   11   30\nCONECT   11   12   12   14\nCONECT   12   13\nCONECT   13   42\nCONECT   14   15   19   43\nCONECT   15   16\nCONECT   16   17   44   45\nCONECT   17   18   46   47\nCONECT   18   19   48   49\nCONECT   19   20   50\nCONECT   20   21   30   51\nCONECT   21   22   22   29\nCONECT   22   23   52\nCONECT   23   24   25   25\nCONECT   24   53\nCONECT   25   26   27\nCONECT   26   54\nCONECT   27   28   29   29\nCONECT   29   55\nCONECT   30   56\n",
           "type": "blob"
          }
         ],
         "kwargs": {
          "defaultRepresentation": true,
          "ext": "pdb",
          "name": "<openff.toolkit.utils.viz._OFFTrajectoryNGLView object at 0x7fab2d0ca680>"
         },
         "methodName": "loadFile",
         "reconstruc_color_scheme": false,
         "target": "Stage",
         "type": "call_method"
        }
       ],
       "_ngl_original_stage_parameters": {},
       "_ngl_repr_dict": {},
       "_ngl_serialize": false,
       "_ngl_version": "",
       "_ngl_view_id": [],
       "_player_dict": {},
       "_scene_position": {},
       "_scene_rotation": {},
       "_synced_model_ids": [],
       "_synced_repr_model_ids": [],
       "_view_count": null,
       "_view_height": "",
       "_view_module": "nglview-js-widgets",
       "_view_module_version": "3.0.6",
       "_view_name": "NGLView",
       "_view_width": "",
       "background": "white",
       "frame": 0,
       "gui_style": null,
       "layout": "IPY_MODEL_798a8a7d0fd947609818ed5e89a9a33a",
       "max_frame": 0,
       "n_components": 0,
       "picked": {},
       "tabbable": null,
       "tooltip": null
      }
     },
     "1c5ea6ed139c442f8a1d291b72500764": {
      "model_module": "@jupyter-widgets/base",
      "model_module_version": "2.0.0",
      "model_name": "LayoutModel",
      "state": {
       "_model_module": "@jupyter-widgets/base",
       "_model_module_version": "2.0.0",
       "_model_name": "LayoutModel",
       "_view_count": null,
       "_view_module": "@jupyter-widgets/base",
       "_view_module_version": "2.0.0",
       "_view_name": "LayoutView",
       "align_content": null,
       "align_items": null,
       "align_self": null,
       "border_bottom": null,
       "border_left": null,
       "border_right": null,
       "border_top": null,
       "bottom": null,
       "display": null,
       "flex": null,
       "flex_flow": null,
       "grid_area": null,
       "grid_auto_columns": null,
       "grid_auto_flow": null,
       "grid_auto_rows": null,
       "grid_column": null,
       "grid_gap": null,
       "grid_row": null,
       "grid_template_areas": null,
       "grid_template_columns": null,
       "grid_template_rows": null,
       "height": null,
       "justify_content": null,
       "justify_items": null,
       "left": null,
       "margin": null,
       "max_height": null,
       "max_width": null,
       "min_height": null,
       "min_width": null,
       "object_fit": null,
       "object_position": null,
       "order": null,
       "overflow": null,
       "padding": null,
       "right": null,
       "top": null,
       "visibility": null,
       "width": null
      }
     },
     "232c71494e694b5eb9eb90b944a48460": {
      "model_module": "nglview-js-widgets",
      "model_module_version": "3.0.6",
      "model_name": "ColormakerRegistryModel",
      "state": {
       "_dom_classes": [],
       "_model_module": "nglview-js-widgets",
       "_model_module_version": "3.0.6",
       "_model_name": "ColormakerRegistryModel",
       "_msg_ar": [],
       "_msg_q": [],
       "_ready": false,
       "_view_count": null,
       "_view_module": "nglview-js-widgets",
       "_view_module_version": "3.0.6",
       "_view_name": "ColormakerRegistryView",
       "layout": "IPY_MODEL_eba90459610c4216a2580bef06eabdfe",
       "tabbable": null,
       "tooltip": null
      }
     },
     "235f79afb3aa4f10a16aeedcf4cc9ea8": {
      "model_module": "@jupyter-widgets/controls",
      "model_module_version": "2.0.0",
      "model_name": "ButtonStyleModel",
      "state": {
       "_model_module": "@jupyter-widgets/controls",
       "_model_module_version": "2.0.0",
       "_model_name": "ButtonStyleModel",
       "_view_count": null,
       "_view_module": "@jupyter-widgets/base",
       "_view_module_version": "2.0.0",
       "_view_name": "StyleView",
       "button_color": null,
       "font_family": null,
       "font_size": null,
       "font_style": null,
       "font_variant": null,
       "font_weight": null,
       "text_color": null,
       "text_decoration": null
      }
     },
     "319f412f31594043904479b7c09c2c74": {
      "model_module": "@jupyter-widgets/base",
      "model_module_version": "2.0.0",
      "model_name": "LayoutModel",
      "state": {
       "_model_module": "@jupyter-widgets/base",
       "_model_module_version": "2.0.0",
       "_model_name": "LayoutModel",
       "_view_count": null,
       "_view_module": "@jupyter-widgets/base",
       "_view_module_version": "2.0.0",
       "_view_name": "LayoutView",
       "align_content": null,
       "align_items": null,
       "align_self": null,
       "border_bottom": null,
       "border_left": null,
       "border_right": null,
       "border_top": null,
       "bottom": null,
       "display": null,
       "flex": null,
       "flex_flow": null,
       "grid_area": null,
       "grid_auto_columns": null,
       "grid_auto_flow": null,
       "grid_auto_rows": null,
       "grid_column": null,
       "grid_gap": null,
       "grid_row": null,
       "grid_template_areas": null,
       "grid_template_columns": null,
       "grid_template_rows": null,
       "height": null,
       "justify_content": null,
       "justify_items": null,
       "left": null,
       "margin": null,
       "max_height": null,
       "max_width": null,
       "min_height": null,
       "min_width": null,
       "object_fit": null,
       "object_position": null,
       "order": null,
       "overflow": null,
       "padding": null,
       "right": null,
       "top": null,
       "visibility": null,
       "width": null
      }
     },
     "3af9d0bb308f4537a9a773c316f71700": {
      "model_module": "@jupyter-widgets/controls",
      "model_module_version": "2.0.0",
      "model_name": "IntSliderModel",
      "state": {
       "_dom_classes": [],
       "_model_module": "@jupyter-widgets/controls",
       "_model_module_version": "2.0.0",
       "_model_name": "IntSliderModel",
       "_view_count": null,
       "_view_module": "@jupyter-widgets/controls",
       "_view_module_version": "2.0.0",
       "_view_name": "IntSliderView",
       "behavior": "drag-tap",
       "continuous_update": true,
       "description": "",
       "description_allow_html": false,
       "disabled": false,
       "layout": "IPY_MODEL_c4cd891445d7463f909060de713402b0",
       "max": 0,
       "min": 0,
       "orientation": "horizontal",
       "readout": true,
       "readout_format": "d",
       "step": 1,
       "style": "IPY_MODEL_875ba8e1b643468e8c9bbcd66495fb66",
       "tabbable": null,
       "tooltip": null,
       "value": 0
      }
     },
     "3e72f55cdce64e18a2cd11a60f9f4ecb": {
      "model_module": "@jupyter-widgets/base",
      "model_module_version": "2.0.0",
      "model_name": "LayoutModel",
      "state": {
       "_model_module": "@jupyter-widgets/base",
       "_model_module_version": "2.0.0",
       "_model_name": "LayoutModel",
       "_view_count": null,
       "_view_module": "@jupyter-widgets/base",
       "_view_module_version": "2.0.0",
       "_view_name": "LayoutView",
       "align_content": null,
       "align_items": null,
       "align_self": null,
       "border_bottom": null,
       "border_left": null,
       "border_right": null,
       "border_top": null,
       "bottom": null,
       "display": null,
       "flex": null,
       "flex_flow": null,
       "grid_area": null,
       "grid_auto_columns": null,
       "grid_auto_flow": null,
       "grid_auto_rows": null,
       "grid_column": null,
       "grid_gap": null,
       "grid_row": null,
       "grid_template_areas": null,
       "grid_template_columns": null,
       "grid_template_rows": null,
       "height": null,
       "justify_content": null,
       "justify_items": null,
       "left": null,
       "margin": null,
       "max_height": null,
       "max_width": null,
       "min_height": null,
       "min_width": null,
       "object_fit": null,
       "object_position": null,
       "order": null,
       "overflow": null,
       "padding": null,
       "right": null,
       "top": null,
       "visibility": null,
       "width": "34px"
      }
     },
     "3f42d5d8cda5493db817527cf696a996": {
      "model_module": "@jupyter-widgets/controls",
      "model_module_version": "2.0.0",
      "model_name": "LinkModel",
      "state": {
       "_model_module": "@jupyter-widgets/controls",
       "_model_module_version": "2.0.0",
       "_model_name": "LinkModel",
       "_view_count": null,
       "_view_module": "@jupyter-widgets/controls",
       "_view_module_version": "2.0.0",
       "_view_name": null,
       "source": [
        "IPY_MODEL_02b76d7a36f846e2b4ed1c8f0fdaf103",
        "value"
       ],
       "target": [
        "IPY_MODEL_8a5cce8d7f1e425e81e25e634c344d90",
        "value"
       ]
      }
     },
     "3ffd1c8a1d1b4bee98396d60da61acbc": {
      "model_module": "@jupyter-widgets/controls",
      "model_module_version": "2.0.0",
      "model_name": "IntSliderModel",
      "state": {
       "_dom_classes": [],
       "_model_module": "@jupyter-widgets/controls",
       "_model_module_version": "2.0.0",
       "_model_name": "IntSliderModel",
       "_view_count": null,
       "_view_module": "@jupyter-widgets/controls",
       "_view_module_version": "2.0.0",
       "_view_name": "IntSliderView",
       "behavior": "drag-tap",
       "continuous_update": true,
       "description": "",
       "description_allow_html": false,
       "disabled": false,
       "layout": "IPY_MODEL_8509a8ae66f74fcfa82fc9080cb1ac71",
       "max": 0,
       "min": 0,
       "orientation": "horizontal",
       "readout": true,
       "readout_format": "d",
       "step": 1,
       "style": "IPY_MODEL_5d084a057b914a76ba9646f52051298f",
       "tabbable": null,
       "tooltip": null,
       "value": 0
      }
     },
     "41f6940395064c13bae11ced5f4be98c": {
      "model_module": "@jupyter-widgets/controls",
      "model_module_version": "2.0.0",
      "model_name": "ButtonStyleModel",
      "state": {
       "_model_module": "@jupyter-widgets/controls",
       "_model_module_version": "2.0.0",
       "_model_name": "ButtonStyleModel",
       "_view_count": null,
       "_view_module": "@jupyter-widgets/base",
       "_view_module_version": "2.0.0",
       "_view_name": "StyleView",
       "button_color": null,
       "font_family": null,
       "font_size": null,
       "font_style": null,
       "font_variant": null,
       "font_weight": null,
       "text_color": null,
       "text_decoration": null
      }
     },
     "435d0fc545e34048a44f4f6804901649": {
      "model_module": "@jupyter-widgets/controls",
      "model_module_version": "2.0.0",
      "model_name": "PlayModel",
      "state": {
       "_dom_classes": [],
       "_model_module": "@jupyter-widgets/controls",
       "_model_module_version": "2.0.0",
       "_model_name": "PlayModel",
       "_view_count": null,
       "_view_module": "@jupyter-widgets/controls",
       "_view_module_version": "2.0.0",
       "_view_name": "PlayView",
       "description": "",
       "description_allow_html": false,
       "disabled": false,
       "interval": 100,
       "layout": "IPY_MODEL_9ddda1284c344a4f98555f329f41054d",
       "max": 0,
       "min": 0,
       "playing": false,
       "repeat": false,
       "show_repeat": true,
       "step": 1,
       "style": "IPY_MODEL_01898c39f4354470a5787cd140331c3b",
       "tabbable": null,
       "tooltip": null,
       "value": 0
      }
     },
     "4852aa2b70684d229ee6771d6dbd287b": {
      "buffers": [
       {
        "data": "",
        "encoding": "base64",
        "path": [
         "value"
        ]
       }
      ],
      "model_module": "@jupyter-widgets/controls",
      "model_module_version": "2.0.0",
      "model_name": "ImageModel",
      "state": {
       "_dom_classes": [],
       "_model_module": "@jupyter-widgets/controls",
       "_model_module_version": "2.0.0",
       "_model_name": "ImageModel",
       "_view_count": null,
       "_view_module": "@jupyter-widgets/controls",
       "_view_module_version": "2.0.0",
       "_view_name": "ImageView",
       "format": "png",
       "height": "",
       "layout": "IPY_MODEL_556bae3ae3524c988a10ffca888da979",
       "tabbable": null,
       "tooltip": null,
       "width": "900.0"
      }
     },
     "50cf4ae821eb48779f95fe0056cb6126": {
      "model_module": "@jupyter-widgets/base",
      "model_module_version": "2.0.0",
      "model_name": "LayoutModel",
      "state": {
       "_model_module": "@jupyter-widgets/base",
       "_model_module_version": "2.0.0",
       "_model_name": "LayoutModel",
       "_view_count": null,
       "_view_module": "@jupyter-widgets/base",
       "_view_module_version": "2.0.0",
       "_view_name": "LayoutView",
       "align_content": null,
       "align_items": null,
       "align_self": null,
       "border_bottom": null,
       "border_left": null,
       "border_right": null,
       "border_top": null,
       "bottom": null,
       "display": null,
       "flex": null,
       "flex_flow": null,
       "grid_area": null,
       "grid_auto_columns": null,
       "grid_auto_flow": null,
       "grid_auto_rows": null,
       "grid_column": null,
       "grid_gap": null,
       "grid_row": null,
       "grid_template_areas": null,
       "grid_template_columns": null,
       "grid_template_rows": null,
       "height": null,
       "justify_content": null,
       "justify_items": null,
       "left": null,
       "margin": null,
       "max_height": null,
       "max_width": null,
       "min_height": null,
       "min_width": null,
       "object_fit": null,
       "object_position": null,
       "order": null,
       "overflow": null,
       "padding": null,
       "right": null,
       "top": null,
       "visibility": null,
       "width": "34px"
      }
     },
     "556bae3ae3524c988a10ffca888da979": {
      "model_module": "@jupyter-widgets/base",
      "model_module_version": "2.0.0",
      "model_name": "LayoutModel",
      "state": {
       "_model_module": "@jupyter-widgets/base",
       "_model_module_version": "2.0.0",
       "_model_name": "LayoutModel",
       "_view_count": null,
       "_view_module": "@jupyter-widgets/base",
       "_view_module_version": "2.0.0",
       "_view_name": "LayoutView",
       "align_content": null,
       "align_items": null,
       "align_self": null,
       "border_bottom": null,
       "border_left": null,
       "border_right": null,
       "border_top": null,
       "bottom": null,
       "display": null,
       "flex": null,
       "flex_flow": null,
       "grid_area": null,
       "grid_auto_columns": null,
       "grid_auto_flow": null,
       "grid_auto_rows": null,
       "grid_column": null,
       "grid_gap": null,
       "grid_row": null,
       "grid_template_areas": null,
       "grid_template_columns": null,
       "grid_template_rows": null,
       "height": null,
       "justify_content": null,
       "justify_items": null,
       "left": null,
       "margin": null,
       "max_height": null,
       "max_width": null,
       "min_height": null,
       "min_width": null,
       "object_fit": null,
       "object_position": null,
       "order": null,
       "overflow": null,
       "padding": null,
       "right": null,
       "top": null,
       "visibility": null,
       "width": null
      }
     },
     "57cd5b4025a24811add0a4ff313b9d8f": {
      "model_module": "@jupyter-widgets/controls",
      "model_module_version": "2.0.0",
      "model_name": "LinkModel",
      "state": {
       "_model_module": "@jupyter-widgets/controls",
       "_model_module_version": "2.0.0",
       "_model_name": "LinkModel",
       "_view_count": null,
       "_view_module": "@jupyter-widgets/controls",
       "_view_module_version": "2.0.0",
       "_view_name": null,
       "source": [
        "IPY_MODEL_8a5cce8d7f1e425e81e25e634c344d90",
        "max"
       ],
       "target": [
        "IPY_MODEL_615f974fb35c47b688ab32a330f702a3",
        "max_frame"
       ]
      }
     },
     "59a2f24ad36a4d24a8849a81c603f6e1": {
      "model_module": "@jupyter-widgets/controls",
      "model_module_version": "2.0.0",
      "model_name": "LinkModel",
      "state": {
       "_model_module": "@jupyter-widgets/controls",
       "_model_module_version": "2.0.0",
       "_model_name": "LinkModel",
       "_view_count": null,
       "_view_module": "@jupyter-widgets/controls",
       "_view_module_version": "2.0.0",
       "_view_name": null,
       "source": [
        "IPY_MODEL_435d0fc545e34048a44f4f6804901649",
        "max"
       ],
       "target": [
        "IPY_MODEL_ea59a29635bc408cb8e8814e7c8a8f67",
        "max_frame"
       ]
      }
     },
     "5a90ac91bbee42fa99ee50dcc835ca43": {
      "buffers": [
       {
        "data": "",
        "encoding": "base64",
        "path": [
         "value"
        ]
       }
      ],
      "model_module": "@jupyter-widgets/controls",
      "model_module_version": "2.0.0",
      "model_name": "ImageModel",
      "state": {
       "_dom_classes": [],
       "_model_module": "@jupyter-widgets/controls",
       "_model_module_version": "2.0.0",
       "_model_name": "ImageModel",
       "_view_count": null,
       "_view_module": "@jupyter-widgets/controls",
       "_view_module_version": "2.0.0",
       "_view_name": "ImageView",
       "format": "png",
       "height": "",
       "layout": "IPY_MODEL_5dc6a950bff24fbf9d15aef9ec8c8edc",
       "tabbable": null,
       "tooltip": null,
       "width": "900.0"
      }
     },
     "5be6fe29285b41b7b68fd534513bdadf": {
      "model_module": "@jupyter-widgets/controls",
      "model_module_version": "2.0.0",
      "model_name": "ButtonModel",
      "state": {
       "_dom_classes": [],
       "_model_module": "@jupyter-widgets/controls",
       "_model_module_version": "2.0.0",
       "_model_name": "ButtonModel",
       "_view_count": null,
       "_view_module": "@jupyter-widgets/controls",
       "_view_module_version": "2.0.0",
       "_view_name": "ButtonView",
       "button_style": "",
       "description": "",
       "disabled": false,
       "icon": "compress",
       "layout": "IPY_MODEL_a513ca761d5d4fd6abf2a44b596d5ec1",
       "style": "IPY_MODEL_cd2f86b290b5437f9171bc632a2dd91e",
       "tabbable": null,
       "tooltip": null
      }
     },
     "5bf0545d445d46a7bd43139622210a51": {
      "model_module": "nglview-js-widgets",
      "model_module_version": "3.0.6",
      "model_name": "NGLModel",
      "state": {
       "_camera_orientation": [],
       "_camera_str": "orthographic",
       "_dom_classes": [],
       "_gui_theme": null,
       "_ibtn_fullscreen": "IPY_MODEL_5be6fe29285b41b7b68fd534513bdadf",
       "_igui": null,
       "_iplayer": "IPY_MODEL_8610a1ebac9649ce8c08d722baa1f30e",
       "_model_module": "nglview-js-widgets",
       "_model_module_version": "3.0.6",
       "_model_name": "NGLModel",
       "_ngl_color_dict": {},
       "_ngl_coordinate_resource": {},
       "_ngl_full_stage_parameters": {},
       "_ngl_msg_archive": [
        {
         "args": [
          {
           "binary": false,
           "data": "HETATM    1  C1  UNL     1       5.328   1.847  -0.340  1.00  0.00           C  \nHETATM    2  C2  UNL     1       4.736   0.523   0.192  1.00  0.00           C  \nHETATM    3  C3  UNL     1       5.242   0.245   1.623  1.00  0.00           C  \nHETATM    4  C4  UNL     1       5.375  -0.577  -0.686  1.00  0.00           C  \nHETATM    5  C5  UNL     1       3.178   0.596   0.188  1.00  0.00           C  \nHETATM    6  C6  UNL     1       2.520   1.603   0.940  1.00  0.00           C  \nHETATM    7  O1  UNL     1       3.138   2.538   1.713  1.00  0.00           O  \nHETATM    8  C7  UNL     1       1.134   1.726   0.975  1.00  0.00           C  \nHETATM    9  O2  UNL     1       0.545   2.698   1.760  1.00  0.00           O  \nHETATM   10  C8  UNL     1       0.340   0.852   0.244  1.00  0.00           C  \nHETATM   11  C9  UNL     1       0.915  -0.169  -0.508  1.00  0.00           C  \nHETATM   12  C10 UNL     1       2.321  -0.299  -0.521  1.00  0.00           C  \nHETATM   13  O3  UNL     1       2.776  -1.356  -1.251  1.00  0.00           O  \nHETATM   14  C11 UNL     1       0.043  -1.085  -1.360  1.00  0.00           C  \nHETATM   15  O4  UNL     1       0.387  -2.465  -1.102  1.00  0.00           O  \nHETATM   16  C12 UNL     1      -0.363  -3.082  -0.050  1.00  0.00           C  \nHETATM   17  C13 UNL     1      -1.838  -3.208  -0.458  1.00  0.00           C  \nHETATM   18  C14 UNL     1      -2.256  -2.137  -1.481  1.00  0.00           C  \nHETATM   19  C15 UNL     1      -1.486  -0.815  -1.279  1.00  0.00           C  \nHETATM   20  C16 UNL     1      -1.901  -0.118   0.033  1.00  0.00           C  \nHETATM   21  C17 UNL     1      -3.334   0.380  -0.003  1.00  0.00           C  \nHETATM   22  C18 UNL     1      -4.267  -0.091   0.935  1.00  0.00           C  \nHETATM   23  C19 UNL     1      -5.592   0.356   0.923  1.00  0.00           C  \nHETATM   24  O5  UNL     1      -6.468  -0.130   1.858  1.00  0.00           O  \nHETATM   25  C20 UNL     1      -6.005   1.294  -0.040  1.00  0.00           C  \nHETATM   26  O6  UNL     1      -7.300   1.754  -0.081  1.00  0.00           O  \nHETATM   27  C21 UNL     1      -5.083   1.773  -0.979  1.00  0.00           C  \nHETATM   28  F1  UNL     1      -5.465   2.677  -1.912  1.00  0.00           F  \nHETATM   29  C22 UNL     1      -3.762   1.321  -0.956  1.00  0.00           C  \nHETATM   30  N1  UNL     1      -1.035   1.033   0.273  1.00  0.00           N  \nHETATM   31  H1  UNL     1       5.149   2.681   0.345  1.00  0.00           H  \nHETATM   32  H2  UNL     1       4.883   2.096  -1.308  1.00  0.00           H  \nHETATM   33  H3  UNL     1       6.411   1.766  -0.470  1.00  0.00           H  \nHETATM   34  H4  UNL     1       6.325   0.090   1.628  1.00  0.00           H  \nHETATM   35  H5  UNL     1       5.030   1.078   2.300  1.00  0.00           H  \nHETATM   36  H6  UNL     1       4.764  -0.653   2.025  1.00  0.00           H  \nHETATM   37  H7  UNL     1       6.467  -0.528  -0.640  1.00  0.00           H  \nHETATM   38  H8  UNL     1       5.079  -1.572  -0.340  1.00  0.00           H  \nHETATM   39  H9  UNL     1       5.082  -0.456  -1.733  1.00  0.00           H  \nHETATM   40  H10 UNL     1       2.408   3.056   2.090  1.00  0.00           H  \nHETATM   41  H11 UNL     1      -0.398   2.481   1.846  1.00  0.00           H  \nHETATM   42  H12 UNL     1       2.026  -1.965  -1.355  1.00  0.00           H  \nHETATM   43  H13 UNL     1       0.321  -0.893  -2.401  1.00  0.00           H  \nHETATM   44  H14 UNL     1      -0.271  -2.490   0.865  1.00  0.00           H  \nHETATM   45  H15 UNL     1       0.045  -4.074   0.165  1.00  0.00           H  \nHETATM   46  H16 UNL     1      -2.461  -3.133   0.438  1.00  0.00           H  \nHETATM   47  H17 UNL     1      -2.012  -4.196  -0.894  1.00  0.00           H  \nHETATM   48  H18 UNL     1      -2.034  -2.510  -2.485  1.00  0.00           H  \nHETATM   49  H19 UNL     1      -3.336  -1.974  -1.431  1.00  0.00           H  \nHETATM   50  H20 UNL     1      -1.734  -0.145  -2.108  1.00  0.00           H  \nHETATM   51  H21 UNL     1      -1.785  -0.811   0.871  1.00  0.00           H  \nHETATM   52  H22 UNL     1      -3.954  -0.813   1.683  1.00  0.00           H  \nHETATM   53  H23 UNL     1      -6.015  -0.731   2.474  1.00  0.00           H  \nHETATM   54  H24 UNL     1      -7.392   2.389  -0.810  1.00  0.00           H  \nHETATM   55  H25 UNL     1      -3.072   1.711  -1.698  1.00  0.00           H  \nHETATM   56  H26 UNL     1      -1.362   1.925  -0.098  1.00  0.00           H  \nCONECT    1    2   31   32   33\nCONECT    2    3    4    5\nCONECT    3   34   35   36\nCONECT    4   37   38   39\nCONECT    5    6    6   12\nCONECT    6    7    8\nCONECT    7   40\nCONECT    8    9   10   10\nCONECT    9   41\nCONECT   10   11   30\nCONECT   11   12   12   14\nCONECT   12   13\nCONECT   13   42\nCONECT   14   15   19   43\nCONECT   15   16\nCONECT   16   17   44   45\nCONECT   17   18   46   47\nCONECT   18   19   48   49\nCONECT   19   20   50\nCONECT   20   21   30   51\nCONECT   21   22   22   29\nCONECT   22   23   52\nCONECT   23   24   25   25\nCONECT   24   53\nCONECT   25   26   27\nCONECT   26   54\nCONECT   27   28   29   29\nCONECT   29   55\nCONECT   30   56\n",
           "type": "blob"
          }
         ],
         "kwargs": {
          "defaultRepresentation": true,
          "ext": "pdb",
          "name": "<openff.toolkit.utils.viz._OFFTrajectoryNGLView object at 0x7fab2d0f9ba0>"
         },
         "methodName": "loadFile",
         "reconstruc_color_scheme": false,
         "target": "Stage",
         "type": "call_method"
        },
        {
         "args": [
          "label"
         ],
         "component_index": 0,
         "kwargs": {
          "attachment": "middle-center",
          "color": "black",
          "labelType": "atomindex",
          "sele": "all"
         },
         "methodName": "addRepresentation",
         "reconstruc_color_scheme": false,
         "target": "compList",
         "type": "call_method"
        }
       ],
       "_ngl_original_stage_parameters": {},
       "_ngl_repr_dict": {},
       "_ngl_serialize": false,
       "_ngl_version": "",
       "_ngl_view_id": [],
       "_player_dict": {},
       "_scene_position": {},
       "_scene_rotation": {},
       "_synced_model_ids": [],
       "_synced_repr_model_ids": [],
       "_view_count": null,
       "_view_height": "",
       "_view_module": "nglview-js-widgets",
       "_view_module_version": "3.0.6",
       "_view_name": "NGLView",
       "_view_width": "",
       "background": "white",
       "frame": 0,
       "gui_style": null,
       "layout": "IPY_MODEL_8c19d7e42eb84e5385c34fdce9b91872",
       "max_frame": 0,
       "n_components": 0,
       "picked": {},
       "tabbable": null,
       "tooltip": null
      }
     },
     "5c6feb3e1dbb44d58d838da9b8215d0a": {
      "model_module": "@jupyter-widgets/base",
      "model_module_version": "2.0.0",
      "model_name": "LayoutModel",
      "state": {
       "_model_module": "@jupyter-widgets/base",
       "_model_module_version": "2.0.0",
       "_model_name": "LayoutModel",
       "_view_count": null,
       "_view_module": "@jupyter-widgets/base",
       "_view_module_version": "2.0.0",
       "_view_name": "LayoutView",
       "align_content": null,
       "align_items": null,
       "align_self": null,
       "border_bottom": null,
       "border_left": null,
       "border_right": null,
       "border_top": null,
       "bottom": null,
       "display": null,
       "flex": null,
       "flex_flow": null,
       "grid_area": null,
       "grid_auto_columns": null,
       "grid_auto_flow": null,
       "grid_auto_rows": null,
       "grid_column": null,
       "grid_gap": null,
       "grid_row": null,
       "grid_template_areas": null,
       "grid_template_columns": null,
       "grid_template_rows": null,
       "height": null,
       "justify_content": null,
       "justify_items": null,
       "left": null,
       "margin": null,
       "max_height": null,
       "max_width": null,
       "min_height": null,
       "min_width": null,
       "object_fit": null,
       "object_position": null,
       "order": null,
       "overflow": null,
       "padding": null,
       "right": null,
       "top": null,
       "visibility": null,
       "width": null
      }
     },
     "5d084a057b914a76ba9646f52051298f": {
      "model_module": "@jupyter-widgets/controls",
      "model_module_version": "2.0.0",
      "model_name": "SliderStyleModel",
      "state": {
       "_model_module": "@jupyter-widgets/controls",
       "_model_module_version": "2.0.0",
       "_model_name": "SliderStyleModel",
       "_view_count": null,
       "_view_module": "@jupyter-widgets/base",
       "_view_module_version": "2.0.0",
       "_view_name": "StyleView",
       "description_width": "",
       "handle_color": null
      }
     },
     "5d9b6da99d674ef8b67bca65ed7f5e90": {
      "model_module": "@jupyter-widgets/controls",
      "model_module_version": "2.0.0",
      "model_name": "LinkModel",
      "state": {
       "_model_module": "@jupyter-widgets/controls",
       "_model_module_version": "2.0.0",
       "_model_name": "LinkModel",
       "_view_count": null,
       "_view_module": "@jupyter-widgets/controls",
       "_view_module_version": "2.0.0",
       "_view_name": null,
       "source": [
        "IPY_MODEL_c169e1592432484ebf926a52d7c15709",
        "value"
       ],
       "target": [
        "IPY_MODEL_5bf0545d445d46a7bd43139622210a51",
        "frame"
       ]
      }
     },
     "5db895b3e96d4745900a94a4c0569a07": {
      "model_module": "@jupyter-widgets/controls",
      "model_module_version": "2.0.0",
      "model_name": "LinkModel",
      "state": {
       "_model_module": "@jupyter-widgets/controls",
       "_model_module_version": "2.0.0",
       "_model_name": "LinkModel",
       "_view_count": null,
       "_view_module": "@jupyter-widgets/controls",
       "_view_module_version": "2.0.0",
       "_view_name": null,
       "source": [
        "IPY_MODEL_fe75e3eef03143118cbf77bbac4623bb",
        "value"
       ],
       "target": [
        "IPY_MODEL_aef589a041994ce1a68eb1afeeea2def",
        "frame"
       ]
      }
     },
     "5dc6a950bff24fbf9d15aef9ec8c8edc": {
      "model_module": "@jupyter-widgets/base",
      "model_module_version": "2.0.0",
      "model_name": "LayoutModel",
      "state": {
       "_model_module": "@jupyter-widgets/base",
       "_model_module_version": "2.0.0",
       "_model_name": "LayoutModel",
       "_view_count": null,
       "_view_module": "@jupyter-widgets/base",
       "_view_module_version": "2.0.0",
       "_view_name": "LayoutView",
       "align_content": null,
       "align_items": null,
       "align_self": null,
       "border_bottom": null,
       "border_left": null,
       "border_right": null,
       "border_top": null,
       "bottom": null,
       "display": null,
       "flex": null,
       "flex_flow": null,
       "grid_area": null,
       "grid_auto_columns": null,
       "grid_auto_flow": null,
       "grid_auto_rows": null,
       "grid_column": null,
       "grid_gap": null,
       "grid_row": null,
       "grid_template_areas": null,
       "grid_template_columns": null,
       "grid_template_rows": null,
       "height": null,
       "justify_content": null,
       "justify_items": null,
       "left": null,
       "margin": null,
       "max_height": null,
       "max_width": null,
       "min_height": null,
       "min_width": null,
       "object_fit": null,
       "object_position": null,
       "order": null,
       "overflow": null,
       "padding": null,
       "right": null,
       "top": null,
       "visibility": null,
       "width": null
      }
     },
     "5dc9112b90be4990a0ad4d7a5988da0f": {
      "model_module": "@jupyter-widgets/controls",
      "model_module_version": "2.0.0",
      "model_name": "LinkModel",
      "state": {
       "_model_module": "@jupyter-widgets/controls",
       "_model_module_version": "2.0.0",
       "_model_name": "LinkModel",
       "_view_count": null,
       "_view_module": "@jupyter-widgets/controls",
       "_view_module_version": "2.0.0",
       "_view_name": null,
       "source": [
        "IPY_MODEL_fe75e3eef03143118cbf77bbac4623bb",
        "value"
       ],
       "target": [
        "IPY_MODEL_c3064065ac374331ba49781a22564fee",
        "value"
       ]
      }
     },
     "5dc9aff182054a75bf9c6875d7aeb06b": {
      "model_module": "@jupyter-widgets/base",
      "model_module_version": "2.0.0",
      "model_name": "LayoutModel",
      "state": {
       "_model_module": "@jupyter-widgets/base",
       "_model_module_version": "2.0.0",
       "_model_name": "LayoutModel",
       "_view_count": null,
       "_view_module": "@jupyter-widgets/base",
       "_view_module_version": "2.0.0",
       "_view_name": "LayoutView",
       "align_content": null,
       "align_items": null,
       "align_self": null,
       "border_bottom": null,
       "border_left": null,
       "border_right": null,
       "border_top": null,
       "bottom": null,
       "display": null,
       "flex": null,
       "flex_flow": null,
       "grid_area": null,
       "grid_auto_columns": null,
       "grid_auto_flow": null,
       "grid_auto_rows": null,
       "grid_column": null,
       "grid_gap": null,
       "grid_row": null,
       "grid_template_areas": null,
       "grid_template_columns": null,
       "grid_template_rows": null,
       "height": null,
       "justify_content": null,
       "justify_items": null,
       "left": null,
       "margin": null,
       "max_height": null,
       "max_width": null,
       "min_height": null,
       "min_width": null,
       "object_fit": null,
       "object_position": null,
       "order": null,
       "overflow": null,
       "padding": null,
       "right": null,
       "top": null,
       "visibility": null,
       "width": "34px"
      }
     },
     "615f974fb35c47b688ab32a330f702a3": {
      "model_module": "nglview-js-widgets",
      "model_module_version": "3.0.6",
      "model_name": "NGLModel",
      "state": {
       "_camera_orientation": [],
       "_camera_str": "orthographic",
       "_dom_classes": [],
       "_gui_theme": null,
       "_ibtn_fullscreen": "IPY_MODEL_19caa587825e4f2b806eecc8d88fabdc",
       "_igui": null,
       "_iplayer": "IPY_MODEL_6514db5c367e4468bee571e22c1ff286",
       "_model_module": "nglview-js-widgets",
       "_model_module_version": "3.0.6",
       "_model_name": "NGLModel",
       "_ngl_color_dict": {},
       "_ngl_coordinate_resource": {},
       "_ngl_full_stage_parameters": {},
       "_ngl_msg_archive": [
        {
         "args": [
          {
           "binary": false,
           "data": "HETATM    1  C1  UNL     1       5.215   2.229   0.411  1.00  0.00           C  \nHETATM    2  C2  UNL     1       4.476   1.044  -0.234  1.00  0.00           C  \nHETATM    3  C3  UNL     1       5.233  -0.229   0.187  1.00  0.00           C  \nHETATM    4  C4  UNL     1       4.573   1.258  -1.753  1.00  0.00           C  \nHETATM    5  C5  UNL     1       2.980   0.892   0.129  1.00  0.00           C  \nHETATM    6  C6  UNL     1       2.280   1.762   1.020  1.00  0.00           C  \nHETATM    7  O1  UNL     1       2.868   2.831   1.645  1.00  0.00           O  \nHETATM    8  C7  UNL     1       0.919   1.563   1.312  1.00  0.00           C  \nHETATM    9  O2  UNL     1       0.222   2.393   2.172  1.00  0.00           O  \nHETATM   10  C8  UNL     1       0.277   0.495   0.707  1.00  0.00           C  \nHETATM   11  C9  UNL     1       0.889  -0.381  -0.167  1.00  0.00           C  \nHETATM   12  C10 UNL     1       2.244  -0.183  -0.450  1.00  0.00           C  \nHETATM   13  O3  UNL     1       2.835  -1.076  -1.306  1.00  0.00           O  \nHETATM   14  C11 UNL     1       0.067  -1.525  -0.787  1.00  0.00           C  \nHETATM   15  O4  UNL     1       0.223  -2.739  -0.101  1.00  0.00           O  \nHETATM   16  C12 UNL     1      -0.178  -3.973   0.412  1.00  0.00           C  \nHETATM   17  C13 UNL     1      -1.659  -4.054   0.050  1.00  0.00           C  \nHETATM   18  C14 UNL     1      -2.228  -2.859  -0.787  1.00  0.00           C  \nHETATM   19  C15 UNL     1      -1.533  -1.442  -0.724  1.00  0.00           C  \nHETATM   20  C16 UNL     1      -2.103  -0.722   0.536  1.00  0.00           C  \nHETATM   21  C17 UNL     1      -3.376   0.045   0.242  1.00  0.00           C  \nHETATM   22  C18 UNL     1      -4.614  -0.438   0.690  1.00  0.00           C  \nHETATM   23  C19 UNL     1      -5.797   0.255   0.422  1.00  0.00           C  \nHETATM   24  O5  UNL     1      -6.983  -0.258   0.882  1.00  0.00           O  \nHETATM   25  C20 UNL     1      -5.757   1.455  -0.309  1.00  0.00           C  \nHETATM   26  O6  UNL     1      -6.905   2.158  -0.588  1.00  0.00           O  \nHETATM   27  C21 UNL     1      -4.527   1.946  -0.762  1.00  0.00           C  \nHETATM   28  F1  UNL     1      -4.164  10.471  -5.977  1.00  0.00           F  \nHETATM   29  C22 UNL     1      -3.350   1.244  -0.488  1.00  0.00           C  \nHETATM   30  N1  UNL     1      -1.024   0.162   0.878  1.00  0.00           N  \nHETATM   31  H1  UNL     1       6.227   2.180   0.823  1.00  0.00           H  \nHETATM   32  H2  UNL     1       6.012   2.802  -0.070  1.00  0.00           H  \nHETATM   33  H3  UNL     1       6.259   2.143   0.098  1.00  0.00           H  \nHETATM   34  H4  UNL     1       5.698  -0.377   1.166  1.00  0.00           H  \nHETATM   35  H5  UNL     1       4.981  -0.380   1.241  1.00  0.00           H  \nHETATM   36  H6  UNL     1       4.830  -0.988   0.864  1.00  0.00           H  \nHETATM   37  H7  UNL     1       5.468   1.599  -2.282  1.00  0.00           H  \nHETATM   38  H8  UNL     1       5.575   0.931  -2.045  1.00  0.00           H  \nHETATM   39  H9  UNL     1       5.071   0.569  -2.441  1.00  0.00           H  \nHETATM   40  H10 UNL     1       3.264   3.593   2.098  1.00  0.00           H  \nHETATM   41  H11 UNL     1      -0.240   2.994   2.780  1.00  0.00           H  \nHETATM   42  H12 UNL     1       3.232  -1.720  -1.914  1.00  0.00           H  \nHETATM   43  H13 UNL     1       0.369  -1.651  -1.830  1.00  0.00           H  \nHETATM   44  H14 UNL     1       0.235  -4.395   1.332  1.00  0.00           H  \nHETATM   45  H15 UNL     1       0.480  -4.845   0.468  1.00  0.00           H  \nHETATM   46  H16 UNL     1      -2.332  -4.588   0.727  1.00  0.00           H  \nHETATM   47  H17 UNL     1      -2.115  -5.041  -0.064  1.00  0.00           H  \nHETATM   48  H18 UNL     1      -2.740  -3.113  -1.719  1.00  0.00           H  \nHETATM   49  H19 UNL     1      -3.298  -2.877  -1.011  1.00  0.00           H  \nHETATM   50  H20 UNL     1      -1.834  -0.866  -1.604  1.00  0.00           H  \nHETATM   51  H21 UNL     1      -2.259  -1.437   1.350  1.00  0.00           H  \nHETATM   52  H22 UNL     1      -4.667  -1.364   1.254  1.00  0.00           H  \nHETATM   53  H23 UNL     1      -7.833  -0.605   1.198  1.00  0.00           H  \nHETATM   54  H24 UNL     1      -7.725   2.643  -0.777  1.00  0.00           H  \nHETATM   55  H25 UNL     1      -2.404   1.636  -0.849  1.00  0.00           H  \nHETATM   56  H26 UNL     1      -1.373   0.846   1.549  1.00  0.00           H  \nCONECT    1    2   31   32   33\nCONECT    2    3    4    5\nCONECT    3   34   35   36\nCONECT    4   37   38   39\nCONECT    5    6    6   12\nCONECT    6    7    8\nCONECT    7   40\nCONECT    8    9   10   10\nCONECT    9   41\nCONECT   10   11   30\nCONECT   11   12   12   14\nCONECT   12   13\nCONECT   13   42\nCONECT   14   15   19   43\nCONECT   15   16\nCONECT   16   17   44   45\nCONECT   17   18   46   47\nCONECT   18   19   48   49\nCONECT   19   20   50\nCONECT   20   21   30   51\nCONECT   21   22   22   29\nCONECT   22   23   52\nCONECT   23   24   25   25\nCONECT   24   53\nCONECT   25   26   27\nCONECT   26   54\nCONECT   27   28   29   29\nCONECT   29   55\nCONECT   30   56\n",
           "type": "blob"
          }
         ],
         "kwargs": {
          "defaultRepresentation": true,
          "ext": "pdb",
          "name": "<openff.toolkit.utils.viz._OFFTrajectoryNGLView object at 0x7fab28d45630>"
         },
         "methodName": "loadFile",
         "reconstruc_color_scheme": false,
         "target": "Stage",
         "type": "call_method"
        }
       ],
       "_ngl_original_stage_parameters": {},
       "_ngl_repr_dict": {},
       "_ngl_serialize": false,
       "_ngl_version": "",
       "_ngl_view_id": [],
       "_player_dict": {},
       "_scene_position": {},
       "_scene_rotation": {},
       "_synced_model_ids": [],
       "_synced_repr_model_ids": [],
       "_view_count": null,
       "_view_height": "",
       "_view_module": "nglview-js-widgets",
       "_view_module_version": "3.0.6",
       "_view_name": "NGLView",
       "_view_width": "",
       "background": "white",
       "frame": 0,
       "gui_style": null,
       "layout": "IPY_MODEL_94fa908b73ab4fb792758296d9580cea",
       "max_frame": 0,
       "n_components": 0,
       "picked": {},
       "tabbable": null,
       "tooltip": null
      }
     },
     "6514db5c367e4468bee571e22c1ff286": {
      "model_module": "@jupyter-widgets/controls",
      "model_module_version": "2.0.0",
      "model_name": "HBoxModel",
      "state": {
       "_dom_classes": [],
       "_model_module": "@jupyter-widgets/controls",
       "_model_module_version": "2.0.0",
       "_model_name": "HBoxModel",
       "_view_count": null,
       "_view_module": "@jupyter-widgets/controls",
       "_view_module_version": "2.0.0",
       "_view_name": "HBoxView",
       "box_style": "",
       "children": [
        "IPY_MODEL_02b76d7a36f846e2b4ed1c8f0fdaf103",
        "IPY_MODEL_8a5cce8d7f1e425e81e25e634c344d90"
       ],
       "layout": "IPY_MODEL_1c5ea6ed139c442f8a1d291b72500764",
       "tabbable": null,
       "tooltip": null
      }
     },
     "65cba7fef8bb46b792ba35621ab19203": {
      "model_module": "@jupyter-widgets/controls",
      "model_module_version": "2.0.0",
      "model_name": "ButtonStyleModel",
      "state": {
       "_model_module": "@jupyter-widgets/controls",
       "_model_module_version": "2.0.0",
       "_model_name": "ButtonStyleModel",
       "_view_count": null,
       "_view_module": "@jupyter-widgets/base",
       "_view_module_version": "2.0.0",
       "_view_name": "StyleView",
       "button_color": null,
       "font_family": null,
       "font_size": null,
       "font_style": null,
       "font_variant": null,
       "font_weight": null,
       "text_color": null,
       "text_decoration": null
      }
     },
     "6a88026e354f4b1da3b979e972ef483b": {
      "model_module": "@jupyter-widgets/controls",
      "model_module_version": "2.0.0",
      "model_name": "LinkModel",
      "state": {
       "_model_module": "@jupyter-widgets/controls",
       "_model_module_version": "2.0.0",
       "_model_name": "LinkModel",
       "_view_count": null,
       "_view_module": "@jupyter-widgets/controls",
       "_view_module_version": "2.0.0",
       "_view_name": null,
       "source": [
        "IPY_MODEL_c3064065ac374331ba49781a22564fee",
        "max"
       ],
       "target": [
        "IPY_MODEL_aef589a041994ce1a68eb1afeeea2def",
        "max_frame"
       ]
      }
     },
     "71a7d71a76d142bdb414cf047bc5550c": {
      "buffers": [
       {
        "data": "",
        "encoding": "base64",
        "path": [
         "value"
        ]
       }
      ],
      "model_module": "@jupyter-widgets/controls",
      "model_module_version": "2.0.0",
      "model_name": "ImageModel",
      "state": {
       "_dom_classes": [],
       "_model_module": "@jupyter-widgets/controls",
       "_model_module_version": "2.0.0",
       "_model_name": "ImageModel",
       "_view_count": null,
       "_view_module": "@jupyter-widgets/controls",
       "_view_module_version": "2.0.0",
       "_view_name": "ImageView",
       "format": "png",
       "height": "",
       "layout": "IPY_MODEL_f80868d0306f4d2582fb042477efdc35",
       "tabbable": null,
       "tooltip": null,
       "width": "900.0"
      }
     },
     "734f58072c9b4a4593f7432a819632d9": {
      "model_module": "@jupyter-widgets/controls",
      "model_module_version": "2.0.0",
      "model_name": "ButtonModel",
      "state": {
       "_dom_classes": [],
       "_model_module": "@jupyter-widgets/controls",
       "_model_module_version": "2.0.0",
       "_model_name": "ButtonModel",
       "_view_count": null,
       "_view_module": "@jupyter-widgets/controls",
       "_view_module_version": "2.0.0",
       "_view_name": "ButtonView",
       "button_style": "",
       "description": "",
       "disabled": false,
       "icon": "compress",
       "layout": "IPY_MODEL_7a24f93b03f54e599f43167524b020b1",
       "style": "IPY_MODEL_65cba7fef8bb46b792ba35621ab19203",
       "tabbable": null,
       "tooltip": null
      }
     },
     "798a8a7d0fd947609818ed5e89a9a33a": {
      "model_module": "@jupyter-widgets/base",
      "model_module_version": "2.0.0",
      "model_name": "LayoutModel",
      "state": {
       "_model_module": "@jupyter-widgets/base",
       "_model_module_version": "2.0.0",
       "_model_name": "LayoutModel",
       "_view_count": null,
       "_view_module": "@jupyter-widgets/base",
       "_view_module_version": "2.0.0",
       "_view_name": "LayoutView",
       "align_content": null,
       "align_items": null,
       "align_self": null,
       "border_bottom": null,
       "border_left": null,
       "border_right": null,
       "border_top": null,
       "bottom": null,
       "display": null,
       "flex": null,
       "flex_flow": null,
       "grid_area": null,
       "grid_auto_columns": null,
       "grid_auto_flow": null,
       "grid_auto_rows": null,
       "grid_column": null,
       "grid_gap": null,
       "grid_row": null,
       "grid_template_areas": null,
       "grid_template_columns": null,
       "grid_template_rows": null,
       "height": null,
       "justify_content": null,
       "justify_items": null,
       "left": null,
       "margin": null,
       "max_height": null,
       "max_width": null,
       "min_height": null,
       "min_width": null,
       "object_fit": null,
       "object_position": null,
       "order": null,
       "overflow": null,
       "padding": null,
       "right": null,
       "top": null,
       "visibility": null,
       "width": null
      }
     },
     "7a24f93b03f54e599f43167524b020b1": {
      "model_module": "@jupyter-widgets/base",
      "model_module_version": "2.0.0",
      "model_name": "LayoutModel",
      "state": {
       "_model_module": "@jupyter-widgets/base",
       "_model_module_version": "2.0.0",
       "_model_name": "LayoutModel",
       "_view_count": null,
       "_view_module": "@jupyter-widgets/base",
       "_view_module_version": "2.0.0",
       "_view_name": "LayoutView",
       "align_content": null,
       "align_items": null,
       "align_self": null,
       "border_bottom": null,
       "border_left": null,
       "border_right": null,
       "border_top": null,
       "bottom": null,
       "display": null,
       "flex": null,
       "flex_flow": null,
       "grid_area": null,
       "grid_auto_columns": null,
       "grid_auto_flow": null,
       "grid_auto_rows": null,
       "grid_column": null,
       "grid_gap": null,
       "grid_row": null,
       "grid_template_areas": null,
       "grid_template_columns": null,
       "grid_template_rows": null,
       "height": null,
       "justify_content": null,
       "justify_items": null,
       "left": null,
       "margin": null,
       "max_height": null,
       "max_width": null,
       "min_height": null,
       "min_width": null,
       "object_fit": null,
       "object_position": null,
       "order": null,
       "overflow": null,
       "padding": null,
       "right": null,
       "top": null,
       "visibility": null,
       "width": "34px"
      }
     },
     "7b75ab6c3b18473bbfa4e48cc7ea56f3": {
      "model_module": "@jupyter-widgets/controls",
      "model_module_version": "2.0.0",
      "model_name": "HBoxModel",
      "state": {
       "_dom_classes": [],
       "_model_module": "@jupyter-widgets/controls",
       "_model_module_version": "2.0.0",
       "_model_name": "HBoxModel",
       "_view_count": null,
       "_view_module": "@jupyter-widgets/controls",
       "_view_module_version": "2.0.0",
       "_view_name": "HBoxView",
       "box_style": "",
       "children": [
        "IPY_MODEL_fe75e3eef03143118cbf77bbac4623bb",
        "IPY_MODEL_c3064065ac374331ba49781a22564fee"
       ],
       "layout": "IPY_MODEL_f3f9757b8e554e9db92e84ba49b45193",
       "tabbable": null,
       "tooltip": null
      }
     },
     "7cf5d39da7ee45b0a757c3ca12de6150": {
      "model_module": "@jupyter-widgets/controls",
      "model_module_version": "2.0.0",
      "model_name": "SliderStyleModel",
      "state": {
       "_model_module": "@jupyter-widgets/controls",
       "_model_module_version": "2.0.0",
       "_model_name": "SliderStyleModel",
       "_view_count": null,
       "_view_module": "@jupyter-widgets/base",
       "_view_module_version": "2.0.0",
       "_view_name": "StyleView",
       "description_width": "",
       "handle_color": null
      }
     },
     "7df51e85539c4e8e8c03b7af419be54d": {
      "model_module": "@jupyter-widgets/base",
      "model_module_version": "2.0.0",
      "model_name": "LayoutModel",
      "state": {
       "_model_module": "@jupyter-widgets/base",
       "_model_module_version": "2.0.0",
       "_model_name": "LayoutModel",
       "_view_count": null,
       "_view_module": "@jupyter-widgets/base",
       "_view_module_version": "2.0.0",
       "_view_name": "LayoutView",
       "align_content": null,
       "align_items": null,
       "align_self": null,
       "border_bottom": null,
       "border_left": null,
       "border_right": null,
       "border_top": null,
       "bottom": null,
       "display": null,
       "flex": null,
       "flex_flow": null,
       "grid_area": null,
       "grid_auto_columns": null,
       "grid_auto_flow": null,
       "grid_auto_rows": null,
       "grid_column": null,
       "grid_gap": null,
       "grid_row": null,
       "grid_template_areas": null,
       "grid_template_columns": null,
       "grid_template_rows": null,
       "height": null,
       "justify_content": null,
       "justify_items": null,
       "left": null,
       "margin": null,
       "max_height": null,
       "max_width": null,
       "min_height": null,
       "min_width": null,
       "object_fit": null,
       "object_position": null,
       "order": null,
       "overflow": null,
       "padding": null,
       "right": null,
       "top": null,
       "visibility": null,
       "width": null
      }
     },
     "7f8cf86834284e33bf7b56c0666ad37a": {
      "model_module": "@jupyter-widgets/base",
      "model_module_version": "2.0.0",
      "model_name": "LayoutModel",
      "state": {
       "_model_module": "@jupyter-widgets/base",
       "_model_module_version": "2.0.0",
       "_model_name": "LayoutModel",
       "_view_count": null,
       "_view_module": "@jupyter-widgets/base",
       "_view_module_version": "2.0.0",
       "_view_name": "LayoutView",
       "align_content": null,
       "align_items": null,
       "align_self": null,
       "border_bottom": null,
       "border_left": null,
       "border_right": null,
       "border_top": null,
       "bottom": null,
       "display": null,
       "flex": null,
       "flex_flow": null,
       "grid_area": null,
       "grid_auto_columns": null,
       "grid_auto_flow": null,
       "grid_auto_rows": null,
       "grid_column": null,
       "grid_gap": null,
       "grid_row": null,
       "grid_template_areas": null,
       "grid_template_columns": null,
       "grid_template_rows": null,
       "height": null,
       "justify_content": null,
       "justify_items": null,
       "left": null,
       "margin": null,
       "max_height": null,
       "max_width": null,
       "min_height": null,
       "min_width": null,
       "object_fit": null,
       "object_position": null,
       "order": null,
       "overflow": null,
       "padding": null,
       "right": null,
       "top": null,
       "visibility": null,
       "width": null
      }
     },
     "8509a8ae66f74fcfa82fc9080cb1ac71": {
      "model_module": "@jupyter-widgets/base",
      "model_module_version": "2.0.0",
      "model_name": "LayoutModel",
      "state": {
       "_model_module": "@jupyter-widgets/base",
       "_model_module_version": "2.0.0",
       "_model_name": "LayoutModel",
       "_view_count": null,
       "_view_module": "@jupyter-widgets/base",
       "_view_module_version": "2.0.0",
       "_view_name": "LayoutView",
       "align_content": null,
       "align_items": null,
       "align_self": null,
       "border_bottom": null,
       "border_left": null,
       "border_right": null,
       "border_top": null,
       "bottom": null,
       "display": null,
       "flex": null,
       "flex_flow": null,
       "grid_area": null,
       "grid_auto_columns": null,
       "grid_auto_flow": null,
       "grid_auto_rows": null,
       "grid_column": null,
       "grid_gap": null,
       "grid_row": null,
       "grid_template_areas": null,
       "grid_template_columns": null,
       "grid_template_rows": null,
       "height": null,
       "justify_content": null,
       "justify_items": null,
       "left": null,
       "margin": null,
       "max_height": null,
       "max_width": null,
       "min_height": null,
       "min_width": null,
       "object_fit": null,
       "object_position": null,
       "order": null,
       "overflow": null,
       "padding": null,
       "right": null,
       "top": null,
       "visibility": null,
       "width": null
      }
     },
     "8610a1ebac9649ce8c08d722baa1f30e": {
      "model_module": "@jupyter-widgets/controls",
      "model_module_version": "2.0.0",
      "model_name": "HBoxModel",
      "state": {
       "_dom_classes": [],
       "_model_module": "@jupyter-widgets/controls",
       "_model_module_version": "2.0.0",
       "_model_name": "HBoxModel",
       "_view_count": null,
       "_view_module": "@jupyter-widgets/controls",
       "_view_module_version": "2.0.0",
       "_view_name": "HBoxView",
       "box_style": "",
       "children": [
        "IPY_MODEL_c169e1592432484ebf926a52d7c15709",
        "IPY_MODEL_e6cc71c72dd148539e343340009f6e66"
       ],
       "layout": "IPY_MODEL_c688e8dd8d2b486b9e9149392815d470",
       "tabbable": null,
       "tooltip": null
      }
     },
     "875ba8e1b643468e8c9bbcd66495fb66": {
      "model_module": "@jupyter-widgets/controls",
      "model_module_version": "2.0.0",
      "model_name": "SliderStyleModel",
      "state": {
       "_model_module": "@jupyter-widgets/controls",
       "_model_module_version": "2.0.0",
       "_model_name": "SliderStyleModel",
       "_view_count": null,
       "_view_module": "@jupyter-widgets/base",
       "_view_module_version": "2.0.0",
       "_view_name": "StyleView",
       "description_width": "",
       "handle_color": null
      }
     },
     "8a5cce8d7f1e425e81e25e634c344d90": {
      "model_module": "@jupyter-widgets/controls",
      "model_module_version": "2.0.0",
      "model_name": "IntSliderModel",
      "state": {
       "_dom_classes": [],
       "_model_module": "@jupyter-widgets/controls",
       "_model_module_version": "2.0.0",
       "_model_name": "IntSliderModel",
       "_view_count": null,
       "_view_module": "@jupyter-widgets/controls",
       "_view_module_version": "2.0.0",
       "_view_name": "IntSliderView",
       "behavior": "drag-tap",
       "continuous_update": true,
       "description": "",
       "description_allow_html": false,
       "disabled": false,
       "layout": "IPY_MODEL_8dc3f6e8c9234f75a551c17ea15fa1cc",
       "max": 0,
       "min": 0,
       "orientation": "horizontal",
       "readout": true,
       "readout_format": "d",
       "step": 1,
       "style": "IPY_MODEL_7cf5d39da7ee45b0a757c3ca12de6150",
       "tabbable": null,
       "tooltip": null,
       "value": 0
      }
     },
     "8c19d7e42eb84e5385c34fdce9b91872": {
      "model_module": "@jupyter-widgets/base",
      "model_module_version": "2.0.0",
      "model_name": "LayoutModel",
      "state": {
       "_model_module": "@jupyter-widgets/base",
       "_model_module_version": "2.0.0",
       "_model_name": "LayoutModel",
       "_view_count": null,
       "_view_module": "@jupyter-widgets/base",
       "_view_module_version": "2.0.0",
       "_view_name": "LayoutView",
       "align_content": null,
       "align_items": null,
       "align_self": null,
       "border_bottom": null,
       "border_left": null,
       "border_right": null,
       "border_top": null,
       "bottom": null,
       "display": null,
       "flex": null,
       "flex_flow": null,
       "grid_area": null,
       "grid_auto_columns": null,
       "grid_auto_flow": null,
       "grid_auto_rows": null,
       "grid_column": null,
       "grid_gap": null,
       "grid_row": null,
       "grid_template_areas": null,
       "grid_template_columns": null,
       "grid_template_rows": null,
       "height": null,
       "justify_content": null,
       "justify_items": null,
       "left": null,
       "margin": null,
       "max_height": null,
       "max_width": null,
       "min_height": null,
       "min_width": null,
       "object_fit": null,
       "object_position": null,
       "order": null,
       "overflow": null,
       "padding": null,
       "right": null,
       "top": null,
       "visibility": null,
       "width": null
      }
     },
     "8dc3f6e8c9234f75a551c17ea15fa1cc": {
      "model_module": "@jupyter-widgets/base",
      "model_module_version": "2.0.0",
      "model_name": "LayoutModel",
      "state": {
       "_model_module": "@jupyter-widgets/base",
       "_model_module_version": "2.0.0",
       "_model_name": "LayoutModel",
       "_view_count": null,
       "_view_module": "@jupyter-widgets/base",
       "_view_module_version": "2.0.0",
       "_view_name": "LayoutView",
       "align_content": null,
       "align_items": null,
       "align_self": null,
       "border_bottom": null,
       "border_left": null,
       "border_right": null,
       "border_top": null,
       "bottom": null,
       "display": null,
       "flex": null,
       "flex_flow": null,
       "grid_area": null,
       "grid_auto_columns": null,
       "grid_auto_flow": null,
       "grid_auto_rows": null,
       "grid_column": null,
       "grid_gap": null,
       "grid_row": null,
       "grid_template_areas": null,
       "grid_template_columns": null,
       "grid_template_rows": null,
       "height": null,
       "justify_content": null,
       "justify_items": null,
       "left": null,
       "margin": null,
       "max_height": null,
       "max_width": null,
       "min_height": null,
       "min_width": null,
       "object_fit": null,
       "object_position": null,
       "order": null,
       "overflow": null,
       "padding": null,
       "right": null,
       "top": null,
       "visibility": null,
       "width": null
      }
     },
     "8f330cfa1f01442e9aaa8b09eb49f9be": {
      "model_module": "@jupyter-widgets/controls",
      "model_module_version": "2.0.0",
      "model_name": "LinkModel",
      "state": {
       "_model_module": "@jupyter-widgets/controls",
       "_model_module_version": "2.0.0",
       "_model_name": "LinkModel",
       "_view_count": null,
       "_view_module": "@jupyter-widgets/controls",
       "_view_module_version": "2.0.0",
       "_view_name": null,
       "source": [
        "IPY_MODEL_435d0fc545e34048a44f4f6804901649",
        "value"
       ],
       "target": [
        "IPY_MODEL_3af9d0bb308f4537a9a773c316f71700",
        "value"
       ]
      }
     },
     "8f53c200a82342ea9fd1b91547334b39": {
      "model_module": "@jupyter-widgets/controls",
      "model_module_version": "2.0.0",
      "model_name": "LinkModel",
      "state": {
       "_model_module": "@jupyter-widgets/controls",
       "_model_module_version": "2.0.0",
       "_model_name": "LinkModel",
       "_view_count": null,
       "_view_module": "@jupyter-widgets/controls",
       "_view_module_version": "2.0.0",
       "_view_name": null,
       "source": [
        "IPY_MODEL_ab8988f7a6ec408a9e54eb79cf3eb43e",
        "value"
       ],
       "target": [
        "IPY_MODEL_3ffd1c8a1d1b4bee98396d60da61acbc",
        "value"
       ]
      }
     },
     "93be347ef6f44349b5d27bca77eb5107": {
      "model_module": "@jupyter-widgets/controls",
      "model_module_version": "2.0.0",
      "model_name": "DescriptionStyleModel",
      "state": {
       "_model_module": "@jupyter-widgets/controls",
       "_model_module_version": "2.0.0",
       "_model_name": "DescriptionStyleModel",
       "_view_count": null,
       "_view_module": "@jupyter-widgets/base",
       "_view_module_version": "2.0.0",
       "_view_name": "StyleView",
       "description_width": ""
      }
     },
     "94fa908b73ab4fb792758296d9580cea": {
      "model_module": "@jupyter-widgets/base",
      "model_module_version": "2.0.0",
      "model_name": "LayoutModel",
      "state": {
       "_model_module": "@jupyter-widgets/base",
       "_model_module_version": "2.0.0",
       "_model_name": "LayoutModel",
       "_view_count": null,
       "_view_module": "@jupyter-widgets/base",
       "_view_module_version": "2.0.0",
       "_view_name": "LayoutView",
       "align_content": null,
       "align_items": null,
       "align_self": null,
       "border_bottom": null,
       "border_left": null,
       "border_right": null,
       "border_top": null,
       "bottom": null,
       "display": null,
       "flex": null,
       "flex_flow": null,
       "grid_area": null,
       "grid_auto_columns": null,
       "grid_auto_flow": null,
       "grid_auto_rows": null,
       "grid_column": null,
       "grid_gap": null,
       "grid_row": null,
       "grid_template_areas": null,
       "grid_template_columns": null,
       "grid_template_rows": null,
       "height": null,
       "justify_content": null,
       "justify_items": null,
       "left": null,
       "margin": null,
       "max_height": null,
       "max_width": null,
       "min_height": null,
       "min_width": null,
       "object_fit": null,
       "object_position": null,
       "order": null,
       "overflow": null,
       "padding": null,
       "right": null,
       "top": null,
       "visibility": null,
       "width": null
      }
     },
     "98f66a8e88b44ca986c956063df88416": {
      "model_module": "@jupyter-widgets/controls",
      "model_module_version": "2.0.0",
      "model_name": "DescriptionStyleModel",
      "state": {
       "_model_module": "@jupyter-widgets/controls",
       "_model_module_version": "2.0.0",
       "_model_name": "DescriptionStyleModel",
       "_view_count": null,
       "_view_module": "@jupyter-widgets/base",
       "_view_module_version": "2.0.0",
       "_view_name": "StyleView",
       "description_width": ""
      }
     },
     "9ddda1284c344a4f98555f329f41054d": {
      "model_module": "@jupyter-widgets/base",
      "model_module_version": "2.0.0",
      "model_name": "LayoutModel",
      "state": {
       "_model_module": "@jupyter-widgets/base",
       "_model_module_version": "2.0.0",
       "_model_name": "LayoutModel",
       "_view_count": null,
       "_view_module": "@jupyter-widgets/base",
       "_view_module_version": "2.0.0",
       "_view_name": "LayoutView",
       "align_content": null,
       "align_items": null,
       "align_self": null,
       "border_bottom": null,
       "border_left": null,
       "border_right": null,
       "border_top": null,
       "bottom": null,
       "display": null,
       "flex": null,
       "flex_flow": null,
       "grid_area": null,
       "grid_auto_columns": null,
       "grid_auto_flow": null,
       "grid_auto_rows": null,
       "grid_column": null,
       "grid_gap": null,
       "grid_row": null,
       "grid_template_areas": null,
       "grid_template_columns": null,
       "grid_template_rows": null,
       "height": null,
       "justify_content": null,
       "justify_items": null,
       "left": null,
       "margin": null,
       "max_height": null,
       "max_width": null,
       "min_height": null,
       "min_width": null,
       "object_fit": null,
       "object_position": null,
       "order": null,
       "overflow": null,
       "padding": null,
       "right": null,
       "top": null,
       "visibility": null,
       "width": null
      }
     },
     "a513ca761d5d4fd6abf2a44b596d5ec1": {
      "model_module": "@jupyter-widgets/base",
      "model_module_version": "2.0.0",
      "model_name": "LayoutModel",
      "state": {
       "_model_module": "@jupyter-widgets/base",
       "_model_module_version": "2.0.0",
       "_model_name": "LayoutModel",
       "_view_count": null,
       "_view_module": "@jupyter-widgets/base",
       "_view_module_version": "2.0.0",
       "_view_name": "LayoutView",
       "align_content": null,
       "align_items": null,
       "align_self": null,
       "border_bottom": null,
       "border_left": null,
       "border_right": null,
       "border_top": null,
       "bottom": null,
       "display": null,
       "flex": null,
       "flex_flow": null,
       "grid_area": null,
       "grid_auto_columns": null,
       "grid_auto_flow": null,
       "grid_auto_rows": null,
       "grid_column": null,
       "grid_gap": null,
       "grid_row": null,
       "grid_template_areas": null,
       "grid_template_columns": null,
       "grid_template_rows": null,
       "height": null,
       "justify_content": null,
       "justify_items": null,
       "left": null,
       "margin": null,
       "max_height": null,
       "max_width": null,
       "min_height": null,
       "min_width": null,
       "object_fit": null,
       "object_position": null,
       "order": null,
       "overflow": null,
       "padding": null,
       "right": null,
       "top": null,
       "visibility": null,
       "width": "34px"
      }
     },
     "a6a5a0d77ec84eb38a01cf4710a81da3": {
      "model_module": "@jupyter-widgets/controls",
      "model_module_version": "2.0.0",
      "model_name": "DescriptionStyleModel",
      "state": {
       "_model_module": "@jupyter-widgets/controls",
       "_model_module_version": "2.0.0",
       "_model_name": "DescriptionStyleModel",
       "_view_count": null,
       "_view_module": "@jupyter-widgets/base",
       "_view_module_version": "2.0.0",
       "_view_name": "StyleView",
       "description_width": ""
      }
     },
     "ab8988f7a6ec408a9e54eb79cf3eb43e": {
      "model_module": "@jupyter-widgets/controls",
      "model_module_version": "2.0.0",
      "model_name": "PlayModel",
      "state": {
       "_dom_classes": [],
       "_model_module": "@jupyter-widgets/controls",
       "_model_module_version": "2.0.0",
       "_model_name": "PlayModel",
       "_view_count": null,
       "_view_module": "@jupyter-widgets/controls",
       "_view_module_version": "2.0.0",
       "_view_name": "PlayView",
       "description": "",
       "description_allow_html": false,
       "disabled": false,
       "interval": 100,
       "layout": "IPY_MODEL_5c6feb3e1dbb44d58d838da9b8215d0a",
       "max": 0,
       "min": 0,
       "playing": false,
       "repeat": false,
       "show_repeat": true,
       "step": 1,
       "style": "IPY_MODEL_98f66a8e88b44ca986c956063df88416",
       "tabbable": null,
       "tooltip": null,
       "value": 0
      }
     },
     "aef589a041994ce1a68eb1afeeea2def": {
      "model_module": "nglview-js-widgets",
      "model_module_version": "3.0.6",
      "model_name": "NGLModel",
      "state": {
       "_camera_orientation": [],
       "_camera_str": "orthographic",
       "_dom_classes": [],
       "_gui_theme": null,
       "_ibtn_fullscreen": "IPY_MODEL_fbfeadcd56b74faaaf95f5c39c41c8f8",
       "_igui": null,
       "_iplayer": "IPY_MODEL_7b75ab6c3b18473bbfa4e48cc7ea56f3",
       "_model_module": "nglview-js-widgets",
       "_model_module_version": "3.0.6",
       "_model_name": "NGLModel",
       "_ngl_color_dict": {},
       "_ngl_coordinate_resource": {},
       "_ngl_full_stage_parameters": {},
       "_ngl_msg_archive": [
        {
         "args": [
          {
           "binary": false,
           "data": "HETATM    1  C1  UNL     1       5.045   2.156  -0.646  1.00  0.00           C  \nHETATM    2  C2  UNL     1       4.657   0.801  -0.014  1.00  0.00           C  \nHETATM    3  C3  UNL     1       5.348   0.630   1.356  1.00  0.00           C  \nHETATM    4  C4  UNL     1       5.299  -0.265  -0.929  1.00  0.00           C  \nHETATM    5  C5  UNL     1       3.111   0.717   0.155  1.00  0.00           C  \nHETATM    6  C6  UNL     1       2.435   1.665   0.977  1.00  0.00           C  \nHETATM    7  O1  UNL     1       3.037   2.679   1.658  1.00  0.00           O  \nHETATM    8  C7  UNL     1       1.056   1.624   1.201  1.00  0.00           C  \nHETATM    9  O2  UNL     1       0.464   2.506   2.086  1.00  0.00           O  \nHETATM   10  C8  UNL     1       0.321   0.654   0.541  1.00  0.00           C  \nHETATM   11  C9  UNL     1       0.893  -0.278  -0.302  1.00  0.00           C  \nHETATM   12  C10 UNL     1       2.285  -0.277  -0.454  1.00  0.00           C  \nHETATM   13  O3  UNL     1       2.741  -1.333  -1.186  1.00  0.00           O  \nHETATM   14  C11 UNL     1      -0.001  -1.277  -1.056  1.00  0.00           C  \nHETATM   15  O4  UNL     1       0.171  -2.574  -0.558  1.00  0.00           O  \nHETATM   16  C12 UNL     1      -0.159  -3.882  -0.184  1.00  0.00           C  \nHETATM   17  C13 UNL     1      -1.688  -3.684  -0.050  1.00  0.00           C  \nHETATM   18  C14 UNL     1      -2.280  -2.598  -1.027  1.00  0.00           C  \nHETATM   19  C15 UNL     1      -1.589  -1.177  -0.940  1.00  0.00           C  \nHETATM   20  C16 UNL     1      -2.122  -0.421   0.316  1.00  0.00           C  \nHETATM   21  C17 UNL     1      -3.374   0.386   0.043  1.00  0.00           C  \nHETATM   22  C18 UNL     1      -4.601  -0.005   0.601  1.00  0.00           C  \nHETATM   23  C19 UNL     1      -5.767   0.731   0.366  1.00  0.00           C  \nHETATM   24  O5  UNL     1      -6.944   0.316   0.932  1.00  0.00           O  \nHETATM   25  C20 UNL     1      -5.716   1.882  -0.441  1.00  0.00           C  \nHETATM   26  O6  UNL     1      -6.841   2.631  -0.690  1.00  0.00           O  \nHETATM   27  C21 UNL     1      -4.496   2.279  -1.006  1.00  0.00           C  \nHETATM   28  F1  UNL     1      -4.434   3.384  -1.787  1.00  0.00           F  \nHETATM   29  C22 UNL     1      -3.339   1.535  -0.765  1.00  0.00           C  \nHETATM   30  N1  UNL     1      -1.015   0.438   0.638  1.00  0.00           N  \nHETATM   31  H1  UNL     1       4.821   2.996   0.018  1.00  0.00           H  \nHETATM   32  H2  UNL     1       4.500   2.304  -1.583  1.00  0.00           H  \nHETATM   33  H3  UNL     1       6.117   2.191  -0.861  1.00  0.00           H  \nHETATM   34  H4  UNL     1       6.434   0.568   1.237  1.00  0.00           H  \nHETATM   35  H5  UNL     1       5.143   1.470   2.025  1.00  0.00           H  \nHETATM   36  H6  UNL     1       5.002  -0.288   1.840  1.00  0.00           H  \nHETATM   37  H7  UNL     1       6.378  -0.108  -1.016  1.00  0.00           H  \nHETATM   38  H8  UNL     1       5.147  -1.269  -0.523  1.00  0.00           H  \nHETATM   39  H9  UNL     1       4.877  -0.216  -1.938  1.00  0.00           H  \nHETATM   40  H10 UNL     1       2.307   3.135   2.109  1.00  0.00           H  \nHETATM   41  H11 UNL     1      -0.259   2.063   2.561  1.00  0.00           H  \nHETATM   42  H12 UNL     1       2.042  -2.007  -1.160  1.00  0.00           H  \nHETATM   43  H13 UNL     1       0.265  -1.248  -2.116  1.00  0.00           H  \nHETATM   44  H14 UNL     1       0.309  -4.186   0.757  1.00  0.00           H  \nHETATM   45  H15 UNL     1       0.094  -4.596  -0.973  1.00  0.00           H  \nHETATM   46  H16 UNL     1      -1.905  -3.383   0.979  1.00  0.00           H  \nHETATM   47  H17 UNL     1      -2.189  -4.642  -0.221  1.00  0.00           H  \nHETATM   48  H18 UNL     1      -2.166  -2.967  -2.050  1.00  0.00           H  \nHETATM   49  H19 UNL     1      -3.353  -2.494  -0.841  1.00  0.00           H  \nHETATM   50  H20 UNL     1      -1.907  -0.601  -1.814  1.00  0.00           H  \nHETATM   51  H21 UNL     1      -2.288  -1.116   1.144  1.00  0.00           H  \nHETATM   52  H22 UNL     1      -4.645  -0.893   1.224  1.00  0.00           H  \nHETATM   53  H23 UNL     1      -6.808  -0.488   1.460  1.00  0.00           H  \nHETATM   54  H24 UNL     1      -6.607   3.381  -1.262  1.00  0.00           H  \nHETATM   55  H25 UNL     1      -2.406   1.857  -1.217  1.00  0.00           H  \nHETATM   56  H26 UNL     1      -1.415   1.306   0.992  1.00  0.00           H  \nCONECT    1    2   31   32   33\nCONECT    2    3    4    5\nCONECT    3   34   35   36\nCONECT    4   37   38   39\nCONECT    5    6    6   12\nCONECT    6    7    8\nCONECT    7   40\nCONECT    8    9   10   10\nCONECT    9   41\nCONECT   10   11   30\nCONECT   11   12   12   14\nCONECT   12   13\nCONECT   13   42\nCONECT   14   15   19   43\nCONECT   15   16\nCONECT   16   17   44   45\nCONECT   17   18   46   47\nCONECT   18   19   48   49\nCONECT   19   20   50\nCONECT   20   21   30   51\nCONECT   21   22   22   29\nCONECT   22   23   52\nCONECT   23   24   25   25\nCONECT   24   53\nCONECT   25   26   27\nCONECT   26   54\nCONECT   27   28   29   29\nCONECT   29   55\nCONECT   30   56\n",
           "type": "blob"
          }
         ],
         "kwargs": {
          "defaultRepresentation": true,
          "ext": "pdb",
          "name": "<openff.toolkit.utils.viz._OFFTrajectoryNGLView object at 0x7fab28d1a470>"
         },
         "methodName": "loadFile",
         "reconstruc_color_scheme": false,
         "target": "Stage",
         "type": "call_method"
        }
       ],
       "_ngl_original_stage_parameters": {},
       "_ngl_repr_dict": {},
       "_ngl_serialize": false,
       "_ngl_version": "",
       "_ngl_view_id": [],
       "_player_dict": {},
       "_scene_position": {},
       "_scene_rotation": {},
       "_synced_model_ids": [],
       "_synced_repr_model_ids": [],
       "_view_count": null,
       "_view_height": "",
       "_view_module": "nglview-js-widgets",
       "_view_module_version": "3.0.6",
       "_view_name": "NGLView",
       "_view_width": "",
       "background": "white",
       "frame": 0,
       "gui_style": null,
       "layout": "IPY_MODEL_fa28112b8cc64d8a86f33ca1123bce12",
       "max_frame": 0,
       "n_components": 0,
       "picked": {},
       "tabbable": null,
       "tooltip": null
      }
     },
     "b129200099454714b47c6daa4900e5a2": {
      "model_module": "@jupyter-widgets/controls",
      "model_module_version": "2.0.0",
      "model_name": "LinkModel",
      "state": {
       "_model_module": "@jupyter-widgets/controls",
       "_model_module_version": "2.0.0",
       "_model_name": "LinkModel",
       "_view_count": null,
       "_view_module": "@jupyter-widgets/controls",
       "_view_module_version": "2.0.0",
       "_view_name": null,
       "source": [
        "IPY_MODEL_c169e1592432484ebf926a52d7c15709",
        "max"
       ],
       "target": [
        "IPY_MODEL_5bf0545d445d46a7bd43139622210a51",
        "max_frame"
       ]
      }
     },
     "b6a8165326764dee9b0d9158bf81e1a4": {
      "model_module": "@jupyter-widgets/controls",
      "model_module_version": "2.0.0",
      "model_name": "SliderStyleModel",
      "state": {
       "_model_module": "@jupyter-widgets/controls",
       "_model_module_version": "2.0.0",
       "_model_name": "SliderStyleModel",
       "_view_count": null,
       "_view_module": "@jupyter-widgets/base",
       "_view_module_version": "2.0.0",
       "_view_name": "StyleView",
       "description_width": "",
       "handle_color": null
      }
     },
     "c169e1592432484ebf926a52d7c15709": {
      "model_module": "@jupyter-widgets/controls",
      "model_module_version": "2.0.0",
      "model_name": "PlayModel",
      "state": {
       "_dom_classes": [],
       "_model_module": "@jupyter-widgets/controls",
       "_model_module_version": "2.0.0",
       "_model_name": "PlayModel",
       "_view_count": null,
       "_view_module": "@jupyter-widgets/controls",
       "_view_module_version": "2.0.0",
       "_view_name": "PlayView",
       "description": "",
       "description_allow_html": false,
       "disabled": false,
       "interval": 100,
       "layout": "IPY_MODEL_cb766cba84424428a81c50a38efcc97b",
       "max": 0,
       "min": 0,
       "playing": false,
       "repeat": false,
       "show_repeat": true,
       "step": 1,
       "style": "IPY_MODEL_a6a5a0d77ec84eb38a01cf4710a81da3",
       "tabbable": null,
       "tooltip": null,
       "value": 0
      }
     },
     "c1e8601695b54b0ba3ed7f9f13a34a15": {
      "model_module": "@jupyter-widgets/controls",
      "model_module_version": "2.0.0",
      "model_name": "HBoxModel",
      "state": {
       "_dom_classes": [],
       "_model_module": "@jupyter-widgets/controls",
       "_model_module_version": "2.0.0",
       "_model_name": "HBoxModel",
       "_view_count": null,
       "_view_module": "@jupyter-widgets/controls",
       "_view_module_version": "2.0.0",
       "_view_name": "HBoxView",
       "box_style": "",
       "children": [
        "IPY_MODEL_ab8988f7a6ec408a9e54eb79cf3eb43e",
        "IPY_MODEL_3ffd1c8a1d1b4bee98396d60da61acbc"
       ],
       "layout": "IPY_MODEL_e53d45dc3752440d8f936021847b4371",
       "tabbable": null,
       "tooltip": null
      }
     },
     "c2370cf9b93f4ab496a0eae1677f642c": {
      "model_module": "@jupyter-widgets/controls",
      "model_module_version": "2.0.0",
      "model_name": "SliderStyleModel",
      "state": {
       "_model_module": "@jupyter-widgets/controls",
       "_model_module_version": "2.0.0",
       "_model_name": "SliderStyleModel",
       "_view_count": null,
       "_view_module": "@jupyter-widgets/base",
       "_view_module_version": "2.0.0",
       "_view_name": "StyleView",
       "description_width": "",
       "handle_color": null
      }
     },
     "c3064065ac374331ba49781a22564fee": {
      "model_module": "@jupyter-widgets/controls",
      "model_module_version": "2.0.0",
      "model_name": "IntSliderModel",
      "state": {
       "_dom_classes": [],
       "_model_module": "@jupyter-widgets/controls",
       "_model_module_version": "2.0.0",
       "_model_name": "IntSliderModel",
       "_view_count": null,
       "_view_module": "@jupyter-widgets/controls",
       "_view_module_version": "2.0.0",
       "_view_name": "IntSliderView",
       "behavior": "drag-tap",
       "continuous_update": true,
       "description": "",
       "description_allow_html": false,
       "disabled": false,
       "layout": "IPY_MODEL_e2e7c5368efb4652b19aaaab8097d5c1",
       "max": 0,
       "min": 0,
       "orientation": "horizontal",
       "readout": true,
       "readout_format": "d",
       "step": 1,
       "style": "IPY_MODEL_c2370cf9b93f4ab496a0eae1677f642c",
       "tabbable": null,
       "tooltip": null,
       "value": 0
      }
     },
     "c48feb885cc04fd2a3dfbedf3acdae13": {
      "model_module": "@jupyter-widgets/controls",
      "model_module_version": "2.0.0",
      "model_name": "ButtonModel",
      "state": {
       "_dom_classes": [],
       "_model_module": "@jupyter-widgets/controls",
       "_model_module_version": "2.0.0",
       "_model_name": "ButtonModel",
       "_view_count": null,
       "_view_module": "@jupyter-widgets/controls",
       "_view_module_version": "2.0.0",
       "_view_name": "ButtonView",
       "button_style": "",
       "description": "",
       "disabled": false,
       "icon": "compress",
       "layout": "IPY_MODEL_50cf4ae821eb48779f95fe0056cb6126",
       "style": "IPY_MODEL_41f6940395064c13bae11ced5f4be98c",
       "tabbable": null,
       "tooltip": null
      }
     },
     "c4cd891445d7463f909060de713402b0": {
      "model_module": "@jupyter-widgets/base",
      "model_module_version": "2.0.0",
      "model_name": "LayoutModel",
      "state": {
       "_model_module": "@jupyter-widgets/base",
       "_model_module_version": "2.0.0",
       "_model_name": "LayoutModel",
       "_view_count": null,
       "_view_module": "@jupyter-widgets/base",
       "_view_module_version": "2.0.0",
       "_view_name": "LayoutView",
       "align_content": null,
       "align_items": null,
       "align_self": null,
       "border_bottom": null,
       "border_left": null,
       "border_right": null,
       "border_top": null,
       "bottom": null,
       "display": null,
       "flex": null,
       "flex_flow": null,
       "grid_area": null,
       "grid_auto_columns": null,
       "grid_auto_flow": null,
       "grid_auto_rows": null,
       "grid_column": null,
       "grid_gap": null,
       "grid_row": null,
       "grid_template_areas": null,
       "grid_template_columns": null,
       "grid_template_rows": null,
       "height": null,
       "justify_content": null,
       "justify_items": null,
       "left": null,
       "margin": null,
       "max_height": null,
       "max_width": null,
       "min_height": null,
       "min_width": null,
       "object_fit": null,
       "object_position": null,
       "order": null,
       "overflow": null,
       "padding": null,
       "right": null,
       "top": null,
       "visibility": null,
       "width": null
      }
     },
     "c688e8dd8d2b486b9e9149392815d470": {
      "model_module": "@jupyter-widgets/base",
      "model_module_version": "2.0.0",
      "model_name": "LayoutModel",
      "state": {
       "_model_module": "@jupyter-widgets/base",
       "_model_module_version": "2.0.0",
       "_model_name": "LayoutModel",
       "_view_count": null,
       "_view_module": "@jupyter-widgets/base",
       "_view_module_version": "2.0.0",
       "_view_name": "LayoutView",
       "align_content": null,
       "align_items": null,
       "align_self": null,
       "border_bottom": null,
       "border_left": null,
       "border_right": null,
       "border_top": null,
       "bottom": null,
       "display": null,
       "flex": null,
       "flex_flow": null,
       "grid_area": null,
       "grid_auto_columns": null,
       "grid_auto_flow": null,
       "grid_auto_rows": null,
       "grid_column": null,
       "grid_gap": null,
       "grid_row": null,
       "grid_template_areas": null,
       "grid_template_columns": null,
       "grid_template_rows": null,
       "height": null,
       "justify_content": null,
       "justify_items": null,
       "left": null,
       "margin": null,
       "max_height": null,
       "max_width": null,
       "min_height": null,
       "min_width": null,
       "object_fit": null,
       "object_position": null,
       "order": null,
       "overflow": null,
       "padding": null,
       "right": null,
       "top": null,
       "visibility": null,
       "width": null
      }
     },
     "c70af25d0fe04286af5acb3ac9a2eca4": {
      "model_module": "@jupyter-widgets/base",
      "model_module_version": "2.0.0",
      "model_name": "LayoutModel",
      "state": {
       "_model_module": "@jupyter-widgets/base",
       "_model_module_version": "2.0.0",
       "_model_name": "LayoutModel",
       "_view_count": null,
       "_view_module": "@jupyter-widgets/base",
       "_view_module_version": "2.0.0",
       "_view_name": "LayoutView",
       "align_content": null,
       "align_items": null,
       "align_self": null,
       "border_bottom": null,
       "border_left": null,
       "border_right": null,
       "border_top": null,
       "bottom": null,
       "display": null,
       "flex": null,
       "flex_flow": null,
       "grid_area": null,
       "grid_auto_columns": null,
       "grid_auto_flow": null,
       "grid_auto_rows": null,
       "grid_column": null,
       "grid_gap": null,
       "grid_row": null,
       "grid_template_areas": null,
       "grid_template_columns": null,
       "grid_template_rows": null,
       "height": null,
       "justify_content": null,
       "justify_items": null,
       "left": null,
       "margin": null,
       "max_height": null,
       "max_width": null,
       "min_height": null,
       "min_width": null,
       "object_fit": null,
       "object_position": null,
       "order": null,
       "overflow": null,
       "padding": null,
       "right": null,
       "top": null,
       "visibility": null,
       "width": null
      }
     },
     "c911250390ea4b5cb4edc6aa51a0acab": {
      "model_module": "@jupyter-widgets/controls",
      "model_module_version": "2.0.0",
      "model_name": "DescriptionStyleModel",
      "state": {
       "_model_module": "@jupyter-widgets/controls",
       "_model_module_version": "2.0.0",
       "_model_name": "DescriptionStyleModel",
       "_view_count": null,
       "_view_module": "@jupyter-widgets/base",
       "_view_module_version": "2.0.0",
       "_view_name": "StyleView",
       "description_width": ""
      }
     },
     "cad82d0915c142b5bd5c05040f7e7aba": {
      "model_module": "@jupyter-widgets/controls",
      "model_module_version": "2.0.0",
      "model_name": "HBoxModel",
      "state": {
       "_dom_classes": [],
       "_model_module": "@jupyter-widgets/controls",
       "_model_module_version": "2.0.0",
       "_model_name": "HBoxModel",
       "_view_count": null,
       "_view_module": "@jupyter-widgets/controls",
       "_view_module_version": "2.0.0",
       "_view_name": "HBoxView",
       "box_style": "",
       "children": [
        "IPY_MODEL_435d0fc545e34048a44f4f6804901649",
        "IPY_MODEL_3af9d0bb308f4537a9a773c316f71700"
       ],
       "layout": "IPY_MODEL_7df51e85539c4e8e8c03b7af419be54d",
       "tabbable": null,
       "tooltip": null
      }
     },
     "cb766cba84424428a81c50a38efcc97b": {
      "model_module": "@jupyter-widgets/base",
      "model_module_version": "2.0.0",
      "model_name": "LayoutModel",
      "state": {
       "_model_module": "@jupyter-widgets/base",
       "_model_module_version": "2.0.0",
       "_model_name": "LayoutModel",
       "_view_count": null,
       "_view_module": "@jupyter-widgets/base",
       "_view_module_version": "2.0.0",
       "_view_name": "LayoutView",
       "align_content": null,
       "align_items": null,
       "align_self": null,
       "border_bottom": null,
       "border_left": null,
       "border_right": null,
       "border_top": null,
       "bottom": null,
       "display": null,
       "flex": null,
       "flex_flow": null,
       "grid_area": null,
       "grid_auto_columns": null,
       "grid_auto_flow": null,
       "grid_auto_rows": null,
       "grid_column": null,
       "grid_gap": null,
       "grid_row": null,
       "grid_template_areas": null,
       "grid_template_columns": null,
       "grid_template_rows": null,
       "height": null,
       "justify_content": null,
       "justify_items": null,
       "left": null,
       "margin": null,
       "max_height": null,
       "max_width": null,
       "min_height": null,
       "min_width": null,
       "object_fit": null,
       "object_position": null,
       "order": null,
       "overflow": null,
       "padding": null,
       "right": null,
       "top": null,
       "visibility": null,
       "width": null
      }
     },
     "cd2f86b290b5437f9171bc632a2dd91e": {
      "model_module": "@jupyter-widgets/controls",
      "model_module_version": "2.0.0",
      "model_name": "ButtonStyleModel",
      "state": {
       "_model_module": "@jupyter-widgets/controls",
       "_model_module_version": "2.0.0",
       "_model_name": "ButtonStyleModel",
       "_view_count": null,
       "_view_module": "@jupyter-widgets/base",
       "_view_module_version": "2.0.0",
       "_view_name": "StyleView",
       "button_color": null,
       "font_family": null,
       "font_size": null,
       "font_style": null,
       "font_variant": null,
       "font_weight": null,
       "text_color": null,
       "text_decoration": null
      }
     },
     "d01ad39bfb1c46569b4b4a6b99ea726a": {
      "model_module": "@jupyter-widgets/controls",
      "model_module_version": "2.0.0",
      "model_name": "LinkModel",
      "state": {
       "_model_module": "@jupyter-widgets/controls",
       "_model_module_version": "2.0.0",
       "_model_name": "LinkModel",
       "_view_count": null,
       "_view_module": "@jupyter-widgets/controls",
       "_view_module_version": "2.0.0",
       "_view_name": null,
       "source": [
        "IPY_MODEL_3af9d0bb308f4537a9a773c316f71700",
        "max"
       ],
       "target": [
        "IPY_MODEL_ea59a29635bc408cb8e8814e7c8a8f67",
        "max_frame"
       ]
      }
     },
     "d4e92513d7d044188b83a6de3d9797b7": {
      "model_module": "@jupyter-widgets/controls",
      "model_module_version": "2.0.0",
      "model_name": "LinkModel",
      "state": {
       "_model_module": "@jupyter-widgets/controls",
       "_model_module_version": "2.0.0",
       "_model_name": "LinkModel",
       "_view_count": null,
       "_view_module": "@jupyter-widgets/controls",
       "_view_module_version": "2.0.0",
       "_view_name": null,
       "source": [
        "IPY_MODEL_3ffd1c8a1d1b4bee98396d60da61acbc",
        "max"
       ],
       "target": [
        "IPY_MODEL_1c123e72d1e24c7988c32edef409871e",
        "max_frame"
       ]
      }
     },
     "d79c68d6ce4c41968af2b6e2c23e3667": {
      "model_module": "@jupyter-widgets/base",
      "model_module_version": "2.0.0",
      "model_name": "LayoutModel",
      "state": {
       "_model_module": "@jupyter-widgets/base",
       "_model_module_version": "2.0.0",
       "_model_name": "LayoutModel",
       "_view_count": null,
       "_view_module": "@jupyter-widgets/base",
       "_view_module_version": "2.0.0",
       "_view_name": "LayoutView",
       "align_content": null,
       "align_items": null,
       "align_self": null,
       "border_bottom": null,
       "border_left": null,
       "border_right": null,
       "border_top": null,
       "bottom": null,
       "display": null,
       "flex": null,
       "flex_flow": null,
       "grid_area": null,
       "grid_auto_columns": null,
       "grid_auto_flow": null,
       "grid_auto_rows": null,
       "grid_column": null,
       "grid_gap": null,
       "grid_row": null,
       "grid_template_areas": null,
       "grid_template_columns": null,
       "grid_template_rows": null,
       "height": null,
       "justify_content": null,
       "justify_items": null,
       "left": null,
       "margin": null,
       "max_height": null,
       "max_width": null,
       "min_height": null,
       "min_width": null,
       "object_fit": null,
       "object_position": null,
       "order": null,
       "overflow": null,
       "padding": null,
       "right": null,
       "top": null,
       "visibility": null,
       "width": null
      }
     },
     "df28811636ae4696be80952711f0cf60": {
      "model_module": "@jupyter-widgets/controls",
      "model_module_version": "2.0.0",
      "model_name": "ButtonStyleModel",
      "state": {
       "_model_module": "@jupyter-widgets/controls",
       "_model_module_version": "2.0.0",
       "_model_name": "ButtonStyleModel",
       "_view_count": null,
       "_view_module": "@jupyter-widgets/base",
       "_view_module_version": "2.0.0",
       "_view_name": "StyleView",
       "button_color": null,
       "font_family": null,
       "font_size": null,
       "font_style": null,
       "font_variant": null,
       "font_weight": null,
       "text_color": null,
       "text_decoration": null
      }
     },
     "e289d3564034470cb13b1adc64e94601": {
      "model_module": "@jupyter-widgets/controls",
      "model_module_version": "2.0.0",
      "model_name": "LinkModel",
      "state": {
       "_model_module": "@jupyter-widgets/controls",
       "_model_module_version": "2.0.0",
       "_model_name": "LinkModel",
       "_view_count": null,
       "_view_module": "@jupyter-widgets/controls",
       "_view_module_version": "2.0.0",
       "_view_name": null,
       "source": [
        "IPY_MODEL_e6cc71c72dd148539e343340009f6e66",
        "max"
       ],
       "target": [
        "IPY_MODEL_5bf0545d445d46a7bd43139622210a51",
        "max_frame"
       ]
      }
     },
     "e2e7c5368efb4652b19aaaab8097d5c1": {
      "model_module": "@jupyter-widgets/base",
      "model_module_version": "2.0.0",
      "model_name": "LayoutModel",
      "state": {
       "_model_module": "@jupyter-widgets/base",
       "_model_module_version": "2.0.0",
       "_model_name": "LayoutModel",
       "_view_count": null,
       "_view_module": "@jupyter-widgets/base",
       "_view_module_version": "2.0.0",
       "_view_name": "LayoutView",
       "align_content": null,
       "align_items": null,
       "align_self": null,
       "border_bottom": null,
       "border_left": null,
       "border_right": null,
       "border_top": null,
       "bottom": null,
       "display": null,
       "flex": null,
       "flex_flow": null,
       "grid_area": null,
       "grid_auto_columns": null,
       "grid_auto_flow": null,
       "grid_auto_rows": null,
       "grid_column": null,
       "grid_gap": null,
       "grid_row": null,
       "grid_template_areas": null,
       "grid_template_columns": null,
       "grid_template_rows": null,
       "height": null,
       "justify_content": null,
       "justify_items": null,
       "left": null,
       "margin": null,
       "max_height": null,
       "max_width": null,
       "min_height": null,
       "min_width": null,
       "object_fit": null,
       "object_position": null,
       "order": null,
       "overflow": null,
       "padding": null,
       "right": null,
       "top": null,
       "visibility": null,
       "width": null
      }
     },
     "e4e44be852db4bdeacdc5293e1c7aa57": {
      "buffers": [
       {
        "data": "",
        "encoding": "base64",
        "path": [
         "value"
        ]
       }
      ],
      "model_module": "@jupyter-widgets/controls",
      "model_module_version": "2.0.0",
      "model_name": "ImageModel",
      "state": {
       "_dom_classes": [],
       "_model_module": "@jupyter-widgets/controls",
       "_model_module_version": "2.0.0",
       "_model_name": "ImageModel",
       "_view_count": null,
       "_view_module": "@jupyter-widgets/controls",
       "_view_module_version": "2.0.0",
       "_view_name": "ImageView",
       "format": "png",
       "height": "",
       "layout": "IPY_MODEL_319f412f31594043904479b7c09c2c74",
       "tabbable": null,
       "tooltip": null,
       "width": "900.0"
      }
     },
     "e53d45dc3752440d8f936021847b4371": {
      "model_module": "@jupyter-widgets/base",
      "model_module_version": "2.0.0",
      "model_name": "LayoutModel",
      "state": {
       "_model_module": "@jupyter-widgets/base",
       "_model_module_version": "2.0.0",
       "_model_name": "LayoutModel",
       "_view_count": null,
       "_view_module": "@jupyter-widgets/base",
       "_view_module_version": "2.0.0",
       "_view_name": "LayoutView",
       "align_content": null,
       "align_items": null,
       "align_self": null,
       "border_bottom": null,
       "border_left": null,
       "border_right": null,
       "border_top": null,
       "bottom": null,
       "display": null,
       "flex": null,
       "flex_flow": null,
       "grid_area": null,
       "grid_auto_columns": null,
       "grid_auto_flow": null,
       "grid_auto_rows": null,
       "grid_column": null,
       "grid_gap": null,
       "grid_row": null,
       "grid_template_areas": null,
       "grid_template_columns": null,
       "grid_template_rows": null,
       "height": null,
       "justify_content": null,
       "justify_items": null,
       "left": null,
       "margin": null,
       "max_height": null,
       "max_width": null,
       "min_height": null,
       "min_width": null,
       "object_fit": null,
       "object_position": null,
       "order": null,
       "overflow": null,
       "padding": null,
       "right": null,
       "top": null,
       "visibility": null,
       "width": null
      }
     },
     "e6cc71c72dd148539e343340009f6e66": {
      "model_module": "@jupyter-widgets/controls",
      "model_module_version": "2.0.0",
      "model_name": "IntSliderModel",
      "state": {
       "_dom_classes": [],
       "_model_module": "@jupyter-widgets/controls",
       "_model_module_version": "2.0.0",
       "_model_name": "IntSliderModel",
       "_view_count": null,
       "_view_module": "@jupyter-widgets/controls",
       "_view_module_version": "2.0.0",
       "_view_name": "IntSliderView",
       "behavior": "drag-tap",
       "continuous_update": true,
       "description": "",
       "description_allow_html": false,
       "disabled": false,
       "layout": "IPY_MODEL_7f8cf86834284e33bf7b56c0666ad37a",
       "max": 0,
       "min": 0,
       "orientation": "horizontal",
       "readout": true,
       "readout_format": "d",
       "step": 1,
       "style": "IPY_MODEL_b6a8165326764dee9b0d9158bf81e1a4",
       "tabbable": null,
       "tooltip": null,
       "value": 0
      }
     },
     "e90dadc209b54cc89c82b6085b707fe5": {
      "model_module": "@jupyter-widgets/controls",
      "model_module_version": "2.0.0",
      "model_name": "LinkModel",
      "state": {
       "_model_module": "@jupyter-widgets/controls",
       "_model_module_version": "2.0.0",
       "_model_name": "LinkModel",
       "_view_count": null,
       "_view_module": "@jupyter-widgets/controls",
       "_view_module_version": "2.0.0",
       "_view_name": null,
       "source": [
        "IPY_MODEL_ab8988f7a6ec408a9e54eb79cf3eb43e",
        "value"
       ],
       "target": [
        "IPY_MODEL_1c123e72d1e24c7988c32edef409871e",
        "frame"
       ]
      }
     },
     "e956bdf7d20e48d4801eb8aa83266a52": {
      "model_module": "@jupyter-widgets/controls",
      "model_module_version": "2.0.0",
      "model_name": "LinkModel",
      "state": {
       "_model_module": "@jupyter-widgets/controls",
       "_model_module_version": "2.0.0",
       "_model_name": "LinkModel",
       "_view_count": null,
       "_view_module": "@jupyter-widgets/controls",
       "_view_module_version": "2.0.0",
       "_view_name": null,
       "source": [
        "IPY_MODEL_c169e1592432484ebf926a52d7c15709",
        "value"
       ],
       "target": [
        "IPY_MODEL_e6cc71c72dd148539e343340009f6e66",
        "value"
       ]
      }
     },
     "ea59a29635bc408cb8e8814e7c8a8f67": {
      "model_module": "nglview-js-widgets",
      "model_module_version": "3.0.6",
      "model_name": "NGLModel",
      "state": {
       "_camera_orientation": [],
       "_camera_str": "orthographic",
       "_dom_classes": [],
       "_gui_theme": null,
       "_ibtn_fullscreen": "IPY_MODEL_c48feb885cc04fd2a3dfbedf3acdae13",
       "_igui": null,
       "_iplayer": "IPY_MODEL_cad82d0915c142b5bd5c05040f7e7aba",
       "_model_module": "nglview-js-widgets",
       "_model_module_version": "3.0.6",
       "_model_name": "NGLModel",
       "_ngl_color_dict": {},
       "_ngl_coordinate_resource": {},
       "_ngl_full_stage_parameters": {},
       "_ngl_msg_archive": [
        {
         "args": [
          {
           "binary": false,
           "data": "HETATM    1  C1  UNL     1       5.351   1.818  -0.161  1.00  0.00           C  \nHETATM    2  C2  UNL     1       4.785   0.434   0.233  1.00  0.00           C  \nHETATM    3  C3  UNL     1       5.331   0.002   1.609  1.00  0.00           C  \nHETATM    4  C4  UNL     1       5.410  -0.549  -0.783  1.00  0.00           C  \nHETATM    5  C5  UNL     1       3.227   0.485   0.279  1.00  0.00           C  \nHETATM    6  C6  UNL     1       2.579   1.405   1.142  1.00  0.00           C  \nHETATM    7  O1  UNL     1       3.208   2.271   1.983  1.00  0.00           O  \nHETATM    8  C7  UNL     1       1.193   1.501   1.231  1.00  0.00           C  \nHETATM    9  O2  UNL     1       0.617   2.382   2.125  1.00  0.00           O  \nHETATM   10  C8  UNL     1       0.389   0.689   0.442  1.00  0.00           C  \nHETATM   11  C9  UNL     1       0.955  -0.245  -0.422  1.00  0.00           C  \nHETATM   12  C10 UNL     1       2.361  -0.353  -0.485  1.00  0.00           C  \nHETATM   13  O3  UNL     1       2.807  -1.334  -1.318  1.00  0.00           O  \nHETATM   14  C11 UNL     1       0.074  -1.083  -1.341  1.00  0.00           C  \nHETATM   15  O4  UNL     1       0.424  -2.479  -1.214  1.00  0.00           O  \nHETATM   16  C12 UNL     1      -0.329  -3.203  -0.235  1.00  0.00           C  \nHETATM   17  C13 UNL     1      -1.802  -3.291  -0.661  1.00  0.00           C  \nHETATM   18  C14 UNL     1      -2.224  -2.113  -1.558  1.00  0.00           C  \nHETATM   19  C15 UNL     1      -1.453  -0.821  -1.218  1.00  0.00           C  \nHETATM   20  C16 UNL     1      -1.856  -0.271   0.166  1.00  0.00           C  \nHETATM   21  C17 UNL     1      -3.289   0.229   0.193  1.00  0.00           C  \nHETATM   22  C18 UNL     1      -4.222  -0.357   1.063  1.00  0.00           C  \nHETATM   23  C19 UNL     1      -5.548   0.087   1.105  1.00  0.00           C  \nHETATM   24  O5  UNL     1      -6.426  -0.514   1.969  1.00  0.00           O  \nHETATM   25  C20 UNL     1      -5.962   1.139   0.268  1.00  0.00           C  \nHETATM   26  O6  UNL     1      -7.259   1.595   0.289  1.00  0.00           O  \nHETATM   27  C21 UNL     1      -5.038   1.732  -0.600  1.00  0.00           C  \nHETATM   28  F1  UNL     1      -7.888   9.225  -6.578  1.00  0.00           F  \nHETATM   29  C22 UNL     1      -3.716   1.282  -0.634  1.00  0.00           C  \nHETATM   30  N1  UNL     1      -0.987   0.847   0.527  1.00  0.00           N  \nHETATM   31  H1  UNL     1       5.197   2.564   0.624  1.00  0.00           H  \nHETATM   32  H2  UNL     1       4.870   2.175  -1.076  1.00  0.00           H  \nHETATM   33  H3  UNL     1       6.429   1.762  -0.339  1.00  0.00           H  \nHETATM   34  H4  UNL     1       6.419  -0.105   1.577  1.00  0.00           H  \nHETATM   35  H5  UNL     1       5.097   0.734   2.388  1.00  0.00           H  \nHETATM   36  H6  UNL     1       4.899  -0.959   1.901  1.00  0.00           H  \nHETATM   37  H7  UNL     1       6.502  -0.483  -0.770  1.00  0.00           H  \nHETATM   38  H8  UNL     1       5.146  -1.582  -0.539  1.00  0.00           H  \nHETATM   39  H9  UNL     1       5.076  -0.321  -1.799  1.00  0.00           H  \nHETATM   40  H10 UNL     1       2.483   2.741   2.428  1.00  0.00           H  \nHETATM   41  H11 UNL     1      -0.312   2.125   2.245  1.00  0.00           H  \nHETATM   42  H12 UNL     1       2.063  -1.943  -1.455  1.00  0.00           H  \nHETATM   43  H13 UNL     1       0.338  -0.798  -2.364  1.00  0.00           H  \nHETATM   44  H14 UNL     1      -0.241  -2.708   0.737  1.00  0.00           H  \nHETATM   45  H15 UNL     1       0.081  -4.211  -0.121  1.00  0.00           H  \nHETATM   46  H16 UNL     1      -2.428  -3.322   0.235  1.00  0.00           H  \nHETATM   47  H17 UNL     1      -1.967  -4.223  -1.208  1.00  0.00           H  \nHETATM   48  H18 UNL     1      -2.008  -2.374  -2.598  1.00  0.00           H  \nHETATM   49  H19 UNL     1      -3.304  -1.957  -1.484  1.00  0.00           H  \nHETATM   50  H20 UNL     1      -1.706  -0.063  -1.966  1.00  0.00           H  \nHETATM   51  H21 UNL     1      -1.736  -1.051   0.923  1.00  0.00           H  \nHETATM   52  H22 UNL     1      -3.910  -1.168   1.713  1.00  0.00           H  \nHETATM   53  H23 UNL     1      -5.977  -1.190   2.504  1.00  0.00           H  \nHETATM   54  H24 UNL     1      -7.382   2.319  -0.347  1.00  0.00           H  \nHETATM   55  H25 UNL     1      -3.025   1.761  -1.320  1.00  0.00           H  \nHETATM   56  H26 UNL     1      -1.331   1.780   0.303  1.00  0.00           H  \nCONECT    1    2   31   32   33\nCONECT    2    3    4    5\nCONECT    3   34   35   36\nCONECT    4   37   38   39\nCONECT    5    6    6   12\nCONECT    6    7    8\nCONECT    7   40\nCONECT    8    9   10   10\nCONECT    9   41\nCONECT   10   11   30\nCONECT   11   12   12   14\nCONECT   12   13\nCONECT   13   42\nCONECT   14   15   19   43\nCONECT   15   16\nCONECT   16   17   44   45\nCONECT   17   18   46   47\nCONECT   18   19   48   49\nCONECT   19   20   50\nCONECT   20   21   30   51\nCONECT   21   22   22   29\nCONECT   22   23   52\nCONECT   23   24   25   25\nCONECT   24   53\nCONECT   25   26   27\nCONECT   26   54\nCONECT   27   28   29   29\nCONECT   29   55\nCONECT   30   56\n",
           "type": "blob"
          }
         ],
         "kwargs": {
          "defaultRepresentation": true,
          "ext": "pdb",
          "name": "<openff.toolkit.utils.viz._OFFTrajectoryNGLView object at 0x7fab2ce35210>"
         },
         "methodName": "loadFile",
         "reconstruc_color_scheme": false,
         "target": "Stage",
         "type": "call_method"
        }
       ],
       "_ngl_original_stage_parameters": {},
       "_ngl_repr_dict": {},
       "_ngl_serialize": false,
       "_ngl_version": "",
       "_ngl_view_id": [],
       "_player_dict": {},
       "_scene_position": {},
       "_scene_rotation": {},
       "_synced_model_ids": [],
       "_synced_repr_model_ids": [],
       "_view_count": null,
       "_view_height": "",
       "_view_module": "nglview-js-widgets",
       "_view_module_version": "3.0.6",
       "_view_name": "NGLView",
       "_view_width": "",
       "background": "white",
       "frame": 0,
       "gui_style": null,
       "layout": "IPY_MODEL_0f83527017674fedb632d1b3e86d9f33",
       "max_frame": 0,
       "n_components": 0,
       "picked": {},
       "tabbable": null,
       "tooltip": null
      }
     },
     "eba90459610c4216a2580bef06eabdfe": {
      "model_module": "@jupyter-widgets/base",
      "model_module_version": "2.0.0",
      "model_name": "LayoutModel",
      "state": {
       "_model_module": "@jupyter-widgets/base",
       "_model_module_version": "2.0.0",
       "_model_name": "LayoutModel",
       "_view_count": null,
       "_view_module": "@jupyter-widgets/base",
       "_view_module_version": "2.0.0",
       "_view_name": "LayoutView",
       "align_content": null,
       "align_items": null,
       "align_self": null,
       "border_bottom": null,
       "border_left": null,
       "border_right": null,
       "border_top": null,
       "bottom": null,
       "display": null,
       "flex": null,
       "flex_flow": null,
       "grid_area": null,
       "grid_auto_columns": null,
       "grid_auto_flow": null,
       "grid_auto_rows": null,
       "grid_column": null,
       "grid_gap": null,
       "grid_row": null,
       "grid_template_areas": null,
       "grid_template_columns": null,
       "grid_template_rows": null,
       "height": null,
       "justify_content": null,
       "justify_items": null,
       "left": null,
       "margin": null,
       "max_height": null,
       "max_width": null,
       "min_height": null,
       "min_width": null,
       "object_fit": null,
       "object_position": null,
       "order": null,
       "overflow": null,
       "padding": null,
       "right": null,
       "top": null,
       "visibility": null,
       "width": null
      }
     },
     "f3f9757b8e554e9db92e84ba49b45193": {
      "model_module": "@jupyter-widgets/base",
      "model_module_version": "2.0.0",
      "model_name": "LayoutModel",
      "state": {
       "_model_module": "@jupyter-widgets/base",
       "_model_module_version": "2.0.0",
       "_model_name": "LayoutModel",
       "_view_count": null,
       "_view_module": "@jupyter-widgets/base",
       "_view_module_version": "2.0.0",
       "_view_name": "LayoutView",
       "align_content": null,
       "align_items": null,
       "align_self": null,
       "border_bottom": null,
       "border_left": null,
       "border_right": null,
       "border_top": null,
       "bottom": null,
       "display": null,
       "flex": null,
       "flex_flow": null,
       "grid_area": null,
       "grid_auto_columns": null,
       "grid_auto_flow": null,
       "grid_auto_rows": null,
       "grid_column": null,
       "grid_gap": null,
       "grid_row": null,
       "grid_template_areas": null,
       "grid_template_columns": null,
       "grid_template_rows": null,
       "height": null,
       "justify_content": null,
       "justify_items": null,
       "left": null,
       "margin": null,
       "max_height": null,
       "max_width": null,
       "min_height": null,
       "min_width": null,
       "object_fit": null,
       "object_position": null,
       "order": null,
       "overflow": null,
       "padding": null,
       "right": null,
       "top": null,
       "visibility": null,
       "width": null
      }
     },
     "f80868d0306f4d2582fb042477efdc35": {
      "model_module": "@jupyter-widgets/base",
      "model_module_version": "2.0.0",
      "model_name": "LayoutModel",
      "state": {
       "_model_module": "@jupyter-widgets/base",
       "_model_module_version": "2.0.0",
       "_model_name": "LayoutModel",
       "_view_count": null,
       "_view_module": "@jupyter-widgets/base",
       "_view_module_version": "2.0.0",
       "_view_name": "LayoutView",
       "align_content": null,
       "align_items": null,
       "align_self": null,
       "border_bottom": null,
       "border_left": null,
       "border_right": null,
       "border_top": null,
       "bottom": null,
       "display": null,
       "flex": null,
       "flex_flow": null,
       "grid_area": null,
       "grid_auto_columns": null,
       "grid_auto_flow": null,
       "grid_auto_rows": null,
       "grid_column": null,
       "grid_gap": null,
       "grid_row": null,
       "grid_template_areas": null,
       "grid_template_columns": null,
       "grid_template_rows": null,
       "height": null,
       "justify_content": null,
       "justify_items": null,
       "left": null,
       "margin": null,
       "max_height": null,
       "max_width": null,
       "min_height": null,
       "min_width": null,
       "object_fit": null,
       "object_position": null,
       "order": null,
       "overflow": null,
       "padding": null,
       "right": null,
       "top": null,
       "visibility": null,
       "width": null
      }
     },
     "fa28112b8cc64d8a86f33ca1123bce12": {
      "model_module": "@jupyter-widgets/base",
      "model_module_version": "2.0.0",
      "model_name": "LayoutModel",
      "state": {
       "_model_module": "@jupyter-widgets/base",
       "_model_module_version": "2.0.0",
       "_model_name": "LayoutModel",
       "_view_count": null,
       "_view_module": "@jupyter-widgets/base",
       "_view_module_version": "2.0.0",
       "_view_name": "LayoutView",
       "align_content": null,
       "align_items": null,
       "align_self": null,
       "border_bottom": null,
       "border_left": null,
       "border_right": null,
       "border_top": null,
       "bottom": null,
       "display": null,
       "flex": null,
       "flex_flow": null,
       "grid_area": null,
       "grid_auto_columns": null,
       "grid_auto_flow": null,
       "grid_auto_rows": null,
       "grid_column": null,
       "grid_gap": null,
       "grid_row": null,
       "grid_template_areas": null,
       "grid_template_columns": null,
       "grid_template_rows": null,
       "height": null,
       "justify_content": null,
       "justify_items": null,
       "left": null,
       "margin": null,
       "max_height": null,
       "max_width": null,
       "min_height": null,
       "min_width": null,
       "object_fit": null,
       "object_position": null,
       "order": null,
       "overflow": null,
       "padding": null,
       "right": null,
       "top": null,
       "visibility": null,
       "width": null
      }
     },
     "fbfeadcd56b74faaaf95f5c39c41c8f8": {
      "model_module": "@jupyter-widgets/controls",
      "model_module_version": "2.0.0",
      "model_name": "ButtonModel",
      "state": {
       "_dom_classes": [],
       "_model_module": "@jupyter-widgets/controls",
       "_model_module_version": "2.0.0",
       "_model_name": "ButtonModel",
       "_view_count": null,
       "_view_module": "@jupyter-widgets/controls",
       "_view_module_version": "2.0.0",
       "_view_name": "ButtonView",
       "button_style": "",
       "description": "",
       "disabled": false,
       "icon": "compress",
       "layout": "IPY_MODEL_5dc9aff182054a75bf9c6875d7aeb06b",
       "style": "IPY_MODEL_235f79afb3aa4f10a16aeedcf4cc9ea8",
       "tabbable": null,
       "tooltip": null
      }
     },
     "fe75e3eef03143118cbf77bbac4623bb": {
      "model_module": "@jupyter-widgets/controls",
      "model_module_version": "2.0.0",
      "model_name": "PlayModel",
      "state": {
       "_dom_classes": [],
       "_model_module": "@jupyter-widgets/controls",
       "_model_module_version": "2.0.0",
       "_model_name": "PlayModel",
       "_view_count": null,
       "_view_module": "@jupyter-widgets/controls",
       "_view_module_version": "2.0.0",
       "_view_name": "PlayView",
       "description": "",
       "description_allow_html": false,
       "disabled": false,
       "interval": 100,
       "layout": "IPY_MODEL_1054c7a34de84d2cbc3f1870399843ec",
       "max": 0,
       "min": 0,
       "playing": false,
       "repeat": false,
       "show_repeat": true,
       "step": 1,
       "style": "IPY_MODEL_93be347ef6f44349b5d27bca77eb5107",
       "tabbable": null,
       "tooltip": null,
       "value": 0
      }
     }
    },
    "version_major": 2,
    "version_minor": 0
   }
  }
 },
 "nbformat": 4,
 "nbformat_minor": 4
}
