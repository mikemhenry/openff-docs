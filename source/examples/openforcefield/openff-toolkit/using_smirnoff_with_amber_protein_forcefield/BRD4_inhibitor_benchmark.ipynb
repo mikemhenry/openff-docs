{
 "cells": [
  {
   "cell_type": "markdown",
   "metadata": {
    "tags": []
   },
   "source": [
    "## Mixing Sage and Amber force fields: BRD4 benchmark\n",
    "\n",
    "This example applies SMIRNOFF-format parameters to BRD4 inhibitors from the [living review on binding free energy benchmark systems](https://www.annualreviews.org/doi/abs/10.1146/annurev-biophys-070816-033654) by Mobley and Gilson. The BRD4 system comes from the [accompanying GitHub repository](https://github.com/MobleyLab/benchmarksets/tree/master/input_files/BRD4)."
   ]
  },
  {
   "cell_type": "code",
   "execution_count": 1,
   "metadata": {
    "execution": {
     "iopub.execute_input": "2023-08-24T00:14:26.794409Z",
     "iopub.status.busy": "2023-08-24T00:14:26.794173Z",
     "iopub.status.idle": "2023-08-24T00:14:27.028757Z",
     "shell.execute_reply": "2023-08-24T00:14:27.028143Z"
    }
   },
   "outputs": [],
   "source": [
    "# Retrieve protein and ligand files for BRD4 and a docked inhibitor from the benchmark systems GitHub repository\n",
    "# https://github.com/MobleyLab/benchmarksets\n",
    "import requests\n",
    "\n",
    "repo_url = (\n",
    "    \"https://raw.githubusercontent.com/MobleyLab/benchmarksets/master/input_files/\"\n",
    ")\n",
    "sources = {\n",
    "    \"receptor.pdb\": repo_url + \"BRD4/pdb/BRD4.pdb\",\n",
    "    \"ligand.pdb\": repo_url + \"BRD4/pdb/ligand-1.pdb\",\n",
    "    \"ligand.sdf\": repo_url + \"BRD4/sdf/ligand-1.sdf\",\n",
    "}\n",
    "for filename, url in sources.items():\n",
    "    r = requests.get(url)\n",
    "    open(filename, \"w\").write(r.text)"
   ]
  },
  {
   "cell_type": "code",
   "execution_count": 2,
   "metadata": {
    "execution": {
     "iopub.execute_input": "2023-08-24T00:14:27.033222Z",
     "iopub.status.busy": "2023-08-24T00:14:27.032132Z",
     "iopub.status.idle": "2023-08-24T00:14:27.562475Z",
     "shell.execute_reply": "2023-08-24T00:14:27.561870Z"
    }
   },
   "outputs": [],
   "source": [
    "from openff.toolkit import ForceField, Molecule"
   ]
  },
  {
   "cell_type": "markdown",
   "metadata": {},
   "source": [
    "Later we will use `Interchange.__add__`, which is an experimental feature. It needs to be turned on by setting the environment variable below, and by doing so we accept [some stability and accuracy risks](https://docs.openforcefield.org/projects/interchange/en/stable/using/experimental.html)."
   ]
  },
  {
   "cell_type": "code",
   "execution_count": 3,
   "metadata": {
    "execution": {
     "iopub.execute_input": "2023-08-24T00:14:27.567426Z",
     "iopub.status.busy": "2023-08-24T00:14:27.566129Z",
     "iopub.status.idle": "2023-08-24T00:14:27.572438Z",
     "shell.execute_reply": "2023-08-24T00:14:27.571935Z"
    }
   },
   "outputs": [
    {
     "name": "stdout",
     "output_type": "stream",
     "text": [
      "env: INTERCHANGE_EXPERIMENTAL=1\n"
     ]
    }
   ],
   "source": [
    "%env INTERCHANGE_EXPERIMENTAL=1"
   ]
  },
  {
   "cell_type": "code",
   "execution_count": 4,
   "metadata": {
    "execution": {
     "iopub.execute_input": "2023-08-24T00:14:27.576436Z",
     "iopub.status.busy": "2023-08-24T00:14:27.575430Z",
     "iopub.status.idle": "2023-08-24T00:15:16.547210Z",
     "shell.execute_reply": "2023-08-24T00:15:16.546566Z"
    },
    "tags": []
   },
   "outputs": [
    {
     "data": {
      "application/vnd.jupyter.widget-view+json": {
       "model_id": "9f26fbbea27b402099f3601f45a8617b",
       "version_major": 2,
       "version_minor": 0
      },
      "text/plain": []
     },
     "metadata": {},
     "output_type": "display_data"
    },
    {
     "name": "stderr",
     "output_type": "stream",
     "text": [
      "Warning (not error because allow_undefined_stereo=True): RDMol has unspecified stereochemistry. Undefined chiral centers are:\n",
      " - Atom C (index 4)\n",
      " - Atom C (index 26)\n",
      " - Atom C (index 40)\n",
      " - Atom C (index 54)\n",
      " - Atom C (index 68)\n",
      " - Atom C (index 74)\n",
      " - Atom C (index 89)\n",
      " - Atom C (index 91)\n",
      " - Atom C (index 103)\n",
      " - Atom C (index 114)\n",
      " - Atom C (index 136)\n",
      " - Atom C (index 142)\n",
      " - Atom C (index 156)\n",
      " - Atom C (index 186)\n",
      " - Atom C (index 192)\n",
      " - Atom C (index 214)\n",
      " - Atom C (index 238)\n",
      " - Atom C (index 255)\n",
      " - Atom C (index 257)\n",
      " - Atom C (index 269)\n",
      " - Atom C (index 283)\n",
      " - Atom C (index 300)\n",
      " - Atom C (index 319)\n",
      " - Atom C (index 336)\n",
      " - Atom C (index 357)\n",
      " - Atom C (index 376)\n",
      " - Atom C (index 395)\n",
      " - Atom C (index 419)\n",
      " - Atom C (index 435)\n",
      " - Atom C (index 451)\n",
      " - Atom C (index 470)\n",
      " - Atom C (index 492)\n",
      " - Atom C (index 494)\n",
      " - Atom C (index 506)\n",
      " - Atom C (index 525)\n",
      " - Atom C (index 549)\n",
      " - Atom C (index 571)\n",
      " - Atom C (index 588)\n",
      " - Atom C (index 605)\n",
      " - Atom C (index 625)\n",
      " - Atom C (index 635)\n",
      " - Atom C (index 667)\n",
      " - Atom C (index 673)\n",
      " - Atom C (index 693)\n",
      " - Atom C (index 710)\n",
      " - Atom C (index 735)\n",
      " - Atom C (index 741)\n",
      " - Atom C (index 757)\n",
      " - Atom C (index 769)\n",
      " - Atom C (index 779)\n",
      " - Atom C (index 795)\n",
      " - Atom C (index 817)\n",
      " - Atom C (index 836)\n",
      " - Atom C (index 850)\n",
      " - Atom C (index 877)\n",
      " - Atom C (index 883)\n",
      " - Atom C (index 895)\n",
      " - Atom C (index 916)\n",
      " - Atom C (index 937)\n",
      " - Atom C (index 959)\n",
      " - Atom C (index 961)\n",
      " - Atom C (index 978)\n",
      " - Atom C (index 980)\n",
      " - Atom C (index 997)\n",
      " - Atom C (index 1019)\n",
      " - Atom C (index 1021)\n",
      " - Atom C (index 1041)\n",
      " - Atom C (index 1047)\n",
      " - Atom C (index 1064)\n",
      " - Atom C (index 1076)\n",
      " - Atom C (index 1100)\n",
      " - Atom C (index 1102)\n",
      " - Atom C (index 1114)\n",
      " - Atom C (index 1116)\n",
      " - Atom C (index 1133)\n",
      " - Atom C (index 1155)\n",
      " - Atom C (index 1177)\n",
      " - Atom C (index 1201)\n",
      " - Atom C (index 1220)\n",
      " - Atom C (index 1235)\n",
      " - Atom C (index 1249)\n",
      " - Atom C (index 1263)\n",
      " - Atom C (index 1284)\n",
      " - Atom C (index 1305)\n",
      " - Atom C (index 1329)\n",
      " - Atom C (index 1343)\n",
      " - Atom C (index 1353)\n",
      " - Atom C (index 1370)\n",
      " - Atom C (index 1385)\n",
      " - Atom C (index 1396)\n",
      " - Atom C (index 1398)\n",
      " - Atom C (index 1415)\n",
      " - Atom C (index 1432)\n",
      " - Atom C (index 1444)\n",
      " - Atom C (index 1464)\n",
      " - Atom C (index 1478)\n",
      " - Atom C (index 1480)\n",
      " - Atom C (index 1492)\n",
      " - Atom C (index 1509)\n",
      " - Atom C (index 1529)\n",
      " - Atom C (index 1531)\n",
      " - Atom C (index 1543)\n",
      " - Atom C (index 1557)\n",
      " - Atom C (index 1568)\n",
      " - Atom C (index 1589)\n",
      " - Atom C (index 1591)\n",
      " - Atom C (index 1608)\n",
      " - Atom C (index 1629)\n",
      " - Atom C (index 1643)\n",
      " - Atom C (index 1673)\n",
      " - Atom C (index 1686)\n",
      " - Atom C (index 1698)\n",
      " - Atom C (index 1710)\n",
      " - Atom C (index 1712)\n",
      " - Atom C (index 1729)\n",
      " - Atom C (index 1745)\n",
      " - Atom C (index 1764)\n",
      " - Atom C (index 1781)\n",
      " - Atom C (index 1791)\n",
      " - Atom C (index 1806)\n",
      " - Atom C (index 1816)\n",
      " - Atom C (index 1835)\n",
      " - Atom C (index 1850)\n",
      " - Atom C (index 1872)\n",
      " - Atom C (index 1891)\n",
      " - Atom C (index 1911)\n",
      " - Atom C (index 1930)\n",
      " - Atom C (index 1947)\n",
      " - Atom C (index 1969)\n",
      " - Atom C (index 1971)\n",
      " - Atom C (index 1988)\n",
      " - Atom C (index 2002)\n",
      " - Atom C (index 2017)\n",
      "\n"
     ]
    },
    {
     "name": "stderr",
     "output_type": "stream",
     "text": [
      "/home/runner/micromamba/envs/openff-docs-examples/lib/python3.10/site-packages/openff/interchange/_experimental.py:35: UserWarning: Interchange object combination is experimental and likely to produce strange results. Any workflow using this method is not guaranteed to be suitable for production. Use with extreme caution and thoroughly validate results!\n",
      "  return func(*args, **kwargs)\n"
     ]
    }
   ],
   "source": [
    "ligand_molecule = Molecule(\"ligand.sdf\")\n",
    "sage = ForceField(\"openff-2.0.0.offxml\")\n",
    "\n",
    "ligand = sage.create_interchange(topology=ligand_molecule.to_topology())\n",
    "\n",
    "receptor_molecule = Molecule.from_polymer_pdb(\"receptor.pdb\")\n",
    "\n",
    "ff14sb = ForceField(\"ff14sb_off_impropers_0.0.3.offxml\")\n",
    "\n",
    "receptor = ff14sb.create_interchange(topology=receptor_molecule.to_topology())\n",
    "\n",
    "complex_system = receptor + ligand\n",
    "\n",
    "# TODO\n",
    "# complex.box = pdbfile box vectors ...\n",
    "# complex.positions = np.vstack([receptor.positions, ligand.positions])"
   ]
  },
  {
   "cell_type": "markdown",
   "metadata": {},
   "source": [
    "### Export to OpenMM"
   ]
  },
  {
   "cell_type": "code",
   "execution_count": 5,
   "metadata": {
    "execution": {
     "iopub.execute_input": "2023-08-24T00:15:16.551961Z",
     "iopub.status.busy": "2023-08-24T00:15:16.550721Z",
     "iopub.status.idle": "2023-08-24T00:15:19.400599Z",
     "shell.execute_reply": "2023-08-24T00:15:19.400045Z"
    }
   },
   "outputs": [
    {
     "data": {
      "text/plain": [
       "<openmm.openmm.System; proxy of <Swig Object of type 'OpenMM::System *' at 0x7fe93e06fc30> >"
      ]
     },
     "execution_count": 5,
     "metadata": {},
     "output_type": "execute_result"
    }
   ],
   "source": [
    "complex_system.to_openmm()"
   ]
  },
  {
   "cell_type": "markdown",
   "metadata": {
    "tags": []
   },
   "source": [
    "### Export to Amber"
   ]
  },
  {
   "cell_type": "code",
   "execution_count": 6,
   "metadata": {
    "execution": {
     "iopub.execute_input": "2023-08-24T00:15:19.404762Z",
     "iopub.status.busy": "2023-08-24T00:15:19.403732Z",
     "iopub.status.idle": "2023-08-24T00:15:19.407973Z",
     "shell.execute_reply": "2023-08-24T00:15:19.407469Z"
    }
   },
   "outputs": [],
   "source": [
    "# TODO: Fix inferring residue information with mixed topology\n",
    "if False:\n",
    "    complex_system.to_inpcrd(\"complex.inpcrd\")\n",
    "    complex_system.to_prmtop(\"complex.prmtop\")"
   ]
  },
  {
   "cell_type": "markdown",
   "metadata": {},
   "source": [
    "### Export to GROMACS"
   ]
  },
  {
   "cell_type": "code",
   "execution_count": 7,
   "metadata": {
    "execution": {
     "iopub.execute_input": "2023-08-24T00:15:19.411768Z",
     "iopub.status.busy": "2023-08-24T00:15:19.410768Z",
     "iopub.status.idle": "2023-08-24T00:16:05.758785Z",
     "shell.execute_reply": "2023-08-24T00:16:05.758055Z"
    }
   },
   "outputs": [
    {
     "name": "stderr",
     "output_type": "stream",
     "text": [
      "/home/runner/micromamba/envs/openff-docs-examples/lib/python3.10/site-packages/openff/interchange/interop/gromacs/export/_export.py:46: UserWarning: WARNING: System defined with no box vectors, which GROMACS does not offically support in versions 2020 or newer (see https://gitlab.com/gromacs/gromacs/-/issues/3526). Setting box vectors to a 5  nm cube.\n",
      "  self._write_gro(gro, decimal)\n"
     ]
    }
   ],
   "source": [
    "complex_system.to_gro(\"complex.gro\")\n",
    "complex_system.to_top(\"complex.top\")"
   ]
  }
 ],
 "metadata": {
  "category": "force_field_interop",
  "cookbook_cache_branch": "_cookbook_data_main",
  "kernelspec": {
   "display_name": "Python 3 (ipykernel)",
   "language": "python",
   "name": "python3"
  },
  "language_info": {
   "codemirror_mode": {
    "name": "ipython",
    "version": 3
   },
   "file_extension": ".py",
   "mimetype": "text/x-python",
   "name": "python",
   "nbconvert_exporter": "python",
   "pygments_lexer": "ipython3",
   "version": "3.10.12"
  },
  "src_repo_tag": "0.14.3",
  "widgets": {
   "application/vnd.jupyter.widget-state+json": {
    "state": {
     "16aac5ddbabf488eb8fa623398b14590": {
      "model_module": "@jupyter-widgets/base",
      "model_module_version": "2.0.0",
      "model_name": "LayoutModel",
      "state": {
       "_model_module": "@jupyter-widgets/base",
       "_model_module_version": "2.0.0",
       "_model_name": "LayoutModel",
       "_view_count": null,
       "_view_module": "@jupyter-widgets/base",
       "_view_module_version": "2.0.0",
       "_view_name": "LayoutView",
       "align_content": null,
       "align_items": null,
       "align_self": null,
       "border_bottom": null,
       "border_left": null,
       "border_right": null,
       "border_top": null,
       "bottom": null,
       "display": null,
       "flex": null,
       "flex_flow": null,
       "grid_area": null,
       "grid_auto_columns": null,
       "grid_auto_flow": null,
       "grid_auto_rows": null,
       "grid_column": null,
       "grid_gap": null,
       "grid_row": null,
       "grid_template_areas": null,
       "grid_template_columns": null,
       "grid_template_rows": null,
       "height": null,
       "justify_content": null,
       "justify_items": null,
       "left": null,
       "margin": null,
       "max_height": null,
       "max_width": null,
       "min_height": null,
       "min_width": null,
       "object_fit": null,
       "object_position": null,
       "order": null,
       "overflow": null,
       "padding": null,
       "right": null,
       "top": null,
       "visibility": null,
       "width": null
      }
     },
     "9f26fbbea27b402099f3601f45a8617b": {
      "model_module": "nglview-js-widgets",
      "model_module_version": "3.0.6",
      "model_name": "ColormakerRegistryModel",
      "state": {
       "_dom_classes": [],
       "_model_module": "nglview-js-widgets",
       "_model_module_version": "3.0.6",
       "_model_name": "ColormakerRegistryModel",
       "_msg_ar": [],
       "_msg_q": [],
       "_ready": false,
       "_view_count": null,
       "_view_module": "nglview-js-widgets",
       "_view_module_version": "3.0.6",
       "_view_name": "ColormakerRegistryView",
       "layout": "IPY_MODEL_16aac5ddbabf488eb8fa623398b14590",
       "tabbable": null,
       "tooltip": null
      }
     }
    },
    "version_major": 2,
    "version_minor": 0
   }
  }
 },
 "nbformat": 4,
 "nbformat_minor": 4
}
