{
 "cells": [
  {
   "cell_type": "markdown",
   "metadata": {},
   "source": [
    "# Modifying a SMIRNOFF force field\n",
    "\n",
    "In this example, we'll parameterize a ligand automatically, and then play with its parameters to demonstrate the Toolkit's ability to facilitate force field optimization. For each modification, we'll calculate the energy for the original conformation, and then minimize the energy and visualize the result."
   ]
  },
  {
   "cell_type": "code",
   "execution_count": 1,
   "metadata": {
    "execution": {
     "iopub.execute_input": "2023-07-05T09:33:37.131343Z",
     "iopub.status.busy": "2023-07-05T09:33:37.130805Z",
     "iopub.status.idle": "2023-07-05T09:33:37.910903Z",
     "shell.execute_reply": "2023-07-05T09:33:37.910032Z"
    }
   },
   "outputs": [],
   "source": [
    "from copy import deepcopy\n",
    "\n",
    "from openff.units import unit\n",
    "from openff.units.openmm import from_openmm, to_openmm\n",
    "from openmm import LangevinIntegrator, app\n",
    "from openmm import unit as openmm_unit\n",
    "\n",
    "import openff.toolkit.typing.engines.smirnoff.parameters as offtk_parameters\n",
    "from openff.toolkit import ForceField, Molecule"
   ]
  },
  {
   "cell_type": "markdown",
   "metadata": {},
   "source": [
    "We're going to do a lot of changing a parameter and then visualising what happened, so let's define a convenience function to do just that"
   ]
  },
  {
   "cell_type": "code",
   "execution_count": 2,
   "metadata": {
    "execution": {
     "iopub.execute_input": "2023-07-05T09:33:37.917188Z",
     "iopub.status.busy": "2023-07-05T09:33:37.915527Z",
     "iopub.status.idle": "2023-07-05T09:33:37.924618Z",
     "shell.execute_reply": "2023-07-05T09:33:37.923863Z"
    }
   },
   "outputs": [],
   "source": [
    "def minimize_and_visualize(molecule, forcefield):\n",
    "    # Sort out our input data\n",
    "    mol_topology = molecule.to_topology()\n",
    "    mol_system = forcefield.create_openmm_system(\n",
    "        mol_topology,\n",
    "        charge_from_molecules=[molecule],\n",
    "    )\n",
    "\n",
    "    # Set up the minimization and point calculation\n",
    "    integrator = LangevinIntegrator(\n",
    "        300 * openmm_unit.kelvin,\n",
    "        1 / openmm_unit.picosecond,\n",
    "        0.002 * openmm_unit.picoseconds,\n",
    "    )\n",
    "    simulation = app.Simulation(mol_topology.to_openmm(), mol_system, integrator)\n",
    "    simulation.context.setPositions(to_openmm(molecule.conformers[0]))\n",
    "\n",
    "    # Get the initial energy\n",
    "    initial_potential = simulation.context.getState(getEnergy=True).getPotentialEnergy()\n",
    "\n",
    "    # Energy minimize\n",
    "    simulation.minimizeEnergy()\n",
    "    minimized_state = simulation.context.getState(getPositions=True, getEnergy=True)\n",
    "    minimized_potential = minimized_state.getPotentialEnergy()\n",
    "    minimized_coords = from_openmm(minimized_state.getPositions(asNumpy=True))\n",
    "\n",
    "    # Visualize\n",
    "    vis_mol = deepcopy(molecule)\n",
    "    vis_mol.conformers[0] = minimized_coords\n",
    "    view = vis_mol.visualize(backend=\"nglview\")\n",
    "    print(\n",
    "        f\"Initial energy is {initial_potential.format('%0.1F')};\",\n",
    "        f\"Minimized energy is {minimized_potential.format('%0.1F')}\",\n",
    "    )\n",
    "    return view"
   ]
  },
  {
   "cell_type": "markdown",
   "metadata": {},
   "source": [
    "## Getting to know you — the molecule\n",
    "\n",
    "This \"ligand\" is a modified version of the molecule we introduced in the Toolkit Showcase. It's just been altered for a slightly more exciting example here. This also lets us demonstrate constructing a `Molecule` from a SMILES string!"
   ]
  },
  {
   "cell_type": "code",
   "execution_count": 3,
   "metadata": {
    "execution": {
     "iopub.execute_input": "2023-07-05T09:33:37.930121Z",
     "iopub.status.busy": "2023-07-05T09:33:37.928686Z",
     "iopub.status.idle": "2023-07-05T09:33:38.638169Z",
     "shell.execute_reply": "2023-07-05T09:33:38.637314Z"
    },
    "tags": []
   },
   "outputs": [],
   "source": [
    "ligand_smiles = \"CC(C)(C)c1c(O)c(O)c2c(c1O)[C@H]1OCCC[C@H]1[C@H](c1cc(O)c(O)c(F)c1)N2\"\n",
    "ligand = Molecule.from_smiles(ligand_smiles)\n",
    "ligand.generate_conformers(n_conformers=1)\n",
    "force_field = ForceField(\"openff-2.0.0.offxml\")"
   ]
  },
  {
   "cell_type": "markdown",
   "metadata": {},
   "source": [
    "Computing charges is expensive, and we're going to be changing the force field a lot, so we can save time by computing them just once and caching them.\n",
    "\n",
    "\n",
    "<div class=\"alert alert-info\" style=\"max-width: 700px; margin-left: auto; margin-right: auto;\">\n",
    "    ℹ️ Note that when we call <code>create_openmm_system</code> above we pass\n",
    "    in the charges with the <code>charge_from_molecules</code> argument!\n",
    "</div>"
   ]
  },
  {
   "cell_type": "code",
   "execution_count": 4,
   "metadata": {
    "execution": {
     "iopub.execute_input": "2023-07-05T09:33:38.644772Z",
     "iopub.status.busy": "2023-07-05T09:33:38.643375Z",
     "iopub.status.idle": "2023-07-05T09:35:11.660107Z",
     "shell.execute_reply": "2023-07-05T09:35:11.659183Z"
    }
   },
   "outputs": [
    {
     "data": {
      "application/vnd.jupyter.widget-view+json": {
       "model_id": "5d68060835e24a32bace96e81a9d39c8",
       "version_major": 2,
       "version_minor": 0
      },
      "text/plain": []
     },
     "metadata": {},
     "output_type": "display_data"
    }
   ],
   "source": [
    "ligand.partial_charges = force_field.get_partial_charges(ligand)"
   ]
  },
  {
   "cell_type": "markdown",
   "metadata": {},
   "source": [
    "### The ligand, visualised\n",
    "\n",
    "Let's take a close look at the ligand and decide what we want to modify. We'll label the atoms with their indexes so we can identify them later"
   ]
  },
  {
   "cell_type": "code",
   "execution_count": 5,
   "metadata": {
    "execution": {
     "iopub.execute_input": "2023-07-05T09:35:11.666533Z",
     "iopub.status.busy": "2023-07-05T09:35:11.664948Z",
     "iopub.status.idle": "2023-07-05T09:35:12.196944Z",
     "shell.execute_reply": "2023-07-05T09:35:12.195894Z"
    }
   },
   "outputs": [
    {
     "name": "stdout",
     "output_type": "stream",
     "text": [
      "Initial energy is 450.2 kJ/mol; Minimized energy is 136.0 kJ/mol\n"
     ]
    },
    {
     "data": {
      "application/vnd.jupyter.widget-view+json": {
       "model_id": "4bfb5a37a26648368b866d45d2ea36de",
       "version_major": 2,
       "version_minor": 0
      },
      "text/plain": [
       "NGLWidget()"
      ]
     },
     "metadata": {},
     "output_type": "display_data"
    }
   ],
   "source": [
    "view = minimize_and_visualize(ligand, force_field)\n",
    "view.add_label(label_type=\"atomindex\", color=\"black\", attachment=\"middle-center\")\n",
    "view"
   ]
  },
  {
   "cell_type": "markdown",
   "metadata": {},
   "source": [
    "## Getting to know all about you — Investigating assigned parameters\n",
    "\n",
    "Let's start with something simple — lengthening the bond to the fluorine. We can use `ForceField.label_molecules` to identify the appropriate parameters:"
   ]
  },
  {
   "cell_type": "code",
   "execution_count": 6,
   "metadata": {
    "execution": {
     "iopub.execute_input": "2023-07-05T09:35:12.201463Z",
     "iopub.status.busy": "2023-07-05T09:35:12.200914Z",
     "iopub.status.idle": "2023-07-05T09:35:12.349519Z",
     "shell.execute_reply": "2023-07-05T09:35:12.348696Z"
    }
   },
   "outputs": [
    {
     "data": {
      "text/plain": [
       "[{'Constraints': <openff.toolkit.topology.topology.ValenceDict at 0x7ff81a313a90>,\n",
       "  'Bonds': <openff.toolkit.topology.topology.ValenceDict at 0x7ff81a313b20>,\n",
       "  'Angles': <openff.toolkit.topology.topology.ValenceDict at 0x7ff81a600130>,\n",
       "  'ProperTorsions': <openff.toolkit.topology.topology.ValenceDict at 0x7ff81a40e8f0>,\n",
       "  'ImproperTorsions': <openff.toolkit.topology.topology.ImproperDict at 0x7ff81a5f0790>,\n",
       "  'vdW': <openff.toolkit.topology.topology.ValenceDict at 0x7ff81a442e30>,\n",
       "  'Electrostatics': <openff.toolkit.topology.topology.ValenceDict at 0x7ff81a441630>,\n",
       "  'LibraryCharges': {},\n",
       "  'ToolkitAM1BCC': <openff.toolkit.topology.topology.ValenceDict at 0x7ff81a442f50>}]"
      ]
     },
     "execution_count": 6,
     "metadata": {},
     "output_type": "execute_result"
    }
   ],
   "source": [
    "ff_applied_parameters = force_field.label_molecules(ligand.to_topology())\n",
    "ff_applied_parameters"
   ]
  },
  {
   "cell_type": "markdown",
   "metadata": {},
   "source": [
    "`label_molecules()` returns a list of the molecules that can be parameterized from the arguments. It returns them as dictionaries that give us access to the `ForceField` parameters that are used for the molecule. Since we're only passing in a single molecule, `ff_applied_parameters` is a list of one element. We can see the bonds that are used for the ligand by converting the appropriate `ValenceDict` to a regular dictionary:"
   ]
  },
  {
   "cell_type": "code",
   "execution_count": 7,
   "metadata": {
    "execution": {
     "iopub.execute_input": "2023-07-05T09:35:12.356072Z",
     "iopub.status.busy": "2023-07-05T09:35:12.354144Z",
     "iopub.status.idle": "2023-07-05T09:35:12.392516Z",
     "shell.execute_reply": "2023-07-05T09:35:12.391688Z"
    }
   },
   "outputs": [
    {
     "data": {
      "text/plain": [
       "{(0,\n",
       "  1): <BondType with smirks: [#6X4:1]-[#6X4:2]  id: b1  length: 1.52190126495 angstrom  k: 529.2429715351 kilocalorie / angstrom ** 2 / mole  >,\n",
       " (0,\n",
       "  30): <BondType with smirks: [#6X4:1]-[#1:2]  id: b84  length: 1.093899492634 angstrom  k: 740.0934137725 kilocalorie / angstrom ** 2 / mole  >,\n",
       " (0,\n",
       "  31): <BondType with smirks: [#6X4:1]-[#1:2]  id: b84  length: 1.093899492634 angstrom  k: 740.0934137725 kilocalorie / angstrom ** 2 / mole  >,\n",
       " (0,\n",
       "  32): <BondType with smirks: [#6X4:1]-[#1:2]  id: b84  length: 1.093899492634 angstrom  k: 740.0934137725 kilocalorie / angstrom ** 2 / mole  >,\n",
       " (1,\n",
       "  2): <BondType with smirks: [#6X4:1]-[#6X4:2]  id: b1  length: 1.52190126495 angstrom  k: 529.2429715351 kilocalorie / angstrom ** 2 / mole  >,\n",
       " (1,\n",
       "  3): <BondType with smirks: [#6X4:1]-[#6X4:2]  id: b1  length: 1.52190126495 angstrom  k: 529.2429715351 kilocalorie / angstrom ** 2 / mole  >,\n",
       " (1,\n",
       "  4): <BondType with smirks: [#6X4:1]-[#6X3:2]  id: b2  length: 1.498646816465 angstrom  k: 579.4762652679 kilocalorie / angstrom ** 2 / mole  >,\n",
       " (2,\n",
       "  33): <BondType with smirks: [#6X4:1]-[#1:2]  id: b84  length: 1.093899492634 angstrom  k: 740.0934137725 kilocalorie / angstrom ** 2 / mole  >,\n",
       " (2,\n",
       "  34): <BondType with smirks: [#6X4:1]-[#1:2]  id: b84  length: 1.093899492634 angstrom  k: 740.0934137725 kilocalorie / angstrom ** 2 / mole  >,\n",
       " (2,\n",
       "  35): <BondType with smirks: [#6X4:1]-[#1:2]  id: b84  length: 1.093899492634 angstrom  k: 740.0934137725 kilocalorie / angstrom ** 2 / mole  >,\n",
       " (3,\n",
       "  36): <BondType with smirks: [#6X4:1]-[#1:2]  id: b84  length: 1.093899492634 angstrom  k: 740.0934137725 kilocalorie / angstrom ** 2 / mole  >,\n",
       " (3,\n",
       "  37): <BondType with smirks: [#6X4:1]-[#1:2]  id: b84  length: 1.093899492634 angstrom  k: 740.0934137725 kilocalorie / angstrom ** 2 / mole  >,\n",
       " (3,\n",
       "  38): <BondType with smirks: [#6X4:1]-[#1:2]  id: b84  length: 1.093899492634 angstrom  k: 740.0934137725 kilocalorie / angstrom ** 2 / mole  >,\n",
       " (4,\n",
       "  5): <BondType with smirks: [#6X3:1]:[#6X3:2]  id: b5  length: 1.387193227181 angstrom  k: 721.5704889544 kilocalorie / angstrom ** 2 / mole  >,\n",
       " (4,\n",
       "  11): <BondType with smirks: [#6X3:1]:[#6X3:2]  id: b5  length: 1.387193227181 angstrom  k: 721.5704889544 kilocalorie / angstrom ** 2 / mole  >,\n",
       " (5,\n",
       "  6): <BondType with smirks: [#6X3:1]-[#8X2H1:2]  id: b18  length: 1.369745182308 angstrom  k: 771.5209191174 kilocalorie / angstrom ** 2 / mole  >,\n",
       " (5,\n",
       "  7): <BondType with smirks: [#6X3:1]:[#6X3:2]  id: b5  length: 1.387193227181 angstrom  k: 721.5704889544 kilocalorie / angstrom ** 2 / mole  >,\n",
       " (6,\n",
       "  39): <BondType with smirks: [#8:1]-[#1:2]  id: b88  length: 0.9716763312559 angstrom  k: 1087.053566377 kilocalorie / angstrom ** 2 / mole  >,\n",
       " (7,\n",
       "  8): <BondType with smirks: [#6X3:1]-[#8X2H1:2]  id: b18  length: 1.369745182308 angstrom  k: 771.5209191174 kilocalorie / angstrom ** 2 / mole  >,\n",
       " (7,\n",
       "  9): <BondType with smirks: [#6X3:1]:[#6X3:2]  id: b5  length: 1.387193227181 angstrom  k: 721.5704889544 kilocalorie / angstrom ** 2 / mole  >,\n",
       " (8,\n",
       "  40): <BondType with smirks: [#8:1]-[#1:2]  id: b88  length: 0.9716763312559 angstrom  k: 1087.053566377 kilocalorie / angstrom ** 2 / mole  >,\n",
       " (9,\n",
       "  10): <BondType with smirks: [#6X3:1]:[#6X3:2]  id: b5  length: 1.387193227181 angstrom  k: 721.5704889544 kilocalorie / angstrom ** 2 / mole  >,\n",
       " (9,\n",
       "  29): <BondType with smirks: [#6X3:1]-[#7X3:2]  id: b8  length: 1.390160554689 angstrom  k: 780.0710937701 kilocalorie / angstrom ** 2 / mole  >,\n",
       " (10,\n",
       "  11): <BondType with smirks: [#6X3:1]:[#6X3:2]  id: b5  length: 1.387193227181 angstrom  k: 721.5704889544 kilocalorie / angstrom ** 2 / mole  >,\n",
       " (10,\n",
       "  13): <BondType with smirks: [#6X4:1]-[#6X3:2]  id: b2  length: 1.498646816465 angstrom  k: 579.4762652679 kilocalorie / angstrom ** 2 / mole  >,\n",
       " (11,\n",
       "  12): <BondType with smirks: [#6X3:1]-[#8X2H1:2]  id: b18  length: 1.369745182308 angstrom  k: 771.5209191174 kilocalorie / angstrom ** 2 / mole  >,\n",
       " (12,\n",
       "  41): <BondType with smirks: [#8:1]-[#1:2]  id: b88  length: 0.9716763312559 angstrom  k: 1087.053566377 kilocalorie / angstrom ** 2 / mole  >,\n",
       " (13,\n",
       "  14): <BondType with smirks: [#6X4:1]-[#8X2H0:2]  id: b16  length: 1.425895053732 angstrom  k: 733.4817683494 kilocalorie / angstrom ** 2 / mole  >,\n",
       " (13,\n",
       "  18): <BondType with smirks: [#6X4:1]-[#6X4:2]  id: b1  length: 1.52190126495 angstrom  k: 529.2429715351 kilocalorie / angstrom ** 2 / mole  >,\n",
       " (13,\n",
       "  42): <BondType with smirks: [#6X4:1]-[#1:2]  id: b84  length: 1.093899492634 angstrom  k: 740.0934137725 kilocalorie / angstrom ** 2 / mole  >,\n",
       " (14,\n",
       "  15): <BondType with smirks: [#6X4:1]-[#8X2H0:2]  id: b16  length: 1.425895053732 angstrom  k: 733.4817683494 kilocalorie / angstrom ** 2 / mole  >,\n",
       " (15,\n",
       "  16): <BondType with smirks: [#6X4:1]-[#6X4:2]  id: b1  length: 1.52190126495 angstrom  k: 529.2429715351 kilocalorie / angstrom ** 2 / mole  >,\n",
       " (15,\n",
       "  43): <BondType with smirks: [#6X4:1]-[#1:2]  id: b84  length: 1.093899492634 angstrom  k: 740.0934137725 kilocalorie / angstrom ** 2 / mole  >,\n",
       " (15,\n",
       "  44): <BondType with smirks: [#6X4:1]-[#1:2]  id: b84  length: 1.093899492634 angstrom  k: 740.0934137725 kilocalorie / angstrom ** 2 / mole  >,\n",
       " (16,\n",
       "  17): <BondType with smirks: [#6X4:1]-[#6X4:2]  id: b1  length: 1.52190126495 angstrom  k: 529.2429715351 kilocalorie / angstrom ** 2 / mole  >,\n",
       " (16,\n",
       "  45): <BondType with smirks: [#6X4:1]-[#1:2]  id: b84  length: 1.093899492634 angstrom  k: 740.0934137725 kilocalorie / angstrom ** 2 / mole  >,\n",
       " (16,\n",
       "  46): <BondType with smirks: [#6X4:1]-[#1:2]  id: b84  length: 1.093899492634 angstrom  k: 740.0934137725 kilocalorie / angstrom ** 2 / mole  >,\n",
       " (17,\n",
       "  18): <BondType with smirks: [#6X4:1]-[#6X4:2]  id: b1  length: 1.52190126495 angstrom  k: 529.2429715351 kilocalorie / angstrom ** 2 / mole  >,\n",
       " (17,\n",
       "  47): <BondType with smirks: [#6X4:1]-[#1:2]  id: b84  length: 1.093899492634 angstrom  k: 740.0934137725 kilocalorie / angstrom ** 2 / mole  >,\n",
       " (17,\n",
       "  48): <BondType with smirks: [#6X4:1]-[#1:2]  id: b84  length: 1.093899492634 angstrom  k: 740.0934137725 kilocalorie / angstrom ** 2 / mole  >,\n",
       " (18,\n",
       "  19): <BondType with smirks: [#6X4:1]-[#6X4:2]  id: b1  length: 1.52190126495 angstrom  k: 529.2429715351 kilocalorie / angstrom ** 2 / mole  >,\n",
       " (18,\n",
       "  49): <BondType with smirks: [#6X4:1]-[#1:2]  id: b84  length: 1.093899492634 angstrom  k: 740.0934137725 kilocalorie / angstrom ** 2 / mole  >,\n",
       " (19,\n",
       "  20): <BondType with smirks: [#6X4:1]-[#6X3:2]  id: b2  length: 1.498646816465 angstrom  k: 579.4762652679 kilocalorie / angstrom ** 2 / mole  >,\n",
       " (19,\n",
       "  29): <BondType with smirks: [#6:1]-[#7:2]  id: b7  length: 1.464762957261 angstrom  k: 732.6809445917 kilocalorie / angstrom ** 2 / mole  >,\n",
       " (19,\n",
       "  50): <BondType with smirks: [#6X4:1]-[#1:2]  id: b84  length: 1.093899492634 angstrom  k: 740.0934137725 kilocalorie / angstrom ** 2 / mole  >,\n",
       " (20,\n",
       "  21): <BondType with smirks: [#6X3:1]:[#6X3:2]  id: b5  length: 1.387193227181 angstrom  k: 721.5704889544 kilocalorie / angstrom ** 2 / mole  >,\n",
       " (20,\n",
       "  28): <BondType with smirks: [#6X3:1]:[#6X3:2]  id: b5  length: 1.387193227181 angstrom  k: 721.5704889544 kilocalorie / angstrom ** 2 / mole  >,\n",
       " (21,\n",
       "  22): <BondType with smirks: [#6X3:1]:[#6X3:2]  id: b5  length: 1.387193227181 angstrom  k: 721.5704889544 kilocalorie / angstrom ** 2 / mole  >,\n",
       " (21,\n",
       "  51): <BondType with smirks: [#6X3:1]-[#1:2]  id: b85  length: 1.085358495916 angstrom  k: 794.5091579238 kilocalorie / angstrom ** 2 / mole  >,\n",
       " (22,\n",
       "  23): <BondType with smirks: [#6X3:1]-[#8X2H1:2]  id: b18  length: 1.369745182308 angstrom  k: 771.5209191174 kilocalorie / angstrom ** 2 / mole  >,\n",
       " (22,\n",
       "  24): <BondType with smirks: [#6X3:1]:[#6X3:2]  id: b5  length: 1.387193227181 angstrom  k: 721.5704889544 kilocalorie / angstrom ** 2 / mole  >,\n",
       " (23,\n",
       "  52): <BondType with smirks: [#8:1]-[#1:2]  id: b88  length: 0.9716763312559 angstrom  k: 1087.053566377 kilocalorie / angstrom ** 2 / mole  >,\n",
       " (24,\n",
       "  25): <BondType with smirks: [#6X3:1]-[#8X2H1:2]  id: b18  length: 1.369745182308 angstrom  k: 771.5209191174 kilocalorie / angstrom ** 2 / mole  >,\n",
       " (24,\n",
       "  26): <BondType with smirks: [#6X3:1]:[#6X3:2]  id: b5  length: 1.387193227181 angstrom  k: 721.5704889544 kilocalorie / angstrom ** 2 / mole  >,\n",
       " (25,\n",
       "  53): <BondType with smirks: [#8:1]-[#1:2]  id: b88  length: 0.9716763312559 angstrom  k: 1087.053566377 kilocalorie / angstrom ** 2 / mole  >,\n",
       " (26,\n",
       "  27): <BondType with smirks: [#6:1]-[#9:2]  id: b68  length: 1.352926211207 angstrom  k: 808.7710029616 kilocalorie / angstrom ** 2 / mole  >,\n",
       " (26,\n",
       "  28): <BondType with smirks: [#6X3:1]:[#6X3:2]  id: b5  length: 1.387193227181 angstrom  k: 721.5704889544 kilocalorie / angstrom ** 2 / mole  >,\n",
       " (28,\n",
       "  54): <BondType with smirks: [#6X3:1]-[#1:2]  id: b85  length: 1.085358495916 angstrom  k: 794.5091579238 kilocalorie / angstrom ** 2 / mole  >,\n",
       " (29,\n",
       "  55): <BondType with smirks: [#7:1]-[#1:2]  id: b87  length: 1.019481865027 angstrom  k: 1010.288992386 kilocalorie / angstrom ** 2 / mole  >}"
      ]
     },
     "execution_count": 7,
     "metadata": {},
     "output_type": "execute_result"
    }
   ],
   "source": [
    "dict(ff_applied_parameters[0][\"Bonds\"])"
   ]
  },
  {
   "cell_type": "markdown",
   "metadata": {},
   "source": [
    "Take a look at the first entry as an example. The dictionary is keyed by the atomic indices of the particles in the molecule that the parameter applies to, and the values are special types that specify the parameters from the force field. We'll look in more detail at one of these parameters in a second."
   ]
  },
  {
   "cell_type": "markdown",
   "metadata": {},
   "source": [
    "## A little goes a long way — Changing parameters"
   ]
  },
  {
   "cell_type": "markdown",
   "metadata": {},
   "source": [
    "We already decided we wanted to adjust the torsion parameter to the hydroxyl group, so let's do that. We know parameters are indexed by the atoms they've been applied to, so we can look at our labelled widget above and pull out exactly the parameter we care about:"
   ]
  },
  {
   "cell_type": "code",
   "execution_count": 8,
   "metadata": {
    "execution": {
     "iopub.execute_input": "2023-07-05T09:35:12.398137Z",
     "iopub.status.busy": "2023-07-05T09:35:12.396830Z",
     "iopub.status.idle": "2023-07-05T09:35:12.409484Z",
     "shell.execute_reply": "2023-07-05T09:35:12.408633Z"
    }
   },
   "outputs": [
    {
     "name": "stdout",
     "output_type": "stream",
     "text": [
      "The fluorine-carbon bond is between atoms (27, 26)\n"
     ]
    },
    {
     "data": {
      "text/plain": [
       "<BondType with smirks: [#6:1]-[#9:2]  id: b68  length: 1.352926211207 angstrom  k: 808.7710029616 kilocalorie / angstrom ** 2 / mole  >"
      ]
     },
     "execution_count": 8,
     "metadata": {},
     "output_type": "execute_result"
    }
   ],
   "source": [
    "fluorine = [atom for atom in ligand.atoms if atom.symbol == \"F\"][0]\n",
    "carbon = [neighbor_atom for neighbor_atom in fluorine.bonded_atoms][0]\n",
    "fluorine_carbon_bond_indices = (\n",
    "    fluorine.molecule_atom_index,\n",
    "    carbon.molecule_atom_index,\n",
    ")\n",
    "print(\"The fluorine-carbon bond is between atoms\", fluorine_carbon_bond_indices)\n",
    "\n",
    "ff_applied_parameters[0][\"Bonds\"][fluorine_carbon_bond_indices]"
   ]
  },
  {
   "cell_type": "markdown",
   "metadata": {},
   "source": [
    "<div class=\"alert alert-success\" style=\"max-width: 700px; margin-left: auto; margin-right: auto;\">\n",
    "    📗 We have to get the indices of these atoms out programmatically because our SMILES code doesn't specify atom indices, and so you might have different indices to us. Take a look at the widget above and try manually specifying atom indices to get the parameters of a bond! \n",
    "</div>"
   ]
  },
  {
   "cell_type": "markdown",
   "metadata": {},
   "source": [
    "Let's dig into this type a bit more. It has a few attributes in its textual representation. The first of these is maybe the most important: the `smirks` attribute, which tells the Toolkit which atoms this parameter applies to. SMIRKS is a chemical pattern matching format; think of it as the result of a [regular expression](https://en.wikipedia.org/wiki/Regular_expression) having a baby with a [SMILES string](https://en.wikipedia.org/wiki/Simplified_molecular-input_line-entry_system). This one is very simple: it is just a Carbon atom (`[#6:1]`, atomic number 6) singly bonded (`-`) to a Fluorine atom (`[#9:2]`, atomic number 9). The numbers after the colons just label the atoms — this is a bond, so it has two atoms labelled. This is helpful for when we want to match against atoms that aren't a part of the parameter; we just don't label the additional atoms. We'll use this trick later.\n",
    "\n",
    "The other important attributes provide the actual parameterization, and so are different for different kinds of parameters. For proper torsions, this is the periodicity of the sinewave that describes the torsion, as well as its phase and amplitude (or force constant, $k$). These parameter values are similar to the equivalent description in most other force field formats.\n",
    "\n",
    "\n",
    "<div class=\"alert alert-info\" style=\"max-width: 700px; margin-left: auto; margin-right: auto;\">\n",
    "    <p> ℹ️ The SMIRKS specification is available online:</p>\n",
    "    <p style=\"margin-left:3em;\">\n",
    "        <a href=https://www.daylight.com/dayhtml/doc/theory/theory.smirks.html>\n",
    "            https://www.daylight.com/dayhtml/doc/theory/theory.smirks.html\n",
    "        </a>\n",
    "    </p>\n",
    "    <p style=\"margin-left:1.5em;\">\n",
    "        It is closely related to the SMARTS molecular pattern matching language, \n",
    "        whose specification is probably more useful for working with the Toolkit\n",
    "        and is also available online:\n",
    "    </p>\n",
    "    <p style=\"margin-left:3em;\">\n",
    "        <a href = https://www.daylight.com/dayhtml/doc/theory/theory.smarts.html>\n",
    "            https://www.daylight.com/dayhtml/doc/theory/theory.smarts.html\n",
    "        </a>\n",
    "    </p>\n",
    "</div>\n",
    "\n",
    "\n",
    "### Modifying a parameter\n",
    "\n",
    "Unfortunately we can't just modify this parameter and see the results reflected in the parameterization. We need to get the appropriate parameter from the force field and modify it there."
   ]
  },
  {
   "cell_type": "code",
   "execution_count": 9,
   "metadata": {
    "execution": {
     "iopub.execute_input": "2023-07-05T09:35:12.415360Z",
     "iopub.status.busy": "2023-07-05T09:35:12.413879Z",
     "iopub.status.idle": "2023-07-05T09:35:12.420227Z",
     "shell.execute_reply": "2023-07-05T09:35:12.419463Z"
    }
   },
   "outputs": [],
   "source": [
    "fluorine_bond = force_field[\"Bonds\"].parameters[\"[#6:1]-[#9:2]\"]\n",
    "fluorine_bond.length = 10 * unit.angstrom"
   ]
  },
  {
   "cell_type": "markdown",
   "metadata": {},
   "source": [
    "Here, we've selected the proper torsion with the SMIRKS code we found earlier, and changed its force constant by an order of magnitude in the opposite direction! Let's see what we've wrought:"
   ]
  },
  {
   "cell_type": "code",
   "execution_count": 10,
   "metadata": {
    "execution": {
     "iopub.execute_input": "2023-07-05T09:35:12.426211Z",
     "iopub.status.busy": "2023-07-05T09:35:12.424805Z",
     "iopub.status.idle": "2023-07-05T09:35:12.951476Z",
     "shell.execute_reply": "2023-07-05T09:35:12.950490Z"
    }
   },
   "outputs": [
    {
     "name": "stdout",
     "output_type": "stream",
     "text": [
      "Initial energy is 126881.2 kJ/mol; Minimized energy is 151.7 kJ/mol\n"
     ]
    },
    {
     "data": {
      "application/vnd.jupyter.widget-view+json": {
       "model_id": "0c5849948fbd4238ab68a9a4223d2e42",
       "version_major": 2,
       "version_minor": 0
      },
      "text/plain": [
       "NGLWidget()"
      ]
     },
     "metadata": {},
     "output_type": "display_data"
    }
   ],
   "source": [
    "minimize_and_visualize(ligand, force_field)"
   ]
  },
  {
   "cell_type": "markdown",
   "metadata": {},
   "source": [
    "Turns out Pinocchio was a real molecule all along!\n",
    "\n",
    "### Parameters affecting multiple atom groups\n",
    "\n",
    "Ok, that was fun, but it's only one parameter; we could easily have made this change in the OpenMM `System` or a GROMACS ITP file or whatever. What's the toolkit really giving us here?\n",
    "\n",
    "Let's mess with all the H-X-H angles. And let's not get into SMIRKS this time, lets let the toolkit do the thinking:"
   ]
  },
  {
   "cell_type": "code",
   "execution_count": 11,
   "metadata": {
    "execution": {
     "iopub.execute_input": "2023-07-05T09:35:12.955762Z",
     "iopub.status.busy": "2023-07-05T09:35:12.955220Z",
     "iopub.status.idle": "2023-07-05T09:35:13.096483Z",
     "shell.execute_reply": "2023-07-05T09:35:13.095704Z"
    }
   },
   "outputs": [
    {
     "name": "stdout",
     "output_type": "stream",
     "text": [
      "(30, 0, 31) <AngleType with smirks: [#1:1]-[#6X4:2]-[#1:3]  angle: 115.6030999533 degree  k: 97.55298529519 kilocalorie / mole / radian ** 2  id: a2  >\n",
      "(30, 0, 32) <AngleType with smirks: [#1:1]-[#6X4:2]-[#1:3]  angle: 115.6030999533 degree  k: 97.55298529519 kilocalorie / mole / radian ** 2  id: a2  >\n",
      "(31, 0, 32) <AngleType with smirks: [#1:1]-[#6X4:2]-[#1:3]  angle: 115.6030999533 degree  k: 97.55298529519 kilocalorie / mole / radian ** 2  id: a2  >\n",
      "(33, 2, 34) <AngleType with smirks: [#1:1]-[#6X4:2]-[#1:3]  angle: 115.6030999533 degree  k: 97.55298529519 kilocalorie / mole / radian ** 2  id: a2  >\n",
      "(33, 2, 35) <AngleType with smirks: [#1:1]-[#6X4:2]-[#1:3]  angle: 115.6030999533 degree  k: 97.55298529519 kilocalorie / mole / radian ** 2  id: a2  >\n",
      "(34, 2, 35) <AngleType with smirks: [#1:1]-[#6X4:2]-[#1:3]  angle: 115.6030999533 degree  k: 97.55298529519 kilocalorie / mole / radian ** 2  id: a2  >\n",
      "(36, 3, 37) <AngleType with smirks: [#1:1]-[#6X4:2]-[#1:3]  angle: 115.6030999533 degree  k: 97.55298529519 kilocalorie / mole / radian ** 2  id: a2  >\n",
      "(36, 3, 38) <AngleType with smirks: [#1:1]-[#6X4:2]-[#1:3]  angle: 115.6030999533 degree  k: 97.55298529519 kilocalorie / mole / radian ** 2  id: a2  >\n",
      "(37, 3, 38) <AngleType with smirks: [#1:1]-[#6X4:2]-[#1:3]  angle: 115.6030999533 degree  k: 97.55298529519 kilocalorie / mole / radian ** 2  id: a2  >\n",
      "(43, 15, 44) <AngleType with smirks: [#1:1]-[#6X4:2]-[#1:3]  angle: 115.6030999533 degree  k: 97.55298529519 kilocalorie / mole / radian ** 2  id: a2  >\n",
      "(45, 16, 46) <AngleType with smirks: [#1:1]-[#6X4:2]-[#1:3]  angle: 115.6030999533 degree  k: 97.55298529519 kilocalorie / mole / radian ** 2  id: a2  >\n",
      "(47, 17, 48) <AngleType with smirks: [#1:1]-[#6X4:2]-[#1:3]  angle: 115.6030999533 degree  k: 97.55298529519 kilocalorie / mole / radian ** 2  id: a2  >\n"
     ]
    }
   ],
   "source": [
    "ff_applied_parameters = force_field.label_molecules(ligand.to_topology())\n",
    "for atoms, parameter in ff_applied_parameters[0][\"Angles\"].items():\n",
    "    ele_1 = ligand.atoms[atoms[0]].symbol\n",
    "    ele_2 = ligand.atoms[atoms[1]].symbol\n",
    "    ele_3 = ligand.atoms[atoms[2]].symbol\n",
    "    if ele_1 == \"H\" and ele_3 == \"H\":\n",
    "        print(atoms, parameter)"
   ]
  },
  {
   "cell_type": "markdown",
   "metadata": {},
   "source": [
    "Wow, there's just one `smirks` parameter describing all of the H-X-H angles!\n",
    "\n",
    "<div class=\"alert alert-info\" style=\"max-width: 700px; margin-left: auto; margin-right: auto;\">\n",
    "    ℹ️ It's worth mentioning here that a force field might include multiple parameters with SMIRKS that match a particular group of atoms. When this happens, only the last parameter specified is applied. This allows force field authors to define general parameters first, and then override them with more specific parameters.\n",
    "</div>\n",
    "\n",
    "<div class=\"alert alert-success\" style=\"max-width: 700px; margin-left: auto; margin-right: auto;\">\n",
    "    📗 Convince yourself that this SMIRKS code matches all of the H-X-H angles in our molecule. What H-X-H angles would it not match?\n",
    "</div>\n"
   ]
  },
  {
   "cell_type": "code",
   "execution_count": 12,
   "metadata": {
    "execution": {
     "iopub.execute_input": "2023-07-05T09:35:13.102159Z",
     "iopub.status.busy": "2023-07-05T09:35:13.100814Z",
     "iopub.status.idle": "2023-07-05T09:35:13.668446Z",
     "shell.execute_reply": "2023-07-05T09:35:13.667588Z"
    }
   },
   "outputs": [
    {
     "name": "stdout",
     "output_type": "stream",
     "text": [
      "Initial energy is 129384.5 kJ/mol; Minimized energy is 144.8 kJ/mol\n"
     ]
    },
    {
     "data": {
      "application/vnd.jupyter.widget-view+json": {
       "model_id": "64cd559578984e53a8b1cb1b411edb76",
       "version_major": 2,
       "version_minor": 0
      },
      "text/plain": [
       "NGLWidget()"
      ]
     },
     "metadata": {},
     "output_type": "display_data"
    }
   ],
   "source": [
    "hxh_angle = force_field[\"Angles\"].parameters[\"[#1:1]-[#6X4:2]-[#1:3]\"]\n",
    "hxh_angle.angle = 50 * unit.degree\n",
    "\n",
    "minimize_and_visualize(ligand, force_field)"
   ]
  },
  {
   "cell_type": "markdown",
   "metadata": {},
   "source": [
    "That is not how a methyl group is supposed to look. Guess we did it right!"
   ]
  },
  {
   "cell_type": "markdown",
   "metadata": {},
   "source": [
    "## Introducing a new parameter\n",
    "\n",
    "Now let's get really crazy. I've always thought heteroatoms in rings looked a bit too comfortable, haven't you?\n",
    "\n",
    "Since we have two cyclic heteroatoms in our molecule with very different chemistries, there'll probably be two seperate parameters we need to modify. We can just pass the SMIRKS that come up for C-X-C angles to code that modifies the parameters directly, no need to manually copy it over. "
   ]
  },
  {
   "cell_type": "code",
   "execution_count": 13,
   "metadata": {
    "execution": {
     "iopub.execute_input": "2023-07-05T09:35:13.672636Z",
     "iopub.status.busy": "2023-07-05T09:35:13.672069Z",
     "iopub.status.idle": "2023-07-05T09:35:14.838568Z",
     "shell.execute_reply": "2023-07-05T09:35:14.837623Z"
    }
   },
   "outputs": [
    {
     "name": "stdout",
     "output_type": "stream",
     "text": [
      "(9, 29, 19) <AngleType with smirks: [*:1]~[#7X3$(*~[#6X3,#6X2,#7X2+0]):2]~[*:3]  angle: 117.3465570514 degree  k: 110.8436430155 kilocalorie / mole / radian ** 2  id: a20  >\n",
      "(13, 14, 15) <AngleType with smirks: [*:1]-[#8:2]-[*:3]  angle: 110.3538806181 degree  k: 130.181232192 kilocalorie / mole / radian ** 2  id: a28  >\n"
     ]
    },
    {
     "name": "stdout",
     "output_type": "stream",
     "text": [
      "Initial energy is 131195.3 kJ/mol; Minimized energy is 410.7 kJ/mol\n"
     ]
    },
    {
     "data": {
      "application/vnd.jupyter.widget-view+json": {
       "model_id": "705b92b2e7bd4e388af5f5f7f0e9908f",
       "version_major": 2,
       "version_minor": 0
      },
      "text/plain": [
       "NGLWidget()"
      ]
     },
     "metadata": {},
     "output_type": "display_data"
    }
   ],
   "source": [
    "ff_applied_parameters = force_field.label_molecules(ligand.to_topology())\n",
    "for atoms, parameter in ff_applied_parameters[0][\"Angles\"].items():\n",
    "    ele_1 = ligand.atoms[atoms[0]].symbol\n",
    "    ele_2 = ligand.atoms[atoms[1]].symbol\n",
    "    ele_3 = ligand.atoms[atoms[2]].symbol\n",
    "    if (ele_2 not in [\"C\", \"H\"]) and ele_1 == \"C\" and ele_3 == \"C\":\n",
    "        print(atoms, parameter)\n",
    "\n",
    "        smirks = parameter.smirks\n",
    "        heteroatom_angle = force_field[\"Angles\"].parameters[smirks]\n",
    "        # dihedral angles are undefined when linear, so let's not set to 180\n",
    "        heteroatom_angle.angle = 179 * unit.degree\n",
    "\n",
    "        # We'll need this later\n",
    "        if ele_2 == \"N\":\n",
    "            cyclic_nitrogen_smirks = smirks\n",
    "\n",
    "minimize_and_visualize(ligand, force_field)"
   ]
  },
  {
   "cell_type": "markdown",
   "metadata": {},
   "source": [
    "Oops! We didn't mean to make all the hydroxyl groups linear! One of our parameters must be applied to Oxygen both when its in a ring and in a hydroxyl group. Sure enough, the second SMIRKS code printed above (`[*:1]-[#8:2]-[*:3]`) matches any X-O-X angle! We'll have to define a new, more specific SMIRKS entry so we only capture the appropriate oxygen."
   ]
  },
  {
   "cell_type": "markdown",
   "metadata": {},
   "source": [
    "### The SMIRKS for our new parameter\n",
    "\n",
    "Our modified force field is getting a bit messy, so let's start again. We still want the nitrogen angle from before, so lets save that too"
   ]
  },
  {
   "cell_type": "code",
   "execution_count": 14,
   "metadata": {
    "execution": {
     "iopub.execute_input": "2023-07-05T09:35:14.843444Z",
     "iopub.status.busy": "2023-07-05T09:35:14.842898Z",
     "iopub.status.idle": "2023-07-05T09:35:15.369481Z",
     "shell.execute_reply": "2023-07-05T09:35:15.368620Z"
    }
   },
   "outputs": [],
   "source": [
    "force_field = ForceField(\"openff-2.0.0.offxml\")\n",
    "cyclic_nitrogen_angle = force_field[\"Angles\"].parameters[cyclic_nitrogen_smirks]\n",
    "cyclic_nitrogen_angle.angle = 179 * unit.degree"
   ]
  },
  {
   "cell_type": "markdown",
   "metadata": {},
   "source": [
    "Now we need to define a new SMIRKS entry, specific to oxygens in a ring. We can be as specific as we like, as our new parameter will be at the end of the force field and so will override any conflicting parameters. Let's define our smirks to match any singly-bonded C-O-C angle in a six-membered pyran ring.\n",
    "\n",
    "First, we'll write down the SMILES for a pyran:\n",
    "\n",
    "`C1CCOCC1`\n",
    "\n",
    "The first carbon has a digit following it, `C1`, which allows us to close the ring later. Then we have two more carbons, `CC`, an oxygen, `O`, and the final two carbons, `CC`. Finally, we close the ring by repeating the same digit from before, `1`. Lets check that this produces the chemical we expect before we move on:"
   ]
  },
  {
   "cell_type": "code",
   "execution_count": 15,
   "metadata": {
    "execution": {
     "iopub.execute_input": "2023-07-05T09:35:15.375721Z",
     "iopub.status.busy": "2023-07-05T09:35:15.374275Z",
     "iopub.status.idle": "2023-07-05T09:35:15.398852Z",
     "shell.execute_reply": "2023-07-05T09:35:15.398065Z"
    }
   },
   "outputs": [
    {
     "data": {
      "image/svg+xml": [
       "<svg xmlns=\"http://www.w3.org/2000/svg\" xmlns:rdkit=\"http://www.rdkit.org/xml\" xmlns:xlink=\"http://www.w3.org/1999/xlink\" version=\"1.1\" baseProfile=\"full\" xml:space=\"preserve\" width=\"500px\" height=\"300px\" viewBox=\"0 0 500 300\">\n",
       "<!-- END OF HEADER -->\n",
       "<rect style=\"opacity:1.0;fill:#FFFFFF;stroke:none\" width=\"500.0\" height=\"300.0\" x=\"0.0\" y=\"0.0\"> </rect>\n",
       "<path class=\"bond-0 atom-0 atom-1\" d=\"M 309.7,183.3 L 309.9,114.1\" style=\"fill:none;fill-rule:evenodd;stroke:#000000;stroke-width:2.0px;stroke-linecap:butt;stroke-linejoin:miter;stroke-opacity:1\"/>\n",
       "<path class=\"bond-1 atom-1 atom-2\" d=\"M 309.9,114.1 L 249.9,79.6\" style=\"fill:none;fill-rule:evenodd;stroke:#000000;stroke-width:2.0px;stroke-linecap:butt;stroke-linejoin:miter;stroke-opacity:1\"/>\n",
       "<path class=\"bond-2 atom-2 atom-3\" d=\"M 249.9,79.6 L 227.6,92.4\" style=\"fill:none;fill-rule:evenodd;stroke:#000000;stroke-width:2.0px;stroke-linecap:butt;stroke-linejoin:miter;stroke-opacity:1\"/>\n",
       "<path class=\"bond-2 atom-2 atom-3\" d=\"M 227.6,92.4 L 205.2,105.2\" style=\"fill:none;fill-rule:evenodd;stroke:#FF0000;stroke-width:2.0px;stroke-linecap:butt;stroke-linejoin:miter;stroke-opacity:1\"/>\n",
       "<path class=\"bond-3 atom-3 atom-4\" d=\"M 190.0,130.9 L 190.0,156.9\" style=\"fill:none;fill-rule:evenodd;stroke:#FF0000;stroke-width:2.0px;stroke-linecap:butt;stroke-linejoin:miter;stroke-opacity:1\"/>\n",
       "<path class=\"bond-3 atom-3 atom-4\" d=\"M 190.0,156.9 L 189.9,182.8\" style=\"fill:none;fill-rule:evenodd;stroke:#000000;stroke-width:2.0px;stroke-linecap:butt;stroke-linejoin:miter;stroke-opacity:1\"/>\n",
       "<path class=\"bond-4 atom-4 atom-5\" d=\"M 189.9,182.8 L 249.7,217.7\" style=\"fill:none;fill-rule:evenodd;stroke:#000000;stroke-width:2.0px;stroke-linecap:butt;stroke-linejoin:miter;stroke-opacity:1\"/>\n",
       "<path class=\"bond-5 atom-5 atom-0\" d=\"M 249.7,217.7 L 309.7,183.3\" style=\"fill:none;fill-rule:evenodd;stroke:#000000;stroke-width:2.0px;stroke-linecap:butt;stroke-linejoin:miter;stroke-opacity:1\"/>\n",
       "<path class=\"bond-6 atom-0 atom-6\" d=\"M 309.7,183.3 L 364.4,177.2\" style=\"fill:none;fill-rule:evenodd;stroke:#000000;stroke-width:2.0px;stroke-linecap:butt;stroke-linejoin:miter;stroke-opacity:1\"/>\n",
       "<path class=\"bond-7 atom-0 atom-7\" d=\"M 309.7,183.3 L 328.6,231.3\" style=\"fill:none;fill-rule:evenodd;stroke:#000000;stroke-width:2.0px;stroke-linecap:butt;stroke-linejoin:miter;stroke-opacity:1\"/>\n",
       "<path class=\"bond-8 atom-1 atom-8\" d=\"M 309.9,114.1 L 328.1,65.7\" style=\"fill:none;fill-rule:evenodd;stroke:#000000;stroke-width:2.0px;stroke-linecap:butt;stroke-linejoin:miter;stroke-opacity:1\"/>\n",
       "<path class=\"bond-9 atom-1 atom-9\" d=\"M 309.9,114.1 L 364.5,119.1\" style=\"fill:none;fill-rule:evenodd;stroke:#000000;stroke-width:2.0px;stroke-linecap:butt;stroke-linejoin:miter;stroke-opacity:1\"/>\n",
       "<path class=\"bond-10 atom-2 atom-10\" d=\"M 249.9,79.6 L 216.7,43.0\" style=\"fill:none;fill-rule:evenodd;stroke:#000000;stroke-width:2.0px;stroke-linecap:butt;stroke-linejoin:miter;stroke-opacity:1\"/>\n",
       "<path class=\"bond-11 atom-2 atom-11\" d=\"M 249.9,79.6 L 269.2,51.7\" style=\"fill:none;fill-rule:evenodd;stroke:#000000;stroke-width:2.0px;stroke-linecap:butt;stroke-linejoin:miter;stroke-opacity:1\"/>\n",
       "<path class=\"bond-12 atom-4 atom-12\" d=\"M 189.9,182.8 L 173.9,217.2\" style=\"fill:none;fill-rule:evenodd;stroke:#000000;stroke-width:2.0px;stroke-linecap:butt;stroke-linejoin:miter;stroke-opacity:1\"/>\n",
       "<path class=\"bond-13 atom-4 atom-13\" d=\"M 189.9,182.8 L 135.5,171.4\" style=\"fill:none;fill-rule:evenodd;stroke:#000000;stroke-width:2.0px;stroke-linecap:butt;stroke-linejoin:miter;stroke-opacity:1\"/>\n",
       "<path class=\"bond-14 atom-5 atom-14\" d=\"M 249.7,217.7 L 270.3,246.7\" style=\"fill:none;fill-rule:evenodd;stroke:#000000;stroke-width:2.0px;stroke-linecap:butt;stroke-linejoin:miter;stroke-opacity:1\"/>\n",
       "<path class=\"bond-15 atom-5 atom-15\" d=\"M 249.7,217.7 L 219.6,255.3\" style=\"fill:none;fill-rule:evenodd;stroke:#000000;stroke-width:2.0px;stroke-linecap:butt;stroke-linejoin:miter;stroke-opacity:1\"/>\n",
       "<path class=\"atom-3\" d=\"M 177.0 114.0 Q 177.0 107.2, 180.4 103.4 Q 183.8 99.6, 190.0 99.6 Q 196.3 99.6, 199.7 103.4 Q 203.0 107.2, 203.0 114.0 Q 203.0 120.9, 199.6 124.8 Q 196.2 128.7, 190.0 128.7 Q 183.8 128.7, 180.4 124.8 Q 177.0 120.9, 177.0 114.0 M 190.0 125.5 Q 194.4 125.5, 196.7 122.6 Q 199.0 119.7, 199.0 114.0 Q 199.0 108.4, 196.7 105.6 Q 194.4 102.8, 190.0 102.8 Q 185.7 102.8, 183.4 105.6 Q 181.0 108.4, 181.0 114.0 Q 181.0 119.7, 183.4 122.6 Q 185.7 125.5, 190.0 125.5 \" fill=\"#FF0000\"/>\n",
       "<path class=\"atom-6\" d=\"M 366.6 161.6 L 370.5 161.6 L 370.5 173.6 L 385.0 173.6 L 385.0 161.6 L 388.8 161.6 L 388.8 189.9 L 385.0 189.9 L 385.0 176.8 L 370.5 176.8 L 370.5 189.9 L 366.6 189.9 L 366.6 161.6 \" fill=\"#000000\"/>\n",
       "<path class=\"atom-7\" d=\"M 324.0 233.5 L 327.8 233.5 L 327.8 245.5 L 342.3 245.5 L 342.3 233.5 L 346.2 233.5 L 346.2 261.8 L 342.3 261.8 L 342.3 248.7 L 327.8 248.7 L 327.8 261.8 L 324.0 261.8 L 324.0 233.5 \" fill=\"#000000\"/>\n",
       "<path class=\"atom-8\" d=\"M 323.1 35.2 L 327.0 35.2 L 327.0 47.3 L 341.5 47.3 L 341.5 35.2 L 345.3 35.2 L 345.3 63.5 L 341.5 63.5 L 341.5 50.5 L 327.0 50.5 L 327.0 63.5 L 323.1 63.5 L 323.1 35.2 \" fill=\"#000000\"/>\n",
       "<path class=\"atom-9\" d=\"M 366.7 106.2 L 370.5 106.2 L 370.5 118.2 L 385.0 118.2 L 385.0 106.2 L 388.8 106.2 L 388.8 134.5 L 385.0 134.5 L 385.0 121.4 L 370.5 121.4 L 370.5 134.5 L 366.7 134.5 L 366.7 106.2 \" fill=\"#000000\"/>\n",
       "<path class=\"atom-10\" d=\"M 192.3 14.2 L 196.2 14.2 L 196.2 26.2 L 210.6 26.2 L 210.6 14.2 L 214.5 14.2 L 214.5 42.5 L 210.6 42.5 L 210.6 29.4 L 196.2 29.4 L 196.2 42.5 L 192.3 42.5 L 192.3 14.2 \" fill=\"#000000\"/>\n",
       "<path class=\"atom-11\" d=\"M 269.3 21.2 L 273.2 21.2 L 273.2 33.2 L 287.7 33.2 L 287.7 21.2 L 291.5 21.2 L 291.5 49.5 L 287.7 49.5 L 287.7 36.4 L 273.2 36.4 L 273.2 49.5 L 269.3 49.5 L 269.3 21.2 \" fill=\"#000000\"/>\n",
       "<path class=\"atom-12\" d=\"M 155.1 219.4 L 159.0 219.4 L 159.0 231.5 L 173.4 231.5 L 173.4 219.4 L 177.3 219.4 L 177.3 247.7 L 173.4 247.7 L 173.4 234.7 L 159.0 234.7 L 159.0 247.7 L 155.1 247.7 L 155.1 219.4 \" fill=\"#000000\"/>\n",
       "<path class=\"atom-13\" d=\"M 111.2 154.4 L 115.0 154.4 L 115.0 166.5 L 129.5 166.5 L 129.5 154.4 L 133.3 154.4 L 133.3 182.7 L 129.5 182.7 L 129.5 169.7 L 115.0 169.7 L 115.0 182.7 L 111.2 182.7 L 111.2 154.4 \" fill=\"#000000\"/>\n",
       "<path class=\"atom-14\" d=\"M 270.9 248.9 L 274.7 248.9 L 274.7 261.0 L 289.2 261.0 L 289.2 248.9 L 293.0 248.9 L 293.0 277.3 L 289.2 277.3 L 289.2 264.2 L 274.7 264.2 L 274.7 277.3 L 270.9 277.3 L 270.9 248.9 \" fill=\"#000000\"/>\n",
       "<path class=\"atom-15\" d=\"M 195.4 257.5 L 199.3 257.5 L 199.3 269.6 L 213.8 269.6 L 213.8 257.5 L 217.6 257.5 L 217.6 285.8 L 213.8 285.8 L 213.8 272.8 L 199.3 272.8 L 199.3 285.8 L 195.4 285.8 L 195.4 257.5 \" fill=\"#000000\"/>\n",
       "</svg>"
      ],
      "text/plain": [
       "<IPython.core.display.SVG object>"
      ]
     },
     "execution_count": 15,
     "metadata": {},
     "output_type": "execute_result"
    }
   ],
   "source": [
    "Molecule.from_smiles(\"C1CCOCC1\").visualize()"
   ]
  },
  {
   "cell_type": "markdown",
   "metadata": {},
   "source": [
    "Perfect. We can ignore the hydrogens, as we haven't specified any bond orders - our smirks will match the saturated structure or any of its derivatives that maintain the ring. Now all we have to do is label the atoms we want to extract the bond from! This way, all the atoms must be present for the SMIRKS to match, but only these three atoms define the angle for the parameter. This lets us be more specific than we could be if we could only describe the atoms in the angle itself. We do that the same way we did before, put them in square brackets and append a colon and a number:"
   ]
  },
  {
   "cell_type": "code",
   "execution_count": 16,
   "metadata": {
    "execution": {
     "iopub.execute_input": "2023-07-05T09:35:15.404391Z",
     "iopub.status.busy": "2023-07-05T09:35:15.403062Z",
     "iopub.status.idle": "2023-07-05T09:35:15.408655Z",
     "shell.execute_reply": "2023-07-05T09:35:15.407879Z"
    }
   },
   "outputs": [],
   "source": [
    "cyclic_oxygen_smirks = \"C1C[C:1]-[O:2]-[C:3]C1\""
   ]
  },
  {
   "cell_type": "markdown",
   "metadata": {},
   "source": [
    "\n",
    "<div class=\"alert alert-success\" style=\"max-width: 700px; margin-left: auto; margin-right: auto;\">\n",
    "    📗 Try replacing this SMIRKS code with one of your own. Hint: For this force field and ligand, there's a much simpler code that will uniquely specify the C-O-C bond!\n",
    "</div>\n"
   ]
  },
  {
   "cell_type": "markdown",
   "metadata": {},
   "source": [
    "### Defining and registering the new parameter\n",
    "\n",
    "Now, all that's left is to define the angle parameter, add it to the force field, and see what we've wrought!"
   ]
  },
  {
   "cell_type": "code",
   "execution_count": 17,
   "metadata": {
    "execution": {
     "iopub.execute_input": "2023-07-05T09:35:15.413927Z",
     "iopub.status.busy": "2023-07-05T09:35:15.412559Z",
     "iopub.status.idle": "2023-07-05T09:35:16.012923Z",
     "shell.execute_reply": "2023-07-05T09:35:16.012035Z"
    },
    "scrolled": true
   },
   "outputs": [
    {
     "name": "stdout",
     "output_type": "stream",
     "text": [
      "Initial energy is 1031.3 kJ/mol; Minimized energy is 333.5 kJ/mol\n"
     ]
    },
    {
     "data": {
      "application/vnd.jupyter.widget-view+json": {
       "model_id": "f8b93b8614a24267a32d2d8ca9421f8a",
       "version_major": 2,
       "version_minor": 0
      },
      "text/plain": [
       "NGLWidget()"
      ]
     },
     "metadata": {},
     "output_type": "display_data"
    }
   ],
   "source": [
    "# Define the new angle parameter\n",
    "angle_parameter = offtk_parameters.AngleHandler.AngleType(\n",
    "    smirks=cyclic_oxygen_smirks,\n",
    "    angle=179 * unit.degree,\n",
    "    k=134.5019777341 * unit.kilocalorie / (unit.mole * unit.radians**2),\n",
    ")\n",
    "\n",
    "# Add the parameter to the force field\n",
    "angles_handler = force_field[\"Angles\"]\n",
    "angles_handler.add_parameter(parameter=angle_parameter)\n",
    "\n",
    "# Visualize the newly parameterized molecule\n",
    "minimize_and_visualize(ligand, force_field)"
   ]
  },
  {
   "cell_type": "markdown",
   "metadata": {},
   "source": [
    "Perfect! The two cyclic heteroatoms are nearly linear while the hydroxyl group retains its characteristic angle."
   ]
  },
  {
   "cell_type": "markdown",
   "metadata": {},
   "source": [
    "### Bonus: Adding a cosmetic attribute to the new parameter\n",
    "\n",
    "In some cases, you might want to tag a particular attribute with extra data. This might be useful, for example, in communicating to a fitting tool which parameters should be fitted, or simply to add extra metadata.. The toolkit allows for _cosmetic attributes_, which can be stored to individual parameters, will be included out when the `ForceField` object is written to disk, but will not otherwise affect the parameterization machinery. The API point for this is [`ParameterType.add_cosmetic_attribute`](https://docs.openforcefield.org/projects/toolkit/en/stable/api/generated/openff.toolkit.typing.engines.smirnoff.parameters.ParameterType.html#openff.toolkit.typing.engines.smirnoff.parameters.ParameterType.add_cosmetic_attribute).\n",
    "\n",
    "Let's use this to tag our modified and new parameters with a note about why we introduced it."
   ]
  },
  {
   "cell_type": "code",
   "execution_count": 18,
   "metadata": {
    "execution": {
     "iopub.execute_input": "2023-07-05T09:35:16.017108Z",
     "iopub.status.busy": "2023-07-05T09:35:16.016621Z",
     "iopub.status.idle": "2023-07-05T09:35:16.023024Z",
     "shell.execute_reply": "2023-07-05T09:35:16.022213Z"
    }
   },
   "outputs": [],
   "source": [
    "angles_handler.parameters[cyclic_nitrogen_smirks].add_cosmetic_attribute(\n",
    "    attr_name=\"note\",\n",
    "    attr_value=\"funky pseudo-linear cyclic nitrogen\",\n",
    ")\n",
    "\n",
    "angles_handler.parameters[cyclic_oxygen_smirks].add_cosmetic_attribute(\n",
    "    attr_name=\"note\",\n",
    "    attr_value=\"funky pseudo-linear cyclic oxygen\",\n",
    ")"
   ]
  },
  {
   "cell_type": "markdown",
   "metadata": {},
   "source": [
    "We we look at these parameter now, they include this attribute tacked on at the end:"
   ]
  },
  {
   "cell_type": "code",
   "execution_count": 19,
   "metadata": {
    "execution": {
     "iopub.execute_input": "2023-07-05T09:35:16.029000Z",
     "iopub.status.busy": "2023-07-05T09:35:16.027489Z",
     "iopub.status.idle": "2023-07-05T09:35:16.036578Z",
     "shell.execute_reply": "2023-07-05T09:35:16.035836Z"
    }
   },
   "outputs": [
    {
     "data": {
      "text/plain": [
       "<AngleType with smirks: [*:1]~[#7X3$(*~[#6X3,#6X2,#7X2+0]):2]~[*:3]  angle: 179 degree  k: 110.8436430155 kilocalorie / mole / radian ** 2  id: a20  note: funky pseudo-linear cyclic nitrogen  >"
      ]
     },
     "execution_count": 19,
     "metadata": {},
     "output_type": "execute_result"
    }
   ],
   "source": [
    "angles_handler.parameters[cyclic_nitrogen_smirks]"
   ]
  },
  {
   "cell_type": "code",
   "execution_count": 20,
   "metadata": {
    "execution": {
     "iopub.execute_input": "2023-07-05T09:35:16.041819Z",
     "iopub.status.busy": "2023-07-05T09:35:16.040348Z",
     "iopub.status.idle": "2023-07-05T09:35:16.049257Z",
     "shell.execute_reply": "2023-07-05T09:35:16.048563Z"
    }
   },
   "outputs": [
    {
     "data": {
      "text/plain": [
       "<AngleType with smirks: C1C[C:1]-[O:2]-[C:3]C1  angle: 179 degree  k: 134.5019777341 kilocalorie / mole / radian ** 2  note: funky pseudo-linear cyclic oxygen  >"
      ]
     },
     "execution_count": 20,
     "metadata": {},
     "output_type": "execute_result"
    }
   ],
   "source": [
    "angles_handler.parameters[cyclic_oxygen_smirks]"
   ]
  },
  {
   "cell_type": "markdown",
   "metadata": {},
   "source": [
    "Cometic attributes are included by default when [writing to disk](https://docs.openforcefield.org/projects/toolkit/en/stable/api/generated/openff.toolkit.typing.engines.smirnoff.ForceField.html#openff.toolkit.typing.engines.smirnoff.ForceField.to_file). (This can be turned off by flipping the argument `discard_cosmetic_attributes` to `True`.) Let's write out our modified force field and search through the file for the note we added."
   ]
  },
  {
   "cell_type": "code",
   "execution_count": 21,
   "metadata": {
    "execution": {
     "iopub.execute_input": "2023-07-05T09:35:16.053315Z",
     "iopub.status.busy": "2023-07-05T09:35:16.052779Z",
     "iopub.status.idle": "2023-07-05T09:35:16.152379Z",
     "shell.execute_reply": "2023-07-05T09:35:16.151505Z"
    }
   },
   "outputs": [],
   "source": [
    "force_field.to_file(\"modified.offxml\")"
   ]
  },
  {
   "cell_type": "code",
   "execution_count": 22,
   "metadata": {
    "execution": {
     "iopub.execute_input": "2023-07-05T09:35:16.158014Z",
     "iopub.status.busy": "2023-07-05T09:35:16.156730Z",
     "iopub.status.idle": "2023-07-05T09:35:16.327295Z",
     "shell.execute_reply": "2023-07-05T09:35:16.326153Z"
    }
   },
   "outputs": [
    {
     "name": "stdout",
     "output_type": "stream",
     "text": [
      "        <Angle smirks=\"[*:1]~[#7X3$(*~[#6X3,#6X2,#7X2+0]):2]~[*:3]\" angle=\"179 * degree ** 1\" k=\"110.8436430155 * mole ** -1 * radian ** -2 * kilocalorie ** 1\" id=\"a20\" note=\"funky pseudo-linear cyclic nitrogen\"></Angle>\r\n",
      "        <Angle smirks=\"C1C[C:1]-[O:2]-[C:3]C1\" angle=\"179 * degree ** 1\" k=\"134.5019777341 * kilocalorie ** 1 * mole ** -1 * radian ** -2\" note=\"funky pseudo-linear cyclic oxygen\"></Angle>\r\n"
     ]
    }
   ],
   "source": [
    "!grep funky modified.offxml"
   ]
  },
  {
   "cell_type": "code",
   "execution_count": null,
   "metadata": {},
   "outputs": [],
   "source": []
  }
 ],
 "metadata": {
  "category": "force_field_dev",
  "kernelspec": {
   "display_name": "Python 3 (ipykernel)",
   "language": "python",
   "name": "python3"
  },
  "language_info": {
   "codemirror_mode": {
    "name": "ipython",
    "version": 3
   },
   "file_extension": ".py",
   "mimetype": "text/x-python",
   "name": "python",
   "nbconvert_exporter": "python",
   "pygments_lexer": "ipython3",
   "version": "3.10.12"
  },
  "src_repo_tag": "0.14.0",
  "widgets": {
   "application/vnd.jupyter.widget-state+json": {
    "state": {
     "084099b8c96c4462814d966657e5e4b4": {
      "model_module": "@jupyter-widgets/base",
      "model_module_version": "2.0.0",
      "model_name": "LayoutModel",
      "state": {
       "_model_module": "@jupyter-widgets/base",
       "_model_module_version": "2.0.0",
       "_model_name": "LayoutModel",
       "_view_count": null,
       "_view_module": "@jupyter-widgets/base",
       "_view_module_version": "2.0.0",
       "_view_name": "LayoutView",
       "align_content": null,
       "align_items": null,
       "align_self": null,
       "border_bottom": null,
       "border_left": null,
       "border_right": null,
       "border_top": null,
       "bottom": null,
       "display": null,
       "flex": null,
       "flex_flow": null,
       "grid_area": null,
       "grid_auto_columns": null,
       "grid_auto_flow": null,
       "grid_auto_rows": null,
       "grid_column": null,
       "grid_gap": null,
       "grid_row": null,
       "grid_template_areas": null,
       "grid_template_columns": null,
       "grid_template_rows": null,
       "height": null,
       "justify_content": null,
       "justify_items": null,
       "left": null,
       "margin": null,
       "max_height": null,
       "max_width": null,
       "min_height": null,
       "min_width": null,
       "object_fit": null,
       "object_position": null,
       "order": null,
       "overflow": null,
       "padding": null,
       "right": null,
       "top": null,
       "visibility": null,
       "width": null
      }
     },
     "08f3dea549da424c951dc2556545ae95": {
      "model_module": "@jupyter-widgets/controls",
      "model_module_version": "2.0.0",
      "model_name": "LinkModel",
      "state": {
       "_model_module": "@jupyter-widgets/controls",
       "_model_module_version": "2.0.0",
       "_model_name": "LinkModel",
       "_view_count": null,
       "_view_module": "@jupyter-widgets/controls",
       "_view_module_version": "2.0.0",
       "_view_name": null,
       "source": [
        "IPY_MODEL_a433592058f14ec1a37ab0df2f26acab",
        "max"
       ],
       "target": [
        "IPY_MODEL_f8b93b8614a24267a32d2d8ca9421f8a",
        "max_frame"
       ]
      }
     },
     "09290005154a420eb24248df0e6310a5": {
      "model_module": "@jupyter-widgets/base",
      "model_module_version": "2.0.0",
      "model_name": "LayoutModel",
      "state": {
       "_model_module": "@jupyter-widgets/base",
       "_model_module_version": "2.0.0",
       "_model_name": "LayoutModel",
       "_view_count": null,
       "_view_module": "@jupyter-widgets/base",
       "_view_module_version": "2.0.0",
       "_view_name": "LayoutView",
       "align_content": null,
       "align_items": null,
       "align_self": null,
       "border_bottom": null,
       "border_left": null,
       "border_right": null,
       "border_top": null,
       "bottom": null,
       "display": null,
       "flex": null,
       "flex_flow": null,
       "grid_area": null,
       "grid_auto_columns": null,
       "grid_auto_flow": null,
       "grid_auto_rows": null,
       "grid_column": null,
       "grid_gap": null,
       "grid_row": null,
       "grid_template_areas": null,
       "grid_template_columns": null,
       "grid_template_rows": null,
       "height": null,
       "justify_content": null,
       "justify_items": null,
       "left": null,
       "margin": null,
       "max_height": null,
       "max_width": null,
       "min_height": null,
       "min_width": null,
       "object_fit": null,
       "object_position": null,
       "order": null,
       "overflow": null,
       "padding": null,
       "right": null,
       "top": null,
       "visibility": null,
       "width": "34px"
      }
     },
     "0bd14d27cca8451ea8a0dbeb84350e6a": {
      "model_module": "@jupyter-widgets/controls",
      "model_module_version": "2.0.0",
      "model_name": "ButtonModel",
      "state": {
       "_dom_classes": [],
       "_model_module": "@jupyter-widgets/controls",
       "_model_module_version": "2.0.0",
       "_model_name": "ButtonModel",
       "_view_count": null,
       "_view_module": "@jupyter-widgets/controls",
       "_view_module_version": "2.0.0",
       "_view_name": "ButtonView",
       "button_style": "",
       "description": "",
       "disabled": false,
       "icon": "compress",
       "layout": "IPY_MODEL_90ecd6cb8e144299a2291f8238681045",
       "style": "IPY_MODEL_666af0daa6ad40249fd84f6653fceef7",
       "tabbable": null,
       "tooltip": null
      }
     },
     "0c5849948fbd4238ab68a9a4223d2e42": {
      "model_module": "nglview-js-widgets",
      "model_module_version": "3.0.6",
      "model_name": "NGLModel",
      "state": {
       "_camera_orientation": [],
       "_camera_str": "orthographic",
       "_dom_classes": [],
       "_gui_theme": null,
       "_ibtn_fullscreen": "IPY_MODEL_ee55d12edf03414b99036b158c20adfa",
       "_igui": null,
       "_iplayer": "IPY_MODEL_69b4fd3a962b4f2ab63b588fb795114a",
       "_model_module": "nglview-js-widgets",
       "_model_module_version": "3.0.6",
       "_model_name": "NGLModel",
       "_ngl_color_dict": {},
       "_ngl_coordinate_resource": {},
       "_ngl_full_stage_parameters": {},
       "_ngl_msg_archive": [
        {
         "args": [
          {
           "binary": false,
           "data": "HETATM    1  C1  UNL     1       5.342   1.830  -0.179  1.00  0.00           C  \nHETATM    2  C2  UNL     1       4.785   0.444   0.219  1.00  0.00           C  \nHETATM    3  C3  UNL     1       5.346   0.015   1.590  1.00  0.00           C  \nHETATM    4  C4  UNL     1       5.407  -0.535  -0.802  1.00  0.00           C  \nHETATM    5  C5  UNL     1       3.227   0.486   0.276  1.00  0.00           C  \nHETATM    6  C6  UNL     1       2.580   1.395   1.151  1.00  0.00           C  \nHETATM    7  O1  UNL     1       3.210   2.255   1.997  1.00  0.00           O  \nHETATM    8  C7  UNL     1       1.193   1.488   1.246  1.00  0.00           C  \nHETATM    9  O2  UNL     1       0.620   2.359   2.150  1.00  0.00           O  \nHETATM   10  C8  UNL     1       0.387   0.680   0.454  1.00  0.00           C  \nHETATM   11  C9  UNL     1       0.953  -0.248  -0.417  1.00  0.00           C  \nHETATM   12  C10 UNL     1       2.359  -0.349  -0.489  1.00  0.00           C  \nHETATM   13  O3  UNL     1       2.804  -1.322  -1.333  1.00  0.00           O  \nHETATM   14  C11 UNL     1       0.070  -1.088  -1.332  1.00  0.00           C  \nHETATM   15  O4  UNL     1       0.425  -2.483  -1.202  1.00  0.00           O  \nHETATM   16  C12 UNL     1      -0.323  -3.205  -0.217  1.00  0.00           C  \nHETATM   17  C13 UNL     1      -1.797  -3.298  -0.638  1.00  0.00           C  \nHETATM   18  C14 UNL     1      -2.224  -2.126  -1.541  1.00  0.00           C  \nHETATM   19  C15 UNL     1      -1.457  -0.830  -1.205  1.00  0.00           C  \nHETATM   20  C16 UNL     1      -1.862  -0.278   0.178  1.00  0.00           C  \nHETATM   21  C17 UNL     1      -3.293   0.227   0.196  1.00  0.00           C  \nHETATM   22  C18 UNL     1      -4.237  -0.360   1.054  1.00  0.00           C  \nHETATM   23  C19 UNL     1      -5.562   0.088   1.086  1.00  0.00           C  \nHETATM   24  O5  UNL     1      -6.452  -0.515   1.936  1.00  0.00           O  \nHETATM   25  C20 UNL     1      -5.964   1.145   0.250  1.00  0.00           C  \nHETATM   26  O6  UNL     1      -7.260   1.605   0.259  1.00  0.00           O  \nHETATM   27  C21 UNL     1      -5.031   1.740  -0.605  1.00  0.00           C  \nHETATM   28  F1  UNL     1      -7.814   9.269  -6.569  1.00  0.00           F  \nHETATM   29  C22 UNL     1      -3.710   1.286  -0.630  1.00  0.00           C  \nHETATM   30  N1  UNL     1      -0.989   0.836   0.544  1.00  0.00           N  \nHETATM   31  H1  UNL     1       5.163   2.583   0.593  1.00  0.00           H  \nHETATM   32  H2  UNL     1       4.875   2.171  -1.108  1.00  0.00           H  \nHETATM   33  H3  UNL     1       6.424   1.785  -0.335  1.00  0.00           H  \nHETATM   34  H4  UNL     1       6.433  -0.105   1.544  1.00  0.00           H  \nHETATM   35  H5  UNL     1       5.133   0.754   2.367  1.00  0.00           H  \nHETATM   36  H6  UNL     1       4.907  -0.940   1.895  1.00  0.00           H  \nHETATM   37  H7  UNL     1       6.499  -0.466  -0.796  1.00  0.00           H  \nHETATM   38  H8  UNL     1       5.147  -1.570  -0.559  1.00  0.00           H  \nHETATM   39  H9  UNL     1       5.068  -0.306  -1.816  1.00  0.00           H  \nHETATM   40  H10 UNL     1       2.486   2.719   2.450  1.00  0.00           H  \nHETATM   41  H11 UNL     1      -0.307   2.096   2.275  1.00  0.00           H  \nHETATM   42  H12 UNL     1       2.062  -1.936  -1.465  1.00  0.00           H  \nHETATM   43  H13 UNL     1       0.331  -0.804  -2.356  1.00  0.00           H  \nHETATM   44  H14 UNL     1      -0.234  -2.706   0.752  1.00  0.00           H  \nHETATM   45  H15 UNL     1       0.090  -4.212  -0.100  1.00  0.00           H  \nHETATM   46  H16 UNL     1      -2.421  -3.325   0.260  1.00  0.00           H  \nHETATM   47  H17 UNL     1      -1.963  -4.235  -1.179  1.00  0.00           H  \nHETATM   48  H18 UNL     1      -2.006  -2.391  -2.580  1.00  0.00           H  \nHETATM   49  H19 UNL     1      -3.304  -1.974  -1.469  1.00  0.00           H  \nHETATM   50  H20 UNL     1      -1.713  -0.076  -1.955  1.00  0.00           H  \nHETATM   51  H21 UNL     1      -1.749  -1.058   0.936  1.00  0.00           H  \nHETATM   52  H22 UNL     1      -3.935  -1.176   1.703  1.00  0.00           H  \nHETATM   53  H23 UNL     1      -6.012  -1.198   2.470  1.00  0.00           H  \nHETATM   54  H24 UNL     1      -7.374   2.335  -0.373  1.00  0.00           H  \nHETATM   55  H25 UNL     1      -3.011   1.766  -1.307  1.00  0.00           H  \nHETATM   56  H26 UNL     1      -1.333   1.771   0.331  1.00  0.00           H  \nCONECT    1    2   31   32   33\nCONECT    2    3    4    5\nCONECT    3   34   35   36\nCONECT    4   37   38   39\nCONECT    5    6    6   12\nCONECT    6    7    8\nCONECT    7   40\nCONECT    8    9   10   10\nCONECT    9   41\nCONECT   10   11   30\nCONECT   11   12   12   14\nCONECT   12   13\nCONECT   13   42\nCONECT   14   15   19   43\nCONECT   15   16\nCONECT   16   17   44   45\nCONECT   17   18   46   47\nCONECT   18   19   48   49\nCONECT   19   20   50\nCONECT   20   21   30   51\nCONECT   21   22   22   29\nCONECT   22   23   52\nCONECT   23   24   25   25\nCONECT   24   53\nCONECT   25   26   27\nCONECT   26   54\nCONECT   27   28   29   29\nCONECT   29   55\nCONECT   30   56\n",
           "type": "blob"
          }
         ],
         "kwargs": {
          "defaultRepresentation": true,
          "ext": "pdb",
          "name": "<openff.toolkit.utils.viz._OFFTrajectoryNGLView object at 0x7ff81a494fd0>"
         },
         "methodName": "loadFile",
         "reconstruc_color_scheme": false,
         "target": "Stage",
         "type": "call_method"
        }
       ],
       "_ngl_original_stage_parameters": {},
       "_ngl_repr_dict": {},
       "_ngl_serialize": false,
       "_ngl_version": "",
       "_ngl_view_id": [],
       "_player_dict": {},
       "_scene_position": {},
       "_scene_rotation": {},
       "_synced_model_ids": [],
       "_synced_repr_model_ids": [],
       "_view_count": null,
       "_view_height": "",
       "_view_module": "nglview-js-widgets",
       "_view_module_version": "3.0.6",
       "_view_name": "NGLView",
       "_view_width": "",
       "background": "white",
       "frame": 0,
       "gui_style": null,
       "layout": "IPY_MODEL_395816f565ee41eba3385504cac0833d",
       "max_frame": 0,
       "n_components": 0,
       "picked": {},
       "tabbable": null,
       "tooltip": null
      }
     },
     "0c5ee2c54b374ded925b7a1ef86028f3": {
      "model_module": "@jupyter-widgets/controls",
      "model_module_version": "2.0.0",
      "model_name": "IntSliderModel",
      "state": {
       "_dom_classes": [],
       "_model_module": "@jupyter-widgets/controls",
       "_model_module_version": "2.0.0",
       "_model_name": "IntSliderModel",
       "_view_count": null,
       "_view_module": "@jupyter-widgets/controls",
       "_view_module_version": "2.0.0",
       "_view_name": "IntSliderView",
       "behavior": "drag-tap",
       "continuous_update": true,
       "description": "",
       "description_allow_html": false,
       "disabled": false,
       "layout": "IPY_MODEL_d900001dc6094951a5ba9282067adf5c",
       "max": 0,
       "min": 0,
       "orientation": "horizontal",
       "readout": true,
       "readout_format": "d",
       "step": 1,
       "style": "IPY_MODEL_3203f533c0b3419c8becc5c83b44751f",
       "tabbable": null,
       "tooltip": null,
       "value": 0
      }
     },
     "0e1e32d5b6424014a9491857e67f412b": {
      "model_module": "@jupyter-widgets/base",
      "model_module_version": "2.0.0",
      "model_name": "LayoutModel",
      "state": {
       "_model_module": "@jupyter-widgets/base",
       "_model_module_version": "2.0.0",
       "_model_name": "LayoutModel",
       "_view_count": null,
       "_view_module": "@jupyter-widgets/base",
       "_view_module_version": "2.0.0",
       "_view_name": "LayoutView",
       "align_content": null,
       "align_items": null,
       "align_self": null,
       "border_bottom": null,
       "border_left": null,
       "border_right": null,
       "border_top": null,
       "bottom": null,
       "display": null,
       "flex": null,
       "flex_flow": null,
       "grid_area": null,
       "grid_auto_columns": null,
       "grid_auto_flow": null,
       "grid_auto_rows": null,
       "grid_column": null,
       "grid_gap": null,
       "grid_row": null,
       "grid_template_areas": null,
       "grid_template_columns": null,
       "grid_template_rows": null,
       "height": null,
       "justify_content": null,
       "justify_items": null,
       "left": null,
       "margin": null,
       "max_height": null,
       "max_width": null,
       "min_height": null,
       "min_width": null,
       "object_fit": null,
       "object_position": null,
       "order": null,
       "overflow": null,
       "padding": null,
       "right": null,
       "top": null,
       "visibility": null,
       "width": null
      }
     },
     "10f0faf1bbaf40e7b675178210d85af3": {
      "model_module": "@jupyter-widgets/controls",
      "model_module_version": "2.0.0",
      "model_name": "LinkModel",
      "state": {
       "_model_module": "@jupyter-widgets/controls",
       "_model_module_version": "2.0.0",
       "_model_name": "LinkModel",
       "_view_count": null,
       "_view_module": "@jupyter-widgets/controls",
       "_view_module_version": "2.0.0",
       "_view_name": null,
       "source": [
        "IPY_MODEL_15a1056e60974fca8342433635ee7171",
        "value"
       ],
       "target": [
        "IPY_MODEL_0c5849948fbd4238ab68a9a4223d2e42",
        "frame"
       ]
      }
     },
     "110552742af943d58c06d50ccea02c04": {
      "model_module": "@jupyter-widgets/controls",
      "model_module_version": "2.0.0",
      "model_name": "IntSliderModel",
      "state": {
       "_dom_classes": [],
       "_model_module": "@jupyter-widgets/controls",
       "_model_module_version": "2.0.0",
       "_model_name": "IntSliderModel",
       "_view_count": null,
       "_view_module": "@jupyter-widgets/controls",
       "_view_module_version": "2.0.0",
       "_view_name": "IntSliderView",
       "behavior": "drag-tap",
       "continuous_update": true,
       "description": "",
       "description_allow_html": false,
       "disabled": false,
       "layout": "IPY_MODEL_1b0c7c42500f4b47a67fa195795c815b",
       "max": 0,
       "min": 0,
       "orientation": "horizontal",
       "readout": true,
       "readout_format": "d",
       "step": 1,
       "style": "IPY_MODEL_186a455ba9e84b58bfb1dc5f5dbbbb9c",
       "tabbable": null,
       "tooltip": null,
       "value": 0
      }
     },
     "12a1d5f03ef44107b979f311743fa1b7": {
      "model_module": "@jupyter-widgets/controls",
      "model_module_version": "2.0.0",
      "model_name": "LinkModel",
      "state": {
       "_model_module": "@jupyter-widgets/controls",
       "_model_module_version": "2.0.0",
       "_model_name": "LinkModel",
       "_view_count": null,
       "_view_module": "@jupyter-widgets/controls",
       "_view_module_version": "2.0.0",
       "_view_name": null,
       "source": [
        "IPY_MODEL_b3928032f96245a091622b8e2cf4e094",
        "max"
       ],
       "target": [
        "IPY_MODEL_4bfb5a37a26648368b866d45d2ea36de",
        "max_frame"
       ]
      }
     },
     "14a6097b280342e0928942cf0046ff7b": {
      "model_module": "@jupyter-widgets/controls",
      "model_module_version": "2.0.0",
      "model_name": "ButtonStyleModel",
      "state": {
       "_model_module": "@jupyter-widgets/controls",
       "_model_module_version": "2.0.0",
       "_model_name": "ButtonStyleModel",
       "_view_count": null,
       "_view_module": "@jupyter-widgets/base",
       "_view_module_version": "2.0.0",
       "_view_name": "StyleView",
       "button_color": null,
       "font_family": null,
       "font_size": null,
       "font_style": null,
       "font_variant": null,
       "font_weight": null,
       "text_color": null,
       "text_decoration": null
      }
     },
     "155f79dda3254b6caba5dfd7413b0154": {
      "buffers": [
       {
        "data": "",
        "encoding": "base64",
        "path": [
         "value"
        ]
       }
      ],
      "model_module": "@jupyter-widgets/controls",
      "model_module_version": "2.0.0",
      "model_name": "ImageModel",
      "state": {
       "_dom_classes": [],
       "_model_module": "@jupyter-widgets/controls",
       "_model_module_version": "2.0.0",
       "_model_name": "ImageModel",
       "_view_count": null,
       "_view_module": "@jupyter-widgets/controls",
       "_view_module_version": "2.0.0",
       "_view_name": "ImageView",
       "format": "png",
       "height": "",
       "layout": "IPY_MODEL_79e2d4b6731840b7962b2ff4a2a43e82",
       "tabbable": null,
       "tooltip": null,
       "width": "900.0"
      }
     },
     "15a1056e60974fca8342433635ee7171": {
      "model_module": "@jupyter-widgets/controls",
      "model_module_version": "2.0.0",
      "model_name": "PlayModel",
      "state": {
       "_dom_classes": [],
       "_model_module": "@jupyter-widgets/controls",
       "_model_module_version": "2.0.0",
       "_model_name": "PlayModel",
       "_view_count": null,
       "_view_module": "@jupyter-widgets/controls",
       "_view_module_version": "2.0.0",
       "_view_name": "PlayView",
       "description": "",
       "description_allow_html": false,
       "disabled": false,
       "interval": 100,
       "layout": "IPY_MODEL_5c9118c5398347bea6cd3ec0de3a1b57",
       "max": 0,
       "min": 0,
       "playing": false,
       "repeat": false,
       "show_repeat": true,
       "step": 1,
       "style": "IPY_MODEL_79bf926d05ab4964b4ae8d06085f3bcd",
       "tabbable": null,
       "tooltip": null,
       "value": 0
      }
     },
     "186a455ba9e84b58bfb1dc5f5dbbbb9c": {
      "model_module": "@jupyter-widgets/controls",
      "model_module_version": "2.0.0",
      "model_name": "SliderStyleModel",
      "state": {
       "_model_module": "@jupyter-widgets/controls",
       "_model_module_version": "2.0.0",
       "_model_name": "SliderStyleModel",
       "_view_count": null,
       "_view_module": "@jupyter-widgets/base",
       "_view_module_version": "2.0.0",
       "_view_name": "StyleView",
       "description_width": "",
       "handle_color": null
      }
     },
     "1b0c7c42500f4b47a67fa195795c815b": {
      "model_module": "@jupyter-widgets/base",
      "model_module_version": "2.0.0",
      "model_name": "LayoutModel",
      "state": {
       "_model_module": "@jupyter-widgets/base",
       "_model_module_version": "2.0.0",
       "_model_name": "LayoutModel",
       "_view_count": null,
       "_view_module": "@jupyter-widgets/base",
       "_view_module_version": "2.0.0",
       "_view_name": "LayoutView",
       "align_content": null,
       "align_items": null,
       "align_self": null,
       "border_bottom": null,
       "border_left": null,
       "border_right": null,
       "border_top": null,
       "bottom": null,
       "display": null,
       "flex": null,
       "flex_flow": null,
       "grid_area": null,
       "grid_auto_columns": null,
       "grid_auto_flow": null,
       "grid_auto_rows": null,
       "grid_column": null,
       "grid_gap": null,
       "grid_row": null,
       "grid_template_areas": null,
       "grid_template_columns": null,
       "grid_template_rows": null,
       "height": null,
       "justify_content": null,
       "justify_items": null,
       "left": null,
       "margin": null,
       "max_height": null,
       "max_width": null,
       "min_height": null,
       "min_width": null,
       "object_fit": null,
       "object_position": null,
       "order": null,
       "overflow": null,
       "padding": null,
       "right": null,
       "top": null,
       "visibility": null,
       "width": null
      }
     },
     "1c9df320312a43a7b31fca734e7b50af": {
      "model_module": "@jupyter-widgets/base",
      "model_module_version": "2.0.0",
      "model_name": "LayoutModel",
      "state": {
       "_model_module": "@jupyter-widgets/base",
       "_model_module_version": "2.0.0",
       "_model_name": "LayoutModel",
       "_view_count": null,
       "_view_module": "@jupyter-widgets/base",
       "_view_module_version": "2.0.0",
       "_view_name": "LayoutView",
       "align_content": null,
       "align_items": null,
       "align_self": null,
       "border_bottom": null,
       "border_left": null,
       "border_right": null,
       "border_top": null,
       "bottom": null,
       "display": null,
       "flex": null,
       "flex_flow": null,
       "grid_area": null,
       "grid_auto_columns": null,
       "grid_auto_flow": null,
       "grid_auto_rows": null,
       "grid_column": null,
       "grid_gap": null,
       "grid_row": null,
       "grid_template_areas": null,
       "grid_template_columns": null,
       "grid_template_rows": null,
       "height": null,
       "justify_content": null,
       "justify_items": null,
       "left": null,
       "margin": null,
       "max_height": null,
       "max_width": null,
       "min_height": null,
       "min_width": null,
       "object_fit": null,
       "object_position": null,
       "order": null,
       "overflow": null,
       "padding": null,
       "right": null,
       "top": null,
       "visibility": null,
       "width": null
      }
     },
     "1ef3630c2231413b94f9cc6d5a067136": {
      "model_module": "@jupyter-widgets/base",
      "model_module_version": "2.0.0",
      "model_name": "LayoutModel",
      "state": {
       "_model_module": "@jupyter-widgets/base",
       "_model_module_version": "2.0.0",
       "_model_name": "LayoutModel",
       "_view_count": null,
       "_view_module": "@jupyter-widgets/base",
       "_view_module_version": "2.0.0",
       "_view_name": "LayoutView",
       "align_content": null,
       "align_items": null,
       "align_self": null,
       "border_bottom": null,
       "border_left": null,
       "border_right": null,
       "border_top": null,
       "bottom": null,
       "display": null,
       "flex": null,
       "flex_flow": null,
       "grid_area": null,
       "grid_auto_columns": null,
       "grid_auto_flow": null,
       "grid_auto_rows": null,
       "grid_column": null,
       "grid_gap": null,
       "grid_row": null,
       "grid_template_areas": null,
       "grid_template_columns": null,
       "grid_template_rows": null,
       "height": null,
       "justify_content": null,
       "justify_items": null,
       "left": null,
       "margin": null,
       "max_height": null,
       "max_width": null,
       "min_height": null,
       "min_width": null,
       "object_fit": null,
       "object_position": null,
       "order": null,
       "overflow": null,
       "padding": null,
       "right": null,
       "top": null,
       "visibility": null,
       "width": null
      }
     },
     "2176b9f609054c39b73ffc41e0399936": {
      "model_module": "@jupyter-widgets/controls",
      "model_module_version": "2.0.0",
      "model_name": "ButtonStyleModel",
      "state": {
       "_model_module": "@jupyter-widgets/controls",
       "_model_module_version": "2.0.0",
       "_model_name": "ButtonStyleModel",
       "_view_count": null,
       "_view_module": "@jupyter-widgets/base",
       "_view_module_version": "2.0.0",
       "_view_name": "StyleView",
       "button_color": null,
       "font_family": null,
       "font_size": null,
       "font_style": null,
       "font_variant": null,
       "font_weight": null,
       "text_color": null,
       "text_decoration": null
      }
     },
     "2184a476eb484f9ab47072cdf28a3168": {
      "model_module": "@jupyter-widgets/controls",
      "model_module_version": "2.0.0",
      "model_name": "PlayModel",
      "state": {
       "_dom_classes": [],
       "_model_module": "@jupyter-widgets/controls",
       "_model_module_version": "2.0.0",
       "_model_name": "PlayModel",
       "_view_count": null,
       "_view_module": "@jupyter-widgets/controls",
       "_view_module_version": "2.0.0",
       "_view_name": "PlayView",
       "description": "",
       "description_allow_html": false,
       "disabled": false,
       "interval": 100,
       "layout": "IPY_MODEL_8e7ae3f35f2541ac8ebc9c227624944f",
       "max": 0,
       "min": 0,
       "playing": false,
       "repeat": false,
       "show_repeat": true,
       "step": 1,
       "style": "IPY_MODEL_8c37204eb7c14baea4c9fc003a37b298",
       "tabbable": null,
       "tooltip": null,
       "value": 0
      }
     },
     "21c98a5badd9421c87dfa9ef5a04984e": {
      "model_module": "@jupyter-widgets/base",
      "model_module_version": "2.0.0",
      "model_name": "LayoutModel",
      "state": {
       "_model_module": "@jupyter-widgets/base",
       "_model_module_version": "2.0.0",
       "_model_name": "LayoutModel",
       "_view_count": null,
       "_view_module": "@jupyter-widgets/base",
       "_view_module_version": "2.0.0",
       "_view_name": "LayoutView",
       "align_content": null,
       "align_items": null,
       "align_self": null,
       "border_bottom": null,
       "border_left": null,
       "border_right": null,
       "border_top": null,
       "bottom": null,
       "display": null,
       "flex": null,
       "flex_flow": null,
       "grid_area": null,
       "grid_auto_columns": null,
       "grid_auto_flow": null,
       "grid_auto_rows": null,
       "grid_column": null,
       "grid_gap": null,
       "grid_row": null,
       "grid_template_areas": null,
       "grid_template_columns": null,
       "grid_template_rows": null,
       "height": null,
       "justify_content": null,
       "justify_items": null,
       "left": null,
       "margin": null,
       "max_height": null,
       "max_width": null,
       "min_height": null,
       "min_width": null,
       "object_fit": null,
       "object_position": null,
       "order": null,
       "overflow": null,
       "padding": null,
       "right": null,
       "top": null,
       "visibility": null,
       "width": null
      }
     },
     "2685bcb019e147eabc05605704954a92": {
      "model_module": "@jupyter-widgets/controls",
      "model_module_version": "2.0.0",
      "model_name": "LinkModel",
      "state": {
       "_model_module": "@jupyter-widgets/controls",
       "_model_module_version": "2.0.0",
       "_model_name": "LinkModel",
       "_view_count": null,
       "_view_module": "@jupyter-widgets/controls",
       "_view_module_version": "2.0.0",
       "_view_name": null,
       "source": [
        "IPY_MODEL_2184a476eb484f9ab47072cdf28a3168",
        "value"
       ],
       "target": [
        "IPY_MODEL_7e028c00cd0f40e682adf426c3b9ae58",
        "value"
       ]
      }
     },
     "2d6944e4952a4534b3d554f379c72035": {
      "model_module": "@jupyter-widgets/controls",
      "model_module_version": "2.0.0",
      "model_name": "LinkModel",
      "state": {
       "_model_module": "@jupyter-widgets/controls",
       "_model_module_version": "2.0.0",
       "_model_name": "LinkModel",
       "_view_count": null,
       "_view_module": "@jupyter-widgets/controls",
       "_view_module_version": "2.0.0",
       "_view_name": null,
       "source": [
        "IPY_MODEL_dc9279198eb54339a31d35ad35773d8a",
        "value"
       ],
       "target": [
        "IPY_MODEL_f8b93b8614a24267a32d2d8ca9421f8a",
        "frame"
       ]
      }
     },
     "31408ec3618f43b391a9a9cd95725828": {
      "model_module": "@jupyter-widgets/controls",
      "model_module_version": "2.0.0",
      "model_name": "HBoxModel",
      "state": {
       "_dom_classes": [],
       "_model_module": "@jupyter-widgets/controls",
       "_model_module_version": "2.0.0",
       "_model_name": "HBoxModel",
       "_view_count": null,
       "_view_module": "@jupyter-widgets/controls",
       "_view_module_version": "2.0.0",
       "_view_name": "HBoxView",
       "box_style": "",
       "children": [
        "IPY_MODEL_8cb6fa65a67b461ab174f778d700d03b",
        "IPY_MODEL_75a7ac4f19cc42c6ab6b858c3fc3954f"
       ],
       "layout": "IPY_MODEL_1ef3630c2231413b94f9cc6d5a067136",
       "tabbable": null,
       "tooltip": null
      }
     },
     "3203f533c0b3419c8becc5c83b44751f": {
      "model_module": "@jupyter-widgets/controls",
      "model_module_version": "2.0.0",
      "model_name": "SliderStyleModel",
      "state": {
       "_model_module": "@jupyter-widgets/controls",
       "_model_module_version": "2.0.0",
       "_model_name": "SliderStyleModel",
       "_view_count": null,
       "_view_module": "@jupyter-widgets/base",
       "_view_module_version": "2.0.0",
       "_view_name": "StyleView",
       "description_width": "",
       "handle_color": null
      }
     },
     "3462924fd996478bb0646382591d0d6e": {
      "model_module": "@jupyter-widgets/base",
      "model_module_version": "2.0.0",
      "model_name": "LayoutModel",
      "state": {
       "_model_module": "@jupyter-widgets/base",
       "_model_module_version": "2.0.0",
       "_model_name": "LayoutModel",
       "_view_count": null,
       "_view_module": "@jupyter-widgets/base",
       "_view_module_version": "2.0.0",
       "_view_name": "LayoutView",
       "align_content": null,
       "align_items": null,
       "align_self": null,
       "border_bottom": null,
       "border_left": null,
       "border_right": null,
       "border_top": null,
       "bottom": null,
       "display": null,
       "flex": null,
       "flex_flow": null,
       "grid_area": null,
       "grid_auto_columns": null,
       "grid_auto_flow": null,
       "grid_auto_rows": null,
       "grid_column": null,
       "grid_gap": null,
       "grid_row": null,
       "grid_template_areas": null,
       "grid_template_columns": null,
       "grid_template_rows": null,
       "height": null,
       "justify_content": null,
       "justify_items": null,
       "left": null,
       "margin": null,
       "max_height": null,
       "max_width": null,
       "min_height": null,
       "min_width": null,
       "object_fit": null,
       "object_position": null,
       "order": null,
       "overflow": null,
       "padding": null,
       "right": null,
       "top": null,
       "visibility": null,
       "width": null
      }
     },
     "34e55e6a6b704316a9ade56342dbfc69": {
      "model_module": "@jupyter-widgets/base",
      "model_module_version": "2.0.0",
      "model_name": "LayoutModel",
      "state": {
       "_model_module": "@jupyter-widgets/base",
       "_model_module_version": "2.0.0",
       "_model_name": "LayoutModel",
       "_view_count": null,
       "_view_module": "@jupyter-widgets/base",
       "_view_module_version": "2.0.0",
       "_view_name": "LayoutView",
       "align_content": null,
       "align_items": null,
       "align_self": null,
       "border_bottom": null,
       "border_left": null,
       "border_right": null,
       "border_top": null,
       "bottom": null,
       "display": null,
       "flex": null,
       "flex_flow": null,
       "grid_area": null,
       "grid_auto_columns": null,
       "grid_auto_flow": null,
       "grid_auto_rows": null,
       "grid_column": null,
       "grid_gap": null,
       "grid_row": null,
       "grid_template_areas": null,
       "grid_template_columns": null,
       "grid_template_rows": null,
       "height": null,
       "justify_content": null,
       "justify_items": null,
       "left": null,
       "margin": null,
       "max_height": null,
       "max_width": null,
       "min_height": null,
       "min_width": null,
       "object_fit": null,
       "object_position": null,
       "order": null,
       "overflow": null,
       "padding": null,
       "right": null,
       "top": null,
       "visibility": null,
       "width": null
      }
     },
     "395816f565ee41eba3385504cac0833d": {
      "model_module": "@jupyter-widgets/base",
      "model_module_version": "2.0.0",
      "model_name": "LayoutModel",
      "state": {
       "_model_module": "@jupyter-widgets/base",
       "_model_module_version": "2.0.0",
       "_model_name": "LayoutModel",
       "_view_count": null,
       "_view_module": "@jupyter-widgets/base",
       "_view_module_version": "2.0.0",
       "_view_name": "LayoutView",
       "align_content": null,
       "align_items": null,
       "align_self": null,
       "border_bottom": null,
       "border_left": null,
       "border_right": null,
       "border_top": null,
       "bottom": null,
       "display": null,
       "flex": null,
       "flex_flow": null,
       "grid_area": null,
       "grid_auto_columns": null,
       "grid_auto_flow": null,
       "grid_auto_rows": null,
       "grid_column": null,
       "grid_gap": null,
       "grid_row": null,
       "grid_template_areas": null,
       "grid_template_columns": null,
       "grid_template_rows": null,
       "height": null,
       "justify_content": null,
       "justify_items": null,
       "left": null,
       "margin": null,
       "max_height": null,
       "max_width": null,
       "min_height": null,
       "min_width": null,
       "object_fit": null,
       "object_position": null,
       "order": null,
       "overflow": null,
       "padding": null,
       "right": null,
       "top": null,
       "visibility": null,
       "width": null
      }
     },
     "3d7ec63c36534e10b90dd012f89bdc91": {
      "model_module": "@jupyter-widgets/base",
      "model_module_version": "2.0.0",
      "model_name": "LayoutModel",
      "state": {
       "_model_module": "@jupyter-widgets/base",
       "_model_module_version": "2.0.0",
       "_model_name": "LayoutModel",
       "_view_count": null,
       "_view_module": "@jupyter-widgets/base",
       "_view_module_version": "2.0.0",
       "_view_name": "LayoutView",
       "align_content": null,
       "align_items": null,
       "align_self": null,
       "border_bottom": null,
       "border_left": null,
       "border_right": null,
       "border_top": null,
       "bottom": null,
       "display": null,
       "flex": null,
       "flex_flow": null,
       "grid_area": null,
       "grid_auto_columns": null,
       "grid_auto_flow": null,
       "grid_auto_rows": null,
       "grid_column": null,
       "grid_gap": null,
       "grid_row": null,
       "grid_template_areas": null,
       "grid_template_columns": null,
       "grid_template_rows": null,
       "height": null,
       "justify_content": null,
       "justify_items": null,
       "left": null,
       "margin": null,
       "max_height": null,
       "max_width": null,
       "min_height": null,
       "min_width": null,
       "object_fit": null,
       "object_position": null,
       "order": null,
       "overflow": null,
       "padding": null,
       "right": null,
       "top": null,
       "visibility": null,
       "width": null
      }
     },
     "420566c2cdb24a3195858402e0520d76": {
      "model_module": "@jupyter-widgets/controls",
      "model_module_version": "2.0.0",
      "model_name": "HBoxModel",
      "state": {
       "_dom_classes": [],
       "_model_module": "@jupyter-widgets/controls",
       "_model_module_version": "2.0.0",
       "_model_name": "HBoxModel",
       "_view_count": null,
       "_view_module": "@jupyter-widgets/controls",
       "_view_module_version": "2.0.0",
       "_view_name": "HBoxView",
       "box_style": "",
       "children": [
        "IPY_MODEL_2184a476eb484f9ab47072cdf28a3168",
        "IPY_MODEL_7e028c00cd0f40e682adf426c3b9ae58"
       ],
       "layout": "IPY_MODEL_3462924fd996478bb0646382591d0d6e",
       "tabbable": null,
       "tooltip": null
      }
     },
     "4302a4d3c75247fd8277e38a28fa22c8": {
      "model_module": "@jupyter-widgets/base",
      "model_module_version": "2.0.0",
      "model_name": "LayoutModel",
      "state": {
       "_model_module": "@jupyter-widgets/base",
       "_model_module_version": "2.0.0",
       "_model_name": "LayoutModel",
       "_view_count": null,
       "_view_module": "@jupyter-widgets/base",
       "_view_module_version": "2.0.0",
       "_view_name": "LayoutView",
       "align_content": null,
       "align_items": null,
       "align_self": null,
       "border_bottom": null,
       "border_left": null,
       "border_right": null,
       "border_top": null,
       "bottom": null,
       "display": null,
       "flex": null,
       "flex_flow": null,
       "grid_area": null,
       "grid_auto_columns": null,
       "grid_auto_flow": null,
       "grid_auto_rows": null,
       "grid_column": null,
       "grid_gap": null,
       "grid_row": null,
       "grid_template_areas": null,
       "grid_template_columns": null,
       "grid_template_rows": null,
       "height": null,
       "justify_content": null,
       "justify_items": null,
       "left": null,
       "margin": null,
       "max_height": null,
       "max_width": null,
       "min_height": null,
       "min_width": null,
       "object_fit": null,
       "object_position": null,
       "order": null,
       "overflow": null,
       "padding": null,
       "right": null,
       "top": null,
       "visibility": null,
       "width": null
      }
     },
     "4bfb5a37a26648368b866d45d2ea36de": {
      "model_module": "nglview-js-widgets",
      "model_module_version": "3.0.6",
      "model_name": "NGLModel",
      "state": {
       "_camera_orientation": [],
       "_camera_str": "orthographic",
       "_dom_classes": [],
       "_gui_theme": null,
       "_ibtn_fullscreen": "IPY_MODEL_a5877efab5e341cd85a8b0cd8036c9c1",
       "_igui": null,
       "_iplayer": "IPY_MODEL_500424840dca4182a4758246849a7b6e",
       "_model_module": "nglview-js-widgets",
       "_model_module_version": "3.0.6",
       "_model_name": "NGLModel",
       "_ngl_color_dict": {},
       "_ngl_coordinate_resource": {},
       "_ngl_full_stage_parameters": {},
       "_ngl_msg_archive": [
        {
         "args": [
          {
           "binary": false,
           "data": "HETATM    1  C1  UNL     1       5.335   1.835  -0.317  1.00  0.00           C  \nHETATM    2  C2  UNL     1       4.733   0.514   0.213  1.00  0.00           C  \nHETATM    3  C3  UNL     1       5.223   0.235   1.650  1.00  0.00           C  \nHETATM    4  C4  UNL     1       5.376  -0.590  -0.657  1.00  0.00           C  \nHETATM    5  C5  UNL     1       3.176   0.594   0.192  1.00  0.00           C  \nHETATM    6  C6  UNL     1       2.515   1.608   0.932  1.00  0.00           C  \nHETATM    7  O1  UNL     1       3.128   2.543   1.709  1.00  0.00           O  \nHETATM    8  C7  UNL     1       1.129   1.738   0.953  1.00  0.00           C  \nHETATM    9  O2  UNL     1       0.537   2.716   1.726  1.00  0.00           O  \nHETATM   10  C8  UNL     1       0.340   0.865   0.217  1.00  0.00           C  \nHETATM   11  C9  UNL     1       0.917  -0.163  -0.525  1.00  0.00           C  \nHETATM   12  C10 UNL     1       2.322  -0.299  -0.524  1.00  0.00           C  \nHETATM   13  O3  UNL     1       2.779  -1.361  -1.246  1.00  0.00           O  \nHETATM   14  C11 UNL     1       0.048  -1.077  -1.383  1.00  0.00           C  \nHETATM   15  O4  UNL     1       0.389  -2.458  -1.127  1.00  0.00           O  \nHETATM   16  C12 UNL     1      -0.362  -3.076  -0.074  1.00  0.00           C  \nHETATM   17  C13 UNL     1      -1.838  -3.197  -0.480  1.00  0.00           C  \nHETATM   18  C14 UNL     1      -2.252  -2.128  -1.507  1.00  0.00           C  \nHETATM   19  C15 UNL     1      -1.482  -0.807  -1.305  1.00  0.00           C  \nHETATM   20  C16 UNL     1      -1.895  -0.109   0.008  1.00  0.00           C  \nHETATM   21  C17 UNL     1      -3.332   0.378  -0.011  1.00  0.00           C  \nHETATM   22  C18 UNL     1      -4.240  -0.073   0.961  1.00  0.00           C  \nHETATM   23  C19 UNL     1      -5.568   0.367   0.969  1.00  0.00           C  \nHETATM   24  O5  UNL     1      -6.419  -0.098   1.937  1.00  0.00           O  \nHETATM   25  C20 UNL     1      -6.009   1.277  -0.009  1.00  0.00           C  \nHETATM   26  O6  UNL     1      -7.306   1.729  -0.030  1.00  0.00           O  \nHETATM   27  C21 UNL     1      -5.111   1.737  -0.980  1.00  0.00           C  \nHETATM   28  F1  UNL     1      -5.520   2.616  -1.926  1.00  0.00           F  \nHETATM   29  C22 UNL     1      -3.787   1.292  -0.977  1.00  0.00           C  \nHETATM   30  N1  UNL     1      -1.035   1.049   0.235  1.00  0.00           N  \nHETATM   31  H1  UNL     1       5.158   2.669   0.368  1.00  0.00           H  \nHETATM   32  H2  UNL     1       4.896   2.086  -1.286  1.00  0.00           H  \nHETATM   33  H3  UNL     1       6.418   1.748  -0.442  1.00  0.00           H  \nHETATM   34  H4  UNL     1       6.306   0.081   1.667  1.00  0.00           H  \nHETATM   35  H5  UNL     1       5.003   1.068   2.324  1.00  0.00           H  \nHETATM   36  H6  UNL     1       4.741  -0.663   2.046  1.00  0.00           H  \nHETATM   37  H7  UNL     1       6.467  -0.545  -0.602  1.00  0.00           H  \nHETATM   38  H8  UNL     1       5.073  -1.583  -0.313  1.00  0.00           H  \nHETATM   39  H9  UNL     1       5.093  -0.470  -1.707  1.00  0.00           H  \nHETATM   40  H10 UNL     1       2.395   3.065   2.074  1.00  0.00           H  \nHETATM   41  H11 UNL     1      -0.409   2.506   1.800  1.00  0.00           H  \nHETATM   42  H12 UNL     1       2.026  -1.964  -1.358  1.00  0.00           H  \nHETATM   43  H13 UNL     1       0.329  -0.883  -2.422  1.00  0.00           H  \nHETATM   44  H14 UNL     1      -0.266  -2.485   0.841  1.00  0.00           H  \nHETATM   45  H15 UNL     1       0.044  -4.070   0.138  1.00  0.00           H  \nHETATM   46  H16 UNL     1      -2.459  -3.114   0.417  1.00  0.00           H  \nHETATM   47  H17 UNL     1      -2.017  -4.187  -0.911  1.00  0.00           H  \nHETATM   48  H18 UNL     1      -2.027  -2.504  -2.510  1.00  0.00           H  \nHETATM   49  H19 UNL     1      -3.332  -1.964  -1.460  1.00  0.00           H  \nHETATM   50  H20 UNL     1      -1.728  -0.137  -2.134  1.00  0.00           H  \nHETATM   51  H21 UNL     1      -1.765  -0.798   0.847  1.00  0.00           H  \nHETATM   52  H22 UNL     1      -3.905  -0.772   1.720  1.00  0.00           H  \nHETATM   53  H23 UNL     1      -5.948  -0.675   2.560  1.00  0.00           H  \nHETATM   54  H24 UNL     1      -7.420   2.346  -0.772  1.00  0.00           H  \nHETATM   55  H25 UNL     1      -3.117   1.669  -1.744  1.00  0.00           H  \nHETATM   56  H26 UNL     1      -1.359   1.932  -0.159  1.00  0.00           H  \nCONECT    1    2   31   32   33\nCONECT    2    3    4    5\nCONECT    3   34   35   36\nCONECT    4   37   38   39\nCONECT    5    6    6   12\nCONECT    6    7    8\nCONECT    7   40\nCONECT    8    9   10   10\nCONECT    9   41\nCONECT   10   11   30\nCONECT   11   12   12   14\nCONECT   12   13\nCONECT   13   42\nCONECT   14   15   19   43\nCONECT   15   16\nCONECT   16   17   44   45\nCONECT   17   18   46   47\nCONECT   18   19   48   49\nCONECT   19   20   50\nCONECT   20   21   30   51\nCONECT   21   22   22   29\nCONECT   22   23   52\nCONECT   23   24   25   25\nCONECT   24   53\nCONECT   25   26   27\nCONECT   26   54\nCONECT   27   28   29   29\nCONECT   29   55\nCONECT   30   56\n",
           "type": "blob"
          }
         ],
         "kwargs": {
          "defaultRepresentation": true,
          "ext": "pdb",
          "name": "<openff.toolkit.utils.viz._OFFTrajectoryNGLView object at 0x7ff81a479810>"
         },
         "methodName": "loadFile",
         "reconstruc_color_scheme": false,
         "target": "Stage",
         "type": "call_method"
        },
        {
         "args": [
          "label"
         ],
         "component_index": 0,
         "kwargs": {
          "attachment": "middle-center",
          "color": "black",
          "labelType": "atomindex",
          "sele": "all"
         },
         "methodName": "addRepresentation",
         "reconstruc_color_scheme": false,
         "target": "compList",
         "type": "call_method"
        }
       ],
       "_ngl_original_stage_parameters": {},
       "_ngl_repr_dict": {},
       "_ngl_serialize": false,
       "_ngl_version": "",
       "_ngl_view_id": [],
       "_player_dict": {},
       "_scene_position": {},
       "_scene_rotation": {},
       "_synced_model_ids": [],
       "_synced_repr_model_ids": [],
       "_view_count": null,
       "_view_height": "",
       "_view_module": "nglview-js-widgets",
       "_view_module_version": "3.0.6",
       "_view_name": "NGLView",
       "_view_width": "",
       "background": "white",
       "frame": 0,
       "gui_style": null,
       "layout": "IPY_MODEL_4302a4d3c75247fd8277e38a28fa22c8",
       "max_frame": 0,
       "n_components": 0,
       "picked": {},
       "tabbable": null,
       "tooltip": null
      }
     },
     "500424840dca4182a4758246849a7b6e": {
      "model_module": "@jupyter-widgets/controls",
      "model_module_version": "2.0.0",
      "model_name": "HBoxModel",
      "state": {
       "_dom_classes": [],
       "_model_module": "@jupyter-widgets/controls",
       "_model_module_version": "2.0.0",
       "_model_name": "HBoxModel",
       "_view_count": null,
       "_view_module": "@jupyter-widgets/controls",
       "_view_module_version": "2.0.0",
       "_view_name": "HBoxView",
       "box_style": "",
       "children": [
        "IPY_MODEL_b3928032f96245a091622b8e2cf4e094",
        "IPY_MODEL_110552742af943d58c06d50ccea02c04"
       ],
       "layout": "IPY_MODEL_0e1e32d5b6424014a9491857e67f412b",
       "tabbable": null,
       "tooltip": null
      }
     },
     "511bda31284e4a27aab35347d1b732b8": {
      "model_module": "@jupyter-widgets/controls",
      "model_module_version": "2.0.0",
      "model_name": "ButtonStyleModel",
      "state": {
       "_model_module": "@jupyter-widgets/controls",
       "_model_module_version": "2.0.0",
       "_model_name": "ButtonStyleModel",
       "_view_count": null,
       "_view_module": "@jupyter-widgets/base",
       "_view_module_version": "2.0.0",
       "_view_name": "StyleView",
       "button_color": null,
       "font_family": null,
       "font_size": null,
       "font_style": null,
       "font_variant": null,
       "font_weight": null,
       "text_color": null,
       "text_decoration": null
      }
     },
     "57f9567b9e97420a9e570e8c67fc736a": {
      "model_module": "@jupyter-widgets/base",
      "model_module_version": "2.0.0",
      "model_name": "LayoutModel",
      "state": {
       "_model_module": "@jupyter-widgets/base",
       "_model_module_version": "2.0.0",
       "_model_name": "LayoutModel",
       "_view_count": null,
       "_view_module": "@jupyter-widgets/base",
       "_view_module_version": "2.0.0",
       "_view_name": "LayoutView",
       "align_content": null,
       "align_items": null,
       "align_self": null,
       "border_bottom": null,
       "border_left": null,
       "border_right": null,
       "border_top": null,
       "bottom": null,
       "display": null,
       "flex": null,
       "flex_flow": null,
       "grid_area": null,
       "grid_auto_columns": null,
       "grid_auto_flow": null,
       "grid_auto_rows": null,
       "grid_column": null,
       "grid_gap": null,
       "grid_row": null,
       "grid_template_areas": null,
       "grid_template_columns": null,
       "grid_template_rows": null,
       "height": null,
       "justify_content": null,
       "justify_items": null,
       "left": null,
       "margin": null,
       "max_height": null,
       "max_width": null,
       "min_height": null,
       "min_width": null,
       "object_fit": null,
       "object_position": null,
       "order": null,
       "overflow": null,
       "padding": null,
       "right": null,
       "top": null,
       "visibility": null,
       "width": null
      }
     },
     "58f67cd05550435cb222a1e70e3aef29": {
      "model_module": "@jupyter-widgets/controls",
      "model_module_version": "2.0.0",
      "model_name": "LinkModel",
      "state": {
       "_model_module": "@jupyter-widgets/controls",
       "_model_module_version": "2.0.0",
       "_model_name": "LinkModel",
       "_view_count": null,
       "_view_module": "@jupyter-widgets/controls",
       "_view_module_version": "2.0.0",
       "_view_name": null,
       "source": [
        "IPY_MODEL_dc9279198eb54339a31d35ad35773d8a",
        "value"
       ],
       "target": [
        "IPY_MODEL_a433592058f14ec1a37ab0df2f26acab",
        "value"
       ]
      }
     },
     "5a980f9eaeb54538a891cc705767465a": {
      "model_module": "@jupyter-widgets/controls",
      "model_module_version": "2.0.0",
      "model_name": "LinkModel",
      "state": {
       "_model_module": "@jupyter-widgets/controls",
       "_model_module_version": "2.0.0",
       "_model_name": "LinkModel",
       "_view_count": null,
       "_view_module": "@jupyter-widgets/controls",
       "_view_module_version": "2.0.0",
       "_view_name": null,
       "source": [
        "IPY_MODEL_b3928032f96245a091622b8e2cf4e094",
        "value"
       ],
       "target": [
        "IPY_MODEL_110552742af943d58c06d50ccea02c04",
        "value"
       ]
      }
     },
     "5c9118c5398347bea6cd3ec0de3a1b57": {
      "model_module": "@jupyter-widgets/base",
      "model_module_version": "2.0.0",
      "model_name": "LayoutModel",
      "state": {
       "_model_module": "@jupyter-widgets/base",
       "_model_module_version": "2.0.0",
       "_model_name": "LayoutModel",
       "_view_count": null,
       "_view_module": "@jupyter-widgets/base",
       "_view_module_version": "2.0.0",
       "_view_name": "LayoutView",
       "align_content": null,
       "align_items": null,
       "align_self": null,
       "border_bottom": null,
       "border_left": null,
       "border_right": null,
       "border_top": null,
       "bottom": null,
       "display": null,
       "flex": null,
       "flex_flow": null,
       "grid_area": null,
       "grid_auto_columns": null,
       "grid_auto_flow": null,
       "grid_auto_rows": null,
       "grid_column": null,
       "grid_gap": null,
       "grid_row": null,
       "grid_template_areas": null,
       "grid_template_columns": null,
       "grid_template_rows": null,
       "height": null,
       "justify_content": null,
       "justify_items": null,
       "left": null,
       "margin": null,
       "max_height": null,
       "max_width": null,
       "min_height": null,
       "min_width": null,
       "object_fit": null,
       "object_position": null,
       "order": null,
       "overflow": null,
       "padding": null,
       "right": null,
       "top": null,
       "visibility": null,
       "width": null
      }
     },
     "5d68060835e24a32bace96e81a9d39c8": {
      "model_module": "nglview-js-widgets",
      "model_module_version": "3.0.6",
      "model_name": "ColormakerRegistryModel",
      "state": {
       "_dom_classes": [],
       "_model_module": "nglview-js-widgets",
       "_model_module_version": "3.0.6",
       "_model_name": "ColormakerRegistryModel",
       "_msg_ar": [],
       "_msg_q": [],
       "_ready": false,
       "_view_count": null,
       "_view_module": "nglview-js-widgets",
       "_view_module_version": "3.0.6",
       "_view_name": "ColormakerRegistryView",
       "layout": "IPY_MODEL_34e55e6a6b704316a9ade56342dbfc69",
       "tabbable": null,
       "tooltip": null
      }
     },
     "5f69ae5ba9514101afde55f1e44533b6": {
      "buffers": [
       {
        "data": "",
        "encoding": "base64",
        "path": [
         "value"
        ]
       }
      ],
      "model_module": "@jupyter-widgets/controls",
      "model_module_version": "2.0.0",
      "model_name": "ImageModel",
      "state": {
       "_dom_classes": [],
       "_model_module": "@jupyter-widgets/controls",
       "_model_module_version": "2.0.0",
       "_model_name": "ImageModel",
       "_view_count": null,
       "_view_module": "@jupyter-widgets/controls",
       "_view_module_version": "2.0.0",
       "_view_name": "ImageView",
       "format": "png",
       "height": "",
       "layout": "IPY_MODEL_d05f9e03807243b58c7eba03955a777d",
       "tabbable": null,
       "tooltip": null,
       "width": "900.0"
      }
     },
     "5ff30fc86d9946f5a8ca20cca2665b6f": {
      "model_module": "@jupyter-widgets/controls",
      "model_module_version": "2.0.0",
      "model_name": "LinkModel",
      "state": {
       "_model_module": "@jupyter-widgets/controls",
       "_model_module_version": "2.0.0",
       "_model_name": "LinkModel",
       "_view_count": null,
       "_view_module": "@jupyter-widgets/controls",
       "_view_module_version": "2.0.0",
       "_view_name": null,
       "source": [
        "IPY_MODEL_2184a476eb484f9ab47072cdf28a3168",
        "max"
       ],
       "target": [
        "IPY_MODEL_705b92b2e7bd4e388af5f5f7f0e9908f",
        "max_frame"
       ]
      }
     },
     "6025db37d4bd4a278fc3ba3aca9a35d8": {
      "model_module": "@jupyter-widgets/base",
      "model_module_version": "2.0.0",
      "model_name": "LayoutModel",
      "state": {
       "_model_module": "@jupyter-widgets/base",
       "_model_module_version": "2.0.0",
       "_model_name": "LayoutModel",
       "_view_count": null,
       "_view_module": "@jupyter-widgets/base",
       "_view_module_version": "2.0.0",
       "_view_name": "LayoutView",
       "align_content": null,
       "align_items": null,
       "align_self": null,
       "border_bottom": null,
       "border_left": null,
       "border_right": null,
       "border_top": null,
       "bottom": null,
       "display": null,
       "flex": null,
       "flex_flow": null,
       "grid_area": null,
       "grid_auto_columns": null,
       "grid_auto_flow": null,
       "grid_auto_rows": null,
       "grid_column": null,
       "grid_gap": null,
       "grid_row": null,
       "grid_template_areas": null,
       "grid_template_columns": null,
       "grid_template_rows": null,
       "height": null,
       "justify_content": null,
       "justify_items": null,
       "left": null,
       "margin": null,
       "max_height": null,
       "max_width": null,
       "min_height": null,
       "min_width": null,
       "object_fit": null,
       "object_position": null,
       "order": null,
       "overflow": null,
       "padding": null,
       "right": null,
       "top": null,
       "visibility": null,
       "width": null
      }
     },
     "610ea1114ba64c4d90ea7245652fd2e9": {
      "model_module": "@jupyter-widgets/base",
      "model_module_version": "2.0.0",
      "model_name": "LayoutModel",
      "state": {
       "_model_module": "@jupyter-widgets/base",
       "_model_module_version": "2.0.0",
       "_model_name": "LayoutModel",
       "_view_count": null,
       "_view_module": "@jupyter-widgets/base",
       "_view_module_version": "2.0.0",
       "_view_name": "LayoutView",
       "align_content": null,
       "align_items": null,
       "align_self": null,
       "border_bottom": null,
       "border_left": null,
       "border_right": null,
       "border_top": null,
       "bottom": null,
       "display": null,
       "flex": null,
       "flex_flow": null,
       "grid_area": null,
       "grid_auto_columns": null,
       "grid_auto_flow": null,
       "grid_auto_rows": null,
       "grid_column": null,
       "grid_gap": null,
       "grid_row": null,
       "grid_template_areas": null,
       "grid_template_columns": null,
       "grid_template_rows": null,
       "height": null,
       "justify_content": null,
       "justify_items": null,
       "left": null,
       "margin": null,
       "max_height": null,
       "max_width": null,
       "min_height": null,
       "min_width": null,
       "object_fit": null,
       "object_position": null,
       "order": null,
       "overflow": null,
       "padding": null,
       "right": null,
       "top": null,
       "visibility": null,
       "width": null
      }
     },
     "64cd559578984e53a8b1cb1b411edb76": {
      "model_module": "nglview-js-widgets",
      "model_module_version": "3.0.6",
      "model_name": "NGLModel",
      "state": {
       "_camera_orientation": [],
       "_camera_str": "orthographic",
       "_dom_classes": [],
       "_gui_theme": null,
       "_ibtn_fullscreen": "IPY_MODEL_0bd14d27cca8451ea8a0dbeb84350e6a",
       "_igui": null,
       "_iplayer": "IPY_MODEL_31408ec3618f43b391a9a9cd95725828",
       "_model_module": "nglview-js-widgets",
       "_model_module_version": "3.0.6",
       "_model_name": "NGLModel",
       "_ngl_color_dict": {},
       "_ngl_coordinate_resource": {},
       "_ngl_full_stage_parameters": {},
       "_ngl_msg_archive": [
        {
         "args": [
          {
           "binary": false,
           "data": "HETATM    1  C1  UNL     1       5.412   1.996   0.074  1.00  0.00           C  \nHETATM    2  C2  UNL     1       4.695   0.641  -0.041  1.00  0.00           C  \nHETATM    3  C3  UNL     1       5.271  -0.343   0.990  1.00  0.00           C  \nHETATM    4  C4  UNL     1       5.018   0.177  -1.471  1.00  0.00           C  \nHETATM    5  C5  UNL     1       3.170   0.718   0.171  1.00  0.00           C  \nHETATM    6  C6  UNL     1       2.546   1.759   0.901  1.00  0.00           C  \nHETATM    7  O1  UNL     1       3.193   2.781   1.527  1.00  0.00           O  \nHETATM    8  C7  UNL     1       1.166   1.788   1.105  1.00  0.00           C  \nHETATM    9  O2  UNL     1       0.609   2.777   1.893  1.00  0.00           O  \nHETATM   10  C8  UNL     1       0.360   0.793   0.557  1.00  0.00           C  \nHETATM   11  C9  UNL     1       0.929  -0.259  -0.163  1.00  0.00           C  \nHETATM   12  C10 UNL     1       2.324  -0.321  -0.290  1.00  0.00           C  \nHETATM   13  O3  UNL     1       2.813  -1.485  -0.813  1.00  0.00           O  \nHETATM   14  C11 UNL     1       0.059  -1.328  -0.794  1.00  0.00           C  \nHETATM   15  O4  UNL     1       0.228  -2.523  -0.011  1.00  0.00           O  \nHETATM   16  C12 UNL     1      -0.462  -3.654  -0.550  1.00  0.00           C  \nHETATM   17  C13 UNL     1      -1.914  -3.454  -0.950  1.00  0.00           C  \nHETATM   18  C14 UNL     1      -2.319  -2.043  -1.349  1.00  0.00           C  \nHETATM   19  C15 UNL     1      -1.414  -0.877  -0.915  1.00  0.00           C  \nHETATM   20  C16 UNL     1      -1.871  -0.275   0.422  1.00  0.00           C  \nHETATM   21  C17 UNL     1      -3.300   0.232   0.368  1.00  0.00           C  \nHETATM   22  C18 UNL     1      -4.268  -0.295   1.235  1.00  0.00           C  \nHETATM   23  C19 UNL     1      -5.589   0.163   1.207  1.00  0.00           C  \nHETATM   24  O5  UNL     1      -6.501  -0.380   2.074  1.00  0.00           O  \nHETATM   25  C20 UNL     1      -5.962   1.169   0.297  1.00  0.00           C  \nHETATM   26  O6  UNL     1      -7.252   1.640   0.248  1.00  0.00           O  \nHETATM   27  C21 UNL     1      -5.003   1.703  -0.572  1.00  0.00           C  \nHETATM   28  F1  UNL     1      -7.558   8.875  -7.055  1.00  0.00           F  \nHETATM   29  C22 UNL     1      -3.686   1.238  -0.535  1.00  0.00           C  \nHETATM   30  N1  UNL     1      -1.016   0.869   0.753  1.00  0.00           N  \nHETATM   31  H1  UNL     1       6.236   2.202   0.764  1.00  0.00           H  \nHETATM   32  H2  UNL     1       6.401   2.219  -0.338  1.00  0.00           H  \nHETATM   33  H3  UNL     1       6.473   1.770   0.217  1.00  0.00           H  \nHETATM   34  H4  UNL     1       5.668  -0.050   1.967  1.00  0.00           H  \nHETATM   35  H5  UNL     1       4.953   0.040   1.964  1.00  0.00           H  \nHETATM   36  H6  UNL     1       4.747  -0.656   1.898  1.00  0.00           H  \nHETATM   37  H7  UNL     1       6.020   0.157  -1.910  1.00  0.00           H  \nHETATM   38  H8  UNL     1       5.972  -0.356  -1.416  1.00  0.00           H  \nHETATM   39  H9  UNL     1       5.460  -0.793  -1.717  1.00  0.00           H  \nHETATM   40  H10 UNL     1       2.482   3.296   1.944  1.00  0.00           H  \nHETATM   41  H11 UNL     1      -0.233   2.445   2.246  1.00  0.00           H  \nHETATM   42  H12 UNL     1       2.147  -2.167  -0.626  1.00  0.00           H  \nHETATM   43  H13 UNL     1       0.419  -1.517  -1.810  1.00  0.00           H  \nHETATM   44  H14 UNL     1      -0.156  -4.648  -0.213  1.00  0.00           H  \nHETATM   45  H15 UNL     1       0.120  -4.414  -1.079  1.00  0.00           H  \nHETATM   46  H16 UNL     1      -2.670  -4.108  -0.504  1.00  0.00           H  \nHETATM   47  H17 UNL     1      -2.450  -4.296  -1.397  1.00  0.00           H  \nHETATM   48  H18 UNL     1      -2.879  -1.926  -2.281  1.00  0.00           H  \nHETATM   49  H19 UNL     1      -3.383  -1.844  -1.508  1.00  0.00           H  \nHETATM   50  H20 UNL     1      -1.461  -0.101  -1.684  1.00  0.00           H  \nHETATM   51  H21 UNL     1      -1.778  -1.035   1.203  1.00  0.00           H  \nHETATM   52  H22 UNL     1      -3.984  -1.070   1.941  1.00  0.00           H  \nHETATM   53  H23 UNL     1      -6.072  -1.017   2.669  1.00  0.00           H  \nHETATM   54  H24 UNL     1      -7.340   2.341  -0.420  1.00  0.00           H  \nHETATM   55  H25 UNL     1      -2.963   1.668  -1.221  1.00  0.00           H  \nHETATM   56  H26 UNL     1      -1.422   1.791   0.600  1.00  0.00           H  \nCONECT    1    2   31   32   33\nCONECT    2    3    4    5\nCONECT    3   34   35   36\nCONECT    4   37   38   39\nCONECT    5    6    6   12\nCONECT    6    7    8\nCONECT    7   40\nCONECT    8    9   10   10\nCONECT    9   41\nCONECT   10   11   30\nCONECT   11   12   12   14\nCONECT   12   13\nCONECT   13   42\nCONECT   14   15   19   43\nCONECT   15   16\nCONECT   16   17   44   45\nCONECT   17   18   46   47\nCONECT   18   19   48   49\nCONECT   19   20   50\nCONECT   20   21   30   51\nCONECT   21   22   22   29\nCONECT   22   23   52\nCONECT   23   24   25   25\nCONECT   24   53\nCONECT   25   26   27\nCONECT   26   54\nCONECT   27   28   29   29\nCONECT   29   55\nCONECT   30   56\n",
           "type": "blob"
          }
         ],
         "kwargs": {
          "defaultRepresentation": true,
          "ext": "pdb",
          "name": "<openff.toolkit.utils.viz._OFFTrajectoryNGLView object at 0x7ff81a5e4d60>"
         },
         "methodName": "loadFile",
         "reconstruc_color_scheme": false,
         "target": "Stage",
         "type": "call_method"
        }
       ],
       "_ngl_original_stage_parameters": {},
       "_ngl_repr_dict": {},
       "_ngl_serialize": false,
       "_ngl_version": "",
       "_ngl_view_id": [],
       "_player_dict": {},
       "_scene_position": {},
       "_scene_rotation": {},
       "_synced_model_ids": [],
       "_synced_repr_model_ids": [],
       "_view_count": null,
       "_view_height": "",
       "_view_module": "nglview-js-widgets",
       "_view_module_version": "3.0.6",
       "_view_name": "NGLView",
       "_view_width": "",
       "background": "white",
       "frame": 0,
       "gui_style": null,
       "layout": "IPY_MODEL_1c9df320312a43a7b31fca734e7b50af",
       "max_frame": 0,
       "n_components": 0,
       "picked": {},
       "tabbable": null,
       "tooltip": null
      }
     },
     "666af0daa6ad40249fd84f6653fceef7": {
      "model_module": "@jupyter-widgets/controls",
      "model_module_version": "2.0.0",
      "model_name": "ButtonStyleModel",
      "state": {
       "_model_module": "@jupyter-widgets/controls",
       "_model_module_version": "2.0.0",
       "_model_name": "ButtonStyleModel",
       "_view_count": null,
       "_view_module": "@jupyter-widgets/base",
       "_view_module_version": "2.0.0",
       "_view_name": "StyleView",
       "button_color": null,
       "font_family": null,
       "font_size": null,
       "font_style": null,
       "font_variant": null,
       "font_weight": null,
       "text_color": null,
       "text_decoration": null
      }
     },
     "69b4fd3a962b4f2ab63b588fb795114a": {
      "model_module": "@jupyter-widgets/controls",
      "model_module_version": "2.0.0",
      "model_name": "HBoxModel",
      "state": {
       "_dom_classes": [],
       "_model_module": "@jupyter-widgets/controls",
       "_model_module_version": "2.0.0",
       "_model_name": "HBoxModel",
       "_view_count": null,
       "_view_module": "@jupyter-widgets/controls",
       "_view_module_version": "2.0.0",
       "_view_name": "HBoxView",
       "box_style": "",
       "children": [
        "IPY_MODEL_15a1056e60974fca8342433635ee7171",
        "IPY_MODEL_0c5ee2c54b374ded925b7a1ef86028f3"
       ],
       "layout": "IPY_MODEL_cf500cf9ff1e4da8a4aba201640478f9",
       "tabbable": null,
       "tooltip": null
      }
     },
     "6a45ac942d554c8cac06e528e62274f6": {
      "model_module": "@jupyter-widgets/controls",
      "model_module_version": "2.0.0",
      "model_name": "LinkModel",
      "state": {
       "_model_module": "@jupyter-widgets/controls",
       "_model_module_version": "2.0.0",
       "_model_name": "LinkModel",
       "_view_count": null,
       "_view_module": "@jupyter-widgets/controls",
       "_view_module_version": "2.0.0",
       "_view_name": null,
       "source": [
        "IPY_MODEL_7e028c00cd0f40e682adf426c3b9ae58",
        "max"
       ],
       "target": [
        "IPY_MODEL_705b92b2e7bd4e388af5f5f7f0e9908f",
        "max_frame"
       ]
      }
     },
     "705b92b2e7bd4e388af5f5f7f0e9908f": {
      "model_module": "nglview-js-widgets",
      "model_module_version": "3.0.6",
      "model_name": "NGLModel",
      "state": {
       "_camera_orientation": [],
       "_camera_str": "orthographic",
       "_dom_classes": [],
       "_gui_theme": null,
       "_ibtn_fullscreen": "IPY_MODEL_ffda38962f6048c4825735717ea556ec",
       "_igui": null,
       "_iplayer": "IPY_MODEL_420566c2cdb24a3195858402e0520d76",
       "_model_module": "nglview-js-widgets",
       "_model_module_version": "3.0.6",
       "_model_name": "NGLModel",
       "_ngl_color_dict": {},
       "_ngl_coordinate_resource": {},
       "_ngl_full_stage_parameters": {},
       "_ngl_msg_archive": [
        {
         "args": [
          {
           "binary": false,
           "data": "HETATM    1  C1  UNL     1       5.210   2.245   0.382  1.00  0.00           C  \nHETATM    2  C2  UNL     1       4.482   1.035  -0.228  1.00  0.00           C  \nHETATM    3  C3  UNL     1       5.242  -0.221   0.234  1.00  0.00           C  \nHETATM    4  C4  UNL     1       4.587   1.203  -1.753  1.00  0.00           C  \nHETATM    5  C5  UNL     1       2.984   0.885   0.132  1.00  0.00           C  \nHETATM    6  C6  UNL     1       2.281   1.762   1.012  1.00  0.00           C  \nHETATM    7  O1  UNL     1       2.866   2.834   1.632  1.00  0.00           O  \nHETATM    8  C7  UNL     1       0.918   1.567   1.298  1.00  0.00           C  \nHETATM    9  O2  UNL     1       0.217   2.405   2.148  1.00  0.00           O  \nHETATM   10  C8  UNL     1       0.277   0.497   0.696  1.00  0.00           C  \nHETATM   11  C9  UNL     1       0.893  -0.387  -0.168  1.00  0.00           C  \nHETATM   12  C10 UNL     1       2.251  -0.197  -0.439  1.00  0.00           C  \nHETATM   13  O3  UNL     1       2.847  -1.103  -1.275  1.00  0.00           O  \nHETATM   14  C11 UNL     1       0.068  -1.527  -0.793  1.00  0.00           C  \nHETATM   15  O4  UNL     1       0.219  -2.745  -0.113  1.00  0.00           O  \nHETATM   16  C12 UNL     1      -0.187  -3.980   0.392  1.00  0.00           C  \nHETATM   17  C13 UNL     1      -1.669  -4.052   0.032  1.00  0.00           C  \nHETATM   18  C14 UNL     1      -2.233  -2.852  -0.802  1.00  0.00           C  \nHETATM   19  C15 UNL     1      -1.531  -1.439  -0.735  1.00  0.00           C  \nHETATM   20  C16 UNL     1      -2.103  -0.720   0.524  1.00  0.00           C  \nHETATM   21  C17 UNL     1      -3.379   0.045   0.235  1.00  0.00           C  \nHETATM   22  C18 UNL     1      -4.614  -0.439   0.691  1.00  0.00           C  \nHETATM   23  C19 UNL     1      -5.799   0.256   0.435  1.00  0.00           C  \nHETATM   24  O5  UNL     1      -6.981  -0.256   0.903  1.00  0.00           O  \nHETATM   25  C20 UNL     1      -5.763   1.460  -0.290  1.00  0.00           C  \nHETATM   26  O6  UNL     1      -6.911   2.168  -0.553  1.00  0.00           O  \nHETATM   27  C21 UNL     1      -4.536   1.950  -0.754  1.00  0.00           C  \nHETATM   28  F1  UNL     1      -4.202  10.497  -5.933  1.00  0.00           F  \nHETATM   29  C22 UNL     1      -3.357   1.246  -0.493  1.00  0.00           C  \nHETATM   30  N1  UNL     1      -1.025   0.167   0.863  1.00  0.00           N  \nHETATM   31  H1  UNL     1       6.228   2.220   0.784  1.00  0.00           H  \nHETATM   32  H2  UNL     1       5.995   2.818  -0.120  1.00  0.00           H  \nHETATM   33  H3  UNL     1       6.253   2.166   0.061  1.00  0.00           H  \nHETATM   34  H4  UNL     1       5.712  -0.333   1.216  1.00  0.00           H  \nHETATM   35  H5  UNL     1       4.995  -0.336   1.294  1.00  0.00           H  \nHETATM   36  H6  UNL     1       4.843  -0.957   0.939  1.00  0.00           H  \nHETATM   37  H7  UNL     1       5.484   1.530  -2.287  1.00  0.00           H  \nHETATM   38  H8  UNL     1       5.592   0.871  -2.029  1.00  0.00           H  \nHETATM   39  H9  UNL     1       5.092   0.494  -2.415  1.00  0.00           H  \nHETATM   40  H10 UNL     1       3.260   3.600   2.082  1.00  0.00           H  \nHETATM   41  H11 UNL     1      -0.247   3.010   2.749  1.00  0.00           H  \nHETATM   42  H12 UNL     1       3.248  -1.759  -1.870  1.00  0.00           H  \nHETATM   43  H13 UNL     1       0.374  -1.651  -1.836  1.00  0.00           H  \nHETATM   44  H14 UNL     1       0.225  -4.409   1.310  1.00  0.00           H  \nHETATM   45  H15 UNL     1       0.467  -4.855   0.443  1.00  0.00           H  \nHETATM   46  H16 UNL     1      -2.344  -4.583   0.709  1.00  0.00           H  \nHETATM   47  H17 UNL     1      -2.131  -5.037  -0.083  1.00  0.00           H  \nHETATM   48  H18 UNL     1      -2.750  -3.101  -1.733  1.00  0.00           H  \nHETATM   49  H19 UNL     1      -3.304  -2.864  -1.023  1.00  0.00           H  \nHETATM   50  H20 UNL     1      -1.828  -0.860  -1.615  1.00  0.00           H  \nHETATM   51  H21 UNL     1      -2.255  -1.434   1.338  1.00  0.00           H  \nHETATM   52  H22 UNL     1      -4.662  -1.367   1.252  1.00  0.00           H  \nHETATM   53  H23 UNL     1      -7.813  -0.628   1.240  1.00  0.00           H  \nHETATM   54  H24 UNL     1      -7.713   2.680  -0.747  1.00  0.00           H  \nHETATM   55  H25 UNL     1      -2.414   1.638  -0.861  1.00  0.00           H  \nHETATM   56  H26 UNL     1      -1.377   0.856   1.526  1.00  0.00           H  \nCONECT    1    2   31   32   33\nCONECT    2    3    4    5\nCONECT    3   34   35   36\nCONECT    4   37   38   39\nCONECT    5    6    6   12\nCONECT    6    7    8\nCONECT    7   40\nCONECT    8    9   10   10\nCONECT    9   41\nCONECT   10   11   30\nCONECT   11   12   12   14\nCONECT   12   13\nCONECT   13   42\nCONECT   14   15   19   43\nCONECT   15   16\nCONECT   16   17   44   45\nCONECT   17   18   46   47\nCONECT   18   19   48   49\nCONECT   19   20   50\nCONECT   20   21   30   51\nCONECT   21   22   22   29\nCONECT   22   23   52\nCONECT   23   24   25   25\nCONECT   24   53\nCONECT   25   26   27\nCONECT   26   54\nCONECT   27   28   29   29\nCONECT   29   55\nCONECT   30   56\n",
           "type": "blob"
          }
         ],
         "kwargs": {
          "defaultRepresentation": true,
          "ext": "pdb",
          "name": "<openff.toolkit.utils.viz._OFFTrajectoryNGLView object at 0x7ff85418a920>"
         },
         "methodName": "loadFile",
         "reconstruc_color_scheme": false,
         "target": "Stage",
         "type": "call_method"
        }
       ],
       "_ngl_original_stage_parameters": {},
       "_ngl_repr_dict": {},
       "_ngl_serialize": false,
       "_ngl_version": "",
       "_ngl_view_id": [],
       "_player_dict": {},
       "_scene_position": {},
       "_scene_rotation": {},
       "_synced_model_ids": [],
       "_synced_repr_model_ids": [],
       "_view_count": null,
       "_view_height": "",
       "_view_module": "nglview-js-widgets",
       "_view_module_version": "3.0.6",
       "_view_name": "NGLView",
       "_view_width": "",
       "background": "white",
       "frame": 0,
       "gui_style": null,
       "layout": "IPY_MODEL_86348ea20cf04d119ac8cf5046ca6268",
       "max_frame": 0,
       "n_components": 0,
       "picked": {},
       "tabbable": null,
       "tooltip": null
      }
     },
     "720afac493354357bf5691528695e827": {
      "model_module": "@jupyter-widgets/controls",
      "model_module_version": "2.0.0",
      "model_name": "LinkModel",
      "state": {
       "_model_module": "@jupyter-widgets/controls",
       "_model_module_version": "2.0.0",
       "_model_name": "LinkModel",
       "_view_count": null,
       "_view_module": "@jupyter-widgets/controls",
       "_view_module_version": "2.0.0",
       "_view_name": null,
       "source": [
        "IPY_MODEL_8cb6fa65a67b461ab174f778d700d03b",
        "value"
       ],
       "target": [
        "IPY_MODEL_64cd559578984e53a8b1cb1b411edb76",
        "frame"
       ]
      }
     },
     "75a7ac4f19cc42c6ab6b858c3fc3954f": {
      "model_module": "@jupyter-widgets/controls",
      "model_module_version": "2.0.0",
      "model_name": "IntSliderModel",
      "state": {
       "_dom_classes": [],
       "_model_module": "@jupyter-widgets/controls",
       "_model_module_version": "2.0.0",
       "_model_name": "IntSliderModel",
       "_view_count": null,
       "_view_module": "@jupyter-widgets/controls",
       "_view_module_version": "2.0.0",
       "_view_name": "IntSliderView",
       "behavior": "drag-tap",
       "continuous_update": true,
       "description": "",
       "description_allow_html": false,
       "disabled": false,
       "layout": "IPY_MODEL_97c36428c1934738a181af9ff519288b",
       "max": 0,
       "min": 0,
       "orientation": "horizontal",
       "readout": true,
       "readout_format": "d",
       "step": 1,
       "style": "IPY_MODEL_bf17ebaa213a46eab3adad723ab14f8a",
       "tabbable": null,
       "tooltip": null,
       "value": 0
      }
     },
     "79bf926d05ab4964b4ae8d06085f3bcd": {
      "model_module": "@jupyter-widgets/controls",
      "model_module_version": "2.0.0",
      "model_name": "DescriptionStyleModel",
      "state": {
       "_model_module": "@jupyter-widgets/controls",
       "_model_module_version": "2.0.0",
       "_model_name": "DescriptionStyleModel",
       "_view_count": null,
       "_view_module": "@jupyter-widgets/base",
       "_view_module_version": "2.0.0",
       "_view_name": "StyleView",
       "description_width": ""
      }
     },
     "79e2d4b6731840b7962b2ff4a2a43e82": {
      "model_module": "@jupyter-widgets/base",
      "model_module_version": "2.0.0",
      "model_name": "LayoutModel",
      "state": {
       "_model_module": "@jupyter-widgets/base",
       "_model_module_version": "2.0.0",
       "_model_name": "LayoutModel",
       "_view_count": null,
       "_view_module": "@jupyter-widgets/base",
       "_view_module_version": "2.0.0",
       "_view_name": "LayoutView",
       "align_content": null,
       "align_items": null,
       "align_self": null,
       "border_bottom": null,
       "border_left": null,
       "border_right": null,
       "border_top": null,
       "bottom": null,
       "display": null,
       "flex": null,
       "flex_flow": null,
       "grid_area": null,
       "grid_auto_columns": null,
       "grid_auto_flow": null,
       "grid_auto_rows": null,
       "grid_column": null,
       "grid_gap": null,
       "grid_row": null,
       "grid_template_areas": null,
       "grid_template_columns": null,
       "grid_template_rows": null,
       "height": null,
       "justify_content": null,
       "justify_items": null,
       "left": null,
       "margin": null,
       "max_height": null,
       "max_width": null,
       "min_height": null,
       "min_width": null,
       "object_fit": null,
       "object_position": null,
       "order": null,
       "overflow": null,
       "padding": null,
       "right": null,
       "top": null,
       "visibility": null,
       "width": null
      }
     },
     "7e028c00cd0f40e682adf426c3b9ae58": {
      "model_module": "@jupyter-widgets/controls",
      "model_module_version": "2.0.0",
      "model_name": "IntSliderModel",
      "state": {
       "_dom_classes": [],
       "_model_module": "@jupyter-widgets/controls",
       "_model_module_version": "2.0.0",
       "_model_name": "IntSliderModel",
       "_view_count": null,
       "_view_module": "@jupyter-widgets/controls",
       "_view_module_version": "2.0.0",
       "_view_name": "IntSliderView",
       "behavior": "drag-tap",
       "continuous_update": true,
       "description": "",
       "description_allow_html": false,
       "disabled": false,
       "layout": "IPY_MODEL_9a5275db07194414a8f7671d3306ec8c",
       "max": 0,
       "min": 0,
       "orientation": "horizontal",
       "readout": true,
       "readout_format": "d",
       "step": 1,
       "style": "IPY_MODEL_9bcb461bbf374b74a6bace916a82818c",
       "tabbable": null,
       "tooltip": null,
       "value": 0
      }
     },
     "7f68519b95f546429a57c949cffe9b96": {
      "model_module": "@jupyter-widgets/base",
      "model_module_version": "2.0.0",
      "model_name": "LayoutModel",
      "state": {
       "_model_module": "@jupyter-widgets/base",
       "_model_module_version": "2.0.0",
       "_model_name": "LayoutModel",
       "_view_count": null,
       "_view_module": "@jupyter-widgets/base",
       "_view_module_version": "2.0.0",
       "_view_name": "LayoutView",
       "align_content": null,
       "align_items": null,
       "align_self": null,
       "border_bottom": null,
       "border_left": null,
       "border_right": null,
       "border_top": null,
       "bottom": null,
       "display": null,
       "flex": null,
       "flex_flow": null,
       "grid_area": null,
       "grid_auto_columns": null,
       "grid_auto_flow": null,
       "grid_auto_rows": null,
       "grid_column": null,
       "grid_gap": null,
       "grid_row": null,
       "grid_template_areas": null,
       "grid_template_columns": null,
       "grid_template_rows": null,
       "height": null,
       "justify_content": null,
       "justify_items": null,
       "left": null,
       "margin": null,
       "max_height": null,
       "max_width": null,
       "min_height": null,
       "min_width": null,
       "object_fit": null,
       "object_position": null,
       "order": null,
       "overflow": null,
       "padding": null,
       "right": null,
       "top": null,
       "visibility": null,
       "width": "34px"
      }
     },
     "84d24fbc8d38401f9623533742b1939b": {
      "model_module": "@jupyter-widgets/controls",
      "model_module_version": "2.0.0",
      "model_name": "LinkModel",
      "state": {
       "_model_module": "@jupyter-widgets/controls",
       "_model_module_version": "2.0.0",
       "_model_name": "LinkModel",
       "_view_count": null,
       "_view_module": "@jupyter-widgets/controls",
       "_view_module_version": "2.0.0",
       "_view_name": null,
       "source": [
        "IPY_MODEL_dc9279198eb54339a31d35ad35773d8a",
        "max"
       ],
       "target": [
        "IPY_MODEL_f8b93b8614a24267a32d2d8ca9421f8a",
        "max_frame"
       ]
      }
     },
     "86299d919f6449149b11db50b40a74b5": {
      "model_module": "@jupyter-widgets/controls",
      "model_module_version": "2.0.0",
      "model_name": "LinkModel",
      "state": {
       "_model_module": "@jupyter-widgets/controls",
       "_model_module_version": "2.0.0",
       "_model_name": "LinkModel",
       "_view_count": null,
       "_view_module": "@jupyter-widgets/controls",
       "_view_module_version": "2.0.0",
       "_view_name": null,
       "source": [
        "IPY_MODEL_0c5ee2c54b374ded925b7a1ef86028f3",
        "max"
       ],
       "target": [
        "IPY_MODEL_0c5849948fbd4238ab68a9a4223d2e42",
        "max_frame"
       ]
      }
     },
     "86348ea20cf04d119ac8cf5046ca6268": {
      "model_module": "@jupyter-widgets/base",
      "model_module_version": "2.0.0",
      "model_name": "LayoutModel",
      "state": {
       "_model_module": "@jupyter-widgets/base",
       "_model_module_version": "2.0.0",
       "_model_name": "LayoutModel",
       "_view_count": null,
       "_view_module": "@jupyter-widgets/base",
       "_view_module_version": "2.0.0",
       "_view_name": "LayoutView",
       "align_content": null,
       "align_items": null,
       "align_self": null,
       "border_bottom": null,
       "border_left": null,
       "border_right": null,
       "border_top": null,
       "bottom": null,
       "display": null,
       "flex": null,
       "flex_flow": null,
       "grid_area": null,
       "grid_auto_columns": null,
       "grid_auto_flow": null,
       "grid_auto_rows": null,
       "grid_column": null,
       "grid_gap": null,
       "grid_row": null,
       "grid_template_areas": null,
       "grid_template_columns": null,
       "grid_template_rows": null,
       "height": null,
       "justify_content": null,
       "justify_items": null,
       "left": null,
       "margin": null,
       "max_height": null,
       "max_width": null,
       "min_height": null,
       "min_width": null,
       "object_fit": null,
       "object_position": null,
       "order": null,
       "overflow": null,
       "padding": null,
       "right": null,
       "top": null,
       "visibility": null,
       "width": null
      }
     },
     "8c37204eb7c14baea4c9fc003a37b298": {
      "model_module": "@jupyter-widgets/controls",
      "model_module_version": "2.0.0",
      "model_name": "DescriptionStyleModel",
      "state": {
       "_model_module": "@jupyter-widgets/controls",
       "_model_module_version": "2.0.0",
       "_model_name": "DescriptionStyleModel",
       "_view_count": null,
       "_view_module": "@jupyter-widgets/base",
       "_view_module_version": "2.0.0",
       "_view_name": "StyleView",
       "description_width": ""
      }
     },
     "8cb6fa65a67b461ab174f778d700d03b": {
      "model_module": "@jupyter-widgets/controls",
      "model_module_version": "2.0.0",
      "model_name": "PlayModel",
      "state": {
       "_dom_classes": [],
       "_model_module": "@jupyter-widgets/controls",
       "_model_module_version": "2.0.0",
       "_model_name": "PlayModel",
       "_view_count": null,
       "_view_module": "@jupyter-widgets/controls",
       "_view_module_version": "2.0.0",
       "_view_name": "PlayView",
       "description": "",
       "description_allow_html": false,
       "disabled": false,
       "interval": 100,
       "layout": "IPY_MODEL_931fcc3c38cd4738be35c73177860a47",
       "max": 0,
       "min": 0,
       "playing": false,
       "repeat": false,
       "show_repeat": true,
       "step": 1,
       "style": "IPY_MODEL_a39b8e263b764549b1fb341b615e7604",
       "tabbable": null,
       "tooltip": null,
       "value": 0
      }
     },
     "8e7ae3f35f2541ac8ebc9c227624944f": {
      "model_module": "@jupyter-widgets/base",
      "model_module_version": "2.0.0",
      "model_name": "LayoutModel",
      "state": {
       "_model_module": "@jupyter-widgets/base",
       "_model_module_version": "2.0.0",
       "_model_name": "LayoutModel",
       "_view_count": null,
       "_view_module": "@jupyter-widgets/base",
       "_view_module_version": "2.0.0",
       "_view_name": "LayoutView",
       "align_content": null,
       "align_items": null,
       "align_self": null,
       "border_bottom": null,
       "border_left": null,
       "border_right": null,
       "border_top": null,
       "bottom": null,
       "display": null,
       "flex": null,
       "flex_flow": null,
       "grid_area": null,
       "grid_auto_columns": null,
       "grid_auto_flow": null,
       "grid_auto_rows": null,
       "grid_column": null,
       "grid_gap": null,
       "grid_row": null,
       "grid_template_areas": null,
       "grid_template_columns": null,
       "grid_template_rows": null,
       "height": null,
       "justify_content": null,
       "justify_items": null,
       "left": null,
       "margin": null,
       "max_height": null,
       "max_width": null,
       "min_height": null,
       "min_width": null,
       "object_fit": null,
       "object_position": null,
       "order": null,
       "overflow": null,
       "padding": null,
       "right": null,
       "top": null,
       "visibility": null,
       "width": null
      }
     },
     "90ecd6cb8e144299a2291f8238681045": {
      "model_module": "@jupyter-widgets/base",
      "model_module_version": "2.0.0",
      "model_name": "LayoutModel",
      "state": {
       "_model_module": "@jupyter-widgets/base",
       "_model_module_version": "2.0.0",
       "_model_name": "LayoutModel",
       "_view_count": null,
       "_view_module": "@jupyter-widgets/base",
       "_view_module_version": "2.0.0",
       "_view_name": "LayoutView",
       "align_content": null,
       "align_items": null,
       "align_self": null,
       "border_bottom": null,
       "border_left": null,
       "border_right": null,
       "border_top": null,
       "bottom": null,
       "display": null,
       "flex": null,
       "flex_flow": null,
       "grid_area": null,
       "grid_auto_columns": null,
       "grid_auto_flow": null,
       "grid_auto_rows": null,
       "grid_column": null,
       "grid_gap": null,
       "grid_row": null,
       "grid_template_areas": null,
       "grid_template_columns": null,
       "grid_template_rows": null,
       "height": null,
       "justify_content": null,
       "justify_items": null,
       "left": null,
       "margin": null,
       "max_height": null,
       "max_width": null,
       "min_height": null,
       "min_width": null,
       "object_fit": null,
       "object_position": null,
       "order": null,
       "overflow": null,
       "padding": null,
       "right": null,
       "top": null,
       "visibility": null,
       "width": "34px"
      }
     },
     "931fcc3c38cd4738be35c73177860a47": {
      "model_module": "@jupyter-widgets/base",
      "model_module_version": "2.0.0",
      "model_name": "LayoutModel",
      "state": {
       "_model_module": "@jupyter-widgets/base",
       "_model_module_version": "2.0.0",
       "_model_name": "LayoutModel",
       "_view_count": null,
       "_view_module": "@jupyter-widgets/base",
       "_view_module_version": "2.0.0",
       "_view_name": "LayoutView",
       "align_content": null,
       "align_items": null,
       "align_self": null,
       "border_bottom": null,
       "border_left": null,
       "border_right": null,
       "border_top": null,
       "bottom": null,
       "display": null,
       "flex": null,
       "flex_flow": null,
       "grid_area": null,
       "grid_auto_columns": null,
       "grid_auto_flow": null,
       "grid_auto_rows": null,
       "grid_column": null,
       "grid_gap": null,
       "grid_row": null,
       "grid_template_areas": null,
       "grid_template_columns": null,
       "grid_template_rows": null,
       "height": null,
       "justify_content": null,
       "justify_items": null,
       "left": null,
       "margin": null,
       "max_height": null,
       "max_width": null,
       "min_height": null,
       "min_width": null,
       "object_fit": null,
       "object_position": null,
       "order": null,
       "overflow": null,
       "padding": null,
       "right": null,
       "top": null,
       "visibility": null,
       "width": null
      }
     },
     "95495029e69a47f4b9b12d50f245ca15": {
      "model_module": "@jupyter-widgets/base",
      "model_module_version": "2.0.0",
      "model_name": "LayoutModel",
      "state": {
       "_model_module": "@jupyter-widgets/base",
       "_model_module_version": "2.0.0",
       "_model_name": "LayoutModel",
       "_view_count": null,
       "_view_module": "@jupyter-widgets/base",
       "_view_module_version": "2.0.0",
       "_view_name": "LayoutView",
       "align_content": null,
       "align_items": null,
       "align_self": null,
       "border_bottom": null,
       "border_left": null,
       "border_right": null,
       "border_top": null,
       "bottom": null,
       "display": null,
       "flex": null,
       "flex_flow": null,
       "grid_area": null,
       "grid_auto_columns": null,
       "grid_auto_flow": null,
       "grid_auto_rows": null,
       "grid_column": null,
       "grid_gap": null,
       "grid_row": null,
       "grid_template_areas": null,
       "grid_template_columns": null,
       "grid_template_rows": null,
       "height": null,
       "justify_content": null,
       "justify_items": null,
       "left": null,
       "margin": null,
       "max_height": null,
       "max_width": null,
       "min_height": null,
       "min_width": null,
       "object_fit": null,
       "object_position": null,
       "order": null,
       "overflow": null,
       "padding": null,
       "right": null,
       "top": null,
       "visibility": null,
       "width": null
      }
     },
     "972130f2a4f0435da36532ba08b7a1a7": {
      "model_module": "@jupyter-widgets/controls",
      "model_module_version": "2.0.0",
      "model_name": "SliderStyleModel",
      "state": {
       "_model_module": "@jupyter-widgets/controls",
       "_model_module_version": "2.0.0",
       "_model_name": "SliderStyleModel",
       "_view_count": null,
       "_view_module": "@jupyter-widgets/base",
       "_view_module_version": "2.0.0",
       "_view_name": "StyleView",
       "description_width": "",
       "handle_color": null
      }
     },
     "97c36428c1934738a181af9ff519288b": {
      "model_module": "@jupyter-widgets/base",
      "model_module_version": "2.0.0",
      "model_name": "LayoutModel",
      "state": {
       "_model_module": "@jupyter-widgets/base",
       "_model_module_version": "2.0.0",
       "_model_name": "LayoutModel",
       "_view_count": null,
       "_view_module": "@jupyter-widgets/base",
       "_view_module_version": "2.0.0",
       "_view_name": "LayoutView",
       "align_content": null,
       "align_items": null,
       "align_self": null,
       "border_bottom": null,
       "border_left": null,
       "border_right": null,
       "border_top": null,
       "bottom": null,
       "display": null,
       "flex": null,
       "flex_flow": null,
       "grid_area": null,
       "grid_auto_columns": null,
       "grid_auto_flow": null,
       "grid_auto_rows": null,
       "grid_column": null,
       "grid_gap": null,
       "grid_row": null,
       "grid_template_areas": null,
       "grid_template_columns": null,
       "grid_template_rows": null,
       "height": null,
       "justify_content": null,
       "justify_items": null,
       "left": null,
       "margin": null,
       "max_height": null,
       "max_width": null,
       "min_height": null,
       "min_width": null,
       "object_fit": null,
       "object_position": null,
       "order": null,
       "overflow": null,
       "padding": null,
       "right": null,
       "top": null,
       "visibility": null,
       "width": null
      }
     },
     "9a5275db07194414a8f7671d3306ec8c": {
      "model_module": "@jupyter-widgets/base",
      "model_module_version": "2.0.0",
      "model_name": "LayoutModel",
      "state": {
       "_model_module": "@jupyter-widgets/base",
       "_model_module_version": "2.0.0",
       "_model_name": "LayoutModel",
       "_view_count": null,
       "_view_module": "@jupyter-widgets/base",
       "_view_module_version": "2.0.0",
       "_view_name": "LayoutView",
       "align_content": null,
       "align_items": null,
       "align_self": null,
       "border_bottom": null,
       "border_left": null,
       "border_right": null,
       "border_top": null,
       "bottom": null,
       "display": null,
       "flex": null,
       "flex_flow": null,
       "grid_area": null,
       "grid_auto_columns": null,
       "grid_auto_flow": null,
       "grid_auto_rows": null,
       "grid_column": null,
       "grid_gap": null,
       "grid_row": null,
       "grid_template_areas": null,
       "grid_template_columns": null,
       "grid_template_rows": null,
       "height": null,
       "justify_content": null,
       "justify_items": null,
       "left": null,
       "margin": null,
       "max_height": null,
       "max_width": null,
       "min_height": null,
       "min_width": null,
       "object_fit": null,
       "object_position": null,
       "order": null,
       "overflow": null,
       "padding": null,
       "right": null,
       "top": null,
       "visibility": null,
       "width": null
      }
     },
     "9b741f04abec4cbfaeac8236728284ba": {
      "model_module": "@jupyter-widgets/controls",
      "model_module_version": "2.0.0",
      "model_name": "LinkModel",
      "state": {
       "_model_module": "@jupyter-widgets/controls",
       "_model_module_version": "2.0.0",
       "_model_name": "LinkModel",
       "_view_count": null,
       "_view_module": "@jupyter-widgets/controls",
       "_view_module_version": "2.0.0",
       "_view_name": null,
       "source": [
        "IPY_MODEL_110552742af943d58c06d50ccea02c04",
        "max"
       ],
       "target": [
        "IPY_MODEL_4bfb5a37a26648368b866d45d2ea36de",
        "max_frame"
       ]
      }
     },
     "9ba695c97a834db596ce95b2f1e4c970": {
      "model_module": "@jupyter-widgets/controls",
      "model_module_version": "2.0.0",
      "model_name": "ButtonStyleModel",
      "state": {
       "_model_module": "@jupyter-widgets/controls",
       "_model_module_version": "2.0.0",
       "_model_name": "ButtonStyleModel",
       "_view_count": null,
       "_view_module": "@jupyter-widgets/base",
       "_view_module_version": "2.0.0",
       "_view_name": "StyleView",
       "button_color": null,
       "font_family": null,
       "font_size": null,
       "font_style": null,
       "font_variant": null,
       "font_weight": null,
       "text_color": null,
       "text_decoration": null
      }
     },
     "9bcb461bbf374b74a6bace916a82818c": {
      "model_module": "@jupyter-widgets/controls",
      "model_module_version": "2.0.0",
      "model_name": "SliderStyleModel",
      "state": {
       "_model_module": "@jupyter-widgets/controls",
       "_model_module_version": "2.0.0",
       "_model_name": "SliderStyleModel",
       "_view_count": null,
       "_view_module": "@jupyter-widgets/base",
       "_view_module_version": "2.0.0",
       "_view_name": "StyleView",
       "description_width": "",
       "handle_color": null
      }
     },
     "a39b8e263b764549b1fb341b615e7604": {
      "model_module": "@jupyter-widgets/controls",
      "model_module_version": "2.0.0",
      "model_name": "DescriptionStyleModel",
      "state": {
       "_model_module": "@jupyter-widgets/controls",
       "_model_module_version": "2.0.0",
       "_model_name": "DescriptionStyleModel",
       "_view_count": null,
       "_view_module": "@jupyter-widgets/base",
       "_view_module_version": "2.0.0",
       "_view_name": "StyleView",
       "description_width": ""
      }
     },
     "a433592058f14ec1a37ab0df2f26acab": {
      "model_module": "@jupyter-widgets/controls",
      "model_module_version": "2.0.0",
      "model_name": "IntSliderModel",
      "state": {
       "_dom_classes": [],
       "_model_module": "@jupyter-widgets/controls",
       "_model_module_version": "2.0.0",
       "_model_name": "IntSliderModel",
       "_view_count": null,
       "_view_module": "@jupyter-widgets/controls",
       "_view_module_version": "2.0.0",
       "_view_name": "IntSliderView",
       "behavior": "drag-tap",
       "continuous_update": true,
       "description": "",
       "description_allow_html": false,
       "disabled": false,
       "layout": "IPY_MODEL_21c98a5badd9421c87dfa9ef5a04984e",
       "max": 0,
       "min": 0,
       "orientation": "horizontal",
       "readout": true,
       "readout_format": "d",
       "step": 1,
       "style": "IPY_MODEL_972130f2a4f0435da36532ba08b7a1a7",
       "tabbable": null,
       "tooltip": null,
       "value": 0
      }
     },
     "a5877efab5e341cd85a8b0cd8036c9c1": {
      "model_module": "@jupyter-widgets/controls",
      "model_module_version": "2.0.0",
      "model_name": "ButtonModel",
      "state": {
       "_dom_classes": [],
       "_model_module": "@jupyter-widgets/controls",
       "_model_module_version": "2.0.0",
       "_model_name": "ButtonModel",
       "_view_count": null,
       "_view_module": "@jupyter-widgets/controls",
       "_view_module_version": "2.0.0",
       "_view_name": "ButtonView",
       "button_style": "",
       "description": "",
       "disabled": false,
       "icon": "compress",
       "layout": "IPY_MODEL_b48ab127d1bc4907a85d3b2046943445",
       "style": "IPY_MODEL_511bda31284e4a27aab35347d1b732b8",
       "tabbable": null,
       "tooltip": null
      }
     },
     "ac814cb972de4616ac1f66bad9d69184": {
      "model_module": "@jupyter-widgets/controls",
      "model_module_version": "2.0.0",
      "model_name": "LinkModel",
      "state": {
       "_model_module": "@jupyter-widgets/controls",
       "_model_module_version": "2.0.0",
       "_model_name": "LinkModel",
       "_view_count": null,
       "_view_module": "@jupyter-widgets/controls",
       "_view_module_version": "2.0.0",
       "_view_name": null,
       "source": [
        "IPY_MODEL_8cb6fa65a67b461ab174f778d700d03b",
        "value"
       ],
       "target": [
        "IPY_MODEL_75a7ac4f19cc42c6ab6b858c3fc3954f",
        "value"
       ]
      }
     },
     "aed38eddcbf14f5ebf8899c5cdda2f96": {
      "model_module": "@jupyter-widgets/controls",
      "model_module_version": "2.0.0",
      "model_name": "HBoxModel",
      "state": {
       "_dom_classes": [],
       "_model_module": "@jupyter-widgets/controls",
       "_model_module_version": "2.0.0",
       "_model_name": "HBoxModel",
       "_view_count": null,
       "_view_module": "@jupyter-widgets/controls",
       "_view_module_version": "2.0.0",
       "_view_name": "HBoxView",
       "box_style": "",
       "children": [
        "IPY_MODEL_dc9279198eb54339a31d35ad35773d8a",
        "IPY_MODEL_a433592058f14ec1a37ab0df2f26acab"
       ],
       "layout": "IPY_MODEL_084099b8c96c4462814d966657e5e4b4",
       "tabbable": null,
       "tooltip": null
      }
     },
     "b3928032f96245a091622b8e2cf4e094": {
      "model_module": "@jupyter-widgets/controls",
      "model_module_version": "2.0.0",
      "model_name": "PlayModel",
      "state": {
       "_dom_classes": [],
       "_model_module": "@jupyter-widgets/controls",
       "_model_module_version": "2.0.0",
       "_model_name": "PlayModel",
       "_view_count": null,
       "_view_module": "@jupyter-widgets/controls",
       "_view_module_version": "2.0.0",
       "_view_name": "PlayView",
       "description": "",
       "description_allow_html": false,
       "disabled": false,
       "interval": 100,
       "layout": "IPY_MODEL_6025db37d4bd4a278fc3ba3aca9a35d8",
       "max": 0,
       "min": 0,
       "playing": false,
       "repeat": false,
       "show_repeat": true,
       "step": 1,
       "style": "IPY_MODEL_b814d27adf2c4b1691302938ab86bedb",
       "tabbable": null,
       "tooltip": null,
       "value": 0
      }
     },
     "b48ab127d1bc4907a85d3b2046943445": {
      "model_module": "@jupyter-widgets/base",
      "model_module_version": "2.0.0",
      "model_name": "LayoutModel",
      "state": {
       "_model_module": "@jupyter-widgets/base",
       "_model_module_version": "2.0.0",
       "_model_name": "LayoutModel",
       "_view_count": null,
       "_view_module": "@jupyter-widgets/base",
       "_view_module_version": "2.0.0",
       "_view_name": "LayoutView",
       "align_content": null,
       "align_items": null,
       "align_self": null,
       "border_bottom": null,
       "border_left": null,
       "border_right": null,
       "border_top": null,
       "bottom": null,
       "display": null,
       "flex": null,
       "flex_flow": null,
       "grid_area": null,
       "grid_auto_columns": null,
       "grid_auto_flow": null,
       "grid_auto_rows": null,
       "grid_column": null,
       "grid_gap": null,
       "grid_row": null,
       "grid_template_areas": null,
       "grid_template_columns": null,
       "grid_template_rows": null,
       "height": null,
       "justify_content": null,
       "justify_items": null,
       "left": null,
       "margin": null,
       "max_height": null,
       "max_width": null,
       "min_height": null,
       "min_width": null,
       "object_fit": null,
       "object_position": null,
       "order": null,
       "overflow": null,
       "padding": null,
       "right": null,
       "top": null,
       "visibility": null,
       "width": "34px"
      }
     },
     "b814d27adf2c4b1691302938ab86bedb": {
      "model_module": "@jupyter-widgets/controls",
      "model_module_version": "2.0.0",
      "model_name": "DescriptionStyleModel",
      "state": {
       "_model_module": "@jupyter-widgets/controls",
       "_model_module_version": "2.0.0",
       "_model_name": "DescriptionStyleModel",
       "_view_count": null,
       "_view_module": "@jupyter-widgets/base",
       "_view_module_version": "2.0.0",
       "_view_name": "StyleView",
       "description_width": ""
      }
     },
     "bf17ebaa213a46eab3adad723ab14f8a": {
      "model_module": "@jupyter-widgets/controls",
      "model_module_version": "2.0.0",
      "model_name": "SliderStyleModel",
      "state": {
       "_model_module": "@jupyter-widgets/controls",
       "_model_module_version": "2.0.0",
       "_model_name": "SliderStyleModel",
       "_view_count": null,
       "_view_module": "@jupyter-widgets/base",
       "_view_module_version": "2.0.0",
       "_view_name": "StyleView",
       "description_width": "",
       "handle_color": null
      }
     },
     "c6c2b680e132417f97ed234ec09dc659": {
      "model_module": "@jupyter-widgets/base",
      "model_module_version": "2.0.0",
      "model_name": "LayoutModel",
      "state": {
       "_model_module": "@jupyter-widgets/base",
       "_model_module_version": "2.0.0",
       "_model_name": "LayoutModel",
       "_view_count": null,
       "_view_module": "@jupyter-widgets/base",
       "_view_module_version": "2.0.0",
       "_view_name": "LayoutView",
       "align_content": null,
       "align_items": null,
       "align_self": null,
       "border_bottom": null,
       "border_left": null,
       "border_right": null,
       "border_top": null,
       "bottom": null,
       "display": null,
       "flex": null,
       "flex_flow": null,
       "grid_area": null,
       "grid_auto_columns": null,
       "grid_auto_flow": null,
       "grid_auto_rows": null,
       "grid_column": null,
       "grid_gap": null,
       "grid_row": null,
       "grid_template_areas": null,
       "grid_template_columns": null,
       "grid_template_rows": null,
       "height": null,
       "justify_content": null,
       "justify_items": null,
       "left": null,
       "margin": null,
       "max_height": null,
       "max_width": null,
       "min_height": null,
       "min_width": null,
       "object_fit": null,
       "object_position": null,
       "order": null,
       "overflow": null,
       "padding": null,
       "right": null,
       "top": null,
       "visibility": null,
       "width": null
      }
     },
     "c7ef4ec4ce36422fa37262029d8b7f0a": {
      "model_module": "@jupyter-widgets/controls",
      "model_module_version": "2.0.0",
      "model_name": "LinkModel",
      "state": {
       "_model_module": "@jupyter-widgets/controls",
       "_model_module_version": "2.0.0",
       "_model_name": "LinkModel",
       "_view_count": null,
       "_view_module": "@jupyter-widgets/controls",
       "_view_module_version": "2.0.0",
       "_view_name": null,
       "source": [
        "IPY_MODEL_b3928032f96245a091622b8e2cf4e094",
        "value"
       ],
       "target": [
        "IPY_MODEL_4bfb5a37a26648368b866d45d2ea36de",
        "frame"
       ]
      }
     },
     "cf500cf9ff1e4da8a4aba201640478f9": {
      "model_module": "@jupyter-widgets/base",
      "model_module_version": "2.0.0",
      "model_name": "LayoutModel",
      "state": {
       "_model_module": "@jupyter-widgets/base",
       "_model_module_version": "2.0.0",
       "_model_name": "LayoutModel",
       "_view_count": null,
       "_view_module": "@jupyter-widgets/base",
       "_view_module_version": "2.0.0",
       "_view_name": "LayoutView",
       "align_content": null,
       "align_items": null,
       "align_self": null,
       "border_bottom": null,
       "border_left": null,
       "border_right": null,
       "border_top": null,
       "bottom": null,
       "display": null,
       "flex": null,
       "flex_flow": null,
       "grid_area": null,
       "grid_auto_columns": null,
       "grid_auto_flow": null,
       "grid_auto_rows": null,
       "grid_column": null,
       "grid_gap": null,
       "grid_row": null,
       "grid_template_areas": null,
       "grid_template_columns": null,
       "grid_template_rows": null,
       "height": null,
       "justify_content": null,
       "justify_items": null,
       "left": null,
       "margin": null,
       "max_height": null,
       "max_width": null,
       "min_height": null,
       "min_width": null,
       "object_fit": null,
       "object_position": null,
       "order": null,
       "overflow": null,
       "padding": null,
       "right": null,
       "top": null,
       "visibility": null,
       "width": null
      }
     },
     "d05f9e03807243b58c7eba03955a777d": {
      "model_module": "@jupyter-widgets/base",
      "model_module_version": "2.0.0",
      "model_name": "LayoutModel",
      "state": {
       "_model_module": "@jupyter-widgets/base",
       "_model_module_version": "2.0.0",
       "_model_name": "LayoutModel",
       "_view_count": null,
       "_view_module": "@jupyter-widgets/base",
       "_view_module_version": "2.0.0",
       "_view_name": "LayoutView",
       "align_content": null,
       "align_items": null,
       "align_self": null,
       "border_bottom": null,
       "border_left": null,
       "border_right": null,
       "border_top": null,
       "bottom": null,
       "display": null,
       "flex": null,
       "flex_flow": null,
       "grid_area": null,
       "grid_auto_columns": null,
       "grid_auto_flow": null,
       "grid_auto_rows": null,
       "grid_column": null,
       "grid_gap": null,
       "grid_row": null,
       "grid_template_areas": null,
       "grid_template_columns": null,
       "grid_template_rows": null,
       "height": null,
       "justify_content": null,
       "justify_items": null,
       "left": null,
       "margin": null,
       "max_height": null,
       "max_width": null,
       "min_height": null,
       "min_width": null,
       "object_fit": null,
       "object_position": null,
       "order": null,
       "overflow": null,
       "padding": null,
       "right": null,
       "top": null,
       "visibility": null,
       "width": null
      }
     },
     "d55a6a07ae3e4e9a897e1469f435de84": {
      "model_module": "@jupyter-widgets/controls",
      "model_module_version": "2.0.0",
      "model_name": "DescriptionStyleModel",
      "state": {
       "_model_module": "@jupyter-widgets/controls",
       "_model_module_version": "2.0.0",
       "_model_name": "DescriptionStyleModel",
       "_view_count": null,
       "_view_module": "@jupyter-widgets/base",
       "_view_module_version": "2.0.0",
       "_view_name": "StyleView",
       "description_width": ""
      }
     },
     "d900001dc6094951a5ba9282067adf5c": {
      "model_module": "@jupyter-widgets/base",
      "model_module_version": "2.0.0",
      "model_name": "LayoutModel",
      "state": {
       "_model_module": "@jupyter-widgets/base",
       "_model_module_version": "2.0.0",
       "_model_name": "LayoutModel",
       "_view_count": null,
       "_view_module": "@jupyter-widgets/base",
       "_view_module_version": "2.0.0",
       "_view_name": "LayoutView",
       "align_content": null,
       "align_items": null,
       "align_self": null,
       "border_bottom": null,
       "border_left": null,
       "border_right": null,
       "border_top": null,
       "bottom": null,
       "display": null,
       "flex": null,
       "flex_flow": null,
       "grid_area": null,
       "grid_auto_columns": null,
       "grid_auto_flow": null,
       "grid_auto_rows": null,
       "grid_column": null,
       "grid_gap": null,
       "grid_row": null,
       "grid_template_areas": null,
       "grid_template_columns": null,
       "grid_template_rows": null,
       "height": null,
       "justify_content": null,
       "justify_items": null,
       "left": null,
       "margin": null,
       "max_height": null,
       "max_width": null,
       "min_height": null,
       "min_width": null,
       "object_fit": null,
       "object_position": null,
       "order": null,
       "overflow": null,
       "padding": null,
       "right": null,
       "top": null,
       "visibility": null,
       "width": null
      }
     },
     "d9860cf8f7b74a86ad5b6c711043c7ed": {
      "model_module": "@jupyter-widgets/controls",
      "model_module_version": "2.0.0",
      "model_name": "LinkModel",
      "state": {
       "_model_module": "@jupyter-widgets/controls",
       "_model_module_version": "2.0.0",
       "_model_name": "LinkModel",
       "_view_count": null,
       "_view_module": "@jupyter-widgets/controls",
       "_view_module_version": "2.0.0",
       "_view_name": null,
       "source": [
        "IPY_MODEL_15a1056e60974fca8342433635ee7171",
        "max"
       ],
       "target": [
        "IPY_MODEL_0c5849948fbd4238ab68a9a4223d2e42",
        "max_frame"
       ]
      }
     },
     "d9f07e7199074712921dcca37e688d06": {
      "buffers": [
       {
        "data": "",
        "encoding": "base64",
        "path": [
         "value"
        ]
       }
      ],
      "model_module": "@jupyter-widgets/controls",
      "model_module_version": "2.0.0",
      "model_name": "ImageModel",
      "state": {
       "_dom_classes": [],
       "_model_module": "@jupyter-widgets/controls",
       "_model_module_version": "2.0.0",
       "_model_name": "ImageModel",
       "_view_count": null,
       "_view_module": "@jupyter-widgets/controls",
       "_view_module_version": "2.0.0",
       "_view_name": "ImageView",
       "format": "png",
       "height": "",
       "layout": "IPY_MODEL_57f9567b9e97420a9e570e8c67fc736a",
       "tabbable": null,
       "tooltip": null,
       "width": "900.0"
      }
     },
     "da08a21b1520421e962b2f8be0f97f88": {
      "model_module": "@jupyter-widgets/base",
      "model_module_version": "2.0.0",
      "model_name": "LayoutModel",
      "state": {
       "_model_module": "@jupyter-widgets/base",
       "_model_module_version": "2.0.0",
       "_model_name": "LayoutModel",
       "_view_count": null,
       "_view_module": "@jupyter-widgets/base",
       "_view_module_version": "2.0.0",
       "_view_name": "LayoutView",
       "align_content": null,
       "align_items": null,
       "align_self": null,
       "border_bottom": null,
       "border_left": null,
       "border_right": null,
       "border_top": null,
       "bottom": null,
       "display": null,
       "flex": null,
       "flex_flow": null,
       "grid_area": null,
       "grid_auto_columns": null,
       "grid_auto_flow": null,
       "grid_auto_rows": null,
       "grid_column": null,
       "grid_gap": null,
       "grid_row": null,
       "grid_template_areas": null,
       "grid_template_columns": null,
       "grid_template_rows": null,
       "height": null,
       "justify_content": null,
       "justify_items": null,
       "left": null,
       "margin": null,
       "max_height": null,
       "max_width": null,
       "min_height": null,
       "min_width": null,
       "object_fit": null,
       "object_position": null,
       "order": null,
       "overflow": null,
       "padding": null,
       "right": null,
       "top": null,
       "visibility": null,
       "width": "34px"
      }
     },
     "dc9279198eb54339a31d35ad35773d8a": {
      "model_module": "@jupyter-widgets/controls",
      "model_module_version": "2.0.0",
      "model_name": "PlayModel",
      "state": {
       "_dom_classes": [],
       "_model_module": "@jupyter-widgets/controls",
       "_model_module_version": "2.0.0",
       "_model_name": "PlayModel",
       "_view_count": null,
       "_view_module": "@jupyter-widgets/controls",
       "_view_module_version": "2.0.0",
       "_view_name": "PlayView",
       "description": "",
       "description_allow_html": false,
       "disabled": false,
       "interval": 100,
       "layout": "IPY_MODEL_c6c2b680e132417f97ed234ec09dc659",
       "max": 0,
       "min": 0,
       "playing": false,
       "repeat": false,
       "show_repeat": true,
       "step": 1,
       "style": "IPY_MODEL_d55a6a07ae3e4e9a897e1469f435de84",
       "tabbable": null,
       "tooltip": null,
       "value": 0
      }
     },
     "e6b7dcead5094277971122d8e76c536e": {
      "model_module": "@jupyter-widgets/controls",
      "model_module_version": "2.0.0",
      "model_name": "LinkModel",
      "state": {
       "_model_module": "@jupyter-widgets/controls",
       "_model_module_version": "2.0.0",
       "_model_name": "LinkModel",
       "_view_count": null,
       "_view_module": "@jupyter-widgets/controls",
       "_view_module_version": "2.0.0",
       "_view_name": null,
       "source": [
        "IPY_MODEL_15a1056e60974fca8342433635ee7171",
        "value"
       ],
       "target": [
        "IPY_MODEL_0c5ee2c54b374ded925b7a1ef86028f3",
        "value"
       ]
      }
     },
     "ed28200e849c4f0eb241fc25e630fed3": {
      "buffers": [
       {
        "data": "",
        "encoding": "base64",
        "path": [
         "value"
        ]
       }
      ],
      "model_module": "@jupyter-widgets/controls",
      "model_module_version": "2.0.0",
      "model_name": "ImageModel",
      "state": {
       "_dom_classes": [],
       "_model_module": "@jupyter-widgets/controls",
       "_model_module_version": "2.0.0",
       "_model_name": "ImageModel",
       "_view_count": null,
       "_view_module": "@jupyter-widgets/controls",
       "_view_module_version": "2.0.0",
       "_view_name": "ImageView",
       "format": "png",
       "height": "",
       "layout": "IPY_MODEL_610ea1114ba64c4d90ea7245652fd2e9",
       "tabbable": null,
       "tooltip": null,
       "width": "900.0"
      }
     },
     "ee55d12edf03414b99036b158c20adfa": {
      "model_module": "@jupyter-widgets/controls",
      "model_module_version": "2.0.0",
      "model_name": "ButtonModel",
      "state": {
       "_dom_classes": [],
       "_model_module": "@jupyter-widgets/controls",
       "_model_module_version": "2.0.0",
       "_model_name": "ButtonModel",
       "_view_count": null,
       "_view_module": "@jupyter-widgets/controls",
       "_view_module_version": "2.0.0",
       "_view_name": "ButtonView",
       "button_style": "",
       "description": "",
       "disabled": false,
       "icon": "compress",
       "layout": "IPY_MODEL_da08a21b1520421e962b2f8be0f97f88",
       "style": "IPY_MODEL_9ba695c97a834db596ce95b2f1e4c970",
       "tabbable": null,
       "tooltip": null
      }
     },
     "f152c8e2c6004cdcb754a59a98f282df": {
      "buffers": [
       {
        "data": "",
        "encoding": "base64",
        "path": [
         "value"
        ]
       }
      ],
      "model_module": "@jupyter-widgets/controls",
      "model_module_version": "2.0.0",
      "model_name": "ImageModel",
      "state": {
       "_dom_classes": [],
       "_model_module": "@jupyter-widgets/controls",
       "_model_module_version": "2.0.0",
       "_model_name": "ImageModel",
       "_view_count": null,
       "_view_module": "@jupyter-widgets/controls",
       "_view_module_version": "2.0.0",
       "_view_name": "ImageView",
       "format": "png",
       "height": "",
       "layout": "IPY_MODEL_95495029e69a47f4b9b12d50f245ca15",
       "tabbable": null,
       "tooltip": null,
       "width": "900.0"
      }
     },
     "f1f9977a80d9468abe303e92c9e0ed80": {
      "model_module": "@jupyter-widgets/controls",
      "model_module_version": "2.0.0",
      "model_name": "ButtonModel",
      "state": {
       "_dom_classes": [],
       "_model_module": "@jupyter-widgets/controls",
       "_model_module_version": "2.0.0",
       "_model_name": "ButtonModel",
       "_view_count": null,
       "_view_module": "@jupyter-widgets/controls",
       "_view_module_version": "2.0.0",
       "_view_name": "ButtonView",
       "button_style": "",
       "description": "",
       "disabled": false,
       "icon": "compress",
       "layout": "IPY_MODEL_09290005154a420eb24248df0e6310a5",
       "style": "IPY_MODEL_14a6097b280342e0928942cf0046ff7b",
       "tabbable": null,
       "tooltip": null
      }
     },
     "f362b0971d974ae89e4e7673fa9d22af": {
      "model_module": "@jupyter-widgets/controls",
      "model_module_version": "2.0.0",
      "model_name": "LinkModel",
      "state": {
       "_model_module": "@jupyter-widgets/controls",
       "_model_module_version": "2.0.0",
       "_model_name": "LinkModel",
       "_view_count": null,
       "_view_module": "@jupyter-widgets/controls",
       "_view_module_version": "2.0.0",
       "_view_name": null,
       "source": [
        "IPY_MODEL_8cb6fa65a67b461ab174f778d700d03b",
        "max"
       ],
       "target": [
        "IPY_MODEL_64cd559578984e53a8b1cb1b411edb76",
        "max_frame"
       ]
      }
     },
     "f8b93b8614a24267a32d2d8ca9421f8a": {
      "model_module": "nglview-js-widgets",
      "model_module_version": "3.0.6",
      "model_name": "NGLModel",
      "state": {
       "_camera_orientation": [],
       "_camera_str": "orthographic",
       "_dom_classes": [],
       "_gui_theme": null,
       "_ibtn_fullscreen": "IPY_MODEL_f1f9977a80d9468abe303e92c9e0ed80",
       "_igui": null,
       "_iplayer": "IPY_MODEL_aed38eddcbf14f5ebf8899c5cdda2f96",
       "_model_module": "nglview-js-widgets",
       "_model_module_version": "3.0.6",
       "_model_name": "NGLModel",
       "_ngl_color_dict": {},
       "_ngl_coordinate_resource": {},
       "_ngl_full_stage_parameters": {},
       "_ngl_msg_archive": [
        {
         "args": [
          {
           "binary": false,
           "data": "HETATM    1  C1  UNL     1       5.059   2.152  -0.644  1.00  0.00           C  \nHETATM    2  C2  UNL     1       4.661   0.800  -0.012  1.00  0.00           C  \nHETATM    3  C3  UNL     1       5.341   0.628   1.363  1.00  0.00           C  \nHETATM    4  C4  UNL     1       5.304  -0.269  -0.922  1.00  0.00           C  \nHETATM    5  C5  UNL     1       3.113   0.721   0.147  1.00  0.00           C  \nHETATM    6  C6  UNL     1       2.435   1.673   0.963  1.00  0.00           C  \nHETATM    7  O1  UNL     1       3.035   2.691   1.640  1.00  0.00           O  \nHETATM    8  C7  UNL     1       1.057   1.632   1.187  1.00  0.00           C  \nHETATM    9  O2  UNL     1       0.465   2.516   2.070  1.00  0.00           O  \nHETATM   10  C8  UNL     1       0.323   0.658   0.531  1.00  0.00           C  \nHETATM   11  C9  UNL     1       0.895  -0.277  -0.309  1.00  0.00           C  \nHETATM   12  C10 UNL     1       2.287  -0.276  -0.460  1.00  0.00           C  \nHETATM   13  O3  UNL     1       2.744  -1.333  -1.190  1.00  0.00           O  \nHETATM   14  C11 UNL     1      -0.001  -1.278  -1.059  1.00  0.00           C  \nHETATM   15  O4  UNL     1       0.168  -2.575  -0.558  1.00  0.00           O  \nHETATM   16  C12 UNL     1      -0.166  -3.881  -0.184  1.00  0.00           C  \nHETATM   17  C13 UNL     1      -1.695  -3.680  -0.049  1.00  0.00           C  \nHETATM   18  C14 UNL     1      -2.283  -2.594  -1.027  1.00  0.00           C  \nHETATM   19  C15 UNL     1      -1.589  -1.175  -0.941  1.00  0.00           C  \nHETATM   20  C16 UNL     1      -2.119  -0.419   0.315  1.00  0.00           C  \nHETATM   21  C17 UNL     1      -3.373   0.386   0.046  1.00  0.00           C  \nHETATM   22  C18 UNL     1      -4.599  -0.012   0.602  1.00  0.00           C  \nHETATM   23  C19 UNL     1      -5.767   0.723   0.370  1.00  0.00           C  \nHETATM   24  O5  UNL     1      -6.944   0.300   0.931  1.00  0.00           O  \nHETATM   25  C20 UNL     1      -5.719   1.878  -0.431  1.00  0.00           C  \nHETATM   26  O6  UNL     1      -6.846   2.625  -0.676  1.00  0.00           O  \nHETATM   27  C21 UNL     1      -4.500   2.281  -0.994  1.00  0.00           C  \nHETATM   28  F1  UNL     1      -4.441   3.390  -1.770  1.00  0.00           F  \nHETATM   29  C22 UNL     1      -3.341   1.539  -0.756  1.00  0.00           C  \nHETATM   30  N1  UNL     1      -1.012   0.441   0.633  1.00  0.00           N  \nHETATM   31  H1  UNL     1       4.836   2.995   0.018  1.00  0.00           H  \nHETATM   32  H2  UNL     1       4.519   2.302  -1.584  1.00  0.00           H  \nHETATM   33  H3  UNL     1       6.132   2.183  -0.854  1.00  0.00           H  \nHETATM   34  H4  UNL     1       6.427   0.569   1.254  1.00  0.00           H  \nHETATM   35  H5  UNL     1       5.127   1.466   2.032  1.00  0.00           H  \nHETATM   36  H6  UNL     1       4.993  -0.292   1.843  1.00  0.00           H  \nHETATM   37  H7  UNL     1       6.385  -0.115  -1.002  1.00  0.00           H  \nHETATM   38  H8  UNL     1       5.147  -1.272  -0.515  1.00  0.00           H  \nHETATM   39  H9  UNL     1       4.888  -0.221  -1.933  1.00  0.00           H  \nHETATM   40  H10 UNL     1       2.305   3.149   2.089  1.00  0.00           H  \nHETATM   41  H11 UNL     1      -0.250   2.071   2.555  1.00  0.00           H  \nHETATM   42  H12 UNL     1       2.045  -2.007  -1.165  1.00  0.00           H  \nHETATM   43  H13 UNL     1       0.264  -1.252  -2.120  1.00  0.00           H  \nHETATM   44  H14 UNL     1       0.302  -4.187   0.756  1.00  0.00           H  \nHETATM   45  H15 UNL     1       0.083  -4.596  -0.973  1.00  0.00           H  \nHETATM   46  H16 UNL     1      -1.911  -3.378   0.980  1.00  0.00           H  \nHETATM   47  H17 UNL     1      -2.198  -4.637  -0.218  1.00  0.00           H  \nHETATM   48  H18 UNL     1      -2.169  -2.964  -2.050  1.00  0.00           H  \nHETATM   49  H19 UNL     1      -3.356  -2.487  -0.843  1.00  0.00           H  \nHETATM   50  H20 UNL     1      -1.907  -0.598  -1.814  1.00  0.00           H  \nHETATM   51  H21 UNL     1      -2.282  -1.113   1.145  1.00  0.00           H  \nHETATM   52  H22 UNL     1      -4.641  -0.903   1.219  1.00  0.00           H  \nHETATM   53  H23 UNL     1      -6.808  -0.516   1.441  1.00  0.00           H  \nHETATM   54  H24 UNL     1      -6.615   3.375  -1.249  1.00  0.00           H  \nHETATM   55  H25 UNL     1      -2.410   1.865  -1.208  1.00  0.00           H  \nHETATM   56  H26 UNL     1      -1.412   1.310   0.987  1.00  0.00           H  \nCONECT    1    2   31   32   33\nCONECT    2    3    4    5\nCONECT    3   34   35   36\nCONECT    4   37   38   39\nCONECT    5    6    6   12\nCONECT    6    7    8\nCONECT    7   40\nCONECT    8    9   10   10\nCONECT    9   41\nCONECT   10   11   30\nCONECT   11   12   12   14\nCONECT   12   13\nCONECT   13   42\nCONECT   14   15   19   43\nCONECT   15   16\nCONECT   16   17   44   45\nCONECT   17   18   46   47\nCONECT   18   19   48   49\nCONECT   19   20   50\nCONECT   20   21   30   51\nCONECT   21   22   22   29\nCONECT   22   23   52\nCONECT   23   24   25   25\nCONECT   24   53\nCONECT   25   26   27\nCONECT   26   54\nCONECT   27   28   29   29\nCONECT   29   55\nCONECT   30   56\n",
           "type": "blob"
          }
         ],
         "kwargs": {
          "defaultRepresentation": true,
          "ext": "pdb",
          "name": "<openff.toolkit.utils.viz._OFFTrajectoryNGLView object at 0x7ff8182fe560>"
         },
         "methodName": "loadFile",
         "reconstruc_color_scheme": false,
         "target": "Stage",
         "type": "call_method"
        }
       ],
       "_ngl_original_stage_parameters": {},
       "_ngl_repr_dict": {},
       "_ngl_serialize": false,
       "_ngl_version": "",
       "_ngl_view_id": [],
       "_player_dict": {},
       "_scene_position": {},
       "_scene_rotation": {},
       "_synced_model_ids": [],
       "_synced_repr_model_ids": [],
       "_view_count": null,
       "_view_height": "",
       "_view_module": "nglview-js-widgets",
       "_view_module_version": "3.0.6",
       "_view_name": "NGLView",
       "_view_width": "",
       "background": "white",
       "frame": 0,
       "gui_style": null,
       "layout": "IPY_MODEL_3d7ec63c36534e10b90dd012f89bdc91",
       "max_frame": 0,
       "n_components": 0,
       "picked": {},
       "tabbable": null,
       "tooltip": null
      }
     },
     "fa7c45aa83c04bee9cfe83d8fc5b3ad6": {
      "model_module": "@jupyter-widgets/controls",
      "model_module_version": "2.0.0",
      "model_name": "LinkModel",
      "state": {
       "_model_module": "@jupyter-widgets/controls",
       "_model_module_version": "2.0.0",
       "_model_name": "LinkModel",
       "_view_count": null,
       "_view_module": "@jupyter-widgets/controls",
       "_view_module_version": "2.0.0",
       "_view_name": null,
       "source": [
        "IPY_MODEL_75a7ac4f19cc42c6ab6b858c3fc3954f",
        "max"
       ],
       "target": [
        "IPY_MODEL_64cd559578984e53a8b1cb1b411edb76",
        "max_frame"
       ]
      }
     },
     "ff2b2c8be6f24f399ada515ac6a715c1": {
      "model_module": "@jupyter-widgets/controls",
      "model_module_version": "2.0.0",
      "model_name": "LinkModel",
      "state": {
       "_model_module": "@jupyter-widgets/controls",
       "_model_module_version": "2.0.0",
       "_model_name": "LinkModel",
       "_view_count": null,
       "_view_module": "@jupyter-widgets/controls",
       "_view_module_version": "2.0.0",
       "_view_name": null,
       "source": [
        "IPY_MODEL_2184a476eb484f9ab47072cdf28a3168",
        "value"
       ],
       "target": [
        "IPY_MODEL_705b92b2e7bd4e388af5f5f7f0e9908f",
        "frame"
       ]
      }
     },
     "ffda38962f6048c4825735717ea556ec": {
      "model_module": "@jupyter-widgets/controls",
      "model_module_version": "2.0.0",
      "model_name": "ButtonModel",
      "state": {
       "_dom_classes": [],
       "_model_module": "@jupyter-widgets/controls",
       "_model_module_version": "2.0.0",
       "_model_name": "ButtonModel",
       "_view_count": null,
       "_view_module": "@jupyter-widgets/controls",
       "_view_module_version": "2.0.0",
       "_view_name": "ButtonView",
       "button_style": "",
       "description": "",
       "disabled": false,
       "icon": "compress",
       "layout": "IPY_MODEL_7f68519b95f546429a57c949cffe9b96",
       "style": "IPY_MODEL_2176b9f609054c39b73ffc41e0399936",
       "tabbable": null,
       "tooltip": null
      }
     }
    },
    "version_major": 2,
    "version_minor": 0
   }
  }
 },
 "nbformat": 4,
 "nbformat_minor": 4
}
