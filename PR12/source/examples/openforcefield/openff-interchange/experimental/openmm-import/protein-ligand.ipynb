{
 "cells": [
  {
   "cell_type": "markdown",
   "id": "5e25ff94-371f-4917-b83c-561ef73824ab",
   "metadata": {},
   "source": [
    "# Loading a system from OpenMM into Interchange"
   ]
  },
  {
   "cell_type": "markdown",
   "id": "f79e480a-e2c6-416d-8156-2c26ecaae70e",
   "metadata": {},
   "source": [
    "Interchange is intended as a bidirectional system conversion tool, but it's functionality for loading systems from software other than the OpenFF stack is experimental and in active development. This example describes creating an `Interchange` from an OpenMM `System` and `Topology`."
   ]
  },
  {
   "cell_type": "code",
   "execution_count": 1,
   "id": "1ef6cb9c-8011-4a3e-a82b-0c7f8347dafd",
   "metadata": {
    "execution": {
     "iopub.execute_input": "2023-07-05T09:53:52.664816Z",
     "iopub.status.busy": "2023-07-05T09:53:52.664422Z",
     "iopub.status.idle": "2023-07-05T09:53:55.089637Z",
     "shell.execute_reply": "2023-07-05T09:53:55.087713Z"
    }
   },
   "outputs": [
    {
     "data": {
      "application/vnd.jupyter.widget-view+json": {
       "model_id": "bcf592686ac74c1ea2abf428df431151",
       "version_major": 2,
       "version_minor": 0
      },
      "text/plain": []
     },
     "metadata": {},
     "output_type": "display_data"
    }
   ],
   "source": [
    "import pathlib\n",
    "import sys\n",
    "import urllib.request\n",
    "from typing import Dict, Tuple\n",
    "\n",
    "import openmm\n",
    "import openmm.app\n",
    "import openmm.unit\n",
    "from openff.units.openmm import ensure_quantity\n",
    "\n",
    "from openff.interchange.drivers import get_openmm_energies\n",
    "from openff.interchange.drivers.openmm import _get_openmm_energies, _process\n",
    "from openff.interchange.interop.openmm import from_openmm\n",
    "\n",
    "sys.setrecursionlimit(5000)"
   ]
  },
  {
   "cell_type": "markdown",
   "id": "56b26c89-7e6f-44c3-bb8a-5bab786bae88",
   "metadata": {},
   "source": [
    "First we'll create an OpenMM system and topology to experiment on:"
   ]
  },
  {
   "cell_type": "code",
   "execution_count": 2,
   "id": "040c6eab",
   "metadata": {
    "execution": {
     "iopub.execute_input": "2023-07-05T09:53:55.095458Z",
     "iopub.status.busy": "2023-07-05T09:53:55.094739Z",
     "iopub.status.idle": "2023-07-05T09:53:55.112695Z",
     "shell.execute_reply": "2023-07-05T09:53:55.111755Z"
    }
   },
   "outputs": [],
   "source": [
    "def openmm_pathway(\n",
    "    pdb_file: openmm.app.PDBFile,\n",
    "    force_field: openmm.app.ForceField,\n",
    ") -> Tuple[openmm.System, openmm.unit.Quantity, openmm.unit.Quantity,]:\n",
    "    \"\"\"\n",
    "    Return an openmm.System, coordinates, and box vectors that result from applying this force field\n",
    "    to this PDB file.\n",
    "    \"\"\"\n",
    "    from openmm import unit\n",
    "\n",
    "    system = force_field.createSystem(\n",
    "        pdb_file.topology,\n",
    "        nonbondedCutoff=unit.Quantity(0.9, unit.nanometer),\n",
    "    )\n",
    "\n",
    "    return system, pdb_file.getPositions(), pdb_file.topology.getPeriodicBoxVectors()"
   ]
  },
  {
   "cell_type": "code",
   "execution_count": 3,
   "id": "7b726388-3f15-407d-85dc-87d66d1062dc",
   "metadata": {
    "execution": {
     "iopub.execute_input": "2023-07-05T09:53:55.116989Z",
     "iopub.status.busy": "2023-07-05T09:53:55.116518Z",
     "iopub.status.idle": "2023-07-05T09:53:56.102922Z",
     "shell.execute_reply": "2023-07-05T09:53:56.101969Z"
    }
   },
   "outputs": [],
   "source": [
    "if not pathlib.Path(\"protein.pdb\").is_file():\n",
    "    urllib.request.urlretrieve(\n",
    "        \"https://raw.githubusercontent.com/bayer-science-for-a-better-life/abfe-benchmark/a3b15632d2f419857e2ba73a6922de6f09a66caa/structures/brd4/protein.pdb\",\n",
    "        \"brd4.pdb\",\n",
    "    )\n",
    "\n",
    "protein = openmm.app.PDBFile(\"brd4.pdb\")\n",
    "amber_force_fields = openmm.app.ForceField(\"amber14-all.xml\", \"amber14/tip3pfb.xml\")\n",
    "\n",
    "openmm_system = amber_force_fields.createSystem(\n",
    "    topology=protein.topology,\n",
    "    nonbondedMethod=openmm.app.PME,\n",
    "    nonbondedCutoff=9.0 * openmm.unit.angstrom,\n",
    "    switchDistance=8.0 * openmm.unit.angstrom,\n",
    ")"
   ]
  },
  {
   "cell_type": "markdown",
   "id": "88ceb78e-3b7e-48fd-adad-dbb88be0775a",
   "metadata": {},
   "source": [
    "Then, load it into Interchange. Note that the topology mentioned here is an OpenMM topology, **not** an OpenFF one."
   ]
  },
  {
   "cell_type": "code",
   "execution_count": 4,
   "id": "d8e436d6-d06c-44c9-9239-3cf370dceff7",
   "metadata": {
    "execution": {
     "iopub.execute_input": "2023-07-05T09:53:56.107617Z",
     "iopub.status.busy": "2023-07-05T09:53:56.107340Z",
     "iopub.status.idle": "2023-07-05T09:54:07.475959Z",
     "shell.execute_reply": "2023-07-05T09:54:07.473016Z"
    }
   },
   "outputs": [],
   "source": [
    "converted_interchange = from_openmm(\n",
    "    topology=protein.topology,\n",
    "    system=openmm_system,\n",
    "    positions=ensure_quantity(protein.getPositions(), \"openff\"),\n",
    "    box_vectors=ensure_quantity(protein.topology.getPeriodicBoxVectors(), \"openff\"),\n",
    ")"
   ]
  },
  {
   "cell_type": "markdown",
   "id": "e65d562c",
   "metadata": {},
   "source": [
    "As a partial validation of `from_openmm`, we can compute the single-point energy of this configuration as generated by each code path. We use a high-level `get_openmm_energies` function that takes in only an `Interchange` object to get the energy of `converted_interchange` and a private `_get_openmm_energies` function to process the OpenMM objects generated by the OpenMM code path."
   ]
  },
  {
   "cell_type": "code",
   "execution_count": 5,
   "id": "08df6b00",
   "metadata": {
    "execution": {
     "iopub.execute_input": "2023-07-05T09:54:07.480252Z",
     "iopub.status.busy": "2023-07-05T09:54:07.479682Z",
     "iopub.status.idle": "2023-07-05T09:54:10.441027Z",
     "shell.execute_reply": "2023-07-05T09:54:10.440256Z"
    }
   },
   "outputs": [
    {
     "name": "stdout",
     "output_type": "stream",
     "text": [
      "Energies:\n",
      "\n",
      "Bond:          \t\t304.9486587565641 kilojoule / mole\n",
      "Angle:         \t\t1312.2520849070931 kilojoule / mole\n",
      "Torsion:       \t\t6807.246139787111 kilojoule / mole\n",
      "RBTorsion:     \t\tNone\n",
      "Nonbonded:     \t\t-18067.283489882066 kilojoule / mole\n",
      "vdW:           \t\tNone\n",
      "Electrostatics:\t\tNone\n",
      "\n"
     ]
    }
   ],
   "source": [
    "converted_energies = get_openmm_energies(\n",
    "    converted_interchange, combine_nonbonded_forces=True\n",
    ")\n",
    "print(converted_energies)"
   ]
  },
  {
   "cell_type": "code",
   "execution_count": 6,
   "id": "0134e35a",
   "metadata": {
    "execution": {
     "iopub.execute_input": "2023-07-05T09:54:10.447298Z",
     "iopub.status.busy": "2023-07-05T09:54:10.445879Z",
     "iopub.status.idle": "2023-07-05T09:54:11.105595Z",
     "shell.execute_reply": "2023-07-05T09:54:11.104727Z"
    }
   },
   "outputs": [
    {
     "name": "stdout",
     "output_type": "stream",
     "text": [
      "Energies:\n",
      "\n",
      "Bond:          \t\t304.9486587565641 kilojoule / mole\n",
      "Angle:         \t\t1312.2520849070931 kilojoule / mole\n",
      "Torsion:       \t\t6807.246139787111 kilojoule / mole\n",
      "RBTorsion:     \t\tNone\n",
      "Nonbonded:     \t\t-18140.846216543243 kilojoule / mole\n",
      "vdW:           \t\tNone\n",
      "Electrostatics:\t\tNone\n",
      "\n"
     ]
    }
   ],
   "source": [
    "(\n",
    "    reference_system,\n",
    "    reference_positions,\n",
    "    reference_box_vectors,\n",
    ") = openmm_pathway(protein, amber_force_fields)\n",
    "\n",
    "reference_energy = _process(\n",
    "    _get_openmm_energies(\n",
    "        system=reference_system,\n",
    "        positions=reference_positions,\n",
    "        box_vectors=reference_box_vectors,\n",
    "        round_positions=None,\n",
    "        platform=\"Reference\",\n",
    "    ),\n",
    "    system=reference_system,\n",
    "    combine_nonbonded_forces=True,\n",
    "    detailed=False,\n",
    ")\n",
    "\n",
    "print(reference_energy)"
   ]
  },
  {
   "cell_type": "markdown",
   "id": "1db210c9",
   "metadata": {},
   "source": [
    "The non-bonded energies differ slightly. It's not currently clear if this is due to difference in non-bonded settings or a subtle difference in the conversion of applied parameters. Energies from valence terms match to a high level of precision."
   ]
  }
 ],
 "metadata": {
  "category": "force_field_interop",
  "kernelspec": {
   "display_name": "Python 3 (ipykernel)",
   "language": "python",
   "name": "python3"
  },
  "language_info": {
   "codemirror_mode": {
    "name": "ipython",
    "version": 3
   },
   "file_extension": ".py",
   "mimetype": "text/x-python",
   "name": "python",
   "nbconvert_exporter": "python",
   "pygments_lexer": "ipython3",
   "version": "3.10.12"
  },
  "src_repo_tag": "v0.3.7",
  "vscode": {
   "interpreter": {
    "hash": "86c9b142c8dc60dd36d17e2a57efabbd2ed015b9d3db80dd77f3e0894d5aea85"
   }
  },
  "widgets": {
   "application/vnd.jupyter.widget-state+json": {
    "state": {
     "bcf592686ac74c1ea2abf428df431151": {
      "model_module": "nglview-js-widgets",
      "model_module_version": "3.0.6",
      "model_name": "ColormakerRegistryModel",
      "state": {
       "_dom_classes": [],
       "_model_module": "nglview-js-widgets",
       "_model_module_version": "3.0.6",
       "_model_name": "ColormakerRegistryModel",
       "_msg_ar": [],
       "_msg_q": [],
       "_ready": false,
       "_view_count": null,
       "_view_module": "nglview-js-widgets",
       "_view_module_version": "3.0.6",
       "_view_name": "ColormakerRegistryView",
       "layout": "IPY_MODEL_ddd6bfd6b7374977ba38d7449ca338e4",
       "tabbable": null,
       "tooltip": null
      }
     },
     "ddd6bfd6b7374977ba38d7449ca338e4": {
      "model_module": "@jupyter-widgets/base",
      "model_module_version": "2.0.0",
      "model_name": "LayoutModel",
      "state": {
       "_model_module": "@jupyter-widgets/base",
       "_model_module_version": "2.0.0",
       "_model_name": "LayoutModel",
       "_view_count": null,
       "_view_module": "@jupyter-widgets/base",
       "_view_module_version": "2.0.0",
       "_view_name": "LayoutView",
       "align_content": null,
       "align_items": null,
       "align_self": null,
       "border_bottom": null,
       "border_left": null,
       "border_right": null,
       "border_top": null,
       "bottom": null,
       "display": null,
       "flex": null,
       "flex_flow": null,
       "grid_area": null,
       "grid_auto_columns": null,
       "grid_auto_flow": null,
       "grid_auto_rows": null,
       "grid_column": null,
       "grid_gap": null,
       "grid_row": null,
       "grid_template_areas": null,
       "grid_template_columns": null,
       "grid_template_rows": null,
       "height": null,
       "justify_content": null,
       "justify_items": null,
       "left": null,
       "margin": null,
       "max_height": null,
       "max_width": null,
       "min_height": null,
       "min_width": null,
       "object_fit": null,
       "object_position": null,
       "order": null,
       "overflow": null,
       "padding": null,
       "right": null,
       "top": null,
       "visibility": null,
       "width": null
      }
     }
    },
    "version_major": 2,
    "version_minor": 0
   }
  }
 },
 "nbformat": 4,
 "nbformat_minor": 5
}
